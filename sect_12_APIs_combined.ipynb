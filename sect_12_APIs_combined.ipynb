{
 "cells": [
  {
   "cell_type": "markdown",
   "metadata": {
    "colab_type": "text",
    "id": "Vy-8aMhqN_hJ"
   },
   "source": [
    "# APIs (Application Programming Interfaces)"
   ]
  },
  {
   "cell_type": "markdown",
   "metadata": {
    "colab_type": "text",
    "id": "EYdqUG9UN_hL"
   },
   "source": [
    "## Learing Objectives:\n",
    "- Describe what an API is and provide examples.\n",
    "- Practice Accessing an API as a group.\n",
    "- Split into breakout rooms for a pair-programming API activity.\n",
    "\n",
    "\n"
   ]
  },
  {
   "cell_type": "code",
   "execution_count": 1,
   "metadata": {},
   "outputs": [
    {
     "name": "stdout",
     "output_type": "stream",
     "text": [
      "fsds_1007219  v0.4.45 loaded.  Read the docs: https://fsds.readthedocs.io/en/latest/ \n"
     ]
    },
    {
     "data": {
      "text/html": [
       "<style  type=\"text/css\" >\n",
       "</style><table id=\"T_e7ab8c9e_1d2e_11ea_b2ab_acde48001122\" ><caption>Loaded Packages and Handles</caption><thead>    <tr>        <th class=\"col_heading level0 col0\" >Handle</th>        <th class=\"col_heading level0 col1\" >Package</th>        <th class=\"col_heading level0 col2\" >Description</th>    </tr></thead><tbody>\n",
       "                <tr>\n",
       "                                <td id=\"T_e7ab8c9e_1d2e_11ea_b2ab_acde48001122row0_col0\" class=\"data row0 col0\" >dp</td>\n",
       "                        <td id=\"T_e7ab8c9e_1d2e_11ea_b2ab_acde48001122row0_col1\" class=\"data row0 col1\" >IPython.display</td>\n",
       "                        <td id=\"T_e7ab8c9e_1d2e_11ea_b2ab_acde48001122row0_col2\" class=\"data row0 col2\" >Display modules with helpful display and clearing commands.</td>\n",
       "            </tr>\n",
       "            <tr>\n",
       "                                <td id=\"T_e7ab8c9e_1d2e_11ea_b2ab_acde48001122row1_col0\" class=\"data row1 col0\" >fs</td>\n",
       "                        <td id=\"T_e7ab8c9e_1d2e_11ea_b2ab_acde48001122row1_col1\" class=\"data row1 col1\" >fsds_100719</td>\n",
       "                        <td id=\"T_e7ab8c9e_1d2e_11ea_b2ab_acde48001122row1_col2\" class=\"data row1 col2\" >Custom data science bootcamp student package</td>\n",
       "            </tr>\n",
       "            <tr>\n",
       "                                <td id=\"T_e7ab8c9e_1d2e_11ea_b2ab_acde48001122row2_col0\" class=\"data row2 col0\" >mpl</td>\n",
       "                        <td id=\"T_e7ab8c9e_1d2e_11ea_b2ab_acde48001122row2_col1\" class=\"data row2 col1\" >matplotlib</td>\n",
       "                        <td id=\"T_e7ab8c9e_1d2e_11ea_b2ab_acde48001122row2_col2\" class=\"data row2 col2\" >Matplotlib's base OOP module with formatting artists</td>\n",
       "            </tr>\n",
       "            <tr>\n",
       "                                <td id=\"T_e7ab8c9e_1d2e_11ea_b2ab_acde48001122row3_col0\" class=\"data row3 col0\" >plt</td>\n",
       "                        <td id=\"T_e7ab8c9e_1d2e_11ea_b2ab_acde48001122row3_col1\" class=\"data row3 col1\" >matplotlib.pyplot</td>\n",
       "                        <td id=\"T_e7ab8c9e_1d2e_11ea_b2ab_acde48001122row3_col2\" class=\"data row3 col2\" >Matplotlib's matlab-like plotting module</td>\n",
       "            </tr>\n",
       "            <tr>\n",
       "                                <td id=\"T_e7ab8c9e_1d2e_11ea_b2ab_acde48001122row4_col0\" class=\"data row4 col0\" >np</td>\n",
       "                        <td id=\"T_e7ab8c9e_1d2e_11ea_b2ab_acde48001122row4_col1\" class=\"data row4 col1\" >numpy</td>\n",
       "                        <td id=\"T_e7ab8c9e_1d2e_11ea_b2ab_acde48001122row4_col2\" class=\"data row4 col2\" >scientific computing with Python</td>\n",
       "            </tr>\n",
       "            <tr>\n",
       "                                <td id=\"T_e7ab8c9e_1d2e_11ea_b2ab_acde48001122row5_col0\" class=\"data row5 col0\" >pd</td>\n",
       "                        <td id=\"T_e7ab8c9e_1d2e_11ea_b2ab_acde48001122row5_col1\" class=\"data row5 col1\" >pandas</td>\n",
       "                        <td id=\"T_e7ab8c9e_1d2e_11ea_b2ab_acde48001122row5_col2\" class=\"data row5 col2\" >High performance data structures and tools</td>\n",
       "            </tr>\n",
       "            <tr>\n",
       "                                <td id=\"T_e7ab8c9e_1d2e_11ea_b2ab_acde48001122row6_col0\" class=\"data row6 col0\" >sns</td>\n",
       "                        <td id=\"T_e7ab8c9e_1d2e_11ea_b2ab_acde48001122row6_col1\" class=\"data row6 col1\" >seaborn</td>\n",
       "                        <td id=\"T_e7ab8c9e_1d2e_11ea_b2ab_acde48001122row6_col2\" class=\"data row6 col2\" >High-level data visualization library based on matplotlib</td>\n",
       "            </tr>\n",
       "    </tbody></table>"
      ],
      "text/plain": [
       "<pandas.io.formats.style.Styler at 0x11f09fc88>"
      ]
     },
     "metadata": {},
     "output_type": "display_data"
    }
   ],
   "source": [
    "!pip install -U fsds_100719 \n",
    "from fsds_100719.imports import *"
   ]
  },
  {
   "cell_type": "markdown",
   "metadata": {
    "colab_type": "text",
    "id": "qnSfTETGua6T"
   },
   "source": [
    "## REFERENCES\n",
    "- Postman Software as demo'd by Rafael at the End of Class\n",
    "    - www.getpostman.com\n",
    "- [Shared Google Drive foler containing this notebook and the student activity.](https://drive.google.com/open?id=1AnCg6j87sU8C-93eB2ba-rZ7qZ9-kJz9)"
   ]
  },
  {
   "cell_type": "markdown",
   "metadata": {
    "colab_type": "text",
    "id": "MGgqaDOQN_hM"
   },
   "source": [
    "## Think Communication"
   ]
  },
  {
   "cell_type": "markdown",
   "metadata": {
    "colab_type": "text",
    "id": "bz-yS8FKN_hN"
   },
   "source": [
    "Application to another application:\n",
    "* Send request (with some info/data)\n",
    "* Get response\n",
    "    + data\n",
    "    + service\n",
    "\n",
    "\n",
    "Examples include:\n",
    "\n",
    "- Financial transactions\n",
    "- Posting to Twitter\n",
    "- Controlling IOT\n",
    "\n",
    "Always a software-to-software interaction\n",
    "\n",
    "Typical way of getting data (usually JSON or XML)"
   ]
  },
  {
   "cell_type": "markdown",
   "metadata": {
    "colab_type": "text",
    "id": "foPQcGlbA6yk"
   },
   "source": [
    "## Parts of an API\n"
   ]
  },
  {
   "cell_type": "markdown",
   "metadata": {
    "colab_type": "text",
    "id": "NyqibRImNJVo"
   },
   "source": [
    "\n",
    "* **Access Permissions**\n",
    "    + User allowed to ask?\n",
    "    \n",
    "* **API Call/Request**\n",
    "    + Code used to make API call to implement complicated tasks/features\n",
    "    + _Methods_: what questions can we ask?\n",
    "    + _Parameters_: more info to be sent\n",
    "    \n",
    "* **Repsonse**\n",
    "    + Result of request"
   ]
  },
  {
   "cell_type": "markdown",
   "metadata": {
    "colab_type": "text",
    "id": "Nwqih7_-R4r6"
   },
   "source": [
    "<!-- <img src='https://raw.githubusercontent.com/matthewsparr/Data-Science-Lessons/master/Mod%202/APIs/raven.jpg' width=500> -->\n",
    "\n",
    "\n",
    "\n",
    "<img src=\"https://raw.githubusercontent.com/learn-co-students/dsc-introduction-to-apis-online-ds-ft-100719/master/images/new_api4.png\" width=600>"
   ]
  },
  {
   "cell_type": "markdown",
   "metadata": {
    "colab_type": "text",
    "id": "IP2P6APINJVp"
   },
   "source": [
    "## API Types\n"
   ]
  },
  {
   "cell_type": "markdown",
   "metadata": {
    "colab_type": "text",
    "id": "7dapuN6qNJVp"
   },
   "source": [
    "### Web\n",
    "\n",
    "\n",
    "Interface can work at both server or client end\n",
    "\n",
    "Examples:\n",
    "* [Twitter REST API](https://developer.twitter.com/en/docs.html)\n",
    "* [Amazon S3 REST API](https://docs.aws.amazon.com/AmazonS3/latest/API/Welcome.html)"
   ]
  },
  {
   "cell_type": "markdown",
   "metadata": {
    "colab_type": "text",
    "id": "DJ4fjzfvNJVq"
   },
   "source": [
    "### Databases\n",
    "\n",
    "* Pass back data in specific format\n",
    "* Generalizable"
   ]
  },
  {
   "cell_type": "markdown",
   "metadata": {
    "colab_type": "text",
    "id": "FdkjxFlPNJVq"
   },
   "source": [
    "### Operating Systems\n",
    "\n",
    "* Including the services requested from the OS"
   ]
  },
  {
   "cell_type": "markdown",
   "metadata": {
    "colab_type": "text",
    "id": "5oQhqkPgNJVr"
   },
   "source": [
    "## Client - Server Model"
   ]
  },
  {
   "cell_type": "markdown",
   "metadata": {
    "colab_type": "text",
    "id": "_ZdrDTOiNJVs"
   },
   "source": [
    "<img src=\"https://raw.githubusercontent.com/learn-co-students/dsc-introduction-to-apis-online-ds-ft-100719/master/images/new_client-server-illustration.png\" width=400>\n",
    "\n",
    "Distributed architecture:\n",
    "1. Servers: provide a service\n",
    "    - Usually physically separate from clinet\n",
    "2. Clients: request a service\n",
    "    - hardware or software"
   ]
  },
  {
   "cell_type": "markdown",
   "metadata": {
    "colab_type": "text",
    "id": "A-ugb_H_NJVs"
   },
   "source": [
    "### Client\n",
    "\n",
    "**Web Example**\n",
    "\n",
    "Defines what user sees, so it must:\n",
    "  + Define the page visuals\n",
    "  + Methods for responding to user interactions"
   ]
  },
  {
   "cell_type": "markdown",
   "metadata": {
    "colab_type": "text",
    "id": "2MPwANC0NJVt"
   },
   "source": [
    "### Server\n",
    "\n",
    "**Web Example**\n",
    "\n",
    "Listens to requests (through HTTP):\n",
    "1. Authenticates client/user\n",
    "2. Looks at requests\n",
    "3. Performs actions/processes needed\n",
    "4. Sends response to client (possibly with more data)"
   ]
  },
  {
   "cell_type": "markdown",
   "metadata": {
    "colab_type": "text",
    "id": "rfY6oBNuNJVu"
   },
   "source": [
    "### Databases\n",
    "\n",
    "Can be called from the server to get data for the client"
   ]
  },
  {
   "cell_type": "markdown",
   "metadata": {
    "colab_type": "text",
    "id": "wnNHFToVN_hb"
   },
   "source": [
    "# HTTP Requests"
   ]
  },
  {
   "cell_type": "markdown",
   "metadata": {
    "colab_type": "text",
    "id": "vxbCCFqyN_hb"
   },
   "source": [
    "Specific formatting to make a proper request.\n",
    "\n",
    "Libraries `urllib` & `urllib2` can be complicated 😕"
   ]
  },
  {
   "cell_type": "markdown",
   "metadata": {
    "colab_type": "text",
    "id": "MsEURztzN_hc"
   },
   "source": [
    "## Code Example"
   ]
  },
  {
   "cell_type": "markdown",
   "metadata": {
    "colab_type": "text",
    "id": "43q1-sT8N_hd"
   },
   "source": [
    "We can use `requests` library to get web page form data, files, and parameters more easily."
   ]
  },
  {
   "cell_type": "code",
   "execution_count": 2,
   "metadata": {
    "ExecuteTime": {
     "end_time": "2019-09-13T17:29:00.774851Z",
     "start_time": "2019-09-13T17:29:00.614789Z"
    },
    "colab": {},
    "colab_type": "code",
    "id": "vjHy47i5N_hd"
   },
   "outputs": [],
   "source": [
    "import requests"
   ]
  },
  {
   "cell_type": "code",
   "execution_count": 3,
   "metadata": {
    "ExecuteTime": {
     "end_time": "2019-09-13T17:29:15.174869Z",
     "start_time": "2019-09-13T17:29:14.864075Z"
    },
    "colab": {},
    "colab_type": "code",
    "id": "HzhOuPHtN_hf"
   },
   "outputs": [],
   "source": [
    "# Getting the response from our request \n",
    "resp = requests.get('https://www.google.com')"
   ]
  },
  {
   "cell_type": "code",
   "execution_count": 4,
   "metadata": {
    "ExecuteTime": {
     "end_time": "2019-09-13T17:29:33.331808Z",
     "start_time": "2019-09-13T17:29:33.328265Z"
    },
    "colab": {
     "base_uri": "https://localhost:8080/",
     "height": 34
    },
    "colab_type": "code",
    "id": "AuCUgPPxN_hi",
    "outputId": "83bd88ad-2ca0-49fb-f727-efc7059f9000"
   },
   "outputs": [
    {
     "data": {
      "text/plain": [
       "requests.models.Response"
      ]
     },
     "execution_count": 4,
     "metadata": {},
     "output_type": "execute_result"
    }
   ],
   "source": [
    "type(resp)"
   ]
  },
  {
   "cell_type": "code",
   "execution_count": 5,
   "metadata": {
    "colab": {
     "base_uri": "https://localhost:8080/",
     "height": 34
    },
    "colab_type": "code",
    "id": "Hiwv6-vEkLJ-",
    "outputId": "35fdc8dc-6815-4c54-c067-1bf1a782fcaf"
   },
   "outputs": [
    {
     "data": {
      "text/plain": [
       "200"
      ]
     },
     "execution_count": 5,
     "metadata": {},
     "output_type": "execute_result"
    }
   ],
   "source": [
    "requests.codes.ok"
   ]
  },
  {
   "cell_type": "code",
   "execution_count": 6,
   "metadata": {
    "ExecuteTime": {
     "end_time": "2019-09-13T17:30:00.660255Z",
     "start_time": "2019-09-13T17:30:00.657403Z"
    },
    "colab": {
     "base_uri": "https://localhost:8080/",
     "height": 51
    },
    "colab_type": "code",
    "id": "5iqt4HliN_hk",
    "outputId": "1808a4ec-950f-49c7-bb92-2e7dd7cf17bc"
   },
   "outputs": [
    {
     "name": "stdout",
     "output_type": "stream",
     "text": [
      "Response Code: 200\n",
      "Is it OK? True\n"
     ]
    }
   ],
   "source": [
    "print('Response Code:',resp.status_code)\n",
    "print('Is it OK?',resp.status_code == requests.codes.ok)"
   ]
  },
  {
   "cell_type": "markdown",
   "metadata": {
    "colab_type": "text",
    "id": "VAaZI3grN_hm"
   },
   "source": [
    "### Parts of the response"
   ]
  },
  {
   "cell_type": "code",
   "execution_count": 7,
   "metadata": {
    "ExecuteTime": {
     "end_time": "2019-09-13T17:30:23.130725Z",
     "start_time": "2019-09-13T17:30:23.128519Z"
    },
    "colab": {
     "base_uri": "https://localhost:8080/",
     "height": 190
    },
    "colab_type": "code",
    "id": "mnT_8aQRN_hm",
    "outputId": "99afd10b-bf97-44c9-a93f-bce9d8838101",
    "scrolled": true
   },
   "outputs": [
    {
     "name": "stdout",
     "output_type": "stream",
     "text": [
      "('<!doctype html><html itemscope=\"\" itemtype=\"http://schema.org/WebPage\" '\n",
      " 'lang=\"en\"><head><meta content=\"Search the world\\'s information, including '\n",
      " 'webpages, images, videos and more. Google has many special features to help '\n",
      " 'you find exactly what you\\'re looking for.\" name=\"description\"><meta '\n",
      " 'content=\"noodp\" name=\"robots\"><meta content=\"text/html; charset=UTF-8\" '\n",
      " 'http-equiv=\"Content-Type\"><meta '\n",
      " 'content=\"/images/branding/googleg/1x/googleg_standard_color_128dp.png\" '\n",
      " 'itemprop=\"image\"><title>Google</title><script '\n",
      " 'nonce=\"rjR5pRFXm5VH1JRxXsFsag==\">(function(){window.google={kEI:\\'XL_yXYWXFsKD5wLoybqQDQ\\',kEXPI:\\'0,18168,1335578,5663,730,224,756,3970,378,207,2955,249,10,713,338,175,364,1154,3,278,4,60,308,7,411,16,127,81,10,399,190,1128879,143,1197765,384,329118,1294,10193,2190,4855,32692,15247,867,18544,3335,2,2,6801,369,3314,5505,8384,1119,2,204,375,727,2432,1361,284,4039,4968,773,2250,1407,3337,1146,9,1967,6192,1714,1,1812,1976,2044,5766,1,3143,693,1202,3401,2016,38,920,2090,2382,593,2736,1558,2136,')\n"
     ]
    }
   ],
   "source": [
    "# Full HTML doc\n",
    "from pprint import pprint\n",
    "# print(resp.text[:1000])\n",
    "\n",
    "pprint(resp.text[:1000])"
   ]
  },
  {
   "cell_type": "code",
   "execution_count": 8,
   "metadata": {
    "ExecuteTime": {
     "end_time": "2019-09-13T17:31:08.256553Z",
     "start_time": "2019-09-13T17:31:08.251794Z"
    },
    "colab": {
     "base_uri": "https://localhost:8080/",
     "height": 54
    },
    "colab_type": "code",
    "id": "NEqo8d4JN_ho",
    "outputId": "81716f19-65ce-4cd4-ba59-1da00704a66a"
   },
   "outputs": [
    {
     "name": "stdout",
     "output_type": "stream",
     "text": [
      "{'Date': 'Thu, 12 Dec 2019 22:29:48 GMT', 'Expires': '-1', 'Cache-Control': 'private, max-age=0', 'Content-Type': 'text/html; charset=ISO-8859-1', 'P3P': 'CP=\"This is not a P3P policy! See g.co/p3phelp for more info.\"', 'Content-Encoding': 'gzip', 'Server': 'gws', 'X-XSS-Protection': '0', 'X-Frame-Options': 'SAMEORIGIN', 'Set-Cookie': '1P_JAR=2019-12-12-22; expires=Sat, 11-Jan-2020 22:29:48 GMT; path=/; domain=.google.com, NID=193=gUeja5BgWdmhdcAreKDRXUD0Ofpm_3y4wDANkad6psfvibK-tMgONj-AgpE0XOY_wvD8Rxaf4RDBO1hXsMxi24SKIlTrQe5qXW48flaMi7dcPBxpDQfsDDvRuB7V4_38UqCr6EOZa2mdzSxqX8JeGVV3p0Mr9aqx7uHHz8Ye_ZQ; expires=Fri, 12-Jun-2020 22:29:48 GMT; path=/; domain=.google.com; HttpOnly', 'Alt-Svc': 'quic=\":443\"; ma=2592000; v=\"46,43\",h3-Q050=\":443\"; ma=2592000,h3-Q049=\":443\"; ma=2592000,h3-Q048=\":443\"; ma=2592000,h3-Q046=\":443\"; ma=2592000,h3-Q043=\":443\"; ma=2592000', 'Transfer-Encoding': 'chunked'}\n"
     ]
    }
   ],
   "source": [
    "pprint(resp.headers)\n",
    "# Convert to a dicitonary from `requests.structures.CaseInsensitiveDict`\n",
    "headers = dict(resp.headers)"
   ]
  },
  {
   "cell_type": "code",
   "execution_count": 9,
   "metadata": {
    "ExecuteTime": {
     "end_time": "2019-09-13T17:31:42.167703Z",
     "start_time": "2019-09-13T17:31:42.165383Z"
    },
    "colab": {
     "base_uri": "https://localhost:8080/",
     "height": 51
    },
    "colab_type": "code",
    "id": "HsL7YLg-N_hq",
    "outputId": "5656e2be-1afc-4837-b378-60cc3ab720f0",
    "scrolled": true
   },
   "outputs": [
    {
     "name": "stdout",
     "output_type": "stream",
     "text": [
      "Thu, 12 Dec 2019 22:29:48 GMT\n",
      "gws\n"
     ]
    }
   ],
   "source": [
    "print(headers['Date'])   # Date the response was sent\n",
    "print(headers['Server']) # Server type (google web service - GWS)"
   ]
  },
  {
   "cell_type": "markdown",
   "metadata": {
    "colab_type": "text",
    "id": "CS9U7LkdN_hs"
   },
   "source": [
    "### Passing Parameters"
   ]
  },
  {
   "cell_type": "code",
   "execution_count": 10,
   "metadata": {
    "ExecuteTime": {
     "end_time": "2019-09-13T17:34:30.406768Z",
     "start_time": "2019-09-13T17:34:30.226803Z"
    },
    "colab": {
     "base_uri": "https://localhost:8080/",
     "height": 153
    },
    "colab_type": "code",
    "id": "2s8ZFBkFN_hs",
    "outputId": "1b267813-0be9-42e9-9374-553f36028052"
   },
   "outputs": [
    {
     "name": "stdout",
     "output_type": "stream",
     "text": [
      "http://httpbin.org/get?user_name=luigi&password=i%3C3peach\n"
     ]
    },
    {
     "data": {
      "text/plain": [
       "{'args': {'password': 'i<3peach', 'user_name': 'luigi'},\n",
       " 'headers': {'Accept': '*/*',\n",
       "  'Accept-Encoding': 'gzip, deflate',\n",
       "  'Host': 'httpbin.org',\n",
       "  'User-Agent': 'python-requests/2.22.0'},\n",
       " 'origin': None,\n",
       " 'url': 'https://httpbin.org/get?user_name=luigi&password=i<3peach'}"
      ]
     },
     "metadata": {},
     "output_type": "display_data"
    }
   ],
   "source": [
    "credentials = {'user_name': 'luigi', 'password': 'i<3peach'}  \n",
    "r = requests.get('http://httpbin.org/get', params=credentials)\n",
    "\n",
    "# Note we can only do this since the r.text() is JSON format\n",
    "results = r.json()\n",
    "# Don't want my IP floating around 😉\n",
    "results['origin'] = None\n",
    "\n",
    "print(r.url)  \n",
    "display(results)"
   ]
  },
  {
   "cell_type": "markdown",
   "metadata": {
    "colab_type": "text",
    "id": "m044qD5_N_hu"
   },
   "source": [
    "### HTTP Post"
   ]
  },
  {
   "cell_type": "markdown",
   "metadata": {
    "colab_type": "text",
    "id": "iTuV2zPAN_hv"
   },
   "source": [
    "Allows multiples be sent at once "
   ]
  },
  {
   "cell_type": "code",
   "execution_count": null,
   "metadata": {
    "ExecuteTime": {
     "end_time": "2019-09-13T17:35:34.051364Z",
     "start_time": "2019-09-13T17:35:33.529393Z"
    },
    "colab": {
     "base_uri": "https://localhost:8080/",
     "height": 377
    },
    "colab_type": "code",
    "id": "znvXyRq3N_hv",
    "outputId": "e23df431-d5e4-45d0-9985-5905fb8a1381"
   },
   "outputs": [],
   "source": [
    "# Example won't run without example files\n",
    "filepath_cat = '/content/drive/My Drive/Colab Notebooks/Study Groups/Mod 2/section_12/sect_12_students/cat.png'\n",
    "filepath_dog = '/content/drive/My Drive/Colab Notebooks/Study Groups/Mod 2/section_12/sect_12_students/dog.jpg'\n",
    "\n",
    "url = 'http://httpbin.org/post'  \n",
    "file_list = [  \n",
    "    # ('image', ('cat.png', open('cat.png', 'rb'), 'image/png')),\n",
    "    # ('image', ('dog.jpg', open('dog.jpg', 'rb'), 'image/jpg'))\n",
    "\n",
    "    ('image', ('cat.png', open(filepath_cat, 'rb'), 'image/png')),\n",
    "    ('image', ('dog.jpg', open(filepath_dog, 'rb'), 'image/jpg'))\n",
    "]\n",
    "\n",
    "r = requests.post(url, files=file_list)  \n",
    "print(r.text)"
   ]
  },
  {
   "cell_type": "markdown",
   "metadata": {
    "colab_type": "text",
    "id": "04gDQd0ZN_hx"
   },
   "source": [
    "# OAuth (Open Authorization)"
   ]
  },
  {
   "cell_type": "markdown",
   "metadata": {
    "colab_type": "text",
    "id": "cvSeBVOkN_hy"
   },
   "source": [
    "Avoid abuse by limiting.\n",
    "\n",
    "Usually we can use personal access tokens (typical for development).\n",
    "But with large number of authentication, OAuth is most common"
   ]
  },
  {
   "cell_type": "markdown",
   "metadata": {
    "colab_type": "text",
    "id": "-K_5Etq8N_hy"
   },
   "source": [
    "1. Get credentials & authorize application (before OAuth)\n",
    "2. **Authorize** permissions requested\n",
    "3. **Redirect** use back w/ authorization code\n",
    "4. **Aquisition** user \"recieves\" access token\n",
    "\n",
    "Check out curriculum for full details"
   ]
  },
  {
   "cell_type": "markdown",
   "metadata": {
    "colab_type": "text",
    "id": "uYL_d1AmN_hz"
   },
   "source": [
    "## Why use OAuth?"
   ]
  },
  {
   "cell_type": "markdown",
   "metadata": {
    "colab_type": "text",
    "id": "Rb8dBM_uN_h0"
   },
   "source": [
    "Alternative is essentially a username & password (API key & secret)\n",
    "\n",
    "Allows access without user password:\n",
    "**Authentication** separated from **Authorization**"
   ]
  },
  {
   "cell_type": "markdown",
   "metadata": {
    "colab": {},
    "colab_type": "code",
    "id": "Yu9cV0_XN_iH"
   },
   "source": [
    "# Code from Learn.co\n"
   ]
  },
  {
   "cell_type": "markdown",
   "metadata": {},
   "source": [
    "- [Yelp API Lab](https://learn.co/tracks/data-science-career-v2/module-2-data-engineering-for-data-science/section-12-accessing-data-through-apis/yelp-api-lab)\n",
    "\n",
    "- Let's discuss pagination"
   ]
  },
  {
   "cell_type": "code",
   "execution_count": 13,
   "metadata": {
    "colab": {},
    "colab_type": "code",
    "id": "WJiDwZorZIZa"
   },
   "outputs": [],
   "source": [
    "def yelp_call(url_params, api_key):\n",
    "    url = 'https://api.yelp.com/v3/businesses/search'\n",
    "    headers = {'Authorization': 'Bearer {}'.format(api_key)}\n",
    "    response = requests.get(url, headers=headers, params=url_params)\n",
    "    \n",
    "    df = pd.DataFrame(response.json()['businesses'])\n",
    "    return df\n",
    "\n",
    "def all_results(url_params, api_key):\n",
    "    num = response.json()['total']\n",
    "    print('{} total matches found.'.format(num))\n",
    "    cur = 0\n",
    "    dfs = []\n",
    "    while cur < num and cur < 1000:\n",
    "        url_params['offset'] = cur\n",
    "        dfs.append(yelp_call(url_params, api_key))\n",
    "        time.sleep(1) #Wait a second\n",
    "        cur += 50\n",
    "    df = pd.concat(dfs, ignore_index=True)\n",
    "    return df\n",
    "\n",
    "# term = 'pizza'\n",
    "# location = 'Phoenix AZ'\n",
    "# url_params = {  'term': term.replace(' ', '+'),\n",
    "#                 'location': location.replace(' ', '+'),\n",
    "#                 'limit' : 50\n",
    "#              }\n",
    "# df = all_results(url_params, api_key)\n",
    "# print(len(df))\n",
    "# df.head()"
   ]
  },
  {
   "cell_type": "markdown",
   "metadata": {
    "colab_type": "text",
    "id": "i991QICdN_h1"
   },
   "source": [
    "# Example Using An API"
   ]
  },
  {
   "cell_type": "markdown",
   "metadata": {},
   "source": [
    "- **Group Activity - Genius Song Lyric API**\n",
    "- Repo Folder/`Student Activities/API_Activity_Students.ipynb`"
   ]
  },
  {
   "cell_type": "markdown",
   "metadata": {
    "colab_type": "text",
    "heading_collapsed": true,
    "id": "1mPUNcw-N_h1"
   },
   "source": [
    "## LIFX API"
   ]
  },
  {
   "cell_type": "markdown",
   "metadata": {
    "colab_type": "text",
    "hidden": true,
    "id": "7g-41OuWN_h2"
   },
   "source": [
    "Documentation: https://api.developer.lifx.com/"
   ]
  },
  {
   "cell_type": "code",
   "execution_count": null,
   "metadata": {
    "ExecuteTime": {
     "end_time": "2019-06-20T22:41:25.919727Z",
     "start_time": "2019-06-20T22:41:25.916123Z"
    },
    "colab": {},
    "colab_type": "code",
    "hidden": true,
    "id": "GiHBV5VkN_h3"
   },
   "outputs": [],
   "source": [
    "import requests\n",
    "import json\n",
    "import pandas as pd"
   ]
  },
  {
   "cell_type": "code",
   "execution_count": null,
   "metadata": {
    "colab": {},
    "colab_type": "code",
    "hidden": true,
    "id": "O02qqE9lN_h5"
   },
   "outputs": [],
   "source": [
    "tokens = {\n",
    "        'lifx' : {\n",
    "            'token_name': 'Lifx',\n",
    "            'token': 'c33cf42e79aaf8afc8b647e13b07ff9fe668587c41c722ae6896462f835190ab',\n",
    "        }\n",
    "}"
   ]
  },
  {
   "cell_type": "code",
   "execution_count": null,
   "metadata": {
    "ExecuteTime": {
     "end_time": "2019-06-20T22:41:46.177401Z",
     "start_time": "2019-06-20T22:41:45.179862Z"
    },
    "colab": {},
    "colab_type": "code",
    "hidden": true,
    "id": "IlZ4D2ZgN_h8"
   },
   "outputs": [],
   "source": [
    "# Specific to today\n",
    "token = tokens['lifx']['token']\n",
    "\n",
    "headers = {\n",
    "    \"Authorization\": \"Bearer %s\" % token,\n",
    "}\n",
    "\n",
    "response = requests.get('https://api.lifx.com/v1/lights/all', headers=headers)"
   ]
  },
  {
   "cell_type": "code",
   "execution_count": null,
   "metadata": {
    "ExecuteTime": {
     "end_time": "2019-06-20T22:42:00.942580Z",
     "start_time": "2019-06-20T22:42:00.932151Z"
    },
    "colab": {
     "base_uri": "https://localhost:8080/",
     "height": 799
    },
    "colab_type": "code",
    "hidden": true,
    "id": "uJUyj6oQN_h9",
    "outputId": "df3277c8-549a-4dab-f612-d7cb190d8001",
    "scrolled": true
   },
   "outputs": [],
   "source": [
    "lights = response.json()\n",
    "display(lights)"
   ]
  },
  {
   "cell_type": "code",
   "execution_count": null,
   "metadata": {
    "ExecuteTime": {
     "end_time": "2019-06-20T22:43:51.419665Z",
     "start_time": "2019-06-20T22:43:51.044401Z"
    },
    "colab": {
     "base_uri": "https://localhost:8080/",
     "height": 267
    },
    "colab_type": "code",
    "hidden": true,
    "id": "2yxgFX2fN_h_",
    "outputId": "7d59aa06-b500-4ad5-bd23-a057581cee3b"
   },
   "outputs": [],
   "source": [
    "pd.DataFrame.from_dict(lights)"
   ]
  },
  {
   "cell_type": "code",
   "execution_count": null,
   "metadata": {
    "ExecuteTime": {
     "end_time": "2019-06-20T22:44:49.614039Z",
     "start_time": "2019-06-20T22:44:49.611702Z"
    },
    "colab": {
     "base_uri": "https://localhost:8080/",
     "height": 51
    },
    "colab_type": "code",
    "hidden": true,
    "id": "t4nKJVWCN_iA",
    "outputId": "e98b4335-ae56-465d-ffca-6c9a21a82b68",
    "scrolled": true
   },
   "outputs": [],
   "source": [
    "for light in lights:\n",
    "    print(light['label'])"
   ]
  },
  {
   "cell_type": "markdown",
   "metadata": {
    "ExecuteTime": {
     "end_time": "2019-05-28T16:41:16.709260Z",
     "start_time": "2019-05-28T16:41:16.346170Z"
    },
    "colab_type": "text",
    "hidden": true,
    "id": "5oAs0s72N_iB"
   },
   "source": [
    "### Power On"
   ]
  },
  {
   "cell_type": "code",
   "execution_count": null,
   "metadata": {
    "ExecuteTime": {
     "end_time": "2019-06-20T22:45:33.691294Z",
     "start_time": "2019-06-20T22:45:31.796663Z"
    },
    "colab": {
     "base_uri": "https://localhost:8080/",
     "height": 85
    },
    "colab_type": "code",
    "hidden": true,
    "id": "6aT_Qul-N_iC",
    "outputId": "efa7e989-5cb4-45df-c68c-24cff651c370"
   },
   "outputs": [],
   "source": [
    "payload = {\n",
    "  \"states\": [\n",
    "    {\n",
    "        \"selector\" : str(lights[1]['id']),\n",
    "        \"power\": \"on\"\n",
    "    }\n",
    "  ]\n",
    "}\n",
    "response = requests.put('https://api.lifx.com/v1/lights/states', data=json.dumps(payload), headers=headers)\n",
    "pprint(response.content)"
   ]
  },
  {
   "cell_type": "markdown",
   "metadata": {
    "colab_type": "text",
    "hidden": true,
    "id": "pIdUi-ogN_iD"
   },
   "source": [
    "### Power On w/ Color"
   ]
  },
  {
   "cell_type": "code",
   "execution_count": null,
   "metadata": {
    "ExecuteTime": {
     "end_time": "2019-06-20T22:51:52.546412Z",
     "start_time": "2019-06-20T22:51:50.716415Z"
    },
    "colab": {
     "base_uri": "https://localhost:8080/",
     "height": 54
    },
    "colab_type": "code",
    "hidden": true,
    "id": "9n22yyszN_iE",
    "outputId": "5a395dba-abac-4215-fc36-d2cdf8995a3b"
   },
   "outputs": [],
   "source": [
    "# payload = {\n",
    "#   \"states\": [\n",
    "#     {\n",
    "#         \"selector\" : str(lights[1]['id']),\n",
    "#             \"period\": 2,\n",
    "#             \"cycles\": 5,\n",
    "#             \"color\": \"blue\",\n",
    "#             \"brightness\": 0.5\n",
    "#     }\n",
    "#   ],\n",
    "#   \"defaults\": {\n",
    "#     \"power\": \"on\",\n",
    "#     \"saturation\": 0,\n",
    "#     \"duration\": 2.0\n",
    "\n",
    "# }\n",
    "\n",
    "# }\n",
    "\n",
    "# response = requests.put('https://api.lifx.com/v1/lights/states', data=json.dumps(payload), headers=headers)\n",
    "# print(response.content)"
   ]
  },
  {
   "cell_type": "markdown",
   "metadata": {
    "colab_type": "text",
    "hidden": true,
    "id": "ip6unFjuN_iF"
   },
   "source": [
    "### Power Off"
   ]
  },
  {
   "cell_type": "code",
   "execution_count": null,
   "metadata": {
    "ExecuteTime": {
     "end_time": "2019-06-20T22:46:40.911154Z",
     "start_time": "2019-06-20T22:46:38.788945Z"
    },
    "colab": {},
    "colab_type": "code",
    "hidden": true,
    "id": "vXYrpdi7N_iG"
   },
   "outputs": [],
   "source": [
    "payload = {\n",
    "  \"states\": [\n",
    "    {\n",
    "        \"selector\" : str(lights[1]['id']),\n",
    "        \"power\": \"off\"\n",
    "    }\n",
    "  ]\n",
    "}\n",
    "\n",
    "response = requests.put('https://api.lifx.com/v1/lights/states', data=json.dumps(payload), headers=headers)\n",
    "print(response.content)"
   ]
  }
 ],
 "metadata": {
  "colab": {
   "collapsed_sections": [],
   "include_colab_link": true,
   "name": "sect_12_APIs_combined.ipynb",
   "provenance": [],
   "toc_visible": true
  },
  "kernelspec": {
   "display_name": "Python 3",
   "language": "python",
   "name": "python3"
  },
  "language_info": {
   "codemirror_mode": {
    "name": "ipython",
    "version": 3
   },
   "file_extension": ".py",
   "mimetype": "text/x-python",
   "name": "python",
   "nbconvert_exporter": "python",
   "pygments_lexer": "ipython3",
   "version": "3.6.9"
  },
  "toc": {
   "base_numbering": 1,
   "nav_menu": {},
   "number_sections": false,
   "sideBar": true,
   "skip_h1_title": false,
   "title_cell": "Table of Contents",
   "title_sidebar": "Contents",
   "toc_cell": false,
   "toc_position": {},
   "toc_section_display": true,
   "toc_window_display": true
  },
  "varInspector": {
   "cols": {
    "lenName": 16,
    "lenType": 16,
    "lenVar": 40
   },
   "kernels_config": {
    "python": {
     "delete_cmd_postfix": "",
     "delete_cmd_prefix": "del ",
     "library": "var_list.py",
     "varRefreshCmd": "print(var_dic_list())"
    },
    "r": {
     "delete_cmd_postfix": ") ",
     "delete_cmd_prefix": "rm(",
     "library": "var_list.r",
     "varRefreshCmd": "cat(var_dic_list()) "
    }
   },
   "types_to_exclude": [
    "module",
    "function",
    "builtin_function_or_method",
    "instance",
    "_Feature"
   ],
   "window_display": false
  }
 },
 "nbformat": 4,
 "nbformat_minor": 1
}
