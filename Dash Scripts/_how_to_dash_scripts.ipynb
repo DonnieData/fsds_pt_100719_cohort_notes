{
 "nbformat": 4,
 "nbformat_minor": 2,
 "metadata": {
  "language_info": {
   "name": "python",
   "codemirror_mode": {
    "name": "ipython",
    "version": 3
   }
  },
  "orig_nbformat": 2,
  "file_extension": ".py",
  "mimetype": "text/x-python",
  "name": "python",
  "npconvert_exporter": "python",
  "pygments_lexer": "ipython3",
  "version": 3
 },
 "cells": [
  {
   "cell_type": "markdown",
   "execution_count": null,
   "metadata": {},
   "outputs": [],
   "source": [
    "# How to run the Dash apps .py files:"
   ]
  },
  {
   "cell_type": "markdown",
   "execution_count": null,
   "metadata": {},
   "outputs": [],
   "source": [
    "- To run the Dash apps in this folder:\n",
    "    1. Make sure you have Dash installed `pip install dash`\n",
    "    2. From your terminal, cd into the \"Dash Scripts\" folder. \n",
    "    3. From your terminal, run `python name_of_app.py`\n",
    "        - For example: `python BinomialDist.py`\n",
    "- If the server starts successfully it will display an ip address. Control/Cmd + Click the address to open the app in your browser. "
   ]
  },
  {
   "cell_type": "code",
   "execution_count": null,
   "metadata": {},
   "outputs": [],
   "source": []
  }
 ]
}