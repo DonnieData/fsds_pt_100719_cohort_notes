{
 "cells": [
  {
   "cell_type": "markdown",
   "metadata": {
    "colab_type": "text",
    "id": "vTGgxPxAJbpa"
   },
   "source": [
    "# Sect 20: Hypothesis Testing\n",
    "- online-ds-ft-100719 study group\n",
    "- 11/20/19\n",
    "- [Sect 20 Google Drive Folder](https://drive.google.com/drive/folders/1a9AEWgeaU4fthzHGaN5Y8fQ-AuIgye6z?usp=sharing)"
   ]
  },
  {
   "cell_type": "markdown",
   "metadata": {
    "colab_type": "text",
    "id": "F-ZkZNJQyUJg"
   },
   "source": [
    "## Questions/Topics:\n",
    "- Running back for fantasy football \n",
    "\n",
    "## Next Class:\n",
    "- A/B Testing & relating it back to my neuro data.\n",
    "- When to pick which statistical tests to run.\n"
   ]
  },
  {
   "cell_type": "code",
   "execution_count": 0,
   "metadata": {
    "colab": {},
    "colab_type": "code",
    "id": "-96h2FTryTl5"
   },
   "outputs": [],
   "source": []
  },
  {
   "cell_type": "markdown",
   "metadata": {
    "colab_type": "text",
    "id": "FhPot0rrLiDK"
   },
   "source": [
    "# Learning Objectives\n",
    "\n",
    "- **Describe the steps of the Scientific Method**\n",
    "    - Describe $H_0$ vs $H_1$\n",
    "    - Describe $\\alpha$ threshold and $p$ values.\n",
    "    - Describe Type I vs Type II errors\n",
    "\n",
    "\n",
    "- **Use my neuroscience research poster as an example of experimental design.**\n",
    "    - Control vs Experimental Groups\n",
    "    - Touch on T-Tests vs ANOVAs \n",
    "    - Touch on One-Way ANOVA vs One-Way Repeated Measures ANOVA\n",
    "    - Develop an appreciation for *not* having to collect the data ourselves. \n",
    "\n",
    "- **Discuss T-Tests and their Assumptions**\n",
    "\n",
    "- **Introduce additional stat tests from next sections.**"
   ]
  },
  {
   "cell_type": "markdown",
   "metadata": {
    "colab_type": "text",
    "id": "2YJwM0KKJr_G"
   },
   "source": [
    "## Resources\n",
    "- [Google Drive Folder for Section 20](https://drive.google.com/drive/folders/1a9AEWgeaU4fthzHGaN5Y8fQ-AuIgye6z?usp=sharing)\n",
    "    - [CodeAcademy Slides](https://drive.google.com/file/d/1aSoAyGifa6elhs5lQDeSkfOow5lDVfzW/view?usp=sharing)\n",
    "    - [James' Neuroscience Research Poster](https://drive.google.com/open?id=14z2dUdPB_8ei3HA7R1j3ylwEP0kVZhJq)\n"
   ]
  },
  {
   "cell_type": "markdown",
   "metadata": {
    "colab_type": "text",
    "id": "IuJOjmgmNGNw"
   },
   "source": [
    "# Outline\n",
    "1. [Introduction to Experimental Design](https://github.com/jirvingphd/dsc-experimental-design-online-ds-ft-100719?organization=jirvingphd&organization=jirvingphd)\n",
    "2. [Conducting T-Tests](https://github.com/jirvingphd/dsc-t-tests-online-ds-ft-100719)"
   ]
  },
  {
   "cell_type": "markdown",
   "metadata": {},
   "source": [
    "# The Scientific Method"
   ]
  },
  {
   "cell_type": "markdown",
   "metadata": {},
   "source": [
    "<img src=\"https://raw.githubusercontent.com/jirvingphd/dsc-experimental-design-online-ds-pt-100719/master/images/The%2BScientific%2BMethod.jpg\">"
   ]
  },
  {
   "cell_type": "markdown",
   "metadata": {},
   "source": [
    "## Foundations of a Sound Experiment"
   ]
  },
  {
   "cell_type": "markdown",
   "metadata": {},
   "source": [
    "- Control Group/Random Controlled Trials\n",
    "    - Control group should go through the same treatment process and conditions as the experimental group, except for the variable being manipulated (i.e. placebo instead of drug)\n",
    "    \n",
    "- If humans are administering the experiment and/or grading/recording observations about the groups, we should ideally use a **double blind** design (though single blind is better than nothing).\n",
    "\n",
    "<img src=\"https://raw.githubusercontent.com/jirvingphd/dsc-experimental-design-online-ds-pt-100719/master/images/new_double_blind.png\">"
   ]
  },
  {
   "cell_type": "markdown",
   "metadata": {},
   "source": [
    "## Sampling Statistics"
   ]
  },
  {
   "cell_type": "markdown",
   "metadata": {},
   "source": [
    "- "
   ]
  },
  {
   "cell_type": "code",
   "execution_count": null,
   "metadata": {},
   "outputs": [],
   "source": []
  },
  {
   "cell_type": "markdown",
   "metadata": {
    "colab": {},
    "colab_type": "code",
    "id": "bvV8Knq8JVk7"
   },
   "source": [
    "## Power analysis\n",
    "\n",
    "Since $\\alpha$, power, sample size, and effect size are all related quantities, you can take a look at some plots of the power of some t-tests, given varying sample sizes. This will allow you to develop a deeper understanding of how these quantities are related and what constitutes a convincing statistical test. There are three things to go into the calculation of power for a test. They are:\n",
    "\n",
    "* alpha value\n",
    "* effect size\n",
    "* sample size   \n",
    "\n",
    "A fantastic visual representation of these values' effect on one another can be found on [Kristoffer Magnusson's website](https://rpsychologist.com/d3/NHST/)."
   ]
  }
 ],
 "metadata": {
  "colab": {
   "collapsed_sections": [],
   "name": "Sect 20_hypothesis_testing.ipynb",
   "provenance": []
  },
  "kernelspec": {
   "display_name": "Python 3",
   "language": "python",
   "name": "python3"
  },
  "language_info": {
   "codemirror_mode": {
    "name": "ipython",
    "version": 3
   },
   "file_extension": ".py",
   "mimetype": "text/x-python",
   "name": "python",
   "nbconvert_exporter": "python",
   "pygments_lexer": "ipython3",
   "version": "3.6.9"
  },
  "toc": {
   "base_numbering": 1,
   "nav_menu": {},
   "number_sections": false,
   "sideBar": true,
   "skip_h1_title": false,
   "title_cell": "Table of Contents",
   "title_sidebar": "Contents",
   "toc_cell": false,
   "toc_position": {},
   "toc_section_display": true,
   "toc_window_display": true
  }
 },
 "nbformat": 4,
 "nbformat_minor": 1
}
