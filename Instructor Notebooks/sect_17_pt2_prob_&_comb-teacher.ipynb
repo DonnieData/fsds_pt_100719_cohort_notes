{
 "cells": [
  {
   "cell_type": "markdown",
   "metadata": {
    "colab_type": "text",
    "id": "bTdc9YkWXZz_"
   },
   "source": [
    "# Sect 17 - Part 2: Probability, Conditional Probability\n",
    "\n",
    "https://learn.co/tracks/data-science-career-v2/module-3-probability-sampling-and-ab-testing/section-17-combinatorics-and-probability/introduction"
   ]
  },
  {
   "cell_type": "markdown",
   "metadata": {},
   "source": [
    "online-ds-pt-100719"
   ]
  },
  {
   "cell_type": "markdown",
   "metadata": {
    "colab_type": "text",
    "id": "MJZRe34uX9qJ"
   },
   "source": [
    "## Learning Objectives\n",
    "\n",
    "- Quickly review sets/combinations/permutations (10-15 min max)\n",
    "\n",
    "- Revisit probability and how its calculated. (5-10 min)\n",
    "- Understand conditional probability and disjointed events.\n",
    "- Understand the Law of Total Probability \n"
   ]
  },
  {
   "cell_type": "markdown",
   "metadata": {},
   "source": [
    "### Links/References:\n",
    "- Study Groups:\n",
    "    - [Reviewing Probability & Combinatorics - M3S17 [2019-07-16]](https://www.youtube.com/watch?v=UBWnkflWvmU&list=PLVoXE6pv5LIgIui2D6u0Nga3oHtQ2ogmY&index=2) - Victor\n",
    "    - [Permutations & Factorials](https://youtu.be/-tzUcmASgC8) - Jeff\n",
    "    - [Permutations/Combinations](https://www.youtube.com/watch?v=WMYnIe2f7to&feature=youtu.be) - Rafael\n"
   ]
  },
  {
   "cell_type": "markdown",
   "metadata": {
    "heading_collapsed": true
   },
   "source": [
    "# SECTION 17 -  PART 1 (Review)"
   ]
  },
  {
   "cell_type": "markdown",
   "metadata": {
    "colab_type": "text",
    "heading_collapsed": true,
    "hidden": true,
    "id": "NE6mcOGxe7RT"
   },
   "source": [
    "## Sets"
   ]
  },
  {
   "cell_type": "markdown",
   "metadata": {
    "hidden": true
   },
   "source": [
    "\n",
    "> A **Set**: *a well-defined collection of unique objects*.\n",
    "\n",
    "**Math notation:**\n",
    "- Define a set as $S$ \n",
    "- If $x$ is an element of set $S$:\n",
    "    - $x \\in S$.\n",
    "- If $x$ is not an element of set $S$:\n",
    "    - $x\\notin S$.\n",
    "        \n",
    "### Subset: \n",
    "> A **Subset**: set $T$ is a subset of set $S$ if *every element* in set $T$ is also in set $S$. \n",
    "\n",
    "**Math Notation**\n",
    "- $T$ is a subset of $S$.   \n",
    "    - $T \\subset S$\n",
    "\n",
    "- $T$ and $S$ can be the SAME population \n",
    "- If $T$ != $S$, but $T \\subset S$, called a 'proper subset'\n",
    "    - Can use notation:  $T \\subsetneq S$ and $T \\subseteq S$ \n",
    "\n",
    "### Universal set:\n",
    "> A **Universal Set**: The collection of all possible outcomes in a certain context or universe.\n",
    "\n",
    "**Math Notation**\n",
    "- Universal set denoted by Omega ($\\Omega$)\n",
    "- Can have infinite # of elements (e.g. the set of all real numbers!)\n",
    "- Example: all possible outcomes of a 6-sided die:\n",
    "    - $\\Omega = \\{1,2,3,4,5,6\\}$\n",
    "\n"
   ]
  },
  {
   "cell_type": "markdown",
   "metadata": {
    "colab_type": "text",
    "hidden": true,
    "id": "c9rKTCYMebwR"
   },
   "source": [
    "### Set operations:"
   ]
  },
  {
   "cell_type": "markdown",
   "metadata": {
    "colab_type": "text",
    "hidden": true,
    "id": "c9rKTCYMebwR"
   },
   "source": [
    "- Data used in examples:\n",
    "\n",
    "Imagine you have two sets of numbers, say the first 4 multiples of 3 in set $S$:\n",
    "\n",
    "$ S = \\{3,6,9,12\\}$\n",
    "\n",
    " and the first 4 multiples of 2 in set $T$:\n",
    " \n",
    "$ T = \\{2,4,6,8\\} $."
   ]
  },
  {
   "cell_type": "markdown",
   "metadata": {
    "colab_type": "text",
    "hidden": true,
    "id": "c9rKTCYMebwR"
   },
   "source": [
    "#### Union (combining elements)\n",
    "- the union of $S$ and $T$ is denoted as $S \\cup T$\n",
    "<img src=\"https://raw.githubusercontent.com/jirvingphd/dsc-intro-to-sets-online-ds-ft-100719/master/images/new_union.png\" width=200>"
   ]
  },
  {
   "cell_type": "markdown",
   "metadata": {
    "colab_type": "text",
    "heading_collapsed": true,
    "hidden": true,
    "id": "c9rKTCYMebwR"
   },
   "source": [
    "#### Intersection\n",
    "- contains all elements of $S$ that also belong to $T$. \n",
    "    - denoted as $S \\cap T$.\n",
    "\n",
    "<img src=\"https://raw.githubusercontent.com/jirvingphd/dsc-intro-to-sets-online-ds-ft-100719/master/images/new_intersection.png\" width=200>"
   ]
  },
  {
   "cell_type": "markdown",
   "metadata": {
    "colab_type": "text",
    "hidden": true,
    "id": "c9rKTCYMebwR"
   },
   "source": [
    "#### Relative complement / difference\n",
    "\n",
    "<img src=\"https://raw.githubusercontent.com/jirvingphd/dsc-intro-to-sets-online-ds-ft-100719/master/images/new_rel_comp.png\" width=200>\n",
    "\n",
    "-  the relative complement of S contains all the elements of T that are NOT in S.\n",
    "    - relative complement of S (or $ T\\backslash S $) is $\\{2,4,8\\}$.\n",
    "    - relative complement  of T (or $ S\\backslash T $) is $\\{3,9,12\\}$.\n",
    "    \n",
    "<!img src=\"https://raw.githubusercontent.com/learn-co-students/dsc-1-08-07-introduction-to-sets-online-ds-ft-021119/master/rel_comp.png\" width=300>"
   ]
  },
  {
   "cell_type": "markdown",
   "metadata": {
    "colab_type": "text",
    "hidden": true,
    "id": "c9rKTCYMebwR"
   },
   "source": [
    "#### Absolute complement\n",
    "<img src=\"https://raw.githubusercontent.com/jirvingphd/dsc-intro-to-sets-online-ds-ft-100719/master/images/new_abs_comp.png\" width=200>\n",
    "\n",
    "\n",
    "- The absolute complement of $S$, with respect to the Universal set $\\Omega$, is the collection of the objects in $\\Omega$ that don't belong to $S$.\n",
    "    -  absolute complement of $S$ is denoted as $S'$ or $S^c$.\n",
    "    \n",
    "<!img src=\"https://raw.githubusercontent.com/learn-co-students/dsc-1-08-07-introduction-to-sets-online-ds-ft-021119/master/abs_comp.png\" width=300>\n",
    "\n",
    "- Example: Let's define $\\Omega$ (box around the two venn diagrams) = multiples of both 2 and 3 until 20.\n",
    "\n",
    "    - Elements of $\\Omega$ are $\\{2,3,4,6,8,9,10,12,14,15,16,18,20\\}$. \n",
    "\n",
    "    - The absolute complement of $S$ (so $S'$ or $S^c$) is then given by $\\{2,4,8,10,14,15,16,18,20\\}$.\n",
    " "
   ]
  },
  {
   "cell_type": "markdown",
   "metadata": {
    "ExecuteTime": {
     "end_time": "2020-01-07T21:54:38.651591Z",
     "start_time": "2020-01-07T21:54:38.645607Z"
    },
    "hidden": true
   },
   "source": [
    "#### Note on Important Number Sets & Their Notation\n",
    "\n",
    "- If you define that the event \"low daily number of text messages sent\" means 20 or fewer text messages, the event space is defined as: $E = \\{x \\mid x \\in \\mathbb{Z}, 0 \\leq x \\leq 20 \\}$\n",
    "- Binge-watch day:  $E = \\{x \\mid x \\in \\mathbb{R}, x \\geq 6 \\}$\n",
    "\n",
    "| SYMBOL | MEANING |\n",
    "| --- | --- |\n",
    "|$\\emptyset$ or $\\{\\}$ | empty set \n",
    "|$ \\mathbb{N}$ | natural numbers |\n",
    "|$\\mathbb{Z}$ | integers (from Zahl, German for number). |\n",
    "|$ \\mathbb{Q}$ | rational numbers (from quotient) |\n",
    "|$\\mathbb{R}$  | real numbers |\n",
    "|$ \\mathbb{C}$ | complex numbers |"
   ]
  },
  {
   "cell_type": "markdown",
   "metadata": {
    "colab_type": "text",
    "hidden": true,
    "id": "c9rKTCYMebwR"
   },
   "source": [
    "### Inclusion Exclusion principle"
   ]
  },
  {
   "cell_type": "markdown",
   "metadata": {
    "colab_type": "text",
    "hidden": true,
    "id": "c9rKTCYMebwR"
   },
   "source": [
    "- Used to calculate the number of elements of each set and the union of all sets.\n",
    "\n",
    "- Note $|S|$ denotes the *cardinality* of S aka the number of element in S\n",
    "\n",
    "<img src=\"https://raw.githubusercontent.com/jirvingphd/dsc-intro-to-sets-online-ds-ft-100719/master/images/new_venn_diagram.png\" width=400>\n",
    "\n",
    "\n",
    "- When combining  2 sets, the method for obtaining the union of two finite sets is given by:\n",
    "\n",
    "    - $\\mid S \\cup T \\mid = \\mid S \\mid + \\mid T \\mid - \\mid S \\cap T \\mid $\n",
    "    \n",
    "        - Horizontal lines denote the *cardinality* of a set, which is the number of elements, considering a finite set. \n",
    "- When combining 3 sets:\n",
    "\n",
    "$\\mid S \\cup T\\cup R \\mid = \\mid S \\mid + \\mid T \\mid + \\mid R \\mid - \\mid S \\cap T \\mid  -\\mid S \\cap R \\mid - \\mid R \\cap T \\mid  + \\mid S \\cap T \\cap R \\mid $\n",
    "        \n",
    "        \n",
    "- *The formula expresses the fact that the sum of the sizes of the two sets may be too large since some elements may be counted twice. For the double-counted elements, one is substracted again.*\n",
    "\n",
    "### Empty \n",
    " - An **empty** set has no elements\n",
    " - denoted by $\\emptyset$ or simply $\\{\\}$\n",
    " \n",
    " "
   ]
  },
  {
   "cell_type": "markdown",
   "metadata": {
    "hidden": true
   },
   "source": [
    "### SET OPERATIONS IN PYTHON\n"
   ]
  },
  {
   "cell_type": "markdown",
   "metadata": {
    "colab_type": "text",
    "hidden": true,
    "id": "c9rKTCYMebwR"
   },
   "source": [
    " \n",
    "\n",
    "| Method        |\tEquivalent |\tResult |\n",
    "| ------                    | ------       | ------    |\n",
    "| s.issubset(t)             |\ts <= t     | test whether every element in s is in t\n",
    "| s.issuperset(t)           |\ts >= t     | test whether every element in t is in s\n",
    "| s.union(t)                |\ts $\\mid$ t | new set with elements from both s and t\n",
    "| s.intersection(t)         |\ts & t      | new set with elements common to s and t\n",
    "| s.difference(t)           |\ts - t \t   | new set with elements in s but not in t\n",
    "| s.symmetric_difference(t) |\ts ^ t      | new set with elements in either s or t but not both"
   ]
  },
  {
   "cell_type": "markdown",
   "metadata": {
    "heading_collapsed": true,
    "hidden": true
   },
   "source": [
    "## Permutations"
   ]
  },
  {
   "cell_type": "markdown",
   "metadata": {
    "hidden": true
   },
   "source": [
    "- **Permutations have to do with arranging objects.(Order is important)**\n",
    "\n",
    "> ***How many ways to arrange n elements?***\n",
    "    $$\\large P(n) = n!$$"
   ]
  },
  {
   "cell_type": "markdown",
   "metadata": {
    "hidden": true
   },
   "source": [
    "### Factorials\n"
   ]
  },
  {
   "cell_type": "markdown",
   "metadata": {
    "hidden": true
   },
   "source": [
    "The factorial of $n$ is calculated by multiplying every number below $n$ together.\n",
    "\n",
    "$$n! = n  \\times (n-1) \\times (n-2)\\times...\\times1$$\n",
    "\n",
    "\n",
    "\n",
    "**Factorial Rules/Operations:**\n",
    "- Negative numbers do not have a factorial.\n",
    "- $0! = 1$\n",
    "- $n! = (n-1)! \\cdot n$\n",
    "- $(n+1)! = n! \\cdot (n+1)$ \n",
    "\n",
    "- $ (n+k)! = n! \\cdot (n+1) \\cdot (n+2) \\cdot... (n+k) $\n",
    "\n",
    "- $ (n-k)! = \\frac{n!}{(n-k+1)\\cdot(n-k+2) \\cdot ... (n-k+k) }$\n",
    "- When $n>k$:\n",
    "    - $\\frac{n!}{k!} = (k+1)\\cdot(k+2)\\cdot...n $"
   ]
  },
  {
   "cell_type": "markdown",
   "metadata": {
    "colab_type": "text",
    "heading_collapsed": true,
    "hidden": true,
    "id": "KBImNzwvXb_v"
   },
   "source": [
    "## Permutations of a subset / AKA Permutations without replacement"
   ]
  },
  {
   "cell_type": "markdown",
   "metadata": {
    "colab_type": "text",
    "hidden": true,
    "id": "KBImNzwvXb_v"
   },
   "source": [
    "> ***How many ways to select $k$ elements out of a pool of $n$ objects?***\n",
    "\n",
    "$$ \\large P_{k}^{n}= \\dfrac{n!}{(n-k)!}$$ \n",
    "\n",
    "this is known as the **$k$-permutation of $n$**"
   ]
  },
  {
   "cell_type": "markdown",
   "metadata": {
    "colab_type": "text",
    "heading_collapsed": true,
    "hidden": true,
    "id": "KBImNzwvXb_v"
   },
   "source": [
    "## Permutations with replacement "
   ]
  },
  {
   "cell_type": "markdown",
   "metadata": {
    "colab_type": "text",
    "hidden": true,
    "id": "KBImNzwvXb_v"
   },
   "source": [
    "$$ \\large {P}_{j}^{n} = n^j $$\n",
    "- where $n$ = total number of elements\n",
    "- $j$ = number of positions to fill   "
   ]
  },
  {
   "cell_type": "markdown",
   "metadata": {
    "colab_type": "text",
    "heading_collapsed": true,
    "hidden": true,
    "id": "KBImNzwvXb_v"
   },
   "source": [
    "## Permutations with repetition"
   ]
  },
  {
   "cell_type": "markdown",
   "metadata": {
    "colab_type": "text",
    "hidden": true,
    "id": "KBImNzwvXb_v"
   },
   "source": [
    "- Permutation where there are some elements that may appear multiple times. \n",
    "    - i.e. looking at the word TENNESSEE by itself, you can swap the 3rd and the 4th letter and have the same word. So the total number is less than $9!$.\n",
    "    \n",
    "    - The solution is to divide $9!$ by the factorials for each letter that is repeated!\n",
    "    - The answer here is then (9 letters, 4 x E, 2 x N, 2 x S)\n",
    "\n",
    "    - $\\dfrac{9!}{4!2!2!} = 3780$\n",
    "\n",
    "The general formula can be written as:\n",
    "\n",
    "$$\\dfrac{n!}{n_1!n_2!\\ldots n_j!}$$\n",
    "\n",
    "where $n_j$ stands for identical objects of type $j$ (the distinct letters in our TENNESSEE example). "
   ]
  },
  {
   "cell_type": "markdown",
   "metadata": {
    "colab_type": "text",
    "hidden": true,
    "id": "opLA_RcuXb9h"
   },
   "source": [
    "## Combinations"
   ]
  },
  {
   "cell_type": "markdown",
   "metadata": {
    "colab_type": "text",
    "hidden": true,
    "id": "opLA_RcuXb9h"
   },
   "source": [
    "- How many ways can we create a subset $k$ out of $n$ objects, when order is not important? \n",
    "\n",
    "\n",
    "$$\\large C_{k}^{n} = \\displaystyle\\binom{n}{k} = \\dfrac{P_{k}^{n}}{k!}=\\dfrac{ \\dfrac{n!}{(n-k)!}}{k!} = \\dfrac{n!}{(n-k)!k!}$$"
   ]
  },
  {
   "cell_type": "markdown",
   "metadata": {
    "heading_collapsed": true
   },
   "source": [
    "# PLAYLIST PERMUTATIONS (REVIEW)"
   ]
  },
  {
   "cell_type": "code",
   "execution_count": 2,
   "metadata": {
    "ExecuteTime": {
     "end_time": "2020-01-09T21:49:24.136436Z",
     "start_time": "2020-01-09T21:49:17.698400Z"
    },
    "colab": {},
    "colab_type": "code",
    "hidden": true,
    "id": "HhbtNsyeXQIm"
   },
   "outputs": [
    {
     "name": "stdout",
     "output_type": "stream",
     "text": [
      "fsds_1007219  v0.6.4 loaded.  Read the docs: https://fsds.readthedocs.io/en/latest/ \n"
     ]
    },
    {
     "data": {
      "text/html": [
       "<style  type=\"text/css\" >\n",
       "</style><table id=\"T_e672f646_3329_11ea_a2f4_4865ee12e626\" ><caption>Loaded Packages and Handles</caption><thead>    <tr>        <th class=\"col_heading level0 col0\" >Handle</th>        <th class=\"col_heading level0 col1\" >Package</th>        <th class=\"col_heading level0 col2\" >Description</th>    </tr></thead><tbody>\n",
       "                <tr>\n",
       "                                <td id=\"T_e672f646_3329_11ea_a2f4_4865ee12e626row0_col0\" class=\"data row0 col0\" >dp</td>\n",
       "                        <td id=\"T_e672f646_3329_11ea_a2f4_4865ee12e626row0_col1\" class=\"data row0 col1\" >IPython.display</td>\n",
       "                        <td id=\"T_e672f646_3329_11ea_a2f4_4865ee12e626row0_col2\" class=\"data row0 col2\" >Display modules with helpful display and clearing commands.</td>\n",
       "            </tr>\n",
       "            <tr>\n",
       "                                <td id=\"T_e672f646_3329_11ea_a2f4_4865ee12e626row1_col0\" class=\"data row1 col0\" >fs</td>\n",
       "                        <td id=\"T_e672f646_3329_11ea_a2f4_4865ee12e626row1_col1\" class=\"data row1 col1\" >fsds_100719</td>\n",
       "                        <td id=\"T_e672f646_3329_11ea_a2f4_4865ee12e626row1_col2\" class=\"data row1 col2\" >Custom data science bootcamp student package</td>\n",
       "            </tr>\n",
       "            <tr>\n",
       "                                <td id=\"T_e672f646_3329_11ea_a2f4_4865ee12e626row2_col0\" class=\"data row2 col0\" >mpl</td>\n",
       "                        <td id=\"T_e672f646_3329_11ea_a2f4_4865ee12e626row2_col1\" class=\"data row2 col1\" >matplotlib</td>\n",
       "                        <td id=\"T_e672f646_3329_11ea_a2f4_4865ee12e626row2_col2\" class=\"data row2 col2\" >Matplotlib's base OOP module with formatting artists</td>\n",
       "            </tr>\n",
       "            <tr>\n",
       "                                <td id=\"T_e672f646_3329_11ea_a2f4_4865ee12e626row3_col0\" class=\"data row3 col0\" >plt</td>\n",
       "                        <td id=\"T_e672f646_3329_11ea_a2f4_4865ee12e626row3_col1\" class=\"data row3 col1\" >matplotlib.pyplot</td>\n",
       "                        <td id=\"T_e672f646_3329_11ea_a2f4_4865ee12e626row3_col2\" class=\"data row3 col2\" >Matplotlib's matlab-like plotting module</td>\n",
       "            </tr>\n",
       "            <tr>\n",
       "                                <td id=\"T_e672f646_3329_11ea_a2f4_4865ee12e626row4_col0\" class=\"data row4 col0\" >np</td>\n",
       "                        <td id=\"T_e672f646_3329_11ea_a2f4_4865ee12e626row4_col1\" class=\"data row4 col1\" >numpy</td>\n",
       "                        <td id=\"T_e672f646_3329_11ea_a2f4_4865ee12e626row4_col2\" class=\"data row4 col2\" >scientific computing with Python</td>\n",
       "            </tr>\n",
       "            <tr>\n",
       "                                <td id=\"T_e672f646_3329_11ea_a2f4_4865ee12e626row5_col0\" class=\"data row5 col0\" >pd</td>\n",
       "                        <td id=\"T_e672f646_3329_11ea_a2f4_4865ee12e626row5_col1\" class=\"data row5 col1\" >pandas</td>\n",
       "                        <td id=\"T_e672f646_3329_11ea_a2f4_4865ee12e626row5_col2\" class=\"data row5 col2\" >High performance data structures and tools</td>\n",
       "            </tr>\n",
       "            <tr>\n",
       "                                <td id=\"T_e672f646_3329_11ea_a2f4_4865ee12e626row6_col0\" class=\"data row6 col0\" >sns</td>\n",
       "                        <td id=\"T_e672f646_3329_11ea_a2f4_4865ee12e626row6_col1\" class=\"data row6 col1\" >seaborn</td>\n",
       "                        <td id=\"T_e672f646_3329_11ea_a2f4_4865ee12e626row6_col2\" class=\"data row6 col2\" >High-level data visualization library based on matplotlib</td>\n",
       "            </tr>\n",
       "    </tbody></table>"
      ],
      "text/plain": [
       "<pandas.io.formats.style.Styler at 0x103f70940>"
      ]
     },
     "metadata": {},
     "output_type": "display_data"
    }
   ],
   "source": [
    "!pip install -U fsds_100719\n",
    "\n",
    "from math import factorial\n",
    "from fsds_100719.imports import *"
   ]
  },
  {
   "cell_type": "markdown",
   "metadata": {
    "ExecuteTime": {
     "end_time": "2020-01-06T22:53:10.213591Z",
     "start_time": "2020-01-06T22:53:10.211467Z"
    },
    "hidden": true
   },
   "source": [
    "## Playlist Permutations"
   ]
  },
  {
   "cell_type": "markdown",
   "metadata": {
    "hidden": true
   },
   "source": [
    "- We are constructing a dinner party playlist for a gathering we are planning. \n",
    "- We asked our attendees to each provide a handful of songs they would like to be played at the dinner party."
   ]
  },
  {
   "cell_type": "code",
   "execution_count": 3,
   "metadata": {
    "ExecuteTime": {
     "end_time": "2020-01-09T21:49:24.145330Z",
     "start_time": "2020-01-09T21:49:24.137873Z"
    },
    "hidden": true
   },
   "outputs": [
    {
     "data": {
      "text/html": [
       "<style  type=\"text/css\" >\n",
       "</style><table id=\"T_e67673be_3329_11ea_be28_4865ee12e626\" ><caption>JOHN</caption><thead>    <tr>        <th class=\"blank level0\" ></th>        <th class=\"col_heading level0 col0\" >artist</th>        <th class=\"col_heading level0 col1\" >track</th>        <th class=\"col_heading level0 col2\" >Recommended By</th>    </tr></thead><tbody>\n",
       "                <tr>\n",
       "                        <th id=\"T_e67673be_3329_11ea_be28_4865ee12e626level0_row0\" class=\"row_heading level0 row0\" >0</th>\n",
       "                        <td id=\"T_e67673be_3329_11ea_be28_4865ee12e626row0_col0\" class=\"data row0 col0\" >Black Eyed Peas</td>\n",
       "                        <td id=\"T_e67673be_3329_11ea_be28_4865ee12e626row0_col1\" class=\"data row0 col1\" >Let's Get it Started</td>\n",
       "                        <td id=\"T_e67673be_3329_11ea_be28_4865ee12e626row0_col2\" class=\"data row0 col2\" >John</td>\n",
       "            </tr>\n",
       "            <tr>\n",
       "                        <th id=\"T_e67673be_3329_11ea_be28_4865ee12e626level0_row1\" class=\"row_heading level0 row1\" >1</th>\n",
       "                        <td id=\"T_e67673be_3329_11ea_be28_4865ee12e626row1_col0\" class=\"data row1 col0\" >Lady GaGa</td>\n",
       "                        <td id=\"T_e67673be_3329_11ea_be28_4865ee12e626row1_col1\" class=\"data row1 col1\" >Poker Face</td>\n",
       "                        <td id=\"T_e67673be_3329_11ea_be28_4865ee12e626row1_col2\" class=\"data row1 col2\" >John</td>\n",
       "            </tr>\n",
       "            <tr>\n",
       "                        <th id=\"T_e67673be_3329_11ea_be28_4865ee12e626level0_row2\" class=\"row_heading level0 row2\" >2</th>\n",
       "                        <td id=\"T_e67673be_3329_11ea_be28_4865ee12e626row2_col0\" class=\"data row2 col0\" >Lady GaGa</td>\n",
       "                        <td id=\"T_e67673be_3329_11ea_be28_4865ee12e626row2_col1\" class=\"data row2 col1\" >Bad Romance</td>\n",
       "                        <td id=\"T_e67673be_3329_11ea_be28_4865ee12e626row2_col2\" class=\"data row2 col2\" >John</td>\n",
       "            </tr>\n",
       "    </tbody></table>"
      ],
      "text/plain": [
       "<pandas.io.formats.style.Styler at 0x1a1707a668>"
      ]
     },
     "execution_count": 3,
     "metadata": {},
     "output_type": "execute_result"
    }
   ],
   "source": [
    "john_recs = [['artist','track']]\n",
    "john_recs.append(['Black Eyed Peas',\"Let's Get it Started\"])\n",
    "john_recs.append(['Lady GaGa','Poker Face'])\n",
    "john_recs.append(['Lady GaGa','Bad Romance'])\n",
    "df_john_recs = pd.DataFrame(john_recs[1:],columns=john_recs[0])\n",
    "df_john_recs['Recommended By'] = 'John'\n",
    "df_john_recs.style.set_caption('JOHN')"
   ]
  },
  {
   "cell_type": "code",
   "execution_count": 4,
   "metadata": {
    "ExecuteTime": {
     "end_time": "2020-01-09T21:49:24.153210Z",
     "start_time": "2020-01-09T21:49:24.147117Z"
    },
    "hidden": true
   },
   "outputs": [
    {
     "data": {
      "text/html": [
       "<style  type=\"text/css\" >\n",
       "</style><table id=\"T_e677b800_3329_11ea_80e7_4865ee12e626\" ><caption>ANNE</caption><thead>    <tr>        <th class=\"blank level0\" ></th>        <th class=\"col_heading level0 col0\" >artist</th>        <th class=\"col_heading level0 col1\" >track</th>        <th class=\"col_heading level0 col2\" >Recommended By</th>    </tr></thead><tbody>\n",
       "                <tr>\n",
       "                        <th id=\"T_e677b800_3329_11ea_80e7_4865ee12e626level0_row0\" class=\"row_heading level0 row0\" >0</th>\n",
       "                        <td id=\"T_e677b800_3329_11ea_80e7_4865ee12e626row0_col0\" class=\"data row0 col0\" >Smashing Pumpkins</td>\n",
       "                        <td id=\"T_e677b800_3329_11ea_80e7_4865ee12e626row0_col1\" class=\"data row0 col1\" >Tonight, Tonight</td>\n",
       "                        <td id=\"T_e677b800_3329_11ea_80e7_4865ee12e626row0_col2\" class=\"data row0 col2\" >Anne</td>\n",
       "            </tr>\n",
       "            <tr>\n",
       "                        <th id=\"T_e677b800_3329_11ea_80e7_4865ee12e626level0_row1\" class=\"row_heading level0 row1\" >1</th>\n",
       "                        <td id=\"T_e677b800_3329_11ea_80e7_4865ee12e626row1_col0\" class=\"data row1 col0\" >Black Eyed Peas</td>\n",
       "                        <td id=\"T_e677b800_3329_11ea_80e7_4865ee12e626row1_col1\" class=\"data row1 col1\" >Let's Get it Started</td>\n",
       "                        <td id=\"T_e677b800_3329_11ea_80e7_4865ee12e626row1_col2\" class=\"data row1 col2\" >Anne</td>\n",
       "            </tr>\n",
       "            <tr>\n",
       "                        <th id=\"T_e677b800_3329_11ea_80e7_4865ee12e626level0_row2\" class=\"row_heading level0 row2\" >2</th>\n",
       "                        <td id=\"T_e677b800_3329_11ea_80e7_4865ee12e626row2_col0\" class=\"data row2 col0\" >Green Day</td>\n",
       "                        <td id=\"T_e677b800_3329_11ea_80e7_4865ee12e626row2_col1\" class=\"data row2 col1\" >Time of your Life</td>\n",
       "                        <td id=\"T_e677b800_3329_11ea_80e7_4865ee12e626row2_col2\" class=\"data row2 col2\" >Anne</td>\n",
       "            </tr>\n",
       "    </tbody></table>"
      ],
      "text/plain": [
       "<pandas.io.formats.style.Styler at 0x1a1707a7f0>"
      ]
     },
     "execution_count": 4,
     "metadata": {},
     "output_type": "execute_result"
    }
   ],
   "source": [
    "anne_recs = [['artist','track']]\n",
    "anne_recs.append(['Smashing Pumpkins','Tonight, Tonight'])\n",
    "anne_recs.append(['Black Eyed Peas',\"Let's Get it Started\"])\n",
    "anne_recs.append(['Green Day','Time of your Life'])\n",
    "\n",
    "df_anne_recs = pd.DataFrame(anne_recs[1:],columns=anne_recs[0])\n",
    "df_anne_recs['Recommended By'] = 'Anne'\n",
    "df_anne_recs.style.set_caption('ANNE')"
   ]
  },
  {
   "cell_type": "code",
   "execution_count": 5,
   "metadata": {
    "ExecuteTime": {
     "end_time": "2020-01-09T21:49:24.161625Z",
     "start_time": "2020-01-09T21:49:24.154715Z"
    },
    "hidden": true
   },
   "outputs": [
    {
     "data": {
      "text/html": [
       "<style  type=\"text/css\" >\n",
       "</style><table id=\"T_e678e50c_3329_11ea_b075_4865ee12e626\" ><caption>JOE</caption><thead>    <tr>        <th class=\"blank level0\" ></th>        <th class=\"col_heading level0 col0\" >artist</th>        <th class=\"col_heading level0 col1\" >track</th>        <th class=\"col_heading level0 col2\" >Recommended By</th>    </tr></thead><tbody>\n",
       "                <tr>\n",
       "                        <th id=\"T_e678e50c_3329_11ea_b075_4865ee12e626level0_row0\" class=\"row_heading level0 row0\" >0</th>\n",
       "                        <td id=\"T_e678e50c_3329_11ea_b075_4865ee12e626row0_col0\" class=\"data row0 col0\" >Green Day</td>\n",
       "                        <td id=\"T_e678e50c_3329_11ea_b075_4865ee12e626row0_col1\" class=\"data row0 col1\" >Time of your Life</td>\n",
       "                        <td id=\"T_e678e50c_3329_11ea_b075_4865ee12e626row0_col2\" class=\"data row0 col2\" >Joe</td>\n",
       "            </tr>\n",
       "            <tr>\n",
       "                        <th id=\"T_e678e50c_3329_11ea_b075_4865ee12e626level0_row1\" class=\"row_heading level0 row1\" >1</th>\n",
       "                        <td id=\"T_e678e50c_3329_11ea_b075_4865ee12e626row1_col0\" class=\"data row1 col0\" >B-52s</td>\n",
       "                        <td id=\"T_e678e50c_3329_11ea_b075_4865ee12e626row1_col1\" class=\"data row1 col1\" >Rock Lobster</td>\n",
       "                        <td id=\"T_e678e50c_3329_11ea_b075_4865ee12e626row1_col2\" class=\"data row1 col2\" >Joe</td>\n",
       "            </tr>\n",
       "            <tr>\n",
       "                        <th id=\"T_e678e50c_3329_11ea_b075_4865ee12e626level0_row2\" class=\"row_heading level0 row2\" >2</th>\n",
       "                        <td id=\"T_e678e50c_3329_11ea_b075_4865ee12e626row2_col0\" class=\"data row2 col0\" >Lady GaGa</td>\n",
       "                        <td id=\"T_e678e50c_3329_11ea_b075_4865ee12e626row2_col1\" class=\"data row2 col1\" >Poker Face</td>\n",
       "                        <td id=\"T_e678e50c_3329_11ea_b075_4865ee12e626row2_col2\" class=\"data row2 col2\" >Joe</td>\n",
       "            </tr>\n",
       "            <tr>\n",
       "                        <th id=\"T_e678e50c_3329_11ea_b075_4865ee12e626level0_row3\" class=\"row_heading level0 row3\" >3</th>\n",
       "                        <td id=\"T_e678e50c_3329_11ea_b075_4865ee12e626row3_col0\" class=\"data row3 col0\" >John Lennon</td>\n",
       "                        <td id=\"T_e678e50c_3329_11ea_b075_4865ee12e626row3_col1\" class=\"data row3 col1\" >Imagine</td>\n",
       "                        <td id=\"T_e678e50c_3329_11ea_b075_4865ee12e626row3_col2\" class=\"data row3 col2\" >Joe</td>\n",
       "            </tr>\n",
       "    </tbody></table>"
      ],
      "text/plain": [
       "<pandas.io.formats.style.Styler at 0x1a1707a128>"
      ]
     },
     "execution_count": 5,
     "metadata": {},
     "output_type": "execute_result"
    }
   ],
   "source": [
    "joe_recs= [['artist','track']]\n",
    "joe_recs.append(['Green Day','Time of your Life'])\n",
    "joe_recs.append(['B-52s','Rock Lobster'])\n",
    "joe_recs.append(['Lady GaGa','Poker Face'])\n",
    "joe_recs.append(['John Lennon','Imagine'])\n",
    "\n",
    "df_joe_recs = pd.DataFrame(joe_recs[1:],columns=joe_recs[0])\n",
    "df_joe_recs['Recommended By'] = 'Joe'\n",
    "df_joe_recs.style.set_caption('JOE')"
   ]
  },
  {
   "cell_type": "code",
   "execution_count": 6,
   "metadata": {
    "ExecuteTime": {
     "end_time": "2020-01-09T21:49:24.169007Z",
     "start_time": "2020-01-09T21:49:24.162844Z"
    },
    "hidden": true
   },
   "outputs": [
    {
     "data": {
      "text/html": [
       "<style  type=\"text/css\" >\n",
       "</style><table id=\"T_e67a1b36_3329_11ea_8b43_4865ee12e626\" ><caption>SAMANTHA</caption><thead>    <tr>        <th class=\"blank level0\" ></th>        <th class=\"col_heading level0 col0\" >artist</th>        <th class=\"col_heading level0 col1\" >track</th>        <th class=\"col_heading level0 col2\" >Recommended By</th>    </tr></thead><tbody>\n",
       "                <tr>\n",
       "                        <th id=\"T_e67a1b36_3329_11ea_8b43_4865ee12e626level0_row0\" class=\"row_heading level0 row0\" >0</th>\n",
       "                        <td id=\"T_e67a1b36_3329_11ea_8b43_4865ee12e626row0_col0\" class=\"data row0 col0\" >Black Eyed Peas</td>\n",
       "                        <td id=\"T_e67a1b36_3329_11ea_8b43_4865ee12e626row0_col1\" class=\"data row0 col1\" >Let's Get it Started</td>\n",
       "                        <td id=\"T_e67a1b36_3329_11ea_8b43_4865ee12e626row0_col2\" class=\"data row0 col2\" >Samantha</td>\n",
       "            </tr>\n",
       "            <tr>\n",
       "                        <th id=\"T_e67a1b36_3329_11ea_8b43_4865ee12e626level0_row1\" class=\"row_heading level0 row1\" >1</th>\n",
       "                        <td id=\"T_e67a1b36_3329_11ea_8b43_4865ee12e626row1_col0\" class=\"data row1 col0\" >Panic at the Disco</td>\n",
       "                        <td id=\"T_e67a1b36_3329_11ea_8b43_4865ee12e626row1_col1\" class=\"data row1 col1\" >Hallelujah</td>\n",
       "                        <td id=\"T_e67a1b36_3329_11ea_8b43_4865ee12e626row1_col2\" class=\"data row1 col2\" >Samantha</td>\n",
       "            </tr>\n",
       "            <tr>\n",
       "                        <th id=\"T_e67a1b36_3329_11ea_8b43_4865ee12e626level0_row2\" class=\"row_heading level0 row2\" >2</th>\n",
       "                        <td id=\"T_e67a1b36_3329_11ea_8b43_4865ee12e626row2_col0\" class=\"data row2 col0\" >Adele</td>\n",
       "                        <td id=\"T_e67a1b36_3329_11ea_8b43_4865ee12e626row2_col1\" class=\"data row2 col1\" >Set Fire to the Rain</td>\n",
       "                        <td id=\"T_e67a1b36_3329_11ea_8b43_4865ee12e626row2_col2\" class=\"data row2 col2\" >Samantha</td>\n",
       "            </tr>\n",
       "    </tbody></table>"
      ],
      "text/plain": [
       "<pandas.io.formats.style.Styler at 0x1a1707a198>"
      ]
     },
     "execution_count": 6,
     "metadata": {},
     "output_type": "execute_result"
    }
   ],
   "source": [
    "samantha_recs = [['artist','track']]\n",
    "samantha_recs.append(['Black Eyed Peas',\"Let's Get it Started\"])\n",
    "samantha_recs.append(['Panic at the Disco','Hallelujah'])\n",
    "samantha_recs.append(['Adele','Set Fire to the Rain'])\n",
    "\n",
    "df_samantha_recs = pd.DataFrame(samantha_recs[1:],columns=samantha_recs[0])\n",
    "df_samantha_recs['Recommended By'] = 'Samantha'\n",
    "df_samantha_recs.style.set_caption('SAMANTHA')"
   ]
  },
  {
   "cell_type": "code",
   "execution_count": 7,
   "metadata": {
    "ExecuteTime": {
     "end_time": "2020-01-09T21:49:24.178066Z",
     "start_time": "2020-01-09T21:49:24.170653Z"
    },
    "hidden": true
   },
   "outputs": [
    {
     "data": {
      "text/html": [
       "<style  type=\"text/css\" >\n",
       "</style><table id=\"T_e67b7a12_3329_11ea_ab5d_4865ee12e626\" ><caption>JAMES</caption><thead>    <tr>        <th class=\"blank level0\" ></th>        <th class=\"col_heading level0 col0\" >artist</th>        <th class=\"col_heading level0 col1\" >track</th>        <th class=\"col_heading level0 col2\" >Recommended By</th>    </tr></thead><tbody>\n",
       "                <tr>\n",
       "                        <th id=\"T_e67b7a12_3329_11ea_ab5d_4865ee12e626level0_row0\" class=\"row_heading level0 row0\" >0</th>\n",
       "                        <td id=\"T_e67b7a12_3329_11ea_ab5d_4865ee12e626row0_col0\" class=\"data row0 col0\" >Eve 6</td>\n",
       "                        <td id=\"T_e67b7a12_3329_11ea_ab5d_4865ee12e626row0_col1\" class=\"data row0 col1\" >Here's to the Night</td>\n",
       "                        <td id=\"T_e67b7a12_3329_11ea_ab5d_4865ee12e626row0_col2\" class=\"data row0 col2\" >James</td>\n",
       "            </tr>\n",
       "            <tr>\n",
       "                        <th id=\"T_e67b7a12_3329_11ea_ab5d_4865ee12e626level0_row1\" class=\"row_heading level0 row1\" >1</th>\n",
       "                        <td id=\"T_e67b7a12_3329_11ea_ab5d_4865ee12e626row1_col0\" class=\"data row1 col0\" >Neutral Milk Hotel</td>\n",
       "                        <td id=\"T_e67b7a12_3329_11ea_ab5d_4865ee12e626row1_col1\" class=\"data row1 col1\" >Into the Aeroplane Over the Sea</td>\n",
       "                        <td id=\"T_e67b7a12_3329_11ea_ab5d_4865ee12e626row1_col2\" class=\"data row1 col2\" >James</td>\n",
       "            </tr>\n",
       "            <tr>\n",
       "                        <th id=\"T_e67b7a12_3329_11ea_ab5d_4865ee12e626level0_row2\" class=\"row_heading level0 row2\" >2</th>\n",
       "                        <td id=\"T_e67b7a12_3329_11ea_ab5d_4865ee12e626row2_col0\" class=\"data row2 col0\" >Rilo Kiley</td>\n",
       "                        <td id=\"T_e67b7a12_3329_11ea_ab5d_4865ee12e626row2_col1\" class=\"data row2 col1\" >With Arms Outstretched</td>\n",
       "                        <td id=\"T_e67b7a12_3329_11ea_ab5d_4865ee12e626row2_col2\" class=\"data row2 col2\" >James</td>\n",
       "            </tr>\n",
       "            <tr>\n",
       "                        <th id=\"T_e67b7a12_3329_11ea_ab5d_4865ee12e626level0_row3\" class=\"row_heading level0 row3\" >3</th>\n",
       "                        <td id=\"T_e67b7a12_3329_11ea_ab5d_4865ee12e626row3_col0\" class=\"data row3 col0\" >Red Hot Chili Peppers</td>\n",
       "                        <td id=\"T_e67b7a12_3329_11ea_ab5d_4865ee12e626row3_col1\" class=\"data row3 col1\" >Otherside</td>\n",
       "                        <td id=\"T_e67b7a12_3329_11ea_ab5d_4865ee12e626row3_col2\" class=\"data row3 col2\" >James</td>\n",
       "            </tr>\n",
       "    </tbody></table>"
      ],
      "text/plain": [
       "<pandas.io.formats.style.Styler at 0x1a17074eb8>"
      ]
     },
     "execution_count": 7,
     "metadata": {},
     "output_type": "execute_result"
    }
   ],
   "source": [
    "james_recs=[['artist','track']]\n",
    "james_recs.append(['Eve 6',\"Here's to the Night\"])\n",
    "james_recs.append(['Neutral Milk Hotel',\"Into the Aeroplane Over the Sea\"])\n",
    "james_recs.append(['Rilo Kiley',\"With Arms Outstretched\"])\n",
    "james_recs.append(['Red Hot Chili Peppers',\"Otherside\"])\n",
    "\n",
    "df_james_recs = pd.DataFrame(james_recs[1:],columns=james_recs[0])\n",
    "df_james_recs['Recommended By'] = 'James'\n",
    "df_james_recs.style.set_caption('JAMES')"
   ]
  },
  {
   "cell_type": "code",
   "execution_count": 8,
   "metadata": {
    "ExecuteTime": {
     "end_time": "2020-01-09T21:49:24.192497Z",
     "start_time": "2020-01-09T21:49:24.179153Z"
    },
    "hidden": true
   },
   "outputs": [
    {
     "data": {
      "text/html": [
       "<div>\n",
       "<style scoped>\n",
       "    .dataframe tbody tr th:only-of-type {\n",
       "        vertical-align: middle;\n",
       "    }\n",
       "\n",
       "    .dataframe tbody tr th {\n",
       "        vertical-align: top;\n",
       "    }\n",
       "\n",
       "    .dataframe thead th {\n",
       "        text-align: right;\n",
       "    }\n",
       "</style>\n",
       "<table border=\"1\" class=\"dataframe\">\n",
       "  <thead>\n",
       "    <tr style=\"text-align: right;\">\n",
       "      <th></th>\n",
       "      <th>artist</th>\n",
       "      <th>track</th>\n",
       "      <th>Recommended By</th>\n",
       "    </tr>\n",
       "  </thead>\n",
       "  <tbody>\n",
       "    <tr>\n",
       "      <td>0</td>\n",
       "      <td>Black Eyed Peas</td>\n",
       "      <td>Let's Get it Started</td>\n",
       "      <td>John</td>\n",
       "    </tr>\n",
       "    <tr>\n",
       "      <td>1</td>\n",
       "      <td>Lady GaGa</td>\n",
       "      <td>Poker Face</td>\n",
       "      <td>John</td>\n",
       "    </tr>\n",
       "    <tr>\n",
       "      <td>2</td>\n",
       "      <td>Lady GaGa</td>\n",
       "      <td>Bad Romance</td>\n",
       "      <td>John</td>\n",
       "    </tr>\n",
       "    <tr>\n",
       "      <td>0</td>\n",
       "      <td>Smashing Pumpkins</td>\n",
       "      <td>Tonight, Tonight</td>\n",
       "      <td>Anne</td>\n",
       "    </tr>\n",
       "    <tr>\n",
       "      <td>1</td>\n",
       "      <td>Black Eyed Peas</td>\n",
       "      <td>Let's Get it Started</td>\n",
       "      <td>Anne</td>\n",
       "    </tr>\n",
       "    <tr>\n",
       "      <td>2</td>\n",
       "      <td>Green Day</td>\n",
       "      <td>Time of your Life</td>\n",
       "      <td>Anne</td>\n",
       "    </tr>\n",
       "    <tr>\n",
       "      <td>0</td>\n",
       "      <td>Green Day</td>\n",
       "      <td>Time of your Life</td>\n",
       "      <td>Joe</td>\n",
       "    </tr>\n",
       "    <tr>\n",
       "      <td>1</td>\n",
       "      <td>B-52s</td>\n",
       "      <td>Rock Lobster</td>\n",
       "      <td>Joe</td>\n",
       "    </tr>\n",
       "    <tr>\n",
       "      <td>2</td>\n",
       "      <td>Lady GaGa</td>\n",
       "      <td>Poker Face</td>\n",
       "      <td>Joe</td>\n",
       "    </tr>\n",
       "    <tr>\n",
       "      <td>3</td>\n",
       "      <td>John Lennon</td>\n",
       "      <td>Imagine</td>\n",
       "      <td>Joe</td>\n",
       "    </tr>\n",
       "    <tr>\n",
       "      <td>0</td>\n",
       "      <td>Black Eyed Peas</td>\n",
       "      <td>Let's Get it Started</td>\n",
       "      <td>Samantha</td>\n",
       "    </tr>\n",
       "    <tr>\n",
       "      <td>1</td>\n",
       "      <td>Panic at the Disco</td>\n",
       "      <td>Hallelujah</td>\n",
       "      <td>Samantha</td>\n",
       "    </tr>\n",
       "    <tr>\n",
       "      <td>2</td>\n",
       "      <td>Adele</td>\n",
       "      <td>Set Fire to the Rain</td>\n",
       "      <td>Samantha</td>\n",
       "    </tr>\n",
       "    <tr>\n",
       "      <td>0</td>\n",
       "      <td>Eve 6</td>\n",
       "      <td>Here's to the Night</td>\n",
       "      <td>James</td>\n",
       "    </tr>\n",
       "    <tr>\n",
       "      <td>1</td>\n",
       "      <td>Neutral Milk Hotel</td>\n",
       "      <td>Into the Aeroplane Over the Sea</td>\n",
       "      <td>James</td>\n",
       "    </tr>\n",
       "    <tr>\n",
       "      <td>2</td>\n",
       "      <td>Rilo Kiley</td>\n",
       "      <td>With Arms Outstretched</td>\n",
       "      <td>James</td>\n",
       "    </tr>\n",
       "    <tr>\n",
       "      <td>3</td>\n",
       "      <td>Red Hot Chili Peppers</td>\n",
       "      <td>Otherside</td>\n",
       "      <td>James</td>\n",
       "    </tr>\n",
       "  </tbody>\n",
       "</table>\n",
       "</div>"
      ],
      "text/plain": [
       "                  artist                            track Recommended By\n",
       "0        Black Eyed Peas             Let's Get it Started           John\n",
       "1              Lady GaGa                       Poker Face           John\n",
       "2              Lady GaGa                      Bad Romance           John\n",
       "0      Smashing Pumpkins                 Tonight, Tonight           Anne\n",
       "1        Black Eyed Peas             Let's Get it Started           Anne\n",
       "2              Green Day                Time of your Life           Anne\n",
       "0              Green Day                Time of your Life            Joe\n",
       "1                  B-52s                     Rock Lobster            Joe\n",
       "2              Lady GaGa                       Poker Face            Joe\n",
       "3            John Lennon                          Imagine            Joe\n",
       "0        Black Eyed Peas             Let's Get it Started       Samantha\n",
       "1     Panic at the Disco                       Hallelujah       Samantha\n",
       "2                  Adele             Set Fire to the Rain       Samantha\n",
       "0                  Eve 6              Here's to the Night          James\n",
       "1     Neutral Milk Hotel  Into the Aeroplane Over the Sea          James\n",
       "2             Rilo Kiley           With Arms Outstretched          James\n",
       "3  Red Hot Chili Peppers                        Otherside          James"
      ]
     },
     "execution_count": 8,
     "metadata": {},
     "output_type": "execute_result"
    }
   ],
   "source": [
    "df = pd.concat([df_john_recs,df_anne_recs,\n",
    "                df_joe_recs,df_samantha_recs,\n",
    "               df_james_recs],axis=0)\n",
    "df"
   ]
  },
  {
   "cell_type": "code",
   "execution_count": 9,
   "metadata": {
    "ExecuteTime": {
     "end_time": "2020-01-09T21:49:24.198379Z",
     "start_time": "2020-01-09T21:49:24.194322Z"
    },
    "hidden": true
   },
   "outputs": [
    {
     "name": "stdout",
     "output_type": "stream",
     "text": [
      "13 12\n"
     ]
    },
    {
     "data": {
      "text/plain": [
       "{'Bad Romance',\n",
       " 'Hallelujah',\n",
       " \"Here's to the Night\",\n",
       " 'Imagine',\n",
       " 'Into the Aeroplane Over the Sea',\n",
       " \"Let's Get it Started\",\n",
       " 'Otherside',\n",
       " 'Poker Face',\n",
       " 'Rock Lobster',\n",
       " 'Set Fire to the Rain',\n",
       " 'Time of your Life',\n",
       " 'Tonight, Tonight',\n",
       " 'With Arms Outstretched'}"
      ]
     },
     "execution_count": 9,
     "metadata": {},
     "output_type": "execute_result"
    }
   ],
   "source": [
    "## Making Sample Spaces for Tracks and artists\n",
    "sTracks = set(df['track'])\n",
    "sArtists = set(df['artist'])\n",
    "\n",
    "print(len(sTracks),len(sArtists))\n",
    "sTracks#,sArtists"
   ]
  },
  {
   "cell_type": "markdown",
   "metadata": {
    "hidden": true
   },
   "source": [
    "### Q1: How many different ways could we build a playlist using everyone's recommendations (without shuffle, no looping, and no repeated songs)?"
   ]
  },
  {
   "cell_type": "markdown",
   "metadata": {
    "ExecuteTime": {
     "end_time": "2020-01-07T22:40:05.942473Z",
     "start_time": "2020-01-07T22:40:05.940474Z"
    },
    "hidden": true
   },
   "source": [
    "- Q: Combination or permutation?\n",
    "    -  Permutation"
   ]
  },
  {
   "cell_type": "markdown",
   "metadata": {
    "ExecuteTime": {
     "end_time": "2020-01-07T22:40:05.942473Z",
     "start_time": "2020-01-07T22:40:05.940474Z"
    },
    "hidden": true
   },
   "source": [
    "- Q: What formula would we use?\n",
    " $$\\large P(n) = n!$$"
   ]
  },
  {
   "cell_type": "code",
   "execution_count": 10,
   "metadata": {
    "ExecuteTime": {
     "end_time": "2020-01-09T21:49:24.202392Z",
     "start_time": "2020-01-09T21:49:24.199609Z"
    },
    "hidden": true
   },
   "outputs": [
    {
     "data": {
      "text/plain": [
       "'6,227,020,800'"
      ]
     },
     "execution_count": 10,
     "metadata": {},
     "output_type": "execute_result"
    }
   ],
   "source": [
    "from math import factorial\n",
    "\"{:,}\".format(factorial(len(sTracks)))"
   ]
  },
  {
   "cell_type": "markdown",
   "metadata": {
    "hidden": true
   },
   "source": [
    "### Q2: What if we limit the playlist to only 10 songs, without replacement?"
   ]
  },
  {
   "cell_type": "markdown",
   "metadata": {
    "ExecuteTime": {
     "end_time": "2020-01-07T22:40:05.942473Z",
     "start_time": "2020-01-07T22:40:05.940474Z"
    },
    "hidden": true
   },
   "source": [
    "- Q: Combination or permutation?\n",
    "    - Permutation"
   ]
  },
  {
   "cell_type": "markdown",
   "metadata": {
    "ExecuteTime": {
     "end_time": "2020-01-07T22:40:05.942473Z",
     "start_time": "2020-01-07T22:40:05.940474Z"
    },
    "hidden": true
   },
   "source": [
    "- Q: What formula would we use?\n",
    "$$ \\large P_{k}^{n}= \\dfrac{n!}{(n-k)!}$$ \n"
   ]
  },
  {
   "cell_type": "code",
   "execution_count": 11,
   "metadata": {
    "ExecuteTime": {
     "end_time": "2020-01-09T21:49:24.206220Z",
     "start_time": "2020-01-09T21:49:24.203452Z"
    },
    "hidden": true
   },
   "outputs": [
    {
     "data": {
      "text/plain": [
       "'1,037,836,800.0'"
      ]
     },
     "execution_count": 11,
     "metadata": {},
     "output_type": "execute_result"
    }
   ],
   "source": [
    "p_10_13 = factorial(13) / factorial(13-10)\n",
    "\"{:,}\".format(p_10_13)"
   ]
  },
  {
   "cell_type": "markdown",
   "metadata": {
    "hidden": true
   },
   "source": [
    "### Q3: what if we limit the playlist to 10 songs, WITH replacement?"
   ]
  },
  {
   "cell_type": "markdown",
   "metadata": {
    "ExecuteTime": {
     "end_time": "2020-01-07T22:40:05.942473Z",
     "start_time": "2020-01-07T22:40:05.940474Z"
    },
    "hidden": true
   },
   "source": [
    "- Q: Combination or permutation?\n",
    "    - Permutation"
   ]
  },
  {
   "cell_type": "markdown",
   "metadata": {
    "ExecuteTime": {
     "end_time": "2020-01-07T22:40:05.942473Z",
     "start_time": "2020-01-07T22:40:05.940474Z"
    },
    "hidden": true
   },
   "source": [
    "- Q: What formula would we use?\n",
    "$$ \\large {P}_{j}^{n} = n^j $$\n"
   ]
  },
  {
   "cell_type": "code",
   "execution_count": 12,
   "metadata": {
    "ExecuteTime": {
     "end_time": "2020-01-09T21:49:24.209952Z",
     "start_time": "2020-01-09T21:49:24.207207Z"
    },
    "hidden": true
   },
   "outputs": [
    {
     "data": {
      "text/plain": [
       "'137,858,491,849'"
      ]
     },
     "execution_count": 12,
     "metadata": {},
     "output_type": "execute_result"
    }
   ],
   "source": [
    "p_10_13R = 13**10\n",
    "\"{:,}\".format(p_10_13R)"
   ]
  },
  {
   "cell_type": "markdown",
   "metadata": {
    "hidden": true
   },
   "source": [
    "### Q4: what if we select 10 songs out of the total number of suggestions and allow for repitition?"
   ]
  },
  {
   "cell_type": "code",
   "execution_count": 13,
   "metadata": {
    "ExecuteTime": {
     "end_time": "2020-01-09T21:49:24.217366Z",
     "start_time": "2020-01-09T21:49:24.211077Z"
    },
    "hidden": true
   },
   "outputs": [
    {
     "name": "stdout",
     "output_type": "stream",
     "text": [
      "17\n"
     ]
    },
    {
     "data": {
      "text/plain": [
       "Let's Get it Started               3\n",
       "Time of your Life                  2\n",
       "Poker Face                         2\n",
       "Bad Romance                        1\n",
       "Imagine                            1\n",
       "Here's to the Night                1\n",
       "Hallelujah                         1\n",
       "Into the Aeroplane Over the Sea    1\n",
       "Tonight, Tonight                   1\n",
       "Otherside                          1\n",
       "With Arms Outstretched             1\n",
       "Set Fire to the Rain               1\n",
       "Rock Lobster                       1\n",
       "Name: track, dtype: int64"
      ]
     },
     "execution_count": 13,
     "metadata": {},
     "output_type": "execute_result"
    }
   ],
   "source": [
    "print(df['track'].value_counts().sum())\n",
    "df['track'].value_counts()"
   ]
  },
  {
   "cell_type": "markdown",
   "metadata": {
    "ExecuteTime": {
     "end_time": "2020-01-07T22:40:05.942473Z",
     "start_time": "2020-01-07T22:40:05.940474Z"
    },
    "hidden": true
   },
   "source": [
    "- Q: Combination or permutation?\n",
    "    - Permutation"
   ]
  },
  {
   "cell_type": "markdown",
   "metadata": {
    "ExecuteTime": {
     "end_time": "2020-01-07T22:40:05.942473Z",
     "start_time": "2020-01-07T22:40:05.940474Z"
    },
    "hidden": true
   },
   "source": [
    "- Q: What formula would we use?\n",
    "$$\\dfrac{n!}{n_1!n_2!\\ldots n_j!}$$\n"
   ]
  },
  {
   "cell_type": "code",
   "execution_count": 14,
   "metadata": {
    "ExecuteTime": {
     "end_time": "2020-01-09T21:49:24.221459Z",
     "start_time": "2020-01-09T21:49:24.218336Z"
    },
    "hidden": true
   },
   "outputs": [
    {
     "data": {
      "text/plain": [
       "'14,820,309,504,000.0'"
      ]
     },
     "execution_count": 14,
     "metadata": {},
     "output_type": "execute_result"
    }
   ],
   "source": [
    "p17R = factorial(17) / (factorial(3)*factorial(2)*factorial(2))\n",
    "\"{:,}\".format(p17R)"
   ]
  },
  {
   "cell_type": "markdown",
   "metadata": {
    "hidden": true
   },
   "source": [
    "## We realize we need to relax and not worry about the song-order. That's what Shuffle is for, right?"
   ]
  },
  {
   "cell_type": "markdown",
   "metadata": {
    "hidden": true
   },
   "source": [
    "### Q5: How many playlists can we produce for an 8-track playlist from the unique suggested songs (10)?"
   ]
  },
  {
   "cell_type": "markdown",
   "metadata": {
    "ExecuteTime": {
     "end_time": "2020-01-07T22:40:05.942473Z",
     "start_time": "2020-01-07T22:40:05.940474Z"
    },
    "hidden": true
   },
   "source": [
    "- Q: Combination or permutation?\n",
    "    - Combination"
   ]
  },
  {
   "cell_type": "markdown",
   "metadata": {
    "ExecuteTime": {
     "end_time": "2020-01-07T22:40:05.942473Z",
     "start_time": "2020-01-07T22:40:05.940474Z"
    },
    "hidden": true
   },
   "source": [
    "- Q: What formula would we use?\n",
    "$$\\large C_{k}^{n} = \\displaystyle\\binom{n}{k} = \\dfrac{P_{k}^{n}}{k!}=\\dfrac{ \\dfrac{n!}{(n-k)!}}{k!} = \\dfrac{n!}{(n-k)!k!}$$"
   ]
  },
  {
   "cell_type": "code",
   "execution_count": 15,
   "metadata": {
    "ExecuteTime": {
     "end_time": "2020-01-09T21:49:24.226665Z",
     "start_time": "2020-01-09T21:49:24.222673Z"
    },
    "hidden": true
   },
   "outputs": [
    {
     "data": {
      "text/plain": [
       "'45.0'"
      ]
     },
     "execution_count": 15,
     "metadata": {},
     "output_type": "execute_result"
    }
   ],
   "source": [
    "c_8_10 = factorial(10)/ (factorial((10-8))*factorial(8))\n",
    "\"{:,}\".format(c_8_10)"
   ]
  },
  {
   "cell_type": "markdown",
   "metadata": {
    "heading_collapsed": true
   },
   "source": [
    "# Probability (review)\n"
   ]
  },
  {
   "cell_type": "markdown",
   "metadata": {
    "hidden": true
   },
   "source": [
    "## What is probability?"
   ]
  },
  {
   "cell_type": "markdown",
   "metadata": {
    "colab_type": "text",
    "hidden": true,
    "id": "hHKVcR-FYNqf"
   },
   "source": [
    "> **Probability is the likelihood of a specific outcome/event occuring out of all possible outcomes, expressed as a fraction between 0 and 1**\n",
    "\n",
    "Example Probability Qs:\n",
    "- How likely is it to end up with heads when flipping a coin once? (the answer here is 50% - not very surprising)\n",
    "\n",
    "- How likely is it to end up with exactly 2 x heads and 3 x tails when flipping a coin 5 times?\n",
    "\n",
    "- How likely is it to throw tails first, then heads, then tails, then heads, then tails when flipping a coin 5 times?\n",
    "\n",
    "- If you throw 5 dice, what is the probability of throwing a [\"full house\"](http://grail.sourceforge.net/demo/yahtzee/rules.html)?\n",
    "\n",
    "- What is the probability of drawing 2 consecutive aces from a standard deck of cards?\n",
    "\n",
    "> But how do we calculate it? ..._to be continued_...\n",
    "\n"
   ]
  },
  {
   "cell_type": "markdown",
   "metadata": {
    "colab_type": "text",
    "hidden": true,
    "id": "5yI4j_L6XcBp"
   },
   "source": [
    "### Sample Space & Event Space"
   ]
  },
  {
   "cell_type": "markdown",
   "metadata": {
    "colab_type": "text",
    "hidden": true,
    "id": "5yI4j_L6XcBp"
   },
   "source": [
    "##### Sample space:\n",
    "$$S = \\{ 1,2,3,4,5,6\\}$$ \n",
    "being the possible outcomes when throwing a dice.\n",
    "- Sample space =  $\\Omega$ \n",
    "\n",
    "##### Event space:\n",
    "-   The **event space** is a subset of the sample space. It is the **desired outcome** of the experiment.\n",
    "$$E \\subseteq S$$\n",
    "-   Example:\n",
    "    -   Throwing an odd number would lead to an event space $$E = \\{ 1,3,5\\}$$."
   ]
  },
  {
   "cell_type": "markdown",
   "metadata": {
    "hidden": true
   },
   "source": [
    "### Probability of an Event"
   ]
  },
  {
   "cell_type": "markdown",
   "metadata": {
    "hidden": true
   },
   "source": [
    "$$ P(E) = \\frac{|E|}{|S|} $$\n",
    "probability is the number of possible preferred outcomes over the sample space / all outcomes"
   ]
  },
  {
   "cell_type": "markdown",
   "metadata": {
    "colab_type": "text",
    "hidden": true,
    "id": "5yI4j_L6XcBp"
   },
   "source": [
    "### Law of relative frequency"
   ]
  },
  {
   "cell_type": "markdown",
   "metadata": {
    "colab_type": "text",
    "hidden": true,
    "id": "5yI4j_L6XcBp"
   },
   "source": [
    "- Limit of large infinite outcomes produce fixed numbers .\n",
    "$$ \\large P(E) = \\lim_{n\\to\\infty}\\frac{S(n)}{n}$$\n",
    "    - Probability of Event E having Successful(S) outcomes for $n$ trials\n",
    "    "
   ]
  },
  {
   "cell_type": "markdown",
   "metadata": {
    "colab_type": "text",
    "hidden": true,
    "id": "5yI4j_L6XcBp"
   },
   "source": [
    "### Probability axioms"
   ]
  },
  {
   "cell_type": "markdown",
   "metadata": {
    "colab_type": "text",
    "hidden": true,
    "id": "5yI4j_L6XcBp"
   },
   "source": [
    "1.  Positivity : \n",
    "\n",
    "    - Prob is always $0 <= P(E) <=1$\n",
    "\n",
    "\n",
    "2.  Probability of a certain event:\n",
    "\n",
    "    - $P(S)=1$\n",
    "\n",
    "\n",
    "3.  Additivity Union of 2 exclusive sets = sum prob of individual events happening\n",
    "    \n",
    "    - If $A\\cap B = \\emptyset $, then $P(A\\cup B) = P(A) + P(B)$"
   ]
  },
  {
   "cell_type": "markdown",
   "metadata": {
    "colab_type": "text",
    "hidden": true,
    "id": "5yI4j_L6XcBp"
   },
   "source": [
    "### Addition law of probability "
   ]
  },
  {
   "cell_type": "markdown",
   "metadata": {
    "colab_type": "text",
    "hidden": true,
    "id": "5yI4j_L6XcBp"
   },
   "source": [
    "-   Prob of union of A and B is individual P minus intersection\n",
    "\n",
    "$$ \\large P(A\\cup B) = P(A) + P(B) - P(A \\cap B)$$"
   ]
  },
  {
   "cell_type": "markdown",
   "metadata": {
    "hidden": true
   },
   "source": [
    "## EXAMPLE PROBABILITY PROBLEMS WITH PLAYLISTS"
   ]
  },
  {
   "cell_type": "markdown",
   "metadata": {
    "hidden": true
   },
   "source": [
    "**If we just accept everyone's suggestions (full df) and play on shuffle:**"
   ]
  },
  {
   "cell_type": "markdown",
   "metadata": {
    "hidden": true
   },
   "source": [
    "- Q: What is the probability of hearing \"Let's Get it started\"?"
   ]
  },
  {
   "cell_type": "code",
   "execution_count": 16,
   "metadata": {
    "ExecuteTime": {
     "end_time": "2020-01-09T21:49:24.232774Z",
     "start_time": "2020-01-09T21:49:24.227908Z"
    },
    "hidden": true
   },
   "outputs": [
    {
     "data": {
      "text/plain": [
       "Let's Get it Started               3\n",
       "Time of your Life                  2\n",
       "Poker Face                         2\n",
       "Bad Romance                        1\n",
       "Imagine                            1\n",
       "Here's to the Night                1\n",
       "Hallelujah                         1\n",
       "Into the Aeroplane Over the Sea    1\n",
       "Tonight, Tonight                   1\n",
       "Otherside                          1\n",
       "With Arms Outstretched             1\n",
       "Set Fire to the Rain               1\n",
       "Rock Lobster                       1\n",
       "Name: track, dtype: int64"
      ]
     },
     "execution_count": 16,
     "metadata": {},
     "output_type": "execute_result"
    }
   ],
   "source": [
    "df['track'].value_counts()#sum()#sort_values('track')"
   ]
  },
  {
   "cell_type": "markdown",
   "metadata": {
    "hidden": true
   },
   "source": [
    "$$P(E) = |E| / |S|  $$"
   ]
  },
  {
   "cell_type": "code",
   "execution_count": 17,
   "metadata": {
    "ExecuteTime": {
     "end_time": "2020-01-09T21:49:24.236712Z",
     "start_time": "2020-01-09T21:49:24.233843Z"
    },
    "hidden": true
   },
   "outputs": [
    {
     "data": {
      "text/plain": [
       "0.17647058823529413"
      ]
     },
     "execution_count": 17,
     "metadata": {},
     "output_type": "execute_result"
    }
   ],
   "source": [
    "3/17"
   ]
  },
  {
   "cell_type": "code",
   "execution_count": 18,
   "metadata": {
    "ExecuteTime": {
     "end_time": "2020-01-09T21:49:24.243881Z",
     "start_time": "2020-01-09T21:49:24.237853Z"
    },
    "hidden": true,
    "scrolled": true
   },
   "outputs": [
    {
     "data": {
      "text/plain": [
       "Lady GaGa                3\n",
       "Black Eyed Peas          3\n",
       "Green Day                2\n",
       "Panic at the Disco       1\n",
       "B-52s                    1\n",
       "Eve 6                    1\n",
       "Smashing Pumpkins        1\n",
       "Red Hot Chili Peppers    1\n",
       "Adele                    1\n",
       "John Lennon              1\n",
       "Neutral Milk Hotel       1\n",
       "Rilo Kiley               1\n",
       "Name: artist, dtype: int64"
      ]
     },
     "metadata": {},
     "output_type": "display_data"
    },
    {
     "data": {
      "text/plain": [
       "17"
      ]
     },
     "execution_count": 18,
     "metadata": {},
     "output_type": "execute_result"
    }
   ],
   "source": [
    "display(df['artist'].value_counts())\n",
    "df['artist'].value_counts().sum()\n"
   ]
  },
  {
   "cell_type": "markdown",
   "metadata": {
    "hidden": true
   },
   "source": [
    "- Q: What is the probability of playing a song by Lady GaGa?"
   ]
  },
  {
   "cell_type": "code",
   "execution_count": 19,
   "metadata": {
    "ExecuteTime": {
     "end_time": "2020-01-09T21:49:24.247496Z",
     "start_time": "2020-01-09T21:49:24.245010Z"
    },
    "hidden": true
   },
   "outputs": [
    {
     "data": {
      "text/plain": [
       "0.17647058823529413"
      ]
     },
     "execution_count": 19,
     "metadata": {},
     "output_type": "execute_result"
    }
   ],
   "source": [
    "3/17"
   ]
  },
  {
   "cell_type": "markdown",
   "metadata": {},
   "source": [
    "# Probability- Part 2"
   ]
  },
  {
   "cell_type": "markdown",
   "metadata": {
    "heading_collapsed": true
   },
   "source": [
    "## Independent, Dependent, and Disjoint Events\n"
   ]
  },
  {
   "cell_type": "markdown",
   "metadata": {
    "hidden": true
   },
   "source": [
    "### Indepdent Events"
   ]
  },
  {
   "cell_type": "markdown",
   "metadata": {
    "hidden": true
   },
   "source": [
    "#### If 2 indepedent events:\n",
    "\n",
    "**Events $A$ and $B$ are independent when the occurrence of $A$ has no effect on whether $B$ will occur (or not).**\n",
    "\n",
    "- A and B are independent if:\n",
    "    - $P(A \\cap B) = P(A)\\cdot P(B)$\n",
    "\n",
    " <img src=\"https://raw.githubusercontent.com/jirvingphd/dsc-conditional-probability-online-ds-ft-100719/master/images/Image_67_independent.png\" width=400>\n",
    "\n",
    "- Probability of A or B occurring:\n",
    "    - $P (A \\cup B) = P(A) + P(B) - P(A \\cap B)$\n",
    "\n",
    " Thus, in the case of two independent events, by substitution,\n",
    "\n",
    "$$P (A \\cup B) = P(A) + P(B) - P(A)P(B).$$\n",
    "\n",
    "#### If 3 independent events:\n",
    "- A, B, and C are independent if:\n",
    "    - $P(A \\cap B) = P(A)P(B)$ \n",
    "    - $P(A \\cap C) = P(A)P(C)$ \n",
    "    - $P(B \\cap C) = P(B)P(C)$\n",
    "    - $P(A \\cap B \\cap C) = P(A)P(B)P(C)$\n",
    "    - So you need both *pairwise independence* and *three-way independence*\n"
   ]
  },
  {
   "cell_type": "markdown",
   "metadata": {
    "hidden": true
   },
   "source": [
    "### Disjoint Events\n"
   ]
  },
  {
   "cell_type": "markdown",
   "metadata": {
    "hidden": true
   },
   "source": [
    "<img src=\"https://raw.githubusercontent.com/jirvingphd/dsc-conditional-probability-online-ds-ft-100719/master/images/Image_68Disjoint.png\" width=400>\n",
    "\n",
    "\n",
    "**Events $A$ and $B$ are disjoint if $A$ occurring means that $B$ cannot occur.**\n",
    "\n",
    "Disjoint events are **mutually exclusive**. $P (A \\cap B)$ is **empty**.\n"
   ]
  },
  {
   "cell_type": "markdown",
   "metadata": {
    "hidden": true
   },
   "source": [
    "### Dependent Events"
   ]
  },
  {
   "cell_type": "markdown",
   "metadata": {
    "hidden": true
   },
   "source": [
    "**Events $A$ and $B$ are dependent when the occurrence of $A$ somehow has an effect on whether $B$ will occur (or not).**\n",
    "\n",
    "\n",
    "In simple terms, the probability of seeing an event $B$ in the second trial depends on the outcome $A$ of the first trial. We say that $P(B)$ is **conditional** on $P(A)$.\n",
    "\n",
    "A **tree diagram** can be used to explore all possible events.\n",
    "\n",
    "<img src=\"https://raw.githubusercontent.com/jirvingphd/dsc-conditional-probability-online-ds-ft-100719/master/images/Image_71_TreeDiag.png\" width = 500>\n"
   ]
  },
  {
   "cell_type": "markdown",
   "metadata": {
    "ExecuteTime": {
     "end_time": "2020-01-09T21:44:03.999140Z",
     "start_time": "2020-01-09T21:44:03.996502Z"
    },
    "heading_collapsed": true
   },
   "source": [
    "## Conditional Probability"
   ]
  },
  {
   "cell_type": "markdown",
   "metadata": {
    "hidden": true
   },
   "source": [
    "\n",
    "**Conditional probability emerges when the outcome a trial may influence the results of the upcoming trials.**\n",
    "\n",
    "The conditional probability (Probability of $A$ **given** $B$) can be written as:\n",
    "$$ P (A \\mid B) = \\dfrac{P(A \\cap B)}{P(B)}$$\n",
    "\n",
    "\n",
    "\n",
    "$P(A|B)$, is the probability A **given** that $B$ has just happened. \n"
   ]
  },
  {
   "cell_type": "markdown",
   "metadata": {
    "hidden": true
   },
   "source": [
    "### Derivation of Conditional Probability\n",
    "Understanding this formula may be easier if you look at two simple Venn Diagrams and use the multiplication rule. Here's how to derive this formula:\n",
    "<img src=\"https://raw.githubusercontent.com/jirvingphd/dsc-conditional-probability-online-ds-ft-100719/master/images/Image_72_Cond4.png\" width=\"300\">\n",
    "\n",
    "\n",
    "\n",
    "Step 1: Write out the multiplication rule:\n",
    "* $P(A \\cap B)= P(B)*P(A\\mid B)$\n",
    "\n",
    "Step 2: Divide both sides of the equation by P(B):\n",
    "* $\\dfrac{P(A \\cap B)}{ P(B)} = \\dfrac{P(B)*P(A\\mid B)}{P(B)}$\n",
    "\n",
    "Step 3: Cancel P(B) on the right side of the equation:\n",
    "* $\\dfrac{P(A \\cap B)}{P(B)} = P(A \\mid B)$\n",
    "\n",
    "Step 4: This is of course equal to:\n",
    "* $ P(A \\mid B)=\\dfrac{P(A \\cap B)}{P(B)} $\n",
    "\n",
    "And this is our conditional probability formula. \n",
    "\n"
   ]
  },
  {
   "cell_type": "markdown",
   "metadata": {
    "heading_collapsed": true
   },
   "source": [
    "## 🚨Laws & Theorems Based on Conditional Probability\n"
   ]
  },
  {
   "cell_type": "markdown",
   "metadata": {
    "hidden": true
   },
   "source": [
    "### Theorem 1: Product Rule\n",
    "\n",
    "The intersection of events $A$ and $B$ can be given by\n",
    "\n",
    "\\begin{align}\n",
    "    P(A \\cap B) = P(B) P(A \\mid B) = P(A) P(B \\mid A)\n",
    "\\end{align}\n",
    "\n",
    "Remember that if $A$ and $B$ are independent, then conditioning on $B$ means nothing (and vice-versa) so:\n",
    "- $P(A|B) = P(A)$, and \n",
    "- $P(A \\cap B) = P(A) P(B)$.\n"
   ]
  },
  {
   "cell_type": "markdown",
   "metadata": {
    "hidden": true
   },
   "source": [
    "### Theorem 2: Chain Rule AKA \"General Product Rule\"\n",
    "\n",
    "- Allows calculation of any member of the join distribution of a set of random variables using _only_ conditional probabilities.\n",
    "\n",
    "- Built on the product rule: \n",
    "$$P(A \\cap B) = P(A \\mid B) P(B)$$\n",
    "\n",
    "- When applied to 3 variables, becomes:\n",
    "\n",
    "\n",
    "$$P(A\\cap B \\cap C) = P(A\\cap( B \\cap C))$$\n",
    "$$ = P(A\\mid B \\cap C) P(B \\cap C)$$\n",
    "$$ = P(A \\mid B \\cap C) P(B \\mid C) P(C)$$\n",
    "\n",
    "And you can keep extending this to $n$ variables:\n",
    "\n",
    "$$P(A_1 \\cap A_2 \\cap \\ldots \\cap A_n) = P(A_1 \\mid A_2 \\cap \\ldots\\cap A_n) P(A_2 \\mid A_3  \\cap \\ldots \\cap \\ A_n) P(A_{n-1}|A_n) P(A_n)$$\n",
    "\n",
    "This idea is known as the **chain rule**.\n",
    "\n",
    "\n",
    "\n",
    "#### Inverse chain rule?\n",
    "If on the other hand you have disjoint events $C_1, C_2,...,C_m$ such that $C_1\\cup C_2\\cup ··· \\cup  C_m = \\Omega$, the probability of any event can be decomposed as:\n",
    "\n",
    "\\begin{align}\n",
    "P(A) = P(A \\mid C_1)P(C_1) + P(A \\mid C_2)P(C_2) + \\ldots + P(A \\mid C_m)P(C_m)\n",
    "\\end{align}\n",
    "\n"
   ]
  },
  {
   "cell_type": "markdown",
   "metadata": {
    "hidden": true
   },
   "source": [
    "### Theorem 3 - Bayes Theorem"
   ]
  },
  {
   "cell_type": "markdown",
   "metadata": {
    "hidden": true
   },
   "source": [
    "\n",
    "\n",
    "The **Bayes theorem**, which is the outcome of this section. Below is the formula that we will dig deeper into in upcoming lessons.\n",
    "\n",
    "$$ P(A|B) = \\frac{P(B|A)P(A)}{P(B)} $$\n",
    "\n",
    "- It uses that $P(A \\cap B) = P(B) P(A \\mid B) = P(A) P(B \\mid A)$. \n",
    "- Note that, using Bayes theorem, you **can compute conditional probabilities without explicitly needing to know $P(A \\cap B)$!** "
   ]
  },
  {
   "cell_type": "markdown",
   "metadata": {
    "hidden": true
   },
   "source": [
    "\n",
    "### Additional note: the complement of an event\n",
    "\n",
    "You learned about (absolute and relative) complements before, but the complement of an event is also applicable to conditional probabilities.\n",
    "\n",
    "The basic rule is:\n",
    "\n",
    "$P(A) + P(A') = 1$\n",
    "\n",
    "with A' being the complement of A.\n",
    "\n",
    "Similarly, extending this to conditional probabilities:\n",
    "\n",
    "$P(A|B) + P(A'|B) = 1$"
   ]
  },
  {
   "cell_type": "markdown",
   "metadata": {},
   "source": [
    "## Conditional Probability with Playlists"
   ]
  },
  {
   "cell_type": "markdown",
   "metadata": {},
   "source": [
    "### Q: what is the probability of hearing a \"Poker Face\" given that the song is by Lady GaGa?"
   ]
  },
  {
   "cell_type": "code",
   "execution_count": 42,
   "metadata": {
    "ExecuteTime": {
     "end_time": "2020-01-08T00:01:55.207327Z",
     "start_time": "2020-01-08T00:01:55.200384Z"
    }
   },
   "outputs": [
    {
     "data": {
      "text/plain": [
       "Let's Get it Started               3\n",
       "Poker Face                         2\n",
       "Time of your Life                  2\n",
       "Bad Romance                        1\n",
       "Hallelujah                         1\n",
       "Rock Lobster                       1\n",
       "With Arms Outstretched             1\n",
       "Tonight, Tonight                   1\n",
       "Set Fire to the Rain               1\n",
       "Imagine                            1\n",
       "Otherside                          1\n",
       "Here's to the Night                1\n",
       "Into the Aeroplane Over the Sea    1\n",
       "Name: track, dtype: int64"
      ]
     },
     "execution_count": 42,
     "metadata": {},
     "output_type": "execute_result"
    }
   ],
   "source": [
    "df['track'].value_counts()"
   ]
  },
  {
   "cell_type": "code",
   "execution_count": 41,
   "metadata": {
    "ExecuteTime": {
     "end_time": "2020-01-08T00:01:34.144249Z",
     "start_time": "2020-01-08T00:01:34.137137Z"
    }
   },
   "outputs": [
    {
     "data": {
      "text/plain": [
       "artist\n",
       "Adele                    1\n",
       "B-52s                    1\n",
       "Black Eyed Peas          3\n",
       "Eve 6                    1\n",
       "Green Day                2\n",
       "John Lennon              1\n",
       "Lady GaGa                3\n",
       "Neutral Milk Hotel       1\n",
       "Panic at the Disco       1\n",
       "Red Hot Chili Peppers    1\n",
       "Rilo Kiley               1\n",
       "Smashing Pumpkins        1\n",
       "Name: track, dtype: int64"
      ]
     },
     "metadata": {},
     "output_type": "display_data"
    }
   ],
   "source": [
    "display(df.groupby('artist')['track'].count())"
   ]
  },
  {
   "cell_type": "markdown",
   "metadata": {},
   "source": [
    "- What is the probability of playing Poker Face given that its a Lady GaGa song?\n",
    "\n",
    "$$ P(PokerFace|LadyGaga)$$"
   ]
  },
  {
   "cell_type": "code",
   "execution_count": 46,
   "metadata": {
    "ExecuteTime": {
     "end_time": "2020-01-08T00:04:07.173629Z",
     "start_time": "2020-01-08T00:04:07.165831Z"
    }
   },
   "outputs": [
    {
     "data": {
      "text/plain": [
       "Poker Face     2\n",
       "Bad Romance    1\n",
       "Name: track, dtype: int64"
      ]
     },
     "execution_count": 46,
     "metadata": {},
     "output_type": "execute_result"
    }
   ],
   "source": [
    "df.groupby('artist').get_group('Lady GaGa')['track'].value_counts()"
   ]
  },
  {
   "cell_type": "code",
   "execution_count": 48,
   "metadata": {
    "ExecuteTime": {
     "end_time": "2020-01-08T00:04:55.886609Z",
     "start_time": "2020-01-08T00:04:55.883253Z"
    }
   },
   "outputs": [
    {
     "data": {
      "text/plain": [
       "0.6666666666666666"
      ]
     },
     "execution_count": 48,
     "metadata": {},
     "output_type": "execute_result"
    }
   ],
   "source": [
    "# |s|=3 \n",
    "# |e| = 2\n",
    "2/3"
   ]
  },
  {
   "cell_type": "markdown",
   "metadata": {
    "ExecuteTime": {
     "end_time": "2020-01-09T21:50:32.639351Z",
     "start_time": "2020-01-09T21:50:32.637220Z"
    }
   },
   "source": [
    "# From Dinner Party Playlist to House Party Playlists"
   ]
  },
  {
   "cell_type": "markdown",
   "metadata": {
    "ExecuteTime": {
     "end_time": "2020-01-09T21:51:53.081763Z",
     "start_time": "2020-01-09T21:51:53.077870Z"
    }
   },
   "source": [
    "- House party spread across 3 rooms (living room, basement, back patio).\n",
    "- Separate playlists playing at each location\n",
    "- Calculate conditinal probability / total probability examples"
   ]
  },
  {
   "cell_type": "code",
   "execution_count": 66,
   "metadata": {
    "ExecuteTime": {
     "end_time": "2020-01-09T22:06:30.118285Z",
     "start_time": "2020-01-09T22:06:30.085114Z"
    }
   },
   "outputs": [
    {
     "data": {
      "text/html": [
       "<div>\n",
       "<style scoped>\n",
       "    .dataframe tbody tr th:only-of-type {\n",
       "        vertical-align: middle;\n",
       "    }\n",
       "\n",
       "    .dataframe tbody tr th {\n",
       "        vertical-align: top;\n",
       "    }\n",
       "\n",
       "    .dataframe thead th {\n",
       "        text-align: right;\n",
       "    }\n",
       "</style>\n",
       "<table border=\"1\" class=\"dataframe\">\n",
       "  <thead>\n",
       "    <tr style=\"text-align: right;\">\n",
       "      <th></th>\n",
       "      <th>artist</th>\n",
       "      <th>track</th>\n",
       "      <th>Recommended By</th>\n",
       "      <th>Room</th>\n",
       "    </tr>\n",
       "  </thead>\n",
       "  <tbody>\n",
       "    <tr>\n",
       "      <td>0</td>\n",
       "      <td>Red Hot Chili Peppers</td>\n",
       "      <td>Otherside</td>\n",
       "      <td>James</td>\n",
       "      <td>living_room</td>\n",
       "    </tr>\n",
       "    <tr>\n",
       "      <td>1</td>\n",
       "      <td>Black Eyed Peas</td>\n",
       "      <td>Let's Get it Started</td>\n",
       "      <td>Anne</td>\n",
       "      <td>living_room</td>\n",
       "    </tr>\n",
       "    <tr>\n",
       "      <td>2</td>\n",
       "      <td>Lady GaGa</td>\n",
       "      <td>Poker Face</td>\n",
       "      <td>John</td>\n",
       "      <td>living_room</td>\n",
       "    </tr>\n",
       "    <tr>\n",
       "      <td>3</td>\n",
       "      <td>Black Eyed Peas</td>\n",
       "      <td>Let's Get it Started</td>\n",
       "      <td>John</td>\n",
       "      <td>living_room</td>\n",
       "    </tr>\n",
       "    <tr>\n",
       "      <td>4</td>\n",
       "      <td>Neutral Milk Hotel</td>\n",
       "      <td>Into the Aeroplane Over the Sea</td>\n",
       "      <td>James</td>\n",
       "      <td>living_room</td>\n",
       "    </tr>\n",
       "    <tr>\n",
       "      <td>5</td>\n",
       "      <td>Green Day</td>\n",
       "      <td>Time of your Life</td>\n",
       "      <td>Joe</td>\n",
       "      <td>living_room</td>\n",
       "    </tr>\n",
       "    <tr>\n",
       "      <td>6</td>\n",
       "      <td>B-52s</td>\n",
       "      <td>Rock Lobster</td>\n",
       "      <td>Joe</td>\n",
       "      <td>living_room</td>\n",
       "    </tr>\n",
       "    <tr>\n",
       "      <td>7</td>\n",
       "      <td>Rilo Kiley</td>\n",
       "      <td>With Arms Outstretched</td>\n",
       "      <td>James</td>\n",
       "      <td>living_room</td>\n",
       "    </tr>\n",
       "    <tr>\n",
       "      <td>8</td>\n",
       "      <td>Lady GaGa</td>\n",
       "      <td>Bad Romance</td>\n",
       "      <td>John</td>\n",
       "      <td>living_room</td>\n",
       "    </tr>\n",
       "    <tr>\n",
       "      <td>9</td>\n",
       "      <td>Smashing Pumpkins</td>\n",
       "      <td>Tonight, Tonight</td>\n",
       "      <td>Anne</td>\n",
       "      <td>living_room</td>\n",
       "    </tr>\n",
       "    <tr>\n",
       "      <td>10</td>\n",
       "      <td>John Lennon</td>\n",
       "      <td>Imagine</td>\n",
       "      <td>Joe</td>\n",
       "      <td>living_room</td>\n",
       "    </tr>\n",
       "    <tr>\n",
       "      <td>11</td>\n",
       "      <td>Lady GaGa</td>\n",
       "      <td>Poker Face</td>\n",
       "      <td>Joe</td>\n",
       "      <td>living_room</td>\n",
       "    </tr>\n",
       "  </tbody>\n",
       "</table>\n",
       "</div>"
      ],
      "text/plain": [
       "                   artist                            track Recommended By  \\\n",
       "0   Red Hot Chili Peppers                        Otherside          James   \n",
       "1         Black Eyed Peas             Let's Get it Started           Anne   \n",
       "2               Lady GaGa                       Poker Face           John   \n",
       "3         Black Eyed Peas             Let's Get it Started           John   \n",
       "4      Neutral Milk Hotel  Into the Aeroplane Over the Sea          James   \n",
       "5               Green Day                Time of your Life            Joe   \n",
       "6                   B-52s                     Rock Lobster            Joe   \n",
       "7              Rilo Kiley           With Arms Outstretched          James   \n",
       "8               Lady GaGa                      Bad Romance           John   \n",
       "9       Smashing Pumpkins                 Tonight, Tonight           Anne   \n",
       "10            John Lennon                          Imagine            Joe   \n",
       "11              Lady GaGa                       Poker Face            Joe   \n",
       "\n",
       "           Room  \n",
       "0   living_room  \n",
       "1   living_room  \n",
       "2   living_room  \n",
       "3   living_room  \n",
       "4   living_room  \n",
       "5   living_room  \n",
       "6   living_room  \n",
       "7   living_room  \n",
       "8   living_room  \n",
       "9   living_room  \n",
       "10  living_room  \n",
       "11  living_room  "
      ]
     },
     "metadata": {},
     "output_type": "display_data"
    },
    {
     "data": {
      "text/html": [
       "<div>\n",
       "<style scoped>\n",
       "    .dataframe tbody tr th:only-of-type {\n",
       "        vertical-align: middle;\n",
       "    }\n",
       "\n",
       "    .dataframe tbody tr th {\n",
       "        vertical-align: top;\n",
       "    }\n",
       "\n",
       "    .dataframe thead th {\n",
       "        text-align: right;\n",
       "    }\n",
       "</style>\n",
       "<table border=\"1\" class=\"dataframe\">\n",
       "  <thead>\n",
       "    <tr style=\"text-align: right;\">\n",
       "      <th></th>\n",
       "      <th>artist</th>\n",
       "      <th>track</th>\n",
       "      <th>Recommended By</th>\n",
       "      <th>Room</th>\n",
       "    </tr>\n",
       "  </thead>\n",
       "  <tbody>\n",
       "    <tr>\n",
       "      <td>0</td>\n",
       "      <td>Black Eyed Peas</td>\n",
       "      <td>Let's Get it Started</td>\n",
       "      <td>Samantha</td>\n",
       "      <td>basement</td>\n",
       "    </tr>\n",
       "    <tr>\n",
       "      <td>1</td>\n",
       "      <td>Panic at the Disco</td>\n",
       "      <td>Hallelujah</td>\n",
       "      <td>Samantha</td>\n",
       "      <td>basement</td>\n",
       "    </tr>\n",
       "    <tr>\n",
       "      <td>2</td>\n",
       "      <td>John Lennon</td>\n",
       "      <td>Imagine</td>\n",
       "      <td>Joe</td>\n",
       "      <td>basement</td>\n",
       "    </tr>\n",
       "    <tr>\n",
       "      <td>3</td>\n",
       "      <td>Lady GaGa</td>\n",
       "      <td>Bad Romance</td>\n",
       "      <td>John</td>\n",
       "      <td>basement</td>\n",
       "    </tr>\n",
       "    <tr>\n",
       "      <td>4</td>\n",
       "      <td>Lady GaGa</td>\n",
       "      <td>Poker Face</td>\n",
       "      <td>Joe</td>\n",
       "      <td>basement</td>\n",
       "    </tr>\n",
       "    <tr>\n",
       "      <td>5</td>\n",
       "      <td>Red Hot Chili Peppers</td>\n",
       "      <td>Otherside</td>\n",
       "      <td>James</td>\n",
       "      <td>basement</td>\n",
       "    </tr>\n",
       "    <tr>\n",
       "      <td>6</td>\n",
       "      <td>Rilo Kiley</td>\n",
       "      <td>With Arms Outstretched</td>\n",
       "      <td>James</td>\n",
       "      <td>basement</td>\n",
       "    </tr>\n",
       "    <tr>\n",
       "      <td>7</td>\n",
       "      <td>Eve 6</td>\n",
       "      <td>Here's to the Night</td>\n",
       "      <td>James</td>\n",
       "      <td>basement</td>\n",
       "    </tr>\n",
       "    <tr>\n",
       "      <td>8</td>\n",
       "      <td>Adele</td>\n",
       "      <td>Set Fire to the Rain</td>\n",
       "      <td>Samantha</td>\n",
       "      <td>basement</td>\n",
       "    </tr>\n",
       "    <tr>\n",
       "      <td>9</td>\n",
       "      <td>Lady GaGa</td>\n",
       "      <td>Poker Face</td>\n",
       "      <td>John</td>\n",
       "      <td>basement</td>\n",
       "    </tr>\n",
       "  </tbody>\n",
       "</table>\n",
       "</div>"
      ],
      "text/plain": [
       "                  artist                   track Recommended By      Room\n",
       "0        Black Eyed Peas    Let's Get it Started       Samantha  basement\n",
       "1     Panic at the Disco              Hallelujah       Samantha  basement\n",
       "2            John Lennon                 Imagine            Joe  basement\n",
       "3              Lady GaGa             Bad Romance           John  basement\n",
       "4              Lady GaGa              Poker Face            Joe  basement\n",
       "5  Red Hot Chili Peppers               Otherside          James  basement\n",
       "6             Rilo Kiley  With Arms Outstretched          James  basement\n",
       "7                  Eve 6     Here's to the Night          James  basement\n",
       "8                  Adele    Set Fire to the Rain       Samantha  basement\n",
       "9              Lady GaGa              Poker Face           John  basement"
      ]
     },
     "metadata": {},
     "output_type": "display_data"
    },
    {
     "data": {
      "text/html": [
       "<div>\n",
       "<style scoped>\n",
       "    .dataframe tbody tr th:only-of-type {\n",
       "        vertical-align: middle;\n",
       "    }\n",
       "\n",
       "    .dataframe tbody tr th {\n",
       "        vertical-align: top;\n",
       "    }\n",
       "\n",
       "    .dataframe thead th {\n",
       "        text-align: right;\n",
       "    }\n",
       "</style>\n",
       "<table border=\"1\" class=\"dataframe\">\n",
       "  <thead>\n",
       "    <tr style=\"text-align: right;\">\n",
       "      <th></th>\n",
       "      <th>artist</th>\n",
       "      <th>track</th>\n",
       "      <th>Recommended By</th>\n",
       "      <th>Room</th>\n",
       "    </tr>\n",
       "  </thead>\n",
       "  <tbody>\n",
       "    <tr>\n",
       "      <td>0</td>\n",
       "      <td>Black Eyed Peas</td>\n",
       "      <td>Let's Get it Started</td>\n",
       "      <td>Samantha</td>\n",
       "      <td>back_patio</td>\n",
       "    </tr>\n",
       "    <tr>\n",
       "      <td>1</td>\n",
       "      <td>Black Eyed Peas</td>\n",
       "      <td>Let's Get it Started</td>\n",
       "      <td>John</td>\n",
       "      <td>back_patio</td>\n",
       "    </tr>\n",
       "    <tr>\n",
       "      <td>2</td>\n",
       "      <td>Green Day</td>\n",
       "      <td>Time of your Life</td>\n",
       "      <td>Joe</td>\n",
       "      <td>back_patio</td>\n",
       "    </tr>\n",
       "    <tr>\n",
       "      <td>3</td>\n",
       "      <td>Neutral Milk Hotel</td>\n",
       "      <td>Into the Aeroplane Over the Sea</td>\n",
       "      <td>James</td>\n",
       "      <td>back_patio</td>\n",
       "    </tr>\n",
       "    <tr>\n",
       "      <td>4</td>\n",
       "      <td>Rilo Kiley</td>\n",
       "      <td>With Arms Outstretched</td>\n",
       "      <td>James</td>\n",
       "      <td>back_patio</td>\n",
       "    </tr>\n",
       "    <tr>\n",
       "      <td>5</td>\n",
       "      <td>Adele</td>\n",
       "      <td>Set Fire to the Rain</td>\n",
       "      <td>Samantha</td>\n",
       "      <td>back_patio</td>\n",
       "    </tr>\n",
       "    <tr>\n",
       "      <td>6</td>\n",
       "      <td>Red Hot Chili Peppers</td>\n",
       "      <td>Otherside</td>\n",
       "      <td>James</td>\n",
       "      <td>back_patio</td>\n",
       "    </tr>\n",
       "    <tr>\n",
       "      <td>7</td>\n",
       "      <td>B-52s</td>\n",
       "      <td>Rock Lobster</td>\n",
       "      <td>Joe</td>\n",
       "      <td>back_patio</td>\n",
       "    </tr>\n",
       "    <tr>\n",
       "      <td>8</td>\n",
       "      <td>Panic at the Disco</td>\n",
       "      <td>Hallelujah</td>\n",
       "      <td>Samantha</td>\n",
       "      <td>back_patio</td>\n",
       "    </tr>\n",
       "  </tbody>\n",
       "</table>\n",
       "</div>"
      ],
      "text/plain": [
       "                  artist                            track Recommended By  \\\n",
       "0        Black Eyed Peas             Let's Get it Started       Samantha   \n",
       "1        Black Eyed Peas             Let's Get it Started           John   \n",
       "2              Green Day                Time of your Life            Joe   \n",
       "3     Neutral Milk Hotel  Into the Aeroplane Over the Sea          James   \n",
       "4             Rilo Kiley           With Arms Outstretched          James   \n",
       "5                  Adele             Set Fire to the Rain       Samantha   \n",
       "6  Red Hot Chili Peppers                        Otherside          James   \n",
       "7                  B-52s                     Rock Lobster            Joe   \n",
       "8     Panic at the Disco                       Hallelujah       Samantha   \n",
       "\n",
       "         Room  \n",
       "0  back_patio  \n",
       "1  back_patio  \n",
       "2  back_patio  \n",
       "3  back_patio  \n",
       "4  back_patio  \n",
       "5  back_patio  \n",
       "6  back_patio  \n",
       "7  back_patio  \n",
       "8  back_patio  "
      ]
     },
     "metadata": {},
     "output_type": "display_data"
    },
    {
     "data": {
      "text/html": [
       "<div>\n",
       "<style scoped>\n",
       "    .dataframe tbody tr th:only-of-type {\n",
       "        vertical-align: middle;\n",
       "    }\n",
       "\n",
       "    .dataframe tbody tr th {\n",
       "        vertical-align: top;\n",
       "    }\n",
       "\n",
       "    .dataframe thead th {\n",
       "        text-align: right;\n",
       "    }\n",
       "</style>\n",
       "<table border=\"1\" class=\"dataframe\">\n",
       "  <thead>\n",
       "    <tr style=\"text-align: right;\">\n",
       "      <th></th>\n",
       "      <th>artist</th>\n",
       "      <th>track</th>\n",
       "      <th>Recommended By</th>\n",
       "      <th>Room</th>\n",
       "    </tr>\n",
       "  </thead>\n",
       "  <tbody>\n",
       "    <tr>\n",
       "      <td>0</td>\n",
       "      <td>Black Eyed Peas</td>\n",
       "      <td>Let's Get it Started</td>\n",
       "      <td>Anne</td>\n",
       "      <td>kitchen</td>\n",
       "    </tr>\n",
       "    <tr>\n",
       "      <td>1</td>\n",
       "      <td>Black Eyed Peas</td>\n",
       "      <td>Let's Get it Started</td>\n",
       "      <td>Samantha</td>\n",
       "      <td>kitchen</td>\n",
       "    </tr>\n",
       "    <tr>\n",
       "      <td>2</td>\n",
       "      <td>Red Hot Chili Peppers</td>\n",
       "      <td>Otherside</td>\n",
       "      <td>James</td>\n",
       "      <td>kitchen</td>\n",
       "    </tr>\n",
       "    <tr>\n",
       "      <td>3</td>\n",
       "      <td>Lady GaGa</td>\n",
       "      <td>Poker Face</td>\n",
       "      <td>Joe</td>\n",
       "      <td>kitchen</td>\n",
       "    </tr>\n",
       "    <tr>\n",
       "      <td>4</td>\n",
       "      <td>Adele</td>\n",
       "      <td>Set Fire to the Rain</td>\n",
       "      <td>Samantha</td>\n",
       "      <td>kitchen</td>\n",
       "    </tr>\n",
       "    <tr>\n",
       "      <td>5</td>\n",
       "      <td>Eve 6</td>\n",
       "      <td>Here's to the Night</td>\n",
       "      <td>James</td>\n",
       "      <td>kitchen</td>\n",
       "    </tr>\n",
       "    <tr>\n",
       "      <td>6</td>\n",
       "      <td>Smashing Pumpkins</td>\n",
       "      <td>Tonight, Tonight</td>\n",
       "      <td>Anne</td>\n",
       "      <td>kitchen</td>\n",
       "    </tr>\n",
       "    <tr>\n",
       "      <td>7</td>\n",
       "      <td>Lady GaGa</td>\n",
       "      <td>Bad Romance</td>\n",
       "      <td>John</td>\n",
       "      <td>kitchen</td>\n",
       "    </tr>\n",
       "  </tbody>\n",
       "</table>\n",
       "</div>"
      ],
      "text/plain": [
       "                  artist                 track Recommended By     Room\n",
       "0        Black Eyed Peas  Let's Get it Started           Anne  kitchen\n",
       "1        Black Eyed Peas  Let's Get it Started       Samantha  kitchen\n",
       "2  Red Hot Chili Peppers             Otherside          James  kitchen\n",
       "3              Lady GaGa            Poker Face            Joe  kitchen\n",
       "4                  Adele  Set Fire to the Rain       Samantha  kitchen\n",
       "5                  Eve 6   Here's to the Night          James  kitchen\n",
       "6      Smashing Pumpkins      Tonight, Tonight           Anne  kitchen\n",
       "7              Lady GaGa           Bad Romance           John  kitchen"
      ]
     },
     "metadata": {},
     "output_type": "display_data"
    }
   ],
   "source": [
    "house_party = dict(living_room = df.sample(12).reset_index(drop=True).copy(),\n",
    "                   basement = df.sample(10).reset_index(drop=True).copy(), \n",
    "                   back_patio = df.sample(9).reset_index(drop=True).copy(),\n",
    "                  kitchen=df.sample(8).reset_index(drop=True).copy())\n",
    "\n",
    "for k,v in house_party.items():\n",
    "    v['Room'] = k \n",
    "    display(v)"
   ]
  },
  {
   "cell_type": "code",
   "execution_count": 68,
   "metadata": {
    "ExecuteTime": {
     "end_time": "2020-01-09T22:06:44.311312Z",
     "start_time": "2020-01-09T22:06:44.297133Z"
    }
   },
   "outputs": [
    {
     "data": {
      "text/html": [
       "<div>\n",
       "<style scoped>\n",
       "    .dataframe tbody tr th:only-of-type {\n",
       "        vertical-align: middle;\n",
       "    }\n",
       "\n",
       "    .dataframe tbody tr th {\n",
       "        vertical-align: top;\n",
       "    }\n",
       "\n",
       "    .dataframe thead th {\n",
       "        text-align: right;\n",
       "    }\n",
       "</style>\n",
       "<table border=\"1\" class=\"dataframe\">\n",
       "  <thead>\n",
       "    <tr style=\"text-align: right;\">\n",
       "      <th></th>\n",
       "      <th>artist</th>\n",
       "      <th>track</th>\n",
       "      <th>Recommended By</th>\n",
       "      <th>Room</th>\n",
       "    </tr>\n",
       "  </thead>\n",
       "  <tbody>\n",
       "    <tr>\n",
       "      <td>0</td>\n",
       "      <td>Red Hot Chili Peppers</td>\n",
       "      <td>Otherside</td>\n",
       "      <td>James</td>\n",
       "      <td>living_room</td>\n",
       "    </tr>\n",
       "    <tr>\n",
       "      <td>1</td>\n",
       "      <td>Black Eyed Peas</td>\n",
       "      <td>Let's Get it Started</td>\n",
       "      <td>Anne</td>\n",
       "      <td>living_room</td>\n",
       "    </tr>\n",
       "    <tr>\n",
       "      <td>2</td>\n",
       "      <td>Lady GaGa</td>\n",
       "      <td>Poker Face</td>\n",
       "      <td>John</td>\n",
       "      <td>living_room</td>\n",
       "    </tr>\n",
       "    <tr>\n",
       "      <td>3</td>\n",
       "      <td>Black Eyed Peas</td>\n",
       "      <td>Let's Get it Started</td>\n",
       "      <td>John</td>\n",
       "      <td>living_room</td>\n",
       "    </tr>\n",
       "    <tr>\n",
       "      <td>4</td>\n",
       "      <td>Neutral Milk Hotel</td>\n",
       "      <td>Into the Aeroplane Over the Sea</td>\n",
       "      <td>James</td>\n",
       "      <td>living_room</td>\n",
       "    </tr>\n",
       "    <tr>\n",
       "      <td>5</td>\n",
       "      <td>Green Day</td>\n",
       "      <td>Time of your Life</td>\n",
       "      <td>Joe</td>\n",
       "      <td>living_room</td>\n",
       "    </tr>\n",
       "    <tr>\n",
       "      <td>6</td>\n",
       "      <td>B-52s</td>\n",
       "      <td>Rock Lobster</td>\n",
       "      <td>Joe</td>\n",
       "      <td>living_room</td>\n",
       "    </tr>\n",
       "    <tr>\n",
       "      <td>7</td>\n",
       "      <td>Rilo Kiley</td>\n",
       "      <td>With Arms Outstretched</td>\n",
       "      <td>James</td>\n",
       "      <td>living_room</td>\n",
       "    </tr>\n",
       "    <tr>\n",
       "      <td>8</td>\n",
       "      <td>Lady GaGa</td>\n",
       "      <td>Bad Romance</td>\n",
       "      <td>John</td>\n",
       "      <td>living_room</td>\n",
       "    </tr>\n",
       "    <tr>\n",
       "      <td>9</td>\n",
       "      <td>Smashing Pumpkins</td>\n",
       "      <td>Tonight, Tonight</td>\n",
       "      <td>Anne</td>\n",
       "      <td>living_room</td>\n",
       "    </tr>\n",
       "    <tr>\n",
       "      <td>10</td>\n",
       "      <td>John Lennon</td>\n",
       "      <td>Imagine</td>\n",
       "      <td>Joe</td>\n",
       "      <td>living_room</td>\n",
       "    </tr>\n",
       "    <tr>\n",
       "      <td>11</td>\n",
       "      <td>Lady GaGa</td>\n",
       "      <td>Poker Face</td>\n",
       "      <td>Joe</td>\n",
       "      <td>living_room</td>\n",
       "    </tr>\n",
       "    <tr>\n",
       "      <td>12</td>\n",
       "      <td>Black Eyed Peas</td>\n",
       "      <td>Let's Get it Started</td>\n",
       "      <td>Samantha</td>\n",
       "      <td>basement</td>\n",
       "    </tr>\n",
       "    <tr>\n",
       "      <td>13</td>\n",
       "      <td>Panic at the Disco</td>\n",
       "      <td>Hallelujah</td>\n",
       "      <td>Samantha</td>\n",
       "      <td>basement</td>\n",
       "    </tr>\n",
       "    <tr>\n",
       "      <td>14</td>\n",
       "      <td>John Lennon</td>\n",
       "      <td>Imagine</td>\n",
       "      <td>Joe</td>\n",
       "      <td>basement</td>\n",
       "    </tr>\n",
       "    <tr>\n",
       "      <td>15</td>\n",
       "      <td>Lady GaGa</td>\n",
       "      <td>Bad Romance</td>\n",
       "      <td>John</td>\n",
       "      <td>basement</td>\n",
       "    </tr>\n",
       "    <tr>\n",
       "      <td>16</td>\n",
       "      <td>Lady GaGa</td>\n",
       "      <td>Poker Face</td>\n",
       "      <td>Joe</td>\n",
       "      <td>basement</td>\n",
       "    </tr>\n",
       "    <tr>\n",
       "      <td>17</td>\n",
       "      <td>Red Hot Chili Peppers</td>\n",
       "      <td>Otherside</td>\n",
       "      <td>James</td>\n",
       "      <td>basement</td>\n",
       "    </tr>\n",
       "    <tr>\n",
       "      <td>18</td>\n",
       "      <td>Rilo Kiley</td>\n",
       "      <td>With Arms Outstretched</td>\n",
       "      <td>James</td>\n",
       "      <td>basement</td>\n",
       "    </tr>\n",
       "    <tr>\n",
       "      <td>19</td>\n",
       "      <td>Eve 6</td>\n",
       "      <td>Here's to the Night</td>\n",
       "      <td>James</td>\n",
       "      <td>basement</td>\n",
       "    </tr>\n",
       "    <tr>\n",
       "      <td>20</td>\n",
       "      <td>Adele</td>\n",
       "      <td>Set Fire to the Rain</td>\n",
       "      <td>Samantha</td>\n",
       "      <td>basement</td>\n",
       "    </tr>\n",
       "    <tr>\n",
       "      <td>21</td>\n",
       "      <td>Lady GaGa</td>\n",
       "      <td>Poker Face</td>\n",
       "      <td>John</td>\n",
       "      <td>basement</td>\n",
       "    </tr>\n",
       "    <tr>\n",
       "      <td>22</td>\n",
       "      <td>Black Eyed Peas</td>\n",
       "      <td>Let's Get it Started</td>\n",
       "      <td>Samantha</td>\n",
       "      <td>back_patio</td>\n",
       "    </tr>\n",
       "    <tr>\n",
       "      <td>23</td>\n",
       "      <td>Black Eyed Peas</td>\n",
       "      <td>Let's Get it Started</td>\n",
       "      <td>John</td>\n",
       "      <td>back_patio</td>\n",
       "    </tr>\n",
       "    <tr>\n",
       "      <td>24</td>\n",
       "      <td>Green Day</td>\n",
       "      <td>Time of your Life</td>\n",
       "      <td>Joe</td>\n",
       "      <td>back_patio</td>\n",
       "    </tr>\n",
       "    <tr>\n",
       "      <td>25</td>\n",
       "      <td>Neutral Milk Hotel</td>\n",
       "      <td>Into the Aeroplane Over the Sea</td>\n",
       "      <td>James</td>\n",
       "      <td>back_patio</td>\n",
       "    </tr>\n",
       "    <tr>\n",
       "      <td>26</td>\n",
       "      <td>Rilo Kiley</td>\n",
       "      <td>With Arms Outstretched</td>\n",
       "      <td>James</td>\n",
       "      <td>back_patio</td>\n",
       "    </tr>\n",
       "    <tr>\n",
       "      <td>27</td>\n",
       "      <td>Adele</td>\n",
       "      <td>Set Fire to the Rain</td>\n",
       "      <td>Samantha</td>\n",
       "      <td>back_patio</td>\n",
       "    </tr>\n",
       "    <tr>\n",
       "      <td>28</td>\n",
       "      <td>Red Hot Chili Peppers</td>\n",
       "      <td>Otherside</td>\n",
       "      <td>James</td>\n",
       "      <td>back_patio</td>\n",
       "    </tr>\n",
       "    <tr>\n",
       "      <td>29</td>\n",
       "      <td>B-52s</td>\n",
       "      <td>Rock Lobster</td>\n",
       "      <td>Joe</td>\n",
       "      <td>back_patio</td>\n",
       "    </tr>\n",
       "    <tr>\n",
       "      <td>30</td>\n",
       "      <td>Panic at the Disco</td>\n",
       "      <td>Hallelujah</td>\n",
       "      <td>Samantha</td>\n",
       "      <td>back_patio</td>\n",
       "    </tr>\n",
       "    <tr>\n",
       "      <td>31</td>\n",
       "      <td>Black Eyed Peas</td>\n",
       "      <td>Let's Get it Started</td>\n",
       "      <td>Anne</td>\n",
       "      <td>kitchen</td>\n",
       "    </tr>\n",
       "    <tr>\n",
       "      <td>32</td>\n",
       "      <td>Black Eyed Peas</td>\n",
       "      <td>Let's Get it Started</td>\n",
       "      <td>Samantha</td>\n",
       "      <td>kitchen</td>\n",
       "    </tr>\n",
       "    <tr>\n",
       "      <td>33</td>\n",
       "      <td>Red Hot Chili Peppers</td>\n",
       "      <td>Otherside</td>\n",
       "      <td>James</td>\n",
       "      <td>kitchen</td>\n",
       "    </tr>\n",
       "    <tr>\n",
       "      <td>34</td>\n",
       "      <td>Lady GaGa</td>\n",
       "      <td>Poker Face</td>\n",
       "      <td>Joe</td>\n",
       "      <td>kitchen</td>\n",
       "    </tr>\n",
       "    <tr>\n",
       "      <td>35</td>\n",
       "      <td>Adele</td>\n",
       "      <td>Set Fire to the Rain</td>\n",
       "      <td>Samantha</td>\n",
       "      <td>kitchen</td>\n",
       "    </tr>\n",
       "    <tr>\n",
       "      <td>36</td>\n",
       "      <td>Eve 6</td>\n",
       "      <td>Here's to the Night</td>\n",
       "      <td>James</td>\n",
       "      <td>kitchen</td>\n",
       "    </tr>\n",
       "    <tr>\n",
       "      <td>37</td>\n",
       "      <td>Smashing Pumpkins</td>\n",
       "      <td>Tonight, Tonight</td>\n",
       "      <td>Anne</td>\n",
       "      <td>kitchen</td>\n",
       "    </tr>\n",
       "    <tr>\n",
       "      <td>38</td>\n",
       "      <td>Lady GaGa</td>\n",
       "      <td>Bad Romance</td>\n",
       "      <td>John</td>\n",
       "      <td>kitchen</td>\n",
       "    </tr>\n",
       "  </tbody>\n",
       "</table>\n",
       "</div>"
      ],
      "text/plain": [
       "                   artist                            track Recommended By  \\\n",
       "0   Red Hot Chili Peppers                        Otherside          James   \n",
       "1         Black Eyed Peas             Let's Get it Started           Anne   \n",
       "2               Lady GaGa                       Poker Face           John   \n",
       "3         Black Eyed Peas             Let's Get it Started           John   \n",
       "4      Neutral Milk Hotel  Into the Aeroplane Over the Sea          James   \n",
       "5               Green Day                Time of your Life            Joe   \n",
       "6                   B-52s                     Rock Lobster            Joe   \n",
       "7              Rilo Kiley           With Arms Outstretched          James   \n",
       "8               Lady GaGa                      Bad Romance           John   \n",
       "9       Smashing Pumpkins                 Tonight, Tonight           Anne   \n",
       "10            John Lennon                          Imagine            Joe   \n",
       "11              Lady GaGa                       Poker Face            Joe   \n",
       "12        Black Eyed Peas             Let's Get it Started       Samantha   \n",
       "13     Panic at the Disco                       Hallelujah       Samantha   \n",
       "14            John Lennon                          Imagine            Joe   \n",
       "15              Lady GaGa                      Bad Romance           John   \n",
       "16              Lady GaGa                       Poker Face            Joe   \n",
       "17  Red Hot Chili Peppers                        Otherside          James   \n",
       "18             Rilo Kiley           With Arms Outstretched          James   \n",
       "19                  Eve 6              Here's to the Night          James   \n",
       "20                  Adele             Set Fire to the Rain       Samantha   \n",
       "21              Lady GaGa                       Poker Face           John   \n",
       "22        Black Eyed Peas             Let's Get it Started       Samantha   \n",
       "23        Black Eyed Peas             Let's Get it Started           John   \n",
       "24              Green Day                Time of your Life            Joe   \n",
       "25     Neutral Milk Hotel  Into the Aeroplane Over the Sea          James   \n",
       "26             Rilo Kiley           With Arms Outstretched          James   \n",
       "27                  Adele             Set Fire to the Rain       Samantha   \n",
       "28  Red Hot Chili Peppers                        Otherside          James   \n",
       "29                  B-52s                     Rock Lobster            Joe   \n",
       "30     Panic at the Disco                       Hallelujah       Samantha   \n",
       "31        Black Eyed Peas             Let's Get it Started           Anne   \n",
       "32        Black Eyed Peas             Let's Get it Started       Samantha   \n",
       "33  Red Hot Chili Peppers                        Otherside          James   \n",
       "34              Lady GaGa                       Poker Face            Joe   \n",
       "35                  Adele             Set Fire to the Rain       Samantha   \n",
       "36                  Eve 6              Here's to the Night          James   \n",
       "37      Smashing Pumpkins                 Tonight, Tonight           Anne   \n",
       "38              Lady GaGa                      Bad Romance           John   \n",
       "\n",
       "           Room  \n",
       "0   living_room  \n",
       "1   living_room  \n",
       "2   living_room  \n",
       "3   living_room  \n",
       "4   living_room  \n",
       "5   living_room  \n",
       "6   living_room  \n",
       "7   living_room  \n",
       "8   living_room  \n",
       "9   living_room  \n",
       "10  living_room  \n",
       "11  living_room  \n",
       "12     basement  \n",
       "13     basement  \n",
       "14     basement  \n",
       "15     basement  \n",
       "16     basement  \n",
       "17     basement  \n",
       "18     basement  \n",
       "19     basement  \n",
       "20     basement  \n",
       "21     basement  \n",
       "22   back_patio  \n",
       "23   back_patio  \n",
       "24   back_patio  \n",
       "25   back_patio  \n",
       "26   back_patio  \n",
       "27   back_patio  \n",
       "28   back_patio  \n",
       "29   back_patio  \n",
       "30   back_patio  \n",
       "31      kitchen  \n",
       "32      kitchen  \n",
       "33      kitchen  \n",
       "34      kitchen  \n",
       "35      kitchen  \n",
       "36      kitchen  \n",
       "37      kitchen  \n",
       "38      kitchen  "
      ]
     },
     "execution_count": 68,
     "metadata": {},
     "output_type": "execute_result"
    }
   ],
   "source": [
    "df_house_party = pd.concat(house_party.values(),axis=0)\n",
    "df_house_party.reset_index(inplace=True,drop=True)\n",
    "df_house_party"
   ]
  },
  {
   "cell_type": "markdown",
   "metadata": {},
   "source": [
    "### FROM HOUSE PARTY TO TOTAL PROBABILITY\n",
    "- Our House Party is sample space S\n",
    "- The 4 rooms are A1,A2,A3,A4\n",
    "- B represents the probabilty of hearing a specific song or artist as you wander the house.\n",
    "<img src=\"https://raw.githubusercontent.com/jirvingphd/dsc-law-of-total-probability-online-ds-ft-100719/master/images/Image_55_TotProb.png\">"
   ]
  },
  {
   "cell_type": "code",
   "execution_count": null,
   "metadata": {},
   "outputs": [],
   "source": []
  },
  {
   "cell_type": "markdown",
   "metadata": {},
   "source": [
    "# LAW OF TOTAL PROBABILITY"
   ]
  },
  {
   "cell_type": "markdown",
   "metadata": {},
   "source": [
    "- This law allows us to calculate $P(B)$ from partial/conditional probabilitie of subsets ($A_n$).\n",
    "- Requires that the different $A$'s that make up sample space $S$ be disjointed events.\n",
    "\n",
    "S $A_1, A_2, \\dots, A_n$ partition sample space $S$ into disjoint regions that sum up to $S$. In the example, the four regions\n",
    "\n",
    "<img src=\"https://raw.githubusercontent.com/jirvingphd/dsc-law-of-total-probability-online-ds-ft-100719/master/images/Image_55_TotProb.png\">\n",
    "\n",
    "The probability of a random event $B$ (orange area) can be written down as:\n",
    "\n",
    "\\begin{align}\n",
    "    P(B) &= P(B \\cap A_1) + P(B \\cap A_2) + P(B \\cap A_3)+ P(B \\cap A_4) \\\\\n",
    "         &= P(B \\mid A_1)P(A_1) + P(B \\mid A_2)P(A_2) +P(B \\mid A_3)P(A_3)+ P(B \\mid A_4)P(A_4)\n",
    "\\end{align}\n",
    "\n",
    "- using the first theorem above let us find the combined probabilities.\n",
    "\n",
    "\n",
    "#### Law of Total Probability\n",
    "\n",
    "If $B_1$,$B_2$,$B_3$,$\\dots$ is a partition of the sample space S, then for any event A we have\n",
    "\n",
    "$$P(A)= \\sum_i P(A \\cap B_i)= \\sum_i P(A \\mid B_i)P(B_i)$$\n",
    "\n",
    "Using a Venn diagram, we can pictorially see the idea behind the law of total probability. In the figure below, we have\n",
    "\n",
    "* $A_1 = A \\cap B_1$\n",
    "* $A_2 = A \\cap B_2$\n",
    "* $A_3 = A \\cap B_3$\n"
   ]
  },
  {
   "cell_type": "markdown",
   "metadata": {},
   "source": []
  },
  {
   "cell_type": "markdown",
   "metadata": {},
   "source": [
    "## FUNCRTIONS"
   ]
  },
  {
   "cell_type": "code",
   "execution_count": 87,
   "metadata": {
    "ExecuteTime": {
     "end_time": "2020-01-09T22:18:06.600945Z",
     "start_time": "2020-01-09T22:18:06.591467Z"
    }
   },
   "outputs": [
    {
     "name": "stdout",
     "output_type": "stream",
     "text": [
      "[i] living_room\n"
     ]
    },
    {
     "data": {
      "text/plain": [
       "Lady GaGa                3\n",
       "Black Eyed Peas          2\n",
       "Smashing Pumpkins        1\n",
       "B-52s                    1\n",
       "Rilo Kiley               1\n",
       "Neutral Milk Hotel       1\n",
       "Red Hot Chili Peppers    1\n",
       "Green Day                1\n",
       "John Lennon              1\n",
       "Name: artist, dtype: int64"
      ]
     },
     "metadata": {},
     "output_type": "display_data"
    },
    {
     "name": "stdout",
     "output_type": "stream",
     "text": [
      "Total Tracks:  12 \n",
      "\n",
      "[i] Probability of Green Day given living_room= 1 / 12\n"
     ]
    }
   ],
   "source": [
    "rooms_list= list(house_party.keys())\n",
    "def get_room_counts(house_party, room='living_room', column='artist',return_res=False):\n",
    "    print(f'[i] {room}')\n",
    "    room_counts = house_party[room][column].value_counts()\n",
    "    display(room_counts)\n",
    "    print('Total Tracks: ',room_counts.sum(),'\\n')\n",
    "    if return_res:\n",
    "        return room_counts\n",
    "    \n",
    "def get_room_prob(house_party, room='living_room', column='artist',target='Green Day'):\n",
    "    room_counts= get_room_counts(house_party, room=room,column=column,return_res=True)\n",
    "    print(f\"[i] Probability of {target} given {room}= {room_counts.loc[target]} / {room_counts.sum()}\")\n",
    "get_room_prob(house_party)"
   ]
  },
  {
   "cell_type": "code",
   "execution_count": 78,
   "metadata": {
    "ExecuteTime": {
     "end_time": "2020-01-09T22:13:00.021632Z",
     "start_time": "2020-01-09T22:13:00.019636Z"
    }
   },
   "outputs": [],
   "source": [
    "# for room in house_party:\n",
    "#     print('---'*20)\n",
    "#     get_room_counts(house_party,room)"
   ]
  },
  {
   "cell_type": "markdown",
   "metadata": {},
   "source": [
    "### Q1: What is the probability of hearing a Green Day song at the house party at any given moment?"
   ]
  },
  {
   "cell_type": "markdown",
   "metadata": {},
   "source": [
    "$$P(A)= \\sum_i P(A \\cap B_i)= \\sum_i P(A \\mid B_i)P(B_i)$$\n",
    "\n",
    "\n",
    "$$ P(GD)=\\sum_i P(GD \\mid Room_i)P(Room_i)$$\n",
    "\n",
    "####  To Calculate $P(GD)$ =\n",
    "\n",
    "$P(GD|Room1)\\times \\frac{1}{4} + P(GD|Room2)\\times \\frac{1}{4} + P(GD|Room3)\\times \\frac{1}{4} + P(GD|Room4)\\times \\frac{1}{4} $\n",
    "\n",
    "\n",
    "\n"
   ]
  },
  {
   "cell_type": "code",
   "execution_count": null,
   "metadata": {},
   "outputs": [],
   "source": [
    "p_gd_given_rm1 = "
   ]
  },
  {
   "cell_type": "markdown",
   "metadata": {},
   "source": [
    "### Q: what is the probability of hearing a song recommend by Anne?"
   ]
  },
  {
   "cell_type": "markdown",
   "metadata": {},
   "source": []
  },
  {
   "cell_type": "markdown",
   "metadata": {},
   "source": []
  },
  {
   "cell_type": "markdown",
   "metadata": {},
   "source": [
    "# Intro to Section 18 - Statistical Distributions"
   ]
  },
  {
   "cell_type": "markdown",
   "metadata": {},
   "source": [
    "- Distributions are directly related to probability, which is a critical concept we will explore more with Hypothesis Testing in Module 3."
   ]
  },
  {
   "cell_type": "markdown",
   "metadata": {},
   "source": [
    "## Probability Mass Function (AKA Probability Distribution Function)"
   ]
  },
  {
   "cell_type": "markdown",
   "metadata": {
    "ExecuteTime": {
     "end_time": "2020-01-09T22:23:40.299352Z",
     "start_time": "2020-01-09T22:23:40.296088Z"
    }
   },
   "source": [
    "### Flipping a coin"
   ]
  },
  {
   "cell_type": "code",
   "execution_count": 164,
   "metadata": {
    "ExecuteTime": {
     "end_time": "2020-01-09T22:41:56.937917Z",
     "start_time": "2020-01-09T22:41:56.933450Z"
    }
   },
   "outputs": [],
   "source": [
    "def coin_toss(n_flips=10,outcomes=None,verbose=True,get_outcomes=True):\n",
    "    from collections import Counter\n",
    "\n",
    "    if outcomes is None:\n",
    "        outcomes = []\n",
    "        \n",
    "    for toss in range(n_flips):\n",
    "        result = 'H' if np.random.random()>0.5 else 'T'\n",
    "        outcomes.append(result)\n",
    "        if verbose: print(f\"Toss {toss}: \\t{result}\")\n",
    "\n",
    "    if get_outcomes:\n",
    "        return outcomes\n",
    "    else:        \n",
    "        counter = Counter(outcomes)\n",
    "        return counter"
   ]
  },
  {
   "cell_type": "code",
   "execution_count": 172,
   "metadata": {
    "ExecuteTime": {
     "end_time": "2020-01-09T22:43:12.463688Z",
     "start_time": "2020-01-09T22:43:12.457946Z"
    }
   },
   "outputs": [],
   "source": [
    "def plot_pmf_vs_hist(counter):\n",
    "    if isinstance(counter,list):\n",
    "        from collections import Counter\n",
    "        counter = Counter(counter)\n",
    "\n",
    "    fig,ax=plt.subplots(ncols=2,figsize=(12,4))\n",
    "    pmf = [] \n",
    "\n",
    "    for k,v in counter.items():\n",
    "        pmf.append(round(v/len(outcomes),2))\n",
    "\n",
    "\n",
    "    ax[0].bar(counter.keys(),pmf)\n",
    "    ax[0].set(title=f'PMF (sum={np.sum(pmf)})',ylabel='Frequency',xlabel='Outcomes')\n",
    "    ax[1].hist(outcomes)#counter.keys(),counter.values())\n",
    "    ax[1].set(title=f'Histogram (sum={np.sum(list(counter.values()))})',ylabel='Counts',xlabel='Outcomes')\n",
    "    plt.tight_layout()\n",
    "    return fig,ax\n",
    "\n",
    "# fig,ax = plot_pmf_vs_hist(counter)"
   ]
  },
  {
   "cell_type": "code",
   "execution_count": 173,
   "metadata": {
    "ExecuteTime": {
     "end_time": "2020-01-09T22:43:13.170186Z",
     "start_time": "2020-01-09T22:43:13.167768Z"
    }
   },
   "outputs": [],
   "source": [
    "from collections import Counter\n"
   ]
  },
  {
   "cell_type": "code",
   "execution_count": 174,
   "metadata": {
    "ExecuteTime": {
     "end_time": "2020-01-09T22:43:17.643329Z",
     "start_time": "2020-01-09T22:43:17.420889Z"
    }
   },
   "outputs": [
    {
     "name": "stdout",
     "output_type": "stream",
     "text": [
      "Toss 0: \tT\n",
      "Toss 1: \tT\n",
      "Toss 2: \tT\n",
      "Toss 3: \tH\n",
      "Toss 4: \tH\n",
      "Toss 5: \tH\n",
      "Toss 6: \tT\n",
      "Toss 7: \tT\n",
      "Toss 8: \tT\n",
      "Toss 9: \tT\n",
      "['T', 'T', 'T', 'H', 'H', 'H', 'T', 'T', 'T', 'T']\n"
     ]
    },
    {
     "data": {
      "text/plain": [
       "(<Figure size 864x288 with 2 Axes>,\n",
       " array([<matplotlib.axes._subplots.AxesSubplot object at 0x1a18e77978>,\n",
       "        <matplotlib.axes._subplots.AxesSubplot object at 0x1a18902390>],\n",
       "       dtype=object))"
      ]
     },
     "execution_count": 174,
     "metadata": {},
     "output_type": "execute_result"
    },
    {
     "data": {
      "image/png": "[encoded data removed]",
      "text/plain": [
       "<Figure size 864x288 with 2 Axes>"
      ]
     },
     "metadata": {
      "needs_background": "light"
     },
     "output_type": "display_data"
    }
   ],
   "source": [
    "result = coin_toss()\n",
    "print(result)\n",
    "plot_pmf_vs_hist(result)"
   ]
  },
  {
   "cell_type": "code",
   "execution_count": 175,
   "metadata": {
    "ExecuteTime": {
     "end_time": "2020-01-09T22:43:29.588847Z",
     "start_time": "2020-01-09T22:43:29.362959Z"
    }
   },
   "outputs": [
    {
     "name": "stdout",
     "output_type": "stream",
     "text": [
      "Toss 0: \tT\n",
      "Toss 1: \tH\n",
      "Toss 2: \tT\n",
      "Toss 3: \tH\n",
      "Toss 4: \tT\n",
      "Toss 5: \tT\n",
      "Toss 6: \tH\n",
      "Toss 7: \tH\n",
      "Toss 8: \tT\n",
      "Toss 9: \tT\n",
      "Toss 10: \tH\n",
      "Toss 11: \tH\n",
      "Toss 12: \tH\n",
      "Toss 13: \tT\n",
      "Toss 14: \tT\n",
      "Toss 15: \tT\n",
      "Toss 16: \tH\n",
      "Toss 17: \tH\n",
      "Toss 18: \tH\n",
      "Toss 19: \tH\n"
     ]
    },
    {
     "data": {
      "text/plain": [
       "(<Figure size 864x288 with 2 Axes>,\n",
       " array([<matplotlib.axes._subplots.AxesSubplot object at 0x1a1953aeb8>,\n",
       "        <matplotlib.axes._subplots.AxesSubplot object at 0x1a1847f668>],\n",
       "       dtype=object))"
      ]
     },
     "execution_count": 175,
     "metadata": {},
     "output_type": "execute_result"
    },
    {
     "data": {
      "image/png": "[encoded data removed]",
      "text/plain": [
       "<Figure size 864x288 with 2 Axes>"
      ]
     },
     "metadata": {
      "needs_background": "light"
     },
     "output_type": "display_data"
    }
   ],
   "source": [
    "result2 = coin_toss(outcomes=result,n_flips=20)\n",
    "plot_pmf_vs_hist(result2)"
   ]
  },
  {
   "cell_type": "code",
   "execution_count": null,
   "metadata": {},
   "outputs": [],
   "source": []
  }
 ],
 "metadata": {
  "colab": {
   "collapsed_sections": [],
   "name": "sect_17_prob_&_comb.ipynb",
   "provenance": []
  },
  "kernelspec": {
   "display_name": "Python [conda env:learn-env] *",
   "language": "python",
   "name": "conda-env-learn-env-py"
  },
  "language_info": {
   "codemirror_mode": {
    "name": "ipython",
    "version": 3
   },
   "file_extension": ".py",
   "mimetype": "text/x-python",
   "name": "python",
   "nbconvert_exporter": "python",
   "pygments_lexer": "ipython3",
   "version": "3.6.9"
  },
  "toc": {
   "base_numbering": 1,
   "nav_menu": {},
   "number_sections": true,
   "sideBar": true,
   "skip_h1_title": false,
   "title_cell": "Table of Contents",
   "title_sidebar": "Contents",
   "toc_cell": false,
   "toc_position": {
    "height": "508px",
    "left": "54px",
    "top": "110px",
    "width": "256px"
   },
   "toc_section_display": true,
   "toc_window_display": true
  },
  "varInspector": {
   "cols": {
    "lenName": 16,
    "lenType": 16,
    "lenVar": 40
   },
   "kernels_config": {
    "python": {
     "delete_cmd_postfix": "",
     "delete_cmd_prefix": "del ",
     "library": "var_list.py",
     "varRefreshCmd": "print(var_dic_list())"
    },
    "r": {
     "delete_cmd_postfix": ") ",
     "delete_cmd_prefix": "rm(",
     "library": "var_list.r",
     "varRefreshCmd": "cat(var_dic_list()) "
    }
   },
   "types_to_exclude": [
    "module",
    "function",
    "builtin_function_or_method",
    "instance",
    "_Feature"
   ],
   "window_display": false
  }
 },
 "nbformat": 4,
 "nbformat_minor": 1
}
