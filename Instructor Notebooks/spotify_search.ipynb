{
 "nbformat": 4,
 "nbformat_minor": 2,
 "metadata": {
  "language_info": {
   "name": "python",
   "codemirror_mode": {
    "name": "ipython",
    "version": 3
   },
   "version": "3.6.9"
  },
  "orig_nbformat": 2,
  "file_extension": ".py",
  "mimetype": "text/x-python",
  "name": "python",
  "npconvert_exporter": "python",
  "pygments_lexer": "ipython3",
  "version": 3
 },
 "cells": [
  {
   "cell_type": "code",
   "execution_count": 1,
   "metadata": {},
   "outputs": [
    {
     "name": "stdout",
     "output_type": "stream",
     "text": "fsds_1007219  v0.6.2 loaded.  Read the docs: https://fsds.readthedocs.io/en/latest/ \n"
    },
    {
     "data": {
      "text/html": "<style  type=\"text/css\" >\n</style><table id=\"T_b6ee9cf8_2cc0_11ea_a320_4865ee12e626\" ><caption>Loaded Packages and Handles</caption><thead>    <tr>        <th class=\"col_heading level0 col0\" >Handle</th>        <th class=\"col_heading level0 col1\" >Package</th>        <th class=\"col_heading level0 col2\" >Description</th>    </tr></thead><tbody>\n                <tr>\n                                <td id=\"T_b6ee9cf8_2cc0_11ea_a320_4865ee12e626row0_col0\" class=\"data row0 col0\" >dp</td>\n                        <td id=\"T_b6ee9cf8_2cc0_11ea_a320_4865ee12e626row0_col1\" class=\"data row0 col1\" >IPython.display</td>\n                        <td id=\"T_b6ee9cf8_2cc0_11ea_a320_4865ee12e626row0_col2\" class=\"data row0 col2\" >Display modules with helpful display and clearing commands.</td>\n            </tr>\n            <tr>\n                                <td id=\"T_b6ee9cf8_2cc0_11ea_a320_4865ee12e626row1_col0\" class=\"data row1 col0\" >fs</td>\n                        <td id=\"T_b6ee9cf8_2cc0_11ea_a320_4865ee12e626row1_col1\" class=\"data row1 col1\" >fsds_100719</td>\n                        <td id=\"T_b6ee9cf8_2cc0_11ea_a320_4865ee12e626row1_col2\" class=\"data row1 col2\" >Custom data science bootcamp student package</td>\n            </tr>\n            <tr>\n                                <td id=\"T_b6ee9cf8_2cc0_11ea_a320_4865ee12e626row2_col0\" class=\"data row2 col0\" >mpl</td>\n                        <td id=\"T_b6ee9cf8_2cc0_11ea_a320_4865ee12e626row2_col1\" class=\"data row2 col1\" >matplotlib</td>\n                        <td id=\"T_b6ee9cf8_2cc0_11ea_a320_4865ee12e626row2_col2\" class=\"data row2 col2\" >Matplotlib's base OOP module with formatting artists</td>\n            </tr>\n            <tr>\n                                <td id=\"T_b6ee9cf8_2cc0_11ea_a320_4865ee12e626row3_col0\" class=\"data row3 col0\" >plt</td>\n                        <td id=\"T_b6ee9cf8_2cc0_11ea_a320_4865ee12e626row3_col1\" class=\"data row3 col1\" >matplotlib.pyplot</td>\n                        <td id=\"T_b6ee9cf8_2cc0_11ea_a320_4865ee12e626row3_col2\" class=\"data row3 col2\" >Matplotlib's matlab-like plotting module</td>\n            </tr>\n            <tr>\n                                <td id=\"T_b6ee9cf8_2cc0_11ea_a320_4865ee12e626row4_col0\" class=\"data row4 col0\" >np</td>\n                        <td id=\"T_b6ee9cf8_2cc0_11ea_a320_4865ee12e626row4_col1\" class=\"data row4 col1\" >numpy</td>\n                        <td id=\"T_b6ee9cf8_2cc0_11ea_a320_4865ee12e626row4_col2\" class=\"data row4 col2\" >scientific computing with Python</td>\n            </tr>\n            <tr>\n                                <td id=\"T_b6ee9cf8_2cc0_11ea_a320_4865ee12e626row5_col0\" class=\"data row5 col0\" >pd</td>\n                        <td id=\"T_b6ee9cf8_2cc0_11ea_a320_4865ee12e626row5_col1\" class=\"data row5 col1\" >pandas</td>\n                        <td id=\"T_b6ee9cf8_2cc0_11ea_a320_4865ee12e626row5_col2\" class=\"data row5 col2\" >High performance data structures and tools</td>\n            </tr>\n            <tr>\n                                <td id=\"T_b6ee9cf8_2cc0_11ea_a320_4865ee12e626row6_col0\" class=\"data row6 col0\" >sns</td>\n                        <td id=\"T_b6ee9cf8_2cc0_11ea_a320_4865ee12e626row6_col1\" class=\"data row6 col1\" >seaborn</td>\n                        <td id=\"T_b6ee9cf8_2cc0_11ea_a320_4865ee12e626row6_col2\" class=\"data row6 col2\" >High-level data visualization library based on matplotlib</td>\n            </tr>\n    </tbody></table>",
      "text/plain": "<pandas.io.formats.style.Styler at 0x1a200875f8>"
     },
     "metadata": {},
     "output_type": "display_data"
    }
   ],
   "source": [
    "!pip install -U fsds_100719\n",
    "!pip install spotipy\n",
    "from fsds_100719.imports import *"
   ]
  },
  {
   "cell_type": "markdown",
   "execution_count": null,
   "metadata": {},
   "outputs": [],
   "source": [
    "# FINAL WORKFLOW FORM EXTERNAL FILE"
   ]
  },
  {
   "cell_type": "markdown",
   "execution_count": null,
   "metadata": {},
   "outputs": [],
   "source": [
    "https://spotipy.readthedocs.io/en/latest/?highlight=search#spotipy.client.Spotify.search"
   ]
  },
  {
   "cell_type": "code",
   "execution_count": 2,
   "metadata": {},
   "outputs": [
    {
     "data": {
      "text/plain": "'/Users/jamesirving/Documents/GitHub/_STUDY GROUP PREP/fsds_pt_100719_cohort_notes'"
     },
     "execution_count": 2,
     "metadata": {},
     "output_type": "execute_result"
    }
   ],
   "source": [
    "import os\n",
    "os.path.abspath(os.curdir)"
   ]
  },
  {
   "cell_type": "code",
   "execution_count": 6,
   "metadata": {},
   "outputs": [
    {
     "name": "stdout",
     "output_type": "stream",
     "text": "Reloading...\n\nHelp on module py_files.my_spotipy in py_files:\n\nNAME\n    py_files.my_spotipy\n\nFUNCTIONS\n    clean_results_row(row)\n    \n    connect_to_spotify(auth_location='/Users/jamesirving/.secret/spotify_api.json')\n    \n    load_spotify_api_login(auth_location='/Users/jamesirving/.secret/spotify_api.json')\n    \n    response_to_df(res, drop_cols=['available_markets', 'external_ids', 'is_local', 'preview_url'])\n\nFILE\n    /Users/jamesirving/Documents/GitHub/_STUDY GROUP PREP/fsds_pt_100719_cohort_notes/py_files/my_spotipy.py\n\n\n"
    }
   ],
   "source": [
    "import py_files.my_spotipy as ms\n",
    "fs.reload(ms)\n",
    "help(ms)"
   ]
  },
  {
   "cell_type": "code",
   "execution_count": 7,
   "metadata": {},
   "outputs": [
    {
     "data": {
      "text/plain": "<spotipy.client.Spotify at 0x11bad0080>"
     },
     "execution_count": 7,
     "metadata": {},
     "output_type": "execute_result"
    }
   ],
   "source": [
    "sp = ms.connect_to_spotify()\n",
    "sp"
   ]
  },
  {
   "cell_type": "code",
   "execution_count": 11,
   "metadata": {},
   "outputs": [
    {
     "name": "stdout",
     "output_type": "stream",
     "text": "dict_keys(['tracks'])\ndict_keys(['href', 'items', 'limit', 'next', 'offset', 'previous', 'total'])\n"
    }
   ],
   "source": [
    "res = sp.search('Panic at the disco')\n",
    "print(res.keys())\n",
    "print(res['tracks'].keys())"
   ]
  },
  {
   "cell_type": "code",
   "execution_count": 14,
   "metadata": {},
   "outputs": [
    {
     "data": {
      "text/html": "<div>\n<style scoped>\n    .dataframe tbody tr th:only-of-type {\n        vertical-align: middle;\n    }\n\n    .dataframe tbody tr th {\n        vertical-align: top;\n    }\n\n    .dataframe thead th {\n        text-align: right;\n    }\n</style>\n<table border=\"1\" class=\"dataframe\">\n  <thead>\n    <tr style=\"text-align: right;\">\n      <th></th>\n      <th>album</th>\n      <th>artists</th>\n      <th>disc_number</th>\n      <th>duration_ms</th>\n      <th>explicit</th>\n      <th>external_urls</th>\n      <th>href</th>\n      <th>id</th>\n      <th>name</th>\n      <th>popularity</th>\n      <th>track_number</th>\n      <th>type</th>\n      <th>uri</th>\n    </tr>\n  </thead>\n  <tbody>\n    <tr>\n      <td>0</td>\n      <td>{'album_type': 'album', 'artists': [{'external...</td>\n      <td>[{'external_urls': {'spotify': 'https://open.s...</td>\n      <td>1</td>\n      <td>189132</td>\n      <td>False</td>\n      <td>{'spotify': 'https://open.spotify.com/track/42...</td>\n      <td>https://api.spotify.com/v1/tracks/421eObjg0DTm...</td>\n      <td>421eObjg0DTm2qajJl5OJm</td>\n      <td>Into the Unknown - Panic! At The Disco Version</td>\n      <td>83</td>\n      <td>9</td>\n      <td>track</td>\n      <td>spotify:track:421eObjg0DTm2qajJl5OJm</td>\n    </tr>\n    <tr>\n      <td>1</td>\n      <td>{'album_type': 'album', 'artists': [{'external...</td>\n      <td>[{'external_urls': {'spotify': 'https://open.s...</td>\n      <td>1</td>\n      <td>193000</td>\n      <td>False</td>\n      <td>{'spotify': 'https://open.spotify.com/track/2R...</td>\n      <td>https://api.spotify.com/v1/tracks/2Rk4JlNc2TPm...</td>\n      <td>2Rk4JlNc2TPmZe2af99d45</td>\n      <td>ME! (feat. Brendon Urie of Panic! At The Disco)</td>\n      <td>85</td>\n      <td>16</td>\n      <td>track</td>\n      <td>spotify:track:2Rk4JlNc2TPmZe2af99d45</td>\n    </tr>\n    <tr>\n      <td>2</td>\n      <td>{'album_type': 'album', 'artists': [{'external...</td>\n      <td>[{'external_urls': {'spotify': 'https://open.s...</td>\n      <td>1</td>\n      <td>190946</td>\n      <td>False</td>\n      <td>{'spotify': 'https://open.spotify.com/track/1r...</td>\n      <td>https://api.spotify.com/v1/tracks/1rqqCSm0Qe4I...</td>\n      <td>1rqqCSm0Qe4I9rUvWncaom</td>\n      <td>High Hopes</td>\n      <td>87</td>\n      <td>4</td>\n      <td>track</td>\n      <td>spotify:track:1rqqCSm0Qe4I9rUvWncaom</td>\n    </tr>\n    <tr>\n      <td>3</td>\n      <td>{'album_type': 'album', 'artists': [{'external...</td>\n      <td>[{'external_urls': {'spotify': 'https://open.s...</td>\n      <td>1</td>\n      <td>169666</td>\n      <td>False</td>\n      <td>{'spotify': 'https://open.spotify.com/track/22...</td>\n      <td>https://api.spotify.com/v1/tracks/22oEJW6r2rMb...</td>\n      <td>22oEJW6r2rMb9z4IntfyEa</td>\n      <td>Hey Look Ma, I Made It</td>\n      <td>79</td>\n      <td>3</td>\n      <td>track</td>\n      <td>spotify:track:22oEJW6r2rMb9z4IntfyEa</td>\n    </tr>\n    <tr>\n      <td>4</td>\n      <td>{'album_type': 'album', 'artists': [{'external...</td>\n      <td>[{'external_urls': {'spotify': 'https://open.s...</td>\n      <td>1</td>\n      <td>187613</td>\n      <td>False</td>\n      <td>{'spotify': 'https://open.spotify.com/track/4b...</td>\n      <td>https://api.spotify.com/v1/tracks/4bPQs0PHn4xb...</td>\n      <td>4bPQs0PHn4xbipzdPfn6du</td>\n      <td>I Write Sins Not Tragedies</td>\n      <td>75</td>\n      <td>10</td>\n      <td>track</td>\n      <td>spotify:track:4bPQs0PHn4xbipzdPfn6du</td>\n    </tr>\n  </tbody>\n</table>\n</div>",
      "text/plain": "                                               album  \\\n0  {'album_type': 'album', 'artists': [{'external...   \n1  {'album_type': 'album', 'artists': [{'external...   \n2  {'album_type': 'album', 'artists': [{'external...   \n3  {'album_type': 'album', 'artists': [{'external...   \n4  {'album_type': 'album', 'artists': [{'external...   \n\n                                             artists  disc_number  \\\n0  [{'external_urls': {'spotify': 'https://open.s...            1   \n1  [{'external_urls': {'spotify': 'https://open.s...            1   \n2  [{'external_urls': {'spotify': 'https://open.s...            1   \n3  [{'external_urls': {'spotify': 'https://open.s...            1   \n4  [{'external_urls': {'spotify': 'https://open.s...            1   \n\n   duration_ms  explicit                                      external_urls  \\\n0       189132     False  {'spotify': 'https://open.spotify.com/track/42...   \n1       193000     False  {'spotify': 'https://open.spotify.com/track/2R...   \n2       190946     False  {'spotify': 'https://open.spotify.com/track/1r...   \n3       169666     False  {'spotify': 'https://open.spotify.com/track/22...   \n4       187613     False  {'spotify': 'https://open.spotify.com/track/4b...   \n\n                                                href                      id  \\\n0  https://api.spotify.com/v1/tracks/421eObjg0DTm...  421eObjg0DTm2qajJl5OJm   \n1  https://api.spotify.com/v1/tracks/2Rk4JlNc2TPm...  2Rk4JlNc2TPmZe2af99d45   \n2  https://api.spotify.com/v1/tracks/1rqqCSm0Qe4I...  1rqqCSm0Qe4I9rUvWncaom   \n3  https://api.spotify.com/v1/tracks/22oEJW6r2rMb...  22oEJW6r2rMb9z4IntfyEa   \n4  https://api.spotify.com/v1/tracks/4bPQs0PHn4xb...  4bPQs0PHn4xbipzdPfn6du   \n\n                                              name  popularity  track_number  \\\n0   Into the Unknown - Panic! At The Disco Version          83             9   \n1  ME! (feat. Brendon Urie of Panic! At The Disco)          85            16   \n2                                       High Hopes          87             4   \n3                           Hey Look Ma, I Made It          79             3   \n4                       I Write Sins Not Tragedies          75            10   \n\n    type                                   uri  \n0  track  spotify:track:421eObjg0DTm2qajJl5OJm  \n1  track  spotify:track:2Rk4JlNc2TPmZe2af99d45  \n2  track  spotify:track:1rqqCSm0Qe4I9rUvWncaom  \n3  track  spotify:track:22oEJW6r2rMb9z4IntfyEa  \n4  track  spotify:track:4bPQs0PHn4xbipzdPfn6du  "
     },
     "execution_count": 14,
     "metadata": {},
     "output_type": "execute_result"
    }
   ],
   "source": [
    "df = ms.response_to_df(res)\n",
    "df.head()"
   ]
  },
  {
   "cell_type": "code",
   "execution_count": 15,
   "metadata": {},
   "outputs": [
    {
     "data": {
      "text/html": "<div>\n<style scoped>\n    .dataframe tbody tr th:only-of-type {\n        vertical-align: middle;\n    }\n\n    .dataframe tbody tr th {\n        vertical-align: top;\n    }\n\n    .dataframe thead th {\n        text-align: right;\n    }\n</style>\n<table border=\"1\" class=\"dataframe\">\n  <thead>\n    <tr style=\"text-align: right;\">\n      <th></th>\n      <th>name</th>\n      <th>song_artist</th>\n      <th>album_title</th>\n      <th>track_number</th>\n      <th>duration_ms</th>\n      <th>popularity</th>\n      <th>song_id</th>\n      <th>album_artist</th>\n      <th>release_date</th>\n      <th>total_tracks</th>\n      <th>explicit</th>\n      <th>album_url</th>\n      <th>disc_number</th>\n      <th>external_urls</th>\n      <th>href</th>\n      <th>id</th>\n      <th>type</th>\n      <th>uri</th>\n    </tr>\n  </thead>\n  <tbody>\n    <tr>\n      <td>0</td>\n      <td>Into the Unknown - Panic! At The Disco Version</td>\n      <td>Panic! At The Disco</td>\n      <td>Frozen 2 (Original Motion Picture Soundtrack/D...</td>\n      <td>9</td>\n      <td>189132</td>\n      <td>83</td>\n      <td>20JZFwl6HVl6yg8a4H3ZqK</td>\n      <td>Various Artists</td>\n      <td>2019-11-15</td>\n      <td>46</td>\n      <td>False</td>\n      <td>https://open.spotify.com/album/4M07HWIlZr7zoXo...</td>\n      <td>1</td>\n      <td>{'spotify': 'https://open.spotify.com/track/42...</td>\n      <td>https://api.spotify.com/v1/tracks/421eObjg0DTm...</td>\n      <td>421eObjg0DTm2qajJl5OJm</td>\n      <td>track</td>\n      <td>spotify:track:421eObjg0DTm2qajJl5OJm</td>\n    </tr>\n    <tr>\n      <td>1</td>\n      <td>ME! (feat. Brendon Urie of Panic! At The Disco)</td>\n      <td>Taylor Swift</td>\n      <td>Lover</td>\n      <td>16</td>\n      <td>193000</td>\n      <td>85</td>\n      <td>06HL4z0CvFAxyc27GXpf02</td>\n      <td>Taylor Swift</td>\n      <td>2019-08-23</td>\n      <td>18</td>\n      <td>False</td>\n      <td>https://open.spotify.com/album/1NAmidJlEaVgA3M...</td>\n      <td>1</td>\n      <td>{'spotify': 'https://open.spotify.com/track/2R...</td>\n      <td>https://api.spotify.com/v1/tracks/2Rk4JlNc2TPm...</td>\n      <td>2Rk4JlNc2TPmZe2af99d45</td>\n      <td>track</td>\n      <td>spotify:track:2Rk4JlNc2TPmZe2af99d45</td>\n    </tr>\n    <tr>\n      <td>2</td>\n      <td>High Hopes</td>\n      <td>Panic! At The Disco</td>\n      <td>Pray for the Wicked</td>\n      <td>4</td>\n      <td>190946</td>\n      <td>87</td>\n      <td>20JZFwl6HVl6yg8a4H3ZqK</td>\n      <td>Panic! At The Disco</td>\n      <td>2018-06-22</td>\n      <td>11</td>\n      <td>False</td>\n      <td>https://open.spotify.com/album/6ApYSpXF8GxZAgB...</td>\n      <td>1</td>\n      <td>{'spotify': 'https://open.spotify.com/track/1r...</td>\n      <td>https://api.spotify.com/v1/tracks/1rqqCSm0Qe4I...</td>\n      <td>1rqqCSm0Qe4I9rUvWncaom</td>\n      <td>track</td>\n      <td>spotify:track:1rqqCSm0Qe4I9rUvWncaom</td>\n    </tr>\n    <tr>\n      <td>3</td>\n      <td>Hey Look Ma, I Made It</td>\n      <td>Panic! At The Disco</td>\n      <td>Pray for the Wicked</td>\n      <td>3</td>\n      <td>169666</td>\n      <td>79</td>\n      <td>20JZFwl6HVl6yg8a4H3ZqK</td>\n      <td>Panic! At The Disco</td>\n      <td>2018-06-22</td>\n      <td>11</td>\n      <td>False</td>\n      <td>https://open.spotify.com/album/6ApYSpXF8GxZAgB...</td>\n      <td>1</td>\n      <td>{'spotify': 'https://open.spotify.com/track/22...</td>\n      <td>https://api.spotify.com/v1/tracks/22oEJW6r2rMb...</td>\n      <td>22oEJW6r2rMb9z4IntfyEa</td>\n      <td>track</td>\n      <td>spotify:track:22oEJW6r2rMb9z4IntfyEa</td>\n    </tr>\n    <tr>\n      <td>4</td>\n      <td>I Write Sins Not Tragedies</td>\n      <td>Panic! At The Disco</td>\n      <td>A Fever You Can't Sweat Out</td>\n      <td>10</td>\n      <td>187613</td>\n      <td>75</td>\n      <td>20JZFwl6HVl6yg8a4H3ZqK</td>\n      <td>Panic! At The Disco</td>\n      <td>2005-09-27</td>\n      <td>13</td>\n      <td>False</td>\n      <td>https://open.spotify.com/album/2YeOhhJg3OWpN0F...</td>\n      <td>1</td>\n      <td>{'spotify': 'https://open.spotify.com/track/4b...</td>\n      <td>https://api.spotify.com/v1/tracks/4bPQs0PHn4xb...</td>\n      <td>4bPQs0PHn4xbipzdPfn6du</td>\n      <td>track</td>\n      <td>spotify:track:4bPQs0PHn4xbipzdPfn6du</td>\n    </tr>\n  </tbody>\n</table>\n</div>",
      "text/plain": "                                              name          song_artist  \\\n0   Into the Unknown - Panic! At The Disco Version  Panic! At The Disco   \n1  ME! (feat. Brendon Urie of Panic! At The Disco)         Taylor Swift   \n2                                       High Hopes  Panic! At The Disco   \n3                           Hey Look Ma, I Made It  Panic! At The Disco   \n4                       I Write Sins Not Tragedies  Panic! At The Disco   \n\n                                         album_title  track_number  \\\n0  Frozen 2 (Original Motion Picture Soundtrack/D...             9   \n1                                              Lover            16   \n2                                Pray for the Wicked             4   \n3                                Pray for the Wicked             3   \n4                        A Fever You Can't Sweat Out            10   \n\n   duration_ms  popularity                 song_id         album_artist  \\\n0       189132          83  20JZFwl6HVl6yg8a4H3ZqK      Various Artists   \n1       193000          85  06HL4z0CvFAxyc27GXpf02         Taylor Swift   \n2       190946          87  20JZFwl6HVl6yg8a4H3ZqK  Panic! At The Disco   \n3       169666          79  20JZFwl6HVl6yg8a4H3ZqK  Panic! At The Disco   \n4       187613          75  20JZFwl6HVl6yg8a4H3ZqK  Panic! At The Disco   \n\n  release_date  total_tracks  explicit  \\\n0   2019-11-15            46     False   \n1   2019-08-23            18     False   \n2   2018-06-22            11     False   \n3   2018-06-22            11     False   \n4   2005-09-27            13     False   \n\n                                           album_url  disc_number  \\\n0  https://open.spotify.com/album/4M07HWIlZr7zoXo...            1   \n1  https://open.spotify.com/album/1NAmidJlEaVgA3M...            1   \n2  https://open.spotify.com/album/6ApYSpXF8GxZAgB...            1   \n3  https://open.spotify.com/album/6ApYSpXF8GxZAgB...            1   \n4  https://open.spotify.com/album/2YeOhhJg3OWpN0F...            1   \n\n                                       external_urls  \\\n0  {'spotify': 'https://open.spotify.com/track/42...   \n1  {'spotify': 'https://open.spotify.com/track/2R...   \n2  {'spotify': 'https://open.spotify.com/track/1r...   \n3  {'spotify': 'https://open.spotify.com/track/22...   \n4  {'spotify': 'https://open.spotify.com/track/4b...   \n\n                                                href                      id  \\\n0  https://api.spotify.com/v1/tracks/421eObjg0DTm...  421eObjg0DTm2qajJl5OJm   \n1  https://api.spotify.com/v1/tracks/2Rk4JlNc2TPm...  2Rk4JlNc2TPmZe2af99d45   \n2  https://api.spotify.com/v1/tracks/1rqqCSm0Qe4I...  1rqqCSm0Qe4I9rUvWncaom   \n3  https://api.spotify.com/v1/tracks/22oEJW6r2rMb...  22oEJW6r2rMb9z4IntfyEa   \n4  https://api.spotify.com/v1/tracks/4bPQs0PHn4xb...  4bPQs0PHn4xbipzdPfn6du   \n\n    type                                   uri  \n0  track  spotify:track:421eObjg0DTm2qajJl5OJm  \n1  track  spotify:track:2Rk4JlNc2TPmZe2af99d45  \n2  track  spotify:track:1rqqCSm0Qe4I9rUvWncaom  \n3  track  spotify:track:22oEJW6r2rMb9z4IntfyEa  \n4  track  spotify:track:4bPQs0PHn4xbipzdPfn6du  "
     },
     "execution_count": 15,
     "metadata": {},
     "output_type": "execute_result"
    }
   ],
   "source": [
    "df = df.apply(ms.clean_results_row,axis=1)\n",
    "df.head()"
   ]
  },
  {
   "cell_type": "code",
   "execution_count": 16,
   "metadata": {},
   "outputs": [
    {
     "data": {
      "text/plain": "10"
     },
     "execution_count": 16,
     "metadata": {},
     "output_type": "execute_result"
    }
   ],
   "source": [
    "len(df)"
   ]
  },
  {
   "cell_type": "markdown",
   "execution_count": null,
   "metadata": {},
   "outputs": [],
   "source": [
    "## Get Artist ID then use with spotipy to get all albums/tracks"
   ]
  },
  {
   "cell_type": "code",
   "execution_count": 28,
   "metadata": {},
   "outputs": [
    {
     "data": {
      "text/plain": "'20JZFwl6HVl6yg8a4H3ZqK'"
     },
     "execution_count": 28,
     "metadata": {},
     "output_type": "execute_result"
    }
   ],
   "source": [
    "artist_id = res['tracks']['items'][0]['artists'][0]['id']\n",
    "artist_id"
   ]
  },
  {
   "cell_type": "code",
   "execution_count": null,
   "metadata": {},
   "outputs": [],
   "source": [
    "def get_all_artist_albums(sp,artist_id):\n",
    "    import time\n",
    "    offset = 0\n",
    "    limit=20\n",
    "    res_artist = sp.artist_albums(artist_id,limit=limit,offset=offset)\n",
    "\n",
    "    next_offset = res_artist['offset']+len(res_artist['items'])\n",
    "    total_results = res_artist['total']\n",
    "    while next_offset<=(total_results-limit):\n",
    "        \n",
    "\n",
    "        # print(res_artist['offset'])\n",
    "\n",
    "res_artist.keys()\n"
   ]
  },
  {
   "cell_type": "code",
   "execution_count": 60,
   "metadata": {},
   "outputs": [
    {
     "name": "stdout",
     "output_type": "stream",
     "text": "[i] Found 149 results.\n- Retrieving offset 20\n- Retrieving offset 40\n- Retrieving offset 60\n- Retrieving offset 80\n- Retrieving offset 100\n- Retrieving offset 120\n- Retrieving offset 140\n"
    }
   ],
   "source": [
    "\n",
    "import time\n",
    "offset = 0\n",
    "limit=20\n",
    "\n",
    "res_list= []\n",
    "res_artist = sp.artist_albums(artist_id,limit=limit,offset=offset)\n",
    "total_results = res_artist['total']\n",
    "print(f'[i] Found {total_results} results.')\n",
    "next_offset = res_artist['offset']+limit#len(res_artist['items'])\n",
    "\n",
    "res_list.append(res_artist['items'])\n",
    "\n",
    "while next_offset<=(total_results):\n",
    "    time.sleep(1)\n",
    "    print(f'- Retrieving offset {next_offset}')\n",
    "    res_aritst = sp.artist_albums(artist_id,limit=limit,offset=next_offset)\n",
    "    res_list.append(res_artist['items'])\n",
    "    next_offset += limit\n",
    "\n",
    "\n"
   ]
  },
  {
   "cell_type": "code",
   "execution_count": 66,
   "metadata": {},
   "outputs": [
    {
     "name": "stdout",
     "output_type": "stream",
     "text": "[i] Found 40 results.\n- Retrieving offset 20\n- Retrieving offset 40\n"
    }
   ],
   "source": [
    "## TRYING EXTENDING INSRTEAD OF APPENDING\n",
    "import time\n",
    "offset = 0\n",
    "limit=20\n",
    "\n",
    "res_list= []\n",
    "res_artist = sp.artist_albums(artist_id,limit=limit,offset=offset)\n",
    "total_results = 40#res_artist['total']\n",
    "print(f'[i] Found {total_results} results.')\n",
    "next_offset = res_artist['offset']+limit#len(res_artist['items'])\n",
    "\n",
    "res_list.extend(res_artist['items'])\n",
    "\n",
    "while next_offset<=(total_results):\n",
    "    time.sleep(1)\n",
    "    print(f'- Retrieving offset {next_offset}')\n",
    "    res_aritst = sp.artist_albums(artist_id,limit=limit,offset=next_offset)\n",
    "    res_list.extend(res_artist['items'])\n",
    "    next_offset += limit\n",
    "\n",
    "\n"
   ]
  },
  {
   "cell_type": "code",
   "execution_count": 67,
   "metadata": {},
   "outputs": [
    {
     "data": {
      "text/html": "<div>\n<style scoped>\n    .dataframe tbody tr th:only-of-type {\n        vertical-align: middle;\n    }\n\n    .dataframe tbody tr th {\n        vertical-align: top;\n    }\n\n    .dataframe thead th {\n        text-align: right;\n    }\n</style>\n<table border=\"1\" class=\"dataframe\">\n  <thead>\n    <tr style=\"text-align: right;\">\n      <th></th>\n      <th>album_group</th>\n      <th>album_type</th>\n      <th>artists</th>\n      <th>available_markets</th>\n      <th>external_urls</th>\n      <th>href</th>\n      <th>id</th>\n      <th>images</th>\n      <th>name</th>\n      <th>release_date</th>\n      <th>release_date_precision</th>\n      <th>total_tracks</th>\n      <th>type</th>\n      <th>uri</th>\n    </tr>\n  </thead>\n  <tbody>\n    <tr>\n      <td>0</td>\n      <td>album</td>\n      <td>album</td>\n      <td>[{'external_urls': {'spotify': 'https://open.s...</td>\n      <td>[AD, AE, AR, AT, AU, BE, BG, BH, BO, BR, CA, C...</td>\n      <td>{'spotify': 'https://open.spotify.com/album/6A...</td>\n      <td>https://api.spotify.com/v1/albums/6ApYSpXF8GxZ...</td>\n      <td>6ApYSpXF8GxZAgBTHDzYge</td>\n      <td>[{'height': 640, 'url': 'https://i.scdn.co/ima...</td>\n      <td>Pray for the Wicked</td>\n      <td>2018-06-22</td>\n      <td>day</td>\n      <td>11</td>\n      <td>album</td>\n      <td>spotify:album:6ApYSpXF8GxZAgBTHDzYge</td>\n    </tr>\n    <tr>\n      <td>1</td>\n      <td>album</td>\n      <td>album</td>\n      <td>[{'external_urls': {'spotify': 'https://open.s...</td>\n      <td>[AD, AE, AR, AT, AU, BE, BG, BH, BO, BR, CA, C...</td>\n      <td>{'spotify': 'https://open.spotify.com/album/2V...</td>\n      <td>https://api.spotify.com/v1/albums/2VnKzCESTePs...</td>\n      <td>2VnKzCESTePshnbUALlDt2</td>\n      <td>[{'height': 640, 'url': 'https://i.scdn.co/ima...</td>\n      <td>All My Friends We're Glorious: Death of a Bach...</td>\n      <td>2017-12-15</td>\n      <td>day</td>\n      <td>21</td>\n      <td>album</td>\n      <td>spotify:album:2VnKzCESTePshnbUALlDt2</td>\n    </tr>\n  </tbody>\n</table>\n</div>",
      "text/plain": "  album_group album_type                                            artists  \\\n0       album      album  [{'external_urls': {'spotify': 'https://open.s...   \n1       album      album  [{'external_urls': {'spotify': 'https://open.s...   \n\n                                   available_markets  \\\n0  [AD, AE, AR, AT, AU, BE, BG, BH, BO, BR, CA, C...   \n1  [AD, AE, AR, AT, AU, BE, BG, BH, BO, BR, CA, C...   \n\n                                       external_urls  \\\n0  {'spotify': 'https://open.spotify.com/album/6A...   \n1  {'spotify': 'https://open.spotify.com/album/2V...   \n\n                                                href                      id  \\\n0  https://api.spotify.com/v1/albums/6ApYSpXF8GxZ...  6ApYSpXF8GxZAgBTHDzYge   \n1  https://api.spotify.com/v1/albums/2VnKzCESTePs...  2VnKzCESTePshnbUALlDt2   \n\n                                              images  \\\n0  [{'height': 640, 'url': 'https://i.scdn.co/ima...   \n1  [{'height': 640, 'url': 'https://i.scdn.co/ima...   \n\n                                                name release_date  \\\n0                                Pray for the Wicked   2018-06-22   \n1  All My Friends We're Glorious: Death of a Bach...   2017-12-15   \n\n  release_date_precision  total_tracks   type  \\\n0                    day            11  album   \n1                    day            21  album   \n\n                                    uri  \n0  spotify:album:6ApYSpXF8GxZAgBTHDzYge  \n1  spotify:album:2VnKzCESTePshnbUALlDt2  "
     },
     "metadata": {},
     "output_type": "display_data"
    },
    {
     "data": {
      "text/html": "<div>\n<style scoped>\n    .dataframe tbody tr th:only-of-type {\n        vertical-align: middle;\n    }\n\n    .dataframe tbody tr th {\n        vertical-align: top;\n    }\n\n    .dataframe thead th {\n        text-align: right;\n    }\n</style>\n<table border=\"1\" class=\"dataframe\">\n  <thead>\n    <tr style=\"text-align: right;\">\n      <th></th>\n      <th>album_group</th>\n      <th>album_type</th>\n      <th>artists</th>\n      <th>available_markets</th>\n      <th>external_urls</th>\n      <th>href</th>\n      <th>id</th>\n      <th>images</th>\n      <th>name</th>\n      <th>release_date</th>\n      <th>release_date_precision</th>\n      <th>total_tracks</th>\n      <th>type</th>\n      <th>uri</th>\n    </tr>\n  </thead>\n  <tbody>\n    <tr>\n      <td>0</td>\n      <td>album</td>\n      <td>album</td>\n      <td>[{'external_urls': {'spotify': 'https://open.s...</td>\n      <td>[AD, AE, AR, AT, AU, BE, BG, BH, BO, BR, CA, C...</td>\n      <td>{'spotify': 'https://open.spotify.com/album/6A...</td>\n      <td>https://api.spotify.com/v1/albums/6ApYSpXF8GxZ...</td>\n      <td>6ApYSpXF8GxZAgBTHDzYge</td>\n      <td>[{'height': 640, 'url': 'https://i.scdn.co/ima...</td>\n      <td>Pray for the Wicked</td>\n      <td>2018-06-22</td>\n      <td>day</td>\n      <td>11</td>\n      <td>album</td>\n      <td>spotify:album:6ApYSpXF8GxZAgBTHDzYge</td>\n    </tr>\n    <tr>\n      <td>1</td>\n      <td>album</td>\n      <td>album</td>\n      <td>[{'external_urls': {'spotify': 'https://open.s...</td>\n      <td>[AD, AE, AR, AT, AU, BE, BG, BH, BO, BR, CA, C...</td>\n      <td>{'spotify': 'https://open.spotify.com/album/2V...</td>\n      <td>https://api.spotify.com/v1/albums/2VnKzCESTePs...</td>\n      <td>2VnKzCESTePshnbUALlDt2</td>\n      <td>[{'height': 640, 'url': 'https://i.scdn.co/ima...</td>\n      <td>All My Friends We're Glorious: Death of a Bach...</td>\n      <td>2017-12-15</td>\n      <td>day</td>\n      <td>21</td>\n      <td>album</td>\n      <td>spotify:album:2VnKzCESTePshnbUALlDt2</td>\n    </tr>\n  </tbody>\n</table>\n</div>",
      "text/plain": "  album_group album_type                                            artists  \\\n0       album      album  [{'external_urls': {'spotify': 'https://open.s...   \n1       album      album  [{'external_urls': {'spotify': 'https://open.s...   \n\n                                   available_markets  \\\n0  [AD, AE, AR, AT, AU, BE, BG, BH, BO, BR, CA, C...   \n1  [AD, AE, AR, AT, AU, BE, BG, BH, BO, BR, CA, C...   \n\n                                       external_urls  \\\n0  {'spotify': 'https://open.spotify.com/album/6A...   \n1  {'spotify': 'https://open.spotify.com/album/2V...   \n\n                                                href                      id  \\\n0  https://api.spotify.com/v1/albums/6ApYSpXF8GxZ...  6ApYSpXF8GxZAgBTHDzYge   \n1  https://api.spotify.com/v1/albums/2VnKzCESTePs...  2VnKzCESTePshnbUALlDt2   \n\n                                              images  \\\n0  [{'height': 640, 'url': 'https://i.scdn.co/ima...   \n1  [{'height': 640, 'url': 'https://i.scdn.co/ima...   \n\n                                                name release_date  \\\n0                                Pray for the Wicked   2018-06-22   \n1  All My Friends We're Glorious: Death of a Bach...   2017-12-15   \n\n  release_date_precision  total_tracks   type  \\\n0                    day            11  album   \n1                    day            21  album   \n\n                                    uri  \n0  spotify:album:6ApYSpXF8GxZAgBTHDzYge  \n1  spotify:album:2VnKzCESTePshnbUALlDt2  "
     },
     "metadata": {},
     "output_type": "display_data"
    }
   ],
   "source": [
    "display(pd.DataFrame.from_records(res_list).head(2))\n",
    "display(pd.DataFrame(res_list).head(2))"
   ]
  },
  {
   "cell_type": "code",
   "execution_count": 54,
   "metadata": {},
   "outputs": [
    {
     "name": "stdout",
     "output_type": "stream",
     "text": "0\n"
    },
    {
     "data": {
      "text/plain": "list"
     },
     "execution_count": 54,
     "metadata": {},
     "output_type": "execute_result"
    }
   ],
   "source": [
    "res_artist = sp.artist_albums(artist_id,offset=0)\n",
    "next_offset = res_artist['offset']+len(res_artist['items'])\n",
    "print(res_artist['offset'])\n",
    "\n",
    "res_artist.keys()\n",
    "total_results = res_artist['total']\n",
    "total_results\n",
    "type(res_artist['items'])"
   ]
  },
  {
   "cell_type": "code",
   "execution_count": 57,
   "metadata": {},
   "outputs": [
    {
     "data": {
      "text/plain": "20"
     },
     "execution_count": 57,
     "metadata": {},
     "output_type": "execute_result"
    }
   ],
   "source": [
    "res2 = sp.artist_albums(artist_id,offset=20)\n",
    "res2['offset']"
   ]
  },
  {
   "cell_type": "code",
   "execution_count": 47,
   "metadata": {},
   "outputs": [
    {
     "data": {
      "text/plain": "{'external_urls': {'spotify': 'https://open.spotify.com/artist/20JZFwl6HVl6yg8a4H3ZqK'},\n    'href': 'https://api.spotify.com/v1/artists/20JZFwl6HVl6yg8a4H3ZqK',\n    'id': '20JZFwl6HVl6yg8a4H3ZqK',\n    'name': 'Panic! At The Disco',\n    'type': 'artist',\n    'uri': 'spotify:artist:20JZFwl6HVl6yg8a4H3ZqK'}],\n  'available_markets': ['AD',\n   'AE',\n   'AR',\n   'AT',\n   'AU',\n   'BE',\n   'BG',\n   'BH',\n   'BO',\n   'BR',\n   'CA',\n   'CH',\n   'CL',\n   'CO',\n   'CR',\n   'CY',\n   'CZ',\n   'DE',\n   'DK',\n   'DO',\n   'DZ',\n   'EC',\n   'EE',\n   'EG',\n   'ES',\n   'FI',\n   'FR',\n   'GB',\n   'GR',\n   'GT',\n   'HK',\n   'HN',\n   'HU',\n   'ID',\n   'IE',\n   'IL',\n   'IS',\n   'IT',\n   'JO',\n   'JP',\n   'KW',\n   'LB',\n   'LT',\n   'LU',\n   'LV',\n   'MA',\n   'MC',\n   'MT',\n   'MX',\n   'MY',\n   'NI',\n   'NL',\n   'NO',\n   'NZ',\n   'OM',\n   'PA',\n   'PE',\n   'PH',\n   'PL',\n   'PT',\n   'PY',\n   'QA',\n   'RO',\n   'SA',\n   'SE',\n   'SG',\n   'SK',\n   'SV',\n   'TH',\n   'TN',\n   'TR',\n   'TW',\n   'UY',\n   'VN',\n   'ZA'],\n  'external_urls': {'spotify': 'https://open.spotify.com/album/37RQSHKeo43oT3NoyPjU0u'},\n  'href': 'https://api.spotify.com/v1/albums/37RQSHKeo43oT3NoyPjU0u',\n  'id': '37RQSHKeo43oT3NoyPjU0u',\n  'images': [{'height': 640,\n    'url': 'https://i.scdn.co/image/ab67616d0000b2733c6be8d422790c19a502b88d',\n    'width': 640},\n   {'height': 300,\n    'url': 'https://i.scdn.co/image/ab67616d00001e023c6be8d422790c19a502b88d',\n    'width': 300},\n   {'height': 64,\n    'url': 'https://i.scdn.co/image/ab67616d000048513c6be8d422790c19a502b88d',\n    'width': 64}],\n  'name': 'This Is Gospel',\n  'release_date': '2013-08-12',\n  'release_date_precision': 'day',\n  'total_tracks': 1,\n  'type': 'album',\n  'uri': 'spotify:album:37RQSHKeo43oT3NoyPjU0u'},\n {'album_group': 'single',\n  'album_type': 'single',\n  'artists': [{'external_urls': {'spotify': 'https://open.spotify.com/artist/20JZFwl6HVl6yg8a4H3ZqK'},\n    'href': 'https://api.spotify.com/v1/artists/20JZFwl6HVl6yg8a4H3ZqK',\n    'id': '20JZFwl6HVl6yg8a4H3ZqK',\n    'name': 'Panic! At The Disco',\n    'type': 'artist',\n    'uri': 'spotify:artist:20JZFwl6HVl6yg8a4H3ZqK'}],\n  'available_markets': ['AD',\n   'AE',\n   'AR',\n   'AT',\n   'AU',\n   'BE',\n   'BG',\n   'BH',\n   'BO',\n   'BR',\n   'CA',\n   'CH',\n   'CL',\n   'CO',\n   'CR',\n   'CY',\n   'CZ',\n   'DE',\n   'DK',\n   'DO',\n   'DZ',\n   'EC',\n   'EE',\n   'EG',\n   'ES',\n   'FI',\n   'FR',\n   'GB',\n   'GR',\n   'GT',\n   'HK',\n   'HN',\n   'HU',\n   'ID',\n   'IE',\n   'IL',\n   'IS',\n   'IT',\n   'JO',\n   'JP',\n   'KW',\n   'LB',\n   'LT',\n   'LU',\n   'LV',\n   'MA',\n   'MC',\n   'MT',\n   'MX',\n   'MY',\n   'NI',\n   'NL',\n   'NO',\n   'NZ',\n   'OM',\n   'PA',\n   'PE',\n   'PH',\n   'PL',\n   'PT',\n   'PY',\n   'QA',\n   'RO',\n   'SA',\n   'SE',\n   'SG',\n   'SK',\n   'SV',\n   'TH',\n   'TN',\n   'TR',\n   'TW',\n   'UY',\n   'VN',\n   'ZA'],\n  'external_urls': {'spotify': 'https://open.spotify.com/album/4409Qn9Y69CrlqpNSOLjTk'},\n  'href': 'https://api.spotify.com/v1/albums/4409Qn9Y69CrlqpNSOLjTk',\n  'id': '4409Qn9Y69CrlqpNSOLjTk',\n  'images': [{'height': 640,\n    'url': 'https://i.scdn.co/image/ab67616d0000b273e721394a2e3a080d480819b5',\n    'width': 640},\n   {'height': 300,\n    'url': 'https://i.scdn.co/image/ab67616d00001e02e721394a2e3a080d480819b5',\n    'width': 300},\n   {'height': 64,\n    'url': 'https://i.scdn.co/image/ab67616d00004851e721394a2e3a080d480819b5',\n    'width': 64}],\n  'name': 'Miss Jackson',\n  'release_date': '2013-07-15',\n  'release_date_precision': 'day',\n  'total_tracks': 1,\n  'type': 'album',\n  'uri': 'spotify:album:4409Qn9Y69CrlqpNSOLjTk'},\n {'album_group': 'single',\n  'album_type': 'single',\n  'artists': [{'external_urls': {'spotify': 'https://open.spotify.com/artist/20JZFwl6HVl6yg8a4H3ZqK'},\n    'href': 'https://api.spotify.com/v1/artists/20JZFwl6HVl6yg8a4H3ZqK',\n    'id': '20JZFwl6HVl6yg8a4H3ZqK',\n    'name': 'Panic! At The Disco',\n    'type': 'artist',\n    'uri': 'spotify:artist:20JZFwl6HVl6yg8a4H3ZqK'}],\n  'available_markets': ['AR',\n   'BO',\n   'BR',\n   'CL',\n   'CO',\n   'CR',\n   'DO',\n   'EC',\n   'GT',\n   'HN',\n   'IL',\n   'NI',\n   'PA',\n   'PE',\n   'PY',\n   'SV',\n   'TR',\n   'UY',\n   'ZA'],\n  'external_urls': {'spotify': 'https://open.spotify.com/album/0XJh8VOPpzt3Fr7eHp0bha'},\n  'href': 'https://api.spotify.com/v1/albums/0XJh8VOPpzt3Fr7eHp0bha',\n  'id': '0XJh8VOPpzt3Fr7eHp0bha',\n  'images': [{'height': 640,\n    'url': 'https://i.scdn.co/image/ab67616d0000b2732151aa7ec41f3ab10a414b87',\n    'width': 640},\n   {'height': 300,\n    'url': 'https://i.scdn.co/image/ab67616d00001e022151aa7ec41f3ab10a414b87',\n    'width': 300},\n   {'height': 64,\n    'url': 'https://i.scdn.co/image/ab67616d000048512151aa7ec41f3ab10a414b87',\n    'width': 64}],\n  'name': 'iTunes Live',\n  'release_date': '2011-09-26',\n  'release_date_precision': 'day',\n  'total_tracks': 6,\n  'type': 'album',\n  'uri': 'spotify:album:0XJh8VOPpzt3Fr7eHp0bha'},\n {'album_group': 'single',\n  'album_type': 'single',\n  'artists': [{'external_urls': {'spotify': 'https://open.spotify.com/artist/20JZFwl6HVl6yg8a4H3ZqK'},\n    'href': 'https://api.spotify.com/v1/artists/20JZFwl6HVl6yg8a4H3ZqK',\n    'id': '20JZFwl6HVl6yg8a4H3ZqK',\n    'name': 'Panic! At The Disco',\n    'type': 'artist',\n    'uri': 'spotify:artist:20JZFwl6HVl6yg8a4H3ZqK'},\n   {'external_urls': {'spotify': 'https://open.spotify.com/artist/5nCi3BB41mBaMH9gfr6Su0'},\n    'href': 'https://api.spotify.com/v1/artists/5nCi3BB41mBaMH9gfr6Su0',\n    'id': '5nCi3BB41mBaMH9gfr6Su0',\n    'name': 'fun.',\n    'type': 'artist',\n    'uri': 'spotify:artist:5nCi3BB41mBaMH9gfr6Su0'}],\n  'available_markets': ['AR',\n   'BO',\n   'BR',\n   'CA',\n   'CL',\n   'CO',\n   'CR',\n   'DO',\n   'EC',\n   'GT',\n   'HN',\n   'IL',\n   'MX',\n   'NI',\n   'PA',\n   'PE',\n   'PY',\n   'SV',\n   'TR',\n   'US',\n   'UY',\n   'ZA'],\n  'external_urls': {'spotify': 'https://open.spotify.com/album/0A5iPbGFWxVSN9m7EjlKl1'},\n  'href': 'https://api.spotify.com/v1/albums/0A5iPbGFWxVSN9m7EjlKl1',\n  'id': '0A5iPbGFWxVSN9m7EjlKl1',\n  'images': [{'height': 640,\n    'url': 'https://i.scdn.co/image/ab67616d0000b273ee611646288ecc4fd5138e3a',\n    'width': 640},\n   {'height': 300,\n    'url': 'https://i.scdn.co/image/ab67616d00001e02ee611646288ecc4fd5138e3a',\n    'width': 300},\n   {'height': 64,\n    'url': 'https://i.scdn.co/image/ab67616d00004851ee611646288ecc4fd5138e3a',\n    'width': 64}],\n  'name': \"C'mon\",\n  'release_date': '2011-05-17',\n  'release_date_precision': 'day',\n  'total_tracks': 1,\n  'type': 'album',\n  'uri': 'spotify:album:0A5iPbGFWxVSN9m7EjlKl1'},\n {'album_group': 'single',\n  'album_type': 'single',\n  'artists': [{'external_urls': {'spotify': 'https://open.spotify.com/artist/20JZFwl6HVl6yg8a4H3ZqK'},\n    'href': 'https://api.spotify.com/v1/artists/20JZFwl6HVl6yg8a4H3ZqK',\n    'id': '20JZFwl6HVl6yg8a4H3ZqK',\n    'name': 'Panic! At The Disco',\n    'type': 'artist',\n    'uri': 'spotify:artist:20JZFwl6HVl6yg8a4H3ZqK'}],\n  'available_markets': ['CA', 'MX'],\n  'external_urls': {'spotify': 'https://open.spotify.com/album/1c2xethEh2FsWHyKaIH918'},\n  'href': 'https://api.spotify.com/v1/albums/1c2xethEh2FsWHyKaIH918',\n  'id': '1c2xethEh2FsWHyKaIH918',\n  'images': [{'height': 640,\n    'url': 'https://i.scdn.co/image/ab67616d0000b27388b32f05ea64d8a5d710a023',\n    'width': 640},\n   {'height': 300,\n    'url': 'https://i.scdn.co/image/ab67616d00001e0288b32f05ea64d8a5d710a023',\n    'width': 300},\n   {'height': 64,\n    'url': 'https://i.scdn.co/image/ab67616d0000485188b32f05ea64d8a5d710a023',\n    'width': 64}],\n  'name': 'The Ballad of Mona Lisa',\n  'release_date': '2011-02-01',\n  'release_date_precision': 'day',\n  'total_tracks': 1,\n  'type': 'album',\n  'uri': 'spotify:album:1c2xethEh2FsWHyKaIH918'},\n {'album_group': 'single',\n  'album_type': 'single',\n  'artists': [{'external_urls': {'spotify': 'https://open.spotify.com/artist/20JZFwl6HVl6yg8a4H3ZqK'},\n    'href': 'https://api.spotify.com/v1/artists/20JZFwl6HVl6yg8a4H3ZqK',\n    'id': '20JZFwl6HVl6yg8a4H3ZqK',\n    'name': 'Panic! At The Disco',\n    'type': 'artist',\n    'uri': 'spotify:artist:20JZFwl6HVl6yg8a4H3ZqK'}],\n  'available_markets': ['AD',\n   'AE',\n   'AR',\n   'AT',\n   'AU',\n   'BE',\n   'BG',\n   'BH',\n   'BO',\n   'BR',\n   'CA',\n   'CH',\n   'CL',\n   'CO',\n   'CR',\n   'CY',\n   'CZ',\n   'DE',\n   'DK',\n   'DO',\n   'DZ',\n   'EC',\n   'EE',\n   'EG',\n   'ES',\n   'FI',\n   'FR',\n   'GR',\n   'GT',\n   'HK',\n   'HN',\n   'HU',\n   'ID',\n   'IL',\n   'IS',\n   'IT',\n   'JO',\n   'JP',\n   'KW',\n   'LB',\n   'LI',\n   'LT',\n   'LU',\n   'LV',\n   'MA',\n   'MC',\n   'MT',\n   'MX',\n   'MY',\n   'NI',\n   'NL',\n   'NO',\n   'NZ',\n   'OM',\n   'PA',\n   'PE',\n   'PH',\n   'PL',\n   'PT',\n   'PY',\n   'QA',\n   'RO',\n   'SA',\n   'SE',\n   'SG',\n   'SK',\n   'SV',\n   'TH',\n   'TN',\n   'TR',\n   'TW',\n   'UY',\n   'VN',\n   'ZA'],\n  'external_urls': {'spotify': 'https://open.spotify.com/album/6G6niPw41MwpwZEmbe64Mc'},\n  'href': 'https://api.spotify.com/v1/albums/6G6niPw41MwpwZEmbe64Mc',\n  'id': '6G6niPw41MwpwZEmbe64Mc',\n  'images': [{'height': 640,\n    'url': 'https://i.scdn.co/image/ab67616d0000b273978e6d08c5581b9ec3627c64',\n    'width': 640},\n   {'height': 300,\n    'url': 'https://i.scdn.co/image/ab67616d00001e02978e6d08c5581b9ec3627c64',\n    'width': 300},\n   {'height': 64,\n    'url': 'https://i.scdn.co/image/ab67616d00004851978e6d08c5581b9ec3627c64',\n    'width': 64}],\n  'name': 'New Perspective',\n  'release_date': '2009-07-28',\n  'release_date_precision': 'day',\n  'total_tracks': 1,\n  'type': 'album',\n  'uri': 'spotify:album:6G6niPw41MwpwZEmbe64Mc'},\n {'album_group': 'single',\n  'album_type': 'single',\n  'artists': [{'external_urls': {'spotify': 'https://open.spotify.com/artist/20JZFwl6HVl6yg8a4H3ZqK'},\n    'href': 'https://api.spotify.com/v1/artists/20JZFwl6HVl6yg8a4H3ZqK',\n    'id': '20JZFwl6HVl6yg8a4H3ZqK',\n    'name': 'Panic! At The Disco',\n    'type': 'artist',\n    'uri': 'spotify:artist:20JZFwl6HVl6yg8a4H3ZqK'}],\n  'available_markets': ['AD',\n   'AE',\n   'AR',\n   'AT',\n   'AU',\n   'BE',\n   'BG',\n   'BH',\n   'BO',\n   'BR',\n   'CA',\n   'CH',\n   'CL',\n   'CO',\n   'CR',\n   'CY',\n   'CZ',\n   'DE',\n   'DK',\n   'DO',\n   'DZ',\n   'EC',\n   'EE',\n   'EG',\n   'ES',\n   'FI',\n   'FR',\n   'GR',\n   'GT',\n   'HK',\n   'HN',\n   'HU',\n   'ID',\n   'IE',\n   'IL',\n   'IS',\n   'IT',\n   'JO',\n   'JP',\n   'KW',\n   'LB',\n   'LI',\n   'LT',\n   'LU',\n   'LV',\n   'MA',\n   'MC',\n   'MT',\n   'MX',\n   'MY',\n   'NI',\n   'NL',\n   'NO',\n   'NZ',\n   'OM',\n   'PA',\n   'PE',\n   'PH',\n   'PL',\n   'PS',\n   'PT',\n   'PY',\n   'QA',\n   'RO',\n   'SA',\n   'SE',\n   'SG',\n   'SK',\n   'SV',\n   'TH',\n   'TN',\n   'TR',\n   'TW',\n   'UY',\n   'VN',\n   'ZA'],\n  'external_urls': {'spotify': 'https://open.spotify.com/album/3lfi6G820aLbRudDl6X6Xr'},\n  'href': 'https://api.spotify.com/v1/albums/3lfi6G820aLbRudDl6X6Xr',\n  'id': '3lfi6G820aLbRudDl6X6Xr',\n  'images': [{'height': 640,\n    'url': 'https://i.scdn.co/image/ab67616d0000b2733cb762d4f10e58b31e272f11',\n    'width': 640},\n   {'height': 300,\n    'url': 'https://i.scdn.co/image/ab67616d00001e023cb762d4f10e58b31e272f11',\n    'width': 300},\n   {'height': 64,\n    'url': 'https://i.scdn.co/image/ab67616d000048513cb762d4f10e58b31e272f11',\n    'width': 64}],\n  'name': 'That Green Gentleman (Things Have Changed)',\n  'release_date': '2008-05-23',\n  'release_date_precision': 'day',\n  'total_tracks': 3,\n  'type': 'album',\n  'uri': 'spotify:album:3lfi6G820aLbRudDl6X6Xr'},\n {'album_group': 'single',\n  'album_type': 'single',\n  'artists': [{'external_urls': {'spotify': 'https://open.spotify.com/artist/20JZFwl6HVl6yg8a4H3ZqK'},\n    'href': 'https://api.spotify.com/v1/artists/20JZFwl6HVl6yg8a4H3ZqK',\n    'id': '20JZFwl6HVl6yg8a4H3ZqK',\n    'name': 'Panic! At The Disco',\n    'type': 'artist',\n    'uri': 'spotify:artist:20JZFwl6HVl6yg8a4H3ZqK'}],\n  'available_markets': ['AD',\n   'AE',\n   'AR',\n   'AT',\n   'AU',\n   'BE',\n   'BG',\n   'BH',\n   'BO',\n   'BR',\n   'CA',\n   'CH',\n   'CL',\n   'CO',\n   'CR',\n   'CY',\n   'CZ',\n   'DE',\n   'DK',\n   'DO',\n   'DZ',\n   'EC',\n   'EE',\n   'EG',\n   'ES',\n   'FI',\n   'FR',\n   'GB',\n   'GR',\n   'GT',\n   'HK',\n   'HN',\n   'HU',\n   'ID',\n   'IE',\n   'IL',\n   'IS',\n   'IT',\n   'JO',\n   'JP',\n   'KW',\n   'LB',\n   'LI',\n   'LT',\n   'LU',\n   'LV',\n   'MA',\n   'MC',\n   'MT',\n   'MX',\n   'MY',\n   'NI',\n   'NL',\n   'NO',\n   'NZ',\n   'OM',\n   'PA',\n   'PE',\n   'PH',\n   'PL',\n   'PS',\n   'PT',\n   'PY',\n   'QA',\n   'RO',\n   'SA',\n   'SE',\n   'SG',\n   'SK',\n   'SV',\n   'TH',\n   'TN',\n   'TR',\n   'TW',\n   'UY',\n   'VN',\n   'ZA'],\n  'external_urls': {'spotify': 'https://open.spotify.com/album/3ohrRZl8cdExrCdK3a3wzx'},\n  'href': 'https://api.spotify.com/v1/albums/3ohrRZl8cdExrCdK3a3wzx',\n  'id': '3ohrRZl8cdExrCdK3a3wzx',\n  'images': [{'height': 640,\n    'url': 'https://i.scdn.co/image/ab67616d0000b273a45e2c60ba66e4d6d224a51d',\n    'width': 640},\n   {'height': 300,\n    'url': 'https://i.scdn.co/image/ab67616d00001e02a45e2c60ba66e4d6d224a51d',\n    'width': 300},\n   {'height': 64,\n    'url': 'https://i.scdn.co/image/ab67616d00004851a45e2c60ba66e4d6d224a51d',\n    'width': 64}],\n  'name': 'That Green Gentleman (Things Have Changed)',\n  'release_date': '2008-05-10',\n  'release_date_precision': 'day',\n  'total_tracks': 1,\n  'type': 'album',\n  'uri': 'spotify:album:3ohrRZl8cdExrCdK3a3wzx'},\n {'album_group': 'single',\n  'album_type': 'single',\n  'artists': [{'external_urls': {'spotify': 'https://open.spotify.com/artist/20JZFwl6HVl6yg8a4H3ZqK'},\n    'href': 'https://api.spotify.com/v1/artists/20JZFwl6HVl6yg8a4H3ZqK',\n    'id': '20JZFwl6HVl6yg8a4H3ZqK',\n    'name': 'Panic! At The Disco',\n    'type': 'artist',\n    'uri': 'spotify:artist:20JZFwl6HVl6yg8a4H3ZqK'}],\n  'available_markets': ['AD',\n   'AE',\n   'AR',\n   'AU',\n   'BE',\n   'BH',\n   'BO',\n   'BR',\n   'CA',\n   'CL',\n   'CO',\n   'CR',\n   'CY',\n   'DK',\n   'DO',\n   'DZ',\n   'EC',\n   'EG',\n   'ES',\n   'FI',\n   'FR',\n   'GR',\n   'GT',\n   'HK',\n   'HN',\n   'ID',\n   'IE',\n   'IS',\n   'IT',\n   'JO',\n   'JP',\n   'KW',\n   'LB',\n   'LI',\n   'LU',\n   'MA',\n   'MC',\n   'MT',\n   'MX',\n   'MY',\n   'NI',\n   'NL',\n   'NO',\n   'NZ',\n   'OM',\n   'PA',\n   'PE',\n   'PH',\n   'PS',\n   'PT',\n   'PY',\n   'QA',\n   'SA',\n   'SE',\n   'SG',\n   'SV',\n   'TH',\n   'TN',\n   'TW',\n   'UY',\n   'VN',\n   'ZA'],\n  'external_urls': {'spotify': 'https://open.spotify.com/album/6MCNfsxn6Kwnweo5Yj2nND'},\n  'href': 'https://api.spotify.com/v1/albums/6MCNfsxn6Kwnweo5Yj2nND',\n  'id': '6MCNfsxn6Kwnweo5Yj2nND',\n  'images': [{'height': 640,\n    'url': 'https://i.scdn.co/image/ab67616d0000b273915cb8f83650affcb1740b36',\n    'width': 640},\n   {'height': 300,\n    'url': 'https://i.scdn.co/image/ab67616d00001e02915cb8f83650affcb1740b36',\n    'width': 300},\n   {'height': 64,\n    'url': 'https://i.scdn.co/image/ab67616d00004851915cb8f83650affcb1740b36',\n    'width': 64}],\n  'name': 'Nine in the Afternoon',\n  'release_date': '2008-03-07',\n  'release_date_precision': 'day',\n  'total_tracks': 3,\n  'type': 'album',\n  'uri': 'spotify:album:6MCNfsxn6Kwnweo5Yj2nND'},\n {'album_group': 'single',\n  'album_type': 'single',\n  'artists': [{'external_urls': {'spotify': 'https://open.spotify.com/artist/20JZFwl6HVl6yg8a4H3ZqK'},\n    'href': 'https://api.spotify.com/v1/artists/20JZFwl6HVl6yg8a4H3ZqK',\n    'id': '20JZFwl6HVl6yg8a4H3ZqK',\n    'name': 'Panic! At The Disco',\n    'type': 'artist',\n    'uri': 'spotify:artist:20JZFwl6HVl6yg8a4H3ZqK'}],\n  'available_markets': ['AD',\n   'AE',\n   'AR',\n   'AT',\n   'AU',\n   'BE',\n   'BG',\n   'BH',\n   'BO',\n   'CA',\n   'CH',\n   'CL',\n   'CO',\n   'CR',\n   'CY',\n   'CZ',\n   'DE',\n   'DK',\n   'DO',\n   'DZ',\n   'EC',\n   'EE',\n   'EG',\n   'ES',\n   'FI',\n   'FR',\n   'GB',\n   'GR',\n   'GT',\n   'HK',\n   'HN',\n   'HU',\n   'ID',\n   'IE',\n   'IL',\n   'IS',\n   'IT',\n   'JO',\n   'JP',\n   'KW',\n   'LB',\n   'LI',\n   'LT',\n   'LU',\n   'LV',\n   'MA',\n   'MC',\n   'MT',\n   'MX',\n   'MY',\n   'NI',\n   'NL',\n   'NO',\n   'NZ',\n   'OM',\n   'PA',\n   'PE',\n   'PH',\n   'PL',\n   'PS',\n   'PT',\n   'PY',\n   'QA',\n   'RO',\n   'SA',\n   'SE',\n   'SG',\n   'SK',\n   'SV',\n   'TH',\n   'TN',\n   'TR',\n   'TW',\n   'UY',\n   'VN',\n   'ZA'],\n  'external_urls': {'spotify': 'https://open.spotify.com/album/6pUTmXT7IzvMKULe2oyBDa'},\n  'href': 'https://api.spotify.com/v1/albums/6pUTmXT7IzvMKULe2oyBDa',\n  'id': '6pUTmXT7IzvMKULe2oyBDa',\n  'images': [{'height': 640,\n    'url': 'https://i.scdn.co/image/ab67616d0000b273e064abacc8269177c3f4332c',\n    'width': 640},\n   {'height': 300,\n    'url': 'https://i.scdn.co/image/ab67616d00001e02e064abacc8269177c3f4332c',\n    'width': 300},\n   {'height': 64,\n    'url': 'https://i.scdn.co/image/ab67616d00004851e064abacc8269177c3f4332c',\n    'width': 64}],\n  'name': \"Build God, Then We'll Talk\",\n  'release_date': '2007-03-26',\n  'release_date_precision': 'day',\n  'total_tracks': 2,\n  'type': 'album',\n  'uri': 'spotify:album:6pUTmXT7IzvMKULe2oyBDa'},\n {'album_group': 'single',\n  'album_type': 'single',\n  'artists': [{'external_urls': {'spotify': 'https://open.spotify.com/artist/20JZFwl6HVl6yg8a4H3ZqK'},\n    'href': 'https://api.spotify.com/v1/artists/20JZFwl6HVl6yg8a4H3ZqK',\n    'id': '20JZFwl6HVl6yg8a4H3ZqK',\n    'name': 'Panic! At The Disco',\n    'type': 'artist',\n    'uri': 'spotify:artist:20JZFwl6HVl6yg8a4H3ZqK'}],\n  'available_markets': ['AD',\n   'AE',\n   'AR',\n   'BE',\n   'BG',\n   'BH',\n   'BO',\n   'BR',\n   'CL',\n   'CO',\n   'CR',\n   'CY',\n   'CZ',\n   'DK',\n   'DO',\n   'DZ',\n   'EC',\n   'EE',\n   'EG',\n   'ES',\n   'FI',\n   'FR',\n   'GR',\n   'GT',\n   'HK',\n   'HN',\n   'HU',\n   'ID',\n   'IL',\n   'IS',\n   'IT',\n   'JO',\n   'JP',\n   'KW',\n   'LB',\n   'LI',\n   'LT',\n   'LU',\n   'LV',\n   'MA',\n   'MC',\n   'MT',\n   'MX',\n   'MY',\n   'NI',\n   'NL',\n   'NO',\n   'OM',\n   'PA',\n   'PE',\n   'PH',\n   'PL',\n   'PS',\n   'PT',\n   'PY',\n   'QA',\n   'RO',\n   'SA',\n   'SG',\n   'SK',\n   'SV',\n   'TH',\n   'TN',\n   'TR',\n   'TW',\n   'UY',\n   'VN',\n   'ZA'],\n  'external_urls': {'spotify': 'https://open.spotify.com/album/2O4KEl5bNSlmq7E5pTiYVa'},\n  'href': 'https://api.spotify.com/v1/albums/2O4KEl5bNSlmq7E5pTiYVa',\n  'id': '2O4KEl5bNSlmq7E5pTiYVa',\n  'images': [{'height': 640,\n    'url': 'https://i.scdn.co/image/ab67616d0000b2736447ff2f6250f8359c44e5f0',\n    'width': 640},\n   {'height': 300,\n    'url': 'https://i.scdn.co/image/ab67616d00001e026447ff2f6250f8359c44e5f0',\n    'width': 300},\n   {'height': 64,\n    'url': 'https://i.scdn.co/image/ab67616d000048516447ff2f6250f8359c44e5f0',\n    'width': 64}],\n  'name': 'Live Sessions - EP',\n  'release_date': '2006-06-13',\n  'release_date_precision': 'day',\n  'total_tracks': 3,\n  'type': 'album',\n  'uri': 'spotify:album:2O4KEl5bNSlmq7E5pTiYVa'},\n {'album_group': 'single',\n  'album_type': 'single',\n  'artists': [{'external_urls': {'spotify': 'https://open.spotify.com/artist/20JZFwl6HVl6yg8a4H3ZqK'},\n    'href': 'https://api.spotify.com/v1/artists/20JZFwl6HVl6yg8a4H3ZqK',\n    'id': '20JZFwl6HVl6yg8a4H3ZqK',\n    'name': 'Panic! At The Disco',\n    'type': 'artist',\n    'uri': 'spotify:artist:20JZFwl6HVl6yg8a4H3ZqK'}],\n  'available_markets': ['AD',\n   'AE',\n   'AT',\n   'BE',\n   'BG',\n   'BH',\n   'CH',\n   'CY',\n   'CZ',\n   'DE',\n   'DK',\n   'DZ',\n   'EE',\n   'EG',\n   'ES',\n   'FI',\n   'FR',\n   'GB',\n   'GR',\n   'HU',\n   'IE',\n   'IL',\n   'IS',\n   'IT',\n   'JO',\n   'KW',\n   'LB',\n   'LI',\n   'LT',\n   'LU',\n   'LV',\n   'MA',\n   'MC',\n   'MT',\n   'NL',\n   'NO',\n   'OM',\n   'PL',\n   'PT',\n   'QA',\n   'RO',\n   'SA',\n   'SE',\n   'SK',\n   'TN',\n   'TR',\n   'ZA'],\n  'external_urls': {'spotify': 'https://open.spotify.com/album/7croVkptVg4XykthhJ4pIN'},\n  'href': 'https://api.spotify.com/v1/albums/7croVkptVg4XykthhJ4pIN',\n  'id': '7croVkptVg4XykthhJ4pIN',\n  'images': [{'height': 640,\n    'url': 'https://i.scdn.co/image/ab67616d0000b27311bc78200eeba1f0172e4387',\n    'width': 640},\n   {'height': 300,\n    'url': 'https://i.scdn.co/image/ab67616d00001e0211bc78200eeba1f0172e4387',\n    'width': 300},\n   {'height': 64,\n    'url': 'https://i.scdn.co/image/ab67616d0000485111bc78200eeba1f0172e4387',\n    'width': 64}],\n  'name': \"But It's Better If You Do\",\n  'release_date': '2006-05-01',\n  'release_date_precision': 'day',\n  'total_tracks': 2,\n  'type': 'album',\n  'uri': 'spotify:album:7croVkptVg4XykthhJ4pIN'}]"
     },
     "execution_count": 47,
     "metadata": {},
     "output_type": "execute_result"
    }
   ],
   "source": [
    "res_artist2 = sp.artist_albums(artist_id,offset=next_offset)\n",
    "res_artist2['items']"
   ]
  },
  {
   "cell_type": "code",
   "execution_count": 35,
   "metadata": {},
   "outputs": [
    {
     "data": {
      "text/plain": "20"
     },
     "execution_count": 35,
     "metadata": {},
     "output_type": "execute_result"
    }
   ],
   "source": [
    "\n",
    "len(res_artist['items'])"
   ]
  },
  {
   "cell_type": "code",
   "execution_count": 43,
   "metadata": {},
   "outputs": [
    {
     "data": {
      "text/plain": "[('Pray for the Wicked', '6ApYSpXF8GxZAgBTHDzYge'),\n (\"All My Friends We're Glorious: Death of a Bachelor Tour Live\",\n  '2VnKzCESTePshnbUALlDt2'),\n ('Death of a Bachelor', '6twKQ0EsUJHVlAr6XBylrj'),\n ('Too Weird To Live, Too Rare To Die!', '1hxraaWEf3wFnJxADf8Dge'),\n ('Vices & Virtues', '14lyTFvaZm7aI7Uzbj1dKt'),\n ('Vices & Virtues', '5S0nsfYhHa1uz10V4yoWSL'),\n ('Vices & Virtues (Deluxe Edition)', '1iW6pUcqwQCI6bcWZW0gCr'),\n ('Live in Chicago', '2zuVGxuEzVhhRHNS2ZeRja'),\n ('Pretty. Odd.', '78EcStHa23JPRmLNan5fST'),\n ('Pretty. Odd.', '7Hk9WbjPbN1n2GXaK7aldw'),\n (\"A Fever You Can't Sweat Out\", '01hp4DvayKlnqUQrmk0vvz'),\n (\"A Fever You Can't Sweat Out\", '4ab7jYzCRPCIz0k2CNKPGm'),\n (\"A Fever You Can't Sweat Out\", '2YeOhhJg3OWpN0F1VYPxtW'),\n ('High Hopes (Don Diablo Remix)', '1cBoBrARkIfC4wGhxlK2qB'),\n ('The Greatest Show', '5C8a48NKuieqX1XlJvHzCs'),\n ('Spotify Singles', '2ofkss2PsSivatWu9zTkdh'),\n ('High Hopes (White Panda Remix)', '1b5e5xUCsIua9I2YzhDL8q'),\n ('Say Amen (Saturday Night) [Sweater Beats Remix]', '51wG8DhZTKoP2p1Pjjlv0N'),\n ('King of the Clouds', '3uaJr6n9iskLLJGGfq1yqo'),\n ('High Hopes on Saturday Night', '3HIpXil5vBzbHi4LPz51mk')]"
     },
     "execution_count": 43,
     "metadata": {},
     "output_type": "execute_result"
    }
   ],
   "source": [
    "items =res_artist['items']\n",
    "album_names= [(items[i]['name'],items[i]['id']) for i in range(len(res_artist['items']))]\n",
    "album_names"
   ]
  },
  {
   "cell_type": "markdown",
   "execution_count": null,
   "metadata": {},
   "outputs": [],
   "source": [
    "# FIGURING OUT THE SPOTIFY API AND SPOTIPY"
   ]
  },
  {
   "cell_type": "code",
   "execution_count": 13,
   "metadata": {},
   "outputs": [
    {
     "name": "stdout",
     "output_type": "stream",
     "text": "https://api.spotify.com/v1/search?q=artist:Panic%20at%20the%20Disco&type:album\n"
    }
   ],
   "source": [
    "import requests\n",
    "base_url = \"https://api.spotify.com/v1/search\"\n",
    "query = base_url + \"?q=\"\n",
    "search_for = {'artist':'Panic at the Disco','type':'album'}\n",
    "search_str = '&'.join([f\"{k}:{v.replace(' ','%20')}\" for k,v in search_for.items()])\n",
    "query+=search_str\n",
    "\n",
    "# query\n",
    "print(query)\n",
    "#https://api.spotify.com/v1/search?q=bob%20year:2014&type=album\n",
    "# params = dict(\n",
    "#     headers='',\n",
    "\n",
    "# )\n",
    "# conn = requests.get()"
   ]
  },
  {
   "cell_type": "code",
   "execution_count": null,
   "metadata": {},
   "outputs": [],
   "source": [
    "'https://accounts.spotify.com/authorize?client_id={}&response_type=code&redirect_uri=https%3A%2F%2Fexample.com%2Fcallback&scope=user-read-private%20user-read-email&state=34fFs29kd09'"
   ]
  },
  {
   "cell_type": "markdown",
   "execution_count": null,
   "metadata": {},
   "outputs": [],
   "source": [
    "# Using spotipy to figure out authorization\n",
    " https://medium.com/@RareLoot/extracting-spotify-data-on-your-favourite-artist-via-python-d58bc92a4330\n",
    " \n",
    " - https://developer.spotify.com/documentation/general/guides/authorization-guide/#client-credentials-flow\n",
    " - https://towardsdatascience.com/making-your-own-discover-weekly-f1ac7546fedb"
   ]
  },
  {
   "cell_type": "code",
   "execution_count": 154,
   "metadata": {},
   "outputs": [
    {
     "name": "stdout",
     "output_type": "stream",
     "text": "dict_keys(['client_id', 'client_secret'])\n"
    }
   ],
   "source": [
    "import json\n",
    "with open(\"/Users/jamesirving/.secret/spotify_api.json\") as f:\n",
    "    api_login =  json.loads(f.read())\n",
    "print(api_login.keys())"
   ]
  },
  {
   "cell_type": "code",
   "execution_count": 155,
   "metadata": {},
   "outputs": [],
   "source": [
    "import spotipy\n",
    "import spotipy.util as util\n",
    "from spotipy.oauth2 import SpotifyClientCredentials "
   ]
  },
  {
   "cell_type": "code",
   "execution_count": 156,
   "metadata": {},
   "outputs": [],
   "source": [
    "# fs.ihelp(SpotifyClientCredentials)"
   ]
  },
  {
   "cell_type": "code",
   "execution_count": 157,
   "metadata": {},
   "outputs": [],
   "source": [
    "# fs.ihelp(spotipy.Spotify,False)"
   ]
  },
  {
   "cell_type": "code",
   "execution_count": 161,
   "metadata": {},
   "outputs": [
    {
     "name": "stdout",
     "output_type": "stream",
     "text": "Help on SpotifyClientCredentials in module spotipy.oauth2 object:\n\nclass SpotifyClientCredentials(builtins.object)\n |  Methods defined here:\n |  \n |  __init__(self, client_id=None, client_secret=None, proxies=None)\n |      You can either provid a client_id and client_secret to the\n |      constructor or set SPOTIPY_CLIENT_ID and SPOTIPY_CLIENT_SECRET\n |      environment variables\n |  \n |  get_access_token(self)\n |      If a valid access token is in memory, returns it\n |      Else feches a new token and returns it\n |  \n |  ----------------------------------------------------------------------\n |  Data descriptors defined here:\n |  \n |  __dict__\n |      dictionary for instance variables (if defined)\n |  \n |  __weakref__\n |      list of weak references to the object (if defined)\n |  \n |  ----------------------------------------------------------------------\n |  Data and other attributes defined here:\n |  \n |  OAUTH_TOKEN_URL = 'https://accounts.spotify.com/api/token'\n\n"
    }
   ],
   "source": [
    "client_creds = SpotifyClientCredentials(**api_login)\n",
    "help(client_creds)"
   ]
  },
  {
   "cell_type": "code",
   "execution_count": 162,
   "metadata": {},
   "outputs": [],
   "source": [
    "sp = spotipy.Spotify(client_credentials_manager=client_creds)"
   ]
  },
  {
   "cell_type": "code",
   "execution_count": 164,
   "metadata": {},
   "outputs": [
    {
     "name": "stdout",
     "output_type": "stream",
     "text": "Help on Spotify in module spotipy.client object:\n\nclass Spotify(builtins.object)\n |  Example usage::\n |  \n |      import spotipy\n |  \n |      urn = 'spotify:artist:3jOstUTkEu2JkjvRdBA5Gu'\n |      sp = spotipy.Spotify()\n |  \n |      sp.trace = True # turn on tracing\n |      sp.trace_out = True # turn on trace out\n |  \n |      artist = sp.artist(urn)\n |      print(artist)\n |  \n |      user = sp.user('plamere')\n |      print(user)\n |  \n |  Methods defined here:\n |  \n |  __init__(self, auth=None, requests_session=True, client_credentials_manager=None, proxies=None, requests_timeout=None)\n |      Create a Spotify API object.\n |      \n |      :param auth: An authorization token (optional)\n |      :param requests_session:\n |          A Requests session object or a truthy value to create one.\n |          A falsy value disables sessions.\n |          It should generally be a good idea to keep sessions enabled\n |          for performance reasons (connection pooling).\n |      :param client_credentials_manager:\n |          SpotifyClientCredentials object\n |      :param proxies:\n |          Definition of proxies (optional)\n |      :param requests_timeout:\n |          Tell Requests to stop waiting for a response after a given number of seconds\n |  \n |  album(self, album_id)\n |      returns a single album given the album's ID, URIs or URL\n |      \n |      Parameters:\n |          - album_id - the album ID, URI or URL\n |  \n |  album_tracks(self, album_id, limit=50, offset=0)\n |      Get Spotify catalog information about an album's tracks\n |      \n |      Parameters:\n |          - album_id - the album ID, URI or URL\n |          - limit  - the number of items to return\n |          - offset - the index of the first item to return\n |  \n |  albums(self, albums)\n |      returns a list of albums given the album IDs, URIs, or URLs\n |      \n |      Parameters:\n |          - albums - a list of  album IDs, URIs or URLs\n |  \n |  artist(self, artist_id)\n |      returns a single artist given the artist's ID, URI or URL\n |      \n |      Parameters:\n |          - artist_id - an artist ID, URI or URL\n |  \n |  artist_albums(self, artist_id, album_type=None, country=None, limit=20, offset=0)\n |      Get Spotify catalog information about an artist's albums\n |      \n |      Parameters:\n |          - artist_id - the artist ID, URI or URL\n |          - album_type - 'album', 'single', 'appears_on', 'compilation'\n |          - country - limit the response to one particular country.\n |          - limit  - the number of albums to return\n |          - offset - the index of the first album to return\n |  \n |  artist_related_artists(self, artist_id)\n |      Get Spotify catalog information about artists similar to an\n |      identified artist. Similarity is based on analysis of the\n |      Spotify community's listening history.\n |      \n |      Parameters:\n |          - artist_id - the artist ID, URI or URL\n |  \n |  artist_top_tracks(self, artist_id, country='US')\n |      Get Spotify catalog information about an artist's top 10 tracks\n |      by country.\n |      \n |      Parameters:\n |          - artist_id - the artist ID, URI or URL\n |          - country - limit the response to one particular country.\n |  \n |  artists(self, artists)\n |      returns a list of artists given the artist IDs, URIs, or URLs\n |      \n |      Parameters:\n |          - artists - a list of  artist IDs, URIs or URLs\n |  \n |  audio_analysis(self, id)\n |      Get audio analysis for a track based upon its Spotify ID\n |      Parameters:\n |          - id - a track URIs, URLs or IDs\n |  \n |  audio_features(self, tracks=[])\n |      Get audio features for one or multiple tracks based upon their Spotify IDs\n |      Parameters:\n |          - tracks - a list of track URIs, URLs or IDs, maximum: 50 ids\n |  \n |  categories(self, country=None, locale=None, limit=20, offset=0)\n |      Get a list of new album releases featured in Spotify\n |      \n |      Parameters:\n |          - country - An ISO 3166-1 alpha-2 country code.\n |          - locale - The desired language, consisting of an ISO 639\n |            language code and an ISO 3166-1 alpha-2 country code, joined\n |            by an underscore.\n |      \n |          - limit - The maximum number of items to return. Default: 20.\n |            Minimum: 1. Maximum: 50\n |      \n |          - offset - The index of the first item to return. Default: 0\n |            (the first object). Use with limit to get the next set of\n |            items.\n |  \n |  category_playlists(self, category_id=None, country=None, limit=20, offset=0)\n |      Get a list of new album releases featured in Spotify\n |      \n |      Parameters:\n |          - category_id - The Spotify category ID for the category.\n |      \n |          - country - An ISO 3166-1 alpha-2 country code.\n |      \n |          - limit - The maximum number of items to return. Default: 20.\n |            Minimum: 1. Maximum: 50\n |      \n |          - offset - The index of the first item to return. Default: 0\n |            (the first object). Use with limit to get the next set of\n |            items.\n |  \n |  current_user(self)\n |      Get detailed profile information about the current user.\n |      An alias for the 'me' method.\n |  \n |  current_user_followed_artists(self, limit=20, after=None)\n |      Gets a list of the artists followed by the current authorized user\n |      \n |      Parameters:\n |          - limit - the number of tracks to return\n |          - after - ghe last artist ID retrieved from the previous request\n |  \n |  current_user_playlists(self, limit=50, offset=0)\n |      Get current user playlists without required getting his profile\n |      Parameters:\n |          - limit  - the number of items to return\n |          - offset - the index of the first item to return\n |  \n |  current_user_saved_albums(self, limit=20, offset=0)\n |      Gets a list of the albums saved in the current authorized user's\n |      \"Your Music\" library\n |      \n |      Parameters:\n |          - limit - the number of albums to return\n |          - offset - the index of the first album to return\n |  \n |  current_user_saved_albums_add(self, albums=[])\n |      Add one or more albums to the current user's\n |      \"Your Music\" library.\n |      Parameters:\n |          - albums - a list of album URIs, URLs or IDs\n |  \n |  current_user_saved_tracks(self, limit=20, offset=0)\n |      Gets a list of the tracks saved in the current authorized user's\n |      \"Your Music\" library\n |      \n |      Parameters:\n |          - limit - the number of tracks to return\n |          - offset - the index of the first track to return\n |  \n |  current_user_saved_tracks_add(self, tracks=None)\n |      Add one or more tracks to the current user's\n |      \"Your Music\" library.\n |      \n |      Parameters:\n |          - tracks - a list of track URIs, URLs or IDs\n |  \n |  current_user_saved_tracks_contains(self, tracks=None)\n |      Check if one or more tracks is already saved in\n |      the current Spotify user’s “Your Music” library.\n |      \n |      Parameters:\n |          - tracks - a list of track URIs, URLs or IDs\n |  \n |  current_user_saved_tracks_delete(self, tracks=None)\n |      Remove one or more tracks from the current user's\n |      \"Your Music\" library.\n |      \n |      Parameters:\n |          - tracks - a list of track URIs, URLs or IDs\n |  \n |  current_user_top_artists(self, limit=20, offset=0, time_range='medium_term')\n |      Get the current user's top artists\n |      \n |      Parameters:\n |          - limit - the number of entities to return\n |          - offset - the index of the first entity to return\n |          - time_range - Over what time frame are the affinities computed\n |            Valid-values: short_term, medium_term, long_term\n |  \n |  current_user_top_tracks(self, limit=20, offset=0, time_range='medium_term')\n |      Get the current user's top tracks\n |      \n |      Parameters:\n |          - limit - the number of entities to return\n |          - offset - the index of the first entity to return\n |          - time_range - Over what time frame are the affinities computed\n |            Valid-values: short_term, medium_term, long_term\n |  \n |  featured_playlists(self, locale=None, country=None, timestamp=None, limit=20, offset=0)\n |      Get a list of Spotify featured playlists\n |      \n |      Parameters:\n |          - locale - The desired language, consisting of a lowercase ISO\n |            639 language code and an uppercase ISO 3166-1 alpha-2 country\n |            code, joined by an underscore.\n |      \n |          - country - An ISO 3166-1 alpha-2 country code.\n |      \n |          - timestamp - A timestamp in ISO 8601 format:\n |            yyyy-MM-ddTHH:mm:ss. Use this parameter to specify the user's\n |            local time to get results tailored for that specific date and\n |            time in the day\n |      \n |          - limit - The maximum number of items to return. Default: 20.\n |            Minimum: 1. Maximum: 50\n |      \n |          - offset - The index of the first item to return. Default: 0\n |            (the first object). Use with limit to get the next set of\n |            items.\n |  \n |  me(self)\n |      Get detailed profile information about the current user.\n |      An alias for the 'current_user' method.\n |  \n |  new_releases(self, country=None, limit=20, offset=0)\n |      Get a list of new album releases featured in Spotify\n |      \n |      Parameters:\n |          - country - An ISO 3166-1 alpha-2 country code.\n |      \n |          - limit - The maximum number of items to return. Default: 20.\n |            Minimum: 1. Maximum: 50\n |      \n |          - offset - The index of the first item to return. Default: 0\n |            (the first object). Use with limit to get the next set of\n |            items.\n |  \n |  next(self, result)\n |      returns the next result given a paged result\n |      \n |      Parameters:\n |          - result - a previously returned paged result\n |  \n |  previous(self, result)\n |      returns the previous result given a paged result\n |      \n |      Parameters:\n |          - result - a previously returned paged result\n |  \n |  recommendation_genre_seeds(self)\n |      Get a list of genres available for the recommendations function.\n |  \n |  recommendations(self, seed_artists=None, seed_genres=None, seed_tracks=None, limit=20, country=None, **kwargs)\n |      Get a list of recommended tracks for one to five seeds.\n |      \n |      Parameters:\n |          - seed_artists - a list of artist IDs, URIs or URLs\n |      \n |          - seed_tracks - a list of artist IDs, URIs or URLs\n |      \n |          - seed_genres - a list of genre names. Available genres for\n |            recommendations can be found by calling recommendation_genre_seeds\n |      \n |          - country - An ISO 3166-1 alpha-2 country code. If provided, all\n |            results will be playable in this country.\n |      \n |          - limit - The maximum number of items to return. Default: 20.\n |            Minimum: 1. Maximum: 100\n |      \n |          - min/max/target_<attribute> - For the tuneable track attributes listed\n |            in the documentation, these values provide filters and targeting on\n |            results.\n |  \n |  search(self, q, limit=10, offset=0, type='track', market=None)\n |      searches for an item\n |      \n |      Parameters:\n |          - q - the search query\n |          - limit  - the number of items to return\n |          - offset - the index of the first item to return\n |          - type - the type of item to return. One of 'artist', 'album',\n |                   'track' or 'playlist'\n |          - market - An ISO 3166-1 alpha-2 country code or the string from_token.\n |  \n |  track(self, track_id)\n |      returns a single track given the track's ID, URI or URL\n |      \n |      Parameters:\n |          - track_id - a spotify URI, URL or ID\n |  \n |  tracks(self, tracks, market=None)\n |      returns a list of tracks given a list of track IDs, URIs, or URLs\n |      \n |      Parameters:\n |          - tracks - a list of spotify URIs, URLs or IDs\n |          - market - an ISO 3166-1 alpha-2 country code.\n |  \n |  user(self, user)\n |      Gets basic profile information about a Spotify User\n |      \n |      Parameters:\n |          - user - the id of the usr\n |  \n |  user_playlist(self, user, playlist_id=None, fields=None)\n |      Gets playlist of a user\n |      Parameters:\n |          - user - the id of the user\n |          - playlist_id - the id of the playlist\n |          - fields - which fields to return\n |  \n |  user_playlist_add_tracks(self, user, playlist_id, tracks, position=None)\n |      Adds tracks to a playlist\n |      \n |      Parameters:\n |          - user - the id of the user\n |          - playlist_id - the id of the playlist\n |          - tracks - a list of track URIs, URLs or IDs\n |          - position - the position to add the tracks\n |  \n |  user_playlist_change_details(self, user, playlist_id, name=None, public=None, collaborative=None)\n |      Changes a playlist's name and/or public/private state\n |      \n |      Parameters:\n |          - user - the id of the user\n |          - playlist_id - the id of the playlist\n |          - name - optional name of the playlist\n |          - public - optional is the playlist public\n |          - collaborative - optional is the playlist collaborative\n |  \n |  user_playlist_create(self, user, name, public=True)\n |      Creates a playlist for a user\n |      \n |      Parameters:\n |          - user - the id of the user\n |          - name - the name of the playlist\n |          - public - is the created playlist public\n |  \n |  user_playlist_follow_playlist(self, playlist_owner_id, playlist_id)\n |      Add the current authenticated user as a follower of a playlist.\n |      \n |      Parameters:\n |          - playlist_owner_id - the user id of the playlist owner\n |          - playlist_id - the id of the playlist\n |  \n |  user_playlist_is_following(self, playlist_owner_id, playlist_id, user_ids)\n |      Check to see if the given users are following the given playlist\n |      \n |      Parameters:\n |          - playlist_owner_id - the user id of the playlist owner\n |          - playlist_id - the id of the playlist\n |          - user_ids - the ids of the users that you want to check to see if they follow the playlist. Maximum: 5 ids.\n |  \n |  user_playlist_remove_all_occurrences_of_tracks(self, user, playlist_id, tracks, snapshot_id=None)\n |      Removes all occurrences of the given tracks from the given playlist\n |      \n |      Parameters:\n |          - user - the id of the user\n |          - playlist_id - the id of the playlist\n |          - tracks - the list of track ids to add to the playlist\n |          - snapshot_id - optional id of the playlist snapshot\n |  \n |  user_playlist_remove_specific_occurrences_of_tracks(self, user, playlist_id, tracks, snapshot_id=None)\n |      Removes all occurrences of the given tracks from the given playlist\n |      \n |      Parameters:\n |          - user - the id of the user\n |          - playlist_id - the id of the playlist\n |          - tracks - an array of objects containing Spotify URIs of the tracks to remove with their current positions in the playlist.  For example:\n |              [  { \"uri\":\"4iV5W9uYEdYUVa79Axb7Rh\", \"positions\":[2] },\n |                 { \"uri\":\"1301WleyT98MSxVHPZCA6M\", \"positions\":[7] } ]\n |          - snapshot_id - optional id of the playlist snapshot\n |  \n |  user_playlist_reorder_tracks(self, user, playlist_id, range_start, insert_before, range_length=1, snapshot_id=None)\n |      Reorder tracks in a playlist\n |      \n |      Parameters:\n |          - user - the id of the user\n |          - playlist_id - the id of the playlist\n |          - range_start - the position of the first track to be reordered\n |          - range_length - optional the number of tracks to be reordered (default: 1)\n |          - insert_before - the position where the tracks should be inserted\n |          - snapshot_id - optional playlist's snapshot ID\n |  \n |  user_playlist_replace_tracks(self, user, playlist_id, tracks)\n |      Replace all tracks in a playlist\n |      \n |      Parameters:\n |          - user - the id of the user\n |          - playlist_id - the id of the playlist\n |          - tracks - the list of track ids to add to the playlist\n |  \n |  user_playlist_tracks(self, user, playlist_id=None, fields=None, limit=100, offset=0, market=None)\n |      Get full details of the tracks of a playlist owned by a user.\n |      \n |      Parameters:\n |          - user - the id of the user\n |          - playlist_id - the id of the playlist\n |          - fields - which fields to return\n |          - limit - the maximum number of tracks to return\n |          - offset - the index of the first track to return\n |          - market - an ISO 3166-1 alpha-2 country code.\n |  \n |  user_playlist_unfollow(self, user, playlist_id)\n |      Unfollows (deletes) a playlist for a user\n |      \n |      Parameters:\n |          - user - the id of the user\n |          - name - the name of the playlist\n |  \n |  user_playlists(self, user, limit=50, offset=0)\n |      Gets playlists of a user\n |      \n |      Parameters:\n |          - user - the id of the usr\n |          - limit  - the number of items to return\n |          - offset - the index of the first item to return\n |  \n |  ----------------------------------------------------------------------\n |  Data descriptors defined here:\n |  \n |  __dict__\n |      dictionary for instance variables (if defined)\n |  \n |  __weakref__\n |      list of weak references to the object (if defined)\n |  \n |  ----------------------------------------------------------------------\n |  Data and other attributes defined here:\n |  \n |  max_get_retries = 10\n |  \n |  trace = False\n |  \n |  trace_out = False\n\n"
    }
   ],
   "source": [
    "help(sp)"
   ]
  },
  {
   "cell_type": "code",
   "execution_count": 165,
   "metadata": {},
   "outputs": [
    {
     "data": {
      "text/plain": "10"
     },
     "execution_count": 165,
     "metadata": {},
     "output_type": "execute_result"
    }
   ],
   "source": [
    "name = \"Panic at the Disco\" #chosen artist\n",
    "result = sp.search(name) #search query\n",
    "len(result['tracks']['items'])"
   ]
  },
  {
   "cell_type": "code",
   "execution_count": 166,
   "metadata": {},
   "outputs": [
    {
     "name": "stdout",
     "output_type": "stream",
     "text": "Help on method search in module spotipy.client:\n\nsearch(q, limit=10, offset=0, type='track', market=None) method of spotipy.client.Spotify instance\n    searches for an item\n    \n    Parameters:\n        - q - the search query\n        - limit  - the number of items to return\n        - offset - the index of the first item to return\n        - type - the type of item to return. One of 'artist', 'album',\n                 'track' or 'playlist'\n        - market - An ISO 3166-1 alpha-2 country code or the string from_token.\n\n"
    }
   ],
   "source": [
    "help(sp.search)"
   ]
  },
  {
   "cell_type": "code",
   "execution_count": 173,
   "metadata": {},
   "outputs": [
    {
     "data": {
      "text/plain": "dict_keys(['tracks'])"
     },
     "execution_count": 173,
     "metadata": {},
     "output_type": "execute_result"
    }
   ],
   "source": [
    "res = sp.search('Panic at the disco') \n",
    "res.keys()"
   ]
  },
  {
   "cell_type": "code",
   "execution_count": 174,
   "metadata": {},
   "outputs": [
    {
     "data": {
      "text/plain": "'uri': 'spotify:artist:20JZFwl6HVl6yg8a4H3ZqK'}],\n   'available_markets': ['AT', 'CH', 'DE', 'US'],\n   'external_urls': {'spotify': 'https://open.spotify.com/album/2YeOhhJg3OWpN0F1VYPxtW'},\n   'href': 'https://api.spotify.com/v1/albums/2YeOhhJg3OWpN0F1VYPxtW',\n   'id': '2YeOhhJg3OWpN0F1VYPxtW',\n   'images': [{'height': 640,\n     'url': 'https://i.scdn.co/image/ab67616d0000b27303b96e25a7c2621a6e204bcb',\n     'width': 640},\n    {'height': 300,\n     'url': 'https://i.scdn.co/image/ab67616d00001e0203b96e25a7c2621a6e204bcb',\n     'width': 300},\n    {'height': 64,\n     'url': 'https://i.scdn.co/image/ab67616d0000485103b96e25a7c2621a6e204bcb',\n     'width': 64}],\n   'name': \"A Fever You Can't Sweat Out\",\n   'release_date': '2005-09-27',\n   'release_date_precision': 'day',\n   'total_tracks': 13,\n   'type': 'album',\n   'uri': 'spotify:album:2YeOhhJg3OWpN0F1VYPxtW'},\n  'artists': [{'external_urls': {'spotify': 'https://open.spotify.com/artist/20JZFwl6HVl6yg8a4H3ZqK'},\n    'href': 'https://api.spotify.com/v1/artists/20JZFwl6HVl6yg8a4H3ZqK',\n    'id': '20JZFwl6HVl6yg8a4H3ZqK',\n    'name': 'Panic! At The Disco',\n    'type': 'artist',\n    'uri': 'spotify:artist:20JZFwl6HVl6yg8a4H3ZqK'}],\n  'available_markets': ['AT', 'CH', 'DE', 'US'],\n  'disc_number': 1,\n  'duration_ms': 187613,\n  'explicit': False,\n  'external_ids': {'isrc': 'US56V0507710'},\n  'external_urls': {'spotify': 'https://open.spotify.com/track/4bPQs0PHn4xbipzdPfn6du'},\n  'href': 'https://api.spotify.com/v1/tracks/4bPQs0PHn4xbipzdPfn6du',\n  'id': '4bPQs0PHn4xbipzdPfn6du',\n  'is_local': False,\n  'name': 'I Write Sins Not Tragedies',\n  'popularity': 75,\n  'preview_url': 'https://p.scdn.co/mp3-preview/930966829960ca443d5fc2dae62c9cd5b9d6a395?cid=ebb0087f6c59496791f7508fd087aef8',\n  'track_number': 10,\n  'type': 'track',\n  'uri': 'spotify:track:4bPQs0PHn4xbipzdPfn6du'},\n {'album': {'album_type': 'album',\n   'artists': [{'external_urls': {'spotify': 'https://open.spotify.com/artist/20JZFwl6HVl6yg8a4H3ZqK'},\n     'href': 'https://api.spotify.com/v1/artists/20JZFwl6HVl6yg8a4H3ZqK',\n     'id': '20JZFwl6HVl6yg8a4H3ZqK',\n     'name': 'Panic! At The Disco',\n     'type': 'artist',\n     'uri': 'spotify:artist:20JZFwl6HVl6yg8a4H3ZqK'}],\n   'available_markets': ['AD',\n    'AE',\n    'AR',\n    'AT',\n    'AU',\n    'BE',\n    'BG',\n    'BH',\n    'BO',\n    'BR',\n    'CA',\n    'CH',\n    'CL',\n    'CO',\n    'CR',\n    'CY',\n    'CZ',\n    'DE',\n    'DK',\n    'DO',\n    'DZ',\n    'EC',\n    'EE',\n    'EG',\n    'ES',\n    'FI',\n    'FR',\n    'GB',\n    'GR',\n    'GT',\n    'HK',\n    'HN',\n    'HU',\n    'ID',\n    'IE',\n    'IL',\n    'IS',\n    'IT',\n    'JO',\n    'JP',\n    'KW',\n    'LB',\n    'LI',\n    'LT',\n    'LU',\n    'LV',\n    'MA',\n    'MC',\n    'MT',\n    'MX',\n    'MY',\n    'NI',\n    'NL',\n    'NO',\n    'NZ',\n    'OM',\n    'PA',\n    'PE',\n    'PH',\n    'PL',\n    'PS',\n    'PT',\n    'PY',\n    'QA',\n    'RO',\n    'SA',\n    'SE',\n    'SG',\n    'SK',\n    'SV',\n    'TH',\n    'TN',\n    'TR',\n    'TW',\n    'US',\n    'UY',\n    'VN',\n    'ZA'],\n   'external_urls': {'spotify': 'https://open.spotify.com/album/6twKQ0EsUJHVlAr6XBylrj'},\n   'href': 'https://api.spotify.com/v1/albums/6twKQ0EsUJHVlAr6XBylrj',\n   'id': '6twKQ0EsUJHVlAr6XBylrj',\n   'images': [{'height': 640,\n     'url': 'https://i.scdn.co/image/ab67616d0000b27323152d9337d6c57b116ed13a',\n     'width': 640},\n    {'height': 300,\n     'url': 'https://i.scdn.co/image/ab67616d00001e0223152d9337d6c57b116ed13a',\n     'width': 300},\n    {'height': 64,\n     'url': 'https://i.scdn.co/image/ab67616d0000485123152d9337d6c57b116ed13a',\n     'width': 64}],\n   'name': 'Death of a Bachelor',\n   'release_date': '2016-01-15',\n   'release_date_precision': 'day',\n   'total_tracks': 11,\n   'type': 'album',\n   'uri': 'spotify:album:6twKQ0EsUJHVlAr6XBylrj'},\n  'artists': [{'external_urls': {'spotify': 'https://open.spotify.com/artist/20JZFwl6HVl6yg8a4H3ZqK'},\n    'href': 'https://api.spotify.com/v1/artists/20JZFwl6HVl6yg8a4H3ZqK',\n    'id': '20JZFwl6HVl6yg8a4H3ZqK',\n    'name': 'Panic! At The Disco',\n    'type': 'artist',\n    'uri': 'spotify:artist:20JZFwl6HVl6yg8a4H3ZqK'}],\n  'available_markets': ['AD',\n   'AE',\n   'AR',\n   'AT',\n   'AU',\n   'BE',\n   'BG',\n   'BH',\n   'BO',\n   'BR',\n   'CA',\n   'CH',\n   'CL',\n   'CO',\n   'CR',\n   'CY',\n   'CZ',\n   'DE',\n   'DK',\n   'DO',\n   'DZ',\n   'EC',\n   'EE',\n   'EG',\n   'ES',\n   'FI',\n   'FR',\n   'GB',\n   'GR',\n   'GT',\n   'HK',\n   'HN',\n   'HU',\n   'ID',\n   'IE',\n   'IL',\n   'IS',\n   'IT',\n   'JO',\n   'JP',\n   'KW',\n   'LB',\n   'LI',\n   'LT',\n   'LU',\n   'LV',\n   'MA',\n   'MC',\n   'MT',\n   'MX',\n   'MY',\n   'NI',\n   'NL',\n   'NO',\n   'NZ',\n   'OM',\n   'PA',\n   'PE',\n   'PH',\n   'PL',\n   'PS',\n   'PT',\n   'PY',\n   'QA',\n   'RO',\n   'SA',\n   'SE',\n   'SG',\n   'SK',\n   'SV',\n   'TH',\n   'TN',\n   'TR',\n   'TW',\n   'US',\n   'UY',\n   'VN',\n   'ZA'],\n  'disc_number': 1,\n  'duration_ms': 203506,\n  'explicit': False,\n  'external_ids': {'isrc': 'USAT21503696'},\n  'external_urls': {'spotify': 'https://open.spotify.com/track/1BECwm5qkaBwlbfo4kpYx8'},\n  'href': 'https://api.spotify.com/v1/tracks/1BECwm5qkaBwlbfo4kpYx8',\n  'id': '1BECwm5qkaBwlbfo4kpYx8',\n  'is_local': False,\n  'name': 'Death of a Bachelor',\n  'popularity': 75,\n  'preview_url': 'https://p.scdn.co/mp3-preview/8d508570fcb3ac263a11dd6d510fc251b7581917?cid=ebb0087f6c59496791f7508fd087aef8',\n  'track_number': 5,\n  'type': 'track',\n  'uri': 'spotify:track:1BECwm5qkaBwlbfo4kpYx8'},\n {'album': {'album_type': 'album',\n   'artists': [{'external_urls': {'spotify': 'https://open.spotify.com/artist/1tqhsYv8yBBdwANFNzHtcr'},\n     'href': 'https://api.spotify.com/v1/artists/1tqhsYv8yBBdwANFNzHtcr',\n     'id': '1tqhsYv8yBBdwANFNzHtcr',\n     'name': 'Lil Dicky',\n     'type': 'artist',\n     'uri': 'spotify:artist:1tqhsYv8yBBdwANFNzHtcr'}],\n   'available_markets': ['AD',\n    'AE',\n    'AR',\n    'AT',\n    'AU',\n    'BE',\n    'BG',\n    'BH',\n    'BO',\n    'BR',\n    'CA',\n    'CH',\n    'CL',\n    'CO',\n    'CR',\n    'CY',\n    'CZ',\n    'DE',\n    'DK',\n    'DO',\n    'DZ',\n    'EC',\n    'EE',\n    'EG',\n    'ES',\n    'FI',\n    'FR',\n    'GB',\n    'GR',\n    'GT',\n    'HK',\n    'HN',\n    'HU',\n    'ID',\n    'IE',\n    'IL',\n    'IS',\n    'IT',\n    'JO',\n    'JP',\n    'KW',\n    'LB',\n    'LI',\n    'LT',\n    'LU',\n    'LV',\n    'MA',\n    'MC',\n    'MT',\n    'MX',\n    'MY',\n    'NI',\n    'NL',\n    'NO',\n    'NZ',\n    'OM',\n    'PA',\n    'PE',\n    'PH',\n    'PL',\n    'PS',\n    'PT',\n    'PY',\n    'QA',\n    'RO',\n    'SA',\n    'SE',\n    'SG',\n    'SK',\n    'SV',\n    'TH',\n    'TN',\n    'TR',\n    'TW',\n    'US',\n    'UY',\n    'VN',\n    'ZA'],\n   'external_urls': {'spotify': 'https://open.spotify.com/album/5eLVoIPq7P3Bu29lVgD4x0'},\n   'href': 'https://api.spotify.com/v1/albums/5eLVoIPq7P3Bu29lVgD4x0',\n   'id': '5eLVoIPq7P3Bu29lVgD4x0',\n   'images': [{'height': 640,\n     'url': 'https://i.scdn.co/image/ab67616d0000b2734598988646356555fd93a33d',\n     'width': 640},\n    {'height': 300,\n     'url': 'https://i.scdn.co/image/ab67616d00001e024598988646356555fd93a33d',\n     'width': 300},\n    {'height': 64,\n     'url': 'https://i.scdn.co/image/ab67616d000048514598988646356555fd93a33d',\n     'width': 64}],\n   'name': 'Professional Rapper',\n   'release_date': '2015-07-31',\n   'release_date_precision': 'day',\n   'total_tracks': 20,\n   'type': 'album',\n   'uri': 'spotify:album:5eLVoIPq7P3Bu29lVgD4x0'},\n  'artists': [{'external_urls': {'spotify': 'https://open.spotify.com/artist/1tqhsYv8yBBdwANFNzHtcr'},\n    'href': 'https://api.spotify.com/v1/artists/1tqhsYv8yBBdwANFNzHtcr',\n    'id': '1tqhsYv8yBBdwANFNzHtcr',\n    'name': 'Lil Dicky',\n    'type': 'artist',\n    'uri': 'spotify:artist:1tqhsYv8yBBdwANFNzHtcr'},\n   {'external_urls': {'spotify': 'https://open.spotify.com/artist/6eYFryfcEu3QSq59D62wZQ'},\n    'href': 'https://api.spotify.com/v1/artists/6eYFryfcEu3QSq59D62wZQ',\n    'id': '6eYFryfcEu3QSq59D62wZQ',\n    'name': 'Brendon Urie',\n    'type': 'artist',\n    'uri': 'spotify:artist:6eYFryfcEu3QSq59D62wZQ'}],\n  'available_markets': ['AD',\n   'AE',\n   'AR',\n   'AT',\n   'AU',\n   'BE',\n   'BG',\n   'BH',\n   'BO',\n   'BR',\n   'CA',\n   'CH',\n   'CL',\n   'CO',\n   'CR',\n   'CY',\n   'CZ',\n   'DE',\n   'DK',\n   'DO',\n   'DZ',\n   'EC',\n   'EE',\n   'EG',\n   'ES',\n   'FI',\n   'FR',\n   'GB',\n   'GR',\n   'GT',\n   'HK',\n   'HN',\n   'HU',\n   'ID',\n   'IE',\n   'IL',\n   'IS',\n   'IT',\n   'JO',\n   'JP',\n   'KW',\n   'LB',\n   'LI',\n   'LT',\n   'LU',\n   'LV',\n   'MA',\n   'MC',\n   'MT',\n   'MX',\n   'MY',\n   'NI',\n   'NL',\n   'NO',\n   'NZ',\n   'OM',\n   'PA',\n   'PE',\n   'PH',\n   'PL',\n   'PS',\n   'PT',\n   'PY',\n   'QA',\n   'RO',\n   'SA',\n   'SE',\n   'SG',\n   'SK',\n   'SV',\n   'TH',\n   'TN',\n   'TR',\n   'TW',\n   'US',\n   'UY',\n   'VN',\n   'ZA'],\n  'disc_number': 1,\n  'duration_ms': 244339,\n  'explicit': True,\n  'external_ids': {'isrc': 'QM4HH1550007'},\n  'external_urls': {'spotify': 'https://open.spotify.com/track/0NBiC3zLXoBQXBjsbnbwJq'},\n  'href': 'https://api.spotify.com/v1/tracks/0NBiC3zLXoBQXBjsbnbwJq',\n  'id': '0NBiC3zLXoBQXBjsbnbwJq',\n  'is_local': False,\n  'name': 'Molly (feat. Brendon Urie of Panic at the Disco)',\n  'popularity': 71,\n  'preview_url': 'https://p.scdn.co/mp3-preview/aafed57c22e629a3895006f39b6834b60773bd3b?cid=ebb0087f6c59496791f7508fd087aef8',\n  'track_number': 7,\n  'type': 'track',\n  'uri': 'spotify:track:0NBiC3zLXoBQXBjsbnbwJq'},\n {'album': {'album_type': 'album',\n   'artists': [{'external_urls': {'spotify': 'https://open.spotify.com/artist/20JZFwl6HVl6yg8a4H3ZqK'},\n     'href': 'https://api.spotify.com/v1/artists/20JZFwl6HVl6yg8a4H3ZqK',\n     'id': '20JZFwl6HVl6yg8a4H3ZqK',\n     'name': 'Panic! At The Disco',\n     'type': 'artist',\n     'uri': 'spotify:artist:20JZFwl6HVl6yg8a4H3ZqK'}],\n   'available_markets': ['AD',\n    'AE',\n    'AR',\n    'AT',\n    'AU',\n    'BE',\n    'BG',\n    'BH',\n    'BO',\n    'BR',\n    'CA',\n    'CH',\n    'CL',\n    'CO',\n    'CR',\n    'CY',\n    'CZ',\n    'DE',\n    'DK',\n    'DO',\n    'DZ',\n    'EC',\n    'EE',\n    'EG',\n    'ES',\n    'FI',\n    'FR',\n    'GB',\n    'GR',\n    'GT',\n    'HK',\n    'HN',\n    'HU',\n    'ID',\n    'IE',\n    'IL',\n    'IS',\n    'IT',\n    'JO',\n    'JP',\n    'KW',\n    'LB',\n    'LT',\n    'LU',\n    'LV',\n    'MA',\n    'MC',\n    'MT',\n    'MX',\n    'MY',\n    'NI',\n    'NL',\n    'NO',\n    'NZ',\n    'OM',\n    'PA',\n    'PE',\n    'PH',\n    'PL',\n    'PT',\n    'PY',\n    'QA',\n    'RO',\n    'SA',\n    'SE',\n    'SG',\n    'SK',\n    'SV',\n    'TH',\n    'TN',\n    'TR',\n    'TW',\n    'US',\n    'UY',\n    'VN',\n    'ZA'],\n   'external_urls': {'spotify': 'https://open.spotify.com/album/1hxraaWEf3wFnJxADf8Dge'},\n   'href': 'https://api.spotify.com/v1/albums/1hxraaWEf3wFnJxADf8Dge',\n   'id': '1hxraaWEf3wFnJxADf8Dge',\n   'images': [{'height': 640,\n     'url': 'https://i.scdn.co/image/ab67616d0000b2733d01f39642426b65217fbe21',\n     'width': 640},\n    {'height': 300,\n     'url': 'https://i.scdn.co/image/ab67616d00001e023d01f39642426b65217fbe21',\n     'width': 300},\n    {'height': 64,\n     'url': 'https://i.scdn.co/image/ab67616d000048513d01f39642426b65217fbe21',\n     'width': 64}],\n   'name': 'Too Weird To Live, Too Rare To Die!',\n   'release_date': '2013-10-04',\n   'release_date_precision': 'day',\n   'total_tracks': 10,\n   'type': 'album',\n   'uri': 'spotify:album:1hxraaWEf3wFnJxADf8Dge'},\n  'artists': [{'external_urls': {'spotify': 'https://open.spotify.com/artist/20JZFwl6HVl6yg8a4H3ZqK'},\n    'href': 'https://api.spotify.com/v1/artists/20JZFwl6HVl6yg8a4H3ZqK',\n    'id': '20JZFwl6HVl6yg8a4H3ZqK',\n    'name': 'Panic! At The Disco',\n    'type': 'artist',\n    'uri': 'spotify:artist:20JZFwl6HVl6yg8a4H3ZqK'}],\n  'available_markets': ['AD',\n   'AE',\n   'AR',\n   'AT',\n   'AU',\n   'BE',\n   'BG',\n   'BH',\n   'BO',\n   'BR',\n   'CA',\n   'CH',\n   'CL',\n   'CO',\n   'CR',\n   'CY',\n   'CZ',\n   'DE',\n   'DK',\n   'DO',\n   'DZ',\n   'EC',\n   'EE',\n   'EG',\n   'ES',\n   'FI',\n   'FR',\n   'GB',\n   'GR',\n   'GT',\n   'HK',\n   'HN',\n   'HU',\n   'ID',\n   'IE',\n   'IL',\n   'IS',\n   'IT',\n   'JO',\n   'JP',\n   'KW',\n   'LB',\n   'LT',\n   'LU',\n   'LV',\n   'MA',\n   'MC',\n   'MT',\n   'MX',\n   'MY',\n   'NI',\n   'NL',\n   'NO',\n   'NZ',\n   'OM',\n   'PA',\n   'PE',\n   'PH',\n   'PL',\n   'PT',\n   'PY',\n   'QA',\n   'RO',\n   'SA',\n   'SE',\n   'SG',\n   'SK',\n   'SV',\n   'TH',\n   'TN',\n   'TR',\n   'TW',\n   'US',\n   'UY',\n   'VN',\n   'ZA'],\n  'disc_number': 1,\n  'duration_ms': 187186,\n  'explicit': False,\n  'external_ids': {'isrc': 'USAT21302000'},\n  'external_urls': {'spotify': 'https://open.spotify.com/track/3yZQk5PC52CCmT4ZaTIKvv'},\n  'href': 'https://api.spotify.com/v1/tracks/3yZQk5PC52CCmT4ZaTIKvv',\n  'id': '3yZQk5PC52CCmT4ZaTIKvv',\n  'is_local': False,\n  'name': 'This Is Gospel',\n  'popularity': 73,\n  'preview_url': 'https://p.scdn.co/mp3-preview/bcb98f7e8f0c78c5ad2bff0b10be97aa82453bee?cid=ebb0087f6c59496791f7508fd087aef8',\n  'track_number': 1,\n  'type': 'track',\n  'uri': 'spotify:track:3yZQk5PC52CCmT4ZaTIKvv'},\n {'album': {'album_type': 'album',\n   'artists': [{'external_urls': {'spotify': 'https://open.spotify.com/artist/20JZFwl6HVl6yg8a4H3ZqK'},\n     'href': 'https://api.spotify.com/v1/artists/20JZFwl6HVl6yg8a4H3ZqK',\n     'id': '20JZFwl6HVl6yg8a4H3ZqK',\n     'name': 'Panic! At The Disco',\n     'type': 'artist',\n     'uri': 'spotify:artist:20JZFwl6HVl6yg8a4H3ZqK'}],\n   'available_markets': ['AD',\n    'AE',\n    'AR',\n    'AT',\n    'AU',\n    'BE',\n    'BG',\n    'BH',\n    'BO',\n    'BR',\n    'CA',\n    'CH',\n    'CL',\n    'CO',\n    'CR',\n    'CY',\n    'CZ',\n    'DE',\n    'DK',\n    'DO',\n    'DZ',\n    'EC',\n    'EE',\n    'EG',\n    'ES',\n    'FI',\n    'FR',\n    'GB',\n    'GR',\n    'GT',\n    'HK',\n    'HN',\n    'HU',\n    'ID',\n    'IE',\n    'IL',\n    'IS',\n    'IT',\n    'JO',\n    'JP',\n    'KW',\n    'LB',\n    'LI',\n    'LT',\n    'LU',\n    'LV',\n    'MA',\n    'MC',\n    'MT',\n    'MX',\n    'MY',\n    'NI',\n    'NL',\n    'NO',\n    'NZ',\n    'OM',\n    'PA',\n    'PE',\n    'PH',\n    'PL',\n    'PS',\n    'PT',\n    'PY',\n    'QA',\n    'RO',\n    'SA',\n    'SE',\n    'SG',\n    'SK',\n    'SV',\n    'TH',\n    'TN',\n    'TR',\n    'TW',\n    'US',\n    'UY',\n    'VN',\n    'ZA'],\n   'external_urls': {'spotify': 'https://open.spotify.com/album/6ApYSpXF8GxZAgBTHDzYge'},\n   'href': 'https://api.spotify.com/v1/albums/6ApYSpXF8GxZAgBTHDzYge',\n   'id': '6ApYSpXF8GxZAgBTHDzYge',\n   'images': [{'height': 640,\n     'url': 'https://i.scdn.co/image/ab67616d0000b273c5148520a59be191eea16989',\n     'width': 640},\n    {'height': 300,\n     'url': 'https://i.scdn.co/image/ab67616d00001e02c5148520a59be191eea16989',\n     'width': 300},\n    {'height': 64,\n     'url': 'https://i.scdn.co/image/ab67616d00004851c5148520a59be191eea16989',\n     'width': 64}],\n   'name': 'Pray for the Wicked',\n   'release_date': '2018-06-22',\n   'release_date_precision': 'day',\n   'total_tracks': 11,\n   'type': 'album',\n   'uri': 'spotify:album:6ApYSpXF8GxZAgBTHDzYge'},\n  'artists': [{'external_urls': {'spotify': 'https://open.spotify.com/artist/20JZFwl6HVl6yg8a4H3ZqK'},\n    'href': 'https://api.spotify.com/v1/artists/20JZFwl6HVl6yg8a4H3ZqK',\n    'id': '20JZFwl6HVl6yg8a4H3ZqK',\n    'name': 'Panic! At The Disco',\n    'type': 'artist',\n    'uri': 'spotify:artist:20JZFwl6HVl6yg8a4H3ZqK'}],\n  'available_markets': ['AD',\n   'AE',\n   'AR',\n   'AT',\n   'AU',\n   'BE',\n   'BG',\n   'BH',\n   'BO',\n   'BR',\n   'CA',\n   'CH',\n   'CL',\n   'CO',\n   'CR',\n   'CY',\n   'CZ',\n   'DE',\n   'DK',\n   'DO',\n   'DZ',\n   'EC',\n   'EE',\n   'EG',\n   'ES',\n   'FI',\n   'FR',\n   'GB',\n   'GR',\n   'GT',\n   'HK',\n   'HN',\n   'HU',\n   'ID',\n   'IE',\n   'IL',\n   'IS',\n   'IT',\n   'JO',\n   'JP',\n   'KW',\n   'LB',\n   'LI',\n   'LT',\n   'LU',\n   'LV',\n   'MA',\n   'MC',\n   'MT',\n   'MX',\n   'MY',\n   'NI',\n   'NL',\n   'NO',\n   'NZ',\n   'OM',\n   'PA',\n   'PE',\n   'PH',\n   'PL',\n   'PS',\n   'PT',\n   'PY',\n   'QA',\n   'RO',\n   'SA',\n   'SE',\n   'SG',\n   'SK',\n   'SV',\n   'TH',\n   'TN',\n   'TR',\n   'TW',\n   'US',\n   'UY',\n   'VN',\n   'ZA'],\n  'disc_number': 1,\n  'duration_ms': 189186,\n  'explicit': False,\n  'external_ids': {'isrc': 'USAT21801041'},\n  'external_urls': {'spotify': 'https://open.spotify.com/track/76vMKwFtdDDCLcM6zXybjB'},\n  'href': 'https://api.spotify.com/v1/tracks/76vMKwFtdDDCLcM6zXybjB',\n  'id': '76vMKwFtdDDCLcM6zXybjB',\n  'is_local': False,\n  'name': 'Say Amen (Saturday Night)',\n  'popularity': 72,\n  'preview_url': 'https://p.scdn.co/mp3-preview/9ac903f206067e3d1e4d730530ec261463039542?cid=ebb0087f6c59496791f7508fd087aef8',\n  'track_number': 2,\n  'type': 'track',\n  'uri': 'spotify:track:76vMKwFtdDDCLcM6zXybjB'},\n {'album': {'album_type': 'album',\n   'artists': [{'external_urls': {'spotify': 'https://open.spotify.com/artist/20JZFwl6HVl6yg8a4H3ZqK'},\n     'href': 'https://api.spotify.com/v1/artists/20JZFwl6HVl6yg8a4H3ZqK',\n     'id': '20JZFwl6HVl6yg8a4H3ZqK',\n     'name': 'Panic! At The Disco',\n     'type': 'artist',\n     'uri': 'spotify:artist:20JZFwl6HVl6yg8a4H3ZqK'}],\n   'available_markets': ['AD',\n    'AE',\n    'AR',\n    'AT',\n    'AU',\n    'BE',\n    'BG',\n    'BH',\n    'BO',\n    'BR',\n    'CA',\n    'CH',\n    'CL',\n    'CO',\n    'CR',\n    'CY',\n    'CZ',\n    'DE',\n    'DK',\n    'DO',\n    'DZ',\n    'EC',\n    'EE',\n    'EG',\n    'ES',\n    'FI',\n    'FR',\n    'GB',\n    'GR',\n    'GT',\n    'HK',\n    'HN',\n    'HU',\n    'ID',\n    'IE',\n    'IL',\n    'IS',\n    'IT',\n    'JO',\n    'JP',\n    'KW',\n    'LB',\n    'LI',\n    'LT',\n    'LU',\n    'LV',\n    'MA',\n    'MC',\n    'MT',\n    'MX',\n    'MY',\n    'NI',\n    'NL',\n    'NO',\n    'NZ',\n    'OM',\n    'PA',\n    'PE',\n    'PH',\n    'PL',\n    'PS',\n    'PT',\n    'PY',\n    'QA',\n    'RO',\n    'SA',\n    'SE',\n    'SG',\n    'SK',\n    'SV',\n    'TH',\n    'TN',\n    'TR',\n    'TW',\n    'US',\n    'UY',\n    'VN',\n    'ZA'],\n   'external_urls': {'spotify': 'https://open.spotify.com/album/6twKQ0EsUJHVlAr6XBylrj'},\n   'href': 'https://api.spotify.com/v1/albums/6twKQ0EsUJHVlAr6XBylrj',\n   'id': '6twKQ0EsUJHVlAr6XBylrj',\n   'images': [{'height': 640,\n     'url': 'https://i.scdn.co/image/ab67616d0000b27323152d9337d6c57b116ed13a',\n     'width': 640},\n    {'height': 300,\n     'url': 'https://i.scdn.co/image/ab67616d00001e0223152d9337d6c57b116ed13a',\n     'width': 300},\n    {'height': 64,\n     'url': 'https://i.scdn.co/image/ab67616d0000485123152d9337d6c57b116ed13a',\n     'width': 64}],\n   'name': 'Death of a Bachelor',\n   'release_date': '2016-01-15',\n   'release_date_precision': 'day',\n   'total_tracks': 11,\n   'type': 'album',\n   'uri': 'spotify:album:6twKQ0EsUJHVlAr6XBylrj'},\n  'artists': [{'external_urls': {'spotify': 'https://open.spotify.com/artist/20JZFwl6HVl6yg8a4H3ZqK'},\n    'href': 'https://api.spotify.com/v1/artists/20JZFwl6HVl6yg8a4H3ZqK',\n    'id': '20JZFwl6HVl6yg8a4H3ZqK',\n    'name': 'Panic! At The Disco',\n    'type': 'artist',\n    'uri': 'spotify:artist:20JZFwl6HVl6yg8a4H3ZqK'}],\n  'available_markets': ['AD',\n   'AE',\n   'AR',\n   'AT',\n   'AU',\n   'BE',\n   'BG',\n   'BH',\n   'BO',\n   'BR',\n   'CA',\n   'CH',\n   'CL',\n   'CO',\n   'CR',\n   'CY',\n   'CZ',\n   'DE',\n   'DK',\n   'DO',\n   'DZ',\n   'EC',\n   'EE',\n   'EG',\n   'ES',\n   'FI',\n   'FR',\n   'GB',\n   'GR',\n   'GT',\n   'HK',\n   'HN',\n   'HU',\n   'ID',\n   'IE',\n   'IL',\n   'IS',\n   'IT',\n   'JO',\n   'JP',\n   'KW',\n   'LB',\n   'LI',\n   'LT',\n   'LU',\n   'LV',\n   'MA',\n   'MC',\n   'MT',\n   'MX',\n   'MY',\n   'NI',\n   'NL',\n   'NO',\n   'NZ',\n   'OM',\n   'PA',\n   'PE',\n   'PH',\n   'PL',\n   'PS',\n   'PT',\n   'PY',\n   'QA',\n   'RO',\n   'SA',\n   'SE',\n   'SG',\n   'SK',\n   'SV',\n   'TH',\n   'TN',\n   'TR',\n   'TW',\n   'US',\n   'UY',\n   'VN',\n   'ZA'],\n  'disc_number': 1,\n  'duration_ms': 213093,\n  'explicit': False,\n  'external_ids': {'isrc': 'USAT21503695'},\n  'external_urls': {'spotify': 'https://open.spotify.com/track/2fh3bZ8jZhMxOcfESE9nQY'},\n  'href': 'https://api.spotify.com/v1/tracks/2fh3bZ8jZhMxOcfESE9nQY',\n  'id': '2fh3bZ8jZhMxOcfESE9nQY',\n  'is_local': False,\n  'name': \"Don't Threaten Me with a Good Time\",\n  'popularity': 72,\n  'preview_url': 'https://p.scdn.co/mp3-preview/eb0a73fd5203548d8828e9bffdf9019f5457dac9?cid=ebb0087f6c59496791f7508fd087aef8',\n  'track_number': 2,\n  'type': 'track',\n  'uri': 'spotify:track:2fh3bZ8jZhMxOcfESE9nQY'}]"
     },
     "execution_count": 174,
     "metadata": {},
     "output_type": "execute_result"
    }
   ],
   "source": [
    "result['tracks']['items']\n",
    "# items[:10]"
   ]
  },
  {
   "cell_type": "code",
   "execution_count": 187,
   "metadata": {},
   "outputs": [
    {
     "data": {
      "text/html": "<div>\n<style scoped>\n    .dataframe tbody tr th:only-of-type {\n        vertical-align: middle;\n    }\n\n    .dataframe tbody tr th {\n        vertical-align: top;\n    }\n\n    .dataframe thead th {\n        text-align: right;\n    }\n</style>\n<table border=\"1\" class=\"dataframe\">\n  <thead>\n    <tr style=\"text-align: right;\">\n      <th></th>\n      <th>album</th>\n      <th>artists</th>\n      <th>available_markets</th>\n      <th>disc_number</th>\n      <th>duration_ms</th>\n      <th>explicit</th>\n      <th>external_ids</th>\n      <th>external_urls</th>\n      <th>href</th>\n      <th>id</th>\n      <th>is_local</th>\n      <th>name</th>\n      <th>popularity</th>\n      <th>preview_url</th>\n      <th>track_number</th>\n      <th>type</th>\n      <th>uri</th>\n    </tr>\n  </thead>\n  <tbody>\n    <tr>\n      <td>0</td>\n      <td>{'album_type': 'album', 'artists': [{'external...</td>\n      <td>[{'external_urls': {'spotify': 'https://open.s...</td>\n      <td>[AD, AE, AR, AT, AU, BE, BG, BH, BO, BR, CA, C...</td>\n      <td>1</td>\n      <td>189132</td>\n      <td>False</td>\n      <td>{'isrc': 'USWD11994800'}</td>\n      <td>{'spotify': 'https://open.spotify.com/track/42...</td>\n      <td>https://api.spotify.com/v1/tracks/421eObjg0DTm...</td>\n      <td>421eObjg0DTm2qajJl5OJm</td>\n      <td>False</td>\n      <td>Into the Unknown - Panic! At The Disco Version</td>\n      <td>83</td>\n      <td>None</td>\n      <td>9</td>\n      <td>track</td>\n      <td>spotify:track:421eObjg0DTm2qajJl5OJm</td>\n    </tr>\n    <tr>\n      <td>1</td>\n      <td>{'album_type': 'album', 'artists': [{'external...</td>\n      <td>[{'external_urls': {'spotify': 'https://open.s...</td>\n      <td>[AD, AE, AR, AT, AU, BE, BG, BH, BO, BR, CA, C...</td>\n      <td>1</td>\n      <td>193000</td>\n      <td>False</td>\n      <td>{'isrc': 'USUG11901494'}</td>\n      <td>{'spotify': 'https://open.spotify.com/track/2R...</td>\n      <td>https://api.spotify.com/v1/tracks/2Rk4JlNc2TPm...</td>\n      <td>2Rk4JlNc2TPmZe2af99d45</td>\n      <td>False</td>\n      <td>ME! (feat. Brendon Urie of Panic! At The Disco)</td>\n      <td>85</td>\n      <td>None</td>\n      <td>16</td>\n      <td>track</td>\n      <td>spotify:track:2Rk4JlNc2TPmZe2af99d45</td>\n    </tr>\n    <tr>\n      <td>2</td>\n      <td>{'album_type': 'album', 'artists': [{'external...</td>\n      <td>[{'external_urls': {'spotify': 'https://open.s...</td>\n      <td>[AD, AE, AR, AT, AU, BE, BG, BH, BO, BR, CA, C...</td>\n      <td>1</td>\n      <td>190946</td>\n      <td>False</td>\n      <td>{'isrc': 'USAT21801174'}</td>\n      <td>{'spotify': 'https://open.spotify.com/track/1r...</td>\n      <td>https://api.spotify.com/v1/tracks/1rqqCSm0Qe4I...</td>\n      <td>1rqqCSm0Qe4I9rUvWncaom</td>\n      <td>False</td>\n      <td>High Hopes</td>\n      <td>87</td>\n      <td>https://p.scdn.co/mp3-preview/f6404b1b31994422...</td>\n      <td>4</td>\n      <td>track</td>\n      <td>spotify:track:1rqqCSm0Qe4I9rUvWncaom</td>\n    </tr>\n    <tr>\n      <td>3</td>\n      <td>{'album_type': 'album', 'artists': [{'external...</td>\n      <td>[{'external_urls': {'spotify': 'https://open.s...</td>\n      <td>[AD, AE, AR, AT, AU, BE, BG, BH, BO, BR, CA, C...</td>\n      <td>1</td>\n      <td>169666</td>\n      <td>False</td>\n      <td>{'isrc': 'USAT21801173'}</td>\n      <td>{'spotify': 'https://open.spotify.com/track/22...</td>\n      <td>https://api.spotify.com/v1/tracks/22oEJW6r2rMb...</td>\n      <td>22oEJW6r2rMb9z4IntfyEa</td>\n      <td>False</td>\n      <td>Hey Look Ma, I Made It</td>\n      <td>79</td>\n      <td>https://p.scdn.co/mp3-preview/724c46d8f0fb7ad7...</td>\n      <td>3</td>\n      <td>track</td>\n      <td>spotify:track:22oEJW6r2rMb9z4IntfyEa</td>\n    </tr>\n    <tr>\n      <td>4</td>\n      <td>{'album_type': 'album', 'artists': [{'external...</td>\n      <td>[{'external_urls': {'spotify': 'https://open.s...</td>\n      <td>[AT, CH, DE, US]</td>\n      <td>1</td>\n      <td>187613</td>\n      <td>False</td>\n      <td>{'isrc': 'US56V0507710'}</td>\n      <td>{'spotify': 'https://open.spotify.com/track/4b...</td>\n      <td>https://api.spotify.com/v1/tracks/4bPQs0PHn4xb...</td>\n      <td>4bPQs0PHn4xbipzdPfn6du</td>\n      <td>False</td>\n      <td>I Write Sins Not Tragedies</td>\n      <td>75</td>\n      <td>https://p.scdn.co/mp3-preview/930966829960ca44...</td>\n      <td>10</td>\n      <td>track</td>\n      <td>spotify:track:4bPQs0PHn4xbipzdPfn6du</td>\n    </tr>\n  </tbody>\n</table>\n</div>",
      "text/plain": "                                               album  \\\n0  {'album_type': 'album', 'artists': [{'external...   \n1  {'album_type': 'album', 'artists': [{'external...   \n2  {'album_type': 'album', 'artists': [{'external...   \n3  {'album_type': 'album', 'artists': [{'external...   \n4  {'album_type': 'album', 'artists': [{'external...   \n\n                                             artists  \\\n0  [{'external_urls': {'spotify': 'https://open.s...   \n1  [{'external_urls': {'spotify': 'https://open.s...   \n2  [{'external_urls': {'spotify': 'https://open.s...   \n3  [{'external_urls': {'spotify': 'https://open.s...   \n4  [{'external_urls': {'spotify': 'https://open.s...   \n\n                                   available_markets  disc_number  \\\n0  [AD, AE, AR, AT, AU, BE, BG, BH, BO, BR, CA, C...            1   \n1  [AD, AE, AR, AT, AU, BE, BG, BH, BO, BR, CA, C...            1   \n2  [AD, AE, AR, AT, AU, BE, BG, BH, BO, BR, CA, C...            1   \n3  [AD, AE, AR, AT, AU, BE, BG, BH, BO, BR, CA, C...            1   \n4                                   [AT, CH, DE, US]            1   \n\n   duration_ms  explicit              external_ids  \\\n0       189132     False  {'isrc': 'USWD11994800'}   \n1       193000     False  {'isrc': 'USUG11901494'}   \n2       190946     False  {'isrc': 'USAT21801174'}   \n3       169666     False  {'isrc': 'USAT21801173'}   \n4       187613     False  {'isrc': 'US56V0507710'}   \n\n                                       external_urls  \\\n0  {'spotify': 'https://open.spotify.com/track/42...   \n1  {'spotify': 'https://open.spotify.com/track/2R...   \n2  {'spotify': 'https://open.spotify.com/track/1r...   \n3  {'spotify': 'https://open.spotify.com/track/22...   \n4  {'spotify': 'https://open.spotify.com/track/4b...   \n\n                                                href                      id  \\\n0  https://api.spotify.com/v1/tracks/421eObjg0DTm...  421eObjg0DTm2qajJl5OJm   \n1  https://api.spotify.com/v1/tracks/2Rk4JlNc2TPm...  2Rk4JlNc2TPmZe2af99d45   \n2  https://api.spotify.com/v1/tracks/1rqqCSm0Qe4I...  1rqqCSm0Qe4I9rUvWncaom   \n3  https://api.spotify.com/v1/tracks/22oEJW6r2rMb...  22oEJW6r2rMb9z4IntfyEa   \n4  https://api.spotify.com/v1/tracks/4bPQs0PHn4xb...  4bPQs0PHn4xbipzdPfn6du   \n\n   is_local                                             name  popularity  \\\n0     False   Into the Unknown - Panic! At The Disco Version          83   \n1     False  ME! (feat. Brendon Urie of Panic! At The Disco)          85   \n2     False                                       High Hopes          87   \n3     False                           Hey Look Ma, I Made It          79   \n4     False                       I Write Sins Not Tragedies          75   \n\n                                         preview_url  track_number   type  \\\n0                                               None             9  track   \n1                                               None            16  track   \n2  https://p.scdn.co/mp3-preview/f6404b1b31994422...             4  track   \n3  https://p.scdn.co/mp3-preview/724c46d8f0fb7ad7...             3  track   \n4  https://p.scdn.co/mp3-preview/930966829960ca44...            10  track   \n\n                                    uri  \n0  spotify:track:421eObjg0DTm2qajJl5OJm  \n1  spotify:track:2Rk4JlNc2TPmZe2af99d45  \n2  spotify:track:1rqqCSm0Qe4I9rUvWncaom  \n3  spotify:track:22oEJW6r2rMb9z4IntfyEa  \n4  spotify:track:4bPQs0PHn4xbipzdPfn6du  "
     },
     "execution_count": 187,
     "metadata": {},
     "output_type": "execute_result"
    }
   ],
   "source": [
    "df = pd.DataFrame.from_records(res['tracks']['items'])\n",
    "df.head()"
   ]
  },
  {
   "cell_type": "code",
   "execution_count": null,
   "metadata": {},
   "outputs": [],
   "source": [
    "df['exter"
   ]
  },
  {
   "cell_type": "code",
   "execution_count": 192,
   "metadata": {},
   "outputs": [
    {
     "data": {
      "text/plain": "['available_markets', 'disc_number', 'external_ids', 'is_local', 'preview_url']"
     },
     "execution_count": 192,
     "metadata": {},
     "output_type": "execute_result"
    }
   ],
   "source": [
    "orig_cols = df.columns\n",
    "keep_cols = ['name','artists','album','track_number','explicit','duration_ms','popularity','uri','id','external_urls','href','type']\n",
    "\n",
    "list(filter(lambda x: x not in keep_cols,orig_cols))"
   ]
  },
  {
   "cell_type": "code",
   "execution_count": 193,
   "metadata": {},
   "outputs": [
    {
     "data": {
      "text/html": "<div>\n<style scoped>\n    .dataframe tbody tr th:only-of-type {\n        vertical-align: middle;\n    }\n\n    .dataframe tbody tr th {\n        vertical-align: top;\n    }\n\n    .dataframe thead th {\n        text-align: right;\n    }\n</style>\n<table border=\"1\" class=\"dataframe\">\n  <thead>\n    <tr style=\"text-align: right;\">\n      <th></th>\n      <th>name</th>\n      <th>artists</th>\n      <th>album</th>\n      <th>track_number</th>\n      <th>explicit</th>\n      <th>duration_ms</th>\n      <th>popularity</th>\n      <th>uri</th>\n      <th>id</th>\n      <th>external_urls</th>\n      <th>href</th>\n      <th>type</th>\n    </tr>\n  </thead>\n  <tbody>\n    <tr>\n      <td>0</td>\n      <td>Into the Unknown - Panic! At The Disco Version</td>\n      <td>[{'external_urls': {'spotify': 'https://open.s...</td>\n      <td>{'album_type': 'album', 'artists': [{'external...</td>\n      <td>9</td>\n      <td>False</td>\n      <td>189132</td>\n      <td>83</td>\n      <td>spotify:track:421eObjg0DTm2qajJl5OJm</td>\n      <td>421eObjg0DTm2qajJl5OJm</td>\n      <td>{'spotify': 'https://open.spotify.com/track/42...</td>\n      <td>https://api.spotify.com/v1/tracks/421eObjg0DTm...</td>\n      <td>track</td>\n    </tr>\n    <tr>\n      <td>1</td>\n      <td>ME! (feat. Brendon Urie of Panic! At The Disco)</td>\n      <td>[{'external_urls': {'spotify': 'https://open.s...</td>\n      <td>{'album_type': 'album', 'artists': [{'external...</td>\n      <td>16</td>\n      <td>False</td>\n      <td>193000</td>\n      <td>85</td>\n      <td>spotify:track:2Rk4JlNc2TPmZe2af99d45</td>\n      <td>2Rk4JlNc2TPmZe2af99d45</td>\n      <td>{'spotify': 'https://open.spotify.com/track/2R...</td>\n      <td>https://api.spotify.com/v1/tracks/2Rk4JlNc2TPm...</td>\n      <td>track</td>\n    </tr>\n    <tr>\n      <td>2</td>\n      <td>High Hopes</td>\n      <td>[{'external_urls': {'spotify': 'https://open.s...</td>\n      <td>{'album_type': 'album', 'artists': [{'external...</td>\n      <td>4</td>\n      <td>False</td>\n      <td>190946</td>\n      <td>87</td>\n      <td>spotify:track:1rqqCSm0Qe4I9rUvWncaom</td>\n      <td>1rqqCSm0Qe4I9rUvWncaom</td>\n      <td>{'spotify': 'https://open.spotify.com/track/1r...</td>\n      <td>https://api.spotify.com/v1/tracks/1rqqCSm0Qe4I...</td>\n      <td>track</td>\n    </tr>\n    <tr>\n      <td>3</td>\n      <td>Hey Look Ma, I Made It</td>\n      <td>[{'external_urls': {'spotify': 'https://open.s...</td>\n      <td>{'album_type': 'album', 'artists': [{'external...</td>\n      <td>3</td>\n      <td>False</td>\n      <td>169666</td>\n      <td>79</td>\n      <td>spotify:track:22oEJW6r2rMb9z4IntfyEa</td>\n      <td>22oEJW6r2rMb9z4IntfyEa</td>\n      <td>{'spotify': 'https://open.spotify.com/track/22...</td>\n      <td>https://api.spotify.com/v1/tracks/22oEJW6r2rMb...</td>\n      <td>track</td>\n    </tr>\n    <tr>\n      <td>4</td>\n      <td>I Write Sins Not Tragedies</td>\n      <td>[{'external_urls': {'spotify': 'https://open.s...</td>\n      <td>{'album_type': 'album', 'artists': [{'external...</td>\n      <td>10</td>\n      <td>False</td>\n      <td>187613</td>\n      <td>75</td>\n      <td>spotify:track:4bPQs0PHn4xbipzdPfn6du</td>\n      <td>4bPQs0PHn4xbipzdPfn6du</td>\n      <td>{'spotify': 'https://open.spotify.com/track/4b...</td>\n      <td>https://api.spotify.com/v1/tracks/4bPQs0PHn4xb...</td>\n      <td>track</td>\n    </tr>\n    <tr>\n      <td>5</td>\n      <td>Death of a Bachelor</td>\n      <td>[{'external_urls': {'spotify': 'https://open.s...</td>\n      <td>{'album_type': 'album', 'artists': [{'external...</td>\n      <td>5</td>\n      <td>False</td>\n      <td>203506</td>\n      <td>75</td>\n      <td>spotify:track:1BECwm5qkaBwlbfo4kpYx8</td>\n      <td>1BECwm5qkaBwlbfo4kpYx8</td>\n      <td>{'spotify': 'https://open.spotify.com/track/1B...</td>\n      <td>https://api.spotify.com/v1/tracks/1BECwm5qkaBw...</td>\n      <td>track</td>\n    </tr>\n    <tr>\n      <td>6</td>\n      <td>Molly (feat. Brendon Urie of Panic at the Disco)</td>\n      <td>[{'external_urls': {'spotify': 'https://open.s...</td>\n      <td>{'album_type': 'album', 'artists': [{'external...</td>\n      <td>7</td>\n      <td>True</td>\n      <td>244339</td>\n      <td>71</td>\n      <td>spotify:track:0NBiC3zLXoBQXBjsbnbwJq</td>\n      <td>0NBiC3zLXoBQXBjsbnbwJq</td>\n      <td>{'spotify': 'https://open.spotify.com/track/0N...</td>\n      <td>https://api.spotify.com/v1/tracks/0NBiC3zLXoBQ...</td>\n      <td>track</td>\n    </tr>\n    <tr>\n      <td>7</td>\n      <td>This Is Gospel</td>\n      <td>[{'external_urls': {'spotify': 'https://open.s...</td>\n      <td>{'album_type': 'album', 'artists': [{'external...</td>\n      <td>1</td>\n      <td>False</td>\n      <td>187186</td>\n      <td>73</td>\n      <td>spotify:track:3yZQk5PC52CCmT4ZaTIKvv</td>\n      <td>3yZQk5PC52CCmT4ZaTIKvv</td>\n      <td>{'spotify': 'https://open.spotify.com/track/3y...</td>\n      <td>https://api.spotify.com/v1/tracks/3yZQk5PC52CC...</td>\n      <td>track</td>\n    </tr>\n    <tr>\n      <td>8</td>\n      <td>Say Amen (Saturday Night)</td>\n      <td>[{'external_urls': {'spotify': 'https://open.s...</td>\n      <td>{'album_type': 'album', 'artists': [{'external...</td>\n      <td>2</td>\n      <td>False</td>\n      <td>189186</td>\n      <td>72</td>\n      <td>spotify:track:76vMKwFtdDDCLcM6zXybjB</td>\n      <td>76vMKwFtdDDCLcM6zXybjB</td>\n      <td>{'spotify': 'https://open.spotify.com/track/76...</td>\n      <td>https://api.spotify.com/v1/tracks/76vMKwFtdDDC...</td>\n      <td>track</td>\n    </tr>\n    <tr>\n      <td>9</td>\n      <td>Don't Threaten Me with a Good Time</td>\n      <td>[{'external_urls': {'spotify': 'https://open.s...</td>\n      <td>{'album_type': 'album', 'artists': [{'external...</td>\n      <td>2</td>\n      <td>False</td>\n      <td>213093</td>\n      <td>72</td>\n      <td>spotify:track:2fh3bZ8jZhMxOcfESE9nQY</td>\n      <td>2fh3bZ8jZhMxOcfESE9nQY</td>\n      <td>{'spotify': 'https://open.spotify.com/track/2f...</td>\n      <td>https://api.spotify.com/v1/tracks/2fh3bZ8jZhMx...</td>\n      <td>track</td>\n    </tr>\n  </tbody>\n</table>\n</div>",
      "text/plain": "                                               name  \\\n0    Into the Unknown - Panic! At The Disco Version   \n1   ME! (feat. Brendon Urie of Panic! At The Disco)   \n2                                        High Hopes   \n3                            Hey Look Ma, I Made It   \n4                        I Write Sins Not Tragedies   \n5                               Death of a Bachelor   \n6  Molly (feat. Brendon Urie of Panic at the Disco)   \n7                                    This Is Gospel   \n8                         Say Amen (Saturday Night)   \n9                Don't Threaten Me with a Good Time   \n\n                                             artists  \\\n0  [{'external_urls': {'spotify': 'https://open.s...   \n1  [{'external_urls': {'spotify': 'https://open.s...   \n2  [{'external_urls': {'spotify': 'https://open.s...   \n3  [{'external_urls': {'spotify': 'https://open.s...   \n4  [{'external_urls': {'spotify': 'https://open.s...   \n5  [{'external_urls': {'spotify': 'https://open.s...   \n6  [{'external_urls': {'spotify': 'https://open.s...   \n7  [{'external_urls': {'spotify': 'https://open.s...   \n8  [{'external_urls': {'spotify': 'https://open.s...   \n9  [{'external_urls': {'spotify': 'https://open.s...   \n\n                                               album  track_number  explicit  \\\n0  {'album_type': 'album', 'artists': [{'external...             9     False   \n1  {'album_type': 'album', 'artists': [{'external...            16     False   \n2  {'album_type': 'album', 'artists': [{'external...             4     False   \n3  {'album_type': 'album', 'artists': [{'external...             3     False   \n4  {'album_type': 'album', 'artists': [{'external...            10     False   \n5  {'album_type': 'album', 'artists': [{'external...             5     False   \n6  {'album_type': 'album', 'artists': [{'external...             7      True   \n7  {'album_type': 'album', 'artists': [{'external...             1     False   \n8  {'album_type': 'album', 'artists': [{'external...             2     False   \n9  {'album_type': 'album', 'artists': [{'external...             2     False   \n\n   duration_ms  popularity                                   uri  \\\n0       189132          83  spotify:track:421eObjg0DTm2qajJl5OJm   \n1       193000          85  spotify:track:2Rk4JlNc2TPmZe2af99d45   \n2       190946          87  spotify:track:1rqqCSm0Qe4I9rUvWncaom   \n3       169666          79  spotify:track:22oEJW6r2rMb9z4IntfyEa   \n4       187613          75  spotify:track:4bPQs0PHn4xbipzdPfn6du   \n5       203506          75  spotify:track:1BECwm5qkaBwlbfo4kpYx8   \n6       244339          71  spotify:track:0NBiC3zLXoBQXBjsbnbwJq   \n7       187186          73  spotify:track:3yZQk5PC52CCmT4ZaTIKvv   \n8       189186          72  spotify:track:76vMKwFtdDDCLcM6zXybjB   \n9       213093          72  spotify:track:2fh3bZ8jZhMxOcfESE9nQY   \n\n                       id                                      external_urls  \\\n0  421eObjg0DTm2qajJl5OJm  {'spotify': 'https://open.spotify.com/track/42...   \n1  2Rk4JlNc2TPmZe2af99d45  {'spotify': 'https://open.spotify.com/track/2R...   \n2  1rqqCSm0Qe4I9rUvWncaom  {'spotify': 'https://open.spotify.com/track/1r...   \n3  22oEJW6r2rMb9z4IntfyEa  {'spotify': 'https://open.spotify.com/track/22...   \n4  4bPQs0PHn4xbipzdPfn6du  {'spotify': 'https://open.spotify.com/track/4b...   \n5  1BECwm5qkaBwlbfo4kpYx8  {'spotify': 'https://open.spotify.com/track/1B...   \n6  0NBiC3zLXoBQXBjsbnbwJq  {'spotify': 'https://open.spotify.com/track/0N...   \n7  3yZQk5PC52CCmT4ZaTIKvv  {'spotify': 'https://open.spotify.com/track/3y...   \n8  76vMKwFtdDDCLcM6zXybjB  {'spotify': 'https://open.spotify.com/track/76...   \n9  2fh3bZ8jZhMxOcfESE9nQY  {'spotify': 'https://open.spotify.com/track/2f...   \n\n                                                href   type  \n0  https://api.spotify.com/v1/tracks/421eObjg0DTm...  track  \n1  https://api.spotify.com/v1/tracks/2Rk4JlNc2TPm...  track  \n2  https://api.spotify.com/v1/tracks/1rqqCSm0Qe4I...  track  \n3  https://api.spotify.com/v1/tracks/22oEJW6r2rMb...  track  \n4  https://api.spotify.com/v1/tracks/4bPQs0PHn4xb...  track  \n5  https://api.spotify.com/v1/tracks/1BECwm5qkaBw...  track  \n6  https://api.spotify.com/v1/tracks/0NBiC3zLXoBQ...  track  \n7  https://api.spotify.com/v1/tracks/3yZQk5PC52CC...  track  \n8  https://api.spotify.com/v1/tracks/76vMKwFtdDDC...  track  \n9  https://api.spotify.com/v1/tracks/2fh3bZ8jZhMx...  track  "
     },
     "metadata": {},
     "output_type": "display_data"
    }
   ],
   "source": [
    "orig_cols = df.columns\n",
    "keep_cols = ['name','artists','album','track_number','explicit','duration_ms','popularity','uri','id','external_urls','href','type']\n",
    "\n",
    "df = df[keep_cols]\n",
    "display(df)"
   ]
  },
  {
   "cell_type": "code",
   "execution_count": 178,
   "metadata": {},
   "outputs": [
    {
     "data": {
      "text/plain": "name                                                   High Hopes\nartists         [{'external_urls': {'spotify': 'https://open.s...\nalbum           {'album_type': 'album', 'artists': [{'external...\ntrack_number                                                    4\nexplicit                                                    False\nduration_ms                                                190946\npopularity                                                     87\nName: 2, dtype: object"
     },
     "execution_count": 178,
     "metadata": {},
     "output_type": "execute_result"
    }
   ],
   "source": [
    "df.iloc[2]"
   ]
  },
  {
   "cell_type": "code",
   "execution_count": 179,
   "metadata": {},
   "outputs": [
    {
     "data": {
      "text/plain": "dict_keys(['album_type', 'artists', 'available_markets', 'external_urls', 'href', 'id', 'images', 'name', 'release_date', 'release_date_precision', 'total_tracks', 'type', 'uri'])"
     },
     "execution_count": 179,
     "metadata": {},
     "output_type": "execute_result"
    }
   ],
   "source": [
    "i=3\n",
    "test = df['album'][i]\n",
    "test.keys()"
   ]
  },
  {
   "cell_type": "code",
   "execution_count": 180,
   "metadata": {},
   "outputs": [
    {
     "data": {
      "text/plain": "{'spotify': 'https://open.spotify.com/album/6ApYSpXF8GxZAgBTHDzYge'}"
     },
     "execution_count": 180,
     "metadata": {},
     "output_type": "execute_result"
    }
   ],
   "source": [
    "\n",
    "test['external_urls']"
   ]
  },
  {
   "cell_type": "code",
   "execution_count": 183,
   "metadata": {},
   "outputs": [],
   "source": [
    "## Clean up album and artists\n",
    "def clean_album(x):\n",
    "    album = pd.Series({'album_title':x['name'],\n",
    "    'album_artist':x['artists'][0]['name'],\n",
    "    'release_date':x['release_date'],\n",
    "    'total_tracks':x['total_tracks']\n",
    "    })\n",
    "    return album\n"
   ]
  },
  {
   "cell_type": "code",
   "execution_count": 184,
   "metadata": {},
   "outputs": [
    {
     "data": {
      "text/plain": "[{'external_urls': {'spotify': 'https://open.spotify.com/artist/20JZFwl6HVl6yg8a4H3ZqK'},\n  'href': 'https://api.spotify.com/v1/artists/20JZFwl6HVl6yg8a4H3ZqK',\n  'id': '20JZFwl6HVl6yg8a4H3ZqK',\n  'name': 'Panic! At The Disco',\n  'type': 'artist',\n  'uri': 'spotify:artist:20JZFwl6HVl6yg8a4H3ZqK'}]"
     },
     "execution_count": 184,
     "metadata": {},
     "output_type": "execute_result"
    }
   ],
   "source": [
    "test['artists']"
   ]
  },
  {
   "cell_type": "code",
   "execution_count": 185,
   "metadata": {},
   "outputs": [
    {
     "data": {
      "text/plain": "album_title     Pray for the Wicked\nalbum_artist    Panic! At The Disco\nrelease_date             2018-06-22\ntotal_tracks                     11\ndtype: object"
     },
     "execution_count": 185,
     "metadata": {},
     "output_type": "execute_result"
    }
   ],
   "source": [
    "\n",
    "clean_album(test)"
   ]
  },
  {
   "cell_type": "markdown",
   "execution_count": null,
   "metadata": {},
   "outputs": [],
   "source": [
    "# BOOKMARK"
   ]
  },
  {
   "cell_type": "code",
   "execution_count": null,
   "metadata": {},
   "outputs": [],
   "source": []
  },
  {
   "cell_type": "code",
   "execution_count": 186,
   "metadata": {},
   "outputs": [
    {
     "data": {
      "text/plain": "name                                                   High Hopes\ntrack_number                                                    4\nexplicit                                                    False\nduration_ms                                                190946\npopularity                                                     87\nsong_artist                                   Panic! At The Disco\nsong_id                                    20JZFwl6HVl6yg8a4H3ZqK\nalbum_title                                   Pray for the Wicked\nalbum_artist                                  Panic! At The Disco\nrelease_date                                           2018-06-22\ntotal_tracks                                                   11\nalbum_url       https://open.spotify.com/album/6ApYSpXF8GxZAgB...\nName: 2, dtype: object"
     },
     "execution_count": 186,
     "metadata": {},
     "output_type": "execute_result"
    }
   ],
   "source": [
    "def clean_results_row(row):\n",
    "    ### Meant to clean the entire dataframe, using .apply functions already defined below\n",
    "    row_in=row.copy()\n",
    "    # row['external_urls']=row['external_urls']['spotify']\n",
    "    x = row['artists'][0].copy()\n",
    "\n",
    "    row['song_artist']=x['name']\n",
    "    row['song_id'] =x['id']\n",
    "    row=row.drop('artists')\n",
    "\n",
    "    x = row['album'].copy()\n",
    "    row['album_title']  = x['name']\n",
    "    row['album_artist'] = x['artists'][0]['name']\n",
    "    row['release_date'] = x['release_date']\n",
    "    row['total_tracks'] =x['total_tracks']\n",
    "    row['album_url'] = x['external_urls']['spotify']\n",
    "\n",
    "    row = row.drop('album')\n",
    "\n",
    "    ## Reorder output\n",
    "    order = ['name', 'song_artist','album_title','track_number','duration_ms', 'popularity',\n",
    "        'song_id', 'album_artist', 'release_date','total_tracks', 'explicit',   'album_url']\n",
    "\n",
    "    row[order] = row[order]\n",
    "\n",
    "\n",
    "\n",
    "    return row\n",
    "\n",
    "clean_results_row(df.iloc[2].copy())"
   ]
  },
  {
   "cell_type": "code",
   "execution_count": 134,
   "metadata": {},
   "outputs": [
    {
     "data": {
      "text/plain": "Index(['name', 'track_number', 'explicit', 'duration_ms', 'popularity',\n       'song_artist', 'song_id', 'album_title', 'album_artist', 'release_date',\n       'total_tracks', 'album_url'],\n      dtype='object')"
     },
     "execution_count": 134,
     "metadata": {},
     "output_type": "execute_result"
    }
   ],
   "source": [
    "\n",
    "df2.columns"
   ]
  },
  {
   "cell_type": "code",
   "execution_count": 139,
   "metadata": {},
   "outputs": [
    {
     "data": {
      "text/plain": "10"
     },
     "execution_count": 139,
     "metadata": {},
     "output_type": "execute_result"
    }
   ],
   "source": [
    "df2 = df.copy().apply(clean_results_row,axis=1)\n",
    "df2 = df2.set_index('song_id').sort_values('album_title')\n",
    "len(df2)"
   ]
  },
  {
   "cell_type": "code",
   "execution_count": 93,
   "metadata": {},
   "outputs": [
    {
     "data": {
      "text/html": "<div>\n<style scoped>\n    .dataframe tbody tr th:only-of-type {\n        vertical-align: middle;\n    }\n\n    .dataframe tbody tr th {\n        vertical-align: top;\n    }\n\n    .dataframe thead th {\n        text-align: right;\n    }\n</style>\n<table border=\"1\" class=\"dataframe\">\n  <thead>\n    <tr style=\"text-align: right;\">\n      <th></th>\n      <th>name</th>\n      <th>artists</th>\n      <th>track_number</th>\n      <th>explicit</th>\n      <th>duration_ms</th>\n      <th>popularity</th>\n      <th>album_title</th>\n      <th>album_artist</th>\n      <th>release_date</th>\n      <th>total_tracks</th>\n    </tr>\n  </thead>\n  <tbody>\n    <tr>\n      <td>0</td>\n      <td>Into the Unknown - Panic! At The Disco Version</td>\n      <td>[{'external_urls': {'spotify': 'https://open.s...</td>\n      <td>9</td>\n      <td>False</td>\n      <td>189132</td>\n      <td>83</td>\n      <td>Frozen 2 (Original Motion Picture Soundtrack/D...</td>\n      <td>Various Artists</td>\n      <td>2019-11-15</td>\n      <td>46</td>\n    </tr>\n    <tr>\n      <td>1</td>\n      <td>ME! (feat. Brendon Urie of Panic! At The Disco)</td>\n      <td>[{'external_urls': {'spotify': 'https://open.s...</td>\n      <td>16</td>\n      <td>False</td>\n      <td>193000</td>\n      <td>86</td>\n      <td>Lover</td>\n      <td>Taylor Swift</td>\n      <td>2019-08-23</td>\n      <td>18</td>\n    </tr>\n    <tr>\n      <td>2</td>\n      <td>High Hopes</td>\n      <td>[{'external_urls': {'spotify': 'https://open.s...</td>\n      <td>4</td>\n      <td>False</td>\n      <td>190946</td>\n      <td>87</td>\n      <td>Pray for the Wicked</td>\n      <td>Panic! At The Disco</td>\n      <td>2018-06-22</td>\n      <td>11</td>\n    </tr>\n    <tr>\n      <td>3</td>\n      <td>Hey Look Ma, I Made It</td>\n      <td>[{'external_urls': {'spotify': 'https://open.s...</td>\n      <td>3</td>\n      <td>False</td>\n      <td>169666</td>\n      <td>79</td>\n      <td>Pray for the Wicked</td>\n      <td>Panic! At The Disco</td>\n      <td>2018-06-22</td>\n      <td>11</td>\n    </tr>\n    <tr>\n      <td>4</td>\n      <td>I Write Sins Not Tragedies</td>\n      <td>[{'external_urls': {'spotify': 'https://open.s...</td>\n      <td>10</td>\n      <td>False</td>\n      <td>187613</td>\n      <td>75</td>\n      <td>A Fever You Can't Sweat Out</td>\n      <td>Panic! At The Disco</td>\n      <td>2005-09-27</td>\n      <td>13</td>\n    </tr>\n  </tbody>\n</table>\n</div>",
      "text/plain": "                                              name  \\\n0   Into the Unknown - Panic! At The Disco Version   \n1  ME! (feat. Brendon Urie of Panic! At The Disco)   \n2                                       High Hopes   \n3                           Hey Look Ma, I Made It   \n4                       I Write Sins Not Tragedies   \n\n                                             artists  track_number  explicit  \\\n0  [{'external_urls': {'spotify': 'https://open.s...             9     False   \n1  [{'external_urls': {'spotify': 'https://open.s...            16     False   \n2  [{'external_urls': {'spotify': 'https://open.s...             4     False   \n3  [{'external_urls': {'spotify': 'https://open.s...             3     False   \n4  [{'external_urls': {'spotify': 'https://open.s...            10     False   \n\n   duration_ms  popularity                                        album_title  \\\n0       189132          83  Frozen 2 (Original Motion Picture Soundtrack/D...   \n1       193000          86                                              Lover   \n2       190946          87                                Pray for the Wicked   \n3       169666          79                                Pray for the Wicked   \n4       187613          75                        A Fever You Can't Sweat Out   \n\n          album_artist release_date  total_tracks  \n0      Various Artists   2019-11-15            46  \n1         Taylor Swift   2019-08-23            18  \n2  Panic! At The Disco   2018-06-22            11  \n3  Panic! At The Disco   2018-06-22            11  \n4  Panic! At The Disco   2005-09-27            13  "
     },
     "execution_count": 93,
     "metadata": {},
     "output_type": "execute_result"
    }
   ],
   "source": [
    "# df_ = pd.concat([df_.drop(columns=['album']),\n",
    "# df_['album'].apply(clean_album)],axis=1)\n",
    "# df_.head()"
   ]
  },
  {
   "cell_type": "code",
   "execution_count": null,
   "metadata": {},
   "outputs": [],
   "source": [
    "\n",
    "def clean_artists(x):\n",
    "    x = x[0]\n",
    "\n",
    "    artist = pd.Series({'song_artist':x['name'],\n",
    "    'id':x['id'], 'external_urls':})\n",
    "\n",
    "    pass"
   ]
  },
  {
   "cell_type": "code",
   "execution_count": 103,
   "metadata": {},
   "outputs": [
    {
     "name": "stdout",
     "output_type": "stream",
     "text": "https://open.spotify.com/artist/20JZFwl6HVl6yg8a4H3ZqK\n"
    }
   ],
   "source": [
    "print(test['artists'][0]['external_urls']['spotify'])"
   ]
  },
  {
   "cell_type": "code",
   "execution_count": 79,
   "metadata": {},
   "outputs": [],
   "source": []
  },
  {
   "cell_type": "code",
   "execution_count": null,
   "metadata": {},
   "outputs": [],
   "source": []
  }
 ]
}