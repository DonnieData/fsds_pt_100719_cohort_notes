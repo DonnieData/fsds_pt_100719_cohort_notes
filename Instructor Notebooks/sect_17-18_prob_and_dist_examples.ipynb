{
 "cells": [
  {
   "cell_type": "markdown",
   "metadata": {},
   "source": [
    "# From Sect 17-Part 2 to Sect 18 - Part 1 - Code Examples\n"
   ]
  },
  {
   "cell_type": "markdown",
   "metadata": {},
   "source": [
    "Extracted from:\n",
    "online-ds-pt-100719 study group from \n",
    "01/09/2020"
   ]
  },
  {
   "cell_type": "markdown",
   "metadata": {
    "colab_type": "text",
    "id": "MJZRe34uX9qJ"
   },
   "source": [
    "## Learning Objectives\n",
    "\n",
    "- Quickly review sets/combinations/permutations (10-15 min max)\n",
    "\n",
    "- Revisit probability and how its calculated. (5-10 min)\n",
    "- Understand conditional probability and disjointed events.\n",
    "- Understand the Law of Total Probability \n"
   ]
  },
  {
   "cell_type": "markdown",
   "metadata": {},
   "source": [
    "## Questions:\n",
    "- Breaking down interpolation - Lab (will get to next class)"
   ]
  },
  {
   "cell_type": "code",
   "execution_count": 1,
   "metadata": {
    "ExecuteTime": {
     "end_time": "2020-01-12T21:53:28.570585Z",
     "start_time": "2020-01-12T21:53:24.615541Z"
    }
   },
   "outputs": [
    {
     "name": "stdout",
     "output_type": "stream",
     "text": [
      "fsds_1007219  v0.6.4 loaded.  Read the docs: https://fsds.readthedocs.io/en/latest/ \n"
     ]
    },
    {
     "data": {
      "text/html": [
       "<style  type=\"text/css\" >\n",
       "</style><table id=\"T_f7621dbe_3585_11ea_ac3f_acde48001122\" ><caption>Loaded Packages and Handles</caption><thead>    <tr>        <th class=\"col_heading level0 col0\" >Handle</th>        <th class=\"col_heading level0 col1\" >Package</th>        <th class=\"col_heading level0 col2\" >Description</th>    </tr></thead><tbody>\n",
       "                <tr>\n",
       "                                <td id=\"T_f7621dbe_3585_11ea_ac3f_acde48001122row0_col0\" class=\"data row0 col0\" >dp</td>\n",
       "                        <td id=\"T_f7621dbe_3585_11ea_ac3f_acde48001122row0_col1\" class=\"data row0 col1\" >IPython.display</td>\n",
       "                        <td id=\"T_f7621dbe_3585_11ea_ac3f_acde48001122row0_col2\" class=\"data row0 col2\" >Display modules with helpful display and clearing commands.</td>\n",
       "            </tr>\n",
       "            <tr>\n",
       "                                <td id=\"T_f7621dbe_3585_11ea_ac3f_acde48001122row1_col0\" class=\"data row1 col0\" >fs</td>\n",
       "                        <td id=\"T_f7621dbe_3585_11ea_ac3f_acde48001122row1_col1\" class=\"data row1 col1\" >fsds_100719</td>\n",
       "                        <td id=\"T_f7621dbe_3585_11ea_ac3f_acde48001122row1_col2\" class=\"data row1 col2\" >Custom data science bootcamp student package</td>\n",
       "            </tr>\n",
       "            <tr>\n",
       "                                <td id=\"T_f7621dbe_3585_11ea_ac3f_acde48001122row2_col0\" class=\"data row2 col0\" >mpl</td>\n",
       "                        <td id=\"T_f7621dbe_3585_11ea_ac3f_acde48001122row2_col1\" class=\"data row2 col1\" >matplotlib</td>\n",
       "                        <td id=\"T_f7621dbe_3585_11ea_ac3f_acde48001122row2_col2\" class=\"data row2 col2\" >Matplotlib's base OOP module with formatting artists</td>\n",
       "            </tr>\n",
       "            <tr>\n",
       "                                <td id=\"T_f7621dbe_3585_11ea_ac3f_acde48001122row3_col0\" class=\"data row3 col0\" >plt</td>\n",
       "                        <td id=\"T_f7621dbe_3585_11ea_ac3f_acde48001122row3_col1\" class=\"data row3 col1\" >matplotlib.pyplot</td>\n",
       "                        <td id=\"T_f7621dbe_3585_11ea_ac3f_acde48001122row3_col2\" class=\"data row3 col2\" >Matplotlib's matlab-like plotting module</td>\n",
       "            </tr>\n",
       "            <tr>\n",
       "                                <td id=\"T_f7621dbe_3585_11ea_ac3f_acde48001122row4_col0\" class=\"data row4 col0\" >np</td>\n",
       "                        <td id=\"T_f7621dbe_3585_11ea_ac3f_acde48001122row4_col1\" class=\"data row4 col1\" >numpy</td>\n",
       "                        <td id=\"T_f7621dbe_3585_11ea_ac3f_acde48001122row4_col2\" class=\"data row4 col2\" >scientific computing with Python</td>\n",
       "            </tr>\n",
       "            <tr>\n",
       "                                <td id=\"T_f7621dbe_3585_11ea_ac3f_acde48001122row5_col0\" class=\"data row5 col0\" >pd</td>\n",
       "                        <td id=\"T_f7621dbe_3585_11ea_ac3f_acde48001122row5_col1\" class=\"data row5 col1\" >pandas</td>\n",
       "                        <td id=\"T_f7621dbe_3585_11ea_ac3f_acde48001122row5_col2\" class=\"data row5 col2\" >High performance data structures and tools</td>\n",
       "            </tr>\n",
       "            <tr>\n",
       "                                <td id=\"T_f7621dbe_3585_11ea_ac3f_acde48001122row6_col0\" class=\"data row6 col0\" >sns</td>\n",
       "                        <td id=\"T_f7621dbe_3585_11ea_ac3f_acde48001122row6_col1\" class=\"data row6 col1\" >seaborn</td>\n",
       "                        <td id=\"T_f7621dbe_3585_11ea_ac3f_acde48001122row6_col2\" class=\"data row6 col2\" >High-level data visualization library based on matplotlib</td>\n",
       "            </tr>\n",
       "    </tbody></table>"
      ],
      "text/plain": [
       "<pandas.io.formats.style.Styler at 0x1a223f8cf8>"
      ]
     },
     "metadata": {},
     "output_type": "display_data"
    }
   ],
   "source": [
    "!pip install -U fsds_100719\n",
    "\n",
    "from math import factorial\n",
    "from fsds_100719.imports import *"
   ]
  },
  {
   "cell_type": "code",
   "execution_count": 2,
   "metadata": {
    "ExecuteTime": {
     "end_time": "2020-01-12T21:53:28.575465Z",
     "start_time": "2020-01-12T21:53:28.572652Z"
    }
   },
   "outputs": [],
   "source": [
    "seed_notebook = np.random.RandomState(123)"
   ]
  },
  {
   "cell_type": "markdown",
   "metadata": {},
   "source": [
    "## PLAYLIST PERMUTATIONS (review)"
   ]
  },
  {
   "cell_type": "markdown",
   "metadata": {},
   "source": [
    "- We are constructing a dinner party playlist for a gathering we are planning. \n",
    "- We asked our attendees to each provide a handful of songs they would like to be played at the dinner party."
   ]
  },
  {
   "cell_type": "markdown",
   "metadata": {
    "ExecuteTime": {
     "end_time": "2020-01-06T22:53:10.213591Z",
     "start_time": "2020-01-06T22:53:10.211467Z"
    }
   },
   "source": [
    "### Playlist Permutations"
   ]
  },
  {
   "cell_type": "code",
   "execution_count": 3,
   "metadata": {
    "ExecuteTime": {
     "end_time": "2020-01-12T21:53:28.586083Z",
     "start_time": "2020-01-12T21:53:28.577556Z"
    }
   },
   "outputs": [
    {
     "data": {
      "text/html": [
       "<style  type=\"text/css\" >\n",
       "</style><table id=\"T_f7665140_3585_11ea_bbc8_acde48001122\" ><caption>JOHN</caption><thead>    <tr>        <th class=\"blank level0\" ></th>        <th class=\"col_heading level0 col0\" >artist</th>        <th class=\"col_heading level0 col1\" >track</th>        <th class=\"col_heading level0 col2\" >Recommended By</th>    </tr></thead><tbody>\n",
       "                <tr>\n",
       "                        <th id=\"T_f7665140_3585_11ea_bbc8_acde48001122level0_row0\" class=\"row_heading level0 row0\" >0</th>\n",
       "                        <td id=\"T_f7665140_3585_11ea_bbc8_acde48001122row0_col0\" class=\"data row0 col0\" >Black Eyed Peas</td>\n",
       "                        <td id=\"T_f7665140_3585_11ea_bbc8_acde48001122row0_col1\" class=\"data row0 col1\" >Let's Get it Started</td>\n",
       "                        <td id=\"T_f7665140_3585_11ea_bbc8_acde48001122row0_col2\" class=\"data row0 col2\" >John</td>\n",
       "            </tr>\n",
       "            <tr>\n",
       "                        <th id=\"T_f7665140_3585_11ea_bbc8_acde48001122level0_row1\" class=\"row_heading level0 row1\" >1</th>\n",
       "                        <td id=\"T_f7665140_3585_11ea_bbc8_acde48001122row1_col0\" class=\"data row1 col0\" >Lady GaGa</td>\n",
       "                        <td id=\"T_f7665140_3585_11ea_bbc8_acde48001122row1_col1\" class=\"data row1 col1\" >Poker Face</td>\n",
       "                        <td id=\"T_f7665140_3585_11ea_bbc8_acde48001122row1_col2\" class=\"data row1 col2\" >John</td>\n",
       "            </tr>\n",
       "            <tr>\n",
       "                        <th id=\"T_f7665140_3585_11ea_bbc8_acde48001122level0_row2\" class=\"row_heading level0 row2\" >2</th>\n",
       "                        <td id=\"T_f7665140_3585_11ea_bbc8_acde48001122row2_col0\" class=\"data row2 col0\" >Lady GaGa</td>\n",
       "                        <td id=\"T_f7665140_3585_11ea_bbc8_acde48001122row2_col1\" class=\"data row2 col1\" >Bad Romance</td>\n",
       "                        <td id=\"T_f7665140_3585_11ea_bbc8_acde48001122row2_col2\" class=\"data row2 col2\" >John</td>\n",
       "            </tr>\n",
       "    </tbody></table>"
      ],
      "text/plain": [
       "<pandas.io.formats.style.Styler at 0x1a22a377b8>"
      ]
     },
     "execution_count": 3,
     "metadata": {},
     "output_type": "execute_result"
    }
   ],
   "source": [
    "john_recs = [['artist','track']]\n",
    "john_recs.append(['Black Eyed Peas',\"Let's Get it Started\"])\n",
    "john_recs.append(['Lady GaGa','Poker Face'])\n",
    "john_recs.append(['Lady GaGa','Bad Romance'])\n",
    "df_john_recs = pd.DataFrame(john_recs[1:],columns=john_recs[0])\n",
    "df_john_recs['Recommended By'] = 'John'\n",
    "df_john_recs.style.set_caption('JOHN')"
   ]
  },
  {
   "cell_type": "code",
   "execution_count": 4,
   "metadata": {
    "ExecuteTime": {
     "end_time": "2020-01-12T21:53:28.595785Z",
     "start_time": "2020-01-12T21:53:28.587904Z"
    }
   },
   "outputs": [
    {
     "data": {
      "text/html": [
       "<style  type=\"text/css\" >\n",
       "</style><table id=\"T_f767dd80_3585_11ea_8912_acde48001122\" ><caption>ANNE</caption><thead>    <tr>        <th class=\"blank level0\" ></th>        <th class=\"col_heading level0 col0\" >artist</th>        <th class=\"col_heading level0 col1\" >track</th>        <th class=\"col_heading level0 col2\" >Recommended By</th>    </tr></thead><tbody>\n",
       "                <tr>\n",
       "                        <th id=\"T_f767dd80_3585_11ea_8912_acde48001122level0_row0\" class=\"row_heading level0 row0\" >0</th>\n",
       "                        <td id=\"T_f767dd80_3585_11ea_8912_acde48001122row0_col0\" class=\"data row0 col0\" >Smashing Pumpkins</td>\n",
       "                        <td id=\"T_f767dd80_3585_11ea_8912_acde48001122row0_col1\" class=\"data row0 col1\" >Tonight, Tonight</td>\n",
       "                        <td id=\"T_f767dd80_3585_11ea_8912_acde48001122row0_col2\" class=\"data row0 col2\" >Anne</td>\n",
       "            </tr>\n",
       "            <tr>\n",
       "                        <th id=\"T_f767dd80_3585_11ea_8912_acde48001122level0_row1\" class=\"row_heading level0 row1\" >1</th>\n",
       "                        <td id=\"T_f767dd80_3585_11ea_8912_acde48001122row1_col0\" class=\"data row1 col0\" >Black Eyed Peas</td>\n",
       "                        <td id=\"T_f767dd80_3585_11ea_8912_acde48001122row1_col1\" class=\"data row1 col1\" >Let's Get it Started</td>\n",
       "                        <td id=\"T_f767dd80_3585_11ea_8912_acde48001122row1_col2\" class=\"data row1 col2\" >Anne</td>\n",
       "            </tr>\n",
       "            <tr>\n",
       "                        <th id=\"T_f767dd80_3585_11ea_8912_acde48001122level0_row2\" class=\"row_heading level0 row2\" >2</th>\n",
       "                        <td id=\"T_f767dd80_3585_11ea_8912_acde48001122row2_col0\" class=\"data row2 col0\" >Green Day</td>\n",
       "                        <td id=\"T_f767dd80_3585_11ea_8912_acde48001122row2_col1\" class=\"data row2 col1\" >Time of your Life</td>\n",
       "                        <td id=\"T_f767dd80_3585_11ea_8912_acde48001122row2_col2\" class=\"data row2 col2\" >Anne</td>\n",
       "            </tr>\n",
       "    </tbody></table>"
      ],
      "text/plain": [
       "<pandas.io.formats.style.Styler at 0x1a22a37b00>"
      ]
     },
     "execution_count": 4,
     "metadata": {},
     "output_type": "execute_result"
    }
   ],
   "source": [
    "anne_recs = [['artist','track']]\n",
    "anne_recs.append(['Smashing Pumpkins','Tonight, Tonight'])\n",
    "anne_recs.append(['Black Eyed Peas',\"Let's Get it Started\"])\n",
    "anne_recs.append(['Green Day','Time of your Life'])\n",
    "\n",
    "df_anne_recs = pd.DataFrame(anne_recs[1:],columns=anne_recs[0])\n",
    "df_anne_recs['Recommended By'] = 'Anne'\n",
    "df_anne_recs.style.set_caption('ANNE')"
   ]
  },
  {
   "cell_type": "code",
   "execution_count": 5,
   "metadata": {
    "ExecuteTime": {
     "end_time": "2020-01-12T21:53:28.606063Z",
     "start_time": "2020-01-12T21:53:28.597122Z"
    }
   },
   "outputs": [
    {
     "data": {
      "text/html": [
       "<style  type=\"text/css\" >\n",
       "</style><table id=\"T_f7694b5c_3585_11ea_bd67_acde48001122\" ><caption>JOE</caption><thead>    <tr>        <th class=\"blank level0\" ></th>        <th class=\"col_heading level0 col0\" >artist</th>        <th class=\"col_heading level0 col1\" >track</th>        <th class=\"col_heading level0 col2\" >Recommended By</th>    </tr></thead><tbody>\n",
       "                <tr>\n",
       "                        <th id=\"T_f7694b5c_3585_11ea_bd67_acde48001122level0_row0\" class=\"row_heading level0 row0\" >0</th>\n",
       "                        <td id=\"T_f7694b5c_3585_11ea_bd67_acde48001122row0_col0\" class=\"data row0 col0\" >Green Day</td>\n",
       "                        <td id=\"T_f7694b5c_3585_11ea_bd67_acde48001122row0_col1\" class=\"data row0 col1\" >Time of your Life</td>\n",
       "                        <td id=\"T_f7694b5c_3585_11ea_bd67_acde48001122row0_col2\" class=\"data row0 col2\" >Joe</td>\n",
       "            </tr>\n",
       "            <tr>\n",
       "                        <th id=\"T_f7694b5c_3585_11ea_bd67_acde48001122level0_row1\" class=\"row_heading level0 row1\" >1</th>\n",
       "                        <td id=\"T_f7694b5c_3585_11ea_bd67_acde48001122row1_col0\" class=\"data row1 col0\" >B-52s</td>\n",
       "                        <td id=\"T_f7694b5c_3585_11ea_bd67_acde48001122row1_col1\" class=\"data row1 col1\" >Rock Lobster</td>\n",
       "                        <td id=\"T_f7694b5c_3585_11ea_bd67_acde48001122row1_col2\" class=\"data row1 col2\" >Joe</td>\n",
       "            </tr>\n",
       "            <tr>\n",
       "                        <th id=\"T_f7694b5c_3585_11ea_bd67_acde48001122level0_row2\" class=\"row_heading level0 row2\" >2</th>\n",
       "                        <td id=\"T_f7694b5c_3585_11ea_bd67_acde48001122row2_col0\" class=\"data row2 col0\" >Lady GaGa</td>\n",
       "                        <td id=\"T_f7694b5c_3585_11ea_bd67_acde48001122row2_col1\" class=\"data row2 col1\" >Poker Face</td>\n",
       "                        <td id=\"T_f7694b5c_3585_11ea_bd67_acde48001122row2_col2\" class=\"data row2 col2\" >Joe</td>\n",
       "            </tr>\n",
       "            <tr>\n",
       "                        <th id=\"T_f7694b5c_3585_11ea_bd67_acde48001122level0_row3\" class=\"row_heading level0 row3\" >3</th>\n",
       "                        <td id=\"T_f7694b5c_3585_11ea_bd67_acde48001122row3_col0\" class=\"data row3 col0\" >John Lennon</td>\n",
       "                        <td id=\"T_f7694b5c_3585_11ea_bd67_acde48001122row3_col1\" class=\"data row3 col1\" >Imagine</td>\n",
       "                        <td id=\"T_f7694b5c_3585_11ea_bd67_acde48001122row3_col2\" class=\"data row3 col2\" >Joe</td>\n",
       "            </tr>\n",
       "    </tbody></table>"
      ],
      "text/plain": [
       "<pandas.io.formats.style.Styler at 0x1a22a370b8>"
      ]
     },
     "execution_count": 5,
     "metadata": {},
     "output_type": "execute_result"
    }
   ],
   "source": [
    "joe_recs= [['artist','track']]\n",
    "joe_recs.append(['Green Day','Time of your Life'])\n",
    "joe_recs.append(['B-52s','Rock Lobster'])\n",
    "joe_recs.append(['Lady GaGa','Poker Face'])\n",
    "joe_recs.append(['John Lennon','Imagine'])\n",
    "\n",
    "df_joe_recs = pd.DataFrame(joe_recs[1:],columns=joe_recs[0])\n",
    "df_joe_recs['Recommended By'] = 'Joe'\n",
    "df_joe_recs.style.set_caption('JOE')"
   ]
  },
  {
   "cell_type": "code",
   "execution_count": 6,
   "metadata": {
    "ExecuteTime": {
     "end_time": "2020-01-12T21:53:28.615585Z",
     "start_time": "2020-01-12T21:53:28.607617Z"
    }
   },
   "outputs": [
    {
     "data": {
      "text/html": [
       "<style  type=\"text/css\" >\n",
       "</style><table id=\"T_f76adc68_3585_11ea_af16_acde48001122\" ><caption>SAMANTHA</caption><thead>    <tr>        <th class=\"blank level0\" ></th>        <th class=\"col_heading level0 col0\" >artist</th>        <th class=\"col_heading level0 col1\" >track</th>        <th class=\"col_heading level0 col2\" >Recommended By</th>    </tr></thead><tbody>\n",
       "                <tr>\n",
       "                        <th id=\"T_f76adc68_3585_11ea_af16_acde48001122level0_row0\" class=\"row_heading level0 row0\" >0</th>\n",
       "                        <td id=\"T_f76adc68_3585_11ea_af16_acde48001122row0_col0\" class=\"data row0 col0\" >Black Eyed Peas</td>\n",
       "                        <td id=\"T_f76adc68_3585_11ea_af16_acde48001122row0_col1\" class=\"data row0 col1\" >Let's Get it Started</td>\n",
       "                        <td id=\"T_f76adc68_3585_11ea_af16_acde48001122row0_col2\" class=\"data row0 col2\" >Samantha</td>\n",
       "            </tr>\n",
       "            <tr>\n",
       "                        <th id=\"T_f76adc68_3585_11ea_af16_acde48001122level0_row1\" class=\"row_heading level0 row1\" >1</th>\n",
       "                        <td id=\"T_f76adc68_3585_11ea_af16_acde48001122row1_col0\" class=\"data row1 col0\" >Panic at the Disco</td>\n",
       "                        <td id=\"T_f76adc68_3585_11ea_af16_acde48001122row1_col1\" class=\"data row1 col1\" >Hallelujah</td>\n",
       "                        <td id=\"T_f76adc68_3585_11ea_af16_acde48001122row1_col2\" class=\"data row1 col2\" >Samantha</td>\n",
       "            </tr>\n",
       "            <tr>\n",
       "                        <th id=\"T_f76adc68_3585_11ea_af16_acde48001122level0_row2\" class=\"row_heading level0 row2\" >2</th>\n",
       "                        <td id=\"T_f76adc68_3585_11ea_af16_acde48001122row2_col0\" class=\"data row2 col0\" >Adele</td>\n",
       "                        <td id=\"T_f76adc68_3585_11ea_af16_acde48001122row2_col1\" class=\"data row2 col1\" >Set Fire to the Rain</td>\n",
       "                        <td id=\"T_f76adc68_3585_11ea_af16_acde48001122row2_col2\" class=\"data row2 col2\" >Samantha</td>\n",
       "            </tr>\n",
       "    </tbody></table>"
      ],
      "text/plain": [
       "<pandas.io.formats.style.Styler at 0x1a22a32048>"
      ]
     },
     "execution_count": 6,
     "metadata": {},
     "output_type": "execute_result"
    }
   ],
   "source": [
    "samantha_recs = [['artist','track']]\n",
    "samantha_recs.append(['Black Eyed Peas',\"Let's Get it Started\"])\n",
    "samantha_recs.append(['Panic at the Disco','Hallelujah'])\n",
    "samantha_recs.append(['Adele','Set Fire to the Rain'])\n",
    "\n",
    "df_samantha_recs = pd.DataFrame(samantha_recs[1:],columns=samantha_recs[0])\n",
    "df_samantha_recs['Recommended By'] = 'Samantha'\n",
    "df_samantha_recs.style.set_caption('SAMANTHA')"
   ]
  },
  {
   "cell_type": "code",
   "execution_count": 7,
   "metadata": {
    "ExecuteTime": {
     "end_time": "2020-01-12T21:53:28.626525Z",
     "start_time": "2020-01-12T21:53:28.617574Z"
    }
   },
   "outputs": [
    {
     "data": {
      "text/html": [
       "<style  type=\"text/css\" >\n",
       "</style><table id=\"T_f76c769c_3585_11ea_a5e1_acde48001122\" ><caption>JAMES</caption><thead>    <tr>        <th class=\"blank level0\" ></th>        <th class=\"col_heading level0 col0\" >artist</th>        <th class=\"col_heading level0 col1\" >track</th>        <th class=\"col_heading level0 col2\" >Recommended By</th>    </tr></thead><tbody>\n",
       "                <tr>\n",
       "                        <th id=\"T_f76c769c_3585_11ea_a5e1_acde48001122level0_row0\" class=\"row_heading level0 row0\" >0</th>\n",
       "                        <td id=\"T_f76c769c_3585_11ea_a5e1_acde48001122row0_col0\" class=\"data row0 col0\" >Eve 6</td>\n",
       "                        <td id=\"T_f76c769c_3585_11ea_a5e1_acde48001122row0_col1\" class=\"data row0 col1\" >Here's to the Night</td>\n",
       "                        <td id=\"T_f76c769c_3585_11ea_a5e1_acde48001122row0_col2\" class=\"data row0 col2\" >James</td>\n",
       "            </tr>\n",
       "            <tr>\n",
       "                        <th id=\"T_f76c769c_3585_11ea_a5e1_acde48001122level0_row1\" class=\"row_heading level0 row1\" >1</th>\n",
       "                        <td id=\"T_f76c769c_3585_11ea_a5e1_acde48001122row1_col0\" class=\"data row1 col0\" >Neutral Milk Hotel</td>\n",
       "                        <td id=\"T_f76c769c_3585_11ea_a5e1_acde48001122row1_col1\" class=\"data row1 col1\" >Into the Aeroplane Over the Sea</td>\n",
       "                        <td id=\"T_f76c769c_3585_11ea_a5e1_acde48001122row1_col2\" class=\"data row1 col2\" >James</td>\n",
       "            </tr>\n",
       "            <tr>\n",
       "                        <th id=\"T_f76c769c_3585_11ea_a5e1_acde48001122level0_row2\" class=\"row_heading level0 row2\" >2</th>\n",
       "                        <td id=\"T_f76c769c_3585_11ea_a5e1_acde48001122row2_col0\" class=\"data row2 col0\" >Rilo Kiley</td>\n",
       "                        <td id=\"T_f76c769c_3585_11ea_a5e1_acde48001122row2_col1\" class=\"data row2 col1\" >With Arms Outstretched</td>\n",
       "                        <td id=\"T_f76c769c_3585_11ea_a5e1_acde48001122row2_col2\" class=\"data row2 col2\" >James</td>\n",
       "            </tr>\n",
       "            <tr>\n",
       "                        <th id=\"T_f76c769c_3585_11ea_a5e1_acde48001122level0_row3\" class=\"row_heading level0 row3\" >3</th>\n",
       "                        <td id=\"T_f76c769c_3585_11ea_a5e1_acde48001122row3_col0\" class=\"data row3 col0\" >Red Hot Chili Peppers</td>\n",
       "                        <td id=\"T_f76c769c_3585_11ea_a5e1_acde48001122row3_col1\" class=\"data row3 col1\" >Otherside</td>\n",
       "                        <td id=\"T_f76c769c_3585_11ea_a5e1_acde48001122row3_col2\" class=\"data row3 col2\" >James</td>\n",
       "            </tr>\n",
       "    </tbody></table>"
      ],
      "text/plain": [
       "<pandas.io.formats.style.Styler at 0x1a22a320b8>"
      ]
     },
     "execution_count": 7,
     "metadata": {},
     "output_type": "execute_result"
    }
   ],
   "source": [
    "james_recs=[['artist','track']]\n",
    "james_recs.append(['Eve 6',\"Here's to the Night\"])\n",
    "james_recs.append(['Neutral Milk Hotel',\"Into the Aeroplane Over the Sea\"])\n",
    "james_recs.append(['Rilo Kiley',\"With Arms Outstretched\"])\n",
    "james_recs.append(['Red Hot Chili Peppers',\"Otherside\"])\n",
    "\n",
    "df_james_recs = pd.DataFrame(james_recs[1:],columns=james_recs[0])\n",
    "df_james_recs['Recommended By'] = 'James'\n",
    "df_james_recs.style.set_caption('JAMES')"
   ]
  },
  {
   "cell_type": "code",
   "execution_count": 8,
   "metadata": {
    "ExecuteTime": {
     "end_time": "2020-01-12T21:53:28.648119Z",
     "start_time": "2020-01-12T21:53:28.629615Z"
    }
   },
   "outputs": [
    {
     "data": {
      "text/html": [
       "<div>\n",
       "<style scoped>\n",
       "    .dataframe tbody tr th:only-of-type {\n",
       "        vertical-align: middle;\n",
       "    }\n",
       "\n",
       "    .dataframe tbody tr th {\n",
       "        vertical-align: top;\n",
       "    }\n",
       "\n",
       "    .dataframe thead th {\n",
       "        text-align: right;\n",
       "    }\n",
       "</style>\n",
       "<table border=\"1\" class=\"dataframe\">\n",
       "  <thead>\n",
       "    <tr style=\"text-align: right;\">\n",
       "      <th></th>\n",
       "      <th>artist</th>\n",
       "      <th>track</th>\n",
       "      <th>Recommended By</th>\n",
       "    </tr>\n",
       "  </thead>\n",
       "  <tbody>\n",
       "    <tr>\n",
       "      <td>0</td>\n",
       "      <td>Black Eyed Peas</td>\n",
       "      <td>Let's Get it Started</td>\n",
       "      <td>John</td>\n",
       "    </tr>\n",
       "    <tr>\n",
       "      <td>1</td>\n",
       "      <td>Lady GaGa</td>\n",
       "      <td>Poker Face</td>\n",
       "      <td>John</td>\n",
       "    </tr>\n",
       "    <tr>\n",
       "      <td>2</td>\n",
       "      <td>Lady GaGa</td>\n",
       "      <td>Bad Romance</td>\n",
       "      <td>John</td>\n",
       "    </tr>\n",
       "    <tr>\n",
       "      <td>0</td>\n",
       "      <td>Smashing Pumpkins</td>\n",
       "      <td>Tonight, Tonight</td>\n",
       "      <td>Anne</td>\n",
       "    </tr>\n",
       "    <tr>\n",
       "      <td>1</td>\n",
       "      <td>Black Eyed Peas</td>\n",
       "      <td>Let's Get it Started</td>\n",
       "      <td>Anne</td>\n",
       "    </tr>\n",
       "    <tr>\n",
       "      <td>2</td>\n",
       "      <td>Green Day</td>\n",
       "      <td>Time of your Life</td>\n",
       "      <td>Anne</td>\n",
       "    </tr>\n",
       "    <tr>\n",
       "      <td>0</td>\n",
       "      <td>Green Day</td>\n",
       "      <td>Time of your Life</td>\n",
       "      <td>Joe</td>\n",
       "    </tr>\n",
       "    <tr>\n",
       "      <td>1</td>\n",
       "      <td>B-52s</td>\n",
       "      <td>Rock Lobster</td>\n",
       "      <td>Joe</td>\n",
       "    </tr>\n",
       "    <tr>\n",
       "      <td>2</td>\n",
       "      <td>Lady GaGa</td>\n",
       "      <td>Poker Face</td>\n",
       "      <td>Joe</td>\n",
       "    </tr>\n",
       "    <tr>\n",
       "      <td>3</td>\n",
       "      <td>John Lennon</td>\n",
       "      <td>Imagine</td>\n",
       "      <td>Joe</td>\n",
       "    </tr>\n",
       "    <tr>\n",
       "      <td>0</td>\n",
       "      <td>Black Eyed Peas</td>\n",
       "      <td>Let's Get it Started</td>\n",
       "      <td>Samantha</td>\n",
       "    </tr>\n",
       "    <tr>\n",
       "      <td>1</td>\n",
       "      <td>Panic at the Disco</td>\n",
       "      <td>Hallelujah</td>\n",
       "      <td>Samantha</td>\n",
       "    </tr>\n",
       "    <tr>\n",
       "      <td>2</td>\n",
       "      <td>Adele</td>\n",
       "      <td>Set Fire to the Rain</td>\n",
       "      <td>Samantha</td>\n",
       "    </tr>\n",
       "    <tr>\n",
       "      <td>0</td>\n",
       "      <td>Eve 6</td>\n",
       "      <td>Here's to the Night</td>\n",
       "      <td>James</td>\n",
       "    </tr>\n",
       "    <tr>\n",
       "      <td>1</td>\n",
       "      <td>Neutral Milk Hotel</td>\n",
       "      <td>Into the Aeroplane Over the Sea</td>\n",
       "      <td>James</td>\n",
       "    </tr>\n",
       "    <tr>\n",
       "      <td>2</td>\n",
       "      <td>Rilo Kiley</td>\n",
       "      <td>With Arms Outstretched</td>\n",
       "      <td>James</td>\n",
       "    </tr>\n",
       "    <tr>\n",
       "      <td>3</td>\n",
       "      <td>Red Hot Chili Peppers</td>\n",
       "      <td>Otherside</td>\n",
       "      <td>James</td>\n",
       "    </tr>\n",
       "  </tbody>\n",
       "</table>\n",
       "</div>"
      ],
      "text/plain": [
       "                  artist                            track Recommended By\n",
       "0        Black Eyed Peas             Let's Get it Started           John\n",
       "1              Lady GaGa                       Poker Face           John\n",
       "2              Lady GaGa                      Bad Romance           John\n",
       "0      Smashing Pumpkins                 Tonight, Tonight           Anne\n",
       "1        Black Eyed Peas             Let's Get it Started           Anne\n",
       "2              Green Day                Time of your Life           Anne\n",
       "0              Green Day                Time of your Life            Joe\n",
       "1                  B-52s                     Rock Lobster            Joe\n",
       "2              Lady GaGa                       Poker Face            Joe\n",
       "3            John Lennon                          Imagine            Joe\n",
       "0        Black Eyed Peas             Let's Get it Started       Samantha\n",
       "1     Panic at the Disco                       Hallelujah       Samantha\n",
       "2                  Adele             Set Fire to the Rain       Samantha\n",
       "0                  Eve 6              Here's to the Night          James\n",
       "1     Neutral Milk Hotel  Into the Aeroplane Over the Sea          James\n",
       "2             Rilo Kiley           With Arms Outstretched          James\n",
       "3  Red Hot Chili Peppers                        Otherside          James"
      ]
     },
     "execution_count": 8,
     "metadata": {},
     "output_type": "execute_result"
    }
   ],
   "source": [
    "df = pd.concat([df_john_recs,df_anne_recs,\n",
    "                df_joe_recs,df_samantha_recs,\n",
    "               df_james_recs],axis=0)\n",
    "df"
   ]
  },
  {
   "cell_type": "code",
   "execution_count": 9,
   "metadata": {
    "ExecuteTime": {
     "end_time": "2020-01-12T21:53:28.656871Z",
     "start_time": "2020-01-12T21:53:28.650335Z"
    }
   },
   "outputs": [
    {
     "name": "stdout",
     "output_type": "stream",
     "text": [
      "13 12\n"
     ]
    },
    {
     "data": {
      "text/plain": [
       "{'Bad Romance',\n",
       " 'Hallelujah',\n",
       " \"Here's to the Night\",\n",
       " 'Imagine',\n",
       " 'Into the Aeroplane Over the Sea',\n",
       " \"Let's Get it Started\",\n",
       " 'Otherside',\n",
       " 'Poker Face',\n",
       " 'Rock Lobster',\n",
       " 'Set Fire to the Rain',\n",
       " 'Time of your Life',\n",
       " 'Tonight, Tonight',\n",
       " 'With Arms Outstretched'}"
      ]
     },
     "execution_count": 9,
     "metadata": {},
     "output_type": "execute_result"
    }
   ],
   "source": [
    "## Making Sample Spaces for Tracks and artists\n",
    "sTracks = set(df['track'])\n",
    "sArtists = set(df['artist'])\n",
    "\n",
    "print(len(sTracks),len(sArtists))\n",
    "sTracks#,sArtists"
   ]
  },
  {
   "cell_type": "markdown",
   "metadata": {},
   "source": [
    "### Q1: How many different ways could we build a playlist using everyone's recommendations (without shuffle, no looping, and no repeated songs)?"
   ]
  },
  {
   "cell_type": "markdown",
   "metadata": {
    "ExecuteTime": {
     "end_time": "2020-01-07T22:40:05.942473Z",
     "start_time": "2020-01-07T22:40:05.940474Z"
    }
   },
   "source": [
    "- Q: Combination or permutation?\n",
    "    -  Permutation"
   ]
  },
  {
   "cell_type": "markdown",
   "metadata": {
    "ExecuteTime": {
     "end_time": "2020-01-07T22:40:05.942473Z",
     "start_time": "2020-01-07T22:40:05.940474Z"
    }
   },
   "source": [
    "- Q: What formula would we use?\n",
    " $$\\large P(n) = n!$$"
   ]
  },
  {
   "cell_type": "code",
   "execution_count": 10,
   "metadata": {
    "ExecuteTime": {
     "end_time": "2020-01-12T21:53:28.662281Z",
     "start_time": "2020-01-12T21:53:28.658381Z"
    }
   },
   "outputs": [
    {
     "data": {
      "text/plain": [
       "'6,227,020,800'"
      ]
     },
     "execution_count": 10,
     "metadata": {},
     "output_type": "execute_result"
    }
   ],
   "source": [
    "from math import factorial\n",
    "\"{:,}\".format(factorial(len(sTracks)))"
   ]
  },
  {
   "cell_type": "markdown",
   "metadata": {},
   "source": [
    "### Q2: What if we limit the playlist to only 10 songs, without replacement?"
   ]
  },
  {
   "cell_type": "markdown",
   "metadata": {
    "ExecuteTime": {
     "end_time": "2020-01-07T22:40:05.942473Z",
     "start_time": "2020-01-07T22:40:05.940474Z"
    }
   },
   "source": [
    "- Q: Combination or permutation?\n",
    "    - Permutation"
   ]
  },
  {
   "cell_type": "markdown",
   "metadata": {
    "ExecuteTime": {
     "end_time": "2020-01-07T22:40:05.942473Z",
     "start_time": "2020-01-07T22:40:05.940474Z"
    }
   },
   "source": [
    "- Q: What formula would we use?\n",
    "$$ \\large P_{k}^{n}= \\dfrac{n!}{(n-k)!}$$ \n"
   ]
  },
  {
   "cell_type": "code",
   "execution_count": 11,
   "metadata": {
    "ExecuteTime": {
     "end_time": "2020-01-12T21:53:28.668425Z",
     "start_time": "2020-01-12T21:53:28.663874Z"
    }
   },
   "outputs": [
    {
     "data": {
      "text/plain": [
       "'1,037,836,800.0'"
      ]
     },
     "execution_count": 11,
     "metadata": {},
     "output_type": "execute_result"
    }
   ],
   "source": [
    "p_10_13 = factorial(13) / factorial(13-10)\n",
    "\"{:,}\".format(p_10_13)"
   ]
  },
  {
   "cell_type": "markdown",
   "metadata": {},
   "source": [
    "### Q3: what if we limit the playlist to 10 songs, WITH replacement?"
   ]
  },
  {
   "cell_type": "markdown",
   "metadata": {
    "ExecuteTime": {
     "end_time": "2020-01-07T22:40:05.942473Z",
     "start_time": "2020-01-07T22:40:05.940474Z"
    }
   },
   "source": [
    "- Q: Combination or permutation?\n",
    "    - Permutation"
   ]
  },
  {
   "cell_type": "markdown",
   "metadata": {
    "ExecuteTime": {
     "end_time": "2020-01-07T22:40:05.942473Z",
     "start_time": "2020-01-07T22:40:05.940474Z"
    }
   },
   "source": [
    "- Q: What formula would we use?\n",
    "$$ \\large {P}_{j}^{n} = n^j $$\n"
   ]
  },
  {
   "cell_type": "code",
   "execution_count": 12,
   "metadata": {
    "ExecuteTime": {
     "end_time": "2020-01-12T21:53:28.673748Z",
     "start_time": "2020-01-12T21:53:28.669945Z"
    }
   },
   "outputs": [
    {
     "data": {
      "text/plain": [
       "'137,858,491,849'"
      ]
     },
     "execution_count": 12,
     "metadata": {},
     "output_type": "execute_result"
    }
   ],
   "source": [
    "p_10_13R = 13**10\n",
    "\"{:,}\".format(p_10_13R)"
   ]
  },
  {
   "cell_type": "markdown",
   "metadata": {},
   "source": [
    "### Q4: what if we select 10 songs out of the total number of suggestions and allow for repitition?"
   ]
  },
  {
   "cell_type": "code",
   "execution_count": 13,
   "metadata": {
    "ExecuteTime": {
     "end_time": "2020-01-12T21:53:28.683580Z",
     "start_time": "2020-01-12T21:53:28.675214Z"
    }
   },
   "outputs": [
    {
     "name": "stdout",
     "output_type": "stream",
     "text": [
      "17\n"
     ]
    },
    {
     "data": {
      "text/plain": [
       "Let's Get it Started               3\n",
       "Time of your Life                  2\n",
       "Poker Face                         2\n",
       "Tonight, Tonight                   1\n",
       "With Arms Outstretched             1\n",
       "Imagine                            1\n",
       "Otherside                          1\n",
       "Set Fire to the Rain               1\n",
       "Rock Lobster                       1\n",
       "Bad Romance                        1\n",
       "Hallelujah                         1\n",
       "Into the Aeroplane Over the Sea    1\n",
       "Here's to the Night                1\n",
       "Name: track, dtype: int64"
      ]
     },
     "execution_count": 13,
     "metadata": {},
     "output_type": "execute_result"
    }
   ],
   "source": [
    "print(df['track'].value_counts().sum())\n",
    "df['track'].value_counts()"
   ]
  },
  {
   "cell_type": "markdown",
   "metadata": {
    "ExecuteTime": {
     "end_time": "2020-01-07T22:40:05.942473Z",
     "start_time": "2020-01-07T22:40:05.940474Z"
    }
   },
   "source": [
    "- Q: Combination or permutation?\n",
    "    - Permutation"
   ]
  },
  {
   "cell_type": "markdown",
   "metadata": {
    "ExecuteTime": {
     "end_time": "2020-01-07T22:40:05.942473Z",
     "start_time": "2020-01-07T22:40:05.940474Z"
    }
   },
   "source": [
    "- Q: What formula would we use?\n",
    "$$\\dfrac{n!}{n_1!n_2!\\ldots n_j!}$$\n"
   ]
  },
  {
   "cell_type": "code",
   "execution_count": 14,
   "metadata": {
    "ExecuteTime": {
     "end_time": "2020-01-12T21:53:28.689456Z",
     "start_time": "2020-01-12T21:53:28.685137Z"
    }
   },
   "outputs": [
    {
     "data": {
      "text/plain": [
       "'14,820,309,504,000.0'"
      ]
     },
     "execution_count": 14,
     "metadata": {},
     "output_type": "execute_result"
    }
   ],
   "source": [
    "p17R = factorial(17) / (factorial(3)*factorial(2)*factorial(2))\n",
    "\"{:,}\".format(p17R)"
   ]
  },
  {
   "cell_type": "markdown",
   "metadata": {},
   "source": [
    "### We realize we need to relax and not worry about the song-order. That's what Shuffle is for, right?"
   ]
  },
  {
   "cell_type": "markdown",
   "metadata": {},
   "source": [
    "### Q5: How many playlists can we produce for an 8-track playlist from the unique suggested songs (10)?"
   ]
  },
  {
   "cell_type": "markdown",
   "metadata": {
    "ExecuteTime": {
     "end_time": "2020-01-07T22:40:05.942473Z",
     "start_time": "2020-01-07T22:40:05.940474Z"
    }
   },
   "source": [
    "- Q: Combination or permutation?\n",
    "    - Combination"
   ]
  },
  {
   "cell_type": "markdown",
   "metadata": {
    "ExecuteTime": {
     "end_time": "2020-01-07T22:40:05.942473Z",
     "start_time": "2020-01-07T22:40:05.940474Z"
    }
   },
   "source": [
    "- Q: What formula would we use?\n",
    "$$\\large C_{k}^{n} = \\displaystyle\\binom{n}{k} = \\dfrac{P_{k}^{n}}{k!}=\\dfrac{ \\dfrac{n!}{(n-k)!}}{k!} = \\dfrac{n!}{(n-k)!k!}$$"
   ]
  },
  {
   "cell_type": "code",
   "execution_count": 15,
   "metadata": {
    "ExecuteTime": {
     "end_time": "2020-01-12T21:53:28.694907Z",
     "start_time": "2020-01-12T21:53:28.691026Z"
    }
   },
   "outputs": [
    {
     "data": {
      "text/plain": [
       "'45.0'"
      ]
     },
     "execution_count": 15,
     "metadata": {},
     "output_type": "execute_result"
    }
   ],
   "source": [
    "c_8_10 = factorial(10)/ (factorial((10-8))*factorial(8))\n",
    "\"{:,}\".format(c_8_10)"
   ]
  },
  {
   "cell_type": "markdown",
   "metadata": {},
   "source": [
    "# Probability"
   ]
  },
  {
   "cell_type": "markdown",
   "metadata": {},
   "source": [
    "### EXAMPLE PROBABILITY PROBLEMS WITH PLAYLISTS"
   ]
  },
  {
   "cell_type": "markdown",
   "metadata": {},
   "source": [
    "**If we just accept everyone's suggestions (full df) and play on shuffle:**"
   ]
  },
  {
   "cell_type": "markdown",
   "metadata": {},
   "source": [
    "- Q: What is the probability of hearing \"Let's Get it started\"?"
   ]
  },
  {
   "cell_type": "code",
   "execution_count": 16,
   "metadata": {
    "ExecuteTime": {
     "end_time": "2020-01-12T21:53:28.702410Z",
     "start_time": "2020-01-12T21:53:28.696279Z"
    }
   },
   "outputs": [
    {
     "data": {
      "text/plain": [
       "Let's Get it Started               3\n",
       "Time of your Life                  2\n",
       "Poker Face                         2\n",
       "Tonight, Tonight                   1\n",
       "With Arms Outstretched             1\n",
       "Imagine                            1\n",
       "Otherside                          1\n",
       "Set Fire to the Rain               1\n",
       "Rock Lobster                       1\n",
       "Bad Romance                        1\n",
       "Hallelujah                         1\n",
       "Into the Aeroplane Over the Sea    1\n",
       "Here's to the Night                1\n",
       "Name: track, dtype: int64"
      ]
     },
     "execution_count": 16,
     "metadata": {},
     "output_type": "execute_result"
    }
   ],
   "source": [
    "df['track'].value_counts()#sum()#sort_values('track')"
   ]
  },
  {
   "cell_type": "markdown",
   "metadata": {},
   "source": [
    "$$P(E) = |E| / |S|  $$"
   ]
  },
  {
   "cell_type": "code",
   "execution_count": 17,
   "metadata": {
    "ExecuteTime": {
     "end_time": "2020-01-12T21:53:28.707824Z",
     "start_time": "2020-01-12T21:53:28.703935Z"
    }
   },
   "outputs": [
    {
     "data": {
      "text/plain": [
       "0.17647058823529413"
      ]
     },
     "execution_count": 17,
     "metadata": {},
     "output_type": "execute_result"
    }
   ],
   "source": [
    "3/17"
   ]
  },
  {
   "cell_type": "code",
   "execution_count": 18,
   "metadata": {
    "ExecuteTime": {
     "end_time": "2020-01-12T21:53:28.717949Z",
     "start_time": "2020-01-12T21:53:28.709388Z"
    },
    "scrolled": true
   },
   "outputs": [
    {
     "data": {
      "text/plain": [
       "Lady GaGa                3\n",
       "Black Eyed Peas          3\n",
       "Green Day                2\n",
       "Adele                    1\n",
       "Smashing Pumpkins        1\n",
       "B-52s                    1\n",
       "Rilo Kiley               1\n",
       "Neutral Milk Hotel       1\n",
       "Red Hot Chili Peppers    1\n",
       "John Lennon              1\n",
       "Eve 6                    1\n",
       "Panic at the Disco       1\n",
       "Name: artist, dtype: int64"
      ]
     },
     "metadata": {},
     "output_type": "display_data"
    },
    {
     "data": {
      "text/plain": [
       "17"
      ]
     },
     "execution_count": 18,
     "metadata": {},
     "output_type": "execute_result"
    }
   ],
   "source": [
    "display(df['artist'].value_counts())\n",
    "df['artist'].value_counts().sum()\n"
   ]
  },
  {
   "cell_type": "markdown",
   "metadata": {},
   "source": [
    "- Q: What is the probability of playing a song by Lady GaGa?"
   ]
  },
  {
   "cell_type": "code",
   "execution_count": 19,
   "metadata": {
    "ExecuteTime": {
     "end_time": "2020-01-12T21:53:28.723430Z",
     "start_time": "2020-01-12T21:53:28.719420Z"
    }
   },
   "outputs": [
    {
     "data": {
      "text/plain": [
       "0.17647058823529413"
      ]
     },
     "execution_count": 19,
     "metadata": {},
     "output_type": "execute_result"
    }
   ],
   "source": [
    "3/17"
   ]
  },
  {
   "cell_type": "markdown",
   "metadata": {},
   "source": [
    "## Conditional Probability with Playlists"
   ]
  },
  {
   "cell_type": "markdown",
   "metadata": {},
   "source": [
    "### Q: what is the probability of hearing a \"Poker Face\" given that the song is by Lady GaGa?"
   ]
  },
  {
   "cell_type": "code",
   "execution_count": 20,
   "metadata": {
    "ExecuteTime": {
     "end_time": "2020-01-12T21:53:28.730181Z",
     "start_time": "2020-01-12T21:53:28.724811Z"
    }
   },
   "outputs": [
    {
     "data": {
      "text/plain": [
       "Let's Get it Started               3\n",
       "Time of your Life                  2\n",
       "Poker Face                         2\n",
       "Tonight, Tonight                   1\n",
       "With Arms Outstretched             1\n",
       "Imagine                            1\n",
       "Otherside                          1\n",
       "Set Fire to the Rain               1\n",
       "Rock Lobster                       1\n",
       "Bad Romance                        1\n",
       "Hallelujah                         1\n",
       "Into the Aeroplane Over the Sea    1\n",
       "Here's to the Night                1\n",
       "Name: track, dtype: int64"
      ]
     },
     "execution_count": 20,
     "metadata": {},
     "output_type": "execute_result"
    }
   ],
   "source": [
    "df['track'].value_counts()"
   ]
  },
  {
   "cell_type": "code",
   "execution_count": 21,
   "metadata": {
    "ExecuteTime": {
     "end_time": "2020-01-12T21:53:28.737317Z",
     "start_time": "2020-01-12T21:53:28.731705Z"
    }
   },
   "outputs": [
    {
     "data": {
      "text/plain": [
       "artist\n",
       "Adele                    1\n",
       "B-52s                    1\n",
       "Black Eyed Peas          3\n",
       "Eve 6                    1\n",
       "Green Day                2\n",
       "John Lennon              1\n",
       "Lady GaGa                3\n",
       "Neutral Milk Hotel       1\n",
       "Panic at the Disco       1\n",
       "Red Hot Chili Peppers    1\n",
       "Rilo Kiley               1\n",
       "Smashing Pumpkins        1\n",
       "Name: track, dtype: int64"
      ]
     },
     "metadata": {},
     "output_type": "display_data"
    }
   ],
   "source": [
    "display(df.groupby('artist')['track'].count())"
   ]
  },
  {
   "cell_type": "markdown",
   "metadata": {},
   "source": [
    "- What is the probability of playing Poker Face given that its a Lady GaGa song?\n",
    "\n",
    "$$ P(PokerFace|LadyGaga)$$"
   ]
  },
  {
   "cell_type": "code",
   "execution_count": 22,
   "metadata": {
    "ExecuteTime": {
     "end_time": "2020-01-12T21:53:28.746804Z",
     "start_time": "2020-01-12T21:53:28.739057Z"
    }
   },
   "outputs": [
    {
     "data": {
      "text/plain": [
       "Poker Face     2\n",
       "Bad Romance    1\n",
       "Name: track, dtype: int64"
      ]
     },
     "execution_count": 22,
     "metadata": {},
     "output_type": "execute_result"
    }
   ],
   "source": [
    "df.groupby('artist').get_group('Lady GaGa')['track'].value_counts()"
   ]
  },
  {
   "cell_type": "code",
   "execution_count": 23,
   "metadata": {
    "ExecuteTime": {
     "end_time": "2020-01-12T21:53:28.753996Z",
     "start_time": "2020-01-12T21:53:28.750672Z"
    }
   },
   "outputs": [
    {
     "data": {
      "text/plain": [
       "0.6666666666666666"
      ]
     },
     "execution_count": 23,
     "metadata": {},
     "output_type": "execute_result"
    }
   ],
   "source": [
    "# |s|=3 \n",
    "# |e| = 2\n",
    "2/3"
   ]
  },
  {
   "cell_type": "markdown",
   "metadata": {},
   "source": [
    "## LAW OF TOTAL PROBABILITY"
   ]
  },
  {
   "cell_type": "markdown",
   "metadata": {
    "ExecuteTime": {
     "end_time": "2020-01-09T21:50:32.639351Z",
     "start_time": "2020-01-09T21:50:32.637220Z"
    }
   },
   "source": [
    "### From Dinner Party Playlist to House Party Playlists"
   ]
  },
  {
   "cell_type": "markdown",
   "metadata": {},
   "source": [
    "#### OUR HOUSE PARTY & LAW OF TOTAL PROB\n",
    "- Our House Party is sample space S\n",
    "- The 4 rooms are A1,A2,A3,A4\n",
    "- B represents the probabilty of hearing a specific song or artist as you wander the house.\n",
    "<img src=\"https://raw.githubusercontent.com/jirvingphd/dsc-law-of-total-probability-online-ds-ft-100719/master/images/Image_55_TotProb.png\">"
   ]
  },
  {
   "cell_type": "markdown",
   "metadata": {
    "ExecuteTime": {
     "end_time": "2020-01-09T21:51:53.081763Z",
     "start_time": "2020-01-09T21:51:53.077870Z"
    }
   },
   "source": [
    "- House party spread across 4 rooms (living room, basement, back patio, kitchen).\n",
    "- Separate playlists playing at each location\n",
    "- Calculate conditinal probability / total probability examples"
   ]
  },
  {
   "cell_type": "code",
   "execution_count": 24,
   "metadata": {
    "ExecuteTime": {
     "end_time": "2020-01-12T21:53:28.758788Z",
     "start_time": "2020-01-12T21:53:28.756573Z"
    }
   },
   "outputs": [],
   "source": [
    "# ## OLD WAY\n",
    "# house_party = dict(living_room = df.sample(12).reset_index(drop=True).copy(),\n",
    "#                    basement = df.sample(10).reset_index(drop=True).copy(), \n",
    "#                    back_patio = df.sample(9).reset_index(drop=True).copy(),\n",
    "#                   kitchen=df.sample(8).reset_index(drop=True).copy())\n",
    "\n",
    "# for k,v in house_party.items():\n",
    "#     v['Room'] = k \n",
    "#     display(v)"
   ]
  },
  {
   "cell_type": "code",
   "execution_count": 25,
   "metadata": {
    "ExecuteTime": {
     "end_time": "2020-01-12T21:53:28.796826Z",
     "start_time": "2020-01-12T21:53:28.760287Z"
    }
   },
   "outputs": [
    {
     "data": {
      "text/html": [
       "<div>\n",
       "<style scoped>\n",
       "    .dataframe tbody tr th:only-of-type {\n",
       "        vertical-align: middle;\n",
       "    }\n",
       "\n",
       "    .dataframe tbody tr th {\n",
       "        vertical-align: top;\n",
       "    }\n",
       "\n",
       "    .dataframe thead th {\n",
       "        text-align: right;\n",
       "    }\n",
       "</style>\n",
       "<table border=\"1\" class=\"dataframe\">\n",
       "  <thead>\n",
       "    <tr style=\"text-align: right;\">\n",
       "      <th></th>\n",
       "      <th>artist</th>\n",
       "      <th>track</th>\n",
       "      <th>Recommended By</th>\n",
       "      <th>Room</th>\n",
       "    </tr>\n",
       "  </thead>\n",
       "  <tbody>\n",
       "    <tr>\n",
       "      <td>0</td>\n",
       "      <td>Black Eyed Peas</td>\n",
       "      <td>Let's Get it Started</td>\n",
       "      <td>Anne</td>\n",
       "      <td>living_room</td>\n",
       "    </tr>\n",
       "    <tr>\n",
       "      <td>1</td>\n",
       "      <td>John Lennon</td>\n",
       "      <td>Imagine</td>\n",
       "      <td>Joe</td>\n",
       "      <td>living_room</td>\n",
       "    </tr>\n",
       "    <tr>\n",
       "      <td>2</td>\n",
       "      <td>Red Hot Chili Peppers</td>\n",
       "      <td>Otherside</td>\n",
       "      <td>James</td>\n",
       "      <td>living_room</td>\n",
       "    </tr>\n",
       "    <tr>\n",
       "      <td>3</td>\n",
       "      <td>Lady GaGa</td>\n",
       "      <td>Poker Face</td>\n",
       "      <td>Joe</td>\n",
       "      <td>living_room</td>\n",
       "    </tr>\n",
       "    <tr>\n",
       "      <td>4</td>\n",
       "      <td>Green Day</td>\n",
       "      <td>Time of your Life</td>\n",
       "      <td>Anne</td>\n",
       "      <td>living_room</td>\n",
       "    </tr>\n",
       "    <tr>\n",
       "      <td>5</td>\n",
       "      <td>B-52s</td>\n",
       "      <td>Rock Lobster</td>\n",
       "      <td>Joe</td>\n",
       "      <td>living_room</td>\n",
       "    </tr>\n",
       "    <tr>\n",
       "      <td>6</td>\n",
       "      <td>Black Eyed Peas</td>\n",
       "      <td>Let's Get it Started</td>\n",
       "      <td>John</td>\n",
       "      <td>living_room</td>\n",
       "    </tr>\n",
       "    <tr>\n",
       "      <td>7</td>\n",
       "      <td>Black Eyed Peas</td>\n",
       "      <td>Let's Get it Started</td>\n",
       "      <td>Samantha</td>\n",
       "      <td>living_room</td>\n",
       "    </tr>\n",
       "    <tr>\n",
       "      <td>8</td>\n",
       "      <td>Panic at the Disco</td>\n",
       "      <td>Hallelujah</td>\n",
       "      <td>Samantha</td>\n",
       "      <td>living_room</td>\n",
       "    </tr>\n",
       "    <tr>\n",
       "      <td>9</td>\n",
       "      <td>Smashing Pumpkins</td>\n",
       "      <td>Tonight, Tonight</td>\n",
       "      <td>Anne</td>\n",
       "      <td>living_room</td>\n",
       "    </tr>\n",
       "    <tr>\n",
       "      <td>10</td>\n",
       "      <td>Lady GaGa</td>\n",
       "      <td>Poker Face</td>\n",
       "      <td>John</td>\n",
       "      <td>living_room</td>\n",
       "    </tr>\n",
       "    <tr>\n",
       "      <td>11</td>\n",
       "      <td>Green Day</td>\n",
       "      <td>Time of your Life</td>\n",
       "      <td>Joe</td>\n",
       "      <td>living_room</td>\n",
       "    </tr>\n",
       "  </tbody>\n",
       "</table>\n",
       "</div>"
      ],
      "text/plain": [
       "                   artist                 track Recommended By         Room\n",
       "0         Black Eyed Peas  Let's Get it Started           Anne  living_room\n",
       "1             John Lennon               Imagine            Joe  living_room\n",
       "2   Red Hot Chili Peppers             Otherside          James  living_room\n",
       "3               Lady GaGa            Poker Face            Joe  living_room\n",
       "4               Green Day     Time of your Life           Anne  living_room\n",
       "5                   B-52s          Rock Lobster            Joe  living_room\n",
       "6         Black Eyed Peas  Let's Get it Started           John  living_room\n",
       "7         Black Eyed Peas  Let's Get it Started       Samantha  living_room\n",
       "8      Panic at the Disco            Hallelujah       Samantha  living_room\n",
       "9       Smashing Pumpkins      Tonight, Tonight           Anne  living_room\n",
       "10              Lady GaGa            Poker Face           John  living_room\n",
       "11              Green Day     Time of your Life            Joe  living_room"
      ]
     },
     "metadata": {},
     "output_type": "display_data"
    },
    {
     "data": {
      "text/html": [
       "<div>\n",
       "<style scoped>\n",
       "    .dataframe tbody tr th:only-of-type {\n",
       "        vertical-align: middle;\n",
       "    }\n",
       "\n",
       "    .dataframe tbody tr th {\n",
       "        vertical-align: top;\n",
       "    }\n",
       "\n",
       "    .dataframe thead th {\n",
       "        text-align: right;\n",
       "    }\n",
       "</style>\n",
       "<table border=\"1\" class=\"dataframe\">\n",
       "  <thead>\n",
       "    <tr style=\"text-align: right;\">\n",
       "      <th></th>\n",
       "      <th>artist</th>\n",
       "      <th>track</th>\n",
       "      <th>Recommended By</th>\n",
       "      <th>Room</th>\n",
       "    </tr>\n",
       "  </thead>\n",
       "  <tbody>\n",
       "    <tr>\n",
       "      <td>0</td>\n",
       "      <td>Lady GaGa</td>\n",
       "      <td>Poker Face</td>\n",
       "      <td>Joe</td>\n",
       "      <td>basement</td>\n",
       "    </tr>\n",
       "    <tr>\n",
       "      <td>1</td>\n",
       "      <td>Black Eyed Peas</td>\n",
       "      <td>Let's Get it Started</td>\n",
       "      <td>Samantha</td>\n",
       "      <td>basement</td>\n",
       "    </tr>\n",
       "    <tr>\n",
       "      <td>2</td>\n",
       "      <td>Green Day</td>\n",
       "      <td>Time of your Life</td>\n",
       "      <td>Anne</td>\n",
       "      <td>basement</td>\n",
       "    </tr>\n",
       "    <tr>\n",
       "      <td>3</td>\n",
       "      <td>Green Day</td>\n",
       "      <td>Time of your Life</td>\n",
       "      <td>Joe</td>\n",
       "      <td>basement</td>\n",
       "    </tr>\n",
       "    <tr>\n",
       "      <td>4</td>\n",
       "      <td>Red Hot Chili Peppers</td>\n",
       "      <td>Otherside</td>\n",
       "      <td>James</td>\n",
       "      <td>basement</td>\n",
       "    </tr>\n",
       "    <tr>\n",
       "      <td>5</td>\n",
       "      <td>Lady GaGa</td>\n",
       "      <td>Bad Romance</td>\n",
       "      <td>John</td>\n",
       "      <td>basement</td>\n",
       "    </tr>\n",
       "    <tr>\n",
       "      <td>6</td>\n",
       "      <td>Neutral Milk Hotel</td>\n",
       "      <td>Into the Aeroplane Over the Sea</td>\n",
       "      <td>James</td>\n",
       "      <td>basement</td>\n",
       "    </tr>\n",
       "    <tr>\n",
       "      <td>7</td>\n",
       "      <td>B-52s</td>\n",
       "      <td>Rock Lobster</td>\n",
       "      <td>Joe</td>\n",
       "      <td>basement</td>\n",
       "    </tr>\n",
       "    <tr>\n",
       "      <td>8</td>\n",
       "      <td>Lady GaGa</td>\n",
       "      <td>Poker Face</td>\n",
       "      <td>John</td>\n",
       "      <td>basement</td>\n",
       "    </tr>\n",
       "    <tr>\n",
       "      <td>9</td>\n",
       "      <td>Adele</td>\n",
       "      <td>Set Fire to the Rain</td>\n",
       "      <td>Samantha</td>\n",
       "      <td>basement</td>\n",
       "    </tr>\n",
       "  </tbody>\n",
       "</table>\n",
       "</div>"
      ],
      "text/plain": [
       "                  artist                            track Recommended By  \\\n",
       "0              Lady GaGa                       Poker Face            Joe   \n",
       "1        Black Eyed Peas             Let's Get it Started       Samantha   \n",
       "2              Green Day                Time of your Life           Anne   \n",
       "3              Green Day                Time of your Life            Joe   \n",
       "4  Red Hot Chili Peppers                        Otherside          James   \n",
       "5              Lady GaGa                      Bad Romance           John   \n",
       "6     Neutral Milk Hotel  Into the Aeroplane Over the Sea          James   \n",
       "7                  B-52s                     Rock Lobster            Joe   \n",
       "8              Lady GaGa                       Poker Face           John   \n",
       "9                  Adele             Set Fire to the Rain       Samantha   \n",
       "\n",
       "       Room  \n",
       "0  basement  \n",
       "1  basement  \n",
       "2  basement  \n",
       "3  basement  \n",
       "4  basement  \n",
       "5  basement  \n",
       "6  basement  \n",
       "7  basement  \n",
       "8  basement  \n",
       "9  basement  "
      ]
     },
     "metadata": {},
     "output_type": "display_data"
    },
    {
     "data": {
      "text/html": [
       "<div>\n",
       "<style scoped>\n",
       "    .dataframe tbody tr th:only-of-type {\n",
       "        vertical-align: middle;\n",
       "    }\n",
       "\n",
       "    .dataframe tbody tr th {\n",
       "        vertical-align: top;\n",
       "    }\n",
       "\n",
       "    .dataframe thead th {\n",
       "        text-align: right;\n",
       "    }\n",
       "</style>\n",
       "<table border=\"1\" class=\"dataframe\">\n",
       "  <thead>\n",
       "    <tr style=\"text-align: right;\">\n",
       "      <th></th>\n",
       "      <th>artist</th>\n",
       "      <th>track</th>\n",
       "      <th>Recommended By</th>\n",
       "      <th>Room</th>\n",
       "    </tr>\n",
       "  </thead>\n",
       "  <tbody>\n",
       "    <tr>\n",
       "      <td>0</td>\n",
       "      <td>Red Hot Chili Peppers</td>\n",
       "      <td>Otherside</td>\n",
       "      <td>James</td>\n",
       "      <td>back_patio</td>\n",
       "    </tr>\n",
       "    <tr>\n",
       "      <td>1</td>\n",
       "      <td>Panic at the Disco</td>\n",
       "      <td>Hallelujah</td>\n",
       "      <td>Samantha</td>\n",
       "      <td>back_patio</td>\n",
       "    </tr>\n",
       "    <tr>\n",
       "      <td>2</td>\n",
       "      <td>Neutral Milk Hotel</td>\n",
       "      <td>Into the Aeroplane Over the Sea</td>\n",
       "      <td>James</td>\n",
       "      <td>back_patio</td>\n",
       "    </tr>\n",
       "    <tr>\n",
       "      <td>3</td>\n",
       "      <td>Adele</td>\n",
       "      <td>Set Fire to the Rain</td>\n",
       "      <td>Samantha</td>\n",
       "      <td>back_patio</td>\n",
       "    </tr>\n",
       "    <tr>\n",
       "      <td>4</td>\n",
       "      <td>Lady GaGa</td>\n",
       "      <td>Bad Romance</td>\n",
       "      <td>John</td>\n",
       "      <td>back_patio</td>\n",
       "    </tr>\n",
       "    <tr>\n",
       "      <td>5</td>\n",
       "      <td>Black Eyed Peas</td>\n",
       "      <td>Let's Get it Started</td>\n",
       "      <td>Samantha</td>\n",
       "      <td>back_patio</td>\n",
       "    </tr>\n",
       "    <tr>\n",
       "      <td>6</td>\n",
       "      <td>Green Day</td>\n",
       "      <td>Time of your Life</td>\n",
       "      <td>Anne</td>\n",
       "      <td>back_patio</td>\n",
       "    </tr>\n",
       "    <tr>\n",
       "      <td>7</td>\n",
       "      <td>Lady GaGa</td>\n",
       "      <td>Poker Face</td>\n",
       "      <td>John</td>\n",
       "      <td>back_patio</td>\n",
       "    </tr>\n",
       "    <tr>\n",
       "      <td>8</td>\n",
       "      <td>Green Day</td>\n",
       "      <td>Time of your Life</td>\n",
       "      <td>Joe</td>\n",
       "      <td>back_patio</td>\n",
       "    </tr>\n",
       "  </tbody>\n",
       "</table>\n",
       "</div>"
      ],
      "text/plain": [
       "                  artist                            track Recommended By  \\\n",
       "0  Red Hot Chili Peppers                        Otherside          James   \n",
       "1     Panic at the Disco                       Hallelujah       Samantha   \n",
       "2     Neutral Milk Hotel  Into the Aeroplane Over the Sea          James   \n",
       "3                  Adele             Set Fire to the Rain       Samantha   \n",
       "4              Lady GaGa                      Bad Romance           John   \n",
       "5        Black Eyed Peas             Let's Get it Started       Samantha   \n",
       "6              Green Day                Time of your Life           Anne   \n",
       "7              Lady GaGa                       Poker Face           John   \n",
       "8              Green Day                Time of your Life            Joe   \n",
       "\n",
       "         Room  \n",
       "0  back_patio  \n",
       "1  back_patio  \n",
       "2  back_patio  \n",
       "3  back_patio  \n",
       "4  back_patio  \n",
       "5  back_patio  \n",
       "6  back_patio  \n",
       "7  back_patio  \n",
       "8  back_patio  "
      ]
     },
     "metadata": {},
     "output_type": "display_data"
    },
    {
     "data": {
      "text/html": [
       "<div>\n",
       "<style scoped>\n",
       "    .dataframe tbody tr th:only-of-type {\n",
       "        vertical-align: middle;\n",
       "    }\n",
       "\n",
       "    .dataframe tbody tr th {\n",
       "        vertical-align: top;\n",
       "    }\n",
       "\n",
       "    .dataframe thead th {\n",
       "        text-align: right;\n",
       "    }\n",
       "</style>\n",
       "<table border=\"1\" class=\"dataframe\">\n",
       "  <thead>\n",
       "    <tr style=\"text-align: right;\">\n",
       "      <th></th>\n",
       "      <th>artist</th>\n",
       "      <th>track</th>\n",
       "      <th>Recommended By</th>\n",
       "      <th>Room</th>\n",
       "    </tr>\n",
       "  </thead>\n",
       "  <tbody>\n",
       "    <tr>\n",
       "      <td>0</td>\n",
       "      <td>Lady GaGa</td>\n",
       "      <td>Poker Face</td>\n",
       "      <td>John</td>\n",
       "      <td>kitchen</td>\n",
       "    </tr>\n",
       "    <tr>\n",
       "      <td>1</td>\n",
       "      <td>Neutral Milk Hotel</td>\n",
       "      <td>Into the Aeroplane Over the Sea</td>\n",
       "      <td>James</td>\n",
       "      <td>kitchen</td>\n",
       "    </tr>\n",
       "    <tr>\n",
       "      <td>2</td>\n",
       "      <td>Eve 6</td>\n",
       "      <td>Here's to the Night</td>\n",
       "      <td>James</td>\n",
       "      <td>kitchen</td>\n",
       "    </tr>\n",
       "    <tr>\n",
       "      <td>3</td>\n",
       "      <td>Lady GaGa</td>\n",
       "      <td>Poker Face</td>\n",
       "      <td>Joe</td>\n",
       "      <td>kitchen</td>\n",
       "    </tr>\n",
       "    <tr>\n",
       "      <td>4</td>\n",
       "      <td>B-52s</td>\n",
       "      <td>Rock Lobster</td>\n",
       "      <td>Joe</td>\n",
       "      <td>kitchen</td>\n",
       "    </tr>\n",
       "    <tr>\n",
       "      <td>5</td>\n",
       "      <td>John Lennon</td>\n",
       "      <td>Imagine</td>\n",
       "      <td>Joe</td>\n",
       "      <td>kitchen</td>\n",
       "    </tr>\n",
       "    <tr>\n",
       "      <td>6</td>\n",
       "      <td>Red Hot Chili Peppers</td>\n",
       "      <td>Otherside</td>\n",
       "      <td>James</td>\n",
       "      <td>kitchen</td>\n",
       "    </tr>\n",
       "    <tr>\n",
       "      <td>7</td>\n",
       "      <td>Black Eyed Peas</td>\n",
       "      <td>Let's Get it Started</td>\n",
       "      <td>Anne</td>\n",
       "      <td>kitchen</td>\n",
       "    </tr>\n",
       "  </tbody>\n",
       "</table>\n",
       "</div>"
      ],
      "text/plain": [
       "                  artist                            track Recommended By  \\\n",
       "0              Lady GaGa                       Poker Face           John   \n",
       "1     Neutral Milk Hotel  Into the Aeroplane Over the Sea          James   \n",
       "2                  Eve 6              Here's to the Night          James   \n",
       "3              Lady GaGa                       Poker Face            Joe   \n",
       "4                  B-52s                     Rock Lobster            Joe   \n",
       "5            John Lennon                          Imagine            Joe   \n",
       "6  Red Hot Chili Peppers                        Otherside          James   \n",
       "7        Black Eyed Peas             Let's Get it Started           Anne   \n",
       "\n",
       "      Room  \n",
       "0  kitchen  \n",
       "1  kitchen  \n",
       "2  kitchen  \n",
       "3  kitchen  \n",
       "4  kitchen  \n",
       "5  kitchen  \n",
       "6  kitchen  \n",
       "7  kitchen  "
      ]
     },
     "metadata": {},
     "output_type": "display_data"
    }
   ],
   "source": [
    "def sample_room(df,n,seed=seed_notebook):\n",
    "    return df.sample(n, random_state=seed).reset_index(drop=True).copy()\n",
    "\n",
    "sample_params = dict(living_room = 12,\n",
    "                    basement=10,\n",
    "                    back_patio = 9,\n",
    "                    kitchen=8)\n",
    "house_party={}\n",
    "for room,n_samples in sample_params.items():\n",
    "    house_party[room] = sample_room(df,n_samples)\n",
    "\n",
    "for k,v in house_party.items():\n",
    "    v['Room'] = k \n",
    "    display(v)"
   ]
  },
  {
   "cell_type": "code",
   "execution_count": 26,
   "metadata": {
    "ExecuteTime": {
     "end_time": "2020-01-12T21:53:28.815040Z",
     "start_time": "2020-01-12T21:53:28.798275Z"
    }
   },
   "outputs": [
    {
     "name": "stdout",
     "output_type": "stream",
     "text": [
      "\n",
      "\n",
      "[i] Col = track:\n"
     ]
    },
    {
     "data": {
      "text/plain": [
       "Poker Face                         7\n",
       "Let's Get it Started               6\n",
       "Time of your Life                  6\n",
       "Otherside                          4\n",
       "Into the Aeroplane Over the Sea    3\n",
       "Rock Lobster                       3\n",
       "Bad Romance                        2\n",
       "Imagine                            2\n",
       "Set Fire to the Rain               2\n",
       "Hallelujah                         2\n",
       "Tonight, Tonight                   1\n",
       "Here's to the Night                1\n",
       "Name: track, dtype: int64"
      ]
     },
     "metadata": {},
     "output_type": "display_data"
    },
    {
     "name": "stdout",
     "output_type": "stream",
     "text": [
      "\n",
      "\n",
      "[i] Col = artist:\n"
     ]
    },
    {
     "data": {
      "text/plain": [
       "Lady GaGa                9\n",
       "Green Day                6\n",
       "Black Eyed Peas          6\n",
       "Red Hot Chili Peppers    4\n",
       "B-52s                    3\n",
       "Neutral Milk Hotel       3\n",
       "Adele                    2\n",
       "John Lennon              2\n",
       "Panic at the Disco       2\n",
       "Smashing Pumpkins        1\n",
       "Eve 6                    1\n",
       "Name: artist, dtype: int64"
      ]
     },
     "metadata": {},
     "output_type": "display_data"
    },
    {
     "name": "stdout",
     "output_type": "stream",
     "text": [
      "\n",
      "\n",
      "[i] Col = Recommended By:\n"
     ]
    },
    {
     "data": {
      "text/plain": [
       "Joe         11\n",
       "James        8\n",
       "Samantha     7\n",
       "John         7\n",
       "Anne         6\n",
       "Name: Recommended By, dtype: int64"
      ]
     },
     "metadata": {},
     "output_type": "display_data"
    }
   ],
   "source": [
    "df_house_party = pd.concat(house_party.values(),axis=0)\n",
    "df_house_party.reset_index(inplace=True,drop=True)\n",
    "\n",
    "for col in ['track','artist','Recommended By']:\n",
    "    print(f\"\\n\\n[i] Col = {col}:\")\n",
    "    display(df_house_party[col].value_counts())"
   ]
  },
  {
   "cell_type": "code",
   "execution_count": 27,
   "metadata": {
    "ExecuteTime": {
     "end_time": "2020-01-12T21:53:28.823487Z",
     "start_time": "2020-01-12T21:53:28.816979Z"
    }
   },
   "outputs": [
    {
     "data": {
      "text/plain": [
       "12"
      ]
     },
     "execution_count": 27,
     "metadata": {},
     "output_type": "execute_result"
    }
   ],
   "source": [
    "res = house_party['living_room']['track'].value_counts()\n",
    "res.sum()"
   ]
  },
  {
   "cell_type": "code",
   "execution_count": 28,
   "metadata": {
    "ExecuteTime": {
     "end_time": "2020-01-12T21:53:28.832189Z",
     "start_time": "2020-01-12T21:53:28.825119Z"
    }
   },
   "outputs": [],
   "source": [
    "rooms_list= list(house_party.keys())\n",
    "\n",
    "def get_room_counts(room='livng_room', \n",
    "                    column='artist', return_res=False,verbose=True):\n",
    "    \"\"\"Get value counts from house_party dict for the room and specified column.\"\"\"\n",
    "    room_counts = house_party[room][column].value_counts()\n",
    "    \n",
    "    if verbose: \n",
    "        display(room_counts)\n",
    "        print('Total Tracks: ',room_counts.sum())\n",
    "    \n",
    "    if return_res:\n",
    "        return room_counts\n",
    "    \n",
    "def get_room_prob(room='living_room', column='artist',target='Green Day', verbose=True):\n",
    "    room_counts = get_room_counts(room, column, True,False)\n",
    "    \n",
    "    if target not in room_counts.index:\n",
    "        rm_cnt=0\n",
    "    else:\n",
    "        rm_cnt= room_counts.loc[target]\n",
    "\n",
    "    cnt_sum = np.sum(room_counts)#.sum()\n",
    "    prob = np.round(rm_cnt/cnt_sum,3)\n",
    "        \n",
    "    if verbose: print(f\"[i] P({target}|{room}) \\t= {rm_cnt}/{cnt_sum} \\t= {np.float(prob):{'.2f'}}\")\n",
    "              \n",
    "    return prob#room_counts.loc[target]/room_counts.sum()\n",
    "    "
   ]
  },
  {
   "cell_type": "markdown",
   "metadata": {},
   "source": [
    "### Q1: What is the probability of hearing a Green Day song at the house party at any given moment?"
   ]
  },
  {
   "cell_type": "markdown",
   "metadata": {},
   "source": [
    "$$P(A)= \\sum_i P(A \\cap B_i)= \\sum_i P(A \\mid B_i)P(B_i)$$\n",
    "\n",
    "\n",
    "$$ P(GD)=\\sum_i P(GD \\mid Room_i)P(Room_i)$$\n",
    "\n",
    "####  To Calculate $P(GD)$ =\n",
    "\n",
    "$P(GD|Room1)\\times \\frac{1}{4} + P(GD|Room2)\\times \\frac{1}{4} + P(GD|Room3)\\times \\frac{1}{4} + P(GD|Room4)\\times \\frac{1}{4} $\n",
    "\n",
    "\n",
    "\n"
   ]
  },
  {
   "cell_type": "code",
   "execution_count": 29,
   "metadata": {
    "ExecuteTime": {
     "end_time": "2020-01-12T21:53:28.837505Z",
     "start_time": "2020-01-12T21:53:28.833729Z"
    }
   },
   "outputs": [
    {
     "data": {
      "text/plain": [
       "['living_room', 'basement', 'back_patio', 'kitchen']"
      ]
     },
     "execution_count": 29,
     "metadata": {},
     "output_type": "execute_result"
    }
   ],
   "source": [
    "rooms_list"
   ]
  },
  {
   "cell_type": "code",
   "execution_count": 30,
   "metadata": {
    "ExecuteTime": {
     "end_time": "2020-01-12T21:53:28.850724Z",
     "start_time": "2020-01-12T21:53:28.839211Z"
    }
   },
   "outputs": [
    {
     "name": "stdout",
     "output_type": "stream",
     "text": [
      "[i] P(Green Day|living_room) \t= 2/12 \t= 0.17\n",
      "[i] P(Green Day|basement) \t= 2/10 \t= 0.20\n",
      "[i] P(Green Day|back_patio) \t= 2/9 \t= 0.22\n",
      "[i] P(Green Day|kitchen) \t= 0/8 \t= 0.00\n",
      "P(GreenDay)= 0.147\n"
     ]
    }
   ],
   "source": [
    "# p_gd_given_rm1 \n",
    "# val_counts = get_room_counts(room=rooms_list[0],column='artist',return_res=True)\n",
    "p_gd = 0\n",
    "for room in rooms_list:\n",
    "    try:\n",
    "        prob_rm = get_room_prob(room=room,target='Green Day',column='artist')\n",
    "    except:\n",
    "        prob_rm=0\n",
    "    p_gd += (prob_rm)*(1/4)\n",
    "\n",
    "print(f\"P(GreenDay)= {np.round(p_gd,3)}\")"
   ]
  },
  {
   "cell_type": "code",
   "execution_count": 31,
   "metadata": {
    "ExecuteTime": {
     "end_time": "2020-01-12T21:53:28.854753Z",
     "start_time": "2020-01-12T21:53:28.852335Z"
    }
   },
   "outputs": [],
   "source": [
    "# p_gd = 0\n",
    "# for room in rooms_list:\n",
    "#     prob_rm = get_room_prob(room=room,target='Green Day',column='artist')\n",
    "#     p_gd += (prob_rm)*(1/4)\n",
    "# p_gd"
   ]
  },
  {
   "cell_type": "markdown",
   "metadata": {},
   "source": [
    "### What if we have unequal probabilties for being in each room?"
   ]
  },
  {
   "cell_type": "markdown",
   "metadata": {},
   "source": [
    "- Living room and basement are kind of bland (prob of being in either room is .15. \n",
    "- Back patio has a nice fire. (prob being in room=0.3)\n",
    "- Kitchen has the alcohol.  (prob being in room=0.4)"
   ]
  },
  {
   "cell_type": "code",
   "execution_count": 32,
   "metadata": {
    "ExecuteTime": {
     "end_time": "2020-01-12T21:53:28.861121Z",
     "start_time": "2020-01-12T21:53:28.856381Z"
    }
   },
   "outputs": [
    {
     "data": {
      "text/plain": [
       "{'living_room': 0.15, 'basement': 0.15, 'back_patio': 0.3, 'kitchen': 0.4}"
      ]
     },
     "execution_count": 32,
     "metadata": {},
     "output_type": "execute_result"
    }
   ],
   "source": [
    "rooms_probs = dict(zip(rooms_list,[0.15,0.15,0.3,0.4]))\n",
    "rooms_probs"
   ]
  },
  {
   "cell_type": "code",
   "execution_count": 33,
   "metadata": {
    "ExecuteTime": {
     "end_time": "2020-01-12T21:53:28.866903Z",
     "start_time": "2020-01-12T21:53:28.862856Z"
    }
   },
   "outputs": [
    {
     "data": {
      "text/plain": [
       "1.0"
      ]
     },
     "execution_count": 33,
     "metadata": {},
     "output_type": "execute_result"
    }
   ],
   "source": [
    "np.sum(list(rooms_probs.values()))"
   ]
  },
  {
   "cell_type": "code",
   "execution_count": 34,
   "metadata": {
    "ExecuteTime": {
     "end_time": "2020-01-12T21:53:28.879524Z",
     "start_time": "2020-01-12T21:53:28.868768Z"
    }
   },
   "outputs": [
    {
     "name": "stdout",
     "output_type": "stream",
     "text": [
      "[i] P(Green Day|living_room) \t= 2/12 \t= 0.17\n",
      "[i] P(Green Day|basement) \t= 2/10 \t= 0.20\n",
      "[i] P(Green Day|back_patio) \t= 2/9 \t= 0.22\n",
      "[i] P(Green Day|kitchen) \t= 0/8 \t= 0.00\n"
     ]
    },
    {
     "data": {
      "text/plain": [
       "0.12165"
      ]
     },
     "execution_count": 34,
     "metadata": {},
     "output_type": "execute_result"
    }
   ],
   "source": [
    "p_gd = 0\n",
    "for room,room_prob in rooms_probs.items():\n",
    "    prob_rm = get_room_prob(room=room,target='Green Day',column='artist')\n",
    "    p_gd += (prob_rm)*(room_prob)\n",
    "p_gd"
   ]
  },
  {
   "cell_type": "markdown",
   "metadata": {},
   "source": [
    "### Q: what is the probability of hearing a song recommend by Anne?"
   ]
  },
  {
   "cell_type": "markdown",
   "metadata": {},
   "source": [
    "$$ P(AnneRec)=\\sum_i P(AnneRec \\mid Room_i)P(Room_i)$$\n"
   ]
  },
  {
   "cell_type": "code",
   "execution_count": 35,
   "metadata": {
    "ExecuteTime": {
     "end_time": "2020-01-12T21:53:28.891835Z",
     "start_time": "2020-01-12T21:53:28.880795Z"
    }
   },
   "outputs": [
    {
     "name": "stdout",
     "output_type": "stream",
     "text": [
      "[i] P(Anne|living_room) \t= 3/12 \t= 0.25\n",
      "[i] P(Anne|basement) \t= 1/10 \t= 0.10\n",
      "[i] P(Anne|back_patio) \t= 1/9 \t= 0.11\n",
      "[i] P(Anne|kitchen) \t= 1/8 \t= 0.12\n"
     ]
    },
    {
     "data": {
      "text/plain": [
       "0.13579999999999998"
      ]
     },
     "execution_count": 35,
     "metadata": {},
     "output_type": "execute_result"
    }
   ],
   "source": [
    "p_anne = 0\n",
    "\n",
    "for room,room_prob in rooms_probs.items():\n",
    "    prob_rm = get_room_prob(room=room, target='Anne',column='Recommended By')\n",
    "    p_anne += (prob_rm * room_prob)\n",
    "    \n",
    "p_anne"
   ]
  },
  {
   "cell_type": "code",
   "execution_count": 36,
   "metadata": {
    "ExecuteTime": {
     "end_time": "2020-01-12T21:53:28.897360Z",
     "start_time": "2020-01-12T21:53:28.893329Z"
    }
   },
   "outputs": [
    {
     "data": {
      "text/plain": [
       "array(['John', 'Anne', 'Joe', 'Samantha', 'James'], dtype=object)"
      ]
     },
     "execution_count": 36,
     "metadata": {},
     "output_type": "execute_result"
    }
   ],
   "source": [
    "people = df[\"Recommended By\"].unique()\n",
    "people"
   ]
  },
  {
   "cell_type": "code",
   "execution_count": 37,
   "metadata": {
    "ExecuteTime": {
     "end_time": "2020-01-12T21:53:28.903667Z",
     "start_time": "2020-01-12T21:53:28.898937Z"
    }
   },
   "outputs": [],
   "source": [
    "def loop_people(people):\n",
    "    p_total = []\n",
    "    for person in people:\n",
    "        p_john = 0\n",
    "\n",
    "        for room,room_prob in rooms_probs.items():\n",
    "            try:\n",
    "                prob_rm = get_room_prob(room=room, target=person,column='Recommended By')\n",
    "                \n",
    "            except:\n",
    "                prob_rm=0\n",
    "            p_john += (prob_rm * room_prob)\n",
    "           \n",
    "            \n",
    "        p_total.append(p_john)\n",
    "\n",
    "#     assert np.sum(p_total)==1.0\n",
    "    print(f\"p_total={np.sum(p_total)}\")\n",
    "    print(f\"Prob for songs by {person}= {p_john}\",end='\\n\\n')\n"
   ]
  },
  {
   "cell_type": "code",
   "execution_count": 38,
   "metadata": {
    "ExecuteTime": {
     "end_time": "2020-01-12T21:53:28.936464Z",
     "start_time": "2020-01-12T21:53:28.905371Z"
    }
   },
   "outputs": [
    {
     "name": "stdout",
     "output_type": "stream",
     "text": [
      "[i] P(John|living_room) \t= 2/12 \t= 0.17\n",
      "[i] P(John|basement) \t= 2/10 \t= 0.20\n",
      "[i] P(John|back_patio) \t= 2/9 \t= 0.22\n",
      "[i] P(John|kitchen) \t= 1/8 \t= 0.12\n",
      "[i] P(Anne|living_room) \t= 3/12 \t= 0.25\n",
      "[i] P(Anne|basement) \t= 1/10 \t= 0.10\n",
      "[i] P(Anne|back_patio) \t= 1/9 \t= 0.11\n",
      "[i] P(Anne|kitchen) \t= 1/8 \t= 0.12\n",
      "[i] P(Joe|living_room) \t= 4/12 \t= 0.33\n",
      "[i] P(Joe|basement) \t= 3/10 \t= 0.30\n",
      "[i] P(Joe|back_patio) \t= 1/9 \t= 0.11\n",
      "[i] P(Joe|kitchen) \t= 3/8 \t= 0.38\n",
      "[i] P(Samantha|living_room) \t= 2/12 \t= 0.17\n",
      "[i] P(Samantha|basement) \t= 2/10 \t= 0.20\n",
      "[i] P(Samantha|back_patio) \t= 3/9 \t= 0.33\n",
      "[i] P(Samantha|kitchen) \t= 0/8 \t= 0.00\n",
      "[i] P(James|living_room) \t= 1/12 \t= 0.08\n",
      "[i] P(James|basement) \t= 2/10 \t= 0.20\n",
      "[i] P(James|back_patio) \t= 2/9 \t= 0.22\n",
      "[i] P(James|kitchen) \t= 3/8 \t= 0.38\n",
      "p_total=0.9997\n",
      "Prob for songs by James= 0.25905\n",
      "\n"
     ]
    }
   ],
   "source": [
    "tot = loop_people(people)\n"
   ]
  },
  {
   "cell_type": "markdown",
   "metadata": {},
   "source": [
    "# Intro to Section 18 - Statistical Distributions"
   ]
  },
  {
   "cell_type": "markdown",
   "metadata": {},
   "source": [
    "- Distributions are directly related to probability, which is a critical concept we will explore more with Hypothesis Testing in Module 3."
   ]
  },
  {
   "cell_type": "markdown",
   "metadata": {},
   "source": [
    "## Probability Mass Function (AKA Probability Distribution Function)"
   ]
  },
  {
   "cell_type": "markdown",
   "metadata": {
    "heading_collapsed": true
   },
   "source": [
    "## Class Code"
   ]
  },
  {
   "cell_type": "markdown",
   "metadata": {
    "hidden": true
   },
   "source": [
    "ORIGINAL CODE FROM CLASS:\n",
    "\n",
    "```python\n",
    "from collections import Counter\n",
    "\n",
    "def coin_toss(n_flips=10,outcomes=None,verbose=True,ret_outcomes=True):\n",
    "    if outcomes is None:\n",
    "        outcomes = []\n",
    "    \n",
    "    for toss in range(n_flips):\n",
    "        result = 'H' if np.random.random() >0.5 else 'T'\n",
    "        outcomes.append(result)\n",
    "        \n",
    "        if verbose: print(f\"Toss {toss}: \\t{result}\")\n",
    "            \n",
    "#     if ret_outcomes:\n",
    "    return outcomes\n",
    "#     else:        \n",
    "#         counter = Counter(outcomes)\n",
    "#         return counter\n",
    "\n",
    "#cell\n",
    "outcomes = coin_toss(n_flips=5)\n",
    "outcomes\n",
    "\n",
    "#cell\n",
    "counter= Counter(outcomes)\n",
    "counter\n",
    "\n",
    "#cell\n",
    "def plot_pmf_vs_hist(counter):\n",
    "    if isinstance(counter,list):\n",
    "        from collections import Counter\n",
    "        counter = Counter(counter)\n",
    "\n",
    "    fig,ax=plt.subplots(ncols=2,figsize=(12,4))\n",
    "    pmf = [] \n",
    "\n",
    "    for k,v in counter.items():\n",
    "        pmf.append(round(v/len(outcomes),2))\n",
    "\n",
    "\n",
    "    ax[0].bar(counter.keys(),pmf)\n",
    "    ax[0].set(title=f'PMF (sum={np.sum(pmf)})',ylabel='Frequency',xlabel='Outcomes')\n",
    "    \n",
    "    ax[1].hist(outcomes)#counter.keys(),counter.values())\n",
    "    ax[1].set(title=f'Histogram (sum={np.sum(list(counter.values()))})',ylabel='Counts',xlabel='Outcomes')\n",
    "    plt.tight_layout()\n",
    "    return fig,ax\n",
    "\n",
    "#cell\n",
    "plot_pmf_vs_hist(counter)\n",
    "\n",
    "#cell\n",
    "outcomes = coin_toss(n_flips=12,outcomes=outcomes)\n",
    "plot_pmf_vs_hist(outcomes)\n",
    "\n",
    "#cell \n",
    "outcomes = coin_toss(n_flips=21,outcomes=outcomes)\n",
    "plot_pmf_vs_hist(outcomes)\n",
    "\n",
    "#cell\n",
    "outcomes = coin_toss(n_flips=20,outcomes=outcomes)\n",
    "plot_pmf_vs_hist(outcomes)\n",
    "\n",
    "#cell\n",
    "outcomes = coin_toss(n_flips=200,outcomes=outcomes)\n",
    "plot_pmf_vs_hist(outcomes)\n",
    "\n",
    "```"
   ]
  },
  {
   "cell_type": "markdown",
   "metadata": {},
   "source": [
    "## Class Code Applied"
   ]
  },
  {
   "cell_type": "code",
   "execution_count": 39,
   "metadata": {
    "ExecuteTime": {
     "end_time": "2020-01-12T21:53:28.942047Z",
     "start_time": "2020-01-12T21:53:28.937906Z"
    }
   },
   "outputs": [],
   "source": [
    "from collections import Counter\n",
    "\n",
    "def coin_toss(n_flips=10,outcomes=None,verbose=True,ret_outcomes=True):\n",
    "    if outcomes is None:\n",
    "        outcomes = []\n",
    "    \n",
    "    for toss in range(n_flips):\n",
    "        result = 'H' if np.random.random() >0.5 else 'T'\n",
    "        outcomes.append(result)\n",
    "        \n",
    "        if verbose: print(f\"Toss {toss}: \\t{result}\")\n",
    "            \n",
    "    return outcomes"
   ]
  },
  {
   "cell_type": "code",
   "execution_count": 40,
   "metadata": {
    "ExecuteTime": {
     "end_time": "2020-01-12T21:53:28.950072Z",
     "start_time": "2020-01-12T21:53:28.943832Z"
    }
   },
   "outputs": [],
   "source": [
    "def plot_pmf_vs_hist(counter):\n",
    "    \n",
    "    if isinstance(counter,list):\n",
    "        from collections import Counter\n",
    "        counter = Counter(counter)\n",
    "\n",
    "    fig,ax=plt.subplots(ncols=2,figsize=(12,4))\n",
    "    pmf = [] \n",
    "\n",
    "    for k,v in counter.items():\n",
    "        pmf.append(round(v/len(outcomes),3))\n",
    "\n",
    "\n",
    "    ax[0].bar(counter.keys(),pmf)\n",
    "    ax[0].set(title=f'PMF (sum={np.sum(pmf)})',ylabel='Frequency',xlabel='Outcomes')\n",
    "    \n",
    "    ax[1].hist(outcomes)#counter.keys(),counter.values())\n",
    "    ax[1].set(title=f'Histogram (sum={np.sum(list(counter.values()))})',ylabel='Counts',xlabel='Outcomes')\n",
    "    plt.tight_layout()\n",
    "    return fig,ax"
   ]
  },
  {
   "cell_type": "code",
   "execution_count": 41,
   "metadata": {
    "ExecuteTime": {
     "end_time": "2020-01-12T21:53:28.956227Z",
     "start_time": "2020-01-12T21:53:28.951754Z"
    }
   },
   "outputs": [
    {
     "name": "stdout",
     "output_type": "stream",
     "text": [
      "Toss 0: \tT\n",
      "Toss 1: \tH\n",
      "Toss 2: \tH\n",
      "Toss 3: \tT\n",
      "Toss 4: \tT\n"
     ]
    },
    {
     "data": {
      "text/plain": [
       "['T', 'H', 'H', 'T', 'T']"
      ]
     },
     "execution_count": 41,
     "metadata": {},
     "output_type": "execute_result"
    }
   ],
   "source": [
    "## Get outcomes\n",
    "outcomes = coin_toss(n_flips=5)\n",
    "outcomes"
   ]
  },
  {
   "cell_type": "code",
   "execution_count": 42,
   "metadata": {
    "ExecuteTime": {
     "end_time": "2020-01-12T21:53:28.961487Z",
     "start_time": "2020-01-12T21:53:28.957557Z"
    }
   },
   "outputs": [
    {
     "data": {
      "text/plain": [
       "Counter({'T': 3, 'H': 2})"
      ]
     },
     "execution_count": 42,
     "metadata": {},
     "output_type": "execute_result"
    }
   ],
   "source": [
    "##Make a counter\n",
    "counter= Counter(outcomes)\n",
    "counter"
   ]
  },
  {
   "cell_type": "code",
   "execution_count": 43,
   "metadata": {
    "ExecuteTime": {
     "end_time": "2020-01-12T21:53:29.243669Z",
     "start_time": "2020-01-12T21:53:28.962889Z"
    }
   },
   "outputs": [
    {
     "data": {
      "text/plain": [
       "(<Figure size 864x288 with 2 Axes>,\n",
       " array([<matplotlib.axes._subplots.AxesSubplot object at 0x1a22a8cb38>,\n",
       "        <matplotlib.axes._subplots.AxesSubplot object at 0x1a22d3cda0>],\n",
       "       dtype=object))"
      ]
     },
     "execution_count": 43,
     "metadata": {},
     "output_type": "execute_result"
    },
    {
     "data": {
      "image/png": "[encoded data removed]",
      "text/plain": [
       "<Figure size 864x288 with 2 Axes>"
      ]
     },
     "metadata": {
      "needs_background": "light"
     },
     "output_type": "display_data"
    }
   ],
   "source": [
    "# Plot outcomes\n",
    "plot_pmf_vs_hist(counter)"
   ]
  },
  {
   "cell_type": "code",
   "execution_count": 44,
   "metadata": {
    "ExecuteTime": {
     "end_time": "2020-01-12T21:53:29.491080Z",
     "start_time": "2020-01-12T21:53:29.245037Z"
    }
   },
   "outputs": [
    {
     "name": "stdout",
     "output_type": "stream",
     "text": [
      "DEMO: SEED 123\n",
      "Toss 0: \tH\n",
      "Toss 1: \tT\n",
      "Toss 2: \tT\n",
      "Toss 3: \tH\n",
      "Toss 4: \tH\n",
      "Toss 5: \tT\n",
      "Toss 6: \tH\n",
      "Toss 7: \tH\n",
      "['H', 'T', 'T', 'H', 'H', 'T', 'H', 'H']\n"
     ]
    },
    {
     "data": {
      "text/plain": [
       "(<Figure size 864x288 with 2 Axes>,\n",
       " array([<matplotlib.axes._subplots.AxesSubplot object at 0x1a22e0e080>,\n",
       "        <matplotlib.axes._subplots.AxesSubplot object at 0x1a22f34198>],\n",
       "       dtype=object))"
      ]
     },
     "execution_count": 44,
     "metadata": {},
     "output_type": "execute_result"
    },
    {
     "data": {
      "image/png": "[encoded data removed]",
      "text/plain": [
       "<Figure size 864x288 with 2 Axes>"
      ]
     },
     "metadata": {
      "needs_background": "light"
     },
     "output_type": "display_data"
    }
   ],
   "source": [
    "#cell\n",
    "seed=123\n",
    "np.random.seed(seed)\n",
    "print(f'DEMO: SEED {seed}')\n",
    "#cell\n",
    "outcomes = coin_toss(n_flips=8)\n",
    "print(outcomes)\n",
    "plot_pmf_vs_hist(outcomes)\n",
    "\n",
    "# outcomes = coin_toss(n_flips=12,outcomes=outcomes)\n",
    "# plot_pmf_vs_hist(outcomes)"
   ]
  },
  {
   "cell_type": "code",
   "execution_count": 45,
   "metadata": {
    "ExecuteTime": {
     "end_time": "2020-01-12T21:53:29.804618Z",
     "start_time": "2020-01-12T21:53:29.493012Z"
    }
   },
   "outputs": [
    {
     "name": "stdout",
     "output_type": "stream",
     "text": [
      "Toss 0: \tT\n",
      "Toss 1: \tT\n",
      "Toss 2: \tT\n",
      "Toss 3: \tH\n",
      "Toss 4: \tT\n",
      "Toss 5: \tT\n",
      "Toss 6: \tT\n",
      "Toss 7: \tH\n",
      "Toss 8: \tT\n",
      "Toss 9: \tT\n",
      "Toss 10: \tH\n",
      "Toss 11: \tH\n",
      "Toss 12: \tH\n",
      "Toss 13: \tH\n",
      "Toss 14: \tH\n",
      "Toss 15: \tH\n",
      "Toss 16: \tH\n",
      "Toss 17: \tT\n",
      "Toss 18: \tT\n",
      "Toss 19: \tT\n",
      "Toss 20: \tT\n"
     ]
    },
    {
     "data": {
      "text/plain": [
       "(<Figure size 864x288 with 2 Axes>,\n",
       " array([<matplotlib.axes._subplots.AxesSubplot object at 0x1a22f7ed68>,\n",
       "        <matplotlib.axes._subplots.AxesSubplot object at 0x1a22fe5e10>],\n",
       "       dtype=object))"
      ]
     },
     "execution_count": 45,
     "metadata": {},
     "output_type": "execute_result"
    },
    {
     "data": {
      "image/png": "[encoded data removed]",
      "text/plain": [
       "<Figure size 864x288 with 2 Axes>"
      ]
     },
     "metadata": {
      "needs_background": "light"
     },
     "output_type": "display_data"
    }
   ],
   "source": [
    "#cell \n",
    "outcomes = coin_toss(n_flips=21,outcomes=outcomes)\n",
    "plot_pmf_vs_hist(outcomes)"
   ]
  },
  {
   "cell_type": "code",
   "execution_count": 46,
   "metadata": {
    "ExecuteTime": {
     "end_time": "2020-01-12T21:53:30.069583Z",
     "start_time": "2020-01-12T21:53:29.806598Z"
    }
   },
   "outputs": [
    {
     "name": "stdout",
     "output_type": "stream",
     "text": [
      "Toss 0: \tH\n",
      "Toss 1: \tT\n",
      "Toss 2: \tT\n",
      "Toss 3: \tT\n",
      "Toss 4: \tT\n",
      "Toss 5: \tT\n",
      "Toss 6: \tT\n",
      "Toss 7: \tT\n",
      "Toss 8: \tH\n",
      "Toss 9: \tH\n",
      "Toss 10: \tH\n",
      "Toss 11: \tH\n",
      "Toss 12: \tT\n",
      "Toss 13: \tT\n",
      "Toss 14: \tT\n",
      "Toss 15: \tH\n",
      "Toss 16: \tT\n",
      "Toss 17: \tT\n",
      "Toss 18: \tH\n",
      "Toss 19: \tH\n"
     ]
    },
    {
     "data": {
      "text/plain": [
       "(<Figure size 864x288 with 2 Axes>,\n",
       " array([<matplotlib.axes._subplots.AxesSubplot object at 0x1a22fce4a8>,\n",
       "        <matplotlib.axes._subplots.AxesSubplot object at 0x1a232942b0>],\n",
       "       dtype=object))"
      ]
     },
     "execution_count": 46,
     "metadata": {},
     "output_type": "execute_result"
    },
    {
     "data": {
      "image/png": "[encoded data removed]",
      "text/plain": [
       "<Figure size 864x288 with 2 Axes>"
      ]
     },
     "metadata": {
      "needs_background": "light"
     },
     "output_type": "display_data"
    }
   ],
   "source": [
    "#cell\n",
    "outcomes = coin_toss(n_flips=20,outcomes=outcomes)\n",
    "plot_pmf_vs_hist(outcomes)"
   ]
  },
  {
   "cell_type": "code",
   "execution_count": 47,
   "metadata": {
    "ExecuteTime": {
     "end_time": "2020-01-12T21:53:30.357581Z",
     "start_time": "2020-01-12T21:53:30.071254Z"
    }
   },
   "outputs": [
    {
     "name": "stdout",
     "output_type": "stream",
     "text": [
      "Toss 0: \tH\n",
      "Toss 1: \tT\n",
      "Toss 2: \tH\n",
      "Toss 3: \tH\n",
      "Toss 4: \tH\n",
      "Toss 5: \tT\n",
      "Toss 6: \tT\n",
      "Toss 7: \tT\n",
      "Toss 8: \tH\n",
      "Toss 9: \tH\n",
      "Toss 10: \tH\n",
      "Toss 11: \tH\n",
      "Toss 12: \tH\n",
      "Toss 13: \tH\n",
      "Toss 14: \tH\n",
      "Toss 15: \tH\n",
      "Toss 16: \tT\n",
      "Toss 17: \tH\n",
      "Toss 18: \tT\n",
      "Toss 19: \tT\n",
      "Toss 20: \tH\n",
      "Toss 21: \tT\n",
      "Toss 22: \tH\n",
      "Toss 23: \tH\n",
      "Toss 24: \tH\n",
      "Toss 25: \tT\n",
      "Toss 26: \tH\n",
      "Toss 27: \tH\n",
      "Toss 28: \tT\n",
      "Toss 29: \tT\n",
      "Toss 30: \tH\n",
      "Toss 31: \tT\n",
      "Toss 32: \tH\n",
      "Toss 33: \tH\n",
      "Toss 34: \tT\n",
      "Toss 35: \tH\n",
      "Toss 36: \tH\n",
      "Toss 37: \tT\n",
      "Toss 38: \tT\n",
      "Toss 39: \tT\n",
      "Toss 40: \tT\n",
      "Toss 41: \tH\n",
      "Toss 42: \tH\n",
      "Toss 43: \tT\n",
      "Toss 44: \tH\n",
      "Toss 45: \tH\n",
      "Toss 46: \tH\n",
      "Toss 47: \tT\n",
      "Toss 48: \tT\n",
      "Toss 49: \tT\n",
      "Toss 50: \tT\n",
      "Toss 51: \tH\n",
      "Toss 52: \tH\n",
      "Toss 53: \tT\n",
      "Toss 54: \tT\n",
      "Toss 55: \tT\n",
      "Toss 56: \tH\n",
      "Toss 57: \tH\n",
      "Toss 58: \tH\n",
      "Toss 59: \tH\n",
      "Toss 60: \tT\n",
      "Toss 61: \tT\n",
      "Toss 62: \tT\n",
      "Toss 63: \tT\n",
      "Toss 64: \tH\n",
      "Toss 65: \tT\n",
      "Toss 66: \tH\n",
      "Toss 67: \tH\n",
      "Toss 68: \tH\n",
      "Toss 69: \tT\n",
      "Toss 70: \tH\n",
      "Toss 71: \tH\n",
      "Toss 72: \tT\n",
      "Toss 73: \tT\n",
      "Toss 74: \tH\n",
      "Toss 75: \tH\n",
      "Toss 76: \tH\n",
      "Toss 77: \tT\n",
      "Toss 78: \tH\n",
      "Toss 79: \tH\n",
      "Toss 80: \tT\n",
      "Toss 81: \tH\n",
      "Toss 82: \tT\n",
      "Toss 83: \tH\n",
      "Toss 84: \tH\n",
      "Toss 85: \tH\n",
      "Toss 86: \tT\n",
      "Toss 87: \tT\n",
      "Toss 88: \tT\n",
      "Toss 89: \tT\n",
      "Toss 90: \tH\n",
      "Toss 91: \tT\n",
      "Toss 92: \tT\n",
      "Toss 93: \tH\n",
      "Toss 94: \tH\n",
      "Toss 95: \tT\n",
      "Toss 96: \tH\n",
      "Toss 97: \tH\n",
      "Toss 98: \tT\n",
      "Toss 99: \tH\n",
      "Toss 100: \tH\n",
      "Toss 101: \tT\n",
      "Toss 102: \tH\n",
      "Toss 103: \tT\n",
      "Toss 104: \tT\n",
      "Toss 105: \tH\n",
      "Toss 106: \tT\n",
      "Toss 107: \tH\n",
      "Toss 108: \tH\n",
      "Toss 109: \tH\n",
      "Toss 110: \tT\n",
      "Toss 111: \tT\n",
      "Toss 112: \tH\n",
      "Toss 113: \tH\n",
      "Toss 114: \tT\n",
      "Toss 115: \tH\n",
      "Toss 116: \tH\n",
      "Toss 117: \tT\n",
      "Toss 118: \tH\n",
      "Toss 119: \tH\n",
      "Toss 120: \tH\n",
      "Toss 121: \tH\n",
      "Toss 122: \tT\n",
      "Toss 123: \tH\n",
      "Toss 124: \tH\n",
      "Toss 125: \tH\n",
      "Toss 126: \tT\n",
      "Toss 127: \tT\n",
      "Toss 128: \tT\n",
      "Toss 129: \tT\n",
      "Toss 130: \tT\n",
      "Toss 131: \tH\n",
      "Toss 132: \tT\n",
      "Toss 133: \tT\n",
      "Toss 134: \tH\n",
      "Toss 135: \tT\n",
      "Toss 136: \tH\n",
      "Toss 137: \tT\n",
      "Toss 138: \tH\n",
      "Toss 139: \tH\n",
      "Toss 140: \tH\n",
      "Toss 141: \tT\n",
      "Toss 142: \tH\n",
      "Toss 143: \tT\n",
      "Toss 144: \tH\n",
      "Toss 145: \tT\n",
      "Toss 146: \tH\n",
      "Toss 147: \tT\n",
      "Toss 148: \tH\n",
      "Toss 149: \tT\n",
      "Toss 150: \tT\n",
      "Toss 151: \tH\n",
      "Toss 152: \tT\n",
      "Toss 153: \tH\n",
      "Toss 154: \tH\n",
      "Toss 155: \tH\n",
      "Toss 156: \tH\n",
      "Toss 157: \tT\n",
      "Toss 158: \tH\n",
      "Toss 159: \tH\n",
      "Toss 160: \tT\n",
      "Toss 161: \tH\n",
      "Toss 162: \tH\n",
      "Toss 163: \tT\n",
      "Toss 164: \tH\n",
      "Toss 165: \tT\n",
      "Toss 166: \tT\n",
      "Toss 167: \tT\n",
      "Toss 168: \tT\n",
      "Toss 169: \tH\n",
      "Toss 170: \tT\n",
      "Toss 171: \tT\n",
      "Toss 172: \tH\n",
      "Toss 173: \tT\n",
      "Toss 174: \tH\n",
      "Toss 175: \tH\n",
      "Toss 176: \tT\n",
      "Toss 177: \tT\n",
      "Toss 178: \tH\n",
      "Toss 179: \tT\n",
      "Toss 180: \tT\n",
      "Toss 181: \tT\n",
      "Toss 182: \tT\n",
      "Toss 183: \tT\n",
      "Toss 184: \tH\n",
      "Toss 185: \tH\n",
      "Toss 186: \tT\n",
      "Toss 187: \tT\n",
      "Toss 188: \tH\n",
      "Toss 189: \tH\n",
      "Toss 190: \tH\n",
      "Toss 191: \tT\n",
      "Toss 192: \tT\n",
      "Toss 193: \tH\n",
      "Toss 194: \tT\n",
      "Toss 195: \tT\n",
      "Toss 196: \tT\n",
      "Toss 197: \tH\n",
      "Toss 198: \tT\n",
      "Toss 199: \tH\n"
     ]
    },
    {
     "data": {
      "text/plain": [
       "(<Figure size 864x288 with 2 Axes>,\n",
       " array([<matplotlib.axes._subplots.AxesSubplot object at 0x1a23320b70>,\n",
       "        <matplotlib.axes._subplots.AxesSubplot object at 0x1a23343cf8>],\n",
       "       dtype=object))"
      ]
     },
     "execution_count": 47,
     "metadata": {},
     "output_type": "execute_result"
    },
    {
     "data": {
      "image/png": "[encoded data removed]",
      "text/plain": [
       "<Figure size 864x288 with 2 Axes>"
      ]
     },
     "metadata": {
      "needs_background": "light"
     },
     "output_type": "display_data"
    }
   ],
   "source": [
    "#cell\n",
    "outcomes = coin_toss(n_flips=200,outcomes=outcomes)\n",
    "plot_pmf_vs_hist(outcomes)\n"
   ]
  },
  {
   "cell_type": "markdown",
   "metadata": {
    "ExecuteTime": {
     "end_time": "2020-01-09T22:23:40.299352Z",
     "start_time": "2020-01-09T22:23:40.296088Z"
    }
   },
   "source": [
    "## Updated Code"
   ]
  },
  {
   "cell_type": "code",
   "execution_count": 48,
   "metadata": {
    "ExecuteTime": {
     "end_time": "2020-01-12T21:53:30.521500Z",
     "start_time": "2020-01-12T21:53:30.359170Z"
    }
   },
   "outputs": [
    {
     "ename": "NameError",
     "evalue": "name 'stop' is not defined",
     "output_type": "error",
     "traceback": [
      "\u001b[0;31m---------------------------------------------------------------------------\u001b[0m",
      "\u001b[0;31mNameError\u001b[0m                                 Traceback (most recent call last)",
      "\u001b[0;32m<ipython-input-48-4f76a9dad686>\u001b[0m in \u001b[0;36m<module>\u001b[0;34m\u001b[0m\n\u001b[0;32m----> 1\u001b[0;31m \u001b[0mstop\u001b[0m\u001b[0;34m\u001b[0m\u001b[0;34m\u001b[0m\u001b[0m\n\u001b[0m",
      "\u001b[0;31mNameError\u001b[0m: name 'stop' is not defined"
     ]
    }
   ],
   "source": [
    "stop"
   ]
  },
  {
   "cell_type": "markdown",
   "metadata": {
    "ExecuteTime": {
     "start_time": "2020-01-12T19:44:31.528Z"
    }
   },
   "source": [
    "### Flipping a coin"
   ]
  },
  {
   "cell_type": "code",
   "execution_count": 50,
   "metadata": {
    "ExecuteTime": {
     "end_time": "2020-01-12T22:30:32.740055Z",
     "start_time": "2020-01-12T22:30:32.590240Z"
    },
    "scrolled": true
   },
   "outputs": [
    {
     "data": {
      "text/html": [
       "<style  type=\"text/css\" >\n",
       "</style><table id=\"T_2519586c_358b_11ea_82f7_acde48001122\" ><caption>Current Variables by Size in Memory</caption><thead>    <tr>        <th class=\"blank level0\" ></th>        <th class=\"col_heading level0 col0\" >type</th>        <th class=\"col_heading level0 col1\" >size</th>    </tr>    <tr>        <th class=\"index_name level0\" >variable</th>        <th class=\"blank\" ></th>        <th class=\"blank\" ></th>    </tr></thead><tbody>\n",
       "                <tr>\n",
       "                        <th id=\"T_2519586c_358b_11ea_82f7_acde48001122level0_row0\" class=\"row_heading level0 row0\" >df_house_party</th>\n",
       "                        <td id=\"T_2519586c_358b_11ea_82f7_acde48001122row0_col0\" class=\"data row0 col0\" >DataFrame</td>\n",
       "                        <td id=\"T_2519586c_358b_11ea_82f7_acde48001122row0_col1\" class=\"data row0 col1\" >10639</td>\n",
       "            </tr>\n",
       "            <tr>\n",
       "                        <th id=\"T_2519586c_358b_11ea_82f7_acde48001122level0_row1\" class=\"row_heading level0 row1\" >df</th>\n",
       "                        <td id=\"T_2519586c_358b_11ea_82f7_acde48001122row1_col0\" class=\"data row1 col0\" >DataFrame</td>\n",
       "                        <td id=\"T_2519586c_358b_11ea_82f7_acde48001122row1_col1\" class=\"data row1 col1\" >3618</td>\n",
       "            </tr>\n",
       "            <tr>\n",
       "                        <th id=\"T_2519586c_358b_11ea_82f7_acde48001122level0_row2\" class=\"row_heading level0 row2\" >v</th>\n",
       "                        <td id=\"T_2519586c_358b_11ea_82f7_acde48001122row2_col0\" class=\"data row2 col0\" >DataFrame</td>\n",
       "                        <td id=\"T_2519586c_358b_11ea_82f7_acde48001122row2_col1\" class=\"data row2 col1\" >2275</td>\n",
       "            </tr>\n",
       "            <tr>\n",
       "                        <th id=\"T_2519586c_358b_11ea_82f7_acde48001122level0_row3\" class=\"row_heading level0 row3\" >outcomes</th>\n",
       "                        <td id=\"T_2519586c_358b_11ea_82f7_acde48001122row3_col0\" class=\"data row3 col0\" >list</td>\n",
       "                        <td id=\"T_2519586c_358b_11ea_82f7_acde48001122row3_col1\" class=\"data row3 col1\" >2216</td>\n",
       "            </tr>\n",
       "            <tr>\n",
       "                        <th id=\"T_2519586c_358b_11ea_82f7_acde48001122level0_row4\" class=\"row_heading level0 row4\" >Counter</th>\n",
       "                        <td id=\"T_2519586c_358b_11ea_82f7_acde48001122row4_col0\" class=\"data row4 col0\" >class</td>\n",
       "                        <td id=\"T_2519586c_358b_11ea_82f7_acde48001122row4_col1\" class=\"data row4 col1\" >1056</td>\n",
       "            </tr>\n",
       "            <tr>\n",
       "                        <th id=\"T_2519586c_358b_11ea_82f7_acde48001122level0_row5\" class=\"row_heading level0 row5\" >df_james_recs</th>\n",
       "                        <td id=\"T_2519586c_358b_11ea_82f7_acde48001122row5_col0\" class=\"data row5 col0\" >DataFrame</td>\n",
       "                        <td id=\"T_2519586c_358b_11ea_82f7_acde48001122row5_col1\" class=\"data row5 col1\" >991</td>\n",
       "            </tr>\n",
       "            <tr>\n",
       "                        <th id=\"T_2519586c_358b_11ea_82f7_acde48001122level0_row6\" class=\"row_heading level0 row6\" >df_joe_recs</th>\n",
       "                        <td id=\"T_2519586c_358b_11ea_82f7_acde48001122row6_col0\" class=\"data row6 col0\" >DataFrame</td>\n",
       "                        <td id=\"T_2519586c_358b_11ea_82f7_acde48001122row6_col1\" class=\"data row6 col1\" >928</td>\n",
       "            </tr>\n",
       "            <tr>\n",
       "                        <th id=\"T_2519586c_358b_11ea_82f7_acde48001122level0_row7\" class=\"row_heading level0 row7\" >df_samantha_recs</th>\n",
       "                        <td id=\"T_2519586c_358b_11ea_82f7_acde48001122row7_col0\" class=\"data row7 col0\" >DataFrame</td>\n",
       "                        <td id=\"T_2519586c_358b_11ea_82f7_acde48001122row7_col1\" class=\"data row7 col1\" >777</td>\n",
       "            </tr>\n",
       "            <tr>\n",
       "                        <th id=\"T_2519586c_358b_11ea_82f7_acde48001122level0_row8\" class=\"row_heading level0 row8\" >df_anne_recs</th>\n",
       "                        <td id=\"T_2519586c_358b_11ea_82f7_acde48001122row8_col0\" class=\"data row8 col0\" >DataFrame</td>\n",
       "                        <td id=\"T_2519586c_358b_11ea_82f7_acde48001122row8_col1\" class=\"data row8 col1\" >771</td>\n",
       "            </tr>\n",
       "            <tr>\n",
       "                        <th id=\"T_2519586c_358b_11ea_82f7_acde48001122level0_row9\" class=\"row_heading level0 row9\" >df_john_recs</th>\n",
       "                        <td id=\"T_2519586c_358b_11ea_82f7_acde48001122row9_col0\" class=\"data row9 col0\" >DataFrame</td>\n",
       "                        <td id=\"T_2519586c_358b_11ea_82f7_acde48001122row9_col1\" class=\"data row9 col1\" >751</td>\n",
       "            </tr>\n",
       "    </tbody></table>"
      ],
      "text/plain": [
       "<pandas.io.formats.style.Styler at 0x1a22a37438>"
      ]
     },
     "metadata": {},
     "output_type": "display_data"
    },
    {
     "name": "stdout",
     "output_type": "stream",
     "text": [
      "#[i] set `print_names=True` for var names to copy/paste.\n",
      "---------------------------------------------\n"
     ]
    }
   ],
   "source": [
    "fs.ds.inspect_variables(locals())\n",
    "# del outcomes,v"
   ]
  },
  {
   "cell_type": "markdown",
   "metadata": {
    "heading_collapsed": true
   },
   "source": [
    "### ~~Maybe make new coin toss that uses closures?~~"
   ]
  },
  {
   "cell_type": "code",
   "execution_count": null,
   "metadata": {
    "ExecuteTime": {
     "end_time": "2020-01-12T21:53:30.524451Z",
     "start_time": "2020-01-12T21:53:24.798Z"
    },
    "hidden": true
   },
   "outputs": [],
   "source": [
    "# from collections import Counter\n",
    "\n",
    "# def coin_toss_new(n_flips=10,outcomes=None,verbose=True,\n",
    "#               plot_outcomes=True):\n",
    "#     from functools import wraps\n",
    "#     if outcomes is None:\n",
    "#         outcomes = []    \n",
    "#     @wraps(coin_toss_new)    \n",
    "#     def inner(*args,**kwargs):\n",
    "\n",
    "#         for toss in range(n_flips):\n",
    "#             result = 'H' if np.random.random() >0.5 else 'T'\n",
    "#             outcomes.append(result)\n",
    "\n",
    "#             if verbose: print(f\"Toss {toss}: \\t{result}\")\n",
    "\n",
    "#         if plot_outcomes:\n",
    "#             fig,ax = plot_outcomes(outcomes)\n",
    "#         return outcomes\n",
    "#     return inner\n",
    "# coin = coin_toss_new(5})\n",
    "    \n",
    "#     #     else:        \n",
    "#     #         counter = Counter(outcomes)\n",
    "#     #         return counter"
   ]
  },
  {
   "cell_type": "markdown",
   "metadata": {},
   "source": [
    "## Make new plot_outcomes which uses only local vars"
   ]
  },
  {
   "cell_type": "code",
   "execution_count": 51,
   "metadata": {
    "ExecuteTime": {
     "end_time": "2020-01-12T22:30:44.218013Z",
     "start_time": "2020-01-12T22:30:44.215578Z"
    }
   },
   "outputs": [],
   "source": [
    "# from collections import Counter\n",
    "\n",
    "# def coin_toss_new(n_flips=10,outcomes=None,verbose=True,\n",
    "#               plot_outcomes=True):\n",
    "#     if outcomes is None:\n",
    "#         outcomes = []\n",
    "    \n",
    "#     for toss in range(n_flips):\n",
    "#         result = 'H' if np.random.random() >0.5 else 'T'\n",
    "#         outcomes.append(result)\n",
    "        \n",
    "#         if verbose: print(f\"Toss {toss}: \\t{result}\")\n",
    "            \n",
    "#     if plot_outcomes:\n",
    "#         fig,ax = plot_outcomes(outcomes)\n",
    "#     return outcomes\n",
    "# #     else:        \n",
    "# #         counter = Counter(outcomes)\n",
    "# #         return counter"
   ]
  },
  {
   "cell_type": "code",
   "execution_count": 52,
   "metadata": {
    "ExecuteTime": {
     "end_time": "2020-01-12T22:30:46.801384Z",
     "start_time": "2020-01-12T22:30:46.798736Z"
    }
   },
   "outputs": [],
   "source": [
    "# def plot_outcomes(outcomes):\n",
    "    \n",
    "#     from collections import Counter\n",
    "#     if isinstance(outcomes,list):\n",
    "#         from collections import Counter\n",
    "#         counter = Counter(outcomes)\n",
    "        \n",
    "#     if isinstance(outcomes,Counter):\n",
    "#         counter = outcomes.copy()\n",
    "    \n",
    "#     OUTCOMES = list(counter.elements())\n",
    "    \n",
    "#     fig,ax=plt.subplots(ncols=2,figsize=(12,4))\n",
    "    \n",
    "#     pmf = [] \n",
    "#     for k,v in counter.items():\n",
    "#         pmf.append(round(v/len(outcomes),3))\n",
    "\n",
    "\n",
    "#     ax[0].bar(counter.keys(),pmf)\n",
    "#     ax[0].set(title=f'PMF (sum={np.sum(pmf)})',ylabel='Frequency',xlabel='Outcomes')\n",
    "    \n",
    "#     #try:\n",
    "#     ax[1].hist(OUTCOMES)#counter.keys(),counter.values())\n",
    "#     ax[1].set(title=f'Histogram (sum={sum(counter.values())})',ylabel='Counts',xlabel='Outcomes')\n",
    "# #     except Exception as e:\n",
    "# #         print(type(OUTCOMES),OUTCOMES)\n",
    "# #         raise e\n",
    "        \n",
    "    \n",
    "#     plt.tight_layout()\n",
    "#     plt.show()\n",
    "#     return fig,ax"
   ]
  },
  {
   "cell_type": "code",
   "execution_count": 53,
   "metadata": {
    "ExecuteTime": {
     "end_time": "2020-01-12T22:30:52.614204Z",
     "start_time": "2020-01-12T22:30:52.612228Z"
    }
   },
   "outputs": [],
   "source": [
    "# len(list(counter.elements()))\n",
    "# sum(counter.values())"
   ]
  },
  {
   "cell_type": "code",
   "execution_count": 54,
   "metadata": {
    "ExecuteTime": {
     "end_time": "2020-01-12T22:30:54.747367Z",
     "start_time": "2020-01-12T22:30:54.745398Z"
    }
   },
   "outputs": [],
   "source": [
    "# outcomes=[]\n",
    "# # outcomes = coin_toss_new(n_flips=5,outcomes=outcomes)\n",
    "# outcomes = coin_toss(n_flips=10, outcomes=outcomes)\n",
    "# plot_outcomes(outcomes)"
   ]
  },
  {
   "cell_type": "code",
   "execution_count": null,
   "metadata": {
    "ExecuteTime": {
     "end_time": "2020-01-12T21:53:30.530696Z",
     "start_time": "2020-01-12T21:53:24.813Z"
    }
   },
   "outputs": [],
   "source": [
    "# def plot_pmf_vs_hist(counter):\n",
    "#     if isinstance(counter,list):\n",
    "#         from collections import Counter\n",
    "#         counter = Counter(counter)\n",
    "\n",
    "#     fig,ax=plt.subplots(ncols=2,figsize=(12,4))\n",
    "    \n",
    "#     outcomes =list(counter.elements())\n",
    "\n",
    "#     pmf = [] \n",
    "#     for k,v in counter.items():\n",
    "#         pmf.append(round(v/len(outcomes),3))\n",
    "\n",
    "\n",
    "#     ax[0].bar(counter.keys(),pmf)\n",
    "#     ax[0].set(title=f'PMF (sum={np.sum(pmf)})',ylabel='Frequency',xlabel='Outcomes')\n",
    "    \n",
    "    \n",
    "#     ax[1].hist(list(counter.elements()))#counter.keys(),counter.values())\n",
    "#     ax[1].set(title=f'Histogram (sum={np.sum(list(counter.values()))})',ylabel='Counts',xlabel='Outcomes')\n",
    "    \n",
    "#     plt.tight_layout()\n",
    "#     plt.show()\n",
    "#     return fig,ax"
   ]
  },
  {
   "cell_type": "code",
   "execution_count": null,
   "metadata": {
    "ExecuteTime": {
     "end_time": "2020-01-12T21:53:30.531761Z",
     "start_time": "2020-01-12T21:53:24.817Z"
    }
   },
   "outputs": [],
   "source": [
    "outcomes=[]\n",
    "outcomes = coin_toss_new(n_flips=5,outcomes=outcomes,plot_outcomes=False)"
   ]
  },
  {
   "cell_type": "code",
   "execution_count": null,
   "metadata": {
    "ExecuteTime": {
     "end_time": "2020-01-12T21:53:30.533121Z",
     "start_time": "2020-01-12T21:53:24.820Z"
    }
   },
   "outputs": [],
   "source": [
    "counter= Counter(outcomes)\n",
    "counter"
   ]
  },
  {
   "cell_type": "code",
   "execution_count": null,
   "metadata": {
    "ExecuteTime": {
     "end_time": "2020-01-12T21:53:30.534853Z",
     "start_time": "2020-01-12T21:53:24.827Z"
    }
   },
   "outputs": [],
   "source": [
    "plot_pmf_vs_hist(counter), plot_pmf_vs_hist(outcomes)"
   ]
  },
  {
   "cell_type": "code",
   "execution_count": null,
   "metadata": {
    "ExecuteTime": {
     "end_time": "2020-01-12T21:53:30.535850Z",
     "start_time": "2020-01-12T21:53:24.830Z"
    }
   },
   "outputs": [],
   "source": [
    "type(outcomes)"
   ]
  },
  {
   "cell_type": "code",
   "execution_count": null,
   "metadata": {},
   "outputs": [],
   "source": []
  },
  {
   "cell_type": "code",
   "execution_count": null,
   "metadata": {
    "ExecuteTime": {
     "end_time": "2020-01-12T21:53:30.537644Z",
     "start_time": "2020-01-12T21:53:24.835Z"
    }
   },
   "outputs": [],
   "source": [
    "outcomes = coin_toss(n_flips=12,outcomes=outcomes)\n",
    "plot_pmf_vs_hist(outcomes)"
   ]
  },
  {
   "cell_type": "code",
   "execution_count": null,
   "metadata": {
    "ExecuteTime": {
     "end_time": "2020-01-12T21:53:30.538613Z",
     "start_time": "2020-01-12T21:53:24.838Z"
    }
   },
   "outputs": [],
   "source": [
    "# outcomes = coin_toss(n_flips=21,outcomes=outcomes)\n",
    "# plot_pmf_vs_hist(outcomes)"
   ]
  },
  {
   "cell_type": "code",
   "execution_count": null,
   "metadata": {
    "ExecuteTime": {
     "end_time": "2020-01-12T21:53:30.539908Z",
     "start_time": "2020-01-12T21:53:24.841Z"
    }
   },
   "outputs": [],
   "source": [
    "# outcomes = coin_toss(n_flips=20,outcomes=outcomes)\n",
    "# plot_pmf_vs_hist(outcomes)"
   ]
  },
  {
   "cell_type": "code",
   "execution_count": null,
   "metadata": {
    "ExecuteTime": {
     "end_time": "2020-01-12T21:53:30.542321Z",
     "start_time": "2020-01-12T21:53:24.844Z"
    },
    "scrolled": false
   },
   "outputs": [],
   "source": [
    "outcomes = coin_toss(n_flips=200,outcomes=outcomes)\n",
    "plot_pmf_vs_hist(outcomes)"
   ]
  },
  {
   "cell_type": "code",
   "execution_count": null,
   "metadata": {
    "ExecuteTime": {
     "end_time": "2020-01-12T21:53:30.543661Z",
     "start_time": "2020-01-12T21:53:24.847Z"
    }
   },
   "outputs": [],
   "source": [
    "outcomes[:20]"
   ]
  },
  {
   "cell_type": "markdown",
   "metadata": {},
   "source": [
    "# For Next Time:\n",
    "- Get vocab straight for dists\n",
    "- Interpolation"
   ]
  },
  {
   "cell_type": "code",
   "execution_count": null,
   "metadata": {},
   "outputs": [],
   "source": []
  },
  {
   "cell_type": "code",
   "execution_count": null,
   "metadata": {},
   "outputs": [],
   "source": []
  }
 ],
 "metadata": {
  "colab": {
   "collapsed_sections": [],
   "name": "sect_17_prob_&_comb.ipynb",
   "provenance": []
  },
  "kernelspec": {
   "display_name": "Python [conda env:learn-env] *",
   "language": "python",
   "name": "conda-env-learn-env-py"
  },
  "language_info": {
   "codemirror_mode": {
    "name": "ipython",
    "version": 3
   },
   "file_extension": ".py",
   "mimetype": "text/x-python",
   "name": "python",
   "nbconvert_exporter": "python",
   "pygments_lexer": "ipython3",
   "version": "3.6.9"
  },
  "toc": {
   "base_numbering": 1,
   "nav_menu": {},
   "number_sections": true,
   "sideBar": true,
   "skip_h1_title": false,
   "title_cell": "Table of Contents",
   "title_sidebar": "Contents",
   "toc_cell": false,
   "toc_position": {
    "height": "508px",
    "left": "54px",
    "top": "110px",
    "width": "425.764px"
   },
   "toc_section_display": true,
   "toc_window_display": true
  },
  "varInspector": {
   "cols": {
    "lenName": 16,
    "lenType": 16,
    "lenVar": 40
   },
   "kernels_config": {
    "python": {
     "delete_cmd_postfix": "",
     "delete_cmd_prefix": "del ",
     "library": "var_list.py",
     "varRefreshCmd": "print(var_dic_list())"
    },
    "r": {
     "delete_cmd_postfix": ") ",
     "delete_cmd_prefix": "rm(",
     "library": "var_list.r",
     "varRefreshCmd": "cat(var_dic_list()) "
    }
   },
   "types_to_exclude": [
    "module",
    "function",
    "builtin_function_or_method",
    "instance",
    "_Feature"
   ],
   "window_display": false
  }
 },
 "nbformat": 4,
 "nbformat_minor": 1
}
