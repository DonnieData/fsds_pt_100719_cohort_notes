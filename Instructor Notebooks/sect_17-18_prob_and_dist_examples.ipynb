{
 "cells": [
  {
   "cell_type": "markdown",
   "metadata": {},
   "source": [
    "# From Sect 17-Part 2 to Sect 18 - Part 1 - Code Examples\n"
   ]
  },
  {
   "cell_type": "markdown",
   "metadata": {},
   "source": [
    "Extracted from:\n",
    "online-ds-pt-100719 study group from \n",
    "01/09/2020"
   ]
  },
  {
   "cell_type": "markdown",
   "metadata": {
    "colab_type": "text",
    "id": "MJZRe34uX9qJ"
   },
   "source": [
    "## Learning Objectives\n",
    "\n",
    "- Quickly review sets/combinations/permutations (10-15 min max)\n",
    "\n",
    "- Revisit probability and how its calculated. (5-10 min)\n",
    "- Understand conditional probability and disjointed events.\n",
    "- Understand the Law of Total Probability \n"
   ]
  },
  {
   "cell_type": "markdown",
   "metadata": {},
   "source": [
    "## Questions:\n",
    "- Breaking down interpolation - Lab (will get to next class)"
   ]
  },
  {
   "cell_type": "code",
   "execution_count": 1,
   "metadata": {
    "ExecuteTime": {
     "end_time": "2020-01-12T04:22:40.141436Z",
     "start_time": "2020-01-12T04:22:37.373589Z"
    }
   },
   "outputs": [
    {
     "name": "stdout",
     "output_type": "stream",
     "text": [
      "fsds_1007219  v0.6.4 loaded.  Read the docs: https://fsds.readthedocs.io/en/latest/ \n"
     ]
    },
    {
     "data": {
      "text/html": [
       "<style  type=\"text/css\" >\n",
       "</style><table id=\"T_2b97aa62_34f3_11ea_b38d_acde48001122\" ><caption>Loaded Packages and Handles</caption><thead>    <tr>        <th class=\"col_heading level0 col0\" >Handle</th>        <th class=\"col_heading level0 col1\" >Package</th>        <th class=\"col_heading level0 col2\" >Description</th>    </tr></thead><tbody>\n",
       "                <tr>\n",
       "                                <td id=\"T_2b97aa62_34f3_11ea_b38d_acde48001122row0_col0\" class=\"data row0 col0\" >dp</td>\n",
       "                        <td id=\"T_2b97aa62_34f3_11ea_b38d_acde48001122row0_col1\" class=\"data row0 col1\" >IPython.display</td>\n",
       "                        <td id=\"T_2b97aa62_34f3_11ea_b38d_acde48001122row0_col2\" class=\"data row0 col2\" >Display modules with helpful display and clearing commands.</td>\n",
       "            </tr>\n",
       "            <tr>\n",
       "                                <td id=\"T_2b97aa62_34f3_11ea_b38d_acde48001122row1_col0\" class=\"data row1 col0\" >fs</td>\n",
       "                        <td id=\"T_2b97aa62_34f3_11ea_b38d_acde48001122row1_col1\" class=\"data row1 col1\" >fsds_100719</td>\n",
       "                        <td id=\"T_2b97aa62_34f3_11ea_b38d_acde48001122row1_col2\" class=\"data row1 col2\" >Custom data science bootcamp student package</td>\n",
       "            </tr>\n",
       "            <tr>\n",
       "                                <td id=\"T_2b97aa62_34f3_11ea_b38d_acde48001122row2_col0\" class=\"data row2 col0\" >mpl</td>\n",
       "                        <td id=\"T_2b97aa62_34f3_11ea_b38d_acde48001122row2_col1\" class=\"data row2 col1\" >matplotlib</td>\n",
       "                        <td id=\"T_2b97aa62_34f3_11ea_b38d_acde48001122row2_col2\" class=\"data row2 col2\" >Matplotlib's base OOP module with formatting artists</td>\n",
       "            </tr>\n",
       "            <tr>\n",
       "                                <td id=\"T_2b97aa62_34f3_11ea_b38d_acde48001122row3_col0\" class=\"data row3 col0\" >plt</td>\n",
       "                        <td id=\"T_2b97aa62_34f3_11ea_b38d_acde48001122row3_col1\" class=\"data row3 col1\" >matplotlib.pyplot</td>\n",
       "                        <td id=\"T_2b97aa62_34f3_11ea_b38d_acde48001122row3_col2\" class=\"data row3 col2\" >Matplotlib's matlab-like plotting module</td>\n",
       "            </tr>\n",
       "            <tr>\n",
       "                                <td id=\"T_2b97aa62_34f3_11ea_b38d_acde48001122row4_col0\" class=\"data row4 col0\" >np</td>\n",
       "                        <td id=\"T_2b97aa62_34f3_11ea_b38d_acde48001122row4_col1\" class=\"data row4 col1\" >numpy</td>\n",
       "                        <td id=\"T_2b97aa62_34f3_11ea_b38d_acde48001122row4_col2\" class=\"data row4 col2\" >scientific computing with Python</td>\n",
       "            </tr>\n",
       "            <tr>\n",
       "                                <td id=\"T_2b97aa62_34f3_11ea_b38d_acde48001122row5_col0\" class=\"data row5 col0\" >pd</td>\n",
       "                        <td id=\"T_2b97aa62_34f3_11ea_b38d_acde48001122row5_col1\" class=\"data row5 col1\" >pandas</td>\n",
       "                        <td id=\"T_2b97aa62_34f3_11ea_b38d_acde48001122row5_col2\" class=\"data row5 col2\" >High performance data structures and tools</td>\n",
       "            </tr>\n",
       "            <tr>\n",
       "                                <td id=\"T_2b97aa62_34f3_11ea_b38d_acde48001122row6_col0\" class=\"data row6 col0\" >sns</td>\n",
       "                        <td id=\"T_2b97aa62_34f3_11ea_b38d_acde48001122row6_col1\" class=\"data row6 col1\" >seaborn</td>\n",
       "                        <td id=\"T_2b97aa62_34f3_11ea_b38d_acde48001122row6_col2\" class=\"data row6 col2\" >High-level data visualization library based on matplotlib</td>\n",
       "            </tr>\n",
       "    </tbody></table>"
      ],
      "text/plain": [
       "<pandas.io.formats.style.Styler at 0x1a1f40cd68>"
      ]
     },
     "metadata": {},
     "output_type": "display_data"
    }
   ],
   "source": [
    "!pip install -U fsds_100719\n",
    "\n",
    "from math import factorial\n",
    "from fsds_100719.imports import *"
   ]
  },
  {
   "cell_type": "markdown",
   "metadata": {},
   "source": [
    "## PLAYLIST PERMUTATIONS (review)"
   ]
  },
  {
   "cell_type": "markdown",
   "metadata": {},
   "source": [
    "- We are constructing a dinner party playlist for a gathering we are planning. \n",
    "- We asked our attendees to each provide a handful of songs they would like to be played at the dinner party."
   ]
  },
  {
   "cell_type": "markdown",
   "metadata": {
    "ExecuteTime": {
     "end_time": "2020-01-06T22:53:10.213591Z",
     "start_time": "2020-01-06T22:53:10.211467Z"
    }
   },
   "source": [
    "### Playlist Permutations"
   ]
  },
  {
   "cell_type": "code",
   "execution_count": 2,
   "metadata": {
    "ExecuteTime": {
     "end_time": "2020-01-12T04:22:40.149907Z",
     "start_time": "2020-01-12T04:22:40.142779Z"
    }
   },
   "outputs": [
    {
     "data": {
      "text/html": [
       "<style  type=\"text/css\" >\n",
       "</style><table id=\"T_2b9a881e_34f3_11ea_87d1_acde48001122\" ><caption>JOHN</caption><thead>    <tr>        <th class=\"blank level0\" ></th>        <th class=\"col_heading level0 col0\" >artist</th>        <th class=\"col_heading level0 col1\" >track</th>        <th class=\"col_heading level0 col2\" >Recommended By</th>    </tr></thead><tbody>\n",
       "                <tr>\n",
       "                        <th id=\"T_2b9a881e_34f3_11ea_87d1_acde48001122level0_row0\" class=\"row_heading level0 row0\" >0</th>\n",
       "                        <td id=\"T_2b9a881e_34f3_11ea_87d1_acde48001122row0_col0\" class=\"data row0 col0\" >Black Eyed Peas</td>\n",
       "                        <td id=\"T_2b9a881e_34f3_11ea_87d1_acde48001122row0_col1\" class=\"data row0 col1\" >Let's Get it Started</td>\n",
       "                        <td id=\"T_2b9a881e_34f3_11ea_87d1_acde48001122row0_col2\" class=\"data row0 col2\" >John</td>\n",
       "            </tr>\n",
       "            <tr>\n",
       "                        <th id=\"T_2b9a881e_34f3_11ea_87d1_acde48001122level0_row1\" class=\"row_heading level0 row1\" >1</th>\n",
       "                        <td id=\"T_2b9a881e_34f3_11ea_87d1_acde48001122row1_col0\" class=\"data row1 col0\" >Lady GaGa</td>\n",
       "                        <td id=\"T_2b9a881e_34f3_11ea_87d1_acde48001122row1_col1\" class=\"data row1 col1\" >Poker Face</td>\n",
       "                        <td id=\"T_2b9a881e_34f3_11ea_87d1_acde48001122row1_col2\" class=\"data row1 col2\" >John</td>\n",
       "            </tr>\n",
       "            <tr>\n",
       "                        <th id=\"T_2b9a881e_34f3_11ea_87d1_acde48001122level0_row2\" class=\"row_heading level0 row2\" >2</th>\n",
       "                        <td id=\"T_2b9a881e_34f3_11ea_87d1_acde48001122row2_col0\" class=\"data row2 col0\" >Lady GaGa</td>\n",
       "                        <td id=\"T_2b9a881e_34f3_11ea_87d1_acde48001122row2_col1\" class=\"data row2 col1\" >Bad Romance</td>\n",
       "                        <td id=\"T_2b9a881e_34f3_11ea_87d1_acde48001122row2_col2\" class=\"data row2 col2\" >John</td>\n",
       "            </tr>\n",
       "    </tbody></table>"
      ],
      "text/plain": [
       "<pandas.io.formats.style.Styler at 0x1a1fa4b828>"
      ]
     },
     "execution_count": 2,
     "metadata": {},
     "output_type": "execute_result"
    }
   ],
   "source": [
    "john_recs = [['artist','track']]\n",
    "john_recs.append(['Black Eyed Peas',\"Let's Get it Started\"])\n",
    "john_recs.append(['Lady GaGa','Poker Face'])\n",
    "john_recs.append(['Lady GaGa','Bad Romance'])\n",
    "df_john_recs = pd.DataFrame(john_recs[1:],columns=john_recs[0])\n",
    "df_john_recs['Recommended By'] = 'John'\n",
    "df_john_recs.style.set_caption('JOHN')"
   ]
  },
  {
   "cell_type": "code",
   "execution_count": 3,
   "metadata": {
    "ExecuteTime": {
     "end_time": "2020-01-12T04:22:40.157713Z",
     "start_time": "2020-01-12T04:22:40.151453Z"
    }
   },
   "outputs": [
    {
     "data": {
      "text/html": [
       "<style  type=\"text/css\" >\n",
       "</style><table id=\"T_2b9bba92_34f3_11ea_be12_acde48001122\" ><caption>ANNE</caption><thead>    <tr>        <th class=\"blank level0\" ></th>        <th class=\"col_heading level0 col0\" >artist</th>        <th class=\"col_heading level0 col1\" >track</th>        <th class=\"col_heading level0 col2\" >Recommended By</th>    </tr></thead><tbody>\n",
       "                <tr>\n",
       "                        <th id=\"T_2b9bba92_34f3_11ea_be12_acde48001122level0_row0\" class=\"row_heading level0 row0\" >0</th>\n",
       "                        <td id=\"T_2b9bba92_34f3_11ea_be12_acde48001122row0_col0\" class=\"data row0 col0\" >Smashing Pumpkins</td>\n",
       "                        <td id=\"T_2b9bba92_34f3_11ea_be12_acde48001122row0_col1\" class=\"data row0 col1\" >Tonight, Tonight</td>\n",
       "                        <td id=\"T_2b9bba92_34f3_11ea_be12_acde48001122row0_col2\" class=\"data row0 col2\" >Anne</td>\n",
       "            </tr>\n",
       "            <tr>\n",
       "                        <th id=\"T_2b9bba92_34f3_11ea_be12_acde48001122level0_row1\" class=\"row_heading level0 row1\" >1</th>\n",
       "                        <td id=\"T_2b9bba92_34f3_11ea_be12_acde48001122row1_col0\" class=\"data row1 col0\" >Black Eyed Peas</td>\n",
       "                        <td id=\"T_2b9bba92_34f3_11ea_be12_acde48001122row1_col1\" class=\"data row1 col1\" >Let's Get it Started</td>\n",
       "                        <td id=\"T_2b9bba92_34f3_11ea_be12_acde48001122row1_col2\" class=\"data row1 col2\" >Anne</td>\n",
       "            </tr>\n",
       "            <tr>\n",
       "                        <th id=\"T_2b9bba92_34f3_11ea_be12_acde48001122level0_row2\" class=\"row_heading level0 row2\" >2</th>\n",
       "                        <td id=\"T_2b9bba92_34f3_11ea_be12_acde48001122row2_col0\" class=\"data row2 col0\" >Green Day</td>\n",
       "                        <td id=\"T_2b9bba92_34f3_11ea_be12_acde48001122row2_col1\" class=\"data row2 col1\" >Time of your Life</td>\n",
       "                        <td id=\"T_2b9bba92_34f3_11ea_be12_acde48001122row2_col2\" class=\"data row2 col2\" >Anne</td>\n",
       "            </tr>\n",
       "    </tbody></table>"
      ],
      "text/plain": [
       "<pandas.io.formats.style.Styler at 0x1a1fa4b978>"
      ]
     },
     "execution_count": 3,
     "metadata": {},
     "output_type": "execute_result"
    }
   ],
   "source": [
    "anne_recs = [['artist','track']]\n",
    "anne_recs.append(['Smashing Pumpkins','Tonight, Tonight'])\n",
    "anne_recs.append(['Black Eyed Peas',\"Let's Get it Started\"])\n",
    "anne_recs.append(['Green Day','Time of your Life'])\n",
    "\n",
    "df_anne_recs = pd.DataFrame(anne_recs[1:],columns=anne_recs[0])\n",
    "df_anne_recs['Recommended By'] = 'Anne'\n",
    "df_anne_recs.style.set_caption('ANNE')"
   ]
  },
  {
   "cell_type": "code",
   "execution_count": 4,
   "metadata": {
    "ExecuteTime": {
     "end_time": "2020-01-12T04:22:40.165753Z",
     "start_time": "2020-01-12T04:22:40.159177Z"
    }
   },
   "outputs": [
    {
     "data": {
      "text/html": [
       "<style  type=\"text/css\" >\n",
       "</style><table id=\"T_2b9cf4e8_34f3_11ea_81d8_acde48001122\" ><caption>JOE</caption><thead>    <tr>        <th class=\"blank level0\" ></th>        <th class=\"col_heading level0 col0\" >artist</th>        <th class=\"col_heading level0 col1\" >track</th>        <th class=\"col_heading level0 col2\" >Recommended By</th>    </tr></thead><tbody>\n",
       "                <tr>\n",
       "                        <th id=\"T_2b9cf4e8_34f3_11ea_81d8_acde48001122level0_row0\" class=\"row_heading level0 row0\" >0</th>\n",
       "                        <td id=\"T_2b9cf4e8_34f3_11ea_81d8_acde48001122row0_col0\" class=\"data row0 col0\" >Green Day</td>\n",
       "                        <td id=\"T_2b9cf4e8_34f3_11ea_81d8_acde48001122row0_col1\" class=\"data row0 col1\" >Time of your Life</td>\n",
       "                        <td id=\"T_2b9cf4e8_34f3_11ea_81d8_acde48001122row0_col2\" class=\"data row0 col2\" >Joe</td>\n",
       "            </tr>\n",
       "            <tr>\n",
       "                        <th id=\"T_2b9cf4e8_34f3_11ea_81d8_acde48001122level0_row1\" class=\"row_heading level0 row1\" >1</th>\n",
       "                        <td id=\"T_2b9cf4e8_34f3_11ea_81d8_acde48001122row1_col0\" class=\"data row1 col0\" >B-52s</td>\n",
       "                        <td id=\"T_2b9cf4e8_34f3_11ea_81d8_acde48001122row1_col1\" class=\"data row1 col1\" >Rock Lobster</td>\n",
       "                        <td id=\"T_2b9cf4e8_34f3_11ea_81d8_acde48001122row1_col2\" class=\"data row1 col2\" >Joe</td>\n",
       "            </tr>\n",
       "            <tr>\n",
       "                        <th id=\"T_2b9cf4e8_34f3_11ea_81d8_acde48001122level0_row2\" class=\"row_heading level0 row2\" >2</th>\n",
       "                        <td id=\"T_2b9cf4e8_34f3_11ea_81d8_acde48001122row2_col0\" class=\"data row2 col0\" >Lady GaGa</td>\n",
       "                        <td id=\"T_2b9cf4e8_34f3_11ea_81d8_acde48001122row2_col1\" class=\"data row2 col1\" >Poker Face</td>\n",
       "                        <td id=\"T_2b9cf4e8_34f3_11ea_81d8_acde48001122row2_col2\" class=\"data row2 col2\" >Joe</td>\n",
       "            </tr>\n",
       "            <tr>\n",
       "                        <th id=\"T_2b9cf4e8_34f3_11ea_81d8_acde48001122level0_row3\" class=\"row_heading level0 row3\" >3</th>\n",
       "                        <td id=\"T_2b9cf4e8_34f3_11ea_81d8_acde48001122row3_col0\" class=\"data row3 col0\" >John Lennon</td>\n",
       "                        <td id=\"T_2b9cf4e8_34f3_11ea_81d8_acde48001122row3_col1\" class=\"data row3 col1\" >Imagine</td>\n",
       "                        <td id=\"T_2b9cf4e8_34f3_11ea_81d8_acde48001122row3_col2\" class=\"data row3 col2\" >Joe</td>\n",
       "            </tr>\n",
       "    </tbody></table>"
      ],
      "text/plain": [
       "<pandas.io.formats.style.Styler at 0x1a1fa4b358>"
      ]
     },
     "execution_count": 4,
     "metadata": {},
     "output_type": "execute_result"
    }
   ],
   "source": [
    "joe_recs= [['artist','track']]\n",
    "joe_recs.append(['Green Day','Time of your Life'])\n",
    "joe_recs.append(['B-52s','Rock Lobster'])\n",
    "joe_recs.append(['Lady GaGa','Poker Face'])\n",
    "joe_recs.append(['John Lennon','Imagine'])\n",
    "\n",
    "df_joe_recs = pd.DataFrame(joe_recs[1:],columns=joe_recs[0])\n",
    "df_joe_recs['Recommended By'] = 'Joe'\n",
    "df_joe_recs.style.set_caption('JOE')"
   ]
  },
  {
   "cell_type": "code",
   "execution_count": 5,
   "metadata": {
    "ExecuteTime": {
     "end_time": "2020-01-12T04:22:40.173308Z",
     "start_time": "2020-01-12T04:22:40.167034Z"
    }
   },
   "outputs": [
    {
     "data": {
      "text/html": [
       "<style  type=\"text/css\" >\n",
       "</style><table id=\"T_2b9e23cc_34f3_11ea_a023_acde48001122\" ><caption>SAMANTHA</caption><thead>    <tr>        <th class=\"blank level0\" ></th>        <th class=\"col_heading level0 col0\" >artist</th>        <th class=\"col_heading level0 col1\" >track</th>        <th class=\"col_heading level0 col2\" >Recommended By</th>    </tr></thead><tbody>\n",
       "                <tr>\n",
       "                        <th id=\"T_2b9e23cc_34f3_11ea_a023_acde48001122level0_row0\" class=\"row_heading level0 row0\" >0</th>\n",
       "                        <td id=\"T_2b9e23cc_34f3_11ea_a023_acde48001122row0_col0\" class=\"data row0 col0\" >Black Eyed Peas</td>\n",
       "                        <td id=\"T_2b9e23cc_34f3_11ea_a023_acde48001122row0_col1\" class=\"data row0 col1\" >Let's Get it Started</td>\n",
       "                        <td id=\"T_2b9e23cc_34f3_11ea_a023_acde48001122row0_col2\" class=\"data row0 col2\" >Samantha</td>\n",
       "            </tr>\n",
       "            <tr>\n",
       "                        <th id=\"T_2b9e23cc_34f3_11ea_a023_acde48001122level0_row1\" class=\"row_heading level0 row1\" >1</th>\n",
       "                        <td id=\"T_2b9e23cc_34f3_11ea_a023_acde48001122row1_col0\" class=\"data row1 col0\" >Panic at the Disco</td>\n",
       "                        <td id=\"T_2b9e23cc_34f3_11ea_a023_acde48001122row1_col1\" class=\"data row1 col1\" >Hallelujah</td>\n",
       "                        <td id=\"T_2b9e23cc_34f3_11ea_a023_acde48001122row1_col2\" class=\"data row1 col2\" >Samantha</td>\n",
       "            </tr>\n",
       "            <tr>\n",
       "                        <th id=\"T_2b9e23cc_34f3_11ea_a023_acde48001122level0_row2\" class=\"row_heading level0 row2\" >2</th>\n",
       "                        <td id=\"T_2b9e23cc_34f3_11ea_a023_acde48001122row2_col0\" class=\"data row2 col0\" >Adele</td>\n",
       "                        <td id=\"T_2b9e23cc_34f3_11ea_a023_acde48001122row2_col1\" class=\"data row2 col1\" >Set Fire to the Rain</td>\n",
       "                        <td id=\"T_2b9e23cc_34f3_11ea_a023_acde48001122row2_col2\" class=\"data row2 col2\" >Samantha</td>\n",
       "            </tr>\n",
       "    </tbody></table>"
      ],
      "text/plain": [
       "<pandas.io.formats.style.Styler at 0x1a1fa46f98>"
      ]
     },
     "execution_count": 5,
     "metadata": {},
     "output_type": "execute_result"
    }
   ],
   "source": [
    "samantha_recs = [['artist','track']]\n",
    "samantha_recs.append(['Black Eyed Peas',\"Let's Get it Started\"])\n",
    "samantha_recs.append(['Panic at the Disco','Hallelujah'])\n",
    "samantha_recs.append(['Adele','Set Fire to the Rain'])\n",
    "\n",
    "df_samantha_recs = pd.DataFrame(samantha_recs[1:],columns=samantha_recs[0])\n",
    "df_samantha_recs['Recommended By'] = 'Samantha'\n",
    "df_samantha_recs.style.set_caption('SAMANTHA')"
   ]
  },
  {
   "cell_type": "code",
   "execution_count": 6,
   "metadata": {
    "ExecuteTime": {
     "end_time": "2020-01-12T04:22:40.180938Z",
     "start_time": "2020-01-12T04:22:40.174312Z"
    }
   },
   "outputs": [
    {
     "data": {
      "text/html": [
       "<style  type=\"text/css\" >\n",
       "</style><table id=\"T_2b9f4734_34f3_11ea_a80b_acde48001122\" ><caption>JAMES</caption><thead>    <tr>        <th class=\"blank level0\" ></th>        <th class=\"col_heading level0 col0\" >artist</th>        <th class=\"col_heading level0 col1\" >track</th>        <th class=\"col_heading level0 col2\" >Recommended By</th>    </tr></thead><tbody>\n",
       "                <tr>\n",
       "                        <th id=\"T_2b9f4734_34f3_11ea_a80b_acde48001122level0_row0\" class=\"row_heading level0 row0\" >0</th>\n",
       "                        <td id=\"T_2b9f4734_34f3_11ea_a80b_acde48001122row0_col0\" class=\"data row0 col0\" >Eve 6</td>\n",
       "                        <td id=\"T_2b9f4734_34f3_11ea_a80b_acde48001122row0_col1\" class=\"data row0 col1\" >Here's to the Night</td>\n",
       "                        <td id=\"T_2b9f4734_34f3_11ea_a80b_acde48001122row0_col2\" class=\"data row0 col2\" >James</td>\n",
       "            </tr>\n",
       "            <tr>\n",
       "                        <th id=\"T_2b9f4734_34f3_11ea_a80b_acde48001122level0_row1\" class=\"row_heading level0 row1\" >1</th>\n",
       "                        <td id=\"T_2b9f4734_34f3_11ea_a80b_acde48001122row1_col0\" class=\"data row1 col0\" >Neutral Milk Hotel</td>\n",
       "                        <td id=\"T_2b9f4734_34f3_11ea_a80b_acde48001122row1_col1\" class=\"data row1 col1\" >Into the Aeroplane Over the Sea</td>\n",
       "                        <td id=\"T_2b9f4734_34f3_11ea_a80b_acde48001122row1_col2\" class=\"data row1 col2\" >James</td>\n",
       "            </tr>\n",
       "            <tr>\n",
       "                        <th id=\"T_2b9f4734_34f3_11ea_a80b_acde48001122level0_row2\" class=\"row_heading level0 row2\" >2</th>\n",
       "                        <td id=\"T_2b9f4734_34f3_11ea_a80b_acde48001122row2_col0\" class=\"data row2 col0\" >Rilo Kiley</td>\n",
       "                        <td id=\"T_2b9f4734_34f3_11ea_a80b_acde48001122row2_col1\" class=\"data row2 col1\" >With Arms Outstretched</td>\n",
       "                        <td id=\"T_2b9f4734_34f3_11ea_a80b_acde48001122row2_col2\" class=\"data row2 col2\" >James</td>\n",
       "            </tr>\n",
       "            <tr>\n",
       "                        <th id=\"T_2b9f4734_34f3_11ea_a80b_acde48001122level0_row3\" class=\"row_heading level0 row3\" >3</th>\n",
       "                        <td id=\"T_2b9f4734_34f3_11ea_a80b_acde48001122row3_col0\" class=\"data row3 col0\" >Red Hot Chili Peppers</td>\n",
       "                        <td id=\"T_2b9f4734_34f3_11ea_a80b_acde48001122row3_col1\" class=\"data row3 col1\" >Otherside</td>\n",
       "                        <td id=\"T_2b9f4734_34f3_11ea_a80b_acde48001122row3_col2\" class=\"data row3 col2\" >James</td>\n",
       "            </tr>\n",
       "    </tbody></table>"
      ],
      "text/plain": [
       "<pandas.io.formats.style.Styler at 0x1a1fa46c88>"
      ]
     },
     "execution_count": 6,
     "metadata": {},
     "output_type": "execute_result"
    }
   ],
   "source": [
    "james_recs=[['artist','track']]\n",
    "james_recs.append(['Eve 6',\"Here's to the Night\"])\n",
    "james_recs.append(['Neutral Milk Hotel',\"Into the Aeroplane Over the Sea\"])\n",
    "james_recs.append(['Rilo Kiley',\"With Arms Outstretched\"])\n",
    "james_recs.append(['Red Hot Chili Peppers',\"Otherside\"])\n",
    "\n",
    "df_james_recs = pd.DataFrame(james_recs[1:],columns=james_recs[0])\n",
    "df_james_recs['Recommended By'] = 'James'\n",
    "df_james_recs.style.set_caption('JAMES')"
   ]
  },
  {
   "cell_type": "code",
   "execution_count": 7,
   "metadata": {
    "ExecuteTime": {
     "end_time": "2020-01-12T04:22:40.198176Z",
     "start_time": "2020-01-12T04:22:40.181972Z"
    }
   },
   "outputs": [
    {
     "data": {
      "text/html": [
       "<div>\n",
       "<style scoped>\n",
       "    .dataframe tbody tr th:only-of-type {\n",
       "        vertical-align: middle;\n",
       "    }\n",
       "\n",
       "    .dataframe tbody tr th {\n",
       "        vertical-align: top;\n",
       "    }\n",
       "\n",
       "    .dataframe thead th {\n",
       "        text-align: right;\n",
       "    }\n",
       "</style>\n",
       "<table border=\"1\" class=\"dataframe\">\n",
       "  <thead>\n",
       "    <tr style=\"text-align: right;\">\n",
       "      <th></th>\n",
       "      <th>artist</th>\n",
       "      <th>track</th>\n",
       "      <th>Recommended By</th>\n",
       "    </tr>\n",
       "  </thead>\n",
       "  <tbody>\n",
       "    <tr>\n",
       "      <td>0</td>\n",
       "      <td>Black Eyed Peas</td>\n",
       "      <td>Let's Get it Started</td>\n",
       "      <td>John</td>\n",
       "    </tr>\n",
       "    <tr>\n",
       "      <td>1</td>\n",
       "      <td>Lady GaGa</td>\n",
       "      <td>Poker Face</td>\n",
       "      <td>John</td>\n",
       "    </tr>\n",
       "    <tr>\n",
       "      <td>2</td>\n",
       "      <td>Lady GaGa</td>\n",
       "      <td>Bad Romance</td>\n",
       "      <td>John</td>\n",
       "    </tr>\n",
       "    <tr>\n",
       "      <td>0</td>\n",
       "      <td>Smashing Pumpkins</td>\n",
       "      <td>Tonight, Tonight</td>\n",
       "      <td>Anne</td>\n",
       "    </tr>\n",
       "    <tr>\n",
       "      <td>1</td>\n",
       "      <td>Black Eyed Peas</td>\n",
       "      <td>Let's Get it Started</td>\n",
       "      <td>Anne</td>\n",
       "    </tr>\n",
       "    <tr>\n",
       "      <td>2</td>\n",
       "      <td>Green Day</td>\n",
       "      <td>Time of your Life</td>\n",
       "      <td>Anne</td>\n",
       "    </tr>\n",
       "    <tr>\n",
       "      <td>0</td>\n",
       "      <td>Green Day</td>\n",
       "      <td>Time of your Life</td>\n",
       "      <td>Joe</td>\n",
       "    </tr>\n",
       "    <tr>\n",
       "      <td>1</td>\n",
       "      <td>B-52s</td>\n",
       "      <td>Rock Lobster</td>\n",
       "      <td>Joe</td>\n",
       "    </tr>\n",
       "    <tr>\n",
       "      <td>2</td>\n",
       "      <td>Lady GaGa</td>\n",
       "      <td>Poker Face</td>\n",
       "      <td>Joe</td>\n",
       "    </tr>\n",
       "    <tr>\n",
       "      <td>3</td>\n",
       "      <td>John Lennon</td>\n",
       "      <td>Imagine</td>\n",
       "      <td>Joe</td>\n",
       "    </tr>\n",
       "    <tr>\n",
       "      <td>0</td>\n",
       "      <td>Black Eyed Peas</td>\n",
       "      <td>Let's Get it Started</td>\n",
       "      <td>Samantha</td>\n",
       "    </tr>\n",
       "    <tr>\n",
       "      <td>1</td>\n",
       "      <td>Panic at the Disco</td>\n",
       "      <td>Hallelujah</td>\n",
       "      <td>Samantha</td>\n",
       "    </tr>\n",
       "    <tr>\n",
       "      <td>2</td>\n",
       "      <td>Adele</td>\n",
       "      <td>Set Fire to the Rain</td>\n",
       "      <td>Samantha</td>\n",
       "    </tr>\n",
       "    <tr>\n",
       "      <td>0</td>\n",
       "      <td>Eve 6</td>\n",
       "      <td>Here's to the Night</td>\n",
       "      <td>James</td>\n",
       "    </tr>\n",
       "    <tr>\n",
       "      <td>1</td>\n",
       "      <td>Neutral Milk Hotel</td>\n",
       "      <td>Into the Aeroplane Over the Sea</td>\n",
       "      <td>James</td>\n",
       "    </tr>\n",
       "    <tr>\n",
       "      <td>2</td>\n",
       "      <td>Rilo Kiley</td>\n",
       "      <td>With Arms Outstretched</td>\n",
       "      <td>James</td>\n",
       "    </tr>\n",
       "    <tr>\n",
       "      <td>3</td>\n",
       "      <td>Red Hot Chili Peppers</td>\n",
       "      <td>Otherside</td>\n",
       "      <td>James</td>\n",
       "    </tr>\n",
       "  </tbody>\n",
       "</table>\n",
       "</div>"
      ],
      "text/plain": [
       "                  artist                            track Recommended By\n",
       "0        Black Eyed Peas             Let's Get it Started           John\n",
       "1              Lady GaGa                       Poker Face           John\n",
       "2              Lady GaGa                      Bad Romance           John\n",
       "0      Smashing Pumpkins                 Tonight, Tonight           Anne\n",
       "1        Black Eyed Peas             Let's Get it Started           Anne\n",
       "2              Green Day                Time of your Life           Anne\n",
       "0              Green Day                Time of your Life            Joe\n",
       "1                  B-52s                     Rock Lobster            Joe\n",
       "2              Lady GaGa                       Poker Face            Joe\n",
       "3            John Lennon                          Imagine            Joe\n",
       "0        Black Eyed Peas             Let's Get it Started       Samantha\n",
       "1     Panic at the Disco                       Hallelujah       Samantha\n",
       "2                  Adele             Set Fire to the Rain       Samantha\n",
       "0                  Eve 6              Here's to the Night          James\n",
       "1     Neutral Milk Hotel  Into the Aeroplane Over the Sea          James\n",
       "2             Rilo Kiley           With Arms Outstretched          James\n",
       "3  Red Hot Chili Peppers                        Otherside          James"
      ]
     },
     "execution_count": 7,
     "metadata": {},
     "output_type": "execute_result"
    }
   ],
   "source": [
    "df = pd.concat([df_john_recs,df_anne_recs,\n",
    "                df_joe_recs,df_samantha_recs,\n",
    "               df_james_recs],axis=0)\n",
    "df"
   ]
  },
  {
   "cell_type": "code",
   "execution_count": 8,
   "metadata": {
    "ExecuteTime": {
     "end_time": "2020-01-12T04:22:40.205017Z",
     "start_time": "2020-01-12T04:22:40.200349Z"
    }
   },
   "outputs": [
    {
     "name": "stdout",
     "output_type": "stream",
     "text": [
      "13 12\n"
     ]
    },
    {
     "data": {
      "text/plain": [
       "{'Bad Romance',\n",
       " 'Hallelujah',\n",
       " \"Here's to the Night\",\n",
       " 'Imagine',\n",
       " 'Into the Aeroplane Over the Sea',\n",
       " \"Let's Get it Started\",\n",
       " 'Otherside',\n",
       " 'Poker Face',\n",
       " 'Rock Lobster',\n",
       " 'Set Fire to the Rain',\n",
       " 'Time of your Life',\n",
       " 'Tonight, Tonight',\n",
       " 'With Arms Outstretched'}"
      ]
     },
     "execution_count": 8,
     "metadata": {},
     "output_type": "execute_result"
    }
   ],
   "source": [
    "## Making Sample Spaces for Tracks and artists\n",
    "sTracks = set(df['track'])\n",
    "sArtists = set(df['artist'])\n",
    "\n",
    "print(len(sTracks),len(sArtists))\n",
    "sTracks#,sArtists"
   ]
  },
  {
   "cell_type": "markdown",
   "metadata": {},
   "source": [
    "### Q1: How many different ways could we build a playlist using everyone's recommendations (without shuffle, no looping, and no repeated songs)?"
   ]
  },
  {
   "cell_type": "markdown",
   "metadata": {
    "ExecuteTime": {
     "end_time": "2020-01-07T22:40:05.942473Z",
     "start_time": "2020-01-07T22:40:05.940474Z"
    }
   },
   "source": [
    "- Q: Combination or permutation?\n",
    "    -  Permutation"
   ]
  },
  {
   "cell_type": "markdown",
   "metadata": {
    "ExecuteTime": {
     "end_time": "2020-01-07T22:40:05.942473Z",
     "start_time": "2020-01-07T22:40:05.940474Z"
    }
   },
   "source": [
    "- Q: What formula would we use?\n",
    " $$\\large P(n) = n!$$"
   ]
  },
  {
   "cell_type": "code",
   "execution_count": 9,
   "metadata": {
    "ExecuteTime": {
     "end_time": "2020-01-12T04:22:40.209760Z",
     "start_time": "2020-01-12T04:22:40.206504Z"
    }
   },
   "outputs": [
    {
     "data": {
      "text/plain": [
       "'6,227,020,800'"
      ]
     },
     "execution_count": 9,
     "metadata": {},
     "output_type": "execute_result"
    }
   ],
   "source": [
    "from math import factorial\n",
    "\"{:,}\".format(factorial(len(sTracks)))"
   ]
  },
  {
   "cell_type": "markdown",
   "metadata": {},
   "source": [
    "### Q2: What if we limit the playlist to only 10 songs, without replacement?"
   ]
  },
  {
   "cell_type": "markdown",
   "metadata": {
    "ExecuteTime": {
     "end_time": "2020-01-07T22:40:05.942473Z",
     "start_time": "2020-01-07T22:40:05.940474Z"
    }
   },
   "source": [
    "- Q: Combination or permutation?\n",
    "    - Permutation"
   ]
  },
  {
   "cell_type": "markdown",
   "metadata": {
    "ExecuteTime": {
     "end_time": "2020-01-07T22:40:05.942473Z",
     "start_time": "2020-01-07T22:40:05.940474Z"
    }
   },
   "source": [
    "- Q: What formula would we use?\n",
    "$$ \\large P_{k}^{n}= \\dfrac{n!}{(n-k)!}$$ \n"
   ]
  },
  {
   "cell_type": "code",
   "execution_count": 10,
   "metadata": {
    "ExecuteTime": {
     "end_time": "2020-01-12T04:22:40.214273Z",
     "start_time": "2020-01-12T04:22:40.210963Z"
    }
   },
   "outputs": [
    {
     "data": {
      "text/plain": [
       "'1,037,836,800.0'"
      ]
     },
     "execution_count": 10,
     "metadata": {},
     "output_type": "execute_result"
    }
   ],
   "source": [
    "p_10_13 = factorial(13) / factorial(13-10)\n",
    "\"{:,}\".format(p_10_13)"
   ]
  },
  {
   "cell_type": "markdown",
   "metadata": {},
   "source": [
    "### Q3: what if we limit the playlist to 10 songs, WITH replacement?"
   ]
  },
  {
   "cell_type": "markdown",
   "metadata": {
    "ExecuteTime": {
     "end_time": "2020-01-07T22:40:05.942473Z",
     "start_time": "2020-01-07T22:40:05.940474Z"
    }
   },
   "source": [
    "- Q: Combination or permutation?\n",
    "    - Permutation"
   ]
  },
  {
   "cell_type": "markdown",
   "metadata": {
    "ExecuteTime": {
     "end_time": "2020-01-07T22:40:05.942473Z",
     "start_time": "2020-01-07T22:40:05.940474Z"
    }
   },
   "source": [
    "- Q: What formula would we use?\n",
    "$$ \\large {P}_{j}^{n} = n^j $$\n"
   ]
  },
  {
   "cell_type": "code",
   "execution_count": 11,
   "metadata": {
    "ExecuteTime": {
     "end_time": "2020-01-12T04:22:40.218390Z",
     "start_time": "2020-01-12T04:22:40.215476Z"
    }
   },
   "outputs": [
    {
     "data": {
      "text/plain": [
       "'137,858,491,849'"
      ]
     },
     "execution_count": 11,
     "metadata": {},
     "output_type": "execute_result"
    }
   ],
   "source": [
    "p_10_13R = 13**10\n",
    "\"{:,}\".format(p_10_13R)"
   ]
  },
  {
   "cell_type": "markdown",
   "metadata": {},
   "source": [
    "### Q4: what if we select 10 songs out of the total number of suggestions and allow for repitition?"
   ]
  },
  {
   "cell_type": "code",
   "execution_count": 12,
   "metadata": {
    "ExecuteTime": {
     "end_time": "2020-01-12T04:22:40.225459Z",
     "start_time": "2020-01-12T04:22:40.219575Z"
    }
   },
   "outputs": [
    {
     "name": "stdout",
     "output_type": "stream",
     "text": [
      "17\n"
     ]
    },
    {
     "data": {
      "text/plain": [
       "Let's Get it Started               3\n",
       "Time of your Life                  2\n",
       "Poker Face                         2\n",
       "Here's to the Night                1\n",
       "Hallelujah                         1\n",
       "With Arms Outstretched             1\n",
       "Rock Lobster                       1\n",
       "Set Fire to the Rain               1\n",
       "Tonight, Tonight                   1\n",
       "Bad Romance                        1\n",
       "Into the Aeroplane Over the Sea    1\n",
       "Otherside                          1\n",
       "Imagine                            1\n",
       "Name: track, dtype: int64"
      ]
     },
     "execution_count": 12,
     "metadata": {},
     "output_type": "execute_result"
    }
   ],
   "source": [
    "print(df['track'].value_counts().sum())\n",
    "df['track'].value_counts()"
   ]
  },
  {
   "cell_type": "markdown",
   "metadata": {
    "ExecuteTime": {
     "end_time": "2020-01-07T22:40:05.942473Z",
     "start_time": "2020-01-07T22:40:05.940474Z"
    }
   },
   "source": [
    "- Q: Combination or permutation?\n",
    "    - Permutation"
   ]
  },
  {
   "cell_type": "markdown",
   "metadata": {
    "ExecuteTime": {
     "end_time": "2020-01-07T22:40:05.942473Z",
     "start_time": "2020-01-07T22:40:05.940474Z"
    }
   },
   "source": [
    "- Q: What formula would we use?\n",
    "$$\\dfrac{n!}{n_1!n_2!\\ldots n_j!}$$\n"
   ]
  },
  {
   "cell_type": "code",
   "execution_count": 13,
   "metadata": {
    "ExecuteTime": {
     "end_time": "2020-01-12T04:22:40.230028Z",
     "start_time": "2020-01-12T04:22:40.226582Z"
    }
   },
   "outputs": [
    {
     "data": {
      "text/plain": [
       "'14,820,309,504,000.0'"
      ]
     },
     "execution_count": 13,
     "metadata": {},
     "output_type": "execute_result"
    }
   ],
   "source": [
    "p17R = factorial(17) / (factorial(3)*factorial(2)*factorial(2))\n",
    "\"{:,}\".format(p17R)"
   ]
  },
  {
   "cell_type": "markdown",
   "metadata": {},
   "source": [
    "### We realize we need to relax and not worry about the song-order. That's what Shuffle is for, right?"
   ]
  },
  {
   "cell_type": "markdown",
   "metadata": {},
   "source": [
    "### Q5: How many playlists can we produce for an 8-track playlist from the unique suggested songs (10)?"
   ]
  },
  {
   "cell_type": "markdown",
   "metadata": {
    "ExecuteTime": {
     "end_time": "2020-01-07T22:40:05.942473Z",
     "start_time": "2020-01-07T22:40:05.940474Z"
    }
   },
   "source": [
    "- Q: Combination or permutation?\n",
    "    - Combination"
   ]
  },
  {
   "cell_type": "markdown",
   "metadata": {
    "ExecuteTime": {
     "end_time": "2020-01-07T22:40:05.942473Z",
     "start_time": "2020-01-07T22:40:05.940474Z"
    }
   },
   "source": [
    "- Q: What formula would we use?\n",
    "$$\\large C_{k}^{n} = \\displaystyle\\binom{n}{k} = \\dfrac{P_{k}^{n}}{k!}=\\dfrac{ \\dfrac{n!}{(n-k)!}}{k!} = \\dfrac{n!}{(n-k)!k!}$$"
   ]
  },
  {
   "cell_type": "code",
   "execution_count": 14,
   "metadata": {
    "ExecuteTime": {
     "end_time": "2020-01-12T04:22:40.235770Z",
     "start_time": "2020-01-12T04:22:40.231289Z"
    }
   },
   "outputs": [
    {
     "data": {
      "text/plain": [
       "'45.0'"
      ]
     },
     "execution_count": 14,
     "metadata": {},
     "output_type": "execute_result"
    }
   ],
   "source": [
    "c_8_10 = factorial(10)/ (factorial((10-8))*factorial(8))\n",
    "\"{:,}\".format(c_8_10)"
   ]
  },
  {
   "cell_type": "markdown",
   "metadata": {},
   "source": [
    "## Probability (review)\n"
   ]
  },
  {
   "cell_type": "markdown",
   "metadata": {},
   "source": [
    "### What is probability?"
   ]
  },
  {
   "cell_type": "markdown",
   "metadata": {
    "colab_type": "text",
    "id": "hHKVcR-FYNqf"
   },
   "source": [
    "> **Probability is the likelihood of a specific outcome/event occuring out of all possible outcomes, expressed as a fraction between 0 and 1**\n",
    "\n",
    "Example Probability Qs:\n",
    "- How likely is it to end up with heads when flipping a coin once? (the answer here is 50% - not very surprising)\n",
    "\n",
    "- How likely is it to end up with exactly 2 x heads and 3 x tails when flipping a coin 5 times?\n",
    "\n",
    "- How likely is it to throw tails first, then heads, then tails, then heads, then tails when flipping a coin 5 times?\n",
    "\n",
    "- If you throw 5 dice, what is the probability of throwing a [\"full house\"](http://grail.sourceforge.net/demo/yahtzee/rules.html)?\n",
    "\n",
    "- What is the probability of drawing 2 consecutive aces from a standard deck of cards?\n",
    "\n",
    "> But how do we calculate it? ..._to be continued_...\n",
    "\n"
   ]
  },
  {
   "cell_type": "markdown",
   "metadata": {
    "colab_type": "text",
    "id": "5yI4j_L6XcBp"
   },
   "source": [
    "#### Sample Space & Event Space"
   ]
  },
  {
   "cell_type": "markdown",
   "metadata": {
    "colab_type": "text",
    "id": "5yI4j_L6XcBp"
   },
   "source": [
    "##### Sample space:\n",
    "$$S = \\{ 1,2,3,4,5,6\\}$$ \n",
    "being the possible outcomes when throwing a dice.\n",
    "- Sample space =  $\\Omega$ \n",
    "\n",
    "##### Event space:\n",
    "-   The **event space** is a subset of the sample space. It is the **desired outcome** of the experiment.\n",
    "$$E \\subseteq S$$\n",
    "-   Example:\n",
    "    -   Throwing an odd number would lead to an event space $$E = \\{ 1,3,5\\}$$."
   ]
  },
  {
   "cell_type": "markdown",
   "metadata": {},
   "source": [
    "#### Probability of an Event"
   ]
  },
  {
   "cell_type": "markdown",
   "metadata": {},
   "source": [
    "$$ P(E) = \\frac{|E|}{|S|} $$\n",
    "probability is the number of possible preferred outcomes over the sample space / all outcomes"
   ]
  },
  {
   "cell_type": "markdown",
   "metadata": {
    "colab_type": "text",
    "id": "5yI4j_L6XcBp"
   },
   "source": [
    "### Law of relative frequency"
   ]
  },
  {
   "cell_type": "markdown",
   "metadata": {
    "colab_type": "text",
    "id": "5yI4j_L6XcBp"
   },
   "source": [
    "- Limit of large infinite outcomes produce fixed numbers .\n",
    "$$ \\large P(E) = \\lim_{n\\to\\infty}\\frac{S(n)}{n}$$\n",
    "    - Probability of Event E having Successful(S) outcomes for $n$ trials\n",
    "    "
   ]
  },
  {
   "cell_type": "markdown",
   "metadata": {
    "colab_type": "text",
    "id": "5yI4j_L6XcBp"
   },
   "source": [
    "#### Probability axioms"
   ]
  },
  {
   "cell_type": "markdown",
   "metadata": {
    "colab_type": "text",
    "id": "5yI4j_L6XcBp"
   },
   "source": [
    "1.  Positivity : \n",
    "\n",
    "    - Prob is always $0 <= P(E) <=1$\n",
    "\n",
    "\n",
    "2.  Probability of a certain event:\n",
    "\n",
    "    - $P(S)=1$\n",
    "\n",
    "\n",
    "3.  Additivity Union of 2 exclusive sets = sum prob of individual events happening\n",
    "    \n",
    "    - If $A\\cap B = \\emptyset $, then $P(A\\cup B) = P(A) + P(B)$"
   ]
  },
  {
   "cell_type": "markdown",
   "metadata": {
    "colab_type": "text",
    "id": "5yI4j_L6XcBp"
   },
   "source": [
    "#### Addition law of probability "
   ]
  },
  {
   "cell_type": "markdown",
   "metadata": {
    "colab_type": "text",
    "id": "5yI4j_L6XcBp"
   },
   "source": [
    "-   Prob of union of A and B is individual P minus intersection\n",
    "\n",
    "$$ \\large P(A\\cup B) = P(A) + P(B) - P(A \\cap B)$$"
   ]
  },
  {
   "cell_type": "markdown",
   "metadata": {},
   "source": [
    "### EXAMPLE PROBABILITY PROBLEMS WITH PLAYLISTS"
   ]
  },
  {
   "cell_type": "markdown",
   "metadata": {},
   "source": [
    "**If we just accept everyone's suggestions (full df) and play on shuffle:**"
   ]
  },
  {
   "cell_type": "markdown",
   "metadata": {},
   "source": [
    "- Q: What is the probability of hearing \"Let's Get it started\"?"
   ]
  },
  {
   "cell_type": "code",
   "execution_count": 15,
   "metadata": {
    "ExecuteTime": {
     "end_time": "2020-01-12T04:22:40.241488Z",
     "start_time": "2020-01-12T04:22:40.236974Z"
    }
   },
   "outputs": [
    {
     "data": {
      "text/plain": [
       "Let's Get it Started               3\n",
       "Time of your Life                  2\n",
       "Poker Face                         2\n",
       "Here's to the Night                1\n",
       "Hallelujah                         1\n",
       "With Arms Outstretched             1\n",
       "Rock Lobster                       1\n",
       "Set Fire to the Rain               1\n",
       "Tonight, Tonight                   1\n",
       "Bad Romance                        1\n",
       "Into the Aeroplane Over the Sea    1\n",
       "Otherside                          1\n",
       "Imagine                            1\n",
       "Name: track, dtype: int64"
      ]
     },
     "execution_count": 15,
     "metadata": {},
     "output_type": "execute_result"
    }
   ],
   "source": [
    "df['track'].value_counts()#sum()#sort_values('track')"
   ]
  },
  {
   "cell_type": "markdown",
   "metadata": {},
   "source": [
    "$$P(E) = |E| / |S|  $$"
   ]
  },
  {
   "cell_type": "code",
   "execution_count": 16,
   "metadata": {
    "ExecuteTime": {
     "end_time": "2020-01-12T04:22:40.245151Z",
     "start_time": "2020-01-12T04:22:40.242507Z"
    }
   },
   "outputs": [
    {
     "data": {
      "text/plain": [
       "0.17647058823529413"
      ]
     },
     "execution_count": 16,
     "metadata": {},
     "output_type": "execute_result"
    }
   ],
   "source": [
    "3/17"
   ]
  },
  {
   "cell_type": "code",
   "execution_count": 17,
   "metadata": {
    "ExecuteTime": {
     "end_time": "2020-01-12T04:22:40.252771Z",
     "start_time": "2020-01-12T04:22:40.246176Z"
    },
    "scrolled": true
   },
   "outputs": [
    {
     "data": {
      "text/plain": [
       "Lady GaGa                3\n",
       "Black Eyed Peas          3\n",
       "Green Day                2\n",
       "Eve 6                    1\n",
       "John Lennon              1\n",
       "Smashing Pumpkins        1\n",
       "Panic at the Disco       1\n",
       "Neutral Milk Hotel       1\n",
       "Adele                    1\n",
       "Red Hot Chili Peppers    1\n",
       "Rilo Kiley               1\n",
       "B-52s                    1\n",
       "Name: artist, dtype: int64"
      ]
     },
     "metadata": {},
     "output_type": "display_data"
    },
    {
     "data": {
      "text/plain": [
       "17"
      ]
     },
     "execution_count": 17,
     "metadata": {},
     "output_type": "execute_result"
    }
   ],
   "source": [
    "display(df['artist'].value_counts())\n",
    "df['artist'].value_counts().sum()\n"
   ]
  },
  {
   "cell_type": "markdown",
   "metadata": {},
   "source": [
    "- Q: What is the probability of playing a song by Lady GaGa?"
   ]
  },
  {
   "cell_type": "code",
   "execution_count": 18,
   "metadata": {
    "ExecuteTime": {
     "end_time": "2020-01-12T04:22:40.256300Z",
     "start_time": "2020-01-12T04:22:40.253784Z"
    }
   },
   "outputs": [
    {
     "data": {
      "text/plain": [
       "0.17647058823529413"
      ]
     },
     "execution_count": 18,
     "metadata": {},
     "output_type": "execute_result"
    }
   ],
   "source": [
    "3/17"
   ]
  },
  {
   "cell_type": "markdown",
   "metadata": {},
   "source": [
    "## Conditional Probability with Playlists"
   ]
  },
  {
   "cell_type": "markdown",
   "metadata": {},
   "source": [
    "### Q: what is the probability of hearing a \"Poker Face\" given that the song is by Lady GaGa?"
   ]
  },
  {
   "cell_type": "code",
   "execution_count": 19,
   "metadata": {
    "ExecuteTime": {
     "end_time": "2020-01-12T04:22:40.261800Z",
     "start_time": "2020-01-12T04:22:40.257453Z"
    }
   },
   "outputs": [
    {
     "data": {
      "text/plain": [
       "Let's Get it Started               3\n",
       "Time of your Life                  2\n",
       "Poker Face                         2\n",
       "Here's to the Night                1\n",
       "Hallelujah                         1\n",
       "With Arms Outstretched             1\n",
       "Rock Lobster                       1\n",
       "Set Fire to the Rain               1\n",
       "Tonight, Tonight                   1\n",
       "Bad Romance                        1\n",
       "Into the Aeroplane Over the Sea    1\n",
       "Otherside                          1\n",
       "Imagine                            1\n",
       "Name: track, dtype: int64"
      ]
     },
     "execution_count": 19,
     "metadata": {},
     "output_type": "execute_result"
    }
   ],
   "source": [
    "df['track'].value_counts()"
   ]
  },
  {
   "cell_type": "code",
   "execution_count": 20,
   "metadata": {
    "ExecuteTime": {
     "end_time": "2020-01-12T04:22:40.267095Z",
     "start_time": "2020-01-12T04:22:40.262802Z"
    }
   },
   "outputs": [
    {
     "data": {
      "text/plain": [
       "artist\n",
       "Adele                    1\n",
       "B-52s                    1\n",
       "Black Eyed Peas          3\n",
       "Eve 6                    1\n",
       "Green Day                2\n",
       "John Lennon              1\n",
       "Lady GaGa                3\n",
       "Neutral Milk Hotel       1\n",
       "Panic at the Disco       1\n",
       "Red Hot Chili Peppers    1\n",
       "Rilo Kiley               1\n",
       "Smashing Pumpkins        1\n",
       "Name: track, dtype: int64"
      ]
     },
     "metadata": {},
     "output_type": "display_data"
    }
   ],
   "source": [
    "display(df.groupby('artist')['track'].count())"
   ]
  },
  {
   "cell_type": "markdown",
   "metadata": {},
   "source": [
    "- What is the probability of playing Poker Face given that its a Lady GaGa song?\n",
    "\n",
    "$$ P(PokerFace|LadyGaga)$$"
   ]
  },
  {
   "cell_type": "code",
   "execution_count": 21,
   "metadata": {
    "ExecuteTime": {
     "end_time": "2020-01-12T04:22:40.273561Z",
     "start_time": "2020-01-12T04:22:40.268168Z"
    }
   },
   "outputs": [
    {
     "data": {
      "text/plain": [
       "Poker Face     2\n",
       "Bad Romance    1\n",
       "Name: track, dtype: int64"
      ]
     },
     "execution_count": 21,
     "metadata": {},
     "output_type": "execute_result"
    }
   ],
   "source": [
    "df.groupby('artist').get_group('Lady GaGa')['track'].value_counts()"
   ]
  },
  {
   "cell_type": "code",
   "execution_count": 22,
   "metadata": {
    "ExecuteTime": {
     "end_time": "2020-01-12T04:22:40.277103Z",
     "start_time": "2020-01-12T04:22:40.274533Z"
    }
   },
   "outputs": [
    {
     "data": {
      "text/plain": [
       "0.6666666666666666"
      ]
     },
     "execution_count": 22,
     "metadata": {},
     "output_type": "execute_result"
    }
   ],
   "source": [
    "# |s|=3 \n",
    "# |e| = 2\n",
    "2/3"
   ]
  },
  {
   "cell_type": "markdown",
   "metadata": {},
   "source": [
    "# LAW OF TOTAL PROBABILITY"
   ]
  },
  {
   "cell_type": "markdown",
   "metadata": {},
   "source": [
    "- This law allows us to calculate $P(B)$ from partial/conditional probabilitie of subsets ($A_n$).\n",
    "- Requires that the different $A$'s that make up sample space $S$ be disjointed events.\n",
    "\n",
    "S $A_1, A_2, \\dots, A_n$ partition sample space $S$ into disjoint regions that sum up to $S$. In the example, the four regions\n",
    "\n",
    "<img src=\"https://raw.githubusercontent.com/jirvingphd/dsc-law-of-total-probability-online-ds-ft-100719/master/images/Image_55_TotProb.png\">\n",
    "\n",
    "The probability of a random event $B$ (orange area) can be written down as:\n",
    "\n",
    "\\begin{align}\n",
    "    P(B) &= P(B \\cap A_1) + P(B \\cap A_2) + P(B \\cap A_3)+ P(B \\cap A_4) \\\\\n",
    "         &= P(B \\mid A_1)P(A_1) + P(B \\mid A_2)P(A_2) +P(B \\mid A_3)P(A_3)+ P(B \\mid A_4)P(A_4)\n",
    "\\end{align}\n",
    "\n",
    "- using the first theorem above let us find the combined probabilities.\n",
    "\n",
    "\n",
    "#### Law of Total Probability\n",
    "\n",
    "If $B_1$,$B_2$,$B_3$,$\\dots$ is a partition of the sample space S, then for any event A we have\n",
    "\n",
    "$$P(A)= \\sum_i P(A \\cap B_i)= \\sum_i P(A \\mid B_i)P(B_i)$$\n",
    "\n",
    "Using a Venn diagram, we can pictorially see the idea behind the law of total probability. In the figure below, we have\n",
    "\n",
    "* $A_1 = A \\cap B_1$\n",
    "* $A_2 = A \\cap B_2$\n",
    "* $A_3 = A \\cap B_3$\n"
   ]
  },
  {
   "cell_type": "markdown",
   "metadata": {
    "ExecuteTime": {
     "end_time": "2020-01-09T21:50:32.639351Z",
     "start_time": "2020-01-09T21:50:32.637220Z"
    }
   },
   "source": [
    "# From Dinner Party Playlist to House Party Playlists"
   ]
  },
  {
   "cell_type": "markdown",
   "metadata": {
    "ExecuteTime": {
     "end_time": "2020-01-09T21:51:53.081763Z",
     "start_time": "2020-01-09T21:51:53.077870Z"
    }
   },
   "source": [
    "- House party spread across 4 rooms (living room, basement, back patio, kitchen).\n",
    "- Separate playlists playing at each location\n",
    "- Calculate conditinal probability / total probability examples"
   ]
  },
  {
   "cell_type": "code",
   "execution_count": 23,
   "metadata": {
    "ExecuteTime": {
     "end_time": "2020-01-12T04:22:40.304640Z",
     "start_time": "2020-01-12T04:22:40.279711Z"
    }
   },
   "outputs": [
    {
     "data": {
      "text/html": [
       "<div>\n",
       "<style scoped>\n",
       "    .dataframe tbody tr th:only-of-type {\n",
       "        vertical-align: middle;\n",
       "    }\n",
       "\n",
       "    .dataframe tbody tr th {\n",
       "        vertical-align: top;\n",
       "    }\n",
       "\n",
       "    .dataframe thead th {\n",
       "        text-align: right;\n",
       "    }\n",
       "</style>\n",
       "<table border=\"1\" class=\"dataframe\">\n",
       "  <thead>\n",
       "    <tr style=\"text-align: right;\">\n",
       "      <th></th>\n",
       "      <th>artist</th>\n",
       "      <th>track</th>\n",
       "      <th>Recommended By</th>\n",
       "      <th>Room</th>\n",
       "    </tr>\n",
       "  </thead>\n",
       "  <tbody>\n",
       "    <tr>\n",
       "      <td>0</td>\n",
       "      <td>Neutral Milk Hotel</td>\n",
       "      <td>Into the Aeroplane Over the Sea</td>\n",
       "      <td>James</td>\n",
       "      <td>living_room</td>\n",
       "    </tr>\n",
       "    <tr>\n",
       "      <td>1</td>\n",
       "      <td>Eve 6</td>\n",
       "      <td>Here's to the Night</td>\n",
       "      <td>James</td>\n",
       "      <td>living_room</td>\n",
       "    </tr>\n",
       "    <tr>\n",
       "      <td>2</td>\n",
       "      <td>Smashing Pumpkins</td>\n",
       "      <td>Tonight, Tonight</td>\n",
       "      <td>Anne</td>\n",
       "      <td>living_room</td>\n",
       "    </tr>\n",
       "    <tr>\n",
       "      <td>3</td>\n",
       "      <td>Black Eyed Peas</td>\n",
       "      <td>Let's Get it Started</td>\n",
       "      <td>Samantha</td>\n",
       "      <td>living_room</td>\n",
       "    </tr>\n",
       "    <tr>\n",
       "      <td>4</td>\n",
       "      <td>Black Eyed Peas</td>\n",
       "      <td>Let's Get it Started</td>\n",
       "      <td>John</td>\n",
       "      <td>living_room</td>\n",
       "    </tr>\n",
       "    <tr>\n",
       "      <td>5</td>\n",
       "      <td>B-52s</td>\n",
       "      <td>Rock Lobster</td>\n",
       "      <td>Joe</td>\n",
       "      <td>living_room</td>\n",
       "    </tr>\n",
       "    <tr>\n",
       "      <td>6</td>\n",
       "      <td>Red Hot Chili Peppers</td>\n",
       "      <td>Otherside</td>\n",
       "      <td>James</td>\n",
       "      <td>living_room</td>\n",
       "    </tr>\n",
       "    <tr>\n",
       "      <td>7</td>\n",
       "      <td>Green Day</td>\n",
       "      <td>Time of your Life</td>\n",
       "      <td>Joe</td>\n",
       "      <td>living_room</td>\n",
       "    </tr>\n",
       "    <tr>\n",
       "      <td>8</td>\n",
       "      <td>Rilo Kiley</td>\n",
       "      <td>With Arms Outstretched</td>\n",
       "      <td>James</td>\n",
       "      <td>living_room</td>\n",
       "    </tr>\n",
       "    <tr>\n",
       "      <td>9</td>\n",
       "      <td>Adele</td>\n",
       "      <td>Set Fire to the Rain</td>\n",
       "      <td>Samantha</td>\n",
       "      <td>living_room</td>\n",
       "    </tr>\n",
       "    <tr>\n",
       "      <td>10</td>\n",
       "      <td>John Lennon</td>\n",
       "      <td>Imagine</td>\n",
       "      <td>Joe</td>\n",
       "      <td>living_room</td>\n",
       "    </tr>\n",
       "    <tr>\n",
       "      <td>11</td>\n",
       "      <td>Lady GaGa</td>\n",
       "      <td>Poker Face</td>\n",
       "      <td>Joe</td>\n",
       "      <td>living_room</td>\n",
       "    </tr>\n",
       "  </tbody>\n",
       "</table>\n",
       "</div>"
      ],
      "text/plain": [
       "                   artist                            track Recommended By  \\\n",
       "0      Neutral Milk Hotel  Into the Aeroplane Over the Sea          James   \n",
       "1                   Eve 6              Here's to the Night          James   \n",
       "2       Smashing Pumpkins                 Tonight, Tonight           Anne   \n",
       "3         Black Eyed Peas             Let's Get it Started       Samantha   \n",
       "4         Black Eyed Peas             Let's Get it Started           John   \n",
       "5                   B-52s                     Rock Lobster            Joe   \n",
       "6   Red Hot Chili Peppers                        Otherside          James   \n",
       "7               Green Day                Time of your Life            Joe   \n",
       "8              Rilo Kiley           With Arms Outstretched          James   \n",
       "9                   Adele             Set Fire to the Rain       Samantha   \n",
       "10            John Lennon                          Imagine            Joe   \n",
       "11              Lady GaGa                       Poker Face            Joe   \n",
       "\n",
       "           Room  \n",
       "0   living_room  \n",
       "1   living_room  \n",
       "2   living_room  \n",
       "3   living_room  \n",
       "4   living_room  \n",
       "5   living_room  \n",
       "6   living_room  \n",
       "7   living_room  \n",
       "8   living_room  \n",
       "9   living_room  \n",
       "10  living_room  \n",
       "11  living_room  "
      ]
     },
     "metadata": {},
     "output_type": "display_data"
    },
    {
     "data": {
      "text/html": [
       "<div>\n",
       "<style scoped>\n",
       "    .dataframe tbody tr th:only-of-type {\n",
       "        vertical-align: middle;\n",
       "    }\n",
       "\n",
       "    .dataframe tbody tr th {\n",
       "        vertical-align: top;\n",
       "    }\n",
       "\n",
       "    .dataframe thead th {\n",
       "        text-align: right;\n",
       "    }\n",
       "</style>\n",
       "<table border=\"1\" class=\"dataframe\">\n",
       "  <thead>\n",
       "    <tr style=\"text-align: right;\">\n",
       "      <th></th>\n",
       "      <th>artist</th>\n",
       "      <th>track</th>\n",
       "      <th>Recommended By</th>\n",
       "      <th>Room</th>\n",
       "    </tr>\n",
       "  </thead>\n",
       "  <tbody>\n",
       "    <tr>\n",
       "      <td>0</td>\n",
       "      <td>Black Eyed Peas</td>\n",
       "      <td>Let's Get it Started</td>\n",
       "      <td>Samantha</td>\n",
       "      <td>basement</td>\n",
       "    </tr>\n",
       "    <tr>\n",
       "      <td>1</td>\n",
       "      <td>Green Day</td>\n",
       "      <td>Time of your Life</td>\n",
       "      <td>Anne</td>\n",
       "      <td>basement</td>\n",
       "    </tr>\n",
       "    <tr>\n",
       "      <td>2</td>\n",
       "      <td>Lady GaGa</td>\n",
       "      <td>Poker Face</td>\n",
       "      <td>John</td>\n",
       "      <td>basement</td>\n",
       "    </tr>\n",
       "    <tr>\n",
       "      <td>3</td>\n",
       "      <td>Panic at the Disco</td>\n",
       "      <td>Hallelujah</td>\n",
       "      <td>Samantha</td>\n",
       "      <td>basement</td>\n",
       "    </tr>\n",
       "    <tr>\n",
       "      <td>4</td>\n",
       "      <td>Adele</td>\n",
       "      <td>Set Fire to the Rain</td>\n",
       "      <td>Samantha</td>\n",
       "      <td>basement</td>\n",
       "    </tr>\n",
       "    <tr>\n",
       "      <td>5</td>\n",
       "      <td>Lady GaGa</td>\n",
       "      <td>Poker Face</td>\n",
       "      <td>Joe</td>\n",
       "      <td>basement</td>\n",
       "    </tr>\n",
       "    <tr>\n",
       "      <td>6</td>\n",
       "      <td>Black Eyed Peas</td>\n",
       "      <td>Let's Get it Started</td>\n",
       "      <td>Anne</td>\n",
       "      <td>basement</td>\n",
       "    </tr>\n",
       "    <tr>\n",
       "      <td>7</td>\n",
       "      <td>B-52s</td>\n",
       "      <td>Rock Lobster</td>\n",
       "      <td>Joe</td>\n",
       "      <td>basement</td>\n",
       "    </tr>\n",
       "    <tr>\n",
       "      <td>8</td>\n",
       "      <td>Smashing Pumpkins</td>\n",
       "      <td>Tonight, Tonight</td>\n",
       "      <td>Anne</td>\n",
       "      <td>basement</td>\n",
       "    </tr>\n",
       "    <tr>\n",
       "      <td>9</td>\n",
       "      <td>Eve 6</td>\n",
       "      <td>Here's to the Night</td>\n",
       "      <td>James</td>\n",
       "      <td>basement</td>\n",
       "    </tr>\n",
       "  </tbody>\n",
       "</table>\n",
       "</div>"
      ],
      "text/plain": [
       "               artist                 track Recommended By      Room\n",
       "0     Black Eyed Peas  Let's Get it Started       Samantha  basement\n",
       "1           Green Day     Time of your Life           Anne  basement\n",
       "2           Lady GaGa            Poker Face           John  basement\n",
       "3  Panic at the Disco            Hallelujah       Samantha  basement\n",
       "4               Adele  Set Fire to the Rain       Samantha  basement\n",
       "5           Lady GaGa            Poker Face            Joe  basement\n",
       "6     Black Eyed Peas  Let's Get it Started           Anne  basement\n",
       "7               B-52s          Rock Lobster            Joe  basement\n",
       "8   Smashing Pumpkins      Tonight, Tonight           Anne  basement\n",
       "9               Eve 6   Here's to the Night          James  basement"
      ]
     },
     "metadata": {},
     "output_type": "display_data"
    },
    {
     "data": {
      "text/html": [
       "<div>\n",
       "<style scoped>\n",
       "    .dataframe tbody tr th:only-of-type {\n",
       "        vertical-align: middle;\n",
       "    }\n",
       "\n",
       "    .dataframe tbody tr th {\n",
       "        vertical-align: top;\n",
       "    }\n",
       "\n",
       "    .dataframe thead th {\n",
       "        text-align: right;\n",
       "    }\n",
       "</style>\n",
       "<table border=\"1\" class=\"dataframe\">\n",
       "  <thead>\n",
       "    <tr style=\"text-align: right;\">\n",
       "      <th></th>\n",
       "      <th>artist</th>\n",
       "      <th>track</th>\n",
       "      <th>Recommended By</th>\n",
       "      <th>Room</th>\n",
       "    </tr>\n",
       "  </thead>\n",
       "  <tbody>\n",
       "    <tr>\n",
       "      <td>0</td>\n",
       "      <td>Black Eyed Peas</td>\n",
       "      <td>Let's Get it Started</td>\n",
       "      <td>Samantha</td>\n",
       "      <td>back_patio</td>\n",
       "    </tr>\n",
       "    <tr>\n",
       "      <td>1</td>\n",
       "      <td>Red Hot Chili Peppers</td>\n",
       "      <td>Otherside</td>\n",
       "      <td>James</td>\n",
       "      <td>back_patio</td>\n",
       "    </tr>\n",
       "    <tr>\n",
       "      <td>2</td>\n",
       "      <td>Lady GaGa</td>\n",
       "      <td>Bad Romance</td>\n",
       "      <td>John</td>\n",
       "      <td>back_patio</td>\n",
       "    </tr>\n",
       "    <tr>\n",
       "      <td>3</td>\n",
       "      <td>Lady GaGa</td>\n",
       "      <td>Poker Face</td>\n",
       "      <td>Joe</td>\n",
       "      <td>back_patio</td>\n",
       "    </tr>\n",
       "    <tr>\n",
       "      <td>4</td>\n",
       "      <td>B-52s</td>\n",
       "      <td>Rock Lobster</td>\n",
       "      <td>Joe</td>\n",
       "      <td>back_patio</td>\n",
       "    </tr>\n",
       "    <tr>\n",
       "      <td>5</td>\n",
       "      <td>Green Day</td>\n",
       "      <td>Time of your Life</td>\n",
       "      <td>Anne</td>\n",
       "      <td>back_patio</td>\n",
       "    </tr>\n",
       "    <tr>\n",
       "      <td>6</td>\n",
       "      <td>Black Eyed Peas</td>\n",
       "      <td>Let's Get it Started</td>\n",
       "      <td>Anne</td>\n",
       "      <td>back_patio</td>\n",
       "    </tr>\n",
       "    <tr>\n",
       "      <td>7</td>\n",
       "      <td>Eve 6</td>\n",
       "      <td>Here's to the Night</td>\n",
       "      <td>James</td>\n",
       "      <td>back_patio</td>\n",
       "    </tr>\n",
       "    <tr>\n",
       "      <td>8</td>\n",
       "      <td>Neutral Milk Hotel</td>\n",
       "      <td>Into the Aeroplane Over the Sea</td>\n",
       "      <td>James</td>\n",
       "      <td>back_patio</td>\n",
       "    </tr>\n",
       "  </tbody>\n",
       "</table>\n",
       "</div>"
      ],
      "text/plain": [
       "                  artist                            track Recommended By  \\\n",
       "0        Black Eyed Peas             Let's Get it Started       Samantha   \n",
       "1  Red Hot Chili Peppers                        Otherside          James   \n",
       "2              Lady GaGa                      Bad Romance           John   \n",
       "3              Lady GaGa                       Poker Face            Joe   \n",
       "4                  B-52s                     Rock Lobster            Joe   \n",
       "5              Green Day                Time of your Life           Anne   \n",
       "6        Black Eyed Peas             Let's Get it Started           Anne   \n",
       "7                  Eve 6              Here's to the Night          James   \n",
       "8     Neutral Milk Hotel  Into the Aeroplane Over the Sea          James   \n",
       "\n",
       "         Room  \n",
       "0  back_patio  \n",
       "1  back_patio  \n",
       "2  back_patio  \n",
       "3  back_patio  \n",
       "4  back_patio  \n",
       "5  back_patio  \n",
       "6  back_patio  \n",
       "7  back_patio  \n",
       "8  back_patio  "
      ]
     },
     "metadata": {},
     "output_type": "display_data"
    },
    {
     "data": {
      "text/html": [
       "<div>\n",
       "<style scoped>\n",
       "    .dataframe tbody tr th:only-of-type {\n",
       "        vertical-align: middle;\n",
       "    }\n",
       "\n",
       "    .dataframe tbody tr th {\n",
       "        vertical-align: top;\n",
       "    }\n",
       "\n",
       "    .dataframe thead th {\n",
       "        text-align: right;\n",
       "    }\n",
       "</style>\n",
       "<table border=\"1\" class=\"dataframe\">\n",
       "  <thead>\n",
       "    <tr style=\"text-align: right;\">\n",
       "      <th></th>\n",
       "      <th>artist</th>\n",
       "      <th>track</th>\n",
       "      <th>Recommended By</th>\n",
       "      <th>Room</th>\n",
       "    </tr>\n",
       "  </thead>\n",
       "  <tbody>\n",
       "    <tr>\n",
       "      <td>0</td>\n",
       "      <td>Eve 6</td>\n",
       "      <td>Here's to the Night</td>\n",
       "      <td>James</td>\n",
       "      <td>kitchen</td>\n",
       "    </tr>\n",
       "    <tr>\n",
       "      <td>1</td>\n",
       "      <td>Panic at the Disco</td>\n",
       "      <td>Hallelujah</td>\n",
       "      <td>Samantha</td>\n",
       "      <td>kitchen</td>\n",
       "    </tr>\n",
       "    <tr>\n",
       "      <td>2</td>\n",
       "      <td>Green Day</td>\n",
       "      <td>Time of your Life</td>\n",
       "      <td>Anne</td>\n",
       "      <td>kitchen</td>\n",
       "    </tr>\n",
       "    <tr>\n",
       "      <td>3</td>\n",
       "      <td>Neutral Milk Hotel</td>\n",
       "      <td>Into the Aeroplane Over the Sea</td>\n",
       "      <td>James</td>\n",
       "      <td>kitchen</td>\n",
       "    </tr>\n",
       "    <tr>\n",
       "      <td>4</td>\n",
       "      <td>Lady GaGa</td>\n",
       "      <td>Poker Face</td>\n",
       "      <td>John</td>\n",
       "      <td>kitchen</td>\n",
       "    </tr>\n",
       "    <tr>\n",
       "      <td>5</td>\n",
       "      <td>Black Eyed Peas</td>\n",
       "      <td>Let's Get it Started</td>\n",
       "      <td>John</td>\n",
       "      <td>kitchen</td>\n",
       "    </tr>\n",
       "    <tr>\n",
       "      <td>6</td>\n",
       "      <td>Smashing Pumpkins</td>\n",
       "      <td>Tonight, Tonight</td>\n",
       "      <td>Anne</td>\n",
       "      <td>kitchen</td>\n",
       "    </tr>\n",
       "    <tr>\n",
       "      <td>7</td>\n",
       "      <td>Green Day</td>\n",
       "      <td>Time of your Life</td>\n",
       "      <td>Joe</td>\n",
       "      <td>kitchen</td>\n",
       "    </tr>\n",
       "  </tbody>\n",
       "</table>\n",
       "</div>"
      ],
      "text/plain": [
       "               artist                            track Recommended By     Room\n",
       "0               Eve 6              Here's to the Night          James  kitchen\n",
       "1  Panic at the Disco                       Hallelujah       Samantha  kitchen\n",
       "2           Green Day                Time of your Life           Anne  kitchen\n",
       "3  Neutral Milk Hotel  Into the Aeroplane Over the Sea          James  kitchen\n",
       "4           Lady GaGa                       Poker Face           John  kitchen\n",
       "5     Black Eyed Peas             Let's Get it Started           John  kitchen\n",
       "6   Smashing Pumpkins                 Tonight, Tonight           Anne  kitchen\n",
       "7           Green Day                Time of your Life            Joe  kitchen"
      ]
     },
     "metadata": {},
     "output_type": "display_data"
    }
   ],
   "source": [
    "house_party = dict(living_room = df.sample(12).reset_index(drop=True).copy(),\n",
    "                   basement = df.sample(10).reset_index(drop=True).copy(), \n",
    "                   back_patio = df.sample(9).reset_index(drop=True).copy(),\n",
    "                  kitchen=df.sample(8).reset_index(drop=True).copy())\n",
    "\n",
    "for k,v in house_party.items():\n",
    "    v['Room'] = k \n",
    "    display(v)"
   ]
  },
  {
   "cell_type": "markdown",
   "metadata": {},
   "source": [
    "### OUR HOUSE PARTY & LAW OF TOTAL PROB\n",
    "- Our House Party is sample space S\n",
    "- The 4 rooms are A1,A2,A3,A4\n",
    "- B represents the probabilty of hearing a specific song or artist as you wander the house.\n",
    "<img src=\"https://raw.githubusercontent.com/jirvingphd/dsc-law-of-total-probability-online-ds-ft-100719/master/images/Image_55_TotProb.png\">"
   ]
  },
  {
   "cell_type": "code",
   "execution_count": 24,
   "metadata": {
    "ExecuteTime": {
     "end_time": "2020-01-12T04:22:40.307608Z",
     "start_time": "2020-01-12T04:22:40.305995Z"
    }
   },
   "outputs": [],
   "source": [
    "# df_house_party = pd.concat(house_party.values(),axis=0)\n",
    "# df_house_party.reset_index(inplace=True,drop=True)\n",
    "# # df_house_party"
   ]
  },
  {
   "cell_type": "code",
   "execution_count": 25,
   "metadata": {
    "ExecuteTime": {
     "end_time": "2020-01-12T04:22:40.312447Z",
     "start_time": "2020-01-12T04:22:40.308569Z"
    }
   },
   "outputs": [
    {
     "data": {
      "text/plain": [
       "12"
      ]
     },
     "execution_count": 25,
     "metadata": {},
     "output_type": "execute_result"
    }
   ],
   "source": [
    "res = house_party['living_room']['track'].value_counts()\n",
    "res.sum()"
   ]
  },
  {
   "cell_type": "code",
   "execution_count": 26,
   "metadata": {
    "ExecuteTime": {
     "end_time": "2020-01-12T04:22:40.317996Z",
     "start_time": "2020-01-12T04:22:40.313483Z"
    }
   },
   "outputs": [],
   "source": [
    "rooms_list= list(house_party.keys())\n",
    "\n",
    "def get_room_counts(room='livng_room', \n",
    "                    column='artist', return_res=False,verbose=True):\n",
    "    \"\"\"Get value counts from house_party dict for the room and specified column.\"\"\"\n",
    "    room_counts = house_party[room][column].value_counts()\n",
    "    \n",
    "    if verbose: \n",
    "        display(room_counts)\n",
    "        print('Total Tracks: ',room_counts.sum())\n",
    "    \n",
    "    if return_res:\n",
    "        return room_counts\n",
    "    \n",
    "def get_room_prob(room='living_room', column='artist',target='Green Day', verbose=True):\n",
    "    room_counts = get_room_counts(room, column, True,False)\n",
    "    if verbose:\n",
    "        print(f\"[i] Prob of {target} given {room} = {room_counts.loc[target]}/{room_counts.sum()}\")\n",
    "        \n",
    "    return room_counts.loc[target]/room_counts.sum()\n",
    "    "
   ]
  },
  {
   "cell_type": "markdown",
   "metadata": {},
   "source": [
    "### Q1: What is the probability of hearing a Green Day song at the house party at any given moment?"
   ]
  },
  {
   "cell_type": "markdown",
   "metadata": {},
   "source": [
    "$$P(A)= \\sum_i P(A \\cap B_i)= \\sum_i P(A \\mid B_i)P(B_i)$$\n",
    "\n",
    "\n",
    "$$ P(GD)=\\sum_i P(GD \\mid Room_i)P(Room_i)$$\n",
    "\n",
    "####  To Calculate $P(GD)$ =\n",
    "\n",
    "$P(GD|Room1)\\times \\frac{1}{4} + P(GD|Room2)\\times \\frac{1}{4} + P(GD|Room3)\\times \\frac{1}{4} + P(GD|Room4)\\times \\frac{1}{4} $\n",
    "\n",
    "\n",
    "\n"
   ]
  },
  {
   "cell_type": "code",
   "execution_count": 27,
   "metadata": {
    "ExecuteTime": {
     "end_time": "2020-01-12T04:22:40.321686Z",
     "start_time": "2020-01-12T04:22:40.319113Z"
    }
   },
   "outputs": [
    {
     "data": {
      "text/plain": [
       "['living_room', 'basement', 'back_patio', 'kitchen']"
      ]
     },
     "execution_count": 27,
     "metadata": {},
     "output_type": "execute_result"
    }
   ],
   "source": [
    "rooms_list"
   ]
  },
  {
   "cell_type": "code",
   "execution_count": 28,
   "metadata": {
    "ExecuteTime": {
     "end_time": "2020-01-12T04:22:40.332195Z",
     "start_time": "2020-01-12T04:22:40.322713Z"
    }
   },
   "outputs": [
    {
     "name": "stdout",
     "output_type": "stream",
     "text": [
      "[i] Prob of Green Day given living_room = 1/12\n",
      "[i] Prob of Green Day given basement = 1/10\n",
      "[i] Prob of Green Day given back_patio = 1/9\n",
      "[i] Prob of Green Day given kitchen = 2/8\n"
     ]
    },
    {
     "data": {
      "text/plain": [
       "0.13611111111111113"
      ]
     },
     "execution_count": 28,
     "metadata": {},
     "output_type": "execute_result"
    }
   ],
   "source": [
    "# p_gd_given_rm1 \n",
    "# val_counts = get_room_counts(room=rooms_list[0],column='artist',return_res=True)\n",
    "p_gd = 0\n",
    "for room in rooms_list:\n",
    "    prob_rm = get_room_prob(room=room,target='Green Day',column='artist')\n",
    "    p_gd += (prob_rm)*(1/4)\n",
    "p_gd"
   ]
  },
  {
   "cell_type": "code",
   "execution_count": 29,
   "metadata": {
    "ExecuteTime": {
     "end_time": "2020-01-12T04:22:40.341374Z",
     "start_time": "2020-01-12T04:22:40.333287Z"
    }
   },
   "outputs": [
    {
     "name": "stdout",
     "output_type": "stream",
     "text": [
      "[i] Prob of Green Day given living_room = 1/12\n",
      "[i] Prob of Green Day given basement = 1/10\n",
      "[i] Prob of Green Day given back_patio = 1/9\n",
      "[i] Prob of Green Day given kitchen = 2/8\n"
     ]
    },
    {
     "data": {
      "text/plain": [
       "0.13611111111111113"
      ]
     },
     "execution_count": 29,
     "metadata": {},
     "output_type": "execute_result"
    }
   ],
   "source": [
    "p_gd = 0\n",
    "for room in rooms_list:\n",
    "    prob_rm = get_room_prob(room=room,target='Green Day',column='artist')\n",
    "    p_gd += (prob_rm)*(1/4)\n",
    "p_gd"
   ]
  },
  {
   "cell_type": "markdown",
   "metadata": {},
   "source": [
    "### What if we have unequal probabilties for being in each room?"
   ]
  },
  {
   "cell_type": "code",
   "execution_count": 30,
   "metadata": {
    "ExecuteTime": {
     "end_time": "2020-01-12T04:22:40.345427Z",
     "start_time": "2020-01-12T04:22:40.342447Z"
    }
   },
   "outputs": [
    {
     "data": {
      "text/plain": [
       "{'living_room': 0.15, 'basement': 0.15, 'back_patio': 0.3, 'kitchen': 0.4}"
      ]
     },
     "execution_count": 30,
     "metadata": {},
     "output_type": "execute_result"
    }
   ],
   "source": [
    "rooms_probs = dict(zip(rooms_list,[0.15,0.15,0.3,0.4]))\n",
    "rooms_probs"
   ]
  },
  {
   "cell_type": "code",
   "execution_count": 31,
   "metadata": {
    "ExecuteTime": {
     "end_time": "2020-01-12T04:22:40.349232Z",
     "start_time": "2020-01-12T04:22:40.346452Z"
    }
   },
   "outputs": [
    {
     "data": {
      "text/plain": [
       "1.0"
      ]
     },
     "execution_count": 31,
     "metadata": {},
     "output_type": "execute_result"
    }
   ],
   "source": [
    "np.sum(list(rooms_probs.values()))"
   ]
  },
  {
   "cell_type": "code",
   "execution_count": 32,
   "metadata": {
    "ExecuteTime": {
     "end_time": "2020-01-12T04:22:40.359571Z",
     "start_time": "2020-01-12T04:22:40.350362Z"
    }
   },
   "outputs": [
    {
     "name": "stdout",
     "output_type": "stream",
     "text": [
      "[i] Prob of Green Day given living_room = 1/12\n",
      "[i] Prob of Green Day given basement = 1/10\n",
      "[i] Prob of Green Day given back_patio = 1/9\n",
      "[i] Prob of Green Day given kitchen = 2/8\n"
     ]
    },
    {
     "data": {
      "text/plain": [
       "0.16083333333333333"
      ]
     },
     "execution_count": 32,
     "metadata": {},
     "output_type": "execute_result"
    }
   ],
   "source": [
    "p_gd = 0\n",
    "for room,room_prob in rooms_probs.items():\n",
    "    prob_rm = get_room_prob(room=room,target='Green Day',column='artist')\n",
    "    p_gd += (prob_rm)*(room_prob)\n",
    "p_gd"
   ]
  },
  {
   "cell_type": "markdown",
   "metadata": {},
   "source": [
    "### Q: what is the probability of hearing a song recommend by Anne?"
   ]
  },
  {
   "cell_type": "markdown",
   "metadata": {},
   "source": [
    "$$ P(AnneRec)=\\sum_i P(AnneRec \\mid Room_i)P(Room_i)$$\n"
   ]
  },
  {
   "cell_type": "code",
   "execution_count": 33,
   "metadata": {
    "ExecuteTime": {
     "end_time": "2020-01-12T04:22:40.369646Z",
     "start_time": "2020-01-12T04:22:40.360698Z"
    }
   },
   "outputs": [
    {
     "name": "stdout",
     "output_type": "stream",
     "text": [
      "[i] Prob of Anne given living_room = 1/12\n",
      "[i] Prob of Anne given basement = 3/10\n",
      "[i] Prob of Anne given back_patio = 2/9\n",
      "[i] Prob of Anne given kitchen = 2/8\n"
     ]
    },
    {
     "data": {
      "text/plain": [
       "0.22416666666666668"
      ]
     },
     "execution_count": 33,
     "metadata": {},
     "output_type": "execute_result"
    }
   ],
   "source": [
    "p_anne = 0\n",
    "\n",
    "for room,room_prob in rooms_probs.items():\n",
    "    prob_rm = get_room_prob(room=room, target='Anne',column='Recommended By')\n",
    "    p_anne += (prob_rm * room_prob)\n",
    "    \n",
    "p_anne"
   ]
  },
  {
   "cell_type": "code",
   "execution_count": 34,
   "metadata": {
    "ExecuteTime": {
     "end_time": "2020-01-12T04:22:40.373996Z",
     "start_time": "2020-01-12T04:22:40.370751Z"
    }
   },
   "outputs": [
    {
     "data": {
      "text/plain": [
       "array(['John', 'Anne', 'Joe', 'Samantha', 'James'], dtype=object)"
      ]
     },
     "execution_count": 34,
     "metadata": {},
     "output_type": "execute_result"
    }
   ],
   "source": [
    "people = df[\"Recommended By\"].unique()\n",
    "people"
   ]
  },
  {
   "cell_type": "code",
   "execution_count": 35,
   "metadata": {
    "ExecuteTime": {
     "end_time": "2020-01-12T04:22:40.378506Z",
     "start_time": "2020-01-12T04:22:40.374998Z"
    }
   },
   "outputs": [],
   "source": [
    "def loop_people(people):\n",
    "    p_total = []\n",
    "    for person in people:\n",
    "        p_john = 0\n",
    "\n",
    "        for room,room_prob in rooms_probs.items():\n",
    "            try:\n",
    "                prob_rm = get_room_prob(room=room, target=person,column='Recommended By')\n",
    "                \n",
    "            except:\n",
    "                prob_rm=0\n",
    "            p_john += (prob_rm * room_prob)\n",
    "           \n",
    "            \n",
    "        p_total.append(p_john)\n",
    "\n",
    "    assert np.sum(p_total)==1.0\n",
    "    print(f\"Prob for songs by {person}= {p_john}\",end='\\n\\n')\n"
   ]
  },
  {
   "cell_type": "code",
   "execution_count": 36,
   "metadata": {
    "ExecuteTime": {
     "end_time": "2020-01-12T04:22:40.405209Z",
     "start_time": "2020-01-12T04:22:40.379482Z"
    }
   },
   "outputs": [
    {
     "name": "stdout",
     "output_type": "stream",
     "text": [
      "[i] Prob of John given living_room = 1/12\n",
      "[i] Prob of John given basement = 1/10\n",
      "[i] Prob of John given back_patio = 1/9\n",
      "[i] Prob of John given kitchen = 2/8\n",
      "[i] Prob of Anne given living_room = 1/12\n",
      "[i] Prob of Anne given basement = 3/10\n",
      "[i] Prob of Anne given back_patio = 2/9\n",
      "[i] Prob of Anne given kitchen = 2/8\n",
      "[i] Prob of Joe given living_room = 4/12\n",
      "[i] Prob of Joe given basement = 2/10\n",
      "[i] Prob of Joe given back_patio = 2/9\n",
      "[i] Prob of Joe given kitchen = 1/8\n",
      "[i] Prob of Samantha given living_room = 2/12\n",
      "[i] Prob of Samantha given basement = 3/10\n",
      "[i] Prob of Samantha given back_patio = 1/9\n",
      "[i] Prob of Samantha given kitchen = 1/8\n",
      "[i] Prob of James given living_room = 4/12\n",
      "[i] Prob of James given basement = 1/10\n",
      "[i] Prob of James given back_patio = 3/9\n",
      "[i] Prob of James given kitchen = 2/8\n",
      "Prob for songs by James= 0.265\n",
      "\n"
     ]
    }
   ],
   "source": [
    "tot = loop_people(people)\n"
   ]
  },
  {
   "cell_type": "markdown",
   "metadata": {},
   "source": [
    "# Intro to Section 18 - Statistical Distributions"
   ]
  },
  {
   "cell_type": "markdown",
   "metadata": {},
   "source": [
    "- Distributions are directly related to probability, which is a critical concept we will explore more with Hypothesis Testing in Module 3."
   ]
  },
  {
   "cell_type": "markdown",
   "metadata": {},
   "source": [
    "## Probability Mass Function (AKA Probability Distribution Function)"
   ]
  },
  {
   "cell_type": "markdown",
   "metadata": {
    "ExecuteTime": {
     "end_time": "2020-01-09T22:23:40.299352Z",
     "start_time": "2020-01-09T22:23:40.296088Z"
    }
   },
   "source": [
    "### Flipping a coin"
   ]
  },
  {
   "cell_type": "code",
   "execution_count": 37,
   "metadata": {
    "ExecuteTime": {
     "end_time": "2020-01-12T04:22:40.507170Z",
     "start_time": "2020-01-12T04:22:40.406229Z"
    }
   },
   "outputs": [
    {
     "data": {
      "text/html": [
       "<style  type=\"text/css\" >\n",
       "</style><table id=\"T_2bd105d0_34f3_11ea_b994_acde48001122\" ><caption>Current Variables by Size in Memory</caption><thead>    <tr>        <th class=\"blank level0\" ></th>        <th class=\"col_heading level0 col0\" >type</th>        <th class=\"col_heading level0 col1\" >size</th>    </tr>    <tr>        <th class=\"index_name level0\" >variable</th>        <th class=\"blank\" ></th>        <th class=\"blank\" ></th>    </tr></thead><tbody>\n",
       "                <tr>\n",
       "                        <th id=\"T_2bd105d0_34f3_11ea_b994_acde48001122level0_row0\" class=\"row_heading level0 row0\" >df</th>\n",
       "                        <td id=\"T_2bd105d0_34f3_11ea_b994_acde48001122row0_col0\" class=\"data row0 col0\" >DataFrame</td>\n",
       "                        <td id=\"T_2bd105d0_34f3_11ea_b994_acde48001122row0_col1\" class=\"data row0 col1\" >3618</td>\n",
       "            </tr>\n",
       "            <tr>\n",
       "                        <th id=\"T_2bd105d0_34f3_11ea_b994_acde48001122level0_row1\" class=\"row_heading level0 row1\" >v</th>\n",
       "                        <td id=\"T_2bd105d0_34f3_11ea_b994_acde48001122row1_col0\" class=\"data row1 col0\" >DataFrame</td>\n",
       "                        <td id=\"T_2bd105d0_34f3_11ea_b994_acde48001122row1_col1\" class=\"data row1 col1\" >2309</td>\n",
       "            </tr>\n",
       "            <tr>\n",
       "                        <th id=\"T_2bd105d0_34f3_11ea_b994_acde48001122level0_row2\" class=\"row_heading level0 row2\" >df_james_recs</th>\n",
       "                        <td id=\"T_2bd105d0_34f3_11ea_b994_acde48001122row2_col0\" class=\"data row2 col0\" >DataFrame</td>\n",
       "                        <td id=\"T_2bd105d0_34f3_11ea_b994_acde48001122row2_col1\" class=\"data row2 col1\" >991</td>\n",
       "            </tr>\n",
       "            <tr>\n",
       "                        <th id=\"T_2bd105d0_34f3_11ea_b994_acde48001122level0_row3\" class=\"row_heading level0 row3\" >df_joe_recs</th>\n",
       "                        <td id=\"T_2bd105d0_34f3_11ea_b994_acde48001122row3_col0\" class=\"data row3 col0\" >DataFrame</td>\n",
       "                        <td id=\"T_2bd105d0_34f3_11ea_b994_acde48001122row3_col1\" class=\"data row3 col1\" >928</td>\n",
       "            </tr>\n",
       "            <tr>\n",
       "                        <th id=\"T_2bd105d0_34f3_11ea_b994_acde48001122level0_row4\" class=\"row_heading level0 row4\" >res</th>\n",
       "                        <td id=\"T_2bd105d0_34f3_11ea_b994_acde48001122row4_col0\" class=\"data row4 col0\" >Series</td>\n",
       "                        <td id=\"T_2bd105d0_34f3_11ea_b994_acde48001122row4_col1\" class=\"data row4 col1\" >922</td>\n",
       "            </tr>\n",
       "            <tr>\n",
       "                        <th id=\"T_2bd105d0_34f3_11ea_b994_acde48001122level0_row5\" class=\"row_heading level0 row5\" >df_samantha_recs</th>\n",
       "                        <td id=\"T_2bd105d0_34f3_11ea_b994_acde48001122row5_col0\" class=\"data row5 col0\" >DataFrame</td>\n",
       "                        <td id=\"T_2bd105d0_34f3_11ea_b994_acde48001122row5_col1\" class=\"data row5 col1\" >777</td>\n",
       "            </tr>\n",
       "            <tr>\n",
       "                        <th id=\"T_2bd105d0_34f3_11ea_b994_acde48001122level0_row6\" class=\"row_heading level0 row6\" >df_anne_recs</th>\n",
       "                        <td id=\"T_2bd105d0_34f3_11ea_b994_acde48001122row6_col0\" class=\"data row6 col0\" >DataFrame</td>\n",
       "                        <td id=\"T_2bd105d0_34f3_11ea_b994_acde48001122row6_col1\" class=\"data row6 col1\" >771</td>\n",
       "            </tr>\n",
       "            <tr>\n",
       "                        <th id=\"T_2bd105d0_34f3_11ea_b994_acde48001122level0_row7\" class=\"row_heading level0 row7\" >df_john_recs</th>\n",
       "                        <td id=\"T_2bd105d0_34f3_11ea_b994_acde48001122row7_col0\" class=\"data row7 col0\" >DataFrame</td>\n",
       "                        <td id=\"T_2bd105d0_34f3_11ea_b994_acde48001122row7_col1\" class=\"data row7 col1\" >751</td>\n",
       "            </tr>\n",
       "            <tr>\n",
       "                        <th id=\"T_2bd105d0_34f3_11ea_b994_acde48001122level0_row8\" class=\"row_heading level0 row8\" >sTracks</th>\n",
       "                        <td id=\"T_2bd105d0_34f3_11ea_b994_acde48001122row8_col0\" class=\"data row8 col0\" >set</td>\n",
       "                        <td id=\"T_2bd105d0_34f3_11ea_b994_acde48001122row8_col1\" class=\"data row8 col1\" >736</td>\n",
       "            </tr>\n",
       "            <tr>\n",
       "                        <th id=\"T_2bd105d0_34f3_11ea_b994_acde48001122level0_row9\" class=\"row_heading level0 row9\" >sArtists</th>\n",
       "                        <td id=\"T_2bd105d0_34f3_11ea_b994_acde48001122row9_col0\" class=\"data row9 col0\" >set</td>\n",
       "                        <td id=\"T_2bd105d0_34f3_11ea_b994_acde48001122row9_col1\" class=\"data row9 col1\" >736</td>\n",
       "            </tr>\n",
       "    </tbody></table>"
      ],
      "text/plain": [
       "<pandas.io.formats.style.Styler at 0x1a1fa88be0>"
      ]
     },
     "metadata": {},
     "output_type": "display_data"
    },
    {
     "name": "stdout",
     "output_type": "stream",
     "text": [
      "#[i] set `print_names=True` for var names to copy/paste.\n",
      "---------------------------------------------\n"
     ]
    }
   ],
   "source": [
    "fs.ds.inspect_variables(locals())"
   ]
  },
  {
   "cell_type": "code",
   "execution_count": 38,
   "metadata": {
    "ExecuteTime": {
     "end_time": "2020-01-12T04:22:40.511668Z",
     "start_time": "2020-01-12T04:22:40.508234Z"
    }
   },
   "outputs": [],
   "source": [
    "from collections import Counter\n",
    "\n",
    "def coin_toss(n_flips=10,outcomes=None,verbose=True,\n",
    "              plot_outcomes=True):\n",
    "    if outcomes is None:\n",
    "        outcomes = []\n",
    "    \n",
    "    for toss in range(n_flips):\n",
    "        result = 'H' if np.random.random() >0.5 else 'T'\n",
    "        outcomes.append(result)\n",
    "        q\n",
    "        if verbose: print(f\"Toss {toss}: \\t{result}\")\n",
    "            \n",
    "    if plot_outcomes:\n",
    "        fig,ax = plot_outcomes(outcomes)\n",
    "    return outcomes\n",
    "#     else:        \n",
    "#         counter = Counter(outcomes)\n",
    "#         return counter"
   ]
  },
  {
   "cell_type": "code",
   "execution_count": 39,
   "metadata": {
    "ExecuteTime": {
     "end_time": "2020-01-12T04:22:40.517356Z",
     "start_time": "2020-01-12T04:22:40.512776Z"
    }
   },
   "outputs": [],
   "source": [
    "def plot_outcomes(outcomes):\n",
    "    if isinstance(outcomes,list):\n",
    "        from collections import Counter\n",
    "        counter = Counter(outcomes)\n",
    "\n",
    "    fig,ax=plt.subplots(ncols=2,figsize=(12,4))\n",
    "    \n",
    "    pmf = [] \n",
    "    for k,v in counter.items():\n",
    "        pmf.append(round(v/len(outcomes),2))\n",
    "\n",
    "\n",
    "    ax[0].bar(counter.keys(),pmf)\n",
    "    ax[0].set(title=f'PMF (sum={np.sum(pmf)})',ylabel='Frequency',xlabel='Outcomes')\n",
    "    \n",
    "    ax[1].hist(list(counter.elements()))#counter.keys(),counter.values())\n",
    "    ax[1].set(title=f'Histogram (sum={np.sum(list(outcomes.values()))})',ylabel='Counts',xlabel='Outcomes')\n",
    "    \n",
    "    plt.tight_layout()\n",
    "    plt.show()\n",
    "    return fig,ax"
   ]
  },
  {
   "cell_type": "code",
   "execution_count": 63,
   "metadata": {
    "ExecuteTime": {
     "end_time": "2020-01-12T04:26:50.111005Z",
     "start_time": "2020-01-12T04:26:50.107393Z"
    }
   },
   "outputs": [
    {
     "data": {
      "text/plain": [
       "Counter({'T': 2, 'H': 3})"
      ]
     },
     "execution_count": 63,
     "metadata": {},
     "output_type": "execute_result"
    }
   ],
   "source": [
    "len(list(counter.elements()))\n",
    "counter"
   ]
  },
  {
   "cell_type": "code",
   "execution_count": 64,
   "metadata": {
    "ExecuteTime": {
     "end_time": "2020-01-12T04:27:10.303931Z",
     "start_time": "2020-01-12T04:27:10.297204Z"
    }
   },
   "outputs": [],
   "source": [
    "def plot_pmf_vs_hist(counter):\n",
    "    if isinstance(counter,list):\n",
    "        from collections import Counter\n",
    "        counter = Counter(counter)\n",
    "\n",
    "    fig,ax=plt.subplots(ncols=2,figsize=(12,4))\n",
    "    \n",
    "    outcomes =list(counter.elements())\n",
    "\n",
    "    pmf = [] \n",
    "    for k,v in counter.items():\n",
    "        pmf.append(round(v/len(outcomes),2))\n",
    "\n",
    "\n",
    "    ax[0].bar(counter.keys(),pmf)\n",
    "    ax[0].set(title=f'PMF (sum={np.sum(pmf)})',ylabel='Frequency',xlabel='Outcomes')\n",
    "    \n",
    "    \n",
    "    ax[1].hist(list(counter.elements()))#counter.keys(),counter.values())\n",
    "    ax[1].set(title=f'Histogram (sum={np.sum(list(counter.values()))})',ylabel='Counts',xlabel='Outcomes')\n",
    "    \n",
    "    plt.tight_layout()\n",
    "    plt.show()\n",
    "    return fig,ax"
   ]
  },
  {
   "cell_type": "code",
   "execution_count": 65,
   "metadata": {
    "ExecuteTime": {
     "end_time": "2020-01-12T04:27:10.917530Z",
     "start_time": "2020-01-12T04:27:10.915389Z"
    }
   },
   "outputs": [],
   "source": [
    "# outcomes=[]\n",
    "# outcomes = coin_toss(n_flips=5,outcomes=outcomes)\n",
    "# outcomes = coin_toss(n_flips=10, outcomes=outcomes)\n",
    "# plot_outcomes(outcomes)"
   ]
  },
  {
   "cell_type": "code",
   "execution_count": 66,
   "metadata": {
    "ExecuteTime": {
     "end_time": "2020-01-12T04:27:11.131839Z",
     "start_time": "2020-01-12T04:27:11.128171Z"
    }
   },
   "outputs": [
    {
     "name": "stdout",
     "output_type": "stream",
     "text": [
      "Toss 0: \tH\n",
      "Toss 1: \tH\n",
      "Toss 2: \tT\n",
      "Toss 3: \tT\n",
      "Toss 4: \tH\n"
     ]
    }
   ],
   "source": [
    "outcomes=[]\n",
    "outcomes = coin_toss(n_flips=5,outcomes=outcomes,plot_outcomes=False)"
   ]
  },
  {
   "cell_type": "code",
   "execution_count": 67,
   "metadata": {
    "ExecuteTime": {
     "end_time": "2020-01-12T04:27:11.281887Z",
     "start_time": "2020-01-12T04:27:11.278561Z"
    }
   },
   "outputs": [
    {
     "data": {
      "text/plain": [
       "Counter({'H': 3, 'T': 2})"
      ]
     },
     "execution_count": 67,
     "metadata": {},
     "output_type": "execute_result"
    }
   ],
   "source": [
    "counter= Counter(outcomes)\n",
    "counter"
   ]
  },
  {
   "cell_type": "code",
   "execution_count": 68,
   "metadata": {
    "ExecuteTime": {
     "end_time": "2020-01-12T04:27:12.079266Z",
     "start_time": "2020-01-12T04:27:11.603302Z"
    }
   },
   "outputs": [
    {
     "data": {
      "image/png": "[encoded data removed]",
      "text/plain": [
       "<Figure size 864x288 with 2 Axes>"
      ]
     },
     "metadata": {
      "needs_background": "light"
     },
     "output_type": "display_data"
    },
    {
     "data": {
      "image/png": "[encoded data removed]",
      "text/plain": [
       "<Figure size 864x288 with 2 Axes>"
      ]
     },
     "metadata": {
      "needs_background": "light"
     },
     "output_type": "display_data"
    },
    {
     "data": {
      "text/plain": [
       "((<Figure size 864x288 with 2 Axes>,\n",
       "  array([<matplotlib.axes._subplots.AxesSubplot object at 0x1a21f65128>,\n",
       "         <matplotlib.axes._subplots.AxesSubplot object at 0x1a22137c88>],\n",
       "        dtype=object)),\n",
       " (<Figure size 864x288 with 2 Axes>,\n",
       "  array([<matplotlib.axes._subplots.AxesSubplot object at 0x1a22158a90>,\n",
       "         <matplotlib.axes._subplots.AxesSubplot object at 0x1a20da6e48>],\n",
       "        dtype=object)))"
      ]
     },
     "execution_count": 68,
     "metadata": {},
     "output_type": "execute_result"
    }
   ],
   "source": [
    "plot_pmf_vs_hist(counter), plot_pmf_vs_hist(outcomes)"
   ]
  },
  {
   "cell_type": "code",
   "execution_count": 69,
   "metadata": {
    "ExecuteTime": {
     "end_time": "2020-01-12T04:27:12.083483Z",
     "start_time": "2020-01-12T04:27:12.080476Z"
    }
   },
   "outputs": [
    {
     "data": {
      "text/plain": [
       "list"
      ]
     },
     "execution_count": 69,
     "metadata": {},
     "output_type": "execute_result"
    }
   ],
   "source": [
    "type(outcomes)"
   ]
  },
  {
   "cell_type": "code",
   "execution_count": 70,
   "metadata": {
    "ExecuteTime": {
     "end_time": "2020-01-12T04:27:12.361665Z",
     "start_time": "2020-01-12T04:27:12.359111Z"
    },
    "scrolled": false
   },
   "outputs": [],
   "source": [
    "# ## COMB INED FOR GRIDSEARCH FOR RANDOM SEED\n",
    "# # roll=1\n",
    "\n",
    "# # print(f'[i] Roll {roll}')\n",
    "# # outcomes = coin_toss(n_flips=12,outcomes=outcomes)\n",
    "# # plot_pmf_vs_hist(outcomes)\n",
    "\n",
    "# # def flip_again(n_flips=[10],outcomes=None):#,fig,ax):\n",
    "# #     if isinstance(n_flips,int):\n",
    "# #         n_flips=[n_flips]\n",
    "# #     for n_flip in n_flips:\n",
    "# #         outcomes = coin_toss(n_flips=n_flip,outcomes=outcomes)\n",
    "# #         plot_pmf_vs_hist(outcomes)\n",
    "# #     return outcomes\n",
    "\n",
    "# for seed in [0,1,123,42,131]:\n",
    "#     print(f'[i] Using seed {seed}')\n",
    "#     np.random.seed(seed)\n",
    "#     outcomes=None\n",
    "#     outcomes = flip_again([10])\n",
    "# #     outcomes = coin_toss(n_flips=20,outcomes=outcomes)\n",
    "# #     plot_pmf_vs_hist(outcomes)"
   ]
  },
  {
   "cell_type": "code",
   "execution_count": null,
   "metadata": {},
   "outputs": [],
   "source": []
  },
  {
   "cell_type": "code",
   "execution_count": 71,
   "metadata": {
    "ExecuteTime": {
     "end_time": "2020-01-12T04:27:12.968061Z",
     "start_time": "2020-01-12T04:27:12.954153Z"
    }
   },
   "outputs": [
    {
     "name": "stdout",
     "output_type": "stream",
     "text": [
      "Toss 0: \tH\n",
      "Toss 1: \tT\n",
      "Toss 2: \tT\n",
      "Toss 3: \tH\n",
      "Toss 4: \tH\n",
      "Toss 5: \tH\n",
      "Toss 6: \tT\n",
      "Toss 7: \tT\n",
      "Toss 8: \tH\n",
      "Toss 9: \tT\n",
      "Toss 10: \tH\n",
      "Toss 11: \tH\n"
     ]
    },
    {
     "ename": "TypeError",
     "evalue": "'bool' object is not callable",
     "output_type": "error",
     "traceback": [
      "\u001b[0;31m---------------------------------------------------------------------------\u001b[0m",
      "\u001b[0;31mTypeError\u001b[0m                                 Traceback (most recent call last)",
      "\u001b[0;32m<ipython-input-71-96aadd2b768a>\u001b[0m in \u001b[0;36m<module>\u001b[0;34m\u001b[0m\n\u001b[0;32m----> 1\u001b[0;31m \u001b[0moutcomes\u001b[0m \u001b[0;34m=\u001b[0m \u001b[0mcoin_toss\u001b[0m\u001b[0;34m(\u001b[0m\u001b[0mn_flips\u001b[0m\u001b[0;34m=\u001b[0m\u001b[0;36m12\u001b[0m\u001b[0;34m,\u001b[0m\u001b[0moutcomes\u001b[0m\u001b[0;34m=\u001b[0m\u001b[0moutcomes\u001b[0m\u001b[0;34m)\u001b[0m\u001b[0;34m\u001b[0m\u001b[0;34m\u001b[0m\u001b[0m\n\u001b[0m\u001b[1;32m      2\u001b[0m \u001b[0mplot_pmf_vs_hist\u001b[0m\u001b[0;34m(\u001b[0m\u001b[0moutcomes\u001b[0m\u001b[0;34m)\u001b[0m\u001b[0;34m\u001b[0m\u001b[0;34m\u001b[0m\u001b[0m\n",
      "\u001b[0;32m<ipython-input-38-f9b80d455cb0>\u001b[0m in \u001b[0;36mcoin_toss\u001b[0;34m(n_flips, outcomes, verbose, plot_outcomes)\u001b[0m\n\u001b[1;32m     13\u001b[0m \u001b[0;34m\u001b[0m\u001b[0m\n\u001b[1;32m     14\u001b[0m     \u001b[0;32mif\u001b[0m \u001b[0mplot_outcomes\u001b[0m\u001b[0;34m:\u001b[0m\u001b[0;34m\u001b[0m\u001b[0;34m\u001b[0m\u001b[0m\n\u001b[0;32m---> 15\u001b[0;31m         \u001b[0mfig\u001b[0m\u001b[0;34m,\u001b[0m\u001b[0max\u001b[0m \u001b[0;34m=\u001b[0m \u001b[0mplot_outcomes\u001b[0m\u001b[0;34m(\u001b[0m\u001b[0moutcomes\u001b[0m\u001b[0;34m)\u001b[0m\u001b[0;34m\u001b[0m\u001b[0;34m\u001b[0m\u001b[0m\n\u001b[0m\u001b[1;32m     16\u001b[0m     \u001b[0;32mreturn\u001b[0m \u001b[0moutcomes\u001b[0m\u001b[0;34m\u001b[0m\u001b[0;34m\u001b[0m\u001b[0m\n\u001b[1;32m     17\u001b[0m \u001b[0;31m#     else:\u001b[0m\u001b[0;34m\u001b[0m\u001b[0;34m\u001b[0m\u001b[0;34m\u001b[0m\u001b[0m\n",
      "\u001b[0;31mTypeError\u001b[0m: 'bool' object is not callable"
     ]
    }
   ],
   "source": [
    "outcomes = coin_toss(n_flips=12,outcomes=outcomes)\n",
    "plot_pmf_vs_hist(outcomes)"
   ]
  },
  {
   "cell_type": "code",
   "execution_count": 59,
   "metadata": {
    "ExecuteTime": {
     "end_time": "2020-01-12T04:25:30.955480Z",
     "start_time": "2020-01-12T04:25:30.953593Z"
    }
   },
   "outputs": [],
   "source": [
    "# outcomes = coin_toss(n_flips=21,outcomes=outcomes)\n",
    "# plot_pmf_vs_hist(outcomes)"
   ]
  },
  {
   "cell_type": "code",
   "execution_count": null,
   "metadata": {
    "ExecuteTime": {
     "end_time": "2020-01-12T04:22:40.658151Z",
     "start_time": "2020-01-12T04:22:37.516Z"
    }
   },
   "outputs": [],
   "source": [
    "# outcomes = coin_toss(n_flips=20,outcomes=outcomes)\n",
    "# plot_pmf_vs_hist(outcomes)"
   ]
  },
  {
   "cell_type": "code",
   "execution_count": null,
   "metadata": {
    "ExecuteTime": {
     "end_time": "2020-01-12T04:22:40.659140Z",
     "start_time": "2020-01-12T04:22:37.518Z"
    },
    "scrolled": false
   },
   "outputs": [],
   "source": [
    "outcomes = coin_toss(n_flips=200,outcomes=outcomes)\n",
    "plot_pmf_vs_hist(outcomes)"
   ]
  },
  {
   "cell_type": "code",
   "execution_count": null,
   "metadata": {
    "ExecuteTime": {
     "end_time": "2020-01-12T04:22:40.660057Z",
     "start_time": "2020-01-12T04:22:37.520Z"
    }
   },
   "outputs": [],
   "source": [
    "outcomes[:20]"
   ]
  },
  {
   "cell_type": "markdown",
   "metadata": {},
   "source": [
    "# For Next Time:\n",
    "- Get vocab straight for dists\n",
    "- Interpolation"
   ]
  },
  {
   "cell_type": "code",
   "execution_count": null,
   "metadata": {},
   "outputs": [],
   "source": []
  }
 ],
 "metadata": {
  "colab": {
   "collapsed_sections": [],
   "name": "sect_17_prob_&_comb.ipynb",
   "provenance": []
  },
  "kernelspec": {
   "display_name": "Python [conda env:learn-env] *",
   "language": "python",
   "name": "conda-env-learn-env-py"
  },
  "language_info": {
   "codemirror_mode": {
    "name": "ipython",
    "version": 3
   },
   "file_extension": ".py",
   "mimetype": "text/x-python",
   "name": "python",
   "nbconvert_exporter": "python",
   "pygments_lexer": "ipython3",
   "version": "3.6.9"
  },
  "toc": {
   "base_numbering": 1,
   "nav_menu": {},
   "number_sections": true,
   "sideBar": true,
   "skip_h1_title": false,
   "title_cell": "Table of Contents",
   "title_sidebar": "Contents",
   "toc_cell": false,
   "toc_position": {
    "height": "508px",
    "left": "54px",
    "top": "110px",
    "width": "425.764px"
   },
   "toc_section_display": true,
   "toc_window_display": true
  },
  "varInspector": {
   "cols": {
    "lenName": 16,
    "lenType": 16,
    "lenVar": 40
   },
   "kernels_config": {
    "python": {
     "delete_cmd_postfix": "",
     "delete_cmd_prefix": "del ",
     "library": "var_list.py",
     "varRefreshCmd": "print(var_dic_list())"
    },
    "r": {
     "delete_cmd_postfix": ") ",
     "delete_cmd_prefix": "rm(",
     "library": "var_list.r",
     "varRefreshCmd": "cat(var_dic_list()) "
    }
   },
   "types_to_exclude": [
    "module",
    "function",
    "builtin_function_or_method",
    "instance",
    "_Feature"
   ],
   "window_display": false
  }
 },
 "nbformat": 4,
 "nbformat_minor": 1
}
