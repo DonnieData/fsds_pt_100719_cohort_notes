{
 "cells": [
  {
   "cell_type": "markdown",
   "metadata": {
    "colab_type": "text",
    "id": "tDKmrDSfq6L7"
   },
   "source": [
    "# Web Scraping 101 & HTML/CSS beyond scraping\n",
    "\n",
    "- James M. Irving, Ph.D.\n",
    "- james.irving@flatironschool.com\n"
   ]
  },
  {
   "cell_type": "markdown",
   "metadata": {
    "colab_type": "text",
    "id": "JU_U8mWD-WLR"
   },
   "source": [
    "## Learning Objectives / Outline\n",
    "\n"
   ]
  },
  {
   "cell_type": "markdown",
   "metadata": {
    "colab_type": "text",
    "id": "9Wnkf6zBwjsF"
   },
   "source": [
    "- Brief Overview of HTML & CSS\n",
    "- Learn when you will use HTML & CSS in your data science journey\n",
    "- Beyond Web Scraping:\n",
    "    - Demonstrate the power of CSS with a Plotly/Dash dashboard. \n",
    "    - Demonstrate the value of learning HTML/CSS with VS Code.\n",
    "\n",
    "- Walk through the basics of web scraping:\n",
    "    - Learn to use Chrome's Inspect tool to hunt down target website data\n",
    "    - Learn how to use Beautiful Soup to scrape the contents of a web page. \n",
    "\n",
    "- **Create our own web scraping functions  to add to `fsds_100719`.**\n",
    "\n",
    " \n",
    " \n",
    "    \n",
    "\n"
   ]
  },
  {
   "cell_type": "markdown",
   "metadata": {
    "colab_type": "text",
    "id": "VSGt5VhvJ_3c"
   },
   "source": [
    "# Quick Overview - CSS & HTML"
   ]
  },
  {
   "cell_type": "markdown",
   "metadata": {
    "colab_type": "text",
    "id": "_Ahn6EqsGR53"
   },
   "source": [
    "- HMTL is responsible for the _content_ of a website.\n",
    "- CSS is responsible for the appearance / layout of a website.\n",
    "\n"
   ]
  },
  {
   "cell_type": "markdown",
   "metadata": {
    "colab_type": "text",
    "id": "xSwUhVVTwvRq"
   },
   "source": [
    "## HTML & Tags\n"
   ]
  },
  {
   "cell_type": "markdown",
   "metadata": {
    "colab_type": "text",
    "id": "7jZuk4QQ17nU"
   },
   "source": [
    "- All HTML pages have the following components\n",
    "    1. document declaration followed by html tag\n",
    "    \n",
    "    `<!DOCTYPE html>`<br>\n",
    "    `<html>`\n",
    "    2. Head\n",
    "     html tag<br>\n",
    "    `<head> <title></title></head>`\n",
    "    3. Body<br>\n",
    "    `<body>` ... content... `</body>`<br>\n",
    "    `</html>`\n",
    "\n",
    "- Html content is divdied into **tags** that specify the type of content.\n",
    "    - [Basic Tags Reference Table](https://www.w3schools.com/tags/ref_byfunc.asp)\n",
    "    - [Full Alphabetical Tag Reference Table](https://www.w3schools.com/tags/)\n",
    "    \n",
    "    - **tags** have attributes\n",
    "        - [Tag Attributes](https://www.w3schools.com/html/html_attributes.asp)\n",
    "        - Attributes are always defined in the start/opening tag. \n",
    "\n",
    "    - **tags** may have several content-creator-defined attributes such as `class` or `id`\n",
    "- We will **use the tag and its identifying attributes to isolate content** we want on a web page with BeautifulSoup.\n",
    "\n",
    "___"
   ]
  },
  {
   "cell_type": "markdown",
   "metadata": {
    "colab_type": "text",
    "id": "6-hbk2aTEzLw"
   },
   "source": [
    "## CSS Overview\n"
   ]
  },
  {
   "cell_type": "markdown",
   "metadata": {
    "colab_type": "text",
    "id": "4hvax5OIHGsI"
   },
   "source": [
    "\n",
    "### List the Components of CSS\n",
    "*Excerpt From Section 13: Intro to CSS*\n",
    "\n",
    ">For each **presentation rule**, there are 3 things to keep in mind:\n",
    "1. What is the specific HTML we want to style?\n",
    "2. What are the qualities we want to modify (e.g. the properties of text\n",
    "   in a paragraph)?\n",
    "3. _How_ do we want to modify the qualities of the element (e.g. font\n",
    "   family, font color, font size, line height, letter spacing, etc.)?\n",
    "\n",
    "\n",
    "> CSS **selectors** are a way of declaring which HTML elements you wish to style.\n",
    "Selectors can appear a few different ways:\n",
    "- The type of HTML element(`h1`, `p`, `div`, etc.)\n",
    "- The value of an element's `id` or `class` (`<p id='idvalue'></p>`, `<p\n",
    "  class='classname'></p>`)\n",
    "- The value of an element's attributes (`value=\"hello\"`)\n",
    "- The element's relationship with surrounding elements (a `p` within an element\n",
    "  with class of `.infobox`)\n",
    "\n",
    "[Type selectors documentation](https://developer.mozilla.org/en-US/docs/Web/CSS/Type_selectors)\n",
    "\n",
    "The element type `class` is a commonly used selector. Class selectors are used\n",
    "to **select all elements that share a given class name**. The class selector\n",
    "syntax is: `.classname`. Prefix the class name with a '.'(period).\n",
    "\n",
    "```css\n",
    "/*\n",
    "select all elements that have the 'important-topic' classname (e.g. <h1 class='important-topic'>\n",
    "and <h1 class='important-topic'>)\n",
    "*/\n",
    ".important-topic\n",
    "```\n",
    "\n"
   ]
  },
  {
   "cell_type": "markdown",
   "metadata": {
    "colab_type": "text",
    "id": "G0JWx49oH6fb"
   },
   "source": [
    "\n",
    "You can also use the `id` selector to style elements. However, **there should\n",
    "be only one element with a given id** in an HTML document. This can make\n",
    "styling with the ID selector ideal for one-off styles. The `id` selector syntax\n",
    "is: `#idvalue`. Prefix the id attribute of an element with a `#` (which is\n",
    "called \"octothorpe,\" \"pound sign\", or \"hashtag\").\n",
    "\n",
    "```css\n",
    "/*\n",
    "selects the HTML element with the id 'main-header' (e.g. <h1 id='main-header'>)\n",
    "*/\n",
    "#main-header\n",
    "\n",
    "```\n",
    "\n",
    "[id selectors documentation](https://developer.mozilla.org/en-US/docs/Web/CSS/ID_selectors)"
   ]
  },
  {
   "cell_type": "markdown",
   "metadata": {
    "colab_type": "text",
    "id": "-DXm5OZKpaZg"
   },
   "source": [
    "# When will I use my new HTML & CSS knowledge?\n"
   ]
  },
  {
   "cell_type": "markdown",
   "metadata": {
    "colab_type": "text",
    "id": "FT9Mk2TaEpNt"
   },
   "source": [
    "1. Most obvious example is Web scraping \n",
    "2. HTML tags can be used inside markdown Inide your notebook with Markdown HTML tags for alignment, images, etc.\n",
    "3. Controlling the appearance of Pandas with CSS\n",
    "    - https://pandas.pydata.org/pandas-docs/stable/user_guide/style.html\n",
    "4. ipywidget layouts (i.e. fsds_100719.ihelp_menu)\n",
    "5. <div style=\"color:blue;justify-text:center\">YOUR NOTEBOOKS!</div>\n",
    "\n",
    "- Plotly and Dash customization\n",
    "\n",
    "> ~~DEMONSTRATION: CSS STYLING A DASHBOARD~~"
   ]
  },
  {
   "cell_type": "code",
   "execution_count": 1,
   "metadata": {
    "colab": {},
    "colab_type": "code",
    "id": "gh6WTxiVYqkh"
   },
   "outputs": [
    {
     "name": "stdout",
     "output_type": "stream",
     "text": [
      "fsds_1007219  v0.5.6 loaded.  Read the docs: https://fsds.readthedocs.io/en/latest/ \n"
     ]
    },
    {
     "data": {
      "text/html": [
       "<style  type=\"text/css\" >\n",
       "</style><table id=\"T_aeffcea6_204d_11ea_a2b5_4865ee12e626\" ><caption>Loaded Packages and Handles</caption><thead>    <tr>        <th class=\"col_heading level0 col0\" >Handle</th>        <th class=\"col_heading level0 col1\" >Package</th>        <th class=\"col_heading level0 col2\" >Description</th>    </tr></thead><tbody>\n",
       "                <tr>\n",
       "                                <td id=\"T_aeffcea6_204d_11ea_a2b5_4865ee12e626row0_col0\" class=\"data row0 col0\" >dp</td>\n",
       "                        <td id=\"T_aeffcea6_204d_11ea_a2b5_4865ee12e626row0_col1\" class=\"data row0 col1\" >IPython.display</td>\n",
       "                        <td id=\"T_aeffcea6_204d_11ea_a2b5_4865ee12e626row0_col2\" class=\"data row0 col2\" >Display modules with helpful display and clearing commands.</td>\n",
       "            </tr>\n",
       "            <tr>\n",
       "                                <td id=\"T_aeffcea6_204d_11ea_a2b5_4865ee12e626row1_col0\" class=\"data row1 col0\" >fs</td>\n",
       "                        <td id=\"T_aeffcea6_204d_11ea_a2b5_4865ee12e626row1_col1\" class=\"data row1 col1\" >fsds_100719</td>\n",
       "                        <td id=\"T_aeffcea6_204d_11ea_a2b5_4865ee12e626row1_col2\" class=\"data row1 col2\" >Custom data science bootcamp student package</td>\n",
       "            </tr>\n",
       "            <tr>\n",
       "                                <td id=\"T_aeffcea6_204d_11ea_a2b5_4865ee12e626row2_col0\" class=\"data row2 col0\" >mpl</td>\n",
       "                        <td id=\"T_aeffcea6_204d_11ea_a2b5_4865ee12e626row2_col1\" class=\"data row2 col1\" >matplotlib</td>\n",
       "                        <td id=\"T_aeffcea6_204d_11ea_a2b5_4865ee12e626row2_col2\" class=\"data row2 col2\" >Matplotlib's base OOP module with formatting artists</td>\n",
       "            </tr>\n",
       "            <tr>\n",
       "                                <td id=\"T_aeffcea6_204d_11ea_a2b5_4865ee12e626row3_col0\" class=\"data row3 col0\" >plt</td>\n",
       "                        <td id=\"T_aeffcea6_204d_11ea_a2b5_4865ee12e626row3_col1\" class=\"data row3 col1\" >matplotlib.pyplot</td>\n",
       "                        <td id=\"T_aeffcea6_204d_11ea_a2b5_4865ee12e626row3_col2\" class=\"data row3 col2\" >Matplotlib's matlab-like plotting module</td>\n",
       "            </tr>\n",
       "            <tr>\n",
       "                                <td id=\"T_aeffcea6_204d_11ea_a2b5_4865ee12e626row4_col0\" class=\"data row4 col0\" >np</td>\n",
       "                        <td id=\"T_aeffcea6_204d_11ea_a2b5_4865ee12e626row4_col1\" class=\"data row4 col1\" >numpy</td>\n",
       "                        <td id=\"T_aeffcea6_204d_11ea_a2b5_4865ee12e626row4_col2\" class=\"data row4 col2\" >scientific computing with Python</td>\n",
       "            </tr>\n",
       "            <tr>\n",
       "                                <td id=\"T_aeffcea6_204d_11ea_a2b5_4865ee12e626row5_col0\" class=\"data row5 col0\" >pd</td>\n",
       "                        <td id=\"T_aeffcea6_204d_11ea_a2b5_4865ee12e626row5_col1\" class=\"data row5 col1\" >pandas</td>\n",
       "                        <td id=\"T_aeffcea6_204d_11ea_a2b5_4865ee12e626row5_col2\" class=\"data row5 col2\" >High performance data structures and tools</td>\n",
       "            </tr>\n",
       "            <tr>\n",
       "                                <td id=\"T_aeffcea6_204d_11ea_a2b5_4865ee12e626row6_col0\" class=\"data row6 col0\" >sns</td>\n",
       "                        <td id=\"T_aeffcea6_204d_11ea_a2b5_4865ee12e626row6_col1\" class=\"data row6 col1\" >seaborn</td>\n",
       "                        <td id=\"T_aeffcea6_204d_11ea_a2b5_4865ee12e626row6_col2\" class=\"data row6 col2\" >High-level data visualization library based on matplotlib</td>\n",
       "            </tr>\n",
       "    </tbody></table>"
      ],
      "text/plain": [
       "<pandas.io.formats.style.Styler at 0x11aa0ca90>"
      ]
     },
     "metadata": {},
     "output_type": "display_data"
    }
   ],
   "source": [
    "!pip install fsds_100719, fake_useragent,lxml\n",
    "# !pip install fake_useragent\n",
    "# !pip install lxml\n",
    "from fsds_100719.imports import *"
   ]
  },
  {
   "cell_type": "code",
   "execution_count": 0,
   "metadata": {
    "colab": {},
    "colab_type": "code",
    "id": "dMtG8DfLtWzG"
   },
   "outputs": [],
   "source": [
    "# fs.jmi.ihelp_menu(pd.DataFrame)"
   ]
  },
  {
   "cell_type": "markdown",
   "metadata": {
    "colab_type": "text",
    "id": "xTuSwL_QE21F"
   },
   "source": [
    "# Basics of Web Scraping"
   ]
  },
  {
   "cell_type": "markdown",
   "metadata": {
    "colab_type": "text",
    "id": "G8RaN-P7-aO7"
   },
   "source": [
    "\n",
    "\n",
    "### Recommended packages/tools to use\n",
    "1. `fake_useragent`\n",
    "    - pip-installable module that conveniently supplies fake user agent information to use in your request headers.\n",
    "    - recommended by udemy course\n",
    "2. `lxml`\n",
    "    - popular pip installable html parser (recommended by Udemy course)\n",
    "    - using `'html.parser'` in requests.get() did not work for me, I had to install lxml"
   ]
  },
  {
   "cell_type": "markdown",
   "metadata": {
    "colab_type": "text",
    "id": "FaWIHHicwtAr"
   },
   "source": [
    "## Using python's `requests` module:\n"
   ]
  },
  {
   "cell_type": "markdown",
   "metadata": {
    "colab_type": "text",
    "id": "7JpBMzWysPb0"
   },
   "source": [
    "\n",
    "-  Use `requests` library to initiate connections to a website.\n",
    "- Check the status code returned to determine if connection was successful (status code=200)\n",
    "\n",
    "```python\n",
    "import requests\n",
    "url = 'https://en.wikipedia.org/wiki/Stock_market'\n",
    "\n",
    "# Connect to the url using requests.get\n",
    "response = requests.get(url)\n",
    "response.status_code\n",
    "```\n",
    "\n",
    " ___\n",
    "| Status Code | Code Meaning \n",
    "| --------- | -------------|\n",
    "1xx |   Informational\n",
    "2xx|    Success \n",
    "3xx|     Redirection\n",
    "4xx|     Client Error \n",
    "5xx |    Server Error\n",
    "\n",
    "___\n",
    "\n"
   ]
  },
  {
   "cell_type": "markdown",
   "metadata": {
    "colab_type": "text",
    "id": "-bJEevoTDebn"
   },
   "source": [
    "- **`response` is a dictionary with the contents printed below**\n",
    "\n",
    "- **Note: You can add a `timeout` to `requests.get()` to avoid indefinite waiting**\n",
    "    - Best in multiples of 3 (`timeout=3` or `6` , `9` ,etc.)\n",
    "\n",
    "```python\n",
    "# Add a timeout to prevent hanging\n",
    "response = requests.get(url, timeout=3)\n",
    "response.status_code\n",
    "\n",
    "```\n",
    "\n",
    "\n"
   ]
  },
  {
   "cell_type": "code",
   "execution_count": 0,
   "metadata": {
    "colab": {},
    "colab_type": "code",
    "id": "AEfuIseSn328"
   },
   "outputs": [],
   "source": [
    "## Lets make this a function:\n",
    "def get_response(url = 'https://en.wikipedia.org/wiki/Stock_market',timeout=3,\n",
    "                 verbose=2):\n",
    "    \"\"\"Getting and previewing the website urls response.\n",
    "\n",
    "    Args: \n",
    "        url (str): page to get\n",
    "        timeout (int):  time to delay request\n",
    "        verbose (0,1,2): controls info display. 1= header, 2=header+status_code\n",
    "\n",
    "    Returns:\n",
    "        response (Response)\n",
    "    \"\"\"\n",
    "    import requests\n",
    "\n",
    "    response = requests.get(url=url, timeout=timeout)\n",
    "    if verbose>1:\n",
    "        print('Status code: ',response.status_code)\n",
    "\n",
    "        if response.status_code==200:\n",
    "            print('Connection successfull.\\n\\n')\n",
    "        else: \n",
    "            print('Error. Check status code table.\\n\\n')    \n",
    "\n",
    "    if verbose >0:    \n",
    "        # Print out the contents of a request's response\n",
    "        print(f\"{'---'*20}\\n\\tContents of Response.items():\\n{'---'*20}\")\n",
    "\n",
    "        for k,v in response.headers.items():\n",
    "            print(f\"{k:{25}}: {v:{40}}\") # Note: add :{number} inside of a   \n",
    "\n",
    "    return response\n",
    "        \n",
    "response = get_response(verbose=0)\n",
    "# help(response)"
   ]
  },
  {
   "cell_type": "code",
   "execution_count": 0,
   "metadata": {
    "colab": {},
    "colab_type": "code",
    "id": "w5Rn-Y0N0q3B"
   },
   "outputs": [],
   "source": [
    "# import requests\n",
    "# url = 'https://en.wikipedia.org/wiki/Stock_market'\n",
    "\n",
    "# response = requests.get(url, timeout=3)\n",
    "# print('Status code: ',response.status_code)\n",
    "# if response.status_code==200:\n",
    "#     print('Connection successfull.\\n\\n')\n",
    "# else: \n",
    "#     print('Error. Check status code table.\\n\\n')    \n",
    "\n",
    "    \n",
    "# # Print out the contents of a request's response\n",
    "# print(f\"{'---'*20}\\n\\tContents of Response.items():\\n{'---'*20}\")\n",
    "\n",
    "# for k,v in response.headers.items():\n",
    "#     print(f\"{k:{25}}: {v:{40}}\") # Note: add :{number} inside of a    "
   ]
  },
  {
   "cell_type": "code",
   "execution_count": 0,
   "metadata": {
    "colab": {},
    "colab_type": "code",
    "id": "fbpLnJrzDetE"
   },
   "outputs": [],
   "source": [
    "# for k,v in response.headers.items():\n",
    "#     print(f\"{k:{30}}:{v:{20}}\") # Note: add :{number} inside of a  "
   ]
  },
  {
   "cell_type": "markdown",
   "metadata": {
    "colab_type": "text",
    "id": "HAPbGwxTDZbG"
   },
   "source": []
  },
  {
   "cell_type": "markdown",
   "metadata": {
    "colab_type": "text",
    "id": "KjXVI4Qpw2_n"
   },
   "source": [
    "### Sidebar Notes - Explaining The Above Text Printing/Formatting:**\n"
   ]
  },
  {
   "cell_type": "markdown",
   "metadata": {
    "colab_type": "text",
    "id": "ZkwN3WP80tiS"
   },
   "source": [
    "\n",
    "- **You can repeat strings by using multiplication**\n",
    "    - `'---'*20` will repeat the dashed lines 20 times\n",
    "\n",
    "- **You can determine how much space is alloted for a variable when using f-strings**\n",
    "    - Add a `:{##}` after the variable to specify the allocated width\n",
    "    - Add a `>` before the `{##}` to force alignment \n",
    "    - Add another symbol (like '.'' or '-') before `>` to add guiding-line/placeholder (like in a table of contents)\n",
    "\n",
    "```python\n",
    "print(f\"Status code: {response.status_code}\")\n",
    "print(f\"Status code: {response.status_code:>{20}}\")\n",
    "print(f\"Status code: {response.status_code:->{20}}\")\n",
    "```    \n",
    "```\n",
    "# Returns:\n",
    "Status code: 200\n",
    "Status code:                  200\n",
    "Status code: -----------------200\n",
    "```"
   ]
  },
  {
   "cell_type": "markdown",
   "metadata": {
    "colab_type": "text",
    "id": "hO3ac1hE8gr5"
   },
   "source": [
    "___"
   ]
  },
  {
   "cell_type": "markdown",
   "metadata": {
    "colab_type": "text",
    "id": "v7H_4da2vkGL"
   },
   "source": []
  },
  {
   "cell_type": "markdown",
   "metadata": {
    "colab_type": "text",
    "id": "we-zGs8lw7kY"
   },
   "source": [
    "#  Using `BeautifulSoup`\n"
   ]
  },
  {
   "cell_type": "markdown",
   "metadata": {
    "colab_type": "text",
    "id": "5mPEFZu5pjdR"
   },
   "source": [
    "### Cook a soup\n"
   ]
  },
  {
   "cell_type": "markdown",
   "metadata": {
    "colab_type": "text",
    "id": "bDQT-D171lhn"
   },
   "source": [
    "\n",
    "\n",
    "- Connect to a website using`response = requests.get(url)`\n",
    "- Feed `response.content` into BeautifulSoup \n",
    "- Must specify the parser that will analyze the contents\n",
    "    - default available is `'html.parser'`\n",
    "    - recommended is to install and use `lxml` [[lxml documentation](https://lxml.de/3.7/)]\n",
    "- use soup.prettify() to get a user-friendly version of the content to print\n",
    "\n",
    "```python\n",
    "# Define Url and establish connection\n",
    "url = 'https://en.wikipedia.org/wiki/Stock_market'\n",
    "response = requests.get(url, timeout=3)\n",
    "\n",
    "# Feed the response's .content into BeauitfulSoup\n",
    "page_content = response.content\n",
    "soup = BeautifulSoup(page_content,'lxml') #'html.parser')\n",
    "\n",
    "# Preview soup contents using .prettify()\n",
    "print(soup.prettify()[:2000])\n",
    "\n",
    "```\n",
    "\n",
    "\n"
   ]
  },
  {
   "cell_type": "code",
   "execution_count": 0,
   "metadata": {
    "colab": {},
    "colab_type": "code",
    "id": "GGI05UfxoDaP"
   },
   "outputs": [],
   "source": [
    "import requests\n",
    "from time import sleep\n",
    "from bs4 import BeautifulSoup\n",
    "response = get_response(verbose=0)\n",
    "\n",
    "c = response.content\n",
    "# feed content into a beautiful soup using lxml\n",
    "soup = BeautifulSoup(c,'lxml')\n",
    "soup"
   ]
  },
  {
   "cell_type": "code",
   "execution_count": 0,
   "metadata": {
    "colab": {},
    "colab_type": "code",
    "id": "Lj8ASjVnouHF"
   },
   "outputs": [],
   "source": [
    "## Lets make this into a function\n",
    "def placeholder2():\n",
    "    pass"
   ]
  },
  {
   "cell_type": "markdown",
   "metadata": {
    "colab_type": "text",
    "id": "Rkqfa-kvE-7Q"
   },
   "source": [
    "## What's in a Soup?\n"
   ]
  },
  {
   "cell_type": "code",
   "execution_count": 0,
   "metadata": {
    "colab": {},
    "colab_type": "code",
    "id": "z9QqWYYlophQ"
   },
   "outputs": [],
   "source": [
    "help(soup)"
   ]
  },
  {
   "cell_type": "code",
   "execution_count": 0,
   "metadata": {
    "colab": {},
    "colab_type": "code",
    "id": "fUBqsrfO0nNO"
   },
   "outputs": [],
   "source": [
    "# soup.body"
   ]
  },
  {
   "cell_type": "markdown",
   "metadata": {
    "colab_type": "text",
    "id": "FieLZ63VVEXi"
   },
   "source": [
    "- **A soup is essentially a collection of `tag objects`**\n",
    "    - each tag from the html is a tag object in the soup\n",
    "    - the tag's maintain the hierarchy of the html page, so tag objects will contain _other_ tag objects that were under it in the html tree.\n",
    "\n",
    "- **Each tag has a:**\n",
    "    - `.name`\n",
    "    - `.contents`\n",
    "    - `.string`\n",
    "    \n",
    "- **A tag can be access by name (like a column in a dataframe using dot notation)**\n",
    "    - and then you can access the tags within the new tag-variable just like the first tag\n",
    "    ```python\n",
    "    # Access tags by name\n",
    "    meta = soup.meta\n",
    "    head = soup.head\n",
    "    body = soup.body\n",
    "    # and so on...\n",
    "    ```\n",
    "- [!] ***BUT this will only return the FIRST tag of that type, to access all occurances of a tag-type, we will need to navigate the html family tree***\n"
   ]
  },
  {
   "cell_type": "markdown",
   "metadata": {
    "colab_type": "text",
    "id": "gtZhVt8BFCXz"
   },
   "source": [
    "\n",
    "### Navigating the HTML Family Tree: Children, siblings, and parents"
   ]
  },
  {
   "cell_type": "markdown",
   "metadata": {
    "colab_type": "text",
    "id": "_ZCLylw9RkVL"
   },
   "source": [
    "\n",
    "\n",
    "- **Each tag is located within a tree-hierarchy of parents, siblings, and children**\n",
    "    - The family-relation is based on the identation level of the tags.\n",
    "\n",
    "- **Methods/attributes for the location/related tags of a tag**\n",
    "    - `.parent`, `.parents`\n",
    "    - `.child`, `.children`\n",
    "    - `.descendents`\n",
    "    - `.next_sibling`, `.previous_sibling`\n",
    "\n",
    "- *Note: a newline character `\\n` is also considered a tag/sibling/child*\n",
    "\n",
    "#### Accessing Child Tags\n",
    "\n",
    "- To get to later occurances of a tag type (i.e. the 2nd `<p>` tag in a tree), we need to navigate through the parent tag's `children`\n",
    "    - To access an iterable list of a tag's children use `.children`\n",
    "        - But, this only returns its *direct children*  (one indentation level down)     \n",
    "        \n",
    "    ```python\n",
    "    # print direct children of the body tag\n",
    "    body = soup.body\n",
    "    for child in body.children:\n",
    "        # print child if its not empty\n",
    "        print(child if child is not None else ' ', '\\n\\n')  # '\\n\\n' for visual separation\n",
    "    ```\n",
    "- To access *all children* use `.descendents`\n",
    "    - Returns all chidren and children of children\n",
    "    ```python\n",
    "    for child in body.descendents:\n",
    "        # print all children/grandchildren, etc\n",
    "        print(child if child is not None else ' ','\\n\\n')  \n",
    "    ```\n",
    "    \n",
    "#### Accessing Parent tags\n",
    "\n",
    "- To access the parent of a tag use `.parent`\n",
    "```python\n",
    "title = soup.head.title\n",
    "print(title.parent.name)\n",
    "```\n",
    "\n",
    "- To get a list of _all parents_ use `.parents`\n",
    "```python\n",
    "title = soup.head.title\n",
    "for parent in title.parents:\n",
    "    print(parent.name)\n",
    "```\n",
    "\n",
    "#### Accessing Sibling tags\n",
    "- siblings are tags in the same tree indentation level\n",
    "- `.next_sibling`, `.previous_sibling`\n"
   ]
  },
  {
   "cell_type": "markdown",
   "metadata": {
    "colab_type": "text",
    "id": "pTDsYxx6Gafk"
   },
   "source": [
    "## Searching Through Soup\n"
   ]
  },
  {
   "cell_type": "markdown",
   "metadata": {
    "colab_type": "text",
    "id": "Vfo7esGvpMm9"
   },
   "source": [
    "### Finding the target tags to isolate\n"
   ]
  },
  {
   "cell_type": "markdown",
   "metadata": {
    "colab_type": "text",
    "id": "YXktQsDvWW0A"
   },
   "source": [
    "\n",
    "\n",
    "Using example  from  [Wikipedia article](https://en.wikipedia.org/wiki/Stock_market)\n",
    "where we are trying to isolate the body of the article content.\n",
    "\n",
    "\n",
    "- **Examine the website using Chrome's inspect view.**\n",
    "\n",
    "    - Press F12 or right-click > inspect\n",
    "\n",
    "    - Use the mouse selector tool (top left button) to explore the web page content for your desired target\n",
    "        - the web page element will be highlighted on the page itself and its corresponding entry in the document tree.\n",
    "        - Note: click on the web page with the selector in order to keep it selected in the document tree\n",
    "\n",
    "    - Take note of any identifying attributes for the target tag (class, id, etc)\n",
    "<img src=\"https://drive.google.com/uc?export-download&id=1KifQ_ukuXFdnCh1Tz1rwzA_cWkB_45mf\" width=450>\n",
    "\n",
    "### Using BeautifulSoup's search functions\n",
    "Note: while the process below is a decent summary, there is more nuance to html/css tags than I personally have been able to digest. \n",
    "    - If something doesn't work as expected/explained, please verify in the documentation.\n",
    "        - [BeauitfulSoup documentation](https://www.crummy.com/software/BeautifulSoup/bs4/doc/#beautiful-soup-documentation)\n",
    "        - [docs for .find_all()](https://www.crummy.com/software/BeautifulSoup/bs4/doc/#find-all)\n",
    "    \n",
    "- **BeautifulSoup has methods for searching through descendent-tags**\n",
    "    - `.find`\n",
    "    - `.find_all`\n",
    "    \n",
    "- **Using `.find_all()`**\n",
    "    - Searches through all descendent tags and returns a result set (list of tag objects)\n",
    "```python\n",
    "# How to get results from .find_all()\n",
    "results = soup.find_all(name, attrs, recursive, string, limit,**kwargs) `\n",
    "```        \n",
    "    - `.find_all()` parameters:\n",
    "        - `name` _(type of tags to consider)_\n",
    "            - only consider tags with this name \n",
    "                - Ex: 'a',  'div', 'p' ,etc.\n",
    "        - `atrrs`_(css attributes that you are looking for in your target tag)_\n",
    "            - enter an attribute such as the class or id as a string\n",
    "\n",
    "                `attrs='mw-content-ltr'`\n",
    "            - if passing more than one attribute, must use a dictionary:\n",
    "\n",
    "            `attrs={'class':'mw-content-ltr', 'id':'mw-content-text'}`\n",
    "        - `recursive`_(Default=True)_\n",
    "            - search all children (`True`)\n",
    "            - search only  direct children(`False`)\n",
    "\n",
    "        - `string`\n",
    "            - search for text _inside_ of tags instead of the tags themselves\n",
    "            - can be regular expression\n",
    "        - `limit`\n",
    "            - How many results you want it to return\n",
    "\n",
    "\n",
    "    \n"
   ]
  },
  {
   "cell_type": "code",
   "execution_count": 0,
   "metadata": {
    "colab": {
     "base_uri": "https://localhost:8080/",
     "height": 462
    },
    "colab_type": "code",
    "id": "MAjyd1X72tKK",
    "outputId": "1205ff75-87c5-40c7-a957-b3c67d4c3471"
   },
   "outputs": [
    {
     "name": "stdout",
     "output_type": "stream",
     "text": [
      "Status code:  200\n",
      "Connection successfull.\n",
      "\n",
      "\n",
      "------------------------------------------------------------\n",
      "\tContents of Response.items():\n",
      "------------------------------------------------------------\n",
      "x-content-type-options   : nosniff                                 \n",
      "strict-transport-security: max-age=31536000, max-age=31536000      \n",
      "x-xss-protection         : 1; mode=block                           \n",
      "x-frame-options          : SAMEORIGIN                              \n",
      "content-security-policy  : default-src 'self' blob: wss: data: https:; img-src 'self' data: https:; script-src 'self' 'unsafe-eval' 'unsafe-inline' blob: data: https:; style-src 'self' 'unsafe-inline' data: https:; \n",
      "Content-Type             : text/html;charset=utf-8                 \n",
      "rlogid                   : t6klaook%60b0%3D%3C%3Dosuojbnkmcc4%3B(56%3B5257-16e41dc436f-0x2a04\n",
      "Content-Encoding         : gzip                                    \n",
      "x-envoy-upstream-service-time: 195                                     \n",
      "x-ebay-pop-id            : UFES2-FRA-dweb-1                        \n",
      "Server                   : envoy                                   \n",
      "X-EdgeConnect-MidMile-RTT: 6                                       \n",
      "X-EdgeConnect-Origin-MEX-Latency: 201                                     \n",
      "Date                     : Wed, 06 Nov 2019 17:56:24 GMT           \n",
      "Transfer-Encoding        : chunked                                 \n",
      "Connection               : keep-alive, Transfer-Encoding           \n",
      "Vary                     : Accept-Encoding                         \n",
      "Set-Cookie               : dp1=bbl/US61857048^; Domain=.ebay.com; Path=/; Expires=Fri, 05 Nov 2021 17:56:24 GMT, nonsession=BAQAAAW4fHJjkAAaAADMABV+kPMg5NDA0MwDKACBhhXBINDFkYzQzODMxNmUwYTY4ZDU2NzhhMGQ1ZmZkNzc0MzUAywABXcMQUDFiLJ526XRaUdHg6iGwnQh3nkA0Ag**; Domain=.ebay.com; Path=/; Expires=Fri, 05 Nov 2021 17:56:24 GMT, s=CgAD4ACBdxFrINDFkYzQzODMxNmUwYTY4ZDU2NzhhMGQ1ZmZkNzc0MzXxs16W; Domain=.ebay.com; Path=/; HttpOnly, ebay=%5Esbf%3D%23000000%5E; Domain=.ebay.com; Path=/\n"
     ]
    }
   ],
   "source": [
    "response = get_response(url='https://www.ebay.com/')\n",
    "\n",
    "c = response.content\n",
    "# feed content into a beautiful soup using lxml\n",
    "soup = BeautifulSoup(c,'lxml')\n",
    "\n",
    "target_class= 'hl-item__displayPrice secondary-text'"
   ]
  },
  {
   "cell_type": "code",
   "execution_count": 0,
   "metadata": {
    "colab": {},
    "colab_type": "code",
    "id": "Gf8pI5VK3Fwx"
   },
   "outputs": [],
   "source": [
    "tags = soup.find_all('span',attrs={'class':target_class})"
   ]
  },
  {
   "cell_type": "code",
   "execution_count": 0,
   "metadata": {
    "colab": {
     "base_uri": "https://localhost:8080/",
     "height": 54
    },
    "colab_type": "code",
    "id": "f2EsZDhn3Ftx",
    "outputId": "c89d2b4d-471b-4fef-c288-53115575cecb"
   },
   "outputs": [
    {
     "data": {
      "text/plain": [
       "<span class=\"hl-item__displayPrice secondary-text\"><!--M^s0-0-3_1-0-2[5]-4-match-media-0-ebay-carousel-4[0]-8[0]-0-15[0[0]] s0-0-3_1-0-2[5]-4-match-media-0-ebay-carousel-4[0]-8[0] 15[0[0]]-->$2,149.00<!--M/--></span>"
      ]
     },
     "execution_count": 35,
     "metadata": {
      "tags": []
     },
     "output_type": "execute_result"
    }
   ],
   "source": [
    "tags[0]"
   ]
  },
  {
   "cell_type": "code",
   "execution_count": 0,
   "metadata": {
    "colab": {
     "base_uri": "https://localhost:8080/",
     "height": 54
    },
    "colab_type": "code",
    "id": "NJkRhE6f3Frp",
    "outputId": "88b55477-5142-49c9-8e62-f3b727d697ee"
   },
   "outputs": [
    {
     "data": {
      "text/plain": [
       "'M^s0-0-3_1-0-2[5]-4-match-media-0-ebay-carousel-4[0]-8[0]-0-15[0[0]] s0-0-3_1-0-2[5]-4-match-media-0-ebay-carousel-4[0]-8[0] 15[0[0]] $2,149.00 M/'"
      ]
     },
     "execution_count": 50,
     "metadata": {
      "tags": []
     },
     "output_type": "execute_result"
    }
   ],
   "source": [
    "tag0=tags[0]\n",
    "target = tag0.contents\n",
    "target = ' '.join(target)\n",
    "target"
   ]
  },
  {
   "cell_type": "markdown",
   "metadata": {
    "colab_type": "text",
    "id": "3mnqtIzLFmXR"
   },
   "source": [
    "## Using RegularExpressions to sift through the content.\n",
    "- Best Hands On Tester for Regex:\n",
    "    - https://regex101.com/\n",
    "    - Select \"Python\" on the left side of the page.\n",
    "    - Paste the text you want to sift through in the large center window.\n",
    "    - Type your expression in the top center window.\n",
    "    - It will highlight the text that matches your regular expression in the big center panel. \n",
    "\n",
    "- Cheatsheet for Regex Symbols:\n",
    "    - https://www.debuggex.com/cheatsheet/regex/python"
   ]
  },
  {
   "cell_type": "code",
   "execution_count": 0,
   "metadata": {
    "colab": {
     "base_uri": "https://localhost:8080/",
     "height": 34
    },
    "colab_type": "code",
    "id": "ARB9GOg-3Fps",
    "outputId": "47933797-b731-4012-b612-959341806d10"
   },
   "outputs": [
    {
     "data": {
      "text/plain": [
       "['$2,149.00']"
      ]
     },
     "execution_count": 51,
     "metadata": {
      "tags": []
     },
     "output_type": "execute_result"
    }
   ],
   "source": [
    "import re\n",
    "price =  re.compile(\"(\\$\\d\\,\\d*\\.\\d{2})\")\n",
    "price.findall(target)"
   ]
  },
  {
   "cell_type": "markdown",
   "metadata": {
    "colab_type": "text",
    "id": "NIIRHp-T5PvA"
   },
   "source": [
    "# END OF RECORDED LESSON"
   ]
  },
  {
   "cell_type": "markdown",
   "metadata": {
    "colab_type": "text",
    "id": "zr65hBzg5Phe"
   },
   "source": [
    "# BONUS FUNCTIONS: didn't get to in class"
   ]
  },
  {
   "cell_type": "code",
   "execution_count": 0,
   "metadata": {
    "colab": {},
    "colab_type": "code",
    "id": "4RM3tQkqyuoe"
   },
   "outputs": [],
   "source": [
    "def get_all_links(soup):#,attr_kwds=None):\n",
    "    \"\"\"Finds all links inside of soup that have the attributes(attr_kwds),which will be used in soup.findAll(attrs=attr_kwds).\n",
    "    Returns a list of links.\n",
    "    tag_type = 'a' or 'href'\"\"\"\n",
    "    all_a_tags = soup.findAll('a',attrs=kwds) \n",
    "    link_list = []\n",
    "    for link in all_a_tags:\n",
    "        test_link = link.get('href')#,attr=kwds)\n",
    "#         test_link = link.get('href',attrs=kwds)\n",
    "        link_list.append(test_link)\n",
    "    return link_list"
   ]
  },
  {
   "cell_type": "code",
   "execution_count": 0,
   "metadata": {
    "colab": {},
    "colab_type": "code",
    "id": "UNjG2XYFyPIH"
   },
   "outputs": [],
   "source": [
    "def make_absolute_links(source_url, rel_link_list):\n",
    "    \"\"\"Accepts the source_url for the source page of the rel_link_list and uses urljoin to return a list of valid absolute links.\"\"\"\n",
    "    \n",
    "    from urllib.parse import urlparse, urljoin\n",
    "\n",
    "    absolute_links=[]\n",
    "\n",
    "    # Create a for loop to loop through links and make absolute html paths\n",
    "    for link in rel_link_list:\n",
    "\n",
    "        # Get base url using a url pasers and the story_url at the beginning of the nb\n",
    "        abs_link = urljoin(source_url,link)    \n",
    "\n",
    "        #concatenate and append to a list \n",
    "        absolute_links.append(abs_link)\n",
    "    \n",
    "    return absolute_links"
   ]
  },
  {
   "cell_type": "markdown",
   "metadata": {
    "colab_type": "text",
    "id": "eVfjE8RhHZq-"
   },
   "source": [
    "## Ex Functions\n"
   ]
  },
  {
   "cell_type": "markdown",
   "metadata": {
    "colab_type": "text",
    "id": "9xBlb5NuyeAC"
   },
   "source": [
    "- `soup = cook_soup_from_url(url)`\n",
    "    - make a beautiful soup from url\n",
    "-`soup_links = get_all_links(soup)`\n",
    "    - get all links from soup and return as a list.\n",
    "    \n",
    "-  `absolute_links = make_absolute_links(url, soup_links) `\n",
    "    - use If `soup_links` are relative links that do not include the website domain and start with '../' instead of 'https://www... ').\n",
    "    - then can use the `absolute_links` to make new soups to continue searching for your desired content.\n"
   ]
  },
  {
   "cell_type": "code",
   "execution_count": 0,
   "metadata": {
    "colab": {},
    "colab_type": "code",
    "id": "UwR64_fYv3Up"
   },
   "outputs": [],
   "source": [
    "def cook_soup_from_url(url, parser='lxml',sleep_time=0):\n",
    "    \"\"\"Uses requests to retreive webpage and returns a BeautifulSoup made using lxml parser.\"\"\"\n",
    "    import requests\n",
    "    from time import sleep\n",
    "    from bs4 import BeautifulSoup\n",
    "    \n",
    "    sleep(sleep_time)\n",
    "    response = requests.get(url)\n",
    "    \n",
    "    # check status of request\n",
    "    if response.status_code != 200:\n",
    "        raise Exception(f'Error: Status_code !=200.\\n status_code={response.status_code}')\n",
    "                        \n",
    "    c = response.content\n",
    "    # feed content into a beautiful soup using lxml\n",
    "    soup = BeautifulSoup(c,'lxml')\n",
    "    return soup"
   ]
  },
  {
   "cell_type": "code",
   "execution_count": 0,
   "metadata": {
    "colab": {},
    "colab_type": "code",
    "id": "Zo1sJyNE6ZCb"
   },
   "outputs": [],
   "source": [
    "def cook_batch_of_soups(link_list, sleep_time=1): #,user_fun = extract_target_text):\n",
    "    \"\"\"Accepts a list of links to extract and save in a list of dictionaries of soups\n",
    "    with their relative url path as their key.\n",
    "    Set user_fun to None to just extract full soups without user_extract\"\"\"\n",
    "    from time import sleep\n",
    "    from urllib.parse import urlparse, urljoin\n",
    "\n",
    "    batch_of_soups = []\n",
    "    \n",
    "    for link in link_list:\n",
    "        soup_dict = {}\n",
    "        \n",
    "        \n",
    "        # turn the url path into the dictionary key/title\n",
    "        url_dict_key_path = urlparse(link).path\n",
    "        url_dict_key = url_dict_key_path.split('/')[-1]\n",
    "        \n",
    "        soup_dict['_url'] = link\n",
    "        soup_dict['path'] = url_dict_key\n",
    "\n",
    "        # make a soup from the current link\n",
    "        page_soup = cook_soup_from_url(link, sleep_time=sleep_time)\n",
    "        soup_dict['soup'] = page_soup\n",
    "\n",
    "        \n",
    "#         if user_fun!=None:\n",
    "#             ## ADDING USER-SPECIFIED EXTRACTION FUNCTION       \n",
    "#             user_output = user_fun(page_soup) #can add inputs to function\n",
    "#             soup_dict['user_extract'] = user_output\n",
    "        \n",
    "        # Add current page's soup to batch_of_soups list\n",
    "        batch_of_soups.append(soup_dict)\n",
    "        \n",
    "    return batch_of_soups\n",
    "\n",
    "\n",
    "def extract_target_text(soup_or_tag,tag_name='p', attrs_dict=None, join_text =True, save_files=False):\n",
    "    \"\"\"User-specified function to add extraction of specific content during 'cook batch of soups'\"\"\"\n",
    "    \n",
    "    if attrs_dict==None:\n",
    "        found_tags = soup_or_tag.find_all(name=tag_name)\n",
    "    else:\n",
    "        found_tags = soup_or_tag.find_all(name=tag_name,attrs=attrs_dict)\n",
    "    \n",
    "    \n",
    "    # if extracting from multiple tags\n",
    "    output=[]\n",
    "    output = [tag.text for tag in found_tags if tag.text is not None]\n",
    "    \n",
    "    if join_text == True:\n",
    "        output = ' '.join(output)\n",
    "\n",
    "    ## ADDING SAVING EACH \n",
    "    if save_files==True:\n",
    "        text = output #soup.body.string\n",
    "        filename =f\"drive/My Drive/text_extract_{url_dict_key}.txt\"\n",
    "        soup_dict['filename'] = filename\n",
    "        with open(filename,'w+') as f:\n",
    "            f.write(text)\n",
    "        print(f'File  successfully saved as {filename}')\n",
    "\n",
    "    return  output\n",
    "\n"
   ]
  },
  {
   "cell_type": "code",
   "execution_count": 0,
   "metadata": {
    "colab": {},
    "colab_type": "code",
    "id": "0ODwEjKH92T5"
   },
   "outputs": [],
   "source": [
    "def pickled_soup(soups, save_location='./', pickle_name='exported_soups.pckl'):\n",
    "    import pickle\n",
    "    import sys\n",
    "    \n",
    "    filepath = save_location+pickle_name\n",
    "    \n",
    "    with open(filepath,'wb') as f:\n",
    "        pickle.dump(soups, f)\n",
    "        \n",
    "    return print(f'Soup successfully pickled. Stored as {filepath}.')\n",
    "\n",
    "def load_leftovers(filepath):\n",
    "    import pickle\n",
    "    \n",
    "    print(f'Opening leftovers: {filepath}')\n",
    "    \n",
    "    with open(filepath, 'rb') as f:\n",
    "        leftover_soup = pickle.load(f)\n",
    "        \n",
    "    return leftover_soup\n",
    "        "
   ]
  },
  {
   "cell_type": "markdown",
   "metadata": {
    "colab_type": "text",
    "id": "Ng-HN_rRymjI"
   },
   "source": [
    "#### Walkthrough - using James' functions"
   ]
  },
  {
   "cell_type": "code",
   "execution_count": 0,
   "metadata": {
    "colab": {},
    "colab_type": "code",
    "id": "1Pg3VWWmypij"
   },
   "outputs": [],
   "source": [
    "import requests\n",
    "from bs4 import BeautifulSoup\n",
    "from urllib.parse import urlparse, urljoin\n",
    "\n",
    "from fake_useragent import UserAgent\n",
    "url = 'https://en.wikipedia.org/wiki/Stock_market'\n",
    "soup = cook_soup_from_url(url,sleep_time=1)\n",
    "\n",
    "\n",
    "## Get all links that match are interal wikipedia redirects [yes?]\n",
    "kwds = {'class':'mw-redirect'}\n",
    "links = get_all_links(soup)#,kwds)\n",
    "\n",
    "\n",
    "# preview first 5 links\n",
    "print(links[:5])\n",
    "\n",
    "# Turn relative links into absolute links\n",
    "abs_links = make_absolute_links(url,links)\n",
    "print(abs_links[:5])"
   ]
  },
  {
   "cell_type": "code",
   "execution_count": 0,
   "metadata": {
    "colab": {},
    "colab_type": "code",
    "id": "6tCwXLiN7UCk"
   },
   "outputs": [],
   "source": [
    "# Selecting only the first 5 links to test\n",
    "abs_links_for_soups = abs_links[:5]\n",
    "\n",
    "\n",
    "# Cooking a batch of soups from those chosen links\n",
    "batch_of_soups = cook_batch_of_soups(abs_links_for_soups, sleep_time=2)\n",
    "\n",
    "# batch_of_soups is a list as long as the input link_list\n",
    "print(f'# of input links: == # of soups in batch:\\n{len(abs_links_for_soups)} == {len(batch_of_soups)}\\n')\n",
    "\n",
    "# batch_of_soups is a list of soup-dictionaries\n",
    "soup_dict = batch_of_soups[0]\n",
    "print('Each soup_dict has ',soup_dict.keys())\n",
    "\n",
    "# the page's soup is stored under soup_dict['soup']\n",
    "soup_from_soup_dict = soup_dict['soup']\n",
    "type(soup_from_soup_dict)"
   ]
  },
  {
   "cell_type": "markdown",
   "metadata": {
    "colab_type": "text",
    "id": "hFVnj20YmQK2"
   },
   "source": [
    "#### Notes on extracting content.\n",
    "- Edit the `extract_target_text function` in the James' functions settings or uncomment and use the `extract_target_text_custom function` below"
   ]
  },
  {
   "cell_type": "code",
   "execution_count": 0,
   "metadata": {
    "colab": {},
    "colab_type": "code",
    "id": "QwU8aPHJhAVm"
   },
   "outputs": [],
   "source": [
    "## ADDING extract_target_text to precisely target text\n",
    "# def extract_target_text_custom(soup_or_tag,tag_name='p', attrs_dict=None, join_text =True, save_files=False):\n",
    "#     \"\"\"User-specified function to add extraction of specific content during 'cook batch of soups'\"\"\"\n",
    "    \n",
    "#     if attrs_dict==None:\n",
    "#         found_tags = soup_or_tag.find_all(name=tag_name)\n",
    "#     else:\n",
    "#         found_tags = soup_or_tag.find_all(name=tag_name,attrs=attrs_dict)\n",
    "    \n",
    "    \n",
    "#     # if extracting from multiple tags\n",
    "#     output=[]\n",
    "#     output = [tag.text for tag in found_tags if tag.text is not None]\n",
    "    \n",
    "#     if join_text == True:\n",
    "#         output = ' '.join(output)\n",
    "\n",
    "#     ## ADDING SAVING EACH \n",
    "#     if save_files==True:\n",
    "#         text = output #soup.body.string\n",
    "#         filename =f\"drive/My Drive/text_extract_{url_dict_key}.txt\"\n",
    "#         soup_dict['filename'] = filename\n",
    "#         with open(filename,'w+') as f:\n",
    "#             f.write(text)\n",
    "#         print(f'File  successfully saved as {filename}')\n",
    "\n",
    "#     return  output\n",
    "\n",
    "# ####################\n",
    "\n",
    "## RUN A LOOP TO ADD EXTRACTED TEXT TO EACH SOUP IN THE BATCH\n",
    "for i, soup_dict in enumerate(batch_of_soups):\n",
    "    \n",
    "    # Get the soup from the dict\n",
    "    soup = soup_dict['soup']\n",
    "    \n",
    "    # Extract text \n",
    "    extracted_text = extract_target_text(soup)\n",
    "    \n",
    "    # Add key:value for results of extract\n",
    "    soup_dict['extracted'] = extracted_text\n",
    "    \n",
    "    # Replace the old soup_dict with the new one with 'extracted'\n",
    "    batch_of_soups[i] = soup_dict\n",
    "    \n",
    "example_extracted_text=batch_of_soups[0]['extracted']\n",
    "print(example_extracted_text[:1000])"
   ]
  },
  {
   "cell_type": "code",
   "execution_count": 0,
   "metadata": {
    "colab": {},
    "colab_type": "code",
    "id": "eUJ50zdSvjyL"
   },
   "outputs": [],
   "source": [
    "# import requests\n",
    "# from bs4 import BeautifulSoup\n",
    "\n",
    "# from fake_useragent import UserAgent\n",
    "# ua = UserAgent()\n",
    "\n",
    "# header = {'user-agent':ua.chrome}\n",
    "# print('Header:\\n',header)\n",
    "\n",
    "# url ='https://en.wikipedia.org/wiki/Stock_market'\n",
    "# response = requests.get(url, timeout=3, headers=header)\n",
    "\n",
    "# print('Status code: ',response.status_code)"
   ]
  },
  {
   "cell_type": "code",
   "execution_count": 0,
   "metadata": {
    "colab": {},
    "colab_type": "code",
    "id": "cFlH7PNCFX58"
   },
   "outputs": [],
   "source": []
  }
 ],
 "metadata": {
  "colab": {
   "collapsed_sections": [
    "KjXVI4Qpw2_n",
    "eVfjE8RhHZq-"
   ],
   "name": "Web Scraping 101.ipynb",
   "provenance": [],
   "toc_visible": true
  },
  "kernelspec": {
   "display_name": "Python 3",
   "language": "python",
   "name": "python3"
  },
  "language_info": {
   "codemirror_mode": {
    "name": "ipython",
    "version": 3
   },
   "file_extension": ".py",
   "mimetype": "text/x-python",
   "name": "python",
   "nbconvert_exporter": "python",
   "pygments_lexer": "ipython3",
   "version": "3.6.9"
  },
  "toc": {
   "base_numbering": 1,
   "nav_menu": {},
   "number_sections": false,
   "sideBar": true,
   "skip_h1_title": false,
   "title_cell": "Table of Contents",
   "title_sidebar": "Contents",
   "toc_cell": false,
   "toc_position": {},
   "toc_section_display": true,
   "toc_window_display": true
  }
 },
 "nbformat": 4,
 "nbformat_minor": 1
}
