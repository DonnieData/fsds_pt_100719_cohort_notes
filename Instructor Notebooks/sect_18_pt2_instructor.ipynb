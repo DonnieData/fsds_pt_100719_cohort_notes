{
 "cells": [
  {
   "cell_type": "markdown",
   "metadata": {
    "colab_type": "text",
    "id": "PC2iFgJs_72o"
   },
   "source": [
    "\n",
    "# Section 18- Pt2: Statistical Distributions\n"
   ]
  },
  {
   "cell_type": "markdown",
   "metadata": {},
   "source": [
    "- For online-ds-pt-100719 \n",
    "- study group: 01/16/20"
   ]
  },
  {
   "cell_type": "markdown",
   "metadata": {},
   "source": [
    "# Learning Objectives"
   ]
  },
  {
   "cell_type": "markdown",
   "metadata": {},
   "source": [
    "- PMF / PDF / CDF\n",
    "- Discuss the different types of distributions and their use cases\n",
    "\n",
    "- Practice turning math equations into functions\n",
    "\n",
    "- Answer example questions for each type of distribution\n",
    "\n",
    "- Normal Distribution -> Standardized Normal Distribution"
   ]
  },
  {
   "cell_type": "code",
   "execution_count": 1,
   "metadata": {
    "ExecuteTime": {
     "end_time": "2020-01-16T20:31:15.473442Z",
     "start_time": "2020-01-16T20:31:11.679179Z"
    },
    "colab": {
     "base_uri": "https://localhost:8080/",
     "height": 221
    },
    "colab_type": "code",
    "id": "R-GCcgNAAwJM",
    "outputId": "1837d4b9-20bd-4e9d-c3b7-1c00af43dbf0",
    "scrolled": true
   },
   "outputs": [
    {
     "name": "stdout",
     "output_type": "stream",
     "text": [
      "fsds_1007219  v0.6.5 loaded.  Read the docs: https://fsds.readthedocs.io/en/latest/ \n"
     ]
    },
    {
     "data": {
      "text/html": [
       "<style  type=\"text/css\" >\n",
       "</style><table id=\"T_24ae438a_389f_11ea_bb59_acde48001122\" ><caption>Loaded Packages and Handles</caption><thead>    <tr>        <th class=\"col_heading level0 col0\" >Handle</th>        <th class=\"col_heading level0 col1\" >Package</th>        <th class=\"col_heading level0 col2\" >Description</th>    </tr></thead><tbody>\n",
       "                <tr>\n",
       "                                <td id=\"T_24ae438a_389f_11ea_bb59_acde48001122row0_col0\" class=\"data row0 col0\" >dp</td>\n",
       "                        <td id=\"T_24ae438a_389f_11ea_bb59_acde48001122row0_col1\" class=\"data row0 col1\" >IPython.display</td>\n",
       "                        <td id=\"T_24ae438a_389f_11ea_bb59_acde48001122row0_col2\" class=\"data row0 col2\" >Display modules with helpful display and clearing commands.</td>\n",
       "            </tr>\n",
       "            <tr>\n",
       "                                <td id=\"T_24ae438a_389f_11ea_bb59_acde48001122row1_col0\" class=\"data row1 col0\" >fs</td>\n",
       "                        <td id=\"T_24ae438a_389f_11ea_bb59_acde48001122row1_col1\" class=\"data row1 col1\" >fsds_100719</td>\n",
       "                        <td id=\"T_24ae438a_389f_11ea_bb59_acde48001122row1_col2\" class=\"data row1 col2\" >Custom data science bootcamp student package</td>\n",
       "            </tr>\n",
       "            <tr>\n",
       "                                <td id=\"T_24ae438a_389f_11ea_bb59_acde48001122row2_col0\" class=\"data row2 col0\" >mpl</td>\n",
       "                        <td id=\"T_24ae438a_389f_11ea_bb59_acde48001122row2_col1\" class=\"data row2 col1\" >matplotlib</td>\n",
       "                        <td id=\"T_24ae438a_389f_11ea_bb59_acde48001122row2_col2\" class=\"data row2 col2\" >Matplotlib's base OOP module with formatting artists</td>\n",
       "            </tr>\n",
       "            <tr>\n",
       "                                <td id=\"T_24ae438a_389f_11ea_bb59_acde48001122row3_col0\" class=\"data row3 col0\" >plt</td>\n",
       "                        <td id=\"T_24ae438a_389f_11ea_bb59_acde48001122row3_col1\" class=\"data row3 col1\" >matplotlib.pyplot</td>\n",
       "                        <td id=\"T_24ae438a_389f_11ea_bb59_acde48001122row3_col2\" class=\"data row3 col2\" >Matplotlib's matlab-like plotting module</td>\n",
       "            </tr>\n",
       "            <tr>\n",
       "                                <td id=\"T_24ae438a_389f_11ea_bb59_acde48001122row4_col0\" class=\"data row4 col0\" >np</td>\n",
       "                        <td id=\"T_24ae438a_389f_11ea_bb59_acde48001122row4_col1\" class=\"data row4 col1\" >numpy</td>\n",
       "                        <td id=\"T_24ae438a_389f_11ea_bb59_acde48001122row4_col2\" class=\"data row4 col2\" >scientific computing with Python</td>\n",
       "            </tr>\n",
       "            <tr>\n",
       "                                <td id=\"T_24ae438a_389f_11ea_bb59_acde48001122row5_col0\" class=\"data row5 col0\" >pd</td>\n",
       "                        <td id=\"T_24ae438a_389f_11ea_bb59_acde48001122row5_col1\" class=\"data row5 col1\" >pandas</td>\n",
       "                        <td id=\"T_24ae438a_389f_11ea_bb59_acde48001122row5_col2\" class=\"data row5 col2\" >High performance data structures and tools</td>\n",
       "            </tr>\n",
       "            <tr>\n",
       "                                <td id=\"T_24ae438a_389f_11ea_bb59_acde48001122row6_col0\" class=\"data row6 col0\" >sns</td>\n",
       "                        <td id=\"T_24ae438a_389f_11ea_bb59_acde48001122row6_col1\" class=\"data row6 col1\" >seaborn</td>\n",
       "                        <td id=\"T_24ae438a_389f_11ea_bb59_acde48001122row6_col2\" class=\"data row6 col2\" >High-level data visualization library based on matplotlib</td>\n",
       "            </tr>\n",
       "    </tbody></table>"
      ],
      "text/plain": [
       "<pandas.io.formats.style.Styler at 0x1a21789438>"
      ]
     },
     "metadata": {},
     "output_type": "display_data"
    }
   ],
   "source": [
    "!pip install -U fsds_100719\n",
    "from fsds_100719.imports import *"
   ]
  },
  {
   "cell_type": "markdown",
   "metadata": {
    "colab_type": "text",
    "id": "g32tGx6D7LrQ"
   },
   "source": [
    "## Probability Functions: PMF vs PDF vs CDF"
   ]
  },
  {
   "cell_type": "markdown",
   "metadata": {
    "colab_type": "text",
    "id": "vOIxvNd6E6t-"
   },
   "source": [
    "### Probability Mass Function\n"
   ]
  },
  {
   "cell_type": "markdown",
   "metadata": {},
   "source": []
  },
  {
   "cell_type": "markdown",
   "metadata": {
    "colab_type": "text",
    "id": "R4xed8CZw3Ic"
   },
   "source": [
    "\n",
    "- Converts frequency to probability of a **discrete** function\n",
    "    - by normalizing so that the sum of all outcomes == 1.\n",
    "- Can test what is the probability that $x$ takes on a particular value $k$\n",
    "    - $P(X=k)$\n",
    "\n",
    "- Gives probability for random discrete variables.\n",
    "- \"If we have x outcomes, what is the probability of getting k (our value of interest) from x?\"\n",
    "\n"
   ]
  },
  {
   "cell_type": "markdown",
   "metadata": {
    "colab_type": "text",
    "id": "fjcHq9Vl9YEh"
   },
   "source": [
    "\n",
    "> The Probability Mass Function (PMF) maps a probability ($P$) of observing an outcome $x$ of our discrete random variable $X$ in a way that this function takes the form $f(x) = P(X = x)$.\n",
    "\n",
    "- Reminder:\n",
    "    $f(x) = P(X = x)$ is the same as $P(X = k)$ or $P(k)$\n",
    "\n",
    "$X$ being a discrete random variable\n",
    "the range $R_X$ is a set of all possible values of X. \n",
    "They can be represented as a set as follows:\n",
    "\n",
    "$R_x = \\{ x_1,x_2,x_3,\\ldots \\}$\n",
    "\n",
    "where $x_1,x_2,x_3,\\ldots$ are the possible values of $x$. \n",
    "\n",
    "\n",
    "#### Expected Value and Variance\n",
    "\n",
    "When talking about distributions, there will generally be two descriptive quantities you're interested in: the **expected value** and the **Variance**. For discrete distributions, the expected value of your discrete random value X is given by:\n",
    "\n",
    "$$ E(X) = \\mu = \\sum_i p(x_i)x_i$$\n",
    "\n",
    "The variance is given by:\n",
    "\n",
    "$$ E((X-\\mu)^2) = \\sigma^2 = \\sum_i p(x_i)(x_i-\\mu)^2$$\n"
   ]
  },
  {
   "cell_type": "code",
   "execution_count": 16,
   "metadata": {
    "ExecuteTime": {
     "end_time": "2020-01-15T04:56:11.635124Z",
     "start_time": "2020-01-15T04:56:11.459912Z"
    },
    "colab": {
     "base_uri": "https://localhost:8080/",
     "height": 417
    },
    "colab_type": "code",
    "id": "xH1DAKdn-Nr0",
    "outputId": "5a81c68f-0dc5-45c9-abf3-288467f62f90"
   },
   "outputs": [
    {
     "name": "stdout",
     "output_type": "stream",
     "text": [
      "Counter({1: 4, 2: 4, 3: 2, 5: 2, 4: 1})\n",
      "13\n",
      "dict_keys([1, 2, 3, 4, 5]) [0.31, 0.31, 0.15, 0.08, 0.15]\n"
     ]
    },
    {
     "data": {
      "image/png": "[encoded data removed]",
      "text/plain": [
       "<Figure size 576x396 with 1 Axes>"
      ]
     },
     "metadata": {
      "needs_background": "light"
     },
     "output_type": "display_data"
    }
   ],
   "source": [
    "# Count the frequency of values in a given dataset\n",
    "import collections\n",
    "x = [1,1,1,1,2,2,2,2,3,3,4,5,5]\n",
    "counter = collections.Counter(x)\n",
    "print(counter)\n",
    "\n",
    "print(len(x))\n",
    "\n",
    "# Convert frequency to probability - divide each frequency value by total number of values\n",
    "pmf = []\n",
    "for key,val in counter.items():\n",
    "    pmf.append(round(val/len(x), 2))\n",
    "    \n",
    "print(counter.keys(), pmf)\n",
    "import matplotlib.pyplot as plt\n",
    "%matplotlib inline\n",
    "plt.style.use('seaborn-notebook')\n",
    "\n",
    "plt.bar(counter.keys(), pmf);\n",
    "plt.title(\"A Probability Mass Function\");"
   ]
  },
  {
   "cell_type": "code",
   "execution_count": 17,
   "metadata": {
    "ExecuteTime": {
     "end_time": "2020-01-15T04:56:12.451560Z",
     "start_time": "2020-01-15T04:56:12.322513Z"
    }
   },
   "outputs": [
    {
     "data": {
      "image/png": "[encoded data removed]",
      "text/plain": [
       "<Figure size 576x396 with 1 Axes>"
      ]
     },
     "metadata": {
      "needs_background": "light"
     },
     "output_type": "display_data"
    }
   ],
   "source": [
    "import collections\n",
    "\n",
    "counter = collections.Counter(df['Pclass'])\n",
    "\n",
    "# Convert frequency to probability - divide each frequency value by total number of values\n",
    "pmf = []\n",
    "for key,val in counter.items():\n",
    "    pmf.append(round(val/len(x), 2))\n",
    "    \n",
    "# print(counter.keys(), pmf)\n",
    "plt.bar(counter.keys(), pmf);\n",
    "plt.title(\"A Probability Mass Function\");"
   ]
  },
  {
   "cell_type": "markdown",
   "metadata": {
    "colab_type": "text",
    "id": "XyB5meQK94jJ"
   },
   "source": [
    "### Probability Density Function"
   ]
  },
  {
   "cell_type": "markdown",
   "metadata": {
    "colab_type": "text",
    "id": "x6XmJcXF_hFV"
   },
   "source": [
    "> The PDF is the continuous analog to the PMF\n",
    "\n",
    "\n",
    "<img src=\"https://raw.githubusercontent.com/jirvingphd/dsc-probability-density-function-online-ds-ft-100719/master/images/weather_NYC_21_red.png\" width =\"400\">\n"
   ]
  },
  {
   "cell_type": "markdown",
   "metadata": {
    "colab_type": "text",
    "id": "_Fsq2es5_t3u"
   },
   "source": [
    "- Continuous data has infinitely smaller and smaller gradations.\n",
    "- Consequently, we cannot get an estimate for any individual X-value (like temperature will be 80).\n",
    "$$P(\\text{Temp}=80)$$\n",
    "\n",
    "- Instead, we must take the area under the curve for a range of points.\n",
    "\n",
    "$$P( 79.9 < \\text{Temp} < 80.1 )$$\n",
    "\n"
   ]
  },
  {
   "cell_type": "markdown",
   "metadata": {
    "colab_type": "text",
    "id": "51QeB3wYAYDz"
   },
   "source": [
    " The main takeaway here is that you simply can't use the same summation expression because $P(X=x_i) = 0$ for any $x_i$.\n",
    "\n",
    "<img src=\"https://raw.githubusercontent.com/jirvingphd/dsc-probability-density-function-online-ds-ft-100719/master/images/pdf2.jpg\">\n",
    "\n",
    "The formal mathematical representation for calculating an area under the curve is given by:\n",
    "\n",
    "$$ P(a \\leq x \\leq b) = \\int_a^b f(x) dx \\geq 0 $$\n",
    "\n",
    "> To obtain a probability of observing a value in an interval $[a,b]$, you can use an integral (which gives you the area under the curve) from a to b using your PDF $f(x)$ \n",
    "\n"
   ]
  },
  {
   "cell_type": "markdown",
   "metadata": {
    "colab_type": "text",
    "id": "Z6Ebr98eAGXw"
   },
   "source": [
    "#### Expected Value and Variance\n",
    "\n",
    "$$ E(X) = \\mu = \\int_{- \\infty}^{+ \\infty} p(x)x dx$$\n",
    "$$ E((X-\\mu)^2) = \\sigma^2  = \\int_{- \\infty}^{+ \\infty} p(x)(x-\\mu)^2 dx$$\n",
    "\n"
   ]
  },
  {
   "cell_type": "code",
   "execution_count": 18,
   "metadata": {
    "ExecuteTime": {
     "end_time": "2020-01-15T04:56:17.539651Z",
     "start_time": "2020-01-15T04:56:17.208419Z"
    },
    "colab": {
     "base_uri": "https://localhost:8080/",
     "height": 484
    },
    "colab_type": "code",
    "id": "WAElTeLzAtm8",
    "outputId": "63d82878-6eae-457b-c3e6-37ce228acb5d"
   },
   "outputs": [
    {
     "data": {
      "text/html": [
       "<div>\n",
       "<style scoped>\n",
       "    .dataframe tbody tr th:only-of-type {\n",
       "        vertical-align: middle;\n",
       "    }\n",
       "\n",
       "    .dataframe tbody tr th {\n",
       "        vertical-align: top;\n",
       "    }\n",
       "\n",
       "    .dataframe thead th {\n",
       "        text-align: right;\n",
       "    }\n",
       "</style>\n",
       "<table border=\"1\" class=\"dataframe\">\n",
       "  <thead>\n",
       "    <tr style=\"text-align: right;\">\n",
       "      <th></th>\n",
       "      <th>Gender</th>\n",
       "      <th>Height</th>\n",
       "      <th>Weight</th>\n",
       "    </tr>\n",
       "  </thead>\n",
       "  <tbody>\n",
       "    <tr>\n",
       "      <td>0</td>\n",
       "      <td>Male</td>\n",
       "      <td>73.847017</td>\n",
       "      <td>241.893563</td>\n",
       "    </tr>\n",
       "    <tr>\n",
       "      <td>1</td>\n",
       "      <td>Male</td>\n",
       "      <td>68.781904</td>\n",
       "      <td>162.310473</td>\n",
       "    </tr>\n",
       "    <tr>\n",
       "      <td>2</td>\n",
       "      <td>Male</td>\n",
       "      <td>74.110105</td>\n",
       "      <td>212.740856</td>\n",
       "    </tr>\n",
       "    <tr>\n",
       "      <td>3</td>\n",
       "      <td>Male</td>\n",
       "      <td>71.730978</td>\n",
       "      <td>220.042470</td>\n",
       "    </tr>\n",
       "    <tr>\n",
       "      <td>4</td>\n",
       "      <td>Male</td>\n",
       "      <td>69.881796</td>\n",
       "      <td>206.349801</td>\n",
       "    </tr>\n",
       "  </tbody>\n",
       "</table>\n",
       "</div>"
      ],
      "text/plain": [
       "  Gender     Height      Weight\n",
       "0   Male  73.847017  241.893563\n",
       "1   Male  68.781904  162.310473\n",
       "2   Male  74.110105  212.740856\n",
       "3   Male  71.730978  220.042470\n",
       "4   Male  69.881796  206.349801"
      ]
     },
     "metadata": {},
     "output_type": "display_data"
    },
    {
     "data": {
      "text/html": [
       "<div>\n",
       "<style scoped>\n",
       "    .dataframe tbody tr th:only-of-type {\n",
       "        vertical-align: middle;\n",
       "    }\n",
       "\n",
       "    .dataframe tbody tr th {\n",
       "        vertical-align: top;\n",
       "    }\n",
       "\n",
       "    .dataframe thead th {\n",
       "        text-align: right;\n",
       "    }\n",
       "</style>\n",
       "<table border=\"1\" class=\"dataframe\">\n",
       "  <thead>\n",
       "    <tr style=\"text-align: right;\">\n",
       "      <th></th>\n",
       "      <th>Height</th>\n",
       "      <th>Weight</th>\n",
       "    </tr>\n",
       "  </thead>\n",
       "  <tbody>\n",
       "    <tr>\n",
       "      <td>count</td>\n",
       "      <td>10000.000000</td>\n",
       "      <td>10000.000000</td>\n",
       "    </tr>\n",
       "    <tr>\n",
       "      <td>mean</td>\n",
       "      <td>66.367560</td>\n",
       "      <td>161.440357</td>\n",
       "    </tr>\n",
       "    <tr>\n",
       "      <td>std</td>\n",
       "      <td>3.847528</td>\n",
       "      <td>32.108439</td>\n",
       "    </tr>\n",
       "    <tr>\n",
       "      <td>min</td>\n",
       "      <td>54.263133</td>\n",
       "      <td>64.700127</td>\n",
       "    </tr>\n",
       "    <tr>\n",
       "      <td>25%</td>\n",
       "      <td>63.505620</td>\n",
       "      <td>135.818051</td>\n",
       "    </tr>\n",
       "    <tr>\n",
       "      <td>50%</td>\n",
       "      <td>66.318070</td>\n",
       "      <td>161.212928</td>\n",
       "    </tr>\n",
       "    <tr>\n",
       "      <td>75%</td>\n",
       "      <td>69.174262</td>\n",
       "      <td>187.169525</td>\n",
       "    </tr>\n",
       "    <tr>\n",
       "      <td>max</td>\n",
       "      <td>78.998742</td>\n",
       "      <td>269.989699</td>\n",
       "    </tr>\n",
       "  </tbody>\n",
       "</table>\n",
       "</div>"
      ],
      "text/plain": [
       "             Height        Weight\n",
       "count  10000.000000  10000.000000\n",
       "mean      66.367560    161.440357\n",
       "std        3.847528     32.108439\n",
       "min       54.263133     64.700127\n",
       "25%       63.505620    135.818051\n",
       "50%       66.318070    161.212928\n",
       "75%       69.174262    187.169525\n",
       "max       78.998742    269.989699"
      ]
     },
     "execution_count": 18,
     "metadata": {},
     "output_type": "execute_result"
    }
   ],
   "source": [
    "import matplotlib.pyplot as plt\n",
    "plt.style.use('ggplot')\n",
    "import pandas as pd \n",
    "url='https://raw.githubusercontent.com/jirvingphd/dsc-probability-density-function-online-ds-ft-100719/master/weight-height.csv'\n",
    "df = pd.read_csv(url)\n",
    "display(df.head())\n",
    "df.describe()"
   ]
  },
  {
   "cell_type": "code",
   "execution_count": 19,
   "metadata": {
    "ExecuteTime": {
     "end_time": "2020-01-15T04:56:18.125605Z",
     "start_time": "2020-01-15T04:56:17.712664Z"
    },
    "colab": {
     "base_uri": "https://localhost:8080/",
     "height": 520
    },
    "colab_type": "code",
    "id": "pMs60ydBCIgq",
    "outputId": "a52a54d3-c197-417b-ae9d-1f79b08c4bf4"
   },
   "outputs": [
    {
     "data": {
      "image/png": "[encoded data removed]",
      "text/plain": [
       "<Figure size 720x576 with 2 Axes>"
      ]
     },
     "metadata": {},
     "output_type": "display_data"
    }
   ],
   "source": [
    "def kde_boxplot(x):\n",
    "    import scipy.stats as stats\n",
    "    # Create two vertical subplots sharing 15% and 85% of plot space\n",
    "    # sharex allows sharing of axes i.e. building multiple plots on same axes\n",
    "    fig, (ax, ax2) = plt.subplots(2, sharex=True,\n",
    "                                  gridspec_kw={\"height_ratios\": (.15, .85)},\n",
    "                                  figsize = (10,8) )\n",
    "    sns.distplot(x, \n",
    "                hist=True, hist_kws={\n",
    "                                    \"linewidth\": 2,\n",
    "                                    \"edgecolor\" :'red',\n",
    "                                    \"alpha\": 0.4, \n",
    "                                    \"color\":  \"w\",\n",
    "                                    \"label\": \"Histogram\",\n",
    "                                    },\n",
    "                kde=True, kde_kws = {'linewidth': 2,\n",
    "                                    'color': \"blue\",\n",
    "                                    \"alpha\": 0.7,\n",
    "                                    'label':'Kernel Density Estimation Plot'\n",
    "                                    },\n",
    "                fit= stats.norm, fit_kws = {'color' : 'green',\n",
    "                                            'label' : 'parametric fit',\n",
    "                                            \"alpha\": 0.7,\n",
    "                                            'linewidth':2},\n",
    "                ax=ax2)\n",
    "    ax2.set_title('Density Estimations')\n",
    "\n",
    "    sns.boxplot(x=x, ax = ax,color = 'red')\n",
    "\n",
    "    ax.set_title('Box and Whiskers Plot')\n",
    "    # ax2.set(ylim=(0, .08))\n",
    "    # plt.ylim(0,0.11)\n",
    "    plt.legend();\n",
    "\n",
    "kde_boxplot(df['Height'])"
   ]
  },
  {
   "cell_type": "code",
   "execution_count": 20,
   "metadata": {
    "ExecuteTime": {
     "end_time": "2020-01-15T04:56:19.517913Z",
     "start_time": "2020-01-15T04:56:18.505986Z"
    },
    "colab": {
     "base_uri": "https://localhost:8080/",
     "height": 520
    },
    "colab_type": "code",
    "id": "aBdBB6m_kGtY",
    "outputId": "a021d157-7829-4ba5-e576-f8ad95b2b79d"
   },
   "outputs": [
    {
     "data": {
      "image/png": "[encoded data removed]",
      "text/plain": [
       "<Figure size 720x576 with 2 Axes>"
      ]
     },
     "metadata": {},
     "output_type": "display_data"
    }
   ],
   "source": [
    "dfh=fs.datasets.load_mod1_proj()\n",
    "dfh.dropna(subset=['price'],inplace=True)\n",
    "kde_boxplot(np.log(dfh['price']))"
   ]
  },
  {
   "cell_type": "code",
   "execution_count": null,
   "metadata": {
    "colab": {
     "base_uri": "https://localhost:8080/",
     "height": 520
    },
    "colab_type": "code",
    "id": "I_RuDyYLkPZo",
    "outputId": "1b6fb2a8-548d-4c19-eedc-6263e6610cea"
   },
   "outputs": [],
   "source": []
  },
  {
   "cell_type": "markdown",
   "metadata": {
    "colab_type": "text",
    "id": "1-0lPCdrplF4"
   },
   "source": [
    "\n",
    "#### Density Estimation and Plotting\n",
    "\n",
    "As you've seen before, a density plot is a \"smoothed\" version of a histogram estimated from the observations. To estimate a density function from given continuous data, you can use parametric or non-parametric methods. \n",
    "\n",
    "**Parametric methods** use parameters like mean and standard deviation of given data and attempt to work out the **shape** of the distribution that the data belongs to. These may implement maximum likelihood methods to fit a distribution to the given data. You'll learn more about this later.\n",
    "\n",
    "**Kernel density estimation** or KDE is a common non-parametric estimation technique to plot a curve (the kernel) at every individual data point. These curves are then added to plot a smooth density estimation. The kernel most often used is a Gaussian (which produces a bell curve at each data point). Other kernels can be used in special cases when the underlying distribution is not normal. \n",
    "\n",
    "In the image above, the histogram (left) and kernel density estimate (right) are constructed using the same data."
   ]
  },
  {
   "cell_type": "markdown",
   "metadata": {
    "colab_type": "text",
    "id": "vVeQeIwmAsxc"
   },
   "source": [
    "### Cumulative Distribution Function"
   ]
  },
  {
   "cell_type": "markdown",
   "metadata": {
    "colab_type": "text",
    "id": "XXVrBQX4AYBg"
   },
   "source": [
    "- With large sample space $S$ (# of possible outcomes) for values of $X$, too hard to visualize with pmf\n",
    "- maps a value from its percentile rank for **discrete** functions\n",
    "- calculated as the $$F(x) = P(X \\leq x)$$\n",
    "\n",
    "\n",
    "The CDF is a function of $x$ just like a PMF or a PDF, where $x$ is any value that can possibly appear in a given distribution. To calculate the $CDF(x)$ for any value of $x$, we compute the proportion of values in the distribution less than or equal to $x$ as follows:\n",
    "\n",
    "\n",
    "> The Cumulative Distribution Function, CDF, gives the probability that the variable $X$ is less than or equal to a certain possible value $x$. \n",
    "\n",
    "<img src=\"https://raw.githubusercontent.com/jirvingphd/dsc-cumulative-distribution-function-online-ds-ft-100719/master/images/cdfs_dice_nyc_2.png\">\n"
   ]
  },
  {
   "cell_type": "markdown",
   "metadata": {
    "colab_type": "text",
    "id": "20tlfEqLETLM"
   },
   "source": [
    "\n",
    "#### Kernel Density Estimation \n",
    "- Non-parametric estimation to plot a curve at every individual data point (kernels)\n",
    "- Added together to plot smooth density estimation ( most common kernel is Gaussian)\n",
    "- Below example histogram and kde are from the same data\n",
    "<img src=\"https://www.dropbox.com/s/vrgcphxmry5148l/Comparison_of_1D_histogram_and_KDE.png?raw=1\" width=400>"
   ]
  },
  {
   "cell_type": "markdown",
   "metadata": {
    "colab_type": "text",
    "id": "OgC5mZfE98-r"
   },
   "source": []
  },
  {
   "cell_type": "markdown",
   "metadata": {
    "colab_type": "text",
    "id": "t4afuY15w3Ia"
   },
   "source": [
    "\n",
    "\n",
    "## Distributions: Discrete vs Continuous \n"
   ]
  },
  {
   "cell_type": "markdown",
   "metadata": {
    "colab_type": "text",
    "id": "LbEnK7DMw3Ib"
   },
   "source": [
    "- **Continuous vs Discrete Distributions & their probability functions**\n",
    "<img src=\"https://www.dropbox.com/s/7qooiy76s3jvcr1/pmf_pdf.png?raw=1\" width=400>\n",
    "<img src=\"https://www.dropbox.com/s/ovrzewnefk2qc97/exp-var.png?raw=1\" width=400>\n"
   ]
  },
  {
   "cell_type": "markdown",
   "metadata": {},
   "source": [
    "# Types of Distributions"
   ]
  },
  {
   "cell_type": "markdown",
   "metadata": {},
   "source": [
    "<img src=\"https://raw.githubusercontent.com/jirvingphd/dsc-stat-distributions-use-cases-online-ds-ft-100719/master/images/dists.png\" width=700>"
   ]
  },
  {
   "cell_type": "markdown",
   "metadata": {},
   "source": [
    "- **Continuous vs Discrete Distributions & their probability functions**\n",
    "<img src=\"https://www.dropbox.com/s/7qooiy76s3jvcr1/pmf_pdf.png?raw=1\" width=400>\n",
    "<img src=\"https://www.dropbox.com/s/ovrzewnefk2qc97/exp-var.png?raw=1\" width=400>\n"
   ]
  },
  {
   "cell_type": "markdown",
   "metadata": {},
   "source": [
    "### Distribution descriptions  in words\n",
    "**_Binomial Distribution_**: \"I flip a fair coin 5 times. What are the chances that I get heads 0 times? 1 time? 2 times? Etc...\"\n",
    "\n",
    "**_Negative Binomial Distribution_**: I flip a fair coin 5 times. What are the chances it takes me two flips to get heads twice? How about 3 flips to get heads twice? 4 Flips? Etc...\n",
    "\n",
    "The **_Exponential Distribution_** describes the probability distribution of the amount of time it may take before an event occurs.  In a way, it solves the inverse of the problem solves by the Poisson Distribution.\n",
    "\n",
    "The **_Poisson Distribution_** lets us ask how likely any given number of events are over a set interval of time.  \n",
    "\n",
    "The **_Exponential Distribution_** lets us ask how likely the _length of an interval of time_ is before an event occurs exactly once. \n",
    "\n",
    "Another way to think of the Exponential Distribution is as the continuous analogue of the **_Geometric Distribution_**. "
   ]
  },
  {
   "cell_type": "markdown",
   "metadata": {
    "colab_type": "text",
    "id": "7JhKVAus5M0j"
   },
   "source": [
    "### Discrete Distributions\n"
   ]
  },
  {
   "cell_type": "markdown",
   "metadata": {
    "colab_type": "text",
    "id": "LBdDjOWJw3Ic"
   },
   "source": [
    "#### Bernoulli Distribution / Binomial Distribution\n",
    "- Probability of $x$ successes in $n$ trials for Bernoulli/binomial variable (binary outcome)\n",
    "    - Described by only one parameter $p$\n",
    "- For binomial *trial*: $Y = Bernoulli(p)$ and $p=P(Y=1)=0.8$\n",
    "- For binomial *distribution*, events are independent. \n",
    "$$ P(Y=k)= \\binom{n}{k} p^k(1-p)^{(n-k)}$$ \n",
    "\n",
    "#### Geometric Distribution\n",
    "- Geometric = Repeated trials, but examines the probability that the first success will occur on trial n.\n",
    "\n",
    "#### Poisson\n",
    "- Represents the probability of $n$ events in a given time period when the rate of occurrence is constant\n",
    "\n",
    "#### Uniform\n",
    "- All outcomes are equally likely. \n",
    "- BOTH continuous AND discrete\n"
   ]
  },
  {
   "cell_type": "markdown",
   "metadata": {
    "colab_type": "text",
    "id": "7FJR0eVD5To5"
   },
   "source": [
    "### Continuous Distributions\n"
   ]
  },
  {
   "cell_type": "markdown",
   "metadata": {
    "colab_type": "text",
    "id": "my6nq08UHQgH"
   },
   "source": [
    "#### Normal Distribution"
   ]
  },
  {
   "cell_type": "markdown",
   "metadata": {
    "colab_type": "text",
    "id": "0nqjN81iHS0C"
   },
   "source": [
    "\n",
    "- Key characteristics of the normal distribution:\n",
    "    * Normal distributions are symmetric around their mean.\n",
    "    * mean = median = and mode of a normal \n",
    "    * area under curve is equal to 1.0\n",
    "    * denser in the center and less dense in the tails\n",
    "    * defined by two parameters, the mean ($\\mu$) and the standard deviation ($\\sigma$).\n",
    "    \n",
    "\n",
    "<center><img src=\"https://raw.githubusercontent.com/jirvingphd/dsc-normal-distribution-online-ds-ft-100719/master/images/normal_sd_new.png\" width=600></center>\n",
    "\n",
    "\n",
    "* Around 68% of the area of a normal distribution is within _one standard deviation_ of the mean \n",
    "($(\\mu-\\sigma)$ to $(\\mu + \\sigma)$)\n",
    "* Approximately 95% of the area of a normal distribution is within two standard deviations of the mean ($(\\mu-2\\sigma)$ to $(\\mu + 2\\sigma)$).\n",
    "\n",
    "\n",
    "\n",
    "##### Normal Density Function\n",
    "- Density of normal distribution for given value of x\n",
    "- Can describe from its center and spread\n",
    "$$y = \\frac{1}{\\sigma \\sqrt{2}{2\\pi}}e^{\\frac{{(x -\\mu)}{^2}}{2 \\sigma ^{2}}}$$\n",
    "- $\\mu$ = mean\n",
    "- $\\sigma$ = standard deviation\n",
    "- $\\pi \\approx 3.14159$\n",
    "- $e \\approx 2.71828$\n"
   ]
  },
  {
   "cell_type": "code",
   "execution_count": null,
   "metadata": {
    "ExecuteTime": {
     "end_time": "2020-01-12T19:35:35.053231Z",
     "start_time": "2020-01-12T19:35:34.870746Z"
    },
    "colab": {
     "base_uri": "https://localhost:8080/",
     "height": 350
    },
    "colab_type": "code",
    "id": "nbUIZDiLIRaC",
    "outputId": "dcb94576-6039-42fe-a3e3-b32330f48b3f"
   },
   "outputs": [],
   "source": [
    "import numpy as np\n",
    "import seaborn as sns\n",
    "\n",
    "mu, sigma = 0.5, 0.1\n",
    "n = 1000\n",
    "s = np.random.normal(mu, sigma, n)\n",
    "sns.distplot(s);"
   ]
  },
  {
   "cell_type": "markdown",
   "metadata": {
    "colab_type": "text",
    "id": "E7L6Gj7MIgWX"
   },
   "source": [
    "#### Standardized Normal Distribution"
   ]
  },
  {
   "cell_type": "markdown",
   "metadata": {
    "colab_type": "text",
    "id": "QeixDqsqIuRZ"
   },
   "source": [
    "\n",
    "#### Z-score\n",
    "\n",
    "The standard score (more commonly referred to as a $z$-score) is a very useful statistic because it allows us to:\n",
    "1. Calculate the probability of a certain score occurring within a given normal distribution and \n",
    "2. Compare two scores that are from different normal distributions.\n",
    "\n",
    "Any normal distribution can be converted to a standard normal distribution and vice versa using this\n",
    "equation:\n",
    "\n",
    "$$\\Large z=\\dfrac{x-\\mu}{\\sigma}$$\n",
    "\n",
    "- where $x$ is an individual data point\n",
    "- $\\mu$ is the mean\n",
    "- $\\sigma$ is the standard deviation\n",
    "\n",
    "\n",
    "\n",
    "<center><img src=\"https://raw.githubusercontent.com/jirvingphd/dsc-standard-normal-distribution-online-ds-ft-100719/master/images/snorm.png\" width=500></center>\n",
    "\n",
    "<center><img src=\"https://raw.githubusercontent.com/jirvingphd/dsc-standard-normal-distribution-online-ds-ft-100719/master/images/cdf_stnormal.png\" width=500></center>"
   ]
  },
  {
   "cell_type": "code",
   "execution_count": null,
   "metadata": {
    "ExecuteTime": {
     "end_time": "2020-01-12T19:35:35.728866Z",
     "start_time": "2020-01-12T19:35:35.288153Z"
    },
    "colab": {
     "base_uri": "https://localhost:8080/",
     "height": 286
    },
    "colab_type": "code",
    "id": "UHwuRJFZIRXL",
    "outputId": "e297aaeb-1399-4386-94a6-90ba53e618f8"
   },
   "outputs": [],
   "source": [
    "import numpy as np\n",
    "import seaborn as sns\n",
    "\n",
    "fig,ax= plt.subplots(ncols=2, figsize=(10,4))\n",
    "mean1, sd1 = 5, 3 # dist 1 \n",
    "mean2, sd2 = 10, 2 # dist 2 \n",
    "d1 = np.random.normal(mean1, sd1, 1000)\n",
    "d2 = np.random.normal(mean2, sd2, 1000)\n",
    "\n",
    "ax[0].set_title('Raw')\n",
    "sns.distplot(d1,ax=ax[0]);\n",
    "sns.distplot(d2,ax=ax[0]);\n",
    "\n",
    "ax[1].set_title('Standardized')\n",
    "sns.distplot([(x - d1.mean())/d1.std() for x in d1],ax=ax[1]);\n",
    "sns.distplot([(x - d2.mean())/d2.std() for x in d2], ax=ax[1]);"
   ]
  },
  {
   "cell_type": "markdown",
   "metadata": {
    "colab_type": "text",
    "id": "SYIeSr6qKrZL"
   },
   "source": [
    "## Distribution Characteristics\n"
   ]
  },
  {
   "cell_type": "markdown",
   "metadata": {
    "colab_type": "text",
    "id": "IwdzyXccLSr5"
   },
   "source": [
    "#### Skewness"
   ]
  },
  {
   "cell_type": "markdown",
   "metadata": {
    "colab_type": "text",
    "id": "hdzJUmM7w3Id"
   },
   "source": [
    "- Symmetrical distribution: skewness = 0\n",
    "- **Fisher-Pearson Coefficient of skewess:**\n",
    "$$∑ N_{i=1} \\frac{{(Yi−\\bar{Y})}^3}{N} / {\\sigma^3}$$\n",
    "- Rules of thumb\n",
    "    - Symmetrical-ish: -0.5 to +.05\n",
    "    - Moderate Skew:\n",
    "        - Negative skew: -1 to -0.5\n",
    "        - Positive skew: +0.5 to +1\n",
    "    - Highly skewed:\n",
    "        - Less than -1\n",
    "        - Greater than +1\n",
    "    \n",
    "\n",
    "<img src=\"https://www.dropbox.com/s/mqr3kux0caa64nk/skew1.jpeg?raw=1\">\n",
    "\n"
   ]
  },
  {
   "cell_type": "markdown",
   "metadata": {
    "colab_type": "text",
    "id": "Xu0dG_lUGbqH"
   },
   "source": [
    "#### Kurtosis \n"
   ]
  },
  {
   "cell_type": "markdown",
   "metadata": {
    "colab_type": "text",
    "id": "n0AmvnjFGabL"
   },
   "source": [
    "\n",
    "\n",
    "- Lengths of tails of distribution to describe extreme values (outliers)\n",
    "- Univariate kurtosis:\n",
    "$$\\Sigma N_{i=1} \\frac{{(Yi−\\bar{Y})}^4}{N} / {\\sigma^4}$$\n",
    "\n",
    "- **Mesokurtic:**\n",
    "    - Kurtosis similar to standard normal distribution\n",
    "- **Leptokurtic (Kurtosis >3)**\n",
    "    - Tails are fatter, peak is higher sharper\n",
    "    - Data are heavy-tailed or many outliers\n",
    "- **Platykurtic: (Kurtosis < 3)**\n",
    "    - Shorter peak, tails are thinner than the normal distribution. \n",
    "    - Data are light-tailed or lack of outliers vs normal dist\n",
    "<img src=\"https://www.dropbox.com/s/5ynsy7vkb196ilb/kurt2.jpg?raw=1\" width=300>"
   ]
  },
  {
   "cell_type": "code",
   "execution_count": null,
   "metadata": {},
   "outputs": [],
   "source": []
  },
  {
   "cell_type": "markdown",
   "metadata": {
    "colab_type": "text",
    "id": "cJFvHhbFLX57"
   },
   "source": [
    "___\n",
    "\n",
    "# 🗓Section 18 Pt2L Statistical Testing"
   ]
  },
  {
   "cell_type": "markdown",
   "metadata": {
    "colab_type": "text",
    "id": "a1ZT7oCoKTFH"
   },
   "source": [
    "## Statistical Testing with Z-scores and p-values"
   ]
  },
  {
   "cell_type": "markdown",
   "metadata": {
    "colab_type": "text",
    "id": "7DFnVomtLv9L"
   },
   "source": [
    "### Population vs Sample\n",
    "<img src=\"https://raw.githubusercontent.com/jirvingphd/dsc-z-score-p-value-online-ds-ft-100719/master/images/sample.png\" width=400>\n",
    "\n",
    "\n",
    ">A **population** is the collection of **all the items of interest in a study**. The numbers you obtain when using a population are called **parameters**.\n",
    "\n",
    "> A **sample** is a **subset of the population**. The numbers you obtain when working with a sample are called **statistics**.\n"
   ]
  },
  {
   "cell_type": "markdown",
   "metadata": {
    "colab_type": "text",
    "id": "6ZI3lu48MS8F"
   },
   "source": [
    "<img src=\"https://raw.githubusercontent.com/jirvingphd/dsc-z-score-p-value-online-ds-ft-100719/master/images/rep_sample.png\" width=600>"
   ]
  },
  {
   "cell_type": "markdown",
   "metadata": {
    "colab_type": "text",
    "id": "WcSFTrEUMbN7"
   },
   "source": [
    "### One-Sample $z$-test\n",
    "\n",
    "> **The one-sample $z$-test is used only for tests related to the sample mean.** \n",
    "\n",
    "\n",
    "\n",
    "<img src=\"https://raw.githubusercontent.com/jirvingphd/dsc-z-score-p-value-online-ds-ft-100719/master/images/cumprob2.png\" width=400>"
   ]
  },
  {
   "cell_type": "markdown",
   "metadata": {
    "colab_type": "text",
    "id": "8GS-sQWsMbKg"
   },
   "source": []
  },
  {
   "cell_type": "code",
   "execution_count": null,
   "metadata": {
    "ExecuteTime": {
     "end_time": "2020-01-12T19:35:38.336601Z",
     "start_time": "2020-01-12T19:35:38.331391Z"
    },
    "colab": {
     "base_uri": "https://localhost:8080/",
     "height": 51
    },
    "colab_type": "code",
    "id": "NlhrOOjGLXoE",
    "outputId": "2b4033a0-8406-4e73-f05c-4665f3902b81"
   },
   "outputs": [],
   "source": [
    "# Z-table in Python \n",
    "import scipy.stats as stats\n",
    "\n",
    "# Probabilities up reto z-score of 1.5\n",
    "print(stats.norm.cdf(1.5))\n",
    "\n",
    "# Probabilities greater than z-score of 1.34\n",
    "print (1-stats.norm.cdf(1.34))"
   ]
  },
  {
   "cell_type": "markdown",
   "metadata": {
    "colab_type": "text",
    "id": "VNBGdkb9w3Iy"
   },
   "source": []
  },
  {
   "cell_type": "markdown",
   "metadata": {
    "colab": {},
    "colab_type": "code",
    "id": "WS62kvwrw3I0"
   },
   "source": [
    "# OLD"
   ]
  },
  {
   "cell_type": "code",
   "execution_count": 5,
   "metadata": {
    "ExecuteTime": {
     "end_time": "2020-01-15T04:12:52.292912Z",
     "start_time": "2020-01-15T04:12:52.005675Z"
    }
   },
   "outputs": [
    {
     "data": {
      "application/vnd.jupyter.widget-view+json": {
       "model_id": "f3475b2b2c5a43488a61a30c30300d92",
       "version_major": 2,
       "version_minor": 0
      },
      "text/plain": [
       "interactive(children=(Dropdown(description='col', options=('mpg', 'cylinders', 'displacement', 'horsepower', '…"
      ]
     },
     "metadata": {},
     "output_type": "display_data"
    }
   ],
   "source": [
    "from ipywidgets import interact\n",
    "@interact\n",
    "def plot_hist(col=dfm.columns):\n",
    "    import scipy as sp\n",
    "    import numpy as np    \n",
    "    \n",
    "\n",
    "    # print(np.random.get_state())\n",
    "    mu, sigma = dfm[col].mean(), dfm[col].std()\n",
    "    n = len(dfm[col])\n",
    "    s = np.random.normal(mu, sigma, n)\n",
    "    \n",
    "    \n",
    "    fig,ax =plt.subplots(ncols=2,figsize=(10,4))\n",
    "\n",
    "    sns.distplot(dfm[col],rug=True,ax=ax[0])\n",
    "    sns.distplot(s,ax=ax[1],rug=True)\n",
    "#     ax[0].get_figure().set_size_inches(10,5)\n",
    "\n",
    "    ax[0].set(title=col,ylabel='Frequency')\n",
    "\n",
    "    ax[1].set(title='Generated');\n",
    "#     ax[1].set(title='True')\n",
    "    \n",
    "#     ax[0].hist(s,bins=20,edgecolor='black')\n",
    "#     ax[1].hist(dfm[col],bins=20,edgecolor='black')\n",
    "\n"
   ]
  },
  {
   "cell_type": "code",
   "execution_count": 6,
   "metadata": {
    "ExecuteTime": {
     "end_time": "2020-01-15T04:12:52.299123Z",
     "start_time": "2020-01-15T04:12:52.294147Z"
    }
   },
   "outputs": [
    {
     "data": {
      "text/plain": [
       "PassengerId      0\n",
       "Survived         0\n",
       "Pclass           0\n",
       "Name             0\n",
       "Sex              0\n",
       "Age            177\n",
       "SibSp            0\n",
       "Parch            0\n",
       "Ticket           0\n",
       "Fare             0\n",
       "Cabin          687\n",
       "Embarked         2\n",
       "dtype: int64"
      ]
     },
     "execution_count": 6,
     "metadata": {},
     "output_type": "execute_result"
    }
   ],
   "source": [
    "df.isna().sum()"
   ]
  },
  {
   "cell_type": "code",
   "execution_count": 7,
   "metadata": {
    "ExecuteTime": {
     "end_time": "2020-01-15T04:12:53.021334Z",
     "start_time": "2020-01-15T04:12:52.851725Z"
    }
   },
   "outputs": [
    {
     "data": {
      "text/plain": [
       "<matplotlib.axes._subplots.AxesSubplot at 0x1a20a210f0>"
      ]
     },
     "execution_count": 7,
     "metadata": {},
     "output_type": "execute_result"
    },
    {
     "data": {
      "image/png": "[encoded data removed]",
      "text/plain": [
       "<Figure size 432x288 with 1 Axes>"
      ]
     },
     "metadata": {
      "needs_background": "light"
     },
     "output_type": "display_data"
    }
   ],
   "source": [
    "df['Age'].value_counts(normalize=False, dropna=True).plot(kind='hist')#.sort_index()#.hist(bins='auto')#.plot(kind='bar')"
   ]
  },
  {
   "cell_type": "code",
   "execution_count": 8,
   "metadata": {
    "ExecuteTime": {
     "end_time": "2020-01-15T04:12:53.538331Z",
     "start_time": "2020-01-15T04:12:53.530293Z"
    }
   },
   "outputs": [
    {
     "data": {
      "text/plain": [
       "24.00    30\n",
       "22.00    27\n",
       "18.00    26\n",
       "19.00    25\n",
       "30.00    25\n",
       "         ..\n",
       "55.50     1\n",
       "70.50     1\n",
       "66.00     1\n",
       "23.50     1\n",
       "0.42      1\n",
       "Name: Age, Length: 88, dtype: int64"
      ]
     },
     "execution_count": 8,
     "metadata": {},
     "output_type": "execute_result"
    }
   ],
   "source": [
    "df['Age'].dropna(inplace=True)#.fillna('999',inplace=True)\n",
    "df[\"Age\"].value_counts()"
   ]
  },
  {
   "cell_type": "code",
   "execution_count": 9,
   "metadata": {
    "ExecuteTime": {
     "end_time": "2020-01-15T04:12:54.290929Z",
     "start_time": "2020-01-15T04:12:54.274716Z"
    }
   },
   "outputs": [
    {
     "data": {
      "text/html": [
       "<div>\n",
       "<style scoped>\n",
       "    .dataframe tbody tr th:only-of-type {\n",
       "        vertical-align: middle;\n",
       "    }\n",
       "\n",
       "    .dataframe tbody tr th {\n",
       "        vertical-align: top;\n",
       "    }\n",
       "\n",
       "    .dataframe thead th {\n",
       "        text-align: right;\n",
       "    }\n",
       "</style>\n",
       "<table border=\"1\" class=\"dataframe\">\n",
       "  <thead>\n",
       "    <tr style=\"text-align: right;\">\n",
       "      <th></th>\n",
       "      <th>Pclass</th>\n",
       "      <th>Name</th>\n",
       "      <th>Sex</th>\n",
       "      <th>Ticket</th>\n",
       "      <th>Cabin</th>\n",
       "      <th>Embarked</th>\n",
       "    </tr>\n",
       "  </thead>\n",
       "  <tbody>\n",
       "    <tr>\n",
       "      <td>0</td>\n",
       "      <td>3</td>\n",
       "      <td>Braund, Mr. Owen Harris</td>\n",
       "      <td>male</td>\n",
       "      <td>A/5 21171</td>\n",
       "      <td>NaN</td>\n",
       "      <td>S</td>\n",
       "    </tr>\n",
       "    <tr>\n",
       "      <td>1</td>\n",
       "      <td>1</td>\n",
       "      <td>Cumings, Mrs. John Bradley (Florence Briggs Th...</td>\n",
       "      <td>female</td>\n",
       "      <td>PC 17599</td>\n",
       "      <td>C85</td>\n",
       "      <td>C</td>\n",
       "    </tr>\n",
       "    <tr>\n",
       "      <td>2</td>\n",
       "      <td>3</td>\n",
       "      <td>Heikkinen, Miss. Laina</td>\n",
       "      <td>female</td>\n",
       "      <td>STON/O2. 3101282</td>\n",
       "      <td>NaN</td>\n",
       "      <td>S</td>\n",
       "    </tr>\n",
       "    <tr>\n",
       "      <td>3</td>\n",
       "      <td>1</td>\n",
       "      <td>Futrelle, Mrs. Jacques Heath (Lily May Peel)</td>\n",
       "      <td>female</td>\n",
       "      <td>113803</td>\n",
       "      <td>C123</td>\n",
       "      <td>S</td>\n",
       "    </tr>\n",
       "    <tr>\n",
       "      <td>4</td>\n",
       "      <td>3</td>\n",
       "      <td>Allen, Mr. William Henry</td>\n",
       "      <td>male</td>\n",
       "      <td>373450</td>\n",
       "      <td>NaN</td>\n",
       "      <td>S</td>\n",
       "    </tr>\n",
       "    <tr>\n",
       "      <td>...</td>\n",
       "      <td>...</td>\n",
       "      <td>...</td>\n",
       "      <td>...</td>\n",
       "      <td>...</td>\n",
       "      <td>...</td>\n",
       "      <td>...</td>\n",
       "    </tr>\n",
       "    <tr>\n",
       "      <td>886</td>\n",
       "      <td>2</td>\n",
       "      <td>Montvila, Rev. Juozas</td>\n",
       "      <td>male</td>\n",
       "      <td>211536</td>\n",
       "      <td>NaN</td>\n",
       "      <td>S</td>\n",
       "    </tr>\n",
       "    <tr>\n",
       "      <td>887</td>\n",
       "      <td>1</td>\n",
       "      <td>Graham, Miss. Margaret Edith</td>\n",
       "      <td>female</td>\n",
       "      <td>112053</td>\n",
       "      <td>B42</td>\n",
       "      <td>S</td>\n",
       "    </tr>\n",
       "    <tr>\n",
       "      <td>888</td>\n",
       "      <td>?</td>\n",
       "      <td>Johnston, Miss. Catherine Helen \"Carrie\"</td>\n",
       "      <td>female</td>\n",
       "      <td>W./C. 6607</td>\n",
       "      <td>NaN</td>\n",
       "      <td>S</td>\n",
       "    </tr>\n",
       "    <tr>\n",
       "      <td>889</td>\n",
       "      <td>1</td>\n",
       "      <td>Behr, Mr. Karl Howell</td>\n",
       "      <td>male</td>\n",
       "      <td>111369</td>\n",
       "      <td>C148</td>\n",
       "      <td>C</td>\n",
       "    </tr>\n",
       "    <tr>\n",
       "      <td>890</td>\n",
       "      <td>3</td>\n",
       "      <td>Dooley, Mr. Patrick</td>\n",
       "      <td>male</td>\n",
       "      <td>370376</td>\n",
       "      <td>NaN</td>\n",
       "      <td>Q</td>\n",
       "    </tr>\n",
       "  </tbody>\n",
       "</table>\n",
       "<p>891 rows × 6 columns</p>\n",
       "</div>"
      ],
      "text/plain": [
       "    Pclass                                               Name     Sex  \\\n",
       "0        3                            Braund, Mr. Owen Harris    male   \n",
       "1        1  Cumings, Mrs. John Bradley (Florence Briggs Th...  female   \n",
       "2        3                             Heikkinen, Miss. Laina  female   \n",
       "3        1       Futrelle, Mrs. Jacques Heath (Lily May Peel)  female   \n",
       "4        3                           Allen, Mr. William Henry    male   \n",
       "..     ...                                                ...     ...   \n",
       "886      2                              Montvila, Rev. Juozas    male   \n",
       "887      1                       Graham, Miss. Margaret Edith  female   \n",
       "888      ?           Johnston, Miss. Catherine Helen \"Carrie\"  female   \n",
       "889      1                              Behr, Mr. Karl Howell    male   \n",
       "890      3                                Dooley, Mr. Patrick    male   \n",
       "\n",
       "               Ticket Cabin Embarked  \n",
       "0           A/5 21171   NaN        S  \n",
       "1            PC 17599   C85        C  \n",
       "2    STON/O2. 3101282   NaN        S  \n",
       "3              113803  C123        S  \n",
       "4              373450   NaN        S  \n",
       "..                ...   ...      ...  \n",
       "886            211536   NaN        S  \n",
       "887            112053   B42        S  \n",
       "888        W./C. 6607   NaN        S  \n",
       "889            111369  C148        C  \n",
       "890            370376   NaN        Q  \n",
       "\n",
       "[891 rows x 6 columns]"
      ]
     },
     "execution_count": 9,
     "metadata": {},
     "output_type": "execute_result"
    }
   ],
   "source": [
    "df.select_dtypes('object')"
   ]
  },
  {
   "cell_type": "code",
   "execution_count": 10,
   "metadata": {
    "ExecuteTime": {
     "end_time": "2020-01-15T04:12:54.976344Z",
     "start_time": "2020-01-15T04:12:54.972984Z"
    }
   },
   "outputs": [],
   "source": [
    "df['Age'] = df['Age'].astype(float)"
   ]
  },
  {
   "cell_type": "code",
   "execution_count": 11,
   "metadata": {
    "ExecuteTime": {
     "end_time": "2020-01-15T04:12:56.909027Z",
     "start_time": "2020-01-15T04:12:56.647293Z"
    }
   },
   "outputs": [
    {
     "data": {
      "text/plain": [
       "[Text(0, 0.5, '%?'), Text(0.5, 0, ''), Text(0.5, 1.0, 'Histogram')]"
      ]
     },
     "execution_count": 11,
     "metadata": {},
     "output_type": "execute_result"
    },
    {
     "data": {
      "image/png": "[encoded data removed]",
      "text/plain": [
       "<Figure size 864x432 with 1 Axes>"
      ]
     },
     "metadata": {
      "needs_background": "light"
     },
     "output_type": "display_data"
    }
   ],
   "source": [
    "ax = df['Age'].hist(\n",
    "    bins='auto',\n",
    "    **{\n",
    "        'color':'red',\n",
    "        'edgecolor':'black',\n",
    "        'hatch':'//', \n",
    "        'alpha':0.5})\n",
    "\n",
    "fig = ax.get_figure()\n",
    "fig.set_size_inches(12,6)\n",
    "\n",
    "ax.set(title='Histogram',\n",
    "      ylabel='%?',\n",
    "      xlabel='')\n",
    "\n",
    "\n",
    "\n"
   ]
  },
  {
   "cell_type": "code",
   "execution_count": null,
   "metadata": {},
   "outputs": [],
   "source": []
  },
  {
   "cell_type": "code",
   "execution_count": null,
   "metadata": {
    "ExecuteTime": {
     "end_time": "2020-01-14T22:09:51.945674Z",
     "start_time": "2020-01-14T22:09:51.939233Z"
    }
   },
   "outputs": [],
   "source": [
    "display_params = {'display.max_rows':0,\n",
    "                  'display.max_info_rows':0,\n",
    "                  'display.chop_threshold':0}\n",
    "    \n",
    "[pd.set_option(k,v) for k,v in display_params.items()]\n",
    "[print(k,' = ',pd.get_option(k)) for k in display_params];\n",
    "\n"
   ]
  },
  {
   "cell_type": "code",
   "execution_count": null,
   "metadata": {
    "ExecuteTime": {
     "end_time": "2020-01-14T22:09:53.551837Z",
     "start_time": "2020-01-14T22:09:53.547312Z"
    }
   },
   "outputs": [],
   "source": [
    "df_fig = fs.jmi.get_methods_attributes_df(fig)"
   ]
  },
  {
   "cell_type": "code",
   "execution_count": null,
   "metadata": {
    "ExecuteTime": {
     "end_time": "2020-01-14T22:09:54.613269Z",
     "start_time": "2020-01-14T22:09:54.611192Z"
    }
   },
   "outputs": [],
   "source": [
    "# ax.set"
   ]
  },
  {
   "cell_type": "code",
   "execution_count": null,
   "metadata": {
    "ExecuteTime": {
     "end_time": "2020-01-14T22:10:13.178557Z",
     "start_time": "2020-01-14T22:10:13.176479Z"
    }
   },
   "outputs": [],
   "source": [
    "# df_fig[ \n",
    "#     df_fig['Object'].apply(lambda x: 'get' in x)\n",
    "# ]"
   ]
  },
  {
   "cell_type": "code",
   "execution_count": null,
   "metadata": {
    "ExecuteTime": {
     "end_time": "2020-01-12T21:58:15.532043Z",
     "start_time": "2020-01-12T21:58:15.166214Z"
    }
   },
   "outputs": [],
   "source": [
    "df['Fare'].hist(bins='auto')"
   ]
  },
  {
   "cell_type": "code",
   "execution_count": null,
   "metadata": {},
   "outputs": [],
   "source": []
  }
 ],
 "metadata": {
  "colab": {
   "collapsed_sections": [
    "PC2iFgJs_72o",
    "g32tGx6D7LrQ",
    "vVeQeIwmAsxc",
    "t4afuY15w3Ia",
    "SYIeSr6qKrZL",
    "Xu0dG_lUGbqH",
    "cJFvHhbFLX57",
    "AwWWOENu4ewY",
    "AFjho9kM4etn",
    "BUQmDaBO8Zun",
    "lF_Nm7GL8nY8",
    "YyPLU2fow3Ie",
    "rNLT8dc0w3If",
    "I8np5K5-w3Ik",
    "rhPYaRHLw3Il",
    "k64fB1ERw3Il",
    "dqBG210rw3Iq",
    "CnuN9U_Dw3Iw",
    "XtsXDMrHw3Iw",
    "NbrX3dQtw3Ix",
    "NulmOmJoaIBB",
    "p8Hkw-0YQuR1"
   ],
   "name": "Flatiron Bootcamp V2 Notes - Mod 3.ipynb",
   "provenance": []
  },
  "kernelspec": {
   "display_name": "Python 3",
   "language": "python",
   "name": "python3"
  },
  "language_info": {
   "codemirror_mode": {
    "name": "ipython",
    "version": 3
   },
   "file_extension": ".py",
   "mimetype": "text/x-python",
   "name": "python",
   "nbconvert_exporter": "python",
   "pygments_lexer": "ipython3",
   "version": "3.6.9"
  },
  "toc": {
   "base_numbering": 1,
   "nav_menu": {},
   "number_sections": false,
   "sideBar": true,
   "skip_h1_title": false,
   "title_cell": "Table of Contents",
   "title_sidebar": "Contents",
   "toc_cell": false,
   "toc_position": {
    "height": "calc(100% - 180px)",
    "left": "10px",
    "top": "150px",
    "width": "256px"
   },
   "toc_section_display": true,
   "toc_window_display": true
  }
 },
 "nbformat": 4,
 "nbformat_minor": 1
}
