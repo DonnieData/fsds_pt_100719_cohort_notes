{
 "cells": [
  {
   "cell_type": "markdown",
   "metadata": {
    "colab_type": "text",
    "id": "ZM6DyjYckZl2"
   },
   "source": [
    "\n",
    "# 🗓Section 20-22: Hypothesis A/B Testing"
   ]
  },
  {
   "cell_type": "markdown",
   "metadata": {
    "colab_type": "text",
    "id": "EM8QVDhSUCa_"
   },
   "source": [
    "- online-ds-pt-100719\n",
    "- 01/23/20\n",
    "\n"
   ]
  },
  {
   "cell_type": "markdown",
   "metadata": {
    "colab_type": "text",
    "id": "BWefqzWJoc_E"
   },
   "source": [
    "# Topics / Question \n",
    " "
   ]
  },
  {
   "cell_type": "markdown",
   "metadata": {},
   "source": [
    "- Workflow: choosing the correct hypothesis test.\n",
    "    - T-Test & ANOVA Assumptions\n",
    "    - Parametric vs Non-Parametric Tests\n",
    "\n",
    "- Hands-On Hypothesis Testing"
   ]
  },
  {
   "cell_type": "markdown",
   "metadata": {},
   "source": [
    "## Resources\n",
    "**Overivews/Cheatsheets**\n",
    "- [CodeAcademy Hypothesis Testing Slideshow](https://drive.google.com/open?id=1p4R2KCErq_iUO-wnfDrGPukTgQDBNoc7)\n",
    "- [Cheatsheet: Hypothesis Testing with Scipy](https://drive.google.com/open?id=1EY4UCg20HawWlWa50M2tFauoKBQcFFAW)\n",
    "\n",
    "\n",
    "- [Choosing Between Parametric and Non-Parametric Tests](https://blog.minitab.com/blog/adventures-in-statistics-2/choosing-between-a-nonparametric-test-and-a-parametric-test)\n",
    "\n",
    "**Trustable Stat References**:\n",
    "- [Graphpad Prism's Stat Guide](https://www.graphpad.com/guides/prism/8/statistics/index.htm)\n",
    "- [LAERD Statistics Test Selector](https://statistics.laerd.com/premium/sts/index.php)\n"
   ]
  },
  {
   "cell_type": "markdown",
   "metadata": {
    "colab_type": "text",
    "id": "dT1toD0noc3A"
   },
   "source": []
  },
  {
   "cell_type": "markdown",
   "metadata": {},
   "source": []
  },
  {
   "cell_type": "markdown",
   "metadata": {},
   "source": [
    "# Choosing the Correct Hypothesis Test"
   ]
  },
  {
   "cell_type": "markdown",
   "metadata": {},
   "source": [
    "## STEP 1: Determine the category/type of test based on your data."
   ]
  },
  {
   "cell_type": "markdown",
   "metadata": {},
   "source": [
    "### Q1: What type of data do I have (Numeric or categorical?)"
   ]
  },
  {
   "cell_type": "markdown",
   "metadata": {},
   "source": [
    "### Q2: How many samples/groups am I comparing?"
   ]
  },
  {
   "cell_type": "markdown",
   "metadata": {},
   "source": [
    "- Using the answers to the above 2 questions: select the type of test from this table."
   ]
  },
  {
   "cell_type": "markdown",
   "metadata": {},
   "source": [
    "| What type of comparison? | Numeric Data | Categorical Data|\n",
    "| --- | --- | --- |\n",
    "|Sample vs Known Quantity/Target|1 Sample T-Test| Binomial Test|\n",
    "|2 Samples | 2 Sample T-Test| Chi-Square|\n",
    "|More than 2| ANOVA and/or Tukey | Chi Square|"
   ]
  },
  {
   "cell_type": "markdown",
   "metadata": {},
   "source": [
    "## STEP 2:  Do we meet the assumptions of the chosen test?"
   ]
  },
  {
   "cell_type": "markdown",
   "metadata": {},
   "source": [
    "### TEST ASSUMPTIONS SUMMARY\n"
   ]
  },
  {
   "cell_type": "markdown",
   "metadata": {},
   "source": [
    "- [One-Sample T-Test](https://statistics.laerd.com/spss-tutorials/one-sample-t-test-using-spss-statistics.php)\n",
    "    - **No significant outliers**\n",
    "    - Normality\n",
    "\n",
    "- [Independent t-test (2-sample)](https://statistics.laerd.com/statistical-guides/independent-t-test-statistical-guide.php)\n",
    "    - Normality\n",
    "    - Equal Variance\n",
    "\n",
    "- [One Way ANOVA](https://statistics.laerd.com/spss-tutorials/one-way-anova-using-spss-statistics.php)\n",
    "    - **No significant outliers**\n",
    "    - Equal variance\n",
    "    - Normality\n",
    "\n",
    "- [Chi-Square test](https://statistics.laerd.com/spss-tutorials/chi-square-test-for-association-using-spss-statistics.php)\n",
    "    - Both variables are categorical\n"
   ]
  },
  {
   "cell_type": "markdown",
   "metadata": {},
   "source": [
    "### Testing Assumptions of Normality & Equal Variance"
   ]
  },
  {
   "cell_type": "markdown",
   "metadata": {},
   "source": [
    "1. **Test for Normality**\n",
    "    - D'Agostino-Pearson's normality test<br>\n",
    "    ```scipy.stats.normaltest```\n",
    "    - Shapiro-Wilik Test<br>\n",
    "    ```scipy.stats.shapiro```<br>\n",
    "    \n",
    "    \n",
    "2. **If you pass the assumption of normality: test for equal variance**\n",
    "     - Levene's Test<br>\n",
    "    ```scipy.stats.levene```\n",
    "    - **If you fail the assumption of equal variance use Welch's T-Test.** (for scipy, add `equal_var=False` to `ttest_ind`)\n",
    "    \n",
    "    \n",
    "    \n",
    "3. **If you DON'T have normal data: are your group sizes big enough to ignore normality assumption?**\n",
    "\n",
    "    - If your group N's are sufficiently large (as defined by table below). Can disregard normality assumption and continue with chosen test.\n",
    "\n",
    "\n",
    "| Parametric analyses| Sample size guidelines for nonnormal data| \n",
    "| --- | --- |\n",
    "| 1-sample t test| Greater than 20|\n",
    "| 2-sample t test| Each group should be greater than 15| \n",
    "| One-Way ANOVA|If have 2-9 groups, each group n >= 15. <br>If have 10-12 groups, each group n>20.|\n",
    "\n",
    "\n",
    "- **If you group N's are NOT large enough, select the non-parametric version of your test from the table below:**"
   ]
  },
  {
   "cell_type": "markdown",
   "metadata": {},
   "source": [
    "##### Parametric  T-Tests vs Non-Parametric Alternatives \n",
    "- [Choosing Between Parametric and Non-Parametric Tests](https://blog.minitab.com/blog/adventures-in-statistics-2/choosing-between-a-nonparametric-test-and-a-parametric-test)\n",
    " \n",
    "\n",
    "\n",
    "\n",
    "\n",
    "\n",
    "| Parametric tests (means) | Nonparametric tests (medians) |\n",
    " | --- | --- |\n",
    " | 1-sample t test | 1-sample Wilcoxon |\n",
    " | 2-sample t test | Mann-Whitney U test |\n",
    " | One-Way ANOVA | Kruskal-Wallis |\n",
    " \n",
    " "
   ]
  },
  {
   "cell_type": "markdown",
   "metadata": {},
   "source": [
    "### STEP 3: Interpret Result & Post-Hoc Tests"
   ]
  },
  {
   "cell_type": "markdown",
   "metadata": {},
   "source": [
    "- If p value is < $\\alpha$:\n",
    "    - Calculate effect size (e.g. Cohen's $d$)\n",
    "    - If you have multiple groups (i.e. ANOVA) you must **run a pairwise Tukey's test to know which groups were different.**\n",
    "- [Tukey pairwise comparison test](https://www.statsmodels.org/stable/generated/statsmodels.stats.multicomp.pairwise_tukeyhsd.html)\n",
    "    - `statsmodels.stats.multicomp.pairwise_tukeyhsd`\n"
   ]
  },
  {
   "cell_type": "markdown",
   "metadata": {},
   "source": [
    "#  **Stating our Hypothesis:**"
   ]
  },
  {
   "cell_type": "markdown",
   "metadata": {},
   "source": [
    "> **What question are you attempting to answer?**\n",
    "\n",
    "\n",
    "- $H_1$ : State the expected relationship between the variables.\n",
    "\n",
    "- $H_0$ : State the null hypothesis regarding the lack of relationship between the variables. \n",
    "\n",
    "<br>"
   ]
  },
  {
   "cell_type": "markdown",
   "metadata": {},
   "source": [
    "## HYPOTHESIS TESTING STEPS"
   ]
  },
  {
   "cell_type": "markdown",
   "metadata": {},
   "source": [
    "- Separate data in group vars.\n",
    "- Visualize data and calculate group n (size)\n",
    "\n",
    "    \n",
    "* Select the appropriate test based on type of comparison being made, the number of groups, the type of data.\n",
    "\n",
    "\n",
    "- For t-tests: test for the assumptions of normality and homogeneity of variance.\n",
    "\n",
    "    1. Check if sample sizes allow us to ignore assumptions, and if not:\n",
    "    2. **Test Assumption Normality**\n",
    "\n",
    "    3. **Test for Homogeneity of Variance**\n",
    "\n",
    "    4. **Choose appropriate test based upon the above** \n",
    "    \n",
    "    \n",
    "* **Aim 3: Perform chosen statistical test, calculate effect size, and any post-hoc tests.**\n",
    "    - To perform post-hoc pairwise comparison testing\n",
    "    - Effect size calculation\n",
    "        - Cohen's d"
   ]
  },
  {
   "cell_type": "code",
   "execution_count": 1,
   "metadata": {
    "ExecuteTime": {
     "end_time": "2020-01-23T22:33:23.212781Z",
     "start_time": "2020-01-23T22:33:20.396629Z"
    },
    "colab": {
     "base_uri": "https://localhost:8080/",
     "height": 221
    },
    "colab_type": "code",
    "id": "soGUgJ9RRJOp",
    "outputId": "e919e060-8aae-48d4-ed29-3b4637408f13"
   },
   "outputs": [
    {
     "name": "stdout",
     "output_type": "stream",
     "text": [
      "fsds_1007219  v0.6.6 loaded.  Read the docs: https://fsds.readthedocs.io/en/latest/ \n"
     ]
    },
    {
     "data": {
      "text/html": [
       "<style  type=\"text/css\" >\n",
       "</style><table id=\"T_5d3f1dbe_3e30_11ea_81c2_4865ee12e626\" ><caption>Loaded Packages and Handles</caption><thead>    <tr>        <th class=\"col_heading level0 col0\" >Handle</th>        <th class=\"col_heading level0 col1\" >Package</th>        <th class=\"col_heading level0 col2\" >Description</th>    </tr></thead><tbody>\n",
       "                <tr>\n",
       "                                <td id=\"T_5d3f1dbe_3e30_11ea_81c2_4865ee12e626row0_col0\" class=\"data row0 col0\" >dp</td>\n",
       "                        <td id=\"T_5d3f1dbe_3e30_11ea_81c2_4865ee12e626row0_col1\" class=\"data row0 col1\" >IPython.display</td>\n",
       "                        <td id=\"T_5d3f1dbe_3e30_11ea_81c2_4865ee12e626row0_col2\" class=\"data row0 col2\" >Display modules with helpful display and clearing commands.</td>\n",
       "            </tr>\n",
       "            <tr>\n",
       "                                <td id=\"T_5d3f1dbe_3e30_11ea_81c2_4865ee12e626row1_col0\" class=\"data row1 col0\" >fs</td>\n",
       "                        <td id=\"T_5d3f1dbe_3e30_11ea_81c2_4865ee12e626row1_col1\" class=\"data row1 col1\" >fsds_100719</td>\n",
       "                        <td id=\"T_5d3f1dbe_3e30_11ea_81c2_4865ee12e626row1_col2\" class=\"data row1 col2\" >Custom data science bootcamp student package</td>\n",
       "            </tr>\n",
       "            <tr>\n",
       "                                <td id=\"T_5d3f1dbe_3e30_11ea_81c2_4865ee12e626row2_col0\" class=\"data row2 col0\" >mpl</td>\n",
       "                        <td id=\"T_5d3f1dbe_3e30_11ea_81c2_4865ee12e626row2_col1\" class=\"data row2 col1\" >matplotlib</td>\n",
       "                        <td id=\"T_5d3f1dbe_3e30_11ea_81c2_4865ee12e626row2_col2\" class=\"data row2 col2\" >Matplotlib's base OOP module with formatting artists</td>\n",
       "            </tr>\n",
       "            <tr>\n",
       "                                <td id=\"T_5d3f1dbe_3e30_11ea_81c2_4865ee12e626row3_col0\" class=\"data row3 col0\" >plt</td>\n",
       "                        <td id=\"T_5d3f1dbe_3e30_11ea_81c2_4865ee12e626row3_col1\" class=\"data row3 col1\" >matplotlib.pyplot</td>\n",
       "                        <td id=\"T_5d3f1dbe_3e30_11ea_81c2_4865ee12e626row3_col2\" class=\"data row3 col2\" >Matplotlib's matlab-like plotting module</td>\n",
       "            </tr>\n",
       "            <tr>\n",
       "                                <td id=\"T_5d3f1dbe_3e30_11ea_81c2_4865ee12e626row4_col0\" class=\"data row4 col0\" >np</td>\n",
       "                        <td id=\"T_5d3f1dbe_3e30_11ea_81c2_4865ee12e626row4_col1\" class=\"data row4 col1\" >numpy</td>\n",
       "                        <td id=\"T_5d3f1dbe_3e30_11ea_81c2_4865ee12e626row4_col2\" class=\"data row4 col2\" >scientific computing with Python</td>\n",
       "            </tr>\n",
       "            <tr>\n",
       "                                <td id=\"T_5d3f1dbe_3e30_11ea_81c2_4865ee12e626row5_col0\" class=\"data row5 col0\" >pd</td>\n",
       "                        <td id=\"T_5d3f1dbe_3e30_11ea_81c2_4865ee12e626row5_col1\" class=\"data row5 col1\" >pandas</td>\n",
       "                        <td id=\"T_5d3f1dbe_3e30_11ea_81c2_4865ee12e626row5_col2\" class=\"data row5 col2\" >High performance data structures and tools</td>\n",
       "            </tr>\n",
       "            <tr>\n",
       "                                <td id=\"T_5d3f1dbe_3e30_11ea_81c2_4865ee12e626row6_col0\" class=\"data row6 col0\" >sns</td>\n",
       "                        <td id=\"T_5d3f1dbe_3e30_11ea_81c2_4865ee12e626row6_col1\" class=\"data row6 col1\" >seaborn</td>\n",
       "                        <td id=\"T_5d3f1dbe_3e30_11ea_81c2_4865ee12e626row6_col2\" class=\"data row6 col2\" >High-level data visualization library based on matplotlib</td>\n",
       "            </tr>\n",
       "    </tbody></table>"
      ],
      "text/plain": [
       "<pandas.io.formats.style.Styler at 0x112ac0550>"
      ]
     },
     "metadata": {},
     "output_type": "display_data"
    }
   ],
   "source": [
    "!pip install -U fsds_100719\n",
    "from fsds_100719.imports import *"
   ]
  },
  {
   "cell_type": "markdown",
   "metadata": {},
   "source": [
    "# Statistical Tests Summary Table"
   ]
  },
  {
   "cell_type": "markdown",
   "metadata": {},
   "source": [
    "\n",
    "\n",
    "| Parametric tests (means) | Function | Nonparametric tests (medians) | Function |\n",
    " | --- | --- | --- | --- |\n",
    " | 1-sample t test |`scipy.stats.ttest_1samp()`|  1-sample Wilcoxon |`scipy.stats.wilcoxon`|\n",
    " | 2-sample t test |`scipy.stats.ttest_ind()` | Mann-Whitney U test |`scipy.stats.mannwhitneyu()` |\n",
    " | One-Way ANOVA | `scipy.stats.f_oneway()` | Kruskal-Wallis | `scipy.stats.kruskal` | \n",
    " \n",
    " \n",
    " | Factorial DOE with one factor and one blocking variable |Friedman test  |\n"
   ]
  },
  {
   "cell_type": "markdown",
   "metadata": {},
   "source": [
    "# Hypothesis Testing: Mouse Data"
   ]
  },
  {
   "cell_type": "markdown",
   "metadata": {},
   "source": [
    "## Hypothesis\n",
    "> Question: does stimulation of CRF Neurons in the central amygdala increase alcohol consumption?\n",
    "\n",
    "- $H_1$: The amount of alcohol consumed will be different in ChR2 (experimental group) vs  Control after stimulation.\n",
    "- $H_0$: There will be no difference in alcohol consumed between groups.\n",
    "\n",
    "$\\alpha$=0.05\n"
   ]
  },
  {
   "cell_type": "markdown",
   "metadata": {},
   "source": [
    "### Step 1: which type of test?"
   ]
  },
  {
   "cell_type": "markdown",
   "metadata": {},
   "source": [
    "- What type of data?\n",
    "- How many groups?"
   ]
  },
  {
   "cell_type": "code",
   "execution_count": 3,
   "metadata": {
    "ExecuteTime": {
     "end_time": "2020-01-23T22:33:23.295774Z",
     "start_time": "2020-01-23T22:33:23.292308Z"
    }
   },
   "outputs": [
    {
     "data": {
      "text/html": [
       "<img src=\"https://raw.githubusercontent.com/jirvingphd/fsds_100719_cohort_notes/master/images/sect_20_neuro_data.png\">"
      ],
      "text/plain": [
       "<IPython.core.display.HTML object>"
      ]
     },
     "execution_count": 3,
     "metadata": {},
     "output_type": "execute_result"
    }
   ],
   "source": [
    "from IPython.display import HTML\n",
    "HTML('<img src=\"https://raw.githubusercontent.com/jirvingphd/fsds_100719_cohort_notes/master/images/sect_20_neuro_data.png\">')"
   ]
  },
  {
   "cell_type": "markdown",
   "metadata": {},
   "source": [
    "## Obtaining/Preprocessing Data"
   ]
  },
  {
   "cell_type": "code",
   "execution_count": 17,
   "metadata": {
    "ExecuteTime": {
     "end_time": "2020-01-23T22:40:24.752806Z",
     "start_time": "2020-01-23T22:40:24.750293Z"
    }
   },
   "outputs": [],
   "source": [
    "plt.style.use('seaborn-poster')"
   ]
  },
  {
   "cell_type": "code",
   "execution_count": 18,
   "metadata": {
    "ExecuteTime": {
     "end_time": "2020-01-23T22:40:25.050066Z",
     "start_time": "2020-01-23T22:40:24.927655Z"
    }
   },
   "outputs": [
    {
     "data": {
      "text/html": [
       "<div>\n",
       "<style scoped>\n",
       "    .dataframe tbody tr th:only-of-type {\n",
       "        vertical-align: middle;\n",
       "    }\n",
       "\n",
       "    .dataframe tbody tr th {\n",
       "        vertical-align: top;\n",
       "    }\n",
       "\n",
       "    .dataframe thead th {\n",
       "        text-align: right;\n",
       "    }\n",
       "</style>\n",
       "<table border=\"1\" class=\"dataframe\">\n",
       "  <thead>\n",
       "    <tr style=\"text-align: right;\">\n",
       "      <th></th>\n",
       "      <th>Mouse ID</th>\n",
       "      <th>Batch</th>\n",
       "      <th>Group</th>\n",
       "      <th>Sex</th>\n",
       "      <th>BL1</th>\n",
       "      <th>BL2</th>\n",
       "      <th>BL3</th>\n",
       "      <th>BL4</th>\n",
       "      <th>S1</th>\n",
       "      <th>S2</th>\n",
       "      <th>S3</th>\n",
       "      <th>S4</th>\n",
       "      <th>PS1</th>\n",
       "      <th>PS2</th>\n",
       "      <th>PS3</th>\n",
       "      <th>PS4</th>\n",
       "      <th>R1</th>\n",
       "      <th>R2</th>\n",
       "      <th>R3</th>\n",
       "      <th>R4</th>\n",
       "      <th>R5</th>\n",
       "      <th>R6</th>\n",
       "      <th>R7</th>\n",
       "      <th>R8</th>\n",
       "    </tr>\n",
       "  </thead>\n",
       "  <tbody>\n",
       "    <tr>\n",
       "      <td>0</td>\n",
       "      <td>Con 4</td>\n",
       "      <td>1</td>\n",
       "      <td>Control</td>\n",
       "      <td>F</td>\n",
       "      <td>665</td>\n",
       "      <td>863</td>\n",
       "      <td>631</td>\n",
       "      <td>629</td>\n",
       "      <td>583</td>\n",
       "      <td>801</td>\n",
       "      <td>723</td>\n",
       "      <td>707</td>\n",
       "      <td>732</td>\n",
       "      <td>680</td>\n",
       "      <td>684</td>\n",
       "      <td>485</td>\n",
       "      <td>65</td>\n",
       "      <td>301</td>\n",
       "      <td>351</td>\n",
       "      <td>441</td>\n",
       "      <td>675</td>\n",
       "      <td>554</td>\n",
       "      <td>541</td>\n",
       "      <td>545</td>\n",
       "    </tr>\n",
       "    <tr>\n",
       "      <td>1</td>\n",
       "      <td>Con 5</td>\n",
       "      <td>1</td>\n",
       "      <td>Control</td>\n",
       "      <td>F</td>\n",
       "      <td>859</td>\n",
       "      <td>849</td>\n",
       "      <td>685</td>\n",
       "      <td>731</td>\n",
       "      <td>854</td>\n",
       "      <td>1103</td>\n",
       "      <td>645</td>\n",
       "      <td>633</td>\n",
       "      <td>733</td>\n",
       "      <td>662</td>\n",
       "      <td>605</td>\n",
       "      <td>623</td>\n",
       "      <td>128</td>\n",
       "      <td>268</td>\n",
       "      <td>462</td>\n",
       "      <td>569</td>\n",
       "      <td>988</td>\n",
       "      <td>728</td>\n",
       "      <td>933</td>\n",
       "      <td>564</td>\n",
       "    </tr>\n",
       "    <tr>\n",
       "      <td>2</td>\n",
       "      <td>Con 6</td>\n",
       "      <td>1</td>\n",
       "      <td>Control</td>\n",
       "      <td>F</td>\n",
       "      <td>589</td>\n",
       "      <td>507</td>\n",
       "      <td>635</td>\n",
       "      <td>902</td>\n",
       "      <td>699</td>\n",
       "      <td>743</td>\n",
       "      <td>761</td>\n",
       "      <td>949</td>\n",
       "      <td>872</td>\n",
       "      <td>952</td>\n",
       "      <td>828</td>\n",
       "      <td>806</td>\n",
       "      <td>129</td>\n",
       "      <td>311</td>\n",
       "      <td>669</td>\n",
       "      <td>666</td>\n",
       "      <td>516</td>\n",
       "      <td>579</td>\n",
       "      <td>913</td>\n",
       "      <td>736</td>\n",
       "    </tr>\n",
       "    <tr>\n",
       "      <td>3</td>\n",
       "      <td>CON 2.1</td>\n",
       "      <td>2</td>\n",
       "      <td>Control</td>\n",
       "      <td>M</td>\n",
       "      <td>939</td>\n",
       "      <td>909</td>\n",
       "      <td>850</td>\n",
       "      <td>756</td>\n",
       "      <td>807</td>\n",
       "      <td>617</td>\n",
       "      <td>526</td>\n",
       "      <td>736</td>\n",
       "      <td>743</td>\n",
       "      <td>625</td>\n",
       "      <td>690</td>\n",
       "      <td>759</td>\n",
       "      <td>281</td>\n",
       "      <td>357</td>\n",
       "      <td>386</td>\n",
       "      <td>585</td>\n",
       "      <td>565</td>\n",
       "      <td>550</td>\n",
       "      <td>806</td>\n",
       "      <td>732</td>\n",
       "    </tr>\n",
       "    <tr>\n",
       "      <td>4</td>\n",
       "      <td>ChR2 2.2</td>\n",
       "      <td>2</td>\n",
       "      <td>ChR2</td>\n",
       "      <td>F</td>\n",
       "      <td>710</td>\n",
       "      <td>505</td>\n",
       "      <td>494</td>\n",
       "      <td>596</td>\n",
       "      <td>620</td>\n",
       "      <td>589</td>\n",
       "      <td>676</td>\n",
       "      <td>537</td>\n",
       "      <td>779</td>\n",
       "      <td>537</td>\n",
       "      <td>581</td>\n",
       "      <td>515</td>\n",
       "      <td>477</td>\n",
       "      <td>659</td>\n",
       "      <td>737</td>\n",
       "      <td>606</td>\n",
       "      <td>713</td>\n",
       "      <td>682</td>\n",
       "      <td>709</td>\n",
       "      <td>759</td>\n",
       "    </tr>\n",
       "  </tbody>\n",
       "</table>\n",
       "</div>"
      ],
      "text/plain": [
       "   Mouse ID  Batch    Group Sex  BL1  BL2  ...   R3   R4   R5   R6   R7   R8\n",
       "0     Con 4      1  Control   F  665  863  ...  351  441  675  554  541  545\n",
       "1     Con 5      1  Control   F  859  849  ...  462  569  988  728  933  564\n",
       "2     Con 6      1  Control   F  589  507  ...  669  666  516  579  913  736\n",
       "3   CON 2.1      2  Control   M  939  909  ...  386  585  565  550  806  732\n",
       "4  ChR2 2.2      2     ChR2   F  710  505  ...  737  606  713  682  709  759\n",
       "\n",
       "[5 rows x 24 columns]"
      ]
     },
     "execution_count": 18,
     "metadata": {},
     "output_type": "execute_result"
    }
   ],
   "source": [
    "df = pd.read_excel(\"/Users/jamesirving/Datasets/opto_DID_drinking_data.xlsx\",\n",
    "                   sheet_name='lick_data')\n",
    "pd.set_option('display.max_columns',0)\n",
    "pd.set_option('display.precision',3)\n",
    "df.head()"
   ]
  },
  {
   "cell_type": "markdown",
   "metadata": {},
   "source": [
    "#### Laying Out Our Approach\n",
    "\n",
    "1. Make a **dict/lists of the column names** that should be **averaged together** (`col_dict`)\n",
    "\n",
    "2. Make a new df of means using `col_dict`\n",
    "\n",
    "3. Make a grp dict using  `df_means.groupby('Group').groups` \n",
    "\n",
    "- Visualize the two populations\n",
    "\n",
    "- Prepare for hypothesis tests\n",
    "    - Either use `grps` dict to reference the correct columsn to pass into tests\n",
    "\n",
    "<!---\n",
    "**Variables:**\n",
    "\n",
    "- `col_dict` (dict): dict of column names to be grouped together for means\n",
    "- `df_means` (df): df of col_dict column means.\n",
    "- `grps` (dict): groupby dict where keys = 'Group' column and values = row indices\n",
    "\n",
    "- `data` (dict): Dictionary of...\n",
    "    - Series of each phase by group? --->"
   ]
  },
  {
   "cell_type": "code",
   "execution_count": 19,
   "metadata": {
    "ExecuteTime": {
     "end_time": "2020-01-23T22:40:26.503193Z",
     "start_time": "2020-01-23T22:40:26.495889Z"
    }
   },
   "outputs": [
    {
     "data": {
      "text/plain": [
       "{'BL': ['BL1', 'BL2', 'BL3', 'BL4'],\n",
       " 'S': ['S1', 'S2', 'S3', 'S4'],\n",
       " 'PS': ['PS1', 'PS2', 'PS3', 'PS4'],\n",
       " 'R': ['R1', 'R2', 'R3', 'R4', 'R5', 'R6', 'R7', 'R8']}"
      ]
     },
     "execution_count": 19,
     "metadata": {},
     "output_type": "execute_result"
    }
   ],
   "source": [
    "## Make lists of columns to be averaged together\n",
    "BL_cols = [col for col in df.columns if 'BL' in col]\n",
    "PS_cols = [col for col in df.columns if 'PS' in col]\n",
    "R_cols = [col for col in df.columns if 'R' in col]\n",
    "S_cols= [col for col in df.drop(PS_cols,axis=1) if 'S' in col]\n",
    "\n",
    "S_cols.remove('Sex')\n",
    "S_cols\n",
    "\n",
    "col_dict = {'BL':BL_cols,\n",
    "           'S':S_cols,\n",
    "           'PS':PS_cols,\n",
    "           'R':R_cols}\n",
    "\n",
    "col_dict"
   ]
  },
  {
   "cell_type": "code",
   "execution_count": 20,
   "metadata": {
    "ExecuteTime": {
     "end_time": "2020-01-23T22:40:27.105307Z",
     "start_time": "2020-01-23T22:40:27.076877Z"
    }
   },
   "outputs": [
    {
     "data": {
      "text/html": [
       "<div>\n",
       "<style scoped>\n",
       "    .dataframe tbody tr th:only-of-type {\n",
       "        vertical-align: middle;\n",
       "    }\n",
       "\n",
       "    .dataframe tbody tr th {\n",
       "        vertical-align: top;\n",
       "    }\n",
       "\n",
       "    .dataframe thead th {\n",
       "        text-align: right;\n",
       "    }\n",
       "</style>\n",
       "<table border=\"1\" class=\"dataframe\">\n",
       "  <thead>\n",
       "    <tr style=\"text-align: right;\">\n",
       "      <th></th>\n",
       "      <th>Mouse ID</th>\n",
       "      <th>Group</th>\n",
       "      <th>Sex</th>\n",
       "      <th>BL</th>\n",
       "      <th>S</th>\n",
       "      <th>PS</th>\n",
       "      <th>R</th>\n",
       "    </tr>\n",
       "  </thead>\n",
       "  <tbody>\n",
       "    <tr>\n",
       "      <td>0</td>\n",
       "      <td>Con 4</td>\n",
       "      <td>Control</td>\n",
       "      <td>F</td>\n",
       "      <td>697.00</td>\n",
       "      <td>703.50</td>\n",
       "      <td>645.25</td>\n",
       "      <td>434.125</td>\n",
       "    </tr>\n",
       "    <tr>\n",
       "      <td>1</td>\n",
       "      <td>Con 5</td>\n",
       "      <td>Control</td>\n",
       "      <td>F</td>\n",
       "      <td>781.00</td>\n",
       "      <td>808.75</td>\n",
       "      <td>655.75</td>\n",
       "      <td>580.000</td>\n",
       "    </tr>\n",
       "    <tr>\n",
       "      <td>2</td>\n",
       "      <td>Con 6</td>\n",
       "      <td>Control</td>\n",
       "      <td>F</td>\n",
       "      <td>658.25</td>\n",
       "      <td>788.00</td>\n",
       "      <td>864.50</td>\n",
       "      <td>564.875</td>\n",
       "    </tr>\n",
       "    <tr>\n",
       "      <td>3</td>\n",
       "      <td>CON 2.1</td>\n",
       "      <td>Control</td>\n",
       "      <td>M</td>\n",
       "      <td>863.50</td>\n",
       "      <td>671.50</td>\n",
       "      <td>704.25</td>\n",
       "      <td>532.750</td>\n",
       "    </tr>\n",
       "    <tr>\n",
       "      <td>4</td>\n",
       "      <td>ChR2 2.2</td>\n",
       "      <td>ChR2</td>\n",
       "      <td>F</td>\n",
       "      <td>576.25</td>\n",
       "      <td>605.50</td>\n",
       "      <td>603.00</td>\n",
       "      <td>667.750</td>\n",
       "    </tr>\n",
       "    <tr>\n",
       "      <td>5</td>\n",
       "      <td>ChR2 2.4</td>\n",
       "      <td>ChR2</td>\n",
       "      <td>F</td>\n",
       "      <td>639.25</td>\n",
       "      <td>513.25</td>\n",
       "      <td>618.50</td>\n",
       "      <td>813.125</td>\n",
       "    </tr>\n",
       "    <tr>\n",
       "      <td>6</td>\n",
       "      <td>DID CeA 3.1</td>\n",
       "      <td>ChR2</td>\n",
       "      <td>M</td>\n",
       "      <td>795.75</td>\n",
       "      <td>815.25</td>\n",
       "      <td>645.75</td>\n",
       "      <td>727.500</td>\n",
       "    </tr>\n",
       "    <tr>\n",
       "      <td>7</td>\n",
       "      <td>DID CeA 3.2</td>\n",
       "      <td>ChR2</td>\n",
       "      <td>M</td>\n",
       "      <td>559.50</td>\n",
       "      <td>524.00</td>\n",
       "      <td>525.25</td>\n",
       "      <td>148.000</td>\n",
       "    </tr>\n",
       "    <tr>\n",
       "      <td>8</td>\n",
       "      <td>DID CeA 3.3</td>\n",
       "      <td>ChR2</td>\n",
       "      <td>M</td>\n",
       "      <td>706.25</td>\n",
       "      <td>695.50</td>\n",
       "      <td>547.75</td>\n",
       "      <td>389.500</td>\n",
       "    </tr>\n",
       "    <tr>\n",
       "      <td>9</td>\n",
       "      <td>DID CeA 3.4</td>\n",
       "      <td>ChR2</td>\n",
       "      <td>M</td>\n",
       "      <td>806.50</td>\n",
       "      <td>913.75</td>\n",
       "      <td>890.00</td>\n",
       "      <td>667.375</td>\n",
       "    </tr>\n",
       "    <tr>\n",
       "      <td>10</td>\n",
       "      <td>DID CeA 3.5?</td>\n",
       "      <td>ChR2</td>\n",
       "      <td>M</td>\n",
       "      <td>645.25</td>\n",
       "      <td>723.75</td>\n",
       "      <td>686.25</td>\n",
       "      <td>662.625</td>\n",
       "    </tr>\n",
       "    <tr>\n",
       "      <td>11</td>\n",
       "      <td>DID CeA 3.6</td>\n",
       "      <td>Control</td>\n",
       "      <td>M</td>\n",
       "      <td>549.00</td>\n",
       "      <td>437.25</td>\n",
       "      <td>469.25</td>\n",
       "      <td>395.875</td>\n",
       "    </tr>\n",
       "    <tr>\n",
       "      <td>12</td>\n",
       "      <td>DID CeA 3.7</td>\n",
       "      <td>Control</td>\n",
       "      <td>M</td>\n",
       "      <td>602.00</td>\n",
       "      <td>444.00</td>\n",
       "      <td>529.75</td>\n",
       "      <td>418.875</td>\n",
       "    </tr>\n",
       "    <tr>\n",
       "      <td>13</td>\n",
       "      <td>DID CeA 3.8</td>\n",
       "      <td>Control</td>\n",
       "      <td>M</td>\n",
       "      <td>732.50</td>\n",
       "      <td>518.25</td>\n",
       "      <td>629.25</td>\n",
       "      <td>552.000</td>\n",
       "    </tr>\n",
       "    <tr>\n",
       "      <td>14</td>\n",
       "      <td>DID CeA 3.9</td>\n",
       "      <td>Control</td>\n",
       "      <td>F</td>\n",
       "      <td>618.00</td>\n",
       "      <td>587.25</td>\n",
       "      <td>477.75</td>\n",
       "      <td>408.500</td>\n",
       "    </tr>\n",
       "    <tr>\n",
       "      <td>15</td>\n",
       "      <td>CeA-DID 4.1</td>\n",
       "      <td>ChR2</td>\n",
       "      <td>M</td>\n",
       "      <td>477.25</td>\n",
       "      <td>587.25</td>\n",
       "      <td>788.75</td>\n",
       "      <td>865.000</td>\n",
       "    </tr>\n",
       "    <tr>\n",
       "      <td>16</td>\n",
       "      <td>CeA-DID 4.2</td>\n",
       "      <td>ChR2</td>\n",
       "      <td>F</td>\n",
       "      <td>316.00</td>\n",
       "      <td>519.25</td>\n",
       "      <td>502.50</td>\n",
       "      <td>587.125</td>\n",
       "    </tr>\n",
       "    <tr>\n",
       "      <td>17</td>\n",
       "      <td>CeA-DID 4.3</td>\n",
       "      <td>ChR2</td>\n",
       "      <td>F</td>\n",
       "      <td>807.50</td>\n",
       "      <td>694.00</td>\n",
       "      <td>747.25</td>\n",
       "      <td>793.250</td>\n",
       "    </tr>\n",
       "    <tr>\n",
       "      <td>18</td>\n",
       "      <td>CeA-DID 4.4</td>\n",
       "      <td>ChR2</td>\n",
       "      <td>F</td>\n",
       "      <td>540.25</td>\n",
       "      <td>612.75</td>\n",
       "      <td>516.50</td>\n",
       "      <td>905.875</td>\n",
       "    </tr>\n",
       "    <tr>\n",
       "      <td>19</td>\n",
       "      <td>CeA-DID 4.5</td>\n",
       "      <td>ChR2</td>\n",
       "      <td>M</td>\n",
       "      <td>282.75</td>\n",
       "      <td>122.25</td>\n",
       "      <td>192.25</td>\n",
       "      <td>188.625</td>\n",
       "    </tr>\n",
       "    <tr>\n",
       "      <td>20</td>\n",
       "      <td>CeA-DID 4.6</td>\n",
       "      <td>ChR2</td>\n",
       "      <td>M</td>\n",
       "      <td>408.25</td>\n",
       "      <td>510.25</td>\n",
       "      <td>524.25</td>\n",
       "      <td>680.000</td>\n",
       "    </tr>\n",
       "    <tr>\n",
       "      <td>21</td>\n",
       "      <td>CeA-DID 4.8</td>\n",
       "      <td>Control</td>\n",
       "      <td>F</td>\n",
       "      <td>211.00</td>\n",
       "      <td>285.25</td>\n",
       "      <td>197.50</td>\n",
       "      <td>143.750</td>\n",
       "    </tr>\n",
       "  </tbody>\n",
       "</table>\n",
       "</div>"
      ],
      "text/plain": [
       "        Mouse ID    Group Sex      BL       S      PS        R\n",
       "0          Con 4  Control   F  697.00  703.50  645.25  434.125\n",
       "1          Con 5  Control   F  781.00  808.75  655.75  580.000\n",
       "2          Con 6  Control   F  658.25  788.00  864.50  564.875\n",
       "3        CON 2.1  Control   M  863.50  671.50  704.25  532.750\n",
       "4       ChR2 2.2     ChR2   F  576.25  605.50  603.00  667.750\n",
       "5       ChR2 2.4     ChR2   F  639.25  513.25  618.50  813.125\n",
       "6    DID CeA 3.1     ChR2   M  795.75  815.25  645.75  727.500\n",
       "7    DID CeA 3.2     ChR2   M  559.50  524.00  525.25  148.000\n",
       "8    DID CeA 3.3     ChR2   M  706.25  695.50  547.75  389.500\n",
       "9    DID CeA 3.4     ChR2   M  806.50  913.75  890.00  667.375\n",
       "10  DID CeA 3.5?     ChR2   M  645.25  723.75  686.25  662.625\n",
       "11   DID CeA 3.6  Control   M  549.00  437.25  469.25  395.875\n",
       "12   DID CeA 3.7  Control   M  602.00  444.00  529.75  418.875\n",
       "13   DID CeA 3.8  Control   M  732.50  518.25  629.25  552.000\n",
       "14   DID CeA 3.9  Control   F  618.00  587.25  477.75  408.500\n",
       "15   CeA-DID 4.1     ChR2   M  477.25  587.25  788.75  865.000\n",
       "16   CeA-DID 4.2     ChR2   F  316.00  519.25  502.50  587.125\n",
       "17   CeA-DID 4.3     ChR2   F  807.50  694.00  747.25  793.250\n",
       "18   CeA-DID 4.4     ChR2   F  540.25  612.75  516.50  905.875\n",
       "19   CeA-DID 4.5     ChR2   M  282.75  122.25  192.25  188.625\n",
       "20   CeA-DID 4.6     ChR2   M  408.25  510.25  524.25  680.000\n",
       "21   CeA-DID 4.8  Control   F  211.00  285.25  197.50  143.750"
      ]
     },
     "execution_count": 20,
     "metadata": {},
     "output_type": "execute_result"
    }
   ],
   "source": [
    "mean_to_df = {}\n",
    "for k, cols in col_dict.items():\n",
    "    mean_to_df[k] = df[cols].mean(axis=1)\n",
    "    \n",
    "df_means = pd.concat([df[['Mouse ID','Group','Sex']],\n",
    "                      pd.DataFrame(mean_to_df)],axis=1)\n",
    "df_means"
   ]
  },
  {
   "cell_type": "code",
   "execution_count": 21,
   "metadata": {
    "ExecuteTime": {
     "end_time": "2020-01-23T22:40:28.345684Z",
     "start_time": "2020-01-23T22:40:28.343791Z"
    }
   },
   "outputs": [],
   "source": [
    "# df_means.to_csv('../datasets/neuro_mouse_dirnking.csv',index=False)\n",
    "# df_means = pd.read_csv('../datasets/neuro_mouse_dirnking.csv')\n",
    "# df_means"
   ]
  },
  {
   "cell_type": "markdown",
   "metadata": {},
   "source": [
    "### Getting Group Data For EDA & Testing"
   ]
  },
  {
   "cell_type": "code",
   "execution_count": 8,
   "metadata": {
    "ExecuteTime": {
     "end_time": "2020-01-23T22:33:23.363215Z",
     "start_time": "2020-01-23T22:33:23.358291Z"
    }
   },
   "outputs": [
    {
     "data": {
      "text/plain": [
       "Int64Index([4, 5, 6, 7, 8, 9, 10, 15, 16, 17, 18, 19, 20], dtype='int64')"
      ]
     },
     "execution_count": 8,
     "metadata": {},
     "output_type": "execute_result"
    }
   ],
   "source": [
    "grps = df_means.groupby('Group').groups\n",
    "grps['ChR2']"
   ]
  },
  {
   "cell_type": "code",
   "execution_count": 9,
   "metadata": {
    "ExecuteTime": {
     "end_time": "2020-01-23T22:33:23.370184Z",
     "start_time": "2020-01-23T22:33:23.365253Z"
    }
   },
   "outputs": [
    {
     "data": {
      "text/plain": [
       "ChR2       13\n",
       "Control     9\n",
       "Name: Group, dtype: int64"
      ]
     },
     "execution_count": 9,
     "metadata": {},
     "output_type": "execute_result"
    }
   ],
   "source": [
    "# df_means.loc[grps['ChR2']]\\\n",
    "counts = df_means['Group'].value_counts()\n",
    "counts"
   ]
  },
  {
   "cell_type": "code",
   "execution_count": 10,
   "metadata": {
    "ExecuteTime": {
     "end_time": "2020-01-23T22:33:23.642443Z",
     "start_time": "2020-01-23T22:33:23.371296Z"
    }
   },
   "outputs": [
    {
     "data": {
      "text/plain": [
       "<matplotlib.lines.Line2D at 0x1a24997fd0>"
      ]
     },
     "execution_count": 10,
     "metadata": {},
     "output_type": "execute_result"
    },
    {
     "data": {
      "image/png": "[encoded data removed]",
      "text/plain": [
       "<Figure size 720x432 with 1 Axes>"
      ]
     },
     "metadata": {
      "needs_background": "light"
     },
     "output_type": "display_data"
    }
   ],
   "source": [
    "## Examine KDEs for BL\n",
    "fig, ax = plt.subplots(figsize=(10,6))\n",
    "\n",
    "group1 = {'name':'ChR2',\n",
    "         'data':df_means.loc[grps['ChR2'],'BL'],\n",
    "         'n':counts['ChR2']}\n",
    "plot1 = {'hist_kws':dict(color='blue',lw=2, ls='-')}\n",
    "\n",
    "group2 = {'name':'Control',\n",
    "         'data':df_means.loc[grps['Control'],'BL'],\n",
    "         'n':counts['Control']}\n",
    "plot2 = {'hist_kws':dict(color='orange',lw=2, ls='-')}\n",
    "\n",
    "\n",
    "label1= f\"{group1['name']} n={group1['n']}\"\n",
    "sns.distplot(group1['data'], label=label1,\n",
    "             ax=ax, hist_kws=plot1['hist_kws'])\n",
    "# ax.legend()\n",
    "\n",
    "label2= f\"{group2['name']} n={group2['n']}\"\n",
    "sns.distplot(group2['data'], label=label2,\n",
    "             ax=ax,hist_kws=plot2['hist_kws'])\n",
    "ax.legend()\n",
    "\n",
    "ax.axvline(group1['data'].mean(),color=plot1['hist_kws']['color'], ls='--')\n",
    "ax.axvline(group2['data'].mean(),color=plot2['hist_kws']['color'], ls='--')\n"
   ]
  },
  {
   "cell_type": "code",
   "execution_count": 11,
   "metadata": {
    "ExecuteTime": {
     "end_time": "2020-01-23T22:33:23.754534Z",
     "start_time": "2020-01-23T22:33:23.643721Z"
    }
   },
   "outputs": [
    {
     "data": {
      "text/plain": [
       "<BarContainer object of 1 artists>"
      ]
     },
     "execution_count": 11,
     "metadata": {},
     "output_type": "execute_result"
    },
    {
     "data": {
      "image/png": "[encoded data removed]",
      "text/plain": [
       "<Figure size 144x432 with 1 Axes>"
      ]
     },
     "metadata": {
      "needs_background": "light"
     },
     "output_type": "display_data"
    }
   ],
   "source": [
    "from scipy.stats import sem\n",
    "fig, ax = plt.subplots(figsize=(2,6 ))\n",
    "ax.bar(group1['name'],group1['data'].mean(),\n",
    "      yerr=sem(group1['data']))\n",
    "\n",
    "ax.bar(group2['name'],group2['data'].mean(),\n",
    "      yerr=sem(group2['data']))"
   ]
  },
  {
   "cell_type": "code",
   "execution_count": 12,
   "metadata": {
    "ExecuteTime": {
     "end_time": "2020-01-23T22:33:23.759707Z",
     "start_time": "2020-01-23T22:33:23.755645Z"
    }
   },
   "outputs": [],
   "source": [
    "\n",
    "def Cohen_d(group1, group2):\n",
    "    \"\"\"\n",
    "    Compute Cohen's d.\n",
    "    \n",
    "    Args:\n",
    "        group1: Series or NumPy array\n",
    "        group2: Series or NumPy array\n",
    "\n",
    "    Returns:\n",
    "        d (float): effect size statistic\n",
    "\n",
    "    Interpretation:\n",
    "    > Small effect = 0.2\n",
    "    > Medium Effect = 0.5\n",
    "    > Large Effect = 0.8\n",
    "    \"\"\"\n",
    "    diff = group1.mean() - group2.mean()\n",
    "\n",
    "    n1, n2 = len(group1), len(group2)\n",
    "    var1 = group1.var()\n",
    "    var2 = group2.var()\n",
    "\n",
    "    # Calculate the pooled threshold as shown earlier\n",
    "    pooled_var = (n1 * var1 + n2 * var2) / (n1 + n2)\n",
    "    \n",
    "    # Calculate Cohen's d statistic\n",
    "    d = diff / np.sqrt(pooled_var)\n",
    "    \n",
    "    return d"
   ]
  },
  {
   "cell_type": "code",
   "execution_count": 13,
   "metadata": {
    "ExecuteTime": {
     "end_time": "2020-01-23T22:33:23.766382Z",
     "start_time": "2020-01-23T22:33:23.761318Z"
    },
    "colab": {},
    "colab_type": "code",
    "id": "2ZjAwqzfyLNX"
   },
   "outputs": [],
   "source": [
    "from scipy import stats\n",
    "\n",
    "def print_normtest(x,label=None,as_series=False):\n",
    "    \"\"\"Runs scipy.stats.normaltest and prints results,\n",
    "    may also return them if as_series=True\n",
    "    \"\"\"\n",
    "    if label is None:\n",
    "        try:\n",
    "            label=x.name\n",
    "        except:\n",
    "            label=''\n",
    "\n",
    "    results = ['Survived','Norm Stat','p value','(p<0.05)']\n",
    "\n",
    "    out = stats.normaltest(x)\n",
    "\n",
    "    values = [label, out.statistic.round(3),\n",
    "              out.pvalue.round(4), out.pvalue<0.05]\n",
    "\n",
    "    results=dict(zip(results,values))\n",
    "\n",
    "    print(f\"\\n--- stats.normtest results:\")\n",
    "    [print(f\"{k:{15}} : {v}\")for k,v in results.items()]\n",
    "    \n",
    "    if as_series:\n",
    "        return pd.Series(results)"
   ]
  },
  {
   "cell_type": "code",
   "execution_count": 22,
   "metadata": {
    "ExecuteTime": {
     "end_time": "2020-01-23T22:41:10.502211Z",
     "start_time": "2020-01-23T22:41:10.469878Z"
    }
   },
   "outputs": [
    {
     "name": "stderr",
     "output_type": "stream",
     "text": [
      "//anaconda3/envs/learn-env/lib/python3.6/site-packages/scipy/stats/stats.py:1450: UserWarning: kurtosistest only valid for n>=20 ... continuing anyway, n=13\n",
      "  \"anyway, n=%i\" % int(n))\n",
      "//anaconda3/envs/learn-env/lib/python3.6/site-packages/scipy/stats/stats.py:1450: UserWarning: kurtosistest only valid for n>=20 ... continuing anyway, n=9\n",
      "  \"anyway, n=%i\" % int(n))\n"
     ]
    },
    {
     "data": {
      "text/html": [
       "<div>\n",
       "<style scoped>\n",
       "    .dataframe tbody tr th:only-of-type {\n",
       "        vertical-align: middle;\n",
       "    }\n",
       "\n",
       "    .dataframe tbody tr th {\n",
       "        vertical-align: top;\n",
       "    }\n",
       "\n",
       "    .dataframe thead th {\n",
       "        text-align: right;\n",
       "    }\n",
       "</style>\n",
       "<table border=\"1\" class=\"dataframe\">\n",
       "  <thead>\n",
       "    <tr style=\"text-align: right;\">\n",
       "      <th></th>\n",
       "      <th>Col</th>\n",
       "      <th>Test</th>\n",
       "      <th>Group(s)</th>\n",
       "      <th>Stat</th>\n",
       "      <th>p</th>\n",
       "      <th>p&lt;.05</th>\n",
       "    </tr>\n",
       "  </thead>\n",
       "  <tbody>\n",
       "    <tr>\n",
       "      <td>0</td>\n",
       "      <td>BL</td>\n",
       "      <td>Normality</td>\n",
       "      <td>ChR2</td>\n",
       "      <td>0.79</td>\n",
       "      <td>0.674</td>\n",
       "      <td>False</td>\n",
       "    </tr>\n",
       "    <tr>\n",
       "      <td>1</td>\n",
       "      <td>BL</td>\n",
       "      <td>Normality</td>\n",
       "      <td>Control</td>\n",
       "      <td>8.25</td>\n",
       "      <td>0.0161</td>\n",
       "      <td>True</td>\n",
       "    </tr>\n",
       "    <tr>\n",
       "      <td>2</td>\n",
       "      <td>BL</td>\n",
       "      <td>Equal Variance</td>\n",
       "      <td>Both</td>\n",
       "      <td>0.131</td>\n",
       "      <td>0.721</td>\n",
       "      <td>False</td>\n",
       "    </tr>\n",
       "    <tr>\n",
       "      <td>3</td>\n",
       "      <td>BL</td>\n",
       "      <td>T-Test 2samp</td>\n",
       "      <td>Both</td>\n",
       "      <td>-0.68</td>\n",
       "      <td>0.505</td>\n",
       "      <td>False</td>\n",
       "    </tr>\n",
       "    <tr>\n",
       "      <td>4</td>\n",
       "      <td>BL</td>\n",
       "      <td>Mann Whitney U</td>\n",
       "      <td>Both</td>\n",
       "      <td>47</td>\n",
       "      <td>0.231</td>\n",
       "      <td>False</td>\n",
       "    </tr>\n",
       "    <tr>\n",
       "      <td>5</td>\n",
       "      <td>BL</td>\n",
       "      <td>Cohen's d</td>\n",
       "      <td>Both</td>\n",
       "      <td></td>\n",
       "      <td></td>\n",
       "      <td>-0.295</td>\n",
       "    </tr>\n",
       "  </tbody>\n",
       "</table>\n",
       "</div>"
      ],
      "text/plain": [
       "  Col            Test Group(s)   Stat       p  p<.05\n",
       "0  BL       Normality     ChR2   0.79   0.674  False\n",
       "1  BL       Normality  Control   8.25  0.0161   True\n",
       "2  BL  Equal Variance     Both  0.131   0.721  False\n",
       "3  BL    T-Test 2samp     Both  -0.68   0.505  False\n",
       "4  BL  Mann Whitney U     Both     47   0.231  False\n",
       "5  BL       Cohen's d     Both                -0.295"
      ]
     },
     "execution_count": 22,
     "metadata": {},
     "output_type": "execute_result"
    }
   ],
   "source": [
    "def test_assumptions(df_means,grps=None,\n",
    "                     group_col='Group',\n",
    "                     grp1='ChR2',\n",
    "                     grp2='Control',\n",
    "                     data_col='BL'):\n",
    "    \n",
    "    if grps is None:\n",
    "        grps = df_means.groupby(group_col).groups\n",
    "        \n",
    "        \n",
    "    group1 = {'name':grp1,\n",
    "              'data':df_means.loc[grps[grp1],data_col]}\n",
    "    \n",
    "    group2 = {'name':grp2,\n",
    "              'data':df_means.loc[grps[grp2],data_col]}\n",
    "    \n",
    "    results = [['Col','Test','Group(s)','Stat','p','p<.05']]\n",
    "    \n",
    "    ## Normality testing\n",
    "    stat,p = stats.normaltest(group1['data'])\n",
    "    results.append([data_col,'Normality',group1['name'],\n",
    "                  stat, p, p<.05])\n",
    "    \n",
    "    stat,p = stats.normaltest(group2['data'])    \n",
    "    results.append([data_col,'Normality',group2['name'],\n",
    "                  stat, p, p<.05])\n",
    "    ## Homo. of Variance Testing\n",
    "    stat,p = stats.levene(group1['data'],group2['data'])\n",
    "    results.append([data_col,'Equal Variance','Both',\n",
    "                  stat, p, p<.05])\n",
    "    \n",
    "    ## Parametric T-Test\n",
    "    stat,p = stats.ttest_ind(group1['data'],group2['data'])\n",
    "    results.append([data_col,'T-Test 2samp','Both',stat,p,p<.05])\n",
    "    \n",
    "    ## Non-Parametric MWU\n",
    "    stat,p = stats.mannwhitneyu(group1['data'],group2['data'])\n",
    "    results.append([data_col,'Mann Whitney U','Both',stat,p,p<.05])\n",
    "    \n",
    "    ## Effect size with Cohen's d\n",
    "    d = Cohen_d(group1['data'],group2['data'])\n",
    "    results.append([data_col, \"Cohen's d\", 'Both','','',d])\n",
    "    \n",
    "    return pd.DataFrame(results[1:],columns=results[0])\n",
    "\n",
    "test_assumptions(df_means)"
   ]
  },
  {
   "cell_type": "code",
   "execution_count": 25,
   "metadata": {
    "ExecuteTime": {
     "end_time": "2020-01-23T22:41:59.142057Z",
     "start_time": "2020-01-23T22:41:58.747491Z"
    }
   },
   "outputs": [
    {
     "data": {
      "image/png": "[encoded data removed]",
      "text/plain": [
       "<Figure size 720x432 with 2 Axes>"
      ]
     },
     "metadata": {
      "needs_background": "light"
     },
     "output_type": "display_data"
    }
   ],
   "source": [
    "def plot_statplot(df_means,grps=None,\n",
    "                  group_col='Group',data_col='BL'):\n",
    "    \n",
    "    if grps is None:\n",
    "        grps = df_means.groupby(group_col).groups\n",
    "\n",
    "    ## Examine KDEs for BL\n",
    "    fig= plt.figure(figsize=(10,6))\n",
    "    axes=['','']\n",
    "    # Define gridspec to create grid coordinates             \n",
    "    gs = fig.add_gridspec(nrows=1,ncols=9)\n",
    "    axes[0] = fig.add_subplot(gs[0,0:7])\n",
    "    axes[1] = fig.add_subplot(gs[0,7:])\n",
    "\n",
    "    group1 = {'name':'ChR2',\n",
    "             'data':df_means.loc[grps['ChR2'],data_col],\n",
    "             'n':counts['ChR2']}\n",
    "    plot1 = {'hist_kws':dict(color='blue',lw=2, ls='-')}#,bins='auto')}\n",
    "\n",
    "    group2 = {'name':'Control',\n",
    "             'data':df_means.loc[grps['Control'],data_col],\n",
    "             'n':counts['Control']}\n",
    "    plot2 = {'hist_kws':dict(color='orange',lw=2, ls='-')}#,bins='auto')}\n",
    "    \n",
    "    ax = axes[0]\n",
    "    label1= f\"{group1['name']} n={group1['n']}\"\n",
    "    sns.distplot(group1['data'], label=label1,\n",
    "                 ax=ax, hist_kws=plot1['hist_kws'])\n",
    "    # ax.legend()\n",
    "\n",
    "    label2= f\"{group2['name']} n={group2['n']}\"\n",
    "    sns.distplot(group2['data'], label=label2,\n",
    "                 ax=ax,hist_kws=plot2['hist_kws'])\n",
    "    ax.legend()\n",
    "\n",
    "    \n",
    "\n",
    "    ax.axvline(group1['data'].mean(),color=plot1['hist_kws']['color'], ls='--')\n",
    "    ax.axvline(group2['data'].mean(),color=plot2['hist_kws']['color'], ls='--')\n",
    "\n",
    "\n",
    "    ax = axes[1]\n",
    "\n",
    "    ax.bar(group1['name'],group1['data'].mean(),\n",
    "          yerr=sem(group1['data']))\n",
    "\n",
    "    ax.bar(group2['name'],group2['data'].mean(),\n",
    "          yerr=sem(group2['data']))\n",
    "    \n",
    "    plt.suptitle(f\"Phase = {data_col}\",fontsize=20)\n",
    "    \n",
    "    return fig\n",
    "\n",
    "plot_statplot(df_means);"
   ]
  },
  {
   "cell_type": "code",
   "execution_count": 26,
   "metadata": {
    "ExecuteTime": {
     "end_time": "2020-01-23T22:42:00.721776Z",
     "start_time": "2020-01-23T22:41:59.317761Z"
    },
    "scrolled": false
   },
   "outputs": [
    {
     "name": "stdout",
     "output_type": "stream",
     "text": [
      "------------------------------------------------------------------------------------------\n"
     ]
    },
    {
     "data": {
      "text/html": [
       "<div>\n",
       "<style scoped>\n",
       "    .dataframe tbody tr th:only-of-type {\n",
       "        vertical-align: middle;\n",
       "    }\n",
       "\n",
       "    .dataframe tbody tr th {\n",
       "        vertical-align: top;\n",
       "    }\n",
       "\n",
       "    .dataframe thead th {\n",
       "        text-align: right;\n",
       "    }\n",
       "</style>\n",
       "<table border=\"1\" class=\"dataframe\">\n",
       "  <thead>\n",
       "    <tr style=\"text-align: right;\">\n",
       "      <th></th>\n",
       "      <th>Col</th>\n",
       "      <th>Test</th>\n",
       "      <th>Group(s)</th>\n",
       "      <th>Stat</th>\n",
       "      <th>p</th>\n",
       "      <th>p&lt;.05</th>\n",
       "    </tr>\n",
       "  </thead>\n",
       "  <tbody>\n",
       "    <tr>\n",
       "      <td>0</td>\n",
       "      <td>BL</td>\n",
       "      <td>Normality</td>\n",
       "      <td>ChR2</td>\n",
       "      <td>0.79</td>\n",
       "      <td>0.674</td>\n",
       "      <td>False</td>\n",
       "    </tr>\n",
       "    <tr>\n",
       "      <td>1</td>\n",
       "      <td>BL</td>\n",
       "      <td>Normality</td>\n",
       "      <td>Control</td>\n",
       "      <td>8.25</td>\n",
       "      <td>0.0161</td>\n",
       "      <td>True</td>\n",
       "    </tr>\n",
       "    <tr>\n",
       "      <td>2</td>\n",
       "      <td>BL</td>\n",
       "      <td>Equal Variance</td>\n",
       "      <td>Both</td>\n",
       "      <td>0.131</td>\n",
       "      <td>0.721</td>\n",
       "      <td>False</td>\n",
       "    </tr>\n",
       "    <tr>\n",
       "      <td>3</td>\n",
       "      <td>BL</td>\n",
       "      <td>T-Test 2samp</td>\n",
       "      <td>Both</td>\n",
       "      <td>-0.68</td>\n",
       "      <td>0.505</td>\n",
       "      <td>False</td>\n",
       "    </tr>\n",
       "    <tr>\n",
       "      <td>4</td>\n",
       "      <td>BL</td>\n",
       "      <td>Mann Whitney U</td>\n",
       "      <td>Both</td>\n",
       "      <td>47</td>\n",
       "      <td>0.231</td>\n",
       "      <td>False</td>\n",
       "    </tr>\n",
       "    <tr>\n",
       "      <td>5</td>\n",
       "      <td>BL</td>\n",
       "      <td>Cohen's d</td>\n",
       "      <td>Both</td>\n",
       "      <td></td>\n",
       "      <td></td>\n",
       "      <td>-0.295</td>\n",
       "    </tr>\n",
       "  </tbody>\n",
       "</table>\n",
       "</div>"
      ],
      "text/plain": [
       "  Col            Test Group(s)   Stat       p  p<.05\n",
       "0  BL       Normality     ChR2   0.79   0.674  False\n",
       "1  BL       Normality  Control   8.25  0.0161   True\n",
       "2  BL  Equal Variance     Both  0.131   0.721  False\n",
       "3  BL    T-Test 2samp     Both  -0.68   0.505  False\n",
       "4  BL  Mann Whitney U     Both     47   0.231  False\n",
       "5  BL       Cohen's d     Both                -0.295"
      ]
     },
     "metadata": {},
     "output_type": "display_data"
    },
    {
     "data": {
      "image/png": "[encoded data removed]",
      "text/plain": [
       "<Figure size 720x432 with 2 Axes>"
      ]
     },
     "metadata": {
      "needs_background": "light"
     },
     "output_type": "display_data"
    },
    {
     "name": "stdout",
     "output_type": "stream",
     "text": [
      "------------------------------------------------------------------------------------------\n"
     ]
    },
    {
     "data": {
      "text/html": [
       "<div>\n",
       "<style scoped>\n",
       "    .dataframe tbody tr th:only-of-type {\n",
       "        vertical-align: middle;\n",
       "    }\n",
       "\n",
       "    .dataframe tbody tr th {\n",
       "        vertical-align: top;\n",
       "    }\n",
       "\n",
       "    .dataframe thead th {\n",
       "        text-align: right;\n",
       "    }\n",
       "</style>\n",
       "<table border=\"1\" class=\"dataframe\">\n",
       "  <thead>\n",
       "    <tr style=\"text-align: right;\">\n",
       "      <th></th>\n",
       "      <th>Col</th>\n",
       "      <th>Test</th>\n",
       "      <th>Group(s)</th>\n",
       "      <th>Stat</th>\n",
       "      <th>p</th>\n",
       "      <th>p&lt;.05</th>\n",
       "    </tr>\n",
       "  </thead>\n",
       "  <tbody>\n",
       "    <tr>\n",
       "      <td>0</td>\n",
       "      <td>S</td>\n",
       "      <td>Normality</td>\n",
       "      <td>ChR2</td>\n",
       "      <td>6.53</td>\n",
       "      <td>0.0381</td>\n",
       "      <td>True</td>\n",
       "    </tr>\n",
       "    <tr>\n",
       "      <td>1</td>\n",
       "      <td>S</td>\n",
       "      <td>Normality</td>\n",
       "      <td>Control</td>\n",
       "      <td>0.49</td>\n",
       "      <td>0.783</td>\n",
       "      <td>False</td>\n",
       "    </tr>\n",
       "    <tr>\n",
       "      <td>2</td>\n",
       "      <td>S</td>\n",
       "      <td>Equal Variance</td>\n",
       "      <td>Both</td>\n",
       "      <td>0.0723</td>\n",
       "      <td>0.791</td>\n",
       "      <td>False</td>\n",
       "    </tr>\n",
       "    <tr>\n",
       "      <td>3</td>\n",
       "      <td>S</td>\n",
       "      <td>T-Test 2samp</td>\n",
       "      <td>Both</td>\n",
       "      <td>0.252</td>\n",
       "      <td>0.804</td>\n",
       "      <td>False</td>\n",
       "    </tr>\n",
       "    <tr>\n",
       "      <td>4</td>\n",
       "      <td>S</td>\n",
       "      <td>Mann Whitney U</td>\n",
       "      <td>Both</td>\n",
       "      <td>51.5</td>\n",
       "      <td>0.332</td>\n",
       "      <td>False</td>\n",
       "    </tr>\n",
       "    <tr>\n",
       "      <td>5</td>\n",
       "      <td>S</td>\n",
       "      <td>Cohen's d</td>\n",
       "      <td>Both</td>\n",
       "      <td></td>\n",
       "      <td></td>\n",
       "      <td>0.109</td>\n",
       "    </tr>\n",
       "  </tbody>\n",
       "</table>\n",
       "</div>"
      ],
      "text/plain": [
       "  Col            Test Group(s)    Stat       p  p<.05\n",
       "0   S       Normality     ChR2    6.53  0.0381   True\n",
       "1   S       Normality  Control    0.49   0.783  False\n",
       "2   S  Equal Variance     Both  0.0723   0.791  False\n",
       "3   S    T-Test 2samp     Both   0.252   0.804  False\n",
       "4   S  Mann Whitney U     Both    51.5   0.332  False\n",
       "5   S       Cohen's d     Both                  0.109"
      ]
     },
     "metadata": {},
     "output_type": "display_data"
    },
    {
     "data": {
      "image/png": "[encoded data removed]",
      "text/plain": [
       "<Figure size 720x432 with 2 Axes>"
      ]
     },
     "metadata": {
      "needs_background": "light"
     },
     "output_type": "display_data"
    },
    {
     "name": "stdout",
     "output_type": "stream",
     "text": [
      "------------------------------------------------------------------------------------------\n"
     ]
    },
    {
     "data": {
      "text/html": [
       "<div>\n",
       "<style scoped>\n",
       "    .dataframe tbody tr th:only-of-type {\n",
       "        vertical-align: middle;\n",
       "    }\n",
       "\n",
       "    .dataframe tbody tr th {\n",
       "        vertical-align: top;\n",
       "    }\n",
       "\n",
       "    .dataframe thead th {\n",
       "        text-align: right;\n",
       "    }\n",
       "</style>\n",
       "<table border=\"1\" class=\"dataframe\">\n",
       "  <thead>\n",
       "    <tr style=\"text-align: right;\">\n",
       "      <th></th>\n",
       "      <th>Col</th>\n",
       "      <th>Test</th>\n",
       "      <th>Group(s)</th>\n",
       "      <th>Stat</th>\n",
       "      <th>p</th>\n",
       "      <th>p&lt;.05</th>\n",
       "    </tr>\n",
       "  </thead>\n",
       "  <tbody>\n",
       "    <tr>\n",
       "      <td>0</td>\n",
       "      <td>PS</td>\n",
       "      <td>Normality</td>\n",
       "      <td>ChR2</td>\n",
       "      <td>3.78</td>\n",
       "      <td>0.151</td>\n",
       "      <td>False</td>\n",
       "    </tr>\n",
       "    <tr>\n",
       "      <td>1</td>\n",
       "      <td>PS</td>\n",
       "      <td>Normality</td>\n",
       "      <td>Control</td>\n",
       "      <td>2.28</td>\n",
       "      <td>0.321</td>\n",
       "      <td>False</td>\n",
       "    </tr>\n",
       "    <tr>\n",
       "      <td>2</td>\n",
       "      <td>PS</td>\n",
       "      <td>Equal Variance</td>\n",
       "      <td>Both</td>\n",
       "      <td>0.0517</td>\n",
       "      <td>0.822</td>\n",
       "      <td>False</td>\n",
       "    </tr>\n",
       "    <tr>\n",
       "      <td>3</td>\n",
       "      <td>PS</td>\n",
       "      <td>T-Test 2samp</td>\n",
       "      <td>Both</td>\n",
       "      <td>0.316</td>\n",
       "      <td>0.755</td>\n",
       "      <td>False</td>\n",
       "    </tr>\n",
       "    <tr>\n",
       "      <td>4</td>\n",
       "      <td>PS</td>\n",
       "      <td>Mann Whitney U</td>\n",
       "      <td>Both</td>\n",
       "      <td>55</td>\n",
       "      <td>0.421</td>\n",
       "      <td>False</td>\n",
       "    </tr>\n",
       "    <tr>\n",
       "      <td>5</td>\n",
       "      <td>PS</td>\n",
       "      <td>Cohen's d</td>\n",
       "      <td>Both</td>\n",
       "      <td></td>\n",
       "      <td></td>\n",
       "      <td>0.137</td>\n",
       "    </tr>\n",
       "  </tbody>\n",
       "</table>\n",
       "</div>"
      ],
      "text/plain": [
       "  Col            Test Group(s)    Stat      p  p<.05\n",
       "0  PS       Normality     ChR2    3.78  0.151  False\n",
       "1  PS       Normality  Control    2.28  0.321  False\n",
       "2  PS  Equal Variance     Both  0.0517  0.822  False\n",
       "3  PS    T-Test 2samp     Both   0.316  0.755  False\n",
       "4  PS  Mann Whitney U     Both      55  0.421  False\n",
       "5  PS       Cohen's d     Both                 0.137"
      ]
     },
     "metadata": {},
     "output_type": "display_data"
    },
    {
     "data": {
      "image/png": "[encoded data removed]",
      "text/plain": [
       "<Figure size 720x432 with 2 Axes>"
      ]
     },
     "metadata": {
      "needs_background": "light"
     },
     "output_type": "display_data"
    },
    {
     "name": "stdout",
     "output_type": "stream",
     "text": [
      "------------------------------------------------------------------------------------------\n"
     ]
    },
    {
     "data": {
      "text/html": [
       "<div>\n",
       "<style scoped>\n",
       "    .dataframe tbody tr th:only-of-type {\n",
       "        vertical-align: middle;\n",
       "    }\n",
       "\n",
       "    .dataframe tbody tr th {\n",
       "        vertical-align: top;\n",
       "    }\n",
       "\n",
       "    .dataframe thead th {\n",
       "        text-align: right;\n",
       "    }\n",
       "</style>\n",
       "<table border=\"1\" class=\"dataframe\">\n",
       "  <thead>\n",
       "    <tr style=\"text-align: right;\">\n",
       "      <th></th>\n",
       "      <th>Col</th>\n",
       "      <th>Test</th>\n",
       "      <th>Group(s)</th>\n",
       "      <th>Stat</th>\n",
       "      <th>p</th>\n",
       "      <th>p&lt;.05</th>\n",
       "    </tr>\n",
       "  </thead>\n",
       "  <tbody>\n",
       "    <tr>\n",
       "      <td>0</td>\n",
       "      <td>R</td>\n",
       "      <td>Normality</td>\n",
       "      <td>ChR2</td>\n",
       "      <td>3.23</td>\n",
       "      <td>0.199</td>\n",
       "      <td>False</td>\n",
       "    </tr>\n",
       "    <tr>\n",
       "      <td>1</td>\n",
       "      <td>R</td>\n",
       "      <td>Normality</td>\n",
       "      <td>Control</td>\n",
       "      <td>7.01</td>\n",
       "      <td>0.0301</td>\n",
       "      <td>True</td>\n",
       "    </tr>\n",
       "    <tr>\n",
       "      <td>2</td>\n",
       "      <td>R</td>\n",
       "      <td>Equal Variance</td>\n",
       "      <td>Both</td>\n",
       "      <td>1.17</td>\n",
       "      <td>0.293</td>\n",
       "      <td>False</td>\n",
       "    </tr>\n",
       "    <tr>\n",
       "      <td>3</td>\n",
       "      <td>R</td>\n",
       "      <td>T-Test 2samp</td>\n",
       "      <td>Both</td>\n",
       "      <td>1.97</td>\n",
       "      <td>0.0632</td>\n",
       "      <td>False</td>\n",
       "    </tr>\n",
       "    <tr>\n",
       "      <td>4</td>\n",
       "      <td>R</td>\n",
       "      <td>Mann Whitney U</td>\n",
       "      <td>Both</td>\n",
       "      <td>24</td>\n",
       "      <td>0.0116</td>\n",
       "      <td>True</td>\n",
       "    </tr>\n",
       "    <tr>\n",
       "      <td>5</td>\n",
       "      <td>R</td>\n",
       "      <td>Cohen's d</td>\n",
       "      <td>Both</td>\n",
       "      <td></td>\n",
       "      <td></td>\n",
       "      <td>0.857</td>\n",
       "    </tr>\n",
       "  </tbody>\n",
       "</table>\n",
       "</div>"
      ],
      "text/plain": [
       "  Col            Test Group(s)  Stat       p  p<.05\n",
       "0   R       Normality     ChR2  3.23   0.199  False\n",
       "1   R       Normality  Control  7.01  0.0301   True\n",
       "2   R  Equal Variance     Both  1.17   0.293  False\n",
       "3   R    T-Test 2samp     Both  1.97  0.0632  False\n",
       "4   R  Mann Whitney U     Both    24  0.0116   True\n",
       "5   R       Cohen's d     Both                0.857"
      ]
     },
     "metadata": {},
     "output_type": "display_data"
    },
    {
     "data": {
      "image/png": "[encoded data removed]",
      "text/plain": [
       "<Figure size 720x432 with 2 Axes>"
      ]
     },
     "metadata": {
      "needs_background": "light"
     },
     "output_type": "display_data"
    }
   ],
   "source": [
    "for phase in ['BL','S','PS','R']:\n",
    "    print('---'*30)\n",
    "    res = test_assumptions(df_means,data_col=phase)\n",
    "    display(res)\n",
    "    \n",
    "    plot_statplot(df_means, data_col=phase)\n",
    "#     print(stats.ttest_ind(group1['data'],group2['data'])\n",
    "    plt.show()"
   ]
  },
  {
   "cell_type": "code",
   "execution_count": 27,
   "metadata": {
    "ExecuteTime": {
     "end_time": "2020-01-23T22:42:02.032664Z",
     "start_time": "2020-01-23T22:42:02.030391Z"
    }
   },
   "outputs": [],
   "source": [
    "# As an "
   ]
  },
  {
   "cell_type": "code",
   "execution_count": null,
   "metadata": {
    "ExecuteTime": {
     "end_time": "2020-01-18T01:06:51.923083Z",
     "start_time": "2020-01-18T01:06:51.876974Z"
    }
   },
   "outputs": [],
   "source": []
  },
  {
   "cell_type": "markdown",
   "metadata": {},
   "source": [
    "## Conclusion:\n",
    "- We had a significant p-val of .011, effect size was 0.8 (large)\n",
    "\n",
    "- We reject the null hypothesis and support our alternative hypothesis that stimiulation of CeA-ChR2 neurons increased drinking. "
   ]
  },
  {
   "cell_type": "markdown",
   "metadata": {
    "heading_collapsed": true
   },
   "source": [
    "# APPENDIX"
   ]
  },
  {
   "cell_type": "markdown",
   "metadata": {
    "hidden": true
   },
   "source": [
    "(https://www.statsmodels.org/stable/generated/statsmodels.stats.multicomp.pairwise_tukeyhsd.html)"
   ]
  },
  {
   "cell_type": "code",
   "execution_count": null,
   "metadata": {
    "hidden": true
   },
   "outputs": [],
   "source": []
  },
  {
   "cell_type": "markdown",
   "metadata": {
    "hidden": true
   },
   "source": [
    "## Statistical Analysis Pipeline\n",
    "\n",
    "1. **Test for Normality**\n",
    "    - D'Agostino-Pearson's normality test<br>\n",
    "    ```scipy.stats.normaltest```\n",
    "    - Shapiro-Wilik Test<br>\n",
    "    ```scipy.stats.shapiro```<br>\n",
    "    \n",
    "    \n",
    "2. **Test for Homogeneity of Variance**\n",
    "\n",
    "    - Levene's Test<br>\n",
    "    ```scipy.stats.levene```\n",
    "\n",
    "\n",
    "3. **Choose appropriate test based upon 1. and 2.** <br> \n",
    "    - T Test (1-sample)\n",
    "        - `stats.ttest_1samp()`\n",
    "    - T Test (2-sample)\n",
    "        - `stats.ttest_ind()`\n",
    "        - [docs](https://docs.scipy.org/doc/scipy/reference/generated/scipy.stats.ttest_ind.html)\n",
    "    - Welch's T-Test (2-sample)\n",
    "        - `stats.ttest_ind(equal_var=False)`\n",
    "        - [docs](https://docs.scipy.org/doc/scipy/reference/generated/scipy.stats.ttest_ind.html)\n",
    "        \n",
    "    - Mann Whitney U\n",
    "        - `stats.mannwhitneyu()`\n",
    "        - [docs](https://docs.scipy.org/doc/scipy/reference/generated/scipy.stats.mannwhitneyu.html)\n",
    "    - ANOVA \n",
    "        - `stats.f_oneway()`\n",
    "        - [docs](https://docs.scipy.org/doc/scipy/reference/generated/scipy.stats.f_oneway.html)\n",
    "    - Tukey's\n",
    "     - `statsmodels.stats.multicomp.pairwise_tukeyhsd`\n",
    "     -[docs](https://www.statsmodels.org/stable/generated/statsmodels.stats.multicomp.pairwise_tukeyhsd.html)\n",
    "    \n",
    "\n",
    "4. **Calculate effect size for significant results.**\n",
    "    - Effect size: [cohen's d](https://stackoverflow.com/questions/21532471/how-to-calculate-cohens-d-in-python)\n",
    "    - Interpretation:\n",
    "        - Small effect = 0.2 ( cannot be seen by naked eye)\n",
    "        - Medium effect  = 0.5\n",
    "        - Large Effect = 0.8 (can be seen by naked eye)\n",
    "        \n",
    "5. **If significant, follow up with post-hoc tests (if have more than 2 groups)**\n",
    "    - [Tukey's](https://www.statsmodels.org/stable/generated/statsmodels.stats.multicomp.pairwise_tukeyhsd.html)\n"
   ]
  }
 ],
 "metadata": {
  "colab": {
   "collapsed_sections": [],
   "name": "Sect 18+19  with Titanic.ipynb",
   "provenance": []
  },
  "kernelspec": {
   "display_name": "Python [conda env:learn-env] *",
   "language": "python",
   "name": "conda-env-learn-env-py"
  },
  "language_info": {
   "codemirror_mode": {
    "name": "ipython",
    "version": 3
   },
   "file_extension": ".py",
   "mimetype": "text/x-python",
   "name": "python",
   "nbconvert_exporter": "python",
   "pygments_lexer": "ipython3",
   "version": "3.6.9"
  },
  "toc": {
   "base_numbering": 1,
   "nav_menu": {},
   "number_sections": false,
   "sideBar": true,
   "skip_h1_title": false,
   "title_cell": "Table of Contents",
   "title_sidebar": "Contents",
   "toc_cell": false,
   "toc_position": {},
   "toc_section_display": true,
   "toc_window_display": true
  },
  "varInspector": {
   "cols": {
    "lenName": 16,
    "lenType": 16,
    "lenVar": 40
   },
   "kernels_config": {
    "python": {
     "delete_cmd_postfix": "",
     "delete_cmd_prefix": "del ",
     "library": "var_list.py",
     "varRefreshCmd": "print(var_dic_list())"
    },
    "r": {
     "delete_cmd_postfix": ") ",
     "delete_cmd_prefix": "rm(",
     "library": "var_list.r",
     "varRefreshCmd": "cat(var_dic_list()) "
    }
   },
   "position": {
    "height": "360.85px",
    "left": "630px",
    "right": "20px",
    "top": "38px",
    "width": "480px"
   },
   "types_to_exclude": [
    "module",
    "function",
    "builtin_function_or_method",
    "instance",
    "_Feature"
   ],
   "window_display": false
  }
 },
 "nbformat": 4,
 "nbformat_minor": 1
}
