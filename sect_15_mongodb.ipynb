{
 "cells": [
  {
   "cell_type": "markdown",
   "metadata": {},
   "source": [
    "# Sect 15: Other Databases"
   ]
  },
  {
   "cell_type": "markdown",
   "metadata": {},
   "source": [
    "## Study Group Objectives\n",
    "- We will be going through the lesson together and summarizing what we've learned about mongodb.\n",
    "- We will then jump to the mongodb lab and tackle it together."
   ]
  },
  {
   "cell_type": "markdown",
   "metadata": {},
   "source": [
    "- Check's Andi's question on slack.\n"
   ]
  },
  {
   "cell_type": "markdown",
   "metadata": {},
   "source": [
    "https://learn.co/tracks/data-science-career-v2/module-2-data-engineering-for-data-science/section-15-other-database-structures/mongodb\n",
    "___"
   ]
  },
  {
   "cell_type": "markdown",
   "metadata": {},
   "source": [
    "# MongoDB\n",
    "\n",
    "## Introduction\n",
    "\n",
    "In this lesson, we'll learn about the popular NoSQL database **_MongoDB_**, including how to install it on our machine, connect to a mongo database, add how to use it to **_C_**reate / **_R_**ead / **_U_**pdate / **_D_**elete (**CRUD**) data!\n",
    "\n",
    "## Objectives\n",
    "You will be able to: \n",
    "\n",
    "- Create a MongoDB database   \n",
    "- Insert data into a MongoDB database   \n",
    "- Read data from a MongoDB database   \n",
    "- Update data in a MongoDB database   \n",
    "\n",
    "## Installing and Running MongoDB\n",
    "\n",
    "This part is easy -- in order to install mongoDB, we'll use our favorite package manager, `conda`! This part works the same, regardless of what operating system you're running. \n",
    "\n",
    "To install MongoDB on your machine, open a terminal or `conda` command prompt and just type: \n",
    "\n",
    "`conda install mongodb`\n",
    "\n",
    "Next, we have to create a directory to store our Mongo data files: \n",
    "\n",
    "- **Mac Commands:**\n",
    "\n",
    "`sudo mkdir -p /data/db`\n",
    "\n",
    "Give the directory the correct permission: \n",
    "\n",
    "``sudo chown -R `id -un` /data/db``\n",
    "\n",
    "- **Windows Commands (Needs verification):**\n",
    "    - There is no sudo command on windows.\n",
    "    - worst case scenario make your files manually.\n",
    "    \n",
    "## 📓Initializing Mongodb\n",
    "- `mongod` to initialize the server. Just like running a jupyter notebook, the terminal window will remain busy running the server. (LEAVE IT RUNNING)\n",
    "- In another terminal, enter `mongo` to connect."
   ]
  },
  {
   "cell_type": "markdown",
   "metadata": {},
   "source": [
    "\n",
    "\n",
    "## Examining a Sample MongoDB Record\n",
    "\n",
    "As we learned in the previous lesson on NoSQL databases, MongoDB is a **_Document Store_**. Each record is a JSON document, which can in turn contain other JSON documents in a nested format. \n",
    "\n",
    "For intance, here's an example record we might see in a MongoDB database: \n",
    "\n",
    "```json\n",
    "{\n",
    "   _id: ObjectId(8af37bd7891c)\n",
    "   title: 'MongoDB Lab', \n",
    "   description: 'Introductory lab on how to use MongoDB',\n",
    "   by: 'Flatiron School',\n",
    "   topics: ['mongodb', 'database', 'NoSQL', 'JSON'], \n",
    "   sections: [\t\n",
    "      {\n",
    "         section:'Introduction',\n",
    "         dateCreated: new Date(2019,3,1),\n",
    "         reading_time_minutes: 1 \n",
    "      },\n",
    "      {\n",
    "         user:'Installing and Running MongoDB',\n",
    "         dateCreated: new Date(2019,3,1),\n",
    "         reading_time_minutes: 5\n",
    "      }\n",
    "      {\n",
    "         user:'Examining a Sample MongoDB Record',\n",
    "         dateCreated: new Date(2019,3,1),\n",
    "         reading_time_minutes: 8\n",
    "      }\n",
    "   ]\n",
    "}\n",
    "```\n",
    "\n",
    "This is more common than you might realize -- if you open this file, `index.ipynb`, in a text editor, you'll see that each Jupyter Notebook is structured the exact same way, with each cell and everything it contains being embedded in the larger overall document!\n",
    "\n",
    "Since we already have experience working with JSON, we'll see that it will actually be quite easy to work with data in mongoDB! Let's explore how to execute _CRUD_ operations in MongoDB."
   ]
  },
  {
   "cell_type": "markdown",
   "metadata": {},
   "source": [
    "___"
   ]
  },
  {
   "cell_type": "markdown",
   "metadata": {},
   "source": [
    "## Connecting to the MongoDB Database\n",
    "### 📓SUMMARY:\n",
    "- Start the server in your terminal using`mongod`\n",
    "- Start a second terminal and enter `mongo` to connect to server.\n",
    "\n",
    "- use `db` command to test if connection working (will see \"test\" if it is)\n",
    "\n",
    "- use `db.help()` to get list of avialable commands.\n",
    "- `df.test.help()`\n",
    "\n",
    "To start the MongoDB server and connect to our database, we can just type `mongod` in the terminal or conda command prompt. This will create an instance of a MongoDB server containing our mongo database. \n",
    "\n",
    "We're now connected to the mongo server. Next, we need to access this server's shell. To do this, open a new terminal window and type `mongo`. Now, you are inside your mongo server and can work with mongo files (databases). To get started, we'll look at what databases this server has access to. Type the command `db` -- you should see a database called `test`. \n",
    "\n",
    "The mongodb server that's running comes with a host of built-in functions that we can use. To see a full list of the functions for the mongo server itself, we can type `db.help()`. Similarly, the databases themselves have a host of built-ins and functions accessible to us to do things like count the total number of documents in the database and other tasks that might be useful. To see those, we can access the documentation for the `test` database by typing `db.test.help()`\n",
    "\n",
    "Try doing both of these now, and look around for a minute to familiarize yourself with some of the things that both the server and the database are capable of. \n",
    "\n",
    "Next, we'll use some of the built-in functions in the `test` database to create and access different records. "
   ]
  },
  {
   "cell_type": "markdown",
   "metadata": {},
   "source": [
    "## Creating, Reading, Updating, and Deleting Information in MongoDB\n",
    "\n",
    "- Python library called `pymongo` that allows us to connect to and manipulate mongo databases in our code\n",
    "- how we can add data directly to the database through the command line with the running mongo server instance. \n",
    "\n",
    "Type the following in the terminal running the mongo instance: \n",
    "\n",
    "`db.test.save( { a: 1 } )`\n",
    "- the spacing important\n",
    "- there should be a space between the different brackets, as well as the key and value.\n",
    "- Note that the key is directly touching the `:`, but the value is not."
   ]
  },
  {
   "cell_type": "markdown",
   "metadata": {},
   "source": [
    "- the key:value pair with `_id` wil appear after runing `db.test.find()`\n",
    "\n",
    "\n",
    " Let's take a look at how we can write queries or do CRUD operations in Python with the `pymongo` library!\n",
    "\n",
    "## Working with Mongodb through Python with `pymongo`\n",
    "\n",
    "Connecting to mongodb through a python library is going to feel very similar to the boilerplate code we had to use to connect to a SQLite database. To connect to our mongo server through python, we have to:\n",
    "\n",
    "1. Import the `pymongo` library. \n",
    "\n",
    "2. Create a client that is connected to our running mongodb server by using the `pymongo` library's `MongoClient` object and passing it the URL for the server (which the mongo server told us as output when we started it up at the very beginning).\n",
    "\n",
    "3. Get the database that we'll be working with from the `myclient` object -- this can include creating a new database by passing in it's name as a key, just as if we were trying to get it from a Python dictionary.  \n",
    "\n",
    "We'll do this now in the cells below as an example. "
   ]
  },
  {
   "cell_type": "code",
   "execution_count": 22,
   "metadata": {},
   "outputs": [],
   "source": [
    "# !pip install -U pymongo\n",
    "try:\n",
    "    import pymongo\n",
    "except: \n",
    "    print(\"run this command:  !pip install -U pymongo\")"
   ]
  },
  {
   "cell_type": "code",
   "execution_count": 23,
   "metadata": {},
   "outputs": [],
   "source": [
    "myclient = pymongo.MongoClient(\"mongodb://127.0.0.1:27017/\")\n",
    "mydb = myclient['example_database']"
   ]
  },
  {
   "cell_type": "markdown",
   "metadata": {},
   "source": [
    "Note that we can get a full list of the names of every database we have by running our clients object's `.list_database_names()` method. However, if we run this method in the cell below, we'll see that the database does not yet exist. "
   ]
  },
  {
   "cell_type": "code",
   "execution_count": 24,
   "metadata": {},
   "outputs": [
    {
     "name": "stdout",
     "output_type": "stream",
     "text": [
      "['admin', 'config', 'example_database', 'local', 'test']\n"
     ]
    }
   ],
   "source": [
    "print(myclient.list_database_names())"
   ]
  },
  {
   "cell_type": "markdown",
   "metadata": {},
   "source": [
    "This is because mongoDB doesn't actually create the new database until we have stored some data in it. The act of not doing something until absolutely necessary because another operation needs it is a programming concept called **_lazy execution_**. Since our `example_database` database doesn't contain any data yet, mongo hasn't created it yet, so it doesn't show up in the output of our `.list_database_names()` call. \n",
    "\n",
    "Just as a SQL database has tables, a mongo database has **_Collections_** of documents. We can get a collection or create a new one by passing its name to the database object we created, just like when we passed the database name to the client object. \n",
    "\n",
    "In the cell below, we create a sample collection. \n",
    "\n"
   ]
  },
  {
   "cell_type": "code",
   "execution_count": 25,
   "metadata": {},
   "outputs": [],
   "source": [
    "mycollection = mydb['example_collection']"
   ]
  },
  {
   "cell_type": "markdown",
   "metadata": {},
   "source": [
    "Now we have a mongo database that contains a collection, but we still haven't added any data to it yet. We can get collection names by using `mydb.list_collection_names()`, but since we haven't added any data to it yet, we'll see that that hasn't been created yet either. \n",
    "\n",
    "Let's add some data to our database and see what we can do with it. \n",
    "\n",
    "### CRUD Operations with `pymongo`\n",
    "\n",
    "To insert a document (in SQL, we would call this a *record*) into a mongoDB collection, we make use of the collection's `.insert_one()` method, and pass in the information we want saved as a Python dictionary. "
   ]
  },
  {
   "cell_type": "code",
   "execution_count": 6,
   "metadata": {},
   "outputs": [
    {
     "data": {
      "text/plain": [
       "<pymongo.results.InsertOneResult at 0x110c6b908>"
      ]
     },
     "execution_count": 6,
     "metadata": {},
     "output_type": "execute_result"
    }
   ],
   "source": [
    "example_customer_data = {'name': 'John Doe', 'address': '123 elm street', 'age': 28}\n",
    "\n",
    "results = mycollection.insert_one(example_customer_data)\n",
    "results"
   ]
  },
  {
   "cell_type": "markdown",
   "metadata": {},
   "source": [
    "When we insert something into mongo, we get back a `results` object. This object contains the unique `_id` of the object we just inserted inside its `.inserted_id` attribute. "
   ]
  },
  {
   "cell_type": "code",
   "execution_count": null,
   "metadata": {},
   "outputs": [],
   "source": [
    "# results._"
   ]
  },
  {
   "cell_type": "code",
   "execution_count": 28,
   "metadata": {},
   "outputs": [],
   "source": [
    "# help(results)"
   ]
  },
  {
   "cell_type": "code",
   "execution_count": 26,
   "metadata": {},
   "outputs": [
    {
     "data": {
      "text/plain": [
       "ObjectId('5df95c858d64d301e167f8ce')"
      ]
     },
     "execution_count": 26,
     "metadata": {},
     "output_type": "execute_result"
    }
   ],
   "source": [
    "results.inserted_id"
   ]
  },
  {
   "cell_type": "markdown",
   "metadata": {},
   "source": [
    "If we want to insert 2 or more items at the same time, we can just store the dictionary for each separate record we want to insert in a list, and then every item in that list by passing it to the collection object's `.insert_many()` method. "
   ]
  },
  {
   "cell_type": "code",
   "execution_count": 29,
   "metadata": {},
   "outputs": [],
   "source": [
    "customer_2 = {'name': 'Jane Doe', 'address': '234 elm street', 'age': 7}\n",
    "customer_3 = {'name': 'Santa Claus', 'address': 'The North Pole', 'age': 547}\n",
    "customer_4 = {'name': 'John Doe jr.', 'address': '', 'age': 0.5}\n",
    "\n",
    "list_of_customers = [customer_2, customer_3, customer_4]\n",
    "\n",
    "results_2 = mycollection.insert_many(list_of_customers)"
   ]
  },
  {
   "cell_type": "code",
   "execution_count": 30,
   "metadata": {},
   "outputs": [
    {
     "data": {
      "text/plain": [
       "[ObjectId('5df964738d64d301e167f8d3'),\n",
       " ObjectId('5df964738d64d301e167f8d4'),\n",
       " ObjectId('5df964738d64d301e167f8d5')]"
      ]
     },
     "execution_count": 30,
     "metadata": {},
     "output_type": "execute_result"
    }
   ],
   "source": [
    "results_2.inserted_ids"
   ]
  },
  {
   "cell_type": "markdown",
   "metadata": {},
   "source": [
    "Note that we are allowed to assign the unique id for each new document ourselves by just including the key `_id` and the value we want to assign as that document's id. However, in general, it is a best practice to let the database create the unique keys for each document itself, and to leave that part alone. "
   ]
  },
  {
   "cell_type": "markdown",
   "metadata": {},
   "source": [
    "### Querying data in Python\n",
    "\n",
    "This is the most important thing we can know how to do in MongoDB -- actually get the data we need! \n",
    "\n",
    "The quickest and easiest way to get data from a collection is to use the collection object's `.find()` method!\n",
    "\n",
    "The following cell contains an example of how we can use this to get all the records from our collection. "
   ]
  },
  {
   "cell_type": "markdown",
   "metadata": {},
   "source": [
    "### 📒📔Using `.find()`\n",
    "- we call .find on collection objects.\n",
    "- To get all results,pass in an empty dictionry:\n",
    "`mycollection.find({})`\n",
    "- We can also/control which columns are returned using a second dictionary\n",
    "\n",
    "- Filtering columns:\n",
    "    - Pass a second dictionary with column names and a `1` as the value if you do want the col\n",
    "    - Pass 0 as value if you don't \n",
    "    - in query 3, we are only excluding age, so taking everything else\n",
    "    `query_3 = mycollection.find({}, {'age': 0})`\n",
    "- You can only choose to include or exclude columsn in any given dictionary ( so all values must be one if you want to select columns, or all must be 0's to exclude columns)"
   ]
  },
  {
   "cell_type": "code",
   "execution_count": 31,
   "metadata": {},
   "outputs": [
    {
     "name": "stdout",
     "output_type": "stream",
     "text": [
      "{'_id': ObjectId('5df964738d64d301e167f8d3'), 'name': 'Jane Doe', 'address': '234 elm street', 'age': 7}\n",
      "{'_id': ObjectId('5df964738d64d301e167f8d4'), 'name': 'Santa Claus', 'address': 'The North Pole', 'age': 547}\n",
      "{'_id': ObjectId('5df964738d64d301e167f8d5'), 'name': 'John Doe jr.', 'address': '', 'age': 0.5}\n"
     ]
    }
   ],
   "source": [
    "query_1 = mycollection.find({})\n",
    "for x in query_1:\n",
    "    print(x)"
   ]
  },
  {
   "cell_type": "markdown",
   "metadata": {},
   "source": [
    "In the cell above, we grabbed every field from every item in the entire collection. There are times where this is probably too much data for it to be useful for us. \n",
    "\n",
    "So what if we want to get all the names and addresses for each customer, but not the age? There are two ways we can do this. The first is by passing in a dictionary specifying the fields we want, like so:"
   ]
  },
  {
   "cell_type": "code",
   "execution_count": 11,
   "metadata": {},
   "outputs": [
    {
     "name": "stdout",
     "output_type": "stream",
     "text": [
      "{'_id': ObjectId('5df95c858d64d301e167f8ce'), 'name': 'John Doe', 'address': '123 elm street'}\n",
      "{'_id': ObjectId('5df95c8a8d64d301e167f8cf'), 'name': 'Jane Doe', 'address': '234 elm street'}\n",
      "{'_id': ObjectId('5df95c8a8d64d301e167f8d0'), 'name': 'Santa Claus', 'address': 'The North Pole'}\n",
      "{'_id': ObjectId('5df95c8a8d64d301e167f8d1'), 'name': 'John Doe jr.', 'address': ''}\n"
     ]
    }
   ],
   "source": [
    "query_2 = mycollection.find({}, {'_id': 1, 'name': 1, 'address': 1})\n",
    "for item in query_2:\n",
    "    print(item)"
   ]
  },
  {
   "cell_type": "markdown",
   "metadata": {},
   "source": [
    "In this method, we created a dictionary with the key of every item we want, and a `1` as the value to make clear that we want that field returned. \n",
    "\n",
    "Conversely, if we'd rather specify the key-value pairs we _don't_ want returned, we can do that too. All we have to do is create a dictionary containing the keys we don't want returned, and set the value for each to `0`, like so:"
   ]
  },
  {
   "cell_type": "code",
   "execution_count": 32,
   "metadata": {},
   "outputs": [
    {
     "name": "stdout",
     "output_type": "stream",
     "text": [
      "{'_id': ObjectId('5df964738d64d301e167f8d3'), 'name': 'Jane Doe', 'address': '234 elm street'}\n",
      "{'_id': ObjectId('5df964738d64d301e167f8d4'), 'name': 'Santa Claus', 'address': 'The North Pole'}\n",
      "{'_id': ObjectId('5df964738d64d301e167f8d5'), 'name': 'John Doe jr.', 'address': ''}\n"
     ]
    }
   ],
   "source": [
    "query_3 = mycollection.find({}, {'age': 0})\n",
    "for item in query_3:\n",
    "    print(item)"
   ]
  },
  {
   "cell_type": "markdown",
   "metadata": {},
   "source": [
    "Note that we can't use both methods at the same time. We have to either specify what we do want, and make sure that every value is a 1, or specify what we don't want, and make sure every corresponding value is a 0. If we pass in a dictionary containing both, we'll get an error in return. \n",
    "\n",
    "The one exception to this is the `'_id'` key -- we can set that to 0 or 1 to say if we do or don't want it included. This single value does not need to be the same as all the others in the dictionary. \n",
    "\n",
    "\n",
    "### Filtering Query Results\n",
    "\n",
    "Obviously, we'll rarely want to get all the records at once. There will be many more times where we'll need to get a single record, or to filter records according to their values. Mongo makes these both easy. \n",
    "\n",
    "For instance, if we know the value for a given key, we can pass that key-value pair (or pairs) into `.find()` as a dictionary, and the results will contain the entire document. "
   ]
  },
  {
   "cell_type": "code",
   "execution_count": 33,
   "metadata": {},
   "outputs": [
    {
     "name": "stdout",
     "output_type": "stream",
     "text": [
      "{'_id': ObjectId('5df964738d64d301e167f8d4'), 'name': 'Santa Claus', 'address': 'The North Pole', 'age': 547}\n"
     ]
    }
   ],
   "source": [
    "query_4 = mycollection.find({'name': 'Santa Claus'})\n",
    "for item in query_4:\n",
    "    print(item)"
   ]
  },
  {
   "cell_type": "markdown",
   "metadata": {},
   "source": [
    "We can also filter queries by using **_Modifiers_**. For instance, let's say we wanted to get record for every person in our collection older than 20. We can signify this with the 'greater than' modifier, `\"$gt\"` and pass in the corresponding value. "
   ]
  },
  {
   "cell_type": "code",
   "execution_count": 15,
   "metadata": {},
   "outputs": [
    {
     "name": "stdout",
     "output_type": "stream",
     "text": [
      "{'_id': ObjectId('5df95c858d64d301e167f8ce'), 'name': 'John Doe', 'address': '123 elm street', 'age': 28}\n",
      "{'_id': ObjectId('5df95c8a8d64d301e167f8d0'), 'name': 'Santa Claus', 'address': 'The North Pole', 'age': 547}\n"
     ]
    }
   ],
   "source": [
    "query_5 = mycollection.find({\"age\": {\"$gt\": 20}})\n",
    "for item in query_5:\n",
    "    print(item)"
   ]
  },
  {
   "cell_type": "markdown",
   "metadata": {},
   "source": [
    "We can even pass in **_Regular Expressions_** to filter text data and pattern match! You don't know regular expressions yet, but you will learn them in a few sections. When you do, we encourage you to try using them within a mongodb query!\n",
    "\n",
    "## Updating Documents\n",
    "\n",
    "Updating a document in Mongo is just as simple as creating or reading data -- there's a method for that! Updating a record works a bit like filtering a query and getting a record with a specific value, although we also pass in an additional dictionary as the second parameter. This second parameter will contain the modifier `'$set'` as the key, and a dictionary containing the key-value pair we want to update. See the example in the cell below: "
   ]
  },
  {
   "cell_type": "markdown",
   "metadata": {},
   "source": [
    "# 📓 MongoDB Notation\n",
    "\n",
    "<!-- <div style=\"font-size:1.5\"> -->\n",
    "| symbol | action |\n",
    "| --- | --- |\n",
    "| \"$gt\" | greater than |\n",
    "| \"\\$lt\" | less than |\n",
    "| \"\\$set\" | setting a specific record, as specified  by <br> a {'col':value_to_insert} dictionary,\n",
    "% </div>"
   ]
  },
  {
   "cell_type": "code",
   "execution_count": null,
   "metadata": {},
   "outputs": [],
   "source": []
  },
  {
   "cell_type": "code",
   "execution_count": 16,
   "metadata": {},
   "outputs": [
    {
     "name": "stdout",
     "output_type": "stream",
     "text": [
      "{'_id': ObjectId('5df95c858d64d301e167f8ce'), 'name': 'John Doe', 'address': '123 elm street', 'age': 29, 'birthday': '02/20/1986'}\n"
     ]
    }
   ],
   "source": [
    "record_to_update = {'name' : 'John Doe'}\n",
    "update_1 = {'$set': {'age': 29}}\n",
    "update_2 = {'$set': {'birthday': '02/20/1986'}}\n",
    "\n",
    "mycollection.update_one(record_to_update, update_1)\n",
    "mycollection.update_one(record_to_update, update_2)\n",
    "query_6 = mycollection.find({'name': 'John Doe'})\n",
    "for item in query_6:\n",
    "    print(item)"
   ]
  },
  {
   "cell_type": "markdown",
   "metadata": {},
   "source": [
    "In the cell above, the first update we make updates the value for a key that already exists in the document. The second update adds an entirely new key-value pair to the document. As we can see, the syntax for both is the same (just like when we work with Python dictionaries), and is very easy and intuitive to use. \n",
    "\n",
    "### Deleting Records\n",
    "\n",
    "We can delete records by using the collection object's `.delete_*()` methods. Just like for inserting records, you'll find that we can use `delete_one()` for a single deletion, or `delete_many()` for multiple deletions.\n",
    "\n",
    "Let's try deleting the record for `'John Doe'`:"
   ]
  },
  {
   "cell_type": "code",
   "execution_count": 17,
   "metadata": {},
   "outputs": [
    {
     "name": "stdout",
     "output_type": "stream",
     "text": [
      "1\n"
     ]
    }
   ],
   "source": [
    "deletion_1 = mycollection.delete_one({'name': 'John Doe'})\n",
    "print(deletion_1.deleted_count)"
   ]
  },
  {
   "cell_type": "markdown",
   "metadata": {},
   "source": [
    "Note that we can also use modifiers here, too! For instance, in the cell below, we'll delete all records for customers younger than 10."
   ]
  },
  {
   "cell_type": "code",
   "execution_count": 34,
   "metadata": {},
   "outputs": [
    {
     "name": "stdout",
     "output_type": "stream",
     "text": [
      "1\n"
     ]
    }
   ],
   "source": [
    "deletion_2 = mycollection.delete_one({'age': {'$lt': 10}})\n",
    "print(deletion_2.deleted_count)"
   ]
  },
  {
   "cell_type": "code",
   "execution_count": 38,
   "metadata": {},
   "outputs": [
    {
     "data": {
      "text/plain": [
       "{'name': 'Jane Doe',\n",
       " 'address': '234 elm street',\n",
       " 'age': 7,\n",
       " '_id': ObjectId('5df964738d64d301e167f8d3')}"
      ]
     },
     "execution_count": 38,
     "metadata": {},
     "output_type": "execute_result"
    }
   ],
   "source": [
    "customer_2"
   ]
  },
  {
   "cell_type": "markdown",
   "metadata": {},
   "source": [
    "### 📓List Comprehension\n"
   ]
  },
  {
   "cell_type": "code",
   "execution_count": 39,
   "metadata": {},
   "outputs": [
    {
     "data": {
      "text/plain": [
       "[['The value for name = Jane Doe'],\n",
       " ['The value for address = 234 elm street'],\n",
       " ['The value for age = 7'],\n",
       " ['The value for _id = 5df964738d64d301e167f8d3']]"
      ]
     },
     "execution_count": 39,
     "metadata": {},
     "output_type": "execute_result"
    }
   ],
   "source": [
    "## List Comprehensions\n",
    "empty_list = []\n",
    "\n",
    "for k,v in customer_2.items():\n",
    "    empty_list.append([f\"The value for {k} = {v}\"])\n",
    "empty_list"
   ]
  },
  {
   "cell_type": "markdown",
   "metadata": {},
   "source": [
    "List comprehensions logic:\n",
    "\n",
    "[do_this(x) for x in this_list_of_things]"
   ]
  },
  {
   "cell_type": "code",
   "execution_count": 42,
   "metadata": {},
   "outputs": [
    {
     "data": {
      "text/plain": [
       "['The value for name = Jane Doe',\n",
       " 'The value for address = 234 elm street',\n",
       " 'The value for age = 7',\n",
       " 'The value for _id = 5df964738d64d301e167f8d3']"
      ]
     },
     "execution_count": 42,
     "metadata": {},
     "output_type": "execute_result"
    }
   ],
   "source": [
    "empty_list = []\n",
    "[f\"The value for {k} = {v}\" for k,v in customer_2.items()]"
   ]
  },
  {
   "cell_type": "code",
   "execution_count": 43,
   "metadata": {},
   "outputs": [
    {
     "name": "stdout",
     "output_type": "stream",
     "text": [
      "fsds_1007219  v0.5.6 loaded.  Read the docs: https://fsds.readthedocs.io/en/latest/ \n"
     ]
    },
    {
     "data": {
      "text/html": [
       "<style  type=\"text/css\" >\n",
       "</style><table id=\"T_c129d358_2127_11ea_bf21_4865ee12e626\" ><caption>Loaded Packages and Handles</caption><thead>    <tr>        <th class=\"col_heading level0 col0\" >Handle</th>        <th class=\"col_heading level0 col1\" >Package</th>        <th class=\"col_heading level0 col2\" >Description</th>    </tr></thead><tbody>\n",
       "                <tr>\n",
       "                                <td id=\"T_c129d358_2127_11ea_bf21_4865ee12e626row0_col0\" class=\"data row0 col0\" >dp</td>\n",
       "                        <td id=\"T_c129d358_2127_11ea_bf21_4865ee12e626row0_col1\" class=\"data row0 col1\" >IPython.display</td>\n",
       "                        <td id=\"T_c129d358_2127_11ea_bf21_4865ee12e626row0_col2\" class=\"data row0 col2\" >Display modules with helpful display and clearing commands.</td>\n",
       "            </tr>\n",
       "            <tr>\n",
       "                                <td id=\"T_c129d358_2127_11ea_bf21_4865ee12e626row1_col0\" class=\"data row1 col0\" >fs</td>\n",
       "                        <td id=\"T_c129d358_2127_11ea_bf21_4865ee12e626row1_col1\" class=\"data row1 col1\" >fsds_100719</td>\n",
       "                        <td id=\"T_c129d358_2127_11ea_bf21_4865ee12e626row1_col2\" class=\"data row1 col2\" >Custom data science bootcamp student package</td>\n",
       "            </tr>\n",
       "            <tr>\n",
       "                                <td id=\"T_c129d358_2127_11ea_bf21_4865ee12e626row2_col0\" class=\"data row2 col0\" >mpl</td>\n",
       "                        <td id=\"T_c129d358_2127_11ea_bf21_4865ee12e626row2_col1\" class=\"data row2 col1\" >matplotlib</td>\n",
       "                        <td id=\"T_c129d358_2127_11ea_bf21_4865ee12e626row2_col2\" class=\"data row2 col2\" >Matplotlib's base OOP module with formatting artists</td>\n",
       "            </tr>\n",
       "            <tr>\n",
       "                                <td id=\"T_c129d358_2127_11ea_bf21_4865ee12e626row3_col0\" class=\"data row3 col0\" >plt</td>\n",
       "                        <td id=\"T_c129d358_2127_11ea_bf21_4865ee12e626row3_col1\" class=\"data row3 col1\" >matplotlib.pyplot</td>\n",
       "                        <td id=\"T_c129d358_2127_11ea_bf21_4865ee12e626row3_col2\" class=\"data row3 col2\" >Matplotlib's matlab-like plotting module</td>\n",
       "            </tr>\n",
       "            <tr>\n",
       "                                <td id=\"T_c129d358_2127_11ea_bf21_4865ee12e626row4_col0\" class=\"data row4 col0\" >np</td>\n",
       "                        <td id=\"T_c129d358_2127_11ea_bf21_4865ee12e626row4_col1\" class=\"data row4 col1\" >numpy</td>\n",
       "                        <td id=\"T_c129d358_2127_11ea_bf21_4865ee12e626row4_col2\" class=\"data row4 col2\" >scientific computing with Python</td>\n",
       "            </tr>\n",
       "            <tr>\n",
       "                                <td id=\"T_c129d358_2127_11ea_bf21_4865ee12e626row5_col0\" class=\"data row5 col0\" >pd</td>\n",
       "                        <td id=\"T_c129d358_2127_11ea_bf21_4865ee12e626row5_col1\" class=\"data row5 col1\" >pandas</td>\n",
       "                        <td id=\"T_c129d358_2127_11ea_bf21_4865ee12e626row5_col2\" class=\"data row5 col2\" >High performance data structures and tools</td>\n",
       "            </tr>\n",
       "            <tr>\n",
       "                                <td id=\"T_c129d358_2127_11ea_bf21_4865ee12e626row6_col0\" class=\"data row6 col0\" >sns</td>\n",
       "                        <td id=\"T_c129d358_2127_11ea_bf21_4865ee12e626row6_col1\" class=\"data row6 col1\" >seaborn</td>\n",
       "                        <td id=\"T_c129d358_2127_11ea_bf21_4865ee12e626row6_col2\" class=\"data row6 col2\" >High-level data visualization library based on matplotlib</td>\n",
       "            </tr>\n",
       "    </tbody></table>"
      ],
      "text/plain": [
       "<pandas.io.formats.style.Styler at 0x1a254e1cc0>"
      ]
     },
     "metadata": {},
     "output_type": "display_data"
    }
   ],
   "source": [
    "from fsds_100719.imports import *"
   ]
  },
  {
   "cell_type": "code",
   "execution_count": 46,
   "metadata": {},
   "outputs": [],
   "source": [
    "# df= fs.datasets.load_autompg()"
   ]
  },
  {
   "cell_type": "code",
   "execution_count": 41,
   "metadata": {},
   "outputs": [
    {
     "name": "stdout",
     "output_type": "stream",
     "text": [
      "{'_id': ObjectId('5df964738d64d301e167f8d5'), 'name': 'John Doe jr.', 'address': '', 'age': 0.5}\n"
     ]
    },
    {
     "data": {
      "text/plain": [
       "[None]"
      ]
     },
     "execution_count": 41,
     "metadata": {},
     "output_type": "execute_result"
    }
   ],
   "source": [
    "test_data = mycollection.find({\"age\":{\"$lt\":10}})\n",
    "[print(data) for data in test_data]"
   ]
  },
  {
   "cell_type": "code",
   "execution_count": 19,
   "metadata": {},
   "outputs": [
    {
     "name": "stdout",
     "output_type": "stream",
     "text": [
      "{'_id': ObjectId('5df95c8a8d64d301e167f8d0'), 'name': 'Santa Claus', 'address': 'The North Pole', 'age': 547}\n",
      "{'_id': ObjectId('5df95c8a8d64d301e167f8d1'), 'name': 'John Doe jr.', 'address': '', 'age': 0.5}\n"
     ]
    }
   ],
   "source": [
    "query_6 = mycollection.find({})\n",
    "for item in query_6:\n",
    "    print(item)"
   ]
  },
  {
   "cell_type": "code",
   "execution_count": 20,
   "metadata": {},
   "outputs": [
    {
     "data": {
      "text/plain": [
       "<pymongo.results.DeleteResult at 0x110c6b208>"
      ]
     },
     "execution_count": 20,
     "metadata": {},
     "output_type": "execute_result"
    }
   ],
   "source": [
    "mycollection.delete_many({})"
   ]
  },
  {
   "cell_type": "markdown",
   "metadata": {},
   "source": [
    "**_Note:_** Be _very careful_ when using `delete_many()` -- passing in an empty dictionary will delete the entire collection -- it is the mongoDB equivalent of  `DROP TABLE`, and can really ruin your day if you aren't careful!\n",
    "\n",
    "## Summary\n",
    "\n",
    "In this lesson, we learned about how to get mongoDB up and running on our machine, how to connect to it, and how to do some basic CRUD tasks with Python!"
   ]
  }
 ],
 "metadata": {
  "kernelspec": {
   "display_name": "Python [conda env:learn-env] *",
   "language": "python",
   "name": "conda-env-learn-env-py"
  },
  "language_info": {
   "codemirror_mode": {
    "name": "ipython",
    "version": 3
   },
   "file_extension": ".py",
   "mimetype": "text/x-python",
   "name": "python",
   "nbconvert_exporter": "python",
   "pygments_lexer": "ipython3",
   "version": "3.6.9"
  },
  "toc": {
   "base_numbering": 1,
   "nav_menu": {},
   "number_sections": false,
   "sideBar": true,
   "skip_h1_title": false,
   "title_cell": "Table of Contents",
   "title_sidebar": "Contents",
   "toc_cell": false,
   "toc_position": {},
   "toc_section_display": true,
   "toc_window_display": true
  }
 },
 "nbformat": 4,
 "nbformat_minor": 2
}
