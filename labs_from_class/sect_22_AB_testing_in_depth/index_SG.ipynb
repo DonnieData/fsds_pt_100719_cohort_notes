{
 "cells": [
  {
   "cell_type": "markdown",
   "metadata": {},
   "source": [
    "# In Depth A/B Testing - Lab\n",
    "\n",
    "## Introduction\n",
    "\n",
    "In this lab, you'll explore a survey from Kaggle regarding budding data scientists. With this, you'll form some initial hypotheses, and test them using the tools you've acquired to date. \n",
    "\n",
    "## Objectives\n",
    "\n",
    "You will be able to:\n",
    "* Conduct t-tests and an ANOVA on a real-world dataset and interpret the results"
   ]
  },
  {
   "cell_type": "code",
   "execution_count": 65,
   "metadata": {
    "ExecuteTime": {
     "end_time": "2020-01-29T00:00:27.733481Z",
     "start_time": "2020-01-29T00:00:24.953520Z"
    }
   },
   "outputs": [
    {
     "name": "stdout",
     "output_type": "stream",
     "text": [
      "Requirement already up-to-date: fsds_100719 in /anaconda3/envs/learn-env/lib/python3.6/site-packages (0.7.4)\n",
      "Requirement already satisfied, skipping upgrade: seaborn in /anaconda3/envs/learn-env/lib/python3.6/site-packages (from fsds_100719) (0.9.0)\n",
      "Requirement already satisfied, skipping upgrade: scikit-learn>=0.22.1 in /anaconda3/envs/learn-env/lib/python3.6/site-packages (from fsds_100719) (0.22.1)\n",
      "Requirement already satisfied, skipping upgrade: ipywidgets in /anaconda3/envs/learn-env/lib/python3.6/site-packages (from fsds_100719) (7.5.1)\n",
      "Requirement already satisfied, skipping upgrade: tzlocal in /anaconda3/envs/learn-env/lib/python3.6/site-packages (from fsds_100719) (2.0.0)\n",
      "Requirement already satisfied, skipping upgrade: missingno in /anaconda3/envs/learn-env/lib/python3.6/site-packages (from fsds_100719) (0.4.2)\n",
      "Requirement already satisfied, skipping upgrade: selenium in /anaconda3/envs/learn-env/lib/python3.6/site-packages (from fsds_100719) (3.141.0)\n",
      "Requirement already satisfied, skipping upgrade: numpy in /anaconda3/envs/learn-env/lib/python3.6/site-packages (from fsds_100719) (1.16.5)\n",
      "Requirement already satisfied, skipping upgrade: pandas-profiling in /anaconda3/envs/learn-env/lib/python3.6/site-packages (from fsds_100719) (2.3.0)\n",
      "Requirement already satisfied, skipping upgrade: cufflinks in /anaconda3/envs/learn-env/lib/python3.6/site-packages (from fsds_100719) (0.17.0)\n",
      "Requirement already satisfied, skipping upgrade: scipy in /anaconda3/envs/learn-env/lib/python3.6/site-packages (from fsds_100719) (1.4.0)\n",
      "Requirement already satisfied, skipping upgrade: pandas in /anaconda3/envs/learn-env/lib/python3.6/site-packages (from fsds_100719) (0.25.1)\n",
      "Requirement already satisfied, skipping upgrade: matplotlib in /anaconda3/envs/learn-env/lib/python3.6/site-packages (from fsds_100719) (3.1.2)\n",
      "Requirement already satisfied, skipping upgrade: pprint in /anaconda3/envs/learn-env/lib/python3.6/site-packages (from fsds_100719) (0.1)\n",
      "Requirement already satisfied, skipping upgrade: fake-useragent in /anaconda3/envs/learn-env/lib/python3.6/site-packages (from fsds_100719) (0.1.11)\n",
      "Requirement already satisfied, skipping upgrade: IPython in /anaconda3/envs/learn-env/lib/python3.6/site-packages (from fsds_100719) (7.8.0)\n",
      "Requirement already satisfied, skipping upgrade: wordcloud in /anaconda3/envs/learn-env/lib/python3.6/site-packages (from fsds_100719) (1.6.0)\n",
      "Requirement already satisfied, skipping upgrade: lxml in /anaconda3/envs/learn-env/lib/python3.6/site-packages (from fsds_100719) (4.4.1)\n",
      "Requirement already satisfied, skipping upgrade: pyperclip in /anaconda3/envs/learn-env/lib/python3.6/site-packages (from fsds_100719) (1.7.0)\n",
      "Requirement already satisfied, skipping upgrade: joblib>=0.11 in /anaconda3/envs/learn-env/lib/python3.6/site-packages (from scikit-learn>=0.22.1->fsds_100719) (0.13.2)\n",
      "Requirement already satisfied, skipping upgrade: widgetsnbextension~=3.5.0 in /anaconda3/envs/learn-env/lib/python3.6/site-packages (from ipywidgets->fsds_100719) (3.5.1)\n",
      "Requirement already satisfied, skipping upgrade: ipykernel>=4.5.1 in /anaconda3/envs/learn-env/lib/python3.6/site-packages (from ipywidgets->fsds_100719) (5.1.2)\n",
      "Requirement already satisfied, skipping upgrade: traitlets>=4.3.1 in /anaconda3/envs/learn-env/lib/python3.6/site-packages (from ipywidgets->fsds_100719) (4.3.2)\n",
      "Requirement already satisfied, skipping upgrade: nbformat>=4.2.0 in /anaconda3/envs/learn-env/lib/python3.6/site-packages (from ipywidgets->fsds_100719) (4.4.0)\n",
      "Requirement already satisfied, skipping upgrade: pytz in /anaconda3/envs/learn-env/lib/python3.6/site-packages (from tzlocal->fsds_100719) (2019.2)\n",
      "Requirement already satisfied, skipping upgrade: urllib3 in /anaconda3/envs/learn-env/lib/python3.6/site-packages (from selenium->fsds_100719) (1.24.2)\n",
      "Requirement already satisfied, skipping upgrade: astropy in /anaconda3/envs/learn-env/lib/python3.6/site-packages (from pandas-profiling->fsds_100719) (3.2.3)\n",
      "Requirement already satisfied, skipping upgrade: htmlmin>=0.1.12 in /anaconda3/envs/learn-env/lib/python3.6/site-packages (from pandas-profiling->fsds_100719) (0.1.12)\n",
      "Requirement already satisfied, skipping upgrade: phik>=0.9.8 in /anaconda3/envs/learn-env/lib/python3.6/site-packages (from pandas-profiling->fsds_100719) (0.9.8)\n",
      "Requirement already satisfied, skipping upgrade: jinja2>=2.8 in /anaconda3/envs/learn-env/lib/python3.6/site-packages (from pandas-profiling->fsds_100719) (2.10.1)\n",
      "Requirement already satisfied, skipping upgrade: confuse>=1.0.0 in /anaconda3/envs/learn-env/lib/python3.6/site-packages (from pandas-profiling->fsds_100719) (1.0.0)\n",
      "Requirement already satisfied, skipping upgrade: colorlover>=0.2.1 in /anaconda3/envs/learn-env/lib/python3.6/site-packages (from cufflinks->fsds_100719) (0.3.0)\n",
      "Requirement already satisfied, skipping upgrade: setuptools>=34.4.1 in /anaconda3/envs/learn-env/lib/python3.6/site-packages (from cufflinks->fsds_100719) (41.2.0)\n",
      "Requirement already satisfied, skipping upgrade: chart-studio>=1.0.0 in /anaconda3/envs/learn-env/lib/python3.6/site-packages (from cufflinks->fsds_100719) (1.0.0)\n",
      "Requirement already satisfied, skipping upgrade: plotly>=4.1.1 in /anaconda3/envs/learn-env/lib/python3.6/site-packages (from cufflinks->fsds_100719) (4.3.0)\n",
      "Requirement already satisfied, skipping upgrade: six>=1.9.0 in /anaconda3/envs/learn-env/lib/python3.6/site-packages (from cufflinks->fsds_100719) (1.12.0)\n",
      "Requirement already satisfied, skipping upgrade: python-dateutil>=2.6.1 in /anaconda3/envs/learn-env/lib/python3.6/site-packages (from pandas->fsds_100719) (2.8.0)\n",
      "Requirement already satisfied, skipping upgrade: pyparsing!=2.0.4,!=2.1.2,!=2.1.6,>=2.0.1 in /anaconda3/envs/learn-env/lib/python3.6/site-packages (from matplotlib->fsds_100719) (2.4.2)\n",
      "Requirement already satisfied, skipping upgrade: cycler>=0.10 in /anaconda3/envs/learn-env/lib/python3.6/site-packages (from matplotlib->fsds_100719) (0.10.0)\n",
      "Requirement already satisfied, skipping upgrade: kiwisolver>=1.0.1 in /anaconda3/envs/learn-env/lib/python3.6/site-packages (from matplotlib->fsds_100719) (1.1.0)\n",
      "Requirement already satisfied, skipping upgrade: prompt-toolkit<2.1.0,>=2.0.0 in /anaconda3/envs/learn-env/lib/python3.6/site-packages (from IPython->fsds_100719) (2.0.9)\n",
      "Requirement already satisfied, skipping upgrade: pickleshare in /anaconda3/envs/learn-env/lib/python3.6/site-packages (from IPython->fsds_100719) (0.7.5)\n",
      "Requirement already satisfied, skipping upgrade: decorator in /anaconda3/envs/learn-env/lib/python3.6/site-packages (from IPython->fsds_100719) (4.4.0)\n",
      "Requirement already satisfied, skipping upgrade: backcall in /anaconda3/envs/learn-env/lib/python3.6/site-packages (from IPython->fsds_100719) (0.1.0)\n",
      "Requirement already satisfied, skipping upgrade: jedi>=0.10 in /anaconda3/envs/learn-env/lib/python3.6/site-packages (from IPython->fsds_100719) (0.15.1)\n",
      "Requirement already satisfied, skipping upgrade: pexpect; sys_platform != \"win32\" in /anaconda3/envs/learn-env/lib/python3.6/site-packages (from IPython->fsds_100719) (4.7.0)\n",
      "Requirement already satisfied, skipping upgrade: pygments in /anaconda3/envs/learn-env/lib/python3.6/site-packages (from IPython->fsds_100719) (2.4.2)\n",
      "Requirement already satisfied, skipping upgrade: appnope; sys_platform == \"darwin\" in /anaconda3/envs/learn-env/lib/python3.6/site-packages (from IPython->fsds_100719) (0.1.0)\n",
      "Requirement already satisfied, skipping upgrade: pillow in /anaconda3/envs/learn-env/lib/python3.6/site-packages (from wordcloud->fsds_100719) (6.2.1)\n",
      "Requirement already satisfied, skipping upgrade: notebook>=4.4.1 in /anaconda3/envs/learn-env/lib/python3.6/site-packages (from widgetsnbextension~=3.5.0->ipywidgets->fsds_100719) (5.7.8)\n",
      "Requirement already satisfied, skipping upgrade: jupyter-client in /anaconda3/envs/learn-env/lib/python3.6/site-packages (from ipykernel>=4.5.1->ipywidgets->fsds_100719) (5.3.3)\n",
      "Requirement already satisfied, skipping upgrade: tornado>=4.2 in /anaconda3/envs/learn-env/lib/python3.6/site-packages (from ipykernel>=4.5.1->ipywidgets->fsds_100719) (6.0.3)\n",
      "Requirement already satisfied, skipping upgrade: ipython_genutils in /anaconda3/envs/learn-env/lib/python3.6/site-packages (from traitlets>=4.3.1->ipywidgets->fsds_100719) (0.2.0)\n",
      "Requirement already satisfied, skipping upgrade: jsonschema!=2.5.0,>=2.4 in /anaconda3/envs/learn-env/lib/python3.6/site-packages (from nbformat>=4.2.0->ipywidgets->fsds_100719) (3.0.2)\n",
      "Requirement already satisfied, skipping upgrade: jupyter_core in /anaconda3/envs/learn-env/lib/python3.6/site-packages (from nbformat>=4.2.0->ipywidgets->fsds_100719) (4.5.0)\n",
      "Requirement already satisfied, skipping upgrade: pytest>=4.0.2 in /anaconda3/envs/learn-env/lib/python3.6/site-packages (from phik>=0.9.8->pandas-profiling->fsds_100719) (5.3.0)\n",
      "Requirement already satisfied, skipping upgrade: nbconvert>=5.3.1 in /anaconda3/envs/learn-env/lib/python3.6/site-packages (from phik>=0.9.8->pandas-profiling->fsds_100719) (5.5.0)\n"
     ]
    },
    {
     "name": "stdout",
     "output_type": "stream",
     "text": [
      "Requirement already satisfied, skipping upgrade: numba>=0.38.1 in /anaconda3/envs/learn-env/lib/python3.6/site-packages (from phik>=0.9.8->pandas-profiling->fsds_100719) (0.46.0)\n",
      "Requirement already satisfied, skipping upgrade: pytest-pylint>=0.13.0 in /anaconda3/envs/learn-env/lib/python3.6/site-packages (from phik>=0.9.8->pandas-profiling->fsds_100719) (0.14.1)\n",
      "Requirement already satisfied, skipping upgrade: MarkupSafe>=0.23 in /anaconda3/envs/learn-env/lib/python3.6/site-packages (from jinja2>=2.8->pandas-profiling->fsds_100719) (1.1.1)\n",
      "Requirement already satisfied, skipping upgrade: pyyaml in /anaconda3/envs/learn-env/lib/python3.6/site-packages (from confuse>=1.0.0->pandas-profiling->fsds_100719) (5.1.2)\n",
      "Requirement already satisfied, skipping upgrade: requests in /Users/jamesirving/.local/lib/python3.6/site-packages (from chart-studio>=1.0.0->cufflinks->fsds_100719) (2.22.0)\n",
      "Requirement already satisfied, skipping upgrade: retrying>=1.3.3 in /anaconda3/envs/learn-env/lib/python3.6/site-packages (from chart-studio>=1.0.0->cufflinks->fsds_100719) (1.3.3)\n",
      "Requirement already satisfied, skipping upgrade: wcwidth in /anaconda3/envs/learn-env/lib/python3.6/site-packages (from prompt-toolkit<2.1.0,>=2.0.0->IPython->fsds_100719) (0.1.7)\n",
      "Requirement already satisfied, skipping upgrade: parso>=0.5.0 in /anaconda3/envs/learn-env/lib/python3.6/site-packages (from jedi>=0.10->IPython->fsds_100719) (0.5.1)\n",
      "Requirement already satisfied, skipping upgrade: ptyprocess>=0.5 in /anaconda3/envs/learn-env/lib/python3.6/site-packages (from pexpect; sys_platform != \"win32\"->IPython->fsds_100719) (0.6.0)\n",
      "Requirement already satisfied, skipping upgrade: terminado>=0.8.1 in /anaconda3/envs/learn-env/lib/python3.6/site-packages (from notebook>=4.4.1->widgetsnbextension~=3.5.0->ipywidgets->fsds_100719) (0.8.2)\n",
      "Requirement already satisfied, skipping upgrade: pyzmq>=17 in /anaconda3/envs/learn-env/lib/python3.6/site-packages (from notebook>=4.4.1->widgetsnbextension~=3.5.0->ipywidgets->fsds_100719) (18.1.0)\n",
      "Requirement already satisfied, skipping upgrade: Send2Trash in /anaconda3/envs/learn-env/lib/python3.6/site-packages (from notebook>=4.4.1->widgetsnbextension~=3.5.0->ipywidgets->fsds_100719) (1.5.0)\n",
      "Requirement already satisfied, skipping upgrade: prometheus-client in /anaconda3/envs/learn-env/lib/python3.6/site-packages (from notebook>=4.4.1->widgetsnbextension~=3.5.0->ipywidgets->fsds_100719) (0.7.1)\n",
      "Requirement already satisfied, skipping upgrade: attrs>=17.4.0 in /anaconda3/envs/learn-env/lib/python3.6/site-packages (from jsonschema!=2.5.0,>=2.4->nbformat>=4.2.0->ipywidgets->fsds_100719) (19.1.0)\n",
      "Requirement already satisfied, skipping upgrade: pyrsistent>=0.14.0 in /anaconda3/envs/learn-env/lib/python3.6/site-packages (from jsonschema!=2.5.0,>=2.4->nbformat>=4.2.0->ipywidgets->fsds_100719) (0.14.11)\n",
      "Requirement already satisfied, skipping upgrade: importlib-metadata>=0.12; python_version < \"3.8\" in /anaconda3/envs/learn-env/lib/python3.6/site-packages (from pytest>=4.0.2->phik>=0.9.8->pandas-profiling->fsds_100719) (0.23)\n",
      "Requirement already satisfied, skipping upgrade: packaging in /anaconda3/envs/learn-env/lib/python3.6/site-packages (from pytest>=4.0.2->phik>=0.9.8->pandas-profiling->fsds_100719) (19.2)\n",
      "Requirement already satisfied, skipping upgrade: py>=1.5.0 in /anaconda3/envs/learn-env/lib/python3.6/site-packages (from pytest>=4.0.2->phik>=0.9.8->pandas-profiling->fsds_100719) (1.8.0)\n",
      "Requirement already satisfied, skipping upgrade: more-itertools>=4.0.0 in /anaconda3/envs/learn-env/lib/python3.6/site-packages (from pytest>=4.0.2->phik>=0.9.8->pandas-profiling->fsds_100719) (7.2.0)\n",
      "Requirement already satisfied, skipping upgrade: pluggy<1.0,>=0.12 in /anaconda3/envs/learn-env/lib/python3.6/site-packages (from pytest>=4.0.2->phik>=0.9.8->pandas-profiling->fsds_100719) (0.13.0)\n",
      "Requirement already satisfied, skipping upgrade: defusedxml in /anaconda3/envs/learn-env/lib/python3.6/site-packages (from nbconvert>=5.3.1->phik>=0.9.8->pandas-profiling->fsds_100719) (0.6.0)\n",
      "Requirement already satisfied, skipping upgrade: entrypoints>=0.2.2 in /anaconda3/envs/learn-env/lib/python3.6/site-packages (from nbconvert>=5.3.1->phik>=0.9.8->pandas-profiling->fsds_100719) (0.3)\n",
      "Requirement already satisfied, skipping upgrade: bleach in /anaconda3/envs/learn-env/lib/python3.6/site-packages (from nbconvert>=5.3.1->phik>=0.9.8->pandas-profiling->fsds_100719) (3.1.0)\n",
      "Requirement already satisfied, skipping upgrade: testpath in /anaconda3/envs/learn-env/lib/python3.6/site-packages (from nbconvert>=5.3.1->phik>=0.9.8->pandas-profiling->fsds_100719) (0.4.2)\n",
      "Requirement already satisfied, skipping upgrade: pandocfilters>=1.4.1 in /anaconda3/envs/learn-env/lib/python3.6/site-packages (from nbconvert>=5.3.1->phik>=0.9.8->pandas-profiling->fsds_100719) (1.4.2)\n",
      "Requirement already satisfied, skipping upgrade: mistune>=0.8.1 in /anaconda3/envs/learn-env/lib/python3.6/site-packages (from nbconvert>=5.3.1->phik>=0.9.8->pandas-profiling->fsds_100719) (0.8.4)\n",
      "Requirement already satisfied, skipping upgrade: llvmlite>=0.30.0dev0 in /anaconda3/envs/learn-env/lib/python3.6/site-packages (from numba>=0.38.1->phik>=0.9.8->pandas-profiling->fsds_100719) (0.30.0)\n",
      "Requirement already satisfied, skipping upgrade: pylint>=1.4.5 in /anaconda3/envs/learn-env/lib/python3.6/site-packages (from pytest-pylint>=0.13.0->phik>=0.9.8->pandas-profiling->fsds_100719) (2.4.3)\n",
      "Requirement already satisfied, skipping upgrade: idna<2.9,>=2.5 in /anaconda3/envs/learn-env/lib/python3.6/site-packages (from requests->chart-studio>=1.0.0->cufflinks->fsds_100719) (2.8)\n",
      "Requirement already satisfied, skipping upgrade: certifi>=2017.4.17 in /anaconda3/envs/learn-env/lib/python3.6/site-packages (from requests->chart-studio>=1.0.0->cufflinks->fsds_100719) (2019.11.28)\n",
      "Requirement already satisfied, skipping upgrade: chardet<3.1.0,>=3.0.2 in /anaconda3/envs/learn-env/lib/python3.6/site-packages (from requests->chart-studio>=1.0.0->cufflinks->fsds_100719) (3.0.4)\n",
      "Requirement already satisfied, skipping upgrade: zipp>=0.5 in /anaconda3/envs/learn-env/lib/python3.6/site-packages (from importlib-metadata>=0.12; python_version < \"3.8\"->pytest>=4.0.2->phik>=0.9.8->pandas-profiling->fsds_100719) (0.6.0)\n",
      "Requirement already satisfied, skipping upgrade: webencodings in /anaconda3/envs/learn-env/lib/python3.6/site-packages (from bleach->nbconvert>=5.3.1->phik>=0.9.8->pandas-profiling->fsds_100719) (0.5.1)\n",
      "Requirement already satisfied, skipping upgrade: astroid<2.4,>=2.3.0 in /anaconda3/envs/learn-env/lib/python3.6/site-packages (from pylint>=1.4.5->pytest-pylint>=0.13.0->phik>=0.9.8->pandas-profiling->fsds_100719) (2.3.2)\n",
      "Requirement already satisfied, skipping upgrade: mccabe<0.7,>=0.6 in /anaconda3/envs/learn-env/lib/python3.6/site-packages (from pylint>=1.4.5->pytest-pylint>=0.13.0->phik>=0.9.8->pandas-profiling->fsds_100719) (0.6.1)\n",
      "Requirement already satisfied, skipping upgrade: isort<5,>=4.2.5 in /anaconda3/envs/learn-env/lib/python3.6/site-packages (from pylint>=1.4.5->pytest-pylint>=0.13.0->phik>=0.9.8->pandas-profiling->fsds_100719) (4.3.21)\n",
      "Requirement already satisfied, skipping upgrade: wrapt==1.11.* in /anaconda3/envs/learn-env/lib/python3.6/site-packages (from astroid<2.4,>=2.3.0->pylint>=1.4.5->pytest-pylint>=0.13.0->phik>=0.9.8->pandas-profiling->fsds_100719) (1.11.2)\n",
      "Requirement already satisfied, skipping upgrade: typed-ast<1.5,>=1.4.0; implementation_name == \"cpython\" and python_version < \"3.8\" in /anaconda3/envs/learn-env/lib/python3.6/site-packages (from astroid<2.4,>=2.3.0->pylint>=1.4.5->pytest-pylint>=0.13.0->phik>=0.9.8->pandas-profiling->fsds_100719) (1.4.0)\n",
      "Requirement already satisfied, skipping upgrade: lazy-object-proxy==1.4.* in /anaconda3/envs/learn-env/lib/python3.6/site-packages (from astroid<2.4,>=2.3.0->pylint>=1.4.5->pytest-pylint>=0.13.0->phik>=0.9.8->pandas-profiling->fsds_100719) (1.4.3)\n"
     ]
    }
   ],
   "source": [
    "!pip install -U fsds_100719\n",
    "from fsds_100719.imports import *"
   ]
  },
  {
   "cell_type": "code",
   "execution_count": null,
   "metadata": {},
   "outputs": [],
   "source": []
  },
  {
   "cell_type": "code",
   "execution_count": 66,
   "metadata": {
    "ExecuteTime": {
     "end_time": "2020-01-29T00:00:27.740381Z",
     "start_time": "2020-01-29T00:00:27.735791Z"
    }
   },
   "outputs": [],
   "source": [
    "plt.style.use('seaborn-notebook')\n",
    "pd.set_option('max_colwidth', 10000)\n",
    "pd.set_option('display.max_rows',0)"
   ]
  },
  {
   "cell_type": "markdown",
   "metadata": {},
   "source": [
    "## Load the Dataset and Perform a Brief Exploration\n",
    "\n",
    "The data is stored in a file called **multipleChoiceResponses_cleaned.csv**. Feel free to check out the original dataset referenced at the bottom of this lab, although this cleaned version will undoubtedly be easier to work with. Additionally, meta-data regarding the questions is stored in a file name **schema.csv**. Load in the data itself as a Pandas DataFrame, and take a moment to briefly get acquainted with it.\n",
    "\n",
    "> Note: If you can't get the file to load properly, try changing the encoding format as in `encoding='latin1'`"
   ]
  },
  {
   "cell_type": "code",
   "execution_count": 67,
   "metadata": {
    "ExecuteTime": {
     "end_time": "2020-01-29T00:00:27.762604Z",
     "start_time": "2020-01-29T00:00:27.743297Z"
    }
   },
   "outputs": [
    {
     "data": {
      "text/html": [
       "<div>\n",
       "<style scoped>\n",
       "    .dataframe tbody tr th:only-of-type {\n",
       "        vertical-align: middle;\n",
       "    }\n",
       "\n",
       "    .dataframe tbody tr th {\n",
       "        vertical-align: top;\n",
       "    }\n",
       "\n",
       "    .dataframe thead th {\n",
       "        text-align: right;\n",
       "    }\n",
       "</style>\n",
       "<table border=\"1\" class=\"dataframe\">\n",
       "  <thead>\n",
       "    <tr style=\"text-align: right;\">\n",
       "      <th></th>\n",
       "      <th>Column</th>\n",
       "      <th>Question</th>\n",
       "      <th>Asked</th>\n",
       "    </tr>\n",
       "  </thead>\n",
       "  <tbody>\n",
       "    <tr>\n",
       "      <td>0</td>\n",
       "      <td>GenderSelect</td>\n",
       "      <td>Select your gender identity. - Selected Choice</td>\n",
       "      <td>All</td>\n",
       "    </tr>\n",
       "    <tr>\n",
       "      <td>1</td>\n",
       "      <td>GenderFreeForm</td>\n",
       "      <td>Select your gender identity. - A different identity - Text</td>\n",
       "      <td>All</td>\n",
       "    </tr>\n",
       "    <tr>\n",
       "      <td>2</td>\n",
       "      <td>Country</td>\n",
       "      <td>Select the country you currently live in.</td>\n",
       "      <td>All</td>\n",
       "    </tr>\n",
       "    <tr>\n",
       "      <td>3</td>\n",
       "      <td>Age</td>\n",
       "      <td>What's your age?</td>\n",
       "      <td>All</td>\n",
       "    </tr>\n",
       "    <tr>\n",
       "      <td>4</td>\n",
       "      <td>EmploymentStatus</td>\n",
       "      <td>What's your current employment status?</td>\n",
       "      <td>All</td>\n",
       "    </tr>\n",
       "    <tr>\n",
       "      <td>5</td>\n",
       "      <td>StudentStatus</td>\n",
       "      <td>Are you currently enrolled as a student at a degree granting school?</td>\n",
       "      <td>Non-worker</td>\n",
       "    </tr>\n",
       "    <tr>\n",
       "      <td>6</td>\n",
       "      <td>LearningDataScience</td>\n",
       "      <td>Are you currently focused on learning data science skills either formally or informally?</td>\n",
       "      <td>Non-worker</td>\n",
       "    </tr>\n",
       "    <tr>\n",
       "      <td>7</td>\n",
       "      <td>KaggleMotivationFreeForm</td>\n",
       "      <td>What's your motivation for being a Kaggle user?</td>\n",
       "      <td>Non-switcher</td>\n",
       "    </tr>\n",
       "    <tr>\n",
       "      <td>8</td>\n",
       "      <td>CodeWriter</td>\n",
       "      <td>Do you write code to analyze data in your current job, freelance contracts, or most recent job if retired?</td>\n",
       "      <td>Worker1</td>\n",
       "    </tr>\n",
       "    <tr>\n",
       "      <td>...</td>\n",
       "      <td>...</td>\n",
       "      <td>...</td>\n",
       "      <td>...</td>\n",
       "    </tr>\n",
       "    <tr>\n",
       "      <td>281</td>\n",
       "      <td>JobFactorDepartment</td>\n",
       "      <td>How are you assessing potential job opportunities? - The specific department or team I'd be working on</td>\n",
       "      <td>Learners</td>\n",
       "    </tr>\n",
       "    <tr>\n",
       "      <td>282</td>\n",
       "      <td>JobFactorTitle</td>\n",
       "      <td>How are you assessing potential job opportunities? - The specific role or job title I'd be applying for</td>\n",
       "      <td>Learners</td>\n",
       "    </tr>\n",
       "    <tr>\n",
       "      <td>283</td>\n",
       "      <td>JobFactorCompanyFunding</td>\n",
       "      <td>How are you assessing potential job opportunities? - The financial performance or funding status of the company or organization</td>\n",
       "      <td>Learners</td>\n",
       "    </tr>\n",
       "    <tr>\n",
       "      <td>284</td>\n",
       "      <td>JobFactorImpact</td>\n",
       "      <td>How are you assessing potential job opportunities? - How widely used or impactful the product or service I'd be working on is</td>\n",
       "      <td>Learners</td>\n",
       "    </tr>\n",
       "    <tr>\n",
       "      <td>285</td>\n",
       "      <td>JobFactorRemote</td>\n",
       "      <td>How are you assessing potential job opportunities? - The opportunity to work from home/remotely</td>\n",
       "      <td>Learners</td>\n",
       "    </tr>\n",
       "    <tr>\n",
       "      <td>286</td>\n",
       "      <td>JobFactorIndustry</td>\n",
       "      <td>How are you assessing potential job opportunities? - The industry that I'd be working in</td>\n",
       "      <td>Learners</td>\n",
       "    </tr>\n",
       "    <tr>\n",
       "      <td>287</td>\n",
       "      <td>JobFactorLeaderReputation</td>\n",
       "      <td>How are you assessing potential job opportunities? - The reputations of the company's senior leaders</td>\n",
       "      <td>Learners</td>\n",
       "    </tr>\n",
       "    <tr>\n",
       "      <td>288</td>\n",
       "      <td>JobFactorDiversity</td>\n",
       "      <td>How are you assessing potential job opportunities? - The diversity of the company or organization</td>\n",
       "      <td>Learners</td>\n",
       "    </tr>\n",
       "    <tr>\n",
       "      <td>289</td>\n",
       "      <td>JobFactorPublishingOpportunity</td>\n",
       "      <td>How are you assessing potential job opportunities? - Opportunity to publish my results</td>\n",
       "      <td>Learners</td>\n",
       "    </tr>\n",
       "  </tbody>\n",
       "</table>\n",
       "<p>290 rows × 3 columns</p>\n",
       "</div>"
      ],
      "text/plain": [
       "                             Column  \\\n",
       "0                      GenderSelect   \n",
       "1                    GenderFreeForm   \n",
       "2                           Country   \n",
       "3                               Age   \n",
       "4                  EmploymentStatus   \n",
       "5                     StudentStatus   \n",
       "6               LearningDataScience   \n",
       "7          KaggleMotivationFreeForm   \n",
       "8                        CodeWriter   \n",
       "..                              ...   \n",
       "281             JobFactorDepartment   \n",
       "282                  JobFactorTitle   \n",
       "283         JobFactorCompanyFunding   \n",
       "284                 JobFactorImpact   \n",
       "285                 JobFactorRemote   \n",
       "286               JobFactorIndustry   \n",
       "287       JobFactorLeaderReputation   \n",
       "288              JobFactorDiversity   \n",
       "289  JobFactorPublishingOpportunity   \n",
       "\n",
       "                                                                                                                            Question  \\\n",
       "0                                                                                     Select your gender identity. - Selected Choice   \n",
       "1                                                                         Select your gender identity. - A different identity - Text   \n",
       "2                                                                                          Select the country you currently live in.   \n",
       "3                                                                                                                   What's your age?   \n",
       "4                                                                                             What's your current employment status?   \n",
       "5                                                               Are you currently enrolled as a student at a degree granting school?   \n",
       "6                                           Are you currently focused on learning data science skills either formally or informally?   \n",
       "7                                                                                    What's your motivation for being a Kaggle user?   \n",
       "8                         Do you write code to analyze data in your current job, freelance contracts, or most recent job if retired?   \n",
       "..                                                                                                                               ...   \n",
       "281                           How are you assessing potential job opportunities? - The specific department or team I'd be working on   \n",
       "282                          How are you assessing potential job opportunities? - The specific role or job title I'd be applying for   \n",
       "283  How are you assessing potential job opportunities? - The financial performance or funding status of the company or organization   \n",
       "284    How are you assessing potential job opportunities? - How widely used or impactful the product or service I'd be working on is   \n",
       "285                                  How are you assessing potential job opportunities? - The opportunity to work from home/remotely   \n",
       "286                                         How are you assessing potential job opportunities? - The industry that I'd be working in   \n",
       "287                             How are you assessing potential job opportunities? - The reputations of the company's senior leaders   \n",
       "288                                How are you assessing potential job opportunities? - The diversity of the company or organization   \n",
       "289                                           How are you assessing potential job opportunities? - Opportunity to publish my results   \n",
       "\n",
       "            Asked  \n",
       "0             All  \n",
       "1             All  \n",
       "2             All  \n",
       "3             All  \n",
       "4             All  \n",
       "5      Non-worker  \n",
       "6      Non-worker  \n",
       "7    Non-switcher  \n",
       "8         Worker1  \n",
       "..            ...  \n",
       "281      Learners  \n",
       "282      Learners  \n",
       "283      Learners  \n",
       "284      Learners  \n",
       "285      Learners  \n",
       "286      Learners  \n",
       "287      Learners  \n",
       "288      Learners  \n",
       "289      Learners  \n",
       "\n",
       "[290 rows x 3 columns]"
      ]
     },
     "execution_count": 67,
     "metadata": {},
     "output_type": "execute_result"
    }
   ],
   "source": [
    "#Your code here\n",
    "question = pd.read_csv('schema.csv')\n",
    "question"
   ]
  },
  {
   "cell_type": "code",
   "execution_count": 68,
   "metadata": {
    "ExecuteTime": {
     "end_time": "2020-01-29T00:00:28.821424Z",
     "start_time": "2020-01-29T00:00:27.765114Z"
    }
   },
   "outputs": [
    {
     "name": "stderr",
     "output_type": "stream",
     "text": [
      "//anaconda3/envs/learn-env/lib/python3.6/site-packages/IPython/core/interactiveshell.py:3058: DtypeWarning:\n",
      "\n",
      "Columns (1,2,3,4,5,6,7,8,9,10,11,12,13,14,15,16,17,18,19,20,21,22,23,24,25,26,27,28,29,30,31,32,33,34,35,36,37,38,39,40,41,42,43,44,45,46,47,48,49,50,51,52,53,54,55,56,57,58,65,66,67,68,69,70,71,72,73,74,75,76,77,78,79,80,81,82,83,84,85,86,87,88,89,90,91,92,93,94,95,96,97,98,99,100,101,102,103,104,105,106,107,108,109,110,111,112,113,114,115,116,117,118,119,120,121,122,123,124,125,126,127,128,129,130,131,132,133,134,135,136,137,138,139,140,141,142,143,144,145,146,147,148,149,150,151,152,153,154,155,156,157,158,159,160,161,162,163,164,165,172,173,174,175,176,177,178,179,180,181,182,183,184,185,186,187,188,189,190,191,192,193,194,195,196,197,198,199,200,201,202,203,204,205,207,208,209,210,211,212,213,214,215,216,217,218,219,220,221,222,223,224,225,226,227) have mixed types. Specify dtype option on import or set low_memory=False.\n",
      "\n"
     ]
    },
    {
     "data": {
      "text/plain": [
       "AdjustedCompensation    0.835455\n",
       "FormalEducation         0.312647\n",
       "dtype: float64"
      ]
     },
     "execution_count": 68,
     "metadata": {},
     "output_type": "execute_result"
    }
   ],
   "source": [
    "df = pd.read_csv('multipleChoiceResponses_cleaned.csv',encoding='latin-1')\n",
    "df[['AdjustedCompensation','FormalEducation']].isna().sum().divide(len(df))"
   ]
  },
  {
   "cell_type": "markdown",
   "metadata": {},
   "source": [
    "## Wages and Education\n",
    "\n",
    "You've been asked to determine whether education is impactful to salary. Develop a hypothesis test to compare the salaries of those with Master's degrees to those with Bachelor's degrees. Are the two statistically different according to your results?\n",
    "\n",
    "> Note: The relevant features are stored in the 'FormalEducation' and 'AdjustedCompensation' features.\n",
    "\n",
    "You may import the functions stored in the `flatiron_stats.py` file to help perform your hypothesis tests. It contains the stats functions that you previously coded: `welch_t(a,b)`, `welch_df(a, b)`, and `p_value(a, b, two_sided=False)`. \n",
    "\n",
    "Note that `scipy.stats.ttest_ind(a, b, equal_var=False)` performs a two-sided Welch's t-test and that p-values derived from two-sided tests are two times the p-values derived from one-sided tests. See the [documentation](https://docs.scipy.org/doc/scipy/reference/generated/scipy.stats.ttest_ind.html) for more information.    "
   ]
  },
  {
   "cell_type": "markdown",
   "metadata": {},
   "source": [
    "## Hypothesis:\n",
    "- Q: Does level of education impact salary?\n",
    "- Metric: AdjustedEducation\n",
    "\n",
    "- $H_0$: There is no difference between Master's degree vs Bachelor's degrees in compensation. \n",
    "\n",
    "- $H_A$: People with a Master's degree have a higher adjusted compensation vs people with a Bachelors."
   ]
  },
  {
   "cell_type": "code",
   "execution_count": 69,
   "metadata": {
    "ExecuteTime": {
     "end_time": "2020-01-29T00:00:28.841100Z",
     "start_time": "2020-01-29T00:00:28.822754Z"
    }
   },
   "outputs": [
    {
     "ename": "NameError",
     "evalue": "name 'd' is not defined",
     "output_type": "error",
     "traceback": [
      "\u001b[0;31m---------------------------------------------------------------------------\u001b[0m",
      "\u001b[0;31mNameError\u001b[0m                                 Traceback (most recent call last)",
      "\u001b[0;32m<ipython-input-69-e983f374794d>\u001b[0m in \u001b[0;36m<module>\u001b[0;34m\u001b[0m\n\u001b[0;32m----> 1\u001b[0;31m \u001b[0md\u001b[0m\u001b[0;34m\u001b[0m\u001b[0;34m\u001b[0m\u001b[0m\n\u001b[0m",
      "\u001b[0;31mNameError\u001b[0m: name 'd' is not defined"
     ]
    }
   ],
   "source": [
    "d"
   ]
  },
  {
   "cell_type": "code",
   "execution_count": null,
   "metadata": {
    "ExecuteTime": {
     "end_time": "2020-01-29T00:00:28.843121Z",
     "start_time": "2020-01-29T00:00:24.962Z"
    }
   },
   "outputs": [],
   "source": [
    "df = df.dropna(subset=['AdjustedCompensation'])\n",
    "df['AdjustedCompensation'].isna().sum()"
   ]
  },
  {
   "cell_type": "code",
   "execution_count": null,
   "metadata": {
    "ExecuteTime": {
     "end_time": "2020-01-29T00:00:28.844268Z",
     "start_time": "2020-01-29T00:00:24.964Z"
    }
   },
   "outputs": [],
   "source": [
    "df['FormalEducation'].value_counts()"
   ]
  },
  {
   "cell_type": "code",
   "execution_count": null,
   "metadata": {
    "ExecuteTime": {
     "end_time": "2020-01-29T00:00:28.845446Z",
     "start_time": "2020-01-29T00:00:24.967Z"
    }
   },
   "outputs": [],
   "source": [
    "plt.style.use('seaborn-notebook')\n",
    "pd.set_option('max_colwidth', 10000)\n",
    "pd.set_option('display.max_rows',0)"
   ]
  },
  {
   "cell_type": "code",
   "execution_count": null,
   "metadata": {
    "ExecuteTime": {
     "end_time": "2020-01-29T00:00:28.847610Z",
     "start_time": "2020-01-29T00:00:24.969Z"
    }
   },
   "outputs": [],
   "source": [
    "df_b = df.groupby('FormalEducation').get_group(\"Bachelor's degree\")['AdjustedCompensation'].rename('Bachelors')\n",
    "df_m = df.groupby('FormalEducation').get_group(\"Master's degree\")['AdjustedCompensation'].rename('Masters')\n"
   ]
  },
  {
   "cell_type": "code",
   "execution_count": null,
   "metadata": {
    "ExecuteTime": {
     "end_time": "2020-01-29T00:00:28.849808Z",
     "start_time": "2020-01-29T00:00:24.971Z"
    }
   },
   "outputs": [],
   "source": [
    "sns.distplot(df_b)\n",
    "sns.distplot(df_m)"
   ]
  },
  {
   "cell_type": "code",
   "execution_count": null,
   "metadata": {
    "ExecuteTime": {
     "end_time": "2020-01-29T00:00:28.851506Z",
     "start_time": "2020-01-29T00:00:24.973Z"
    }
   },
   "outputs": [],
   "source": [
    "len(df_m)"
   ]
  },
  {
   "cell_type": "code",
   "execution_count": null,
   "metadata": {
    "ExecuteTime": {
     "end_time": "2020-01-29T00:00:28.852891Z",
     "start_time": "2020-01-29T00:00:24.975Z"
    }
   },
   "outputs": [],
   "source": [
    "def find_outliers_IQR(data):\n",
    "    \"\"\"Identifies outliers using Tukeys IQR method.\"\"\"\n",
    "    df_b=data\n",
    "    res= df_b.describe()\n",
    "\n",
    "    IQR = res['75%'] -  res['25%']\n",
    "    lower_limit = res['25%'] - 1.5*IQR\n",
    "    upper_limit = res['75%'] + 1.5*IQR\n",
    "\n",
    "    idx_outs = (df_b>upper_limit) | (df_b<lower_limit)\n",
    "    idx_outs.value_counts()\n",
    "\n",
    "    return idx_outs\n",
    "idx_outs_b = find_outliers_IQR(df_b)\n",
    "idx_outs_m = find_outliers_IQR(df_m)\n",
    "print(idx_outs_b.value_counts())\n",
    "print(idx_outs_m.value_counts())"
   ]
  },
  {
   "cell_type": "code",
   "execution_count": 74,
   "metadata": {
    "ExecuteTime": {
     "end_time": "2020-01-29T00:02:34.534662Z",
     "start_time": "2020-01-29T00:02:34.531152Z"
    }
   },
   "outputs": [],
   "source": [
    "#Your code here\n",
    "def find_outliers_Z(data):\n",
    "    \"\"\"Finds outliers using Z-scores and +/-3 cutoff.\"\"\"\n",
    "#     df_b = data.copy\n",
    "    import scipy.stats as stats\n",
    "\n",
    "    zs = stats.zscore(data)\n",
    "    idx_outs = np.abs(zs)>3\n",
    "    return pd.Series(idx_outs)#.value_counts()"
   ]
  },
  {
   "cell_type": "code",
   "execution_count": 77,
   "metadata": {
    "ExecuteTime": {
     "end_time": "2020-01-29T00:02:56.375324Z",
     "start_time": "2020-01-29T00:02:56.369470Z"
    }
   },
   "outputs": [
    {
     "data": {
      "text/plain": [
       "(False    1984\n",
       " True        6\n",
       " dtype: int64, 1990)"
      ]
     },
     "execution_count": 77,
     "metadata": {},
     "output_type": "execute_result"
    }
   ],
   "source": [
    "idx_outs_m  = find_outliers_Z(df_m)\n",
    "idx_outs_m.value_counts(), len(df_m)"
   ]
  },
  {
   "cell_type": "code",
   "execution_count": 78,
   "metadata": {
    "ExecuteTime": {
     "end_time": "2020-01-29T00:03:09.183109Z",
     "start_time": "2020-01-29T00:03:09.176633Z"
    }
   },
   "outputs": [
    {
     "data": {
      "text/plain": [
       "(False    1104\n",
       " True        3\n",
       " dtype: int64, 1107)"
      ]
     },
     "execution_count": 78,
     "metadata": {},
     "output_type": "execute_result"
    }
   ],
   "source": [
    "idx_outs_b  = find_outliers_Z(df_b)\n",
    "idx_outs_b.value_counts(), len(df_b)"
   ]
  },
  {
   "cell_type": "code",
   "execution_count": null,
   "metadata": {
    "ExecuteTime": {
     "end_time": "2020-01-29T00:00:28.856486Z",
     "start_time": "2020-01-29T00:00:24.980Z"
    }
   },
   "outputs": [],
   "source": [
    "df_m[~idx_outs_m]"
   ]
  },
  {
   "cell_type": "code",
   "execution_count": 90,
   "metadata": {
    "ExecuteTime": {
     "end_time": "2020-01-29T00:07:08.435818Z",
     "start_time": "2020-01-29T00:07:08.090922Z"
    }
   },
   "outputs": [
    {
     "data": {
      "text/plain": [
       "<matplotlib.legend.Legend at 0x1c28c9cc18>"
      ]
     },
     "execution_count": 90,
     "metadata": {},
     "output_type": "execute_result"
    },
    {
     "data": {
      "image/png": "[encoded data removed]",
      "text/plain": [
       "<Figure size 576x396 with 1 Axes>"
      ]
     },
     "metadata": {
      "needs_background": "light"
     },
     "output_type": "display_data"
    }
   ],
   "source": [
    "df_b = df_b[~find_outliers_IQR(df_b)]\n",
    "df_m = df_m[~find_outliers_IQR(df_m)]        \n",
    "fig, ax = plt.subplots()\n",
    "sns.distplot(df_b,ax=ax)\n",
    "sns.distplot(df_m,ax=ax)#[~find_outliers_IQR(df_m)])\n",
    "ax.axvline(df_b.mean(),label='df_b mean',color='orange')\n",
    "ax.axvline(df_m.mean(),label='df_m mean')\n",
    "ax.legend()"
   ]
  },
  {
   "cell_type": "code",
   "execution_count": 93,
   "metadata": {
    "ExecuteTime": {
     "end_time": "2020-01-29T00:09:01.452555Z",
     "start_time": "2020-01-29T00:09:01.450196Z"
    }
   },
   "outputs": [],
   "source": [
    "import scipy.stats as stats"
   ]
  },
  {
   "cell_type": "code",
   "execution_count": 94,
   "metadata": {
    "ExecuteTime": {
     "end_time": "2020-01-29T00:09:01.981883Z",
     "start_time": "2020-01-29T00:09:01.977515Z"
    }
   },
   "outputs": [
    {
     "data": {
      "text/plain": [
       "<module 'scipy.stats' from '//anaconda3/envs/learn-env/lib/python3.6/site-packages/scipy/stats/__init__.py'>"
      ]
     },
     "execution_count": 94,
     "metadata": {},
     "output_type": "execute_result"
    }
   ],
   "source": [
    "stats"
   ]
  },
  {
   "cell_type": "code",
   "execution_count": 95,
   "metadata": {
    "ExecuteTime": {
     "end_time": "2020-01-29T00:09:04.468830Z",
     "start_time": "2020-01-29T00:09:04.462219Z"
    }
   },
   "outputs": [
    {
     "name": "stdout",
     "output_type": "stream",
     "text": [
      "96.51437400487188 1.1019705105531155e-21\n",
      "132.97577706588018 1.3325296975310732e-29\n"
     ]
    }
   ],
   "source": [
    "(stat,p) = stats.normaltest(df_b)\n",
    "print(stat,p)\n",
    "stat,p = stats.normaltest(df_m)\n",
    "print(stat,p)"
   ]
  },
  {
   "cell_type": "code",
   "execution_count": 96,
   "metadata": {
    "ExecuteTime": {
     "end_time": "2020-01-29T00:12:32.203294Z",
     "start_time": "2020-01-29T00:12:32.198569Z"
    }
   },
   "outputs": [
    {
     "data": {
      "text/plain": [
       "LeveneResult(statistic=5.58389611793326, pvalue=0.018190316121296204)"
      ]
     },
     "execution_count": 96,
     "metadata": {},
     "output_type": "execute_result"
    }
   ],
   "source": [
    "stats.levene(df_b,df_m)"
   ]
  },
  {
   "cell_type": "code",
   "execution_count": 131,
   "metadata": {
    "ExecuteTime": {
     "end_time": "2020-01-29T00:35:48.970784Z",
     "start_time": "2020-01-29T00:35:48.965040Z"
    }
   },
   "outputs": [],
   "source": [
    "def test_assumptions(**kwargs):\n",
    "    import scipy.stats as stats\n",
    "    res= [['Test','Group','Stat','p','p<.05']]\n",
    "    \n",
    "    all_data = []\n",
    "    for k,v in kwargs.items():\n",
    "        try:\n",
    "            all_data.append(v)\n",
    "            stat,p =stats.normaltest(v)\n",
    "            res.append(['Normality',k,stat,p,p<.05])\n",
    "        except:\n",
    "            res.append(['Normality',k,'err','err','err'])\n",
    "        \n",
    "    stat,p = stats.levene(*all_data)\n",
    "    res.append(['Equal Variance','All',stat,p,p<.05]) \n",
    "    \n",
    "    res=pd.DataFrame(res[1:],columns=res[0]).round(3)\n",
    "    \n",
    "    return res"
   ]
  },
  {
   "cell_type": "code",
   "execution_count": 132,
   "metadata": {
    "ExecuteTime": {
     "end_time": "2020-01-29T00:35:49.585875Z",
     "start_time": "2020-01-29T00:35:49.569552Z"
    }
   },
   "outputs": [
    {
     "data": {
      "text/html": [
       "<div>\n",
       "<style scoped>\n",
       "    .dataframe tbody tr th:only-of-type {\n",
       "        vertical-align: middle;\n",
       "    }\n",
       "\n",
       "    .dataframe tbody tr th {\n",
       "        vertical-align: top;\n",
       "    }\n",
       "\n",
       "    .dataframe thead th {\n",
       "        text-align: right;\n",
       "    }\n",
       "</style>\n",
       "<table border=\"1\" class=\"dataframe\">\n",
       "  <thead>\n",
       "    <tr style=\"text-align: right;\">\n",
       "      <th></th>\n",
       "      <th>Test</th>\n",
       "      <th>Group</th>\n",
       "      <th>Stat</th>\n",
       "      <th>p</th>\n",
       "      <th>p&lt;.05</th>\n",
       "    </tr>\n",
       "  </thead>\n",
       "  <tbody>\n",
       "    <tr>\n",
       "      <td>0</td>\n",
       "      <td>Normality</td>\n",
       "      <td>bachelors</td>\n",
       "      <td>96.514</td>\n",
       "      <td>0.000</td>\n",
       "      <td>True</td>\n",
       "    </tr>\n",
       "    <tr>\n",
       "      <td>1</td>\n",
       "      <td>Normality</td>\n",
       "      <td>masters</td>\n",
       "      <td>132.976</td>\n",
       "      <td>0.000</td>\n",
       "      <td>True</td>\n",
       "    </tr>\n",
       "    <tr>\n",
       "      <td>2</td>\n",
       "      <td>Equal Variance</td>\n",
       "      <td>All</td>\n",
       "      <td>5.584</td>\n",
       "      <td>0.018</td>\n",
       "      <td>True</td>\n",
       "    </tr>\n",
       "  </tbody>\n",
       "</table>\n",
       "</div>"
      ],
      "text/plain": [
       "             Test      Group     Stat      p  p<.05\n",
       "0       Normality  bachelors   96.514  0.000   True\n",
       "1       Normality    masters  132.976  0.000   True\n",
       "2  Equal Variance        All    5.584  0.018   True"
      ]
     },
     "execution_count": 132,
     "metadata": {},
     "output_type": "execute_result"
    }
   ],
   "source": [
    "test_assumptions(bachelors=df_b, masters=df_m)"
   ]
  },
  {
   "cell_type": "code",
   "execution_count": 133,
   "metadata": {
    "ExecuteTime": {
     "end_time": "2020-01-29T00:35:50.155686Z",
     "start_time": "2020-01-29T00:35:50.149714Z"
    }
   },
   "outputs": [
    {
     "name": "stdout",
     "output_type": "stream",
     "text": [
      "0.0\n"
     ]
    },
    {
     "data": {
      "text/plain": [
       "7.889525173445223e-13"
      ]
     },
     "execution_count": 133,
     "metadata": {},
     "output_type": "execute_result"
    }
   ],
   "source": [
    "stat, p = stats.mannwhitneyu(df_b,df_m)\n",
    "print(np.round(p,3))\n",
    "p"
   ]
  },
  {
   "cell_type": "code",
   "execution_count": 134,
   "metadata": {
    "ExecuteTime": {
     "end_time": "2020-01-29T00:35:50.308760Z",
     "start_time": "2020-01-29T00:35:50.302371Z"
    }
   },
   "outputs": [],
   "source": [
    "\n",
    "def Cohen_d(group1, group2, correction = False):\n",
    "    \"\"\"Compute Cohen's d\n",
    "    d = (group1.mean()-group2.mean())/pool_variance.\n",
    "    pooled_variance= (n1 * var1 + n2 * var2) / (n1 + n2)\n",
    "\n",
    "    Args:\n",
    "        group1 (Series or NumPy array): group 1 for calculating d\n",
    "        group2 (Series or NumPy array): group 2 for calculating d\n",
    "        correction (bool): Apply equation correction if N<50. Default is False. \n",
    "            - Url with small ncorrection equation: \n",
    "                - https://www.statisticshowto.datasciencecentral.com/cohens-d/ \n",
    "    Returns:\n",
    "        d (float): calculated d value\n",
    "         \n",
    "    INTERPRETATION OF COHEN's D: \n",
    "    > Small effect = 0.2\n",
    "    > Medium Effect = 0.5\n",
    "    > Large Effect = 0.8\n",
    "    \n",
    "    \"\"\"\n",
    "    import scipy.stats as stats\n",
    "    import scipy   \n",
    "    import numpy as np\n",
    "    N = len(group1)+len(group2)\n",
    "    diff = group1.mean() - group2.mean()\n",
    "\n",
    "    n1, n2 = len(group1), len(group2)\n",
    "    var1 = group1.var()\n",
    "    var2 = group2.var()\n",
    "\n",
    "    # Calculate the pooled threshold as shown earlier\n",
    "    pooled_var = (n1 * var1 + n2 * var2) / (n1 + n2)\n",
    "    \n",
    "    # Calculate Cohen's d statistic\n",
    "    d = diff / np.sqrt(pooled_var)\n",
    "    \n",
    "    ## Apply correction if needed\n",
    "    if (N < 50) & (correction==True):\n",
    "        d=d * ((N-3)/(N-2.25))*np.sqrt((N-2)/N)\n",
    "    \n",
    "    return d"
   ]
  },
  {
   "cell_type": "code",
   "execution_count": 135,
   "metadata": {
    "ExecuteTime": {
     "end_time": "2020-01-29T00:35:50.461063Z",
     "start_time": "2020-01-29T00:35:50.455980Z"
    }
   },
   "outputs": [
    {
     "data": {
      "text/plain": [
       "-0.2687841770911681"
      ]
     },
     "execution_count": 135,
     "metadata": {},
     "output_type": "execute_result"
    }
   ],
   "source": [
    "d = Cohen_d(df_b,df_m)\n",
    "d"
   ]
  },
  {
   "cell_type": "code",
   "execution_count": 136,
   "metadata": {
    "ExecuteTime": {
     "end_time": "2020-01-29T00:35:50.811237Z",
     "start_time": "2020-01-29T00:35:50.808966Z"
    }
   },
   "outputs": [],
   "source": [
    "# idx_outs_b= find_outliers_Z(df_b)\n",
    "# idx_outs_m= find_outliers_Z(df_m)\n",
    "# sns.distplot(df_b[~idx_outs_b])\n",
    "# sns.distplot(df_m[~idx_outs_m])"
   ]
  },
  {
   "cell_type": "markdown",
   "metadata": {},
   "source": [
    "## Wages and Education II\n",
    "\n",
    "Now perform a similar statistical test comparing the AdjustedCompensation of those with Bachelor's degrees and those with Doctorates. If you haven't already, be sure to explore the distribution of the AdjustedCompensation feature for any anomalies. "
   ]
  },
  {
   "cell_type": "code",
   "execution_count": 137,
   "metadata": {
    "ExecuteTime": {
     "end_time": "2020-01-29T00:35:51.417927Z",
     "start_time": "2020-01-29T00:35:51.415501Z"
    }
   },
   "outputs": [],
   "source": [
    "#Your code here"
   ]
  },
  {
   "cell_type": "markdown",
   "metadata": {},
   "source": [
    "## Wages and Education III\n",
    "\n",
    "Remember the multiple comparisons problem; rather than continuing on like this, perform an ANOVA test between the various 'FormalEducation' categories and their relation to 'AdjustedCompensation'."
   ]
  },
  {
   "cell_type": "markdown",
   "metadata": {},
   "source": [
    "- Q: Does level of education impact salary?\n",
    "- Metric: AdjustedEducation\n",
    "\n",
    "- $H_0$: There is no difference between education levels in compensation. \n",
    "\n",
    "- $H_A$: People with a higher degree have a higher adjusted compensation."
   ]
  },
  {
   "cell_type": "code",
   "execution_count": 138,
   "metadata": {
    "ExecuteTime": {
     "end_time": "2020-01-29T00:35:51.950756Z",
     "start_time": "2020-01-29T00:35:51.931004Z"
    }
   },
   "outputs": [
    {
     "data": {
      "text/plain": [
       "Master's degree                                                      1990\n",
       "Bachelor's degree                                                    1107\n",
       "Doctoral degree                                                       967\n",
       "Professional degree                                                   130\n",
       "Some college/university study without earning a bachelor's degree     111\n",
       "I did not complete any formal education past high school               30\n",
       "I prefer not to answer                                                  7\n",
       "Name: FormalEducation, dtype: int64"
      ]
     },
     "execution_count": 138,
     "metadata": {},
     "output_type": "execute_result"
    }
   ],
   "source": [
    "df = df.dropna(subset=['FormalEducation','AdjustedCompensation'])\n",
    "df['FormalEducation'].value_counts()"
   ]
  },
  {
   "cell_type": "code",
   "execution_count": null,
   "metadata": {},
   "outputs": [],
   "source": []
  },
  {
   "cell_type": "code",
   "execution_count": 139,
   "metadata": {
    "ExecuteTime": {
     "end_time": "2020-01-29T00:35:52.646728Z",
     "start_time": "2020-01-29T00:35:52.617509Z"
    }
   },
   "outputs": [
    {
     "data": {
      "text/plain": [
       "dict_keys(['Masters_degree', 'Bachelors_degree', 'Doctoral_degree', 'Some_collegeuniversity_study_without_earning_a_bachelors_degree', 'I_did_not_complete_any_formal_education_past_high_school', 'Professional_degree', 'I_prefer_not_to_answer'])"
      ]
     },
     "execution_count": 139,
     "metadata": {},
     "output_type": "execute_result"
    }
   ],
   "source": [
    "#Your code here\n",
    "data = {}\n",
    "for ed in df['FormalEducation'].unique():\n",
    "    ed_name = ed.replace('/','').replace(\"'\",'').replace(' ','_')\n",
    "    data[ed_name] = df.groupby('FormalEducation').get_group(ed)['AdjustedCompensation'].rename(ed_name)\n",
    "    \n",
    "data.keys()"
   ]
  },
  {
   "cell_type": "code",
   "execution_count": 140,
   "metadata": {
    "ExecuteTime": {
     "end_time": "2020-01-29T00:35:52.838825Z",
     "start_time": "2020-01-29T00:35:52.793033Z"
    }
   },
   "outputs": [
    {
     "data": {
      "text/plain": [
       "dict_keys(['Masters_degree', 'Bachelors_degree', 'Doctoral_degree', 'Some_collegeuniversity_study_without_earning_a_bachelors_degree', 'I_did_not_complete_any_formal_education_past_high_school', 'Professional_degree', 'I_prefer_not_to_answer'])"
      ]
     },
     "execution_count": 140,
     "metadata": {},
     "output_type": "execute_result"
    }
   ],
   "source": [
    "data_clean = {}\n",
    "for grp,values in data.items():\n",
    "    \n",
    "    data_clean[grp] = values[~find_outliers_IQR(values)]\n",
    "data_clean.keys()\n"
   ]
  },
  {
   "cell_type": "code",
   "execution_count": null,
   "metadata": {},
   "outputs": [],
   "source": []
  },
  {
   "cell_type": "code",
   "execution_count": 141,
   "metadata": {
    "ExecuteTime": {
     "end_time": "2020-01-29T00:35:53.415782Z",
     "start_time": "2020-01-29T00:35:53.411162Z"
    }
   },
   "outputs": [
    {
     "data": {
      "text/plain": [
       "['Masters_degree',\n",
       " 'Bachelors_degree',\n",
       " 'Doctoral_degree',\n",
       " 'Some_collegeuniversity_study_without_earning_a_bachelors_degree',\n",
       " 'I_did_not_complete_any_formal_education_past_high_school',\n",
       " 'Professional_degree',\n",
       " 'I_prefer_not_to_answer']"
      ]
     },
     "execution_count": 141,
     "metadata": {},
     "output_type": "execute_result"
    }
   ],
   "source": [
    "new_keys = [key.replace('/','').replace(\"'\",'').replace(' ','_') for key in data_clean.keys() ]\n",
    "new_keys"
   ]
  },
  {
   "cell_type": "code",
   "execution_count": 142,
   "metadata": {
    "ExecuteTime": {
     "end_time": "2020-01-29T00:35:55.420738Z",
     "start_time": "2020-01-29T00:35:55.399540Z"
    }
   },
   "outputs": [
    {
     "data": {
      "text/html": [
       "<div>\n",
       "<style scoped>\n",
       "    .dataframe tbody tr th:only-of-type {\n",
       "        vertical-align: middle;\n",
       "    }\n",
       "\n",
       "    .dataframe tbody tr th {\n",
       "        vertical-align: top;\n",
       "    }\n",
       "\n",
       "    .dataframe thead th {\n",
       "        text-align: right;\n",
       "    }\n",
       "</style>\n",
       "<table border=\"1\" class=\"dataframe\">\n",
       "  <thead>\n",
       "    <tr style=\"text-align: right;\">\n",
       "      <th></th>\n",
       "      <th>Test</th>\n",
       "      <th>Group</th>\n",
       "      <th>Stat</th>\n",
       "      <th>p</th>\n",
       "      <th>p&lt;.05</th>\n",
       "    </tr>\n",
       "  </thead>\n",
       "  <tbody>\n",
       "    <tr>\n",
       "      <td>0</td>\n",
       "      <td>Normality</td>\n",
       "      <td>Masters_degree</td>\n",
       "      <td>137.281</td>\n",
       "      <td>1.54798e-30</td>\n",
       "      <td>True</td>\n",
       "    </tr>\n",
       "    <tr>\n",
       "      <td>1</td>\n",
       "      <td>Normality</td>\n",
       "      <td>Bachelors_degree</td>\n",
       "      <td>100.565</td>\n",
       "      <td>1.45391e-22</td>\n",
       "      <td>True</td>\n",
       "    </tr>\n",
       "    <tr>\n",
       "      <td>2</td>\n",
       "      <td>Normality</td>\n",
       "      <td>Doctoral_degree</td>\n",
       "      <td>54.1706</td>\n",
       "      <td>1.72584e-12</td>\n",
       "      <td>True</td>\n",
       "    </tr>\n",
       "    <tr>\n",
       "      <td>3</td>\n",
       "      <td>Normality</td>\n",
       "      <td>Some_collegeuniversity_study_without_earning_a_bachelors_degree</td>\n",
       "      <td>12.2874</td>\n",
       "      <td>0.00214692</td>\n",
       "      <td>True</td>\n",
       "    </tr>\n",
       "    <tr>\n",
       "      <td>4</td>\n",
       "      <td>Normality</td>\n",
       "      <td>I_did_not_complete_any_formal_education_past_high_school</td>\n",
       "      <td>4.3202</td>\n",
       "      <td>0.115314</td>\n",
       "      <td>False</td>\n",
       "    </tr>\n",
       "    <tr>\n",
       "      <td>5</td>\n",
       "      <td>Normality</td>\n",
       "      <td>Professional_degree</td>\n",
       "      <td>13.7059</td>\n",
       "      <td>0.00105632</td>\n",
       "      <td>True</td>\n",
       "    </tr>\n",
       "    <tr>\n",
       "      <td>6</td>\n",
       "      <td>Normality</td>\n",
       "      <td>I_prefer_not_to_answer</td>\n",
       "      <td>err</td>\n",
       "      <td>err</td>\n",
       "      <td>err</td>\n",
       "    </tr>\n",
       "    <tr>\n",
       "      <td>7</td>\n",
       "      <td>Equal Variance</td>\n",
       "      <td>All</td>\n",
       "      <td>11.3403</td>\n",
       "      <td>1.31258e-12</td>\n",
       "      <td>True</td>\n",
       "    </tr>\n",
       "  </tbody>\n",
       "</table>\n",
       "</div>"
      ],
      "text/plain": [
       "             Test  \\\n",
       "0       Normality   \n",
       "1       Normality   \n",
       "2       Normality   \n",
       "3       Normality   \n",
       "4       Normality   \n",
       "5       Normality   \n",
       "6       Normality   \n",
       "7  Equal Variance   \n",
       "\n",
       "                                                             Group     Stat  \\\n",
       "0                                                   Masters_degree  137.281   \n",
       "1                                                 Bachelors_degree  100.565   \n",
       "2                                                  Doctoral_degree  54.1706   \n",
       "3  Some_collegeuniversity_study_without_earning_a_bachelors_degree  12.2874   \n",
       "4         I_did_not_complete_any_formal_education_past_high_school   4.3202   \n",
       "5                                              Professional_degree  13.7059   \n",
       "6                                           I_prefer_not_to_answer      err   \n",
       "7                                                              All  11.3403   \n",
       "\n",
       "             p  p<.05  \n",
       "0  1.54798e-30   True  \n",
       "1  1.45391e-22   True  \n",
       "2  1.72584e-12   True  \n",
       "3   0.00214692   True  \n",
       "4     0.115314  False  \n",
       "5   0.00105632   True  \n",
       "6          err    err  \n",
       "7  1.31258e-12   True  "
      ]
     },
     "execution_count": 142,
     "metadata": {},
     "output_type": "execute_result"
    }
   ],
   "source": [
    "test_assumptions(**data_clean)"
   ]
  },
  {
   "cell_type": "code",
   "execution_count": 147,
   "metadata": {
    "ExecuteTime": {
     "end_time": "2020-01-29T00:39:00.670939Z",
     "start_time": "2020-01-29T00:39:00.665216Z"
    }
   },
   "outputs": [
    {
     "data": {
      "text/plain": [
       "7.696098535016285e-50"
      ]
     },
     "execution_count": 147,
     "metadata": {},
     "output_type": "execute_result"
    }
   ],
   "source": [
    "# data_clean_anova = [val for val in data_cela]\n",
    "test_data = list(data_clean.values())\n",
    "stat,p = stats.f_oneway(*test_data)\n",
    "p"
   ]
  },
  {
   "cell_type": "code",
   "execution_count": 149,
   "metadata": {
    "ExecuteTime": {
     "end_time": "2020-01-29T00:39:50.467805Z",
     "start_time": "2020-01-29T00:39:50.465567Z"
    }
   },
   "outputs": [],
   "source": [
    "# sns.barplot(data=df,x='FormalEducation',y='AdjustedCompensation')"
   ]
  },
  {
   "cell_type": "code",
   "execution_count": 159,
   "metadata": {
    "ExecuteTime": {
     "end_time": "2020-01-29T00:46:03.234513Z",
     "start_time": "2020-01-29T00:46:03.185264Z"
    }
   },
   "outputs": [
    {
     "data": {
      "text/html": [
       "<div>\n",
       "<style scoped>\n",
       "    .dataframe tbody tr th:only-of-type {\n",
       "        vertical-align: middle;\n",
       "    }\n",
       "\n",
       "    .dataframe tbody tr th {\n",
       "        vertical-align: top;\n",
       "    }\n",
       "\n",
       "    .dataframe thead th {\n",
       "        text-align: right;\n",
       "    }\n",
       "</style>\n",
       "<table border=\"1\" class=\"dataframe\">\n",
       "  <thead>\n",
       "    <tr style=\"text-align: right;\">\n",
       "      <th></th>\n",
       "      <th>GenderSelect</th>\n",
       "      <th>Country</th>\n",
       "      <th>Age</th>\n",
       "      <th>EmploymentStatus</th>\n",
       "      <th>StudentStatus</th>\n",
       "      <th>LearningDataScience</th>\n",
       "      <th>CodeWriter</th>\n",
       "      <th>CareerSwitcher</th>\n",
       "      <th>CurrentJobTitleSelect</th>\n",
       "      <th>TitleFit</th>\n",
       "      <th>...</th>\n",
       "      <th>JobFactorTitle</th>\n",
       "      <th>JobFactorCompanyFunding</th>\n",
       "      <th>JobFactorImpact</th>\n",
       "      <th>JobFactorRemote</th>\n",
       "      <th>JobFactorIndustry</th>\n",
       "      <th>JobFactorLeaderReputation</th>\n",
       "      <th>JobFactorDiversity</th>\n",
       "      <th>JobFactorPublishingOpportunity</th>\n",
       "      <th>exchangeRate</th>\n",
       "      <th>AdjustedCompensation</th>\n",
       "    </tr>\n",
       "  </thead>\n",
       "  <tbody>\n",
       "    <tr>\n",
       "      <td>8</td>\n",
       "      <td>Female</td>\n",
       "      <td>Australia</td>\n",
       "      <td>43.0</td>\n",
       "      <td>Employed full-time</td>\n",
       "      <td>NaN</td>\n",
       "      <td>NaN</td>\n",
       "      <td>Yes</td>\n",
       "      <td>NaN</td>\n",
       "      <td>Business Analyst</td>\n",
       "      <td>Fine</td>\n",
       "      <td>...</td>\n",
       "      <td>NaN</td>\n",
       "      <td>NaN</td>\n",
       "      <td>NaN</td>\n",
       "      <td>NaN</td>\n",
       "      <td>NaN</td>\n",
       "      <td>NaN</td>\n",
       "      <td>NaN</td>\n",
       "      <td>NaN</td>\n",
       "      <td>0.802310</td>\n",
       "      <td>64184.800</td>\n",
       "    </tr>\n",
       "    <tr>\n",
       "      <td>9</td>\n",
       "      <td>Male</td>\n",
       "      <td>Russia</td>\n",
       "      <td>33.0</td>\n",
       "      <td>Employed full-time</td>\n",
       "      <td>NaN</td>\n",
       "      <td>NaN</td>\n",
       "      <td>Yes</td>\n",
       "      <td>NaN</td>\n",
       "      <td>Software Developer/Software Engineer</td>\n",
       "      <td>Fine</td>\n",
       "      <td>...</td>\n",
       "      <td>NaN</td>\n",
       "      <td>NaN</td>\n",
       "      <td>NaN</td>\n",
       "      <td>NaN</td>\n",
       "      <td>NaN</td>\n",
       "      <td>NaN</td>\n",
       "      <td>NaN</td>\n",
       "      <td>NaN</td>\n",
       "      <td>0.017402</td>\n",
       "      <td>20882.400</td>\n",
       "    </tr>\n",
       "    <tr>\n",
       "      <td>11</td>\n",
       "      <td>Male</td>\n",
       "      <td>India</td>\n",
       "      <td>27.0</td>\n",
       "      <td>Employed full-time</td>\n",
       "      <td>NaN</td>\n",
       "      <td>NaN</td>\n",
       "      <td>Yes</td>\n",
       "      <td>NaN</td>\n",
       "      <td>Data Scientist</td>\n",
       "      <td>Fine</td>\n",
       "      <td>...</td>\n",
       "      <td>NaN</td>\n",
       "      <td>NaN</td>\n",
       "      <td>NaN</td>\n",
       "      <td>NaN</td>\n",
       "      <td>NaN</td>\n",
       "      <td>NaN</td>\n",
       "      <td>NaN</td>\n",
       "      <td>NaN</td>\n",
       "      <td>0.015620</td>\n",
       "      <td>1483.900</td>\n",
       "    </tr>\n",
       "    <tr>\n",
       "      <td>14</td>\n",
       "      <td>Male</td>\n",
       "      <td>Taiwan</td>\n",
       "      <td>26.0</td>\n",
       "      <td>Employed full-time</td>\n",
       "      <td>NaN</td>\n",
       "      <td>NaN</td>\n",
       "      <td>Yes</td>\n",
       "      <td>NaN</td>\n",
       "      <td>Software Developer/Software Engineer</td>\n",
       "      <td>Fine</td>\n",
       "      <td>...</td>\n",
       "      <td>NaN</td>\n",
       "      <td>NaN</td>\n",
       "      <td>NaN</td>\n",
       "      <td>NaN</td>\n",
       "      <td>NaN</td>\n",
       "      <td>NaN</td>\n",
       "      <td>NaN</td>\n",
       "      <td>NaN</td>\n",
       "      <td>0.033304</td>\n",
       "      <td>36634.400</td>\n",
       "    </tr>\n",
       "    <tr>\n",
       "      <td>21</td>\n",
       "      <td>Male</td>\n",
       "      <td>United States</td>\n",
       "      <td>25.0</td>\n",
       "      <td>Employed part-time</td>\n",
       "      <td>NaN</td>\n",
       "      <td>NaN</td>\n",
       "      <td>Yes</td>\n",
       "      <td>NaN</td>\n",
       "      <td>Researcher</td>\n",
       "      <td>Fine</td>\n",
       "      <td>...</td>\n",
       "      <td>NaN</td>\n",
       "      <td>NaN</td>\n",
       "      <td>NaN</td>\n",
       "      <td>NaN</td>\n",
       "      <td>NaN</td>\n",
       "      <td>NaN</td>\n",
       "      <td>NaN</td>\n",
       "      <td>NaN</td>\n",
       "      <td>1.000000</td>\n",
       "      <td>20000.000</td>\n",
       "    </tr>\n",
       "    <tr>\n",
       "      <td>22</td>\n",
       "      <td>Male</td>\n",
       "      <td>United States</td>\n",
       "      <td>33.0</td>\n",
       "      <td>Employed full-time</td>\n",
       "      <td>NaN</td>\n",
       "      <td>NaN</td>\n",
       "      <td>Yes</td>\n",
       "      <td>NaN</td>\n",
       "      <td>Scientist/Researcher</td>\n",
       "      <td>Perfectly</td>\n",
       "      <td>...</td>\n",
       "      <td>NaN</td>\n",
       "      <td>NaN</td>\n",
       "      <td>NaN</td>\n",
       "      <td>NaN</td>\n",
       "      <td>NaN</td>\n",
       "      <td>NaN</td>\n",
       "      <td>NaN</td>\n",
       "      <td>NaN</td>\n",
       "      <td>1.000000</td>\n",
       "      <td>100000.000</td>\n",
       "    </tr>\n",
       "    <tr>\n",
       "      <td>23</td>\n",
       "      <td>Male</td>\n",
       "      <td>Czech Republic</td>\n",
       "      <td>21.0</td>\n",
       "      <td>Employed part-time</td>\n",
       "      <td>NaN</td>\n",
       "      <td>NaN</td>\n",
       "      <td>Yes</td>\n",
       "      <td>NaN</td>\n",
       "      <td>Other</td>\n",
       "      <td>Fine</td>\n",
       "      <td>...</td>\n",
       "      <td>NaN</td>\n",
       "      <td>NaN</td>\n",
       "      <td>NaN</td>\n",
       "      <td>NaN</td>\n",
       "      <td>NaN</td>\n",
       "      <td>NaN</td>\n",
       "      <td>NaN</td>\n",
       "      <td>NaN</td>\n",
       "      <td>0.045820</td>\n",
       "      <td>916.400</td>\n",
       "    </tr>\n",
       "    <tr>\n",
       "      <td>25</td>\n",
       "      <td>Male</td>\n",
       "      <td>Russia</td>\n",
       "      <td>22.0</td>\n",
       "      <td>Employed full-time</td>\n",
       "      <td>NaN</td>\n",
       "      <td>NaN</td>\n",
       "      <td>Yes</td>\n",
       "      <td>NaN</td>\n",
       "      <td>Data Analyst</td>\n",
       "      <td>Fine</td>\n",
       "      <td>...</td>\n",
       "      <td>NaN</td>\n",
       "      <td>NaN</td>\n",
       "      <td>NaN</td>\n",
       "      <td>NaN</td>\n",
       "      <td>NaN</td>\n",
       "      <td>NaN</td>\n",
       "      <td>NaN</td>\n",
       "      <td>NaN</td>\n",
       "      <td>0.017402</td>\n",
       "      <td>10858.848</td>\n",
       "    </tr>\n",
       "    <tr>\n",
       "      <td>27</td>\n",
       "      <td>Male</td>\n",
       "      <td>Colombia</td>\n",
       "      <td>34.0</td>\n",
       "      <td>Employed full-time</td>\n",
       "      <td>NaN</td>\n",
       "      <td>NaN</td>\n",
       "      <td>Yes</td>\n",
       "      <td>NaN</td>\n",
       "      <td>Data Scientist</td>\n",
       "      <td>Fine</td>\n",
       "      <td>...</td>\n",
       "      <td>NaN</td>\n",
       "      <td>NaN</td>\n",
       "      <td>NaN</td>\n",
       "      <td>NaN</td>\n",
       "      <td>NaN</td>\n",
       "      <td>NaN</td>\n",
       "      <td>NaN</td>\n",
       "      <td>NaN</td>\n",
       "      <td>0.000342</td>\n",
       "      <td>53352.000</td>\n",
       "    </tr>\n",
       "    <tr>\n",
       "      <td>...</td>\n",
       "      <td>...</td>\n",
       "      <td>...</td>\n",
       "      <td>...</td>\n",
       "      <td>...</td>\n",
       "      <td>...</td>\n",
       "      <td>...</td>\n",
       "      <td>...</td>\n",
       "      <td>...</td>\n",
       "      <td>...</td>\n",
       "      <td>...</td>\n",
       "      <td>...</td>\n",
       "      <td>...</td>\n",
       "      <td>...</td>\n",
       "      <td>...</td>\n",
       "      <td>...</td>\n",
       "      <td>...</td>\n",
       "      <td>...</td>\n",
       "      <td>...</td>\n",
       "      <td>...</td>\n",
       "      <td>...</td>\n",
       "      <td>...</td>\n",
       "    </tr>\n",
       "    <tr>\n",
       "      <td>26148</td>\n",
       "      <td>Male</td>\n",
       "      <td>India</td>\n",
       "      <td>42.0</td>\n",
       "      <td>Employed full-time</td>\n",
       "      <td>NaN</td>\n",
       "      <td>NaN</td>\n",
       "      <td>Yes</td>\n",
       "      <td>NaN</td>\n",
       "      <td>Software Developer/Software Engineer</td>\n",
       "      <td>Fine</td>\n",
       "      <td>...</td>\n",
       "      <td>NaN</td>\n",
       "      <td>NaN</td>\n",
       "      <td>NaN</td>\n",
       "      <td>NaN</td>\n",
       "      <td>NaN</td>\n",
       "      <td>NaN</td>\n",
       "      <td>NaN</td>\n",
       "      <td>NaN</td>\n",
       "      <td>0.015620</td>\n",
       "      <td>54670.000</td>\n",
       "    </tr>\n",
       "    <tr>\n",
       "      <td>26151</td>\n",
       "      <td>Male</td>\n",
       "      <td>Ukraine</td>\n",
       "      <td>35.0</td>\n",
       "      <td>Employed full-time</td>\n",
       "      <td>NaN</td>\n",
       "      <td>NaN</td>\n",
       "      <td>Yes</td>\n",
       "      <td>NaN</td>\n",
       "      <td>Programmer</td>\n",
       "      <td>Perfectly</td>\n",
       "      <td>...</td>\n",
       "      <td>NaN</td>\n",
       "      <td>NaN</td>\n",
       "      <td>NaN</td>\n",
       "      <td>NaN</td>\n",
       "      <td>NaN</td>\n",
       "      <td>NaN</td>\n",
       "      <td>NaN</td>\n",
       "      <td>NaN</td>\n",
       "      <td>1.000000</td>\n",
       "      <td>12000.000</td>\n",
       "    </tr>\n",
       "    <tr>\n",
       "      <td>26159</td>\n",
       "      <td>Male</td>\n",
       "      <td>United States</td>\n",
       "      <td>39.0</td>\n",
       "      <td>Employed full-time</td>\n",
       "      <td>NaN</td>\n",
       "      <td>NaN</td>\n",
       "      <td>Yes</td>\n",
       "      <td>NaN</td>\n",
       "      <td>Other</td>\n",
       "      <td>Fine</td>\n",
       "      <td>...</td>\n",
       "      <td>NaN</td>\n",
       "      <td>NaN</td>\n",
       "      <td>NaN</td>\n",
       "      <td>NaN</td>\n",
       "      <td>NaN</td>\n",
       "      <td>NaN</td>\n",
       "      <td>NaN</td>\n",
       "      <td>NaN</td>\n",
       "      <td>1.000000</td>\n",
       "      <td>1.000</td>\n",
       "    </tr>\n",
       "    <tr>\n",
       "      <td>26180</td>\n",
       "      <td>Male</td>\n",
       "      <td>France</td>\n",
       "      <td>38.0</td>\n",
       "      <td>Employed full-time</td>\n",
       "      <td>NaN</td>\n",
       "      <td>NaN</td>\n",
       "      <td>Yes</td>\n",
       "      <td>NaN</td>\n",
       "      <td>Data Scientist</td>\n",
       "      <td>Fine</td>\n",
       "      <td>...</td>\n",
       "      <td>NaN</td>\n",
       "      <td>NaN</td>\n",
       "      <td>NaN</td>\n",
       "      <td>NaN</td>\n",
       "      <td>NaN</td>\n",
       "      <td>NaN</td>\n",
       "      <td>NaN</td>\n",
       "      <td>NaN</td>\n",
       "      <td>1.195826</td>\n",
       "      <td>65770.430</td>\n",
       "    </tr>\n",
       "    <tr>\n",
       "      <td>26185</td>\n",
       "      <td>Male</td>\n",
       "      <td>Other</td>\n",
       "      <td>56.0</td>\n",
       "      <td>Employed full-time</td>\n",
       "      <td>NaN</td>\n",
       "      <td>NaN</td>\n",
       "      <td>Yes</td>\n",
       "      <td>NaN</td>\n",
       "      <td>DBA/Database Engineer</td>\n",
       "      <td>Poorly</td>\n",
       "      <td>...</td>\n",
       "      <td>NaN</td>\n",
       "      <td>NaN</td>\n",
       "      <td>NaN</td>\n",
       "      <td>NaN</td>\n",
       "      <td>NaN</td>\n",
       "      <td>NaN</td>\n",
       "      <td>NaN</td>\n",
       "      <td>NaN</td>\n",
       "      <td>1.000000</td>\n",
       "      <td>50000.000</td>\n",
       "    </tr>\n",
       "    <tr>\n",
       "      <td>26195</td>\n",
       "      <td>Male</td>\n",
       "      <td>Germany</td>\n",
       "      <td>34.0</td>\n",
       "      <td>Employed full-time</td>\n",
       "      <td>NaN</td>\n",
       "      <td>NaN</td>\n",
       "      <td>Yes</td>\n",
       "      <td>NaN</td>\n",
       "      <td>Software Developer/Software Engineer</td>\n",
       "      <td>Fine</td>\n",
       "      <td>...</td>\n",
       "      <td>NaN</td>\n",
       "      <td>NaN</td>\n",
       "      <td>NaN</td>\n",
       "      <td>NaN</td>\n",
       "      <td>NaN</td>\n",
       "      <td>NaN</td>\n",
       "      <td>NaN</td>\n",
       "      <td>NaN</td>\n",
       "      <td>1.195826</td>\n",
       "      <td>100449.384</td>\n",
       "    </tr>\n",
       "    <tr>\n",
       "      <td>26203</td>\n",
       "      <td>Male</td>\n",
       "      <td>United States</td>\n",
       "      <td>50.0</td>\n",
       "      <td>Employed full-time</td>\n",
       "      <td>NaN</td>\n",
       "      <td>NaN</td>\n",
       "      <td>Yes</td>\n",
       "      <td>NaN</td>\n",
       "      <td>Data Scientist</td>\n",
       "      <td>Perfectly</td>\n",
       "      <td>...</td>\n",
       "      <td>NaN</td>\n",
       "      <td>NaN</td>\n",
       "      <td>NaN</td>\n",
       "      <td>NaN</td>\n",
       "      <td>NaN</td>\n",
       "      <td>NaN</td>\n",
       "      <td>NaN</td>\n",
       "      <td>NaN</td>\n",
       "      <td>1.000000</td>\n",
       "      <td>200000.000</td>\n",
       "    </tr>\n",
       "    <tr>\n",
       "      <td>26255</td>\n",
       "      <td>Male</td>\n",
       "      <td>Norway</td>\n",
       "      <td>32.0</td>\n",
       "      <td>Employed full-time</td>\n",
       "      <td>NaN</td>\n",
       "      <td>NaN</td>\n",
       "      <td>Yes</td>\n",
       "      <td>NaN</td>\n",
       "      <td>Data Analyst</td>\n",
       "      <td>Perfectly</td>\n",
       "      <td>...</td>\n",
       "      <td>NaN</td>\n",
       "      <td>NaN</td>\n",
       "      <td>NaN</td>\n",
       "      <td>NaN</td>\n",
       "      <td>NaN</td>\n",
       "      <td>NaN</td>\n",
       "      <td>NaN</td>\n",
       "      <td>NaN</td>\n",
       "      <td>1.195826</td>\n",
       "      <td>89686.950</td>\n",
       "    </tr>\n",
       "    <tr>\n",
       "      <td>26378</td>\n",
       "      <td>Male</td>\n",
       "      <td>South Korea</td>\n",
       "      <td>45.0</td>\n",
       "      <td>Independent contractor, freelancer, or self-employed</td>\n",
       "      <td>NaN</td>\n",
       "      <td>NaN</td>\n",
       "      <td>Yes</td>\n",
       "      <td>NaN</td>\n",
       "      <td>Data Scientist</td>\n",
       "      <td>Fine</td>\n",
       "      <td>...</td>\n",
       "      <td>NaN</td>\n",
       "      <td>NaN</td>\n",
       "      <td>NaN</td>\n",
       "      <td>NaN</td>\n",
       "      <td>NaN</td>\n",
       "      <td>NaN</td>\n",
       "      <td>NaN</td>\n",
       "      <td>NaN</td>\n",
       "      <td>1.000000</td>\n",
       "      <td>10000.000</td>\n",
       "    </tr>\n",
       "  </tbody>\n",
       "</table>\n",
       "<p>4229 rows × 230 columns</p>\n",
       "</div>"
      ],
      "text/plain": [
       "      GenderSelect         Country   Age  \\\n",
       "8           Female       Australia  43.0   \n",
       "9             Male          Russia  33.0   \n",
       "11            Male           India  27.0   \n",
       "14            Male          Taiwan  26.0   \n",
       "21            Male   United States  25.0   \n",
       "22            Male   United States  33.0   \n",
       "23            Male  Czech Republic  21.0   \n",
       "25            Male          Russia  22.0   \n",
       "27            Male        Colombia  34.0   \n",
       "...            ...             ...   ...   \n",
       "26148         Male           India  42.0   \n",
       "26151         Male         Ukraine  35.0   \n",
       "26159         Male   United States  39.0   \n",
       "26180         Male          France  38.0   \n",
       "26185         Male           Other  56.0   \n",
       "26195         Male         Germany  34.0   \n",
       "26203         Male   United States  50.0   \n",
       "26255         Male          Norway  32.0   \n",
       "26378         Male     South Korea  45.0   \n",
       "\n",
       "                                           EmploymentStatus StudentStatus  \\\n",
       "8                                        Employed full-time           NaN   \n",
       "9                                        Employed full-time           NaN   \n",
       "11                                       Employed full-time           NaN   \n",
       "14                                       Employed full-time           NaN   \n",
       "21                                       Employed part-time           NaN   \n",
       "22                                       Employed full-time           NaN   \n",
       "23                                       Employed part-time           NaN   \n",
       "25                                       Employed full-time           NaN   \n",
       "27                                       Employed full-time           NaN   \n",
       "...                                                     ...           ...   \n",
       "26148                                    Employed full-time           NaN   \n",
       "26151                                    Employed full-time           NaN   \n",
       "26159                                    Employed full-time           NaN   \n",
       "26180                                    Employed full-time           NaN   \n",
       "26185                                    Employed full-time           NaN   \n",
       "26195                                    Employed full-time           NaN   \n",
       "26203                                    Employed full-time           NaN   \n",
       "26255                                    Employed full-time           NaN   \n",
       "26378  Independent contractor, freelancer, or self-employed           NaN   \n",
       "\n",
       "      LearningDataScience CodeWriter CareerSwitcher  \\\n",
       "8                     NaN        Yes            NaN   \n",
       "9                     NaN        Yes            NaN   \n",
       "11                    NaN        Yes            NaN   \n",
       "14                    NaN        Yes            NaN   \n",
       "21                    NaN        Yes            NaN   \n",
       "22                    NaN        Yes            NaN   \n",
       "23                    NaN        Yes            NaN   \n",
       "25                    NaN        Yes            NaN   \n",
       "27                    NaN        Yes            NaN   \n",
       "...                   ...        ...            ...   \n",
       "26148                 NaN        Yes            NaN   \n",
       "26151                 NaN        Yes            NaN   \n",
       "26159                 NaN        Yes            NaN   \n",
       "26180                 NaN        Yes            NaN   \n",
       "26185                 NaN        Yes            NaN   \n",
       "26195                 NaN        Yes            NaN   \n",
       "26203                 NaN        Yes            NaN   \n",
       "26255                 NaN        Yes            NaN   \n",
       "26378                 NaN        Yes            NaN   \n",
       "\n",
       "                      CurrentJobTitleSelect   TitleFit  ... JobFactorTitle  \\\n",
       "8                          Business Analyst       Fine  ...            NaN   \n",
       "9      Software Developer/Software Engineer       Fine  ...            NaN   \n",
       "11                           Data Scientist       Fine  ...            NaN   \n",
       "14     Software Developer/Software Engineer       Fine  ...            NaN   \n",
       "21                               Researcher       Fine  ...            NaN   \n",
       "22                     Scientist/Researcher  Perfectly  ...            NaN   \n",
       "23                                    Other       Fine  ...            NaN   \n",
       "25                             Data Analyst       Fine  ...            NaN   \n",
       "27                           Data Scientist       Fine  ...            NaN   \n",
       "...                                     ...        ...  ...            ...   \n",
       "26148  Software Developer/Software Engineer       Fine  ...            NaN   \n",
       "26151                            Programmer  Perfectly  ...            NaN   \n",
       "26159                                 Other       Fine  ...            NaN   \n",
       "26180                        Data Scientist       Fine  ...            NaN   \n",
       "26185                 DBA/Database Engineer     Poorly  ...            NaN   \n",
       "26195  Software Developer/Software Engineer       Fine  ...            NaN   \n",
       "26203                        Data Scientist  Perfectly  ...            NaN   \n",
       "26255                          Data Analyst  Perfectly  ...            NaN   \n",
       "26378                        Data Scientist       Fine  ...            NaN   \n",
       "\n",
       "      JobFactorCompanyFunding JobFactorImpact JobFactorRemote  \\\n",
       "8                         NaN             NaN             NaN   \n",
       "9                         NaN             NaN             NaN   \n",
       "11                        NaN             NaN             NaN   \n",
       "14                        NaN             NaN             NaN   \n",
       "21                        NaN             NaN             NaN   \n",
       "22                        NaN             NaN             NaN   \n",
       "23                        NaN             NaN             NaN   \n",
       "25                        NaN             NaN             NaN   \n",
       "27                        NaN             NaN             NaN   \n",
       "...                       ...             ...             ...   \n",
       "26148                     NaN             NaN             NaN   \n",
       "26151                     NaN             NaN             NaN   \n",
       "26159                     NaN             NaN             NaN   \n",
       "26180                     NaN             NaN             NaN   \n",
       "26185                     NaN             NaN             NaN   \n",
       "26195                     NaN             NaN             NaN   \n",
       "26203                     NaN             NaN             NaN   \n",
       "26255                     NaN             NaN             NaN   \n",
       "26378                     NaN             NaN             NaN   \n",
       "\n",
       "      JobFactorIndustry JobFactorLeaderReputation JobFactorDiversity  \\\n",
       "8                   NaN                       NaN                NaN   \n",
       "9                   NaN                       NaN                NaN   \n",
       "11                  NaN                       NaN                NaN   \n",
       "14                  NaN                       NaN                NaN   \n",
       "21                  NaN                       NaN                NaN   \n",
       "22                  NaN                       NaN                NaN   \n",
       "23                  NaN                       NaN                NaN   \n",
       "25                  NaN                       NaN                NaN   \n",
       "27                  NaN                       NaN                NaN   \n",
       "...                 ...                       ...                ...   \n",
       "26148               NaN                       NaN                NaN   \n",
       "26151               NaN                       NaN                NaN   \n",
       "26159               NaN                       NaN                NaN   \n",
       "26180               NaN                       NaN                NaN   \n",
       "26185               NaN                       NaN                NaN   \n",
       "26195               NaN                       NaN                NaN   \n",
       "26203               NaN                       NaN                NaN   \n",
       "26255               NaN                       NaN                NaN   \n",
       "26378               NaN                       NaN                NaN   \n",
       "\n",
       "      JobFactorPublishingOpportunity exchangeRate AdjustedCompensation  \n",
       "8                                NaN     0.802310            64184.800  \n",
       "9                                NaN     0.017402            20882.400  \n",
       "11                               NaN     0.015620             1483.900  \n",
       "14                               NaN     0.033304            36634.400  \n",
       "21                               NaN     1.000000            20000.000  \n",
       "22                               NaN     1.000000           100000.000  \n",
       "23                               NaN     0.045820              916.400  \n",
       "25                               NaN     0.017402            10858.848  \n",
       "27                               NaN     0.000342            53352.000  \n",
       "...                              ...          ...                  ...  \n",
       "26148                            NaN     0.015620            54670.000  \n",
       "26151                            NaN     1.000000            12000.000  \n",
       "26159                            NaN     1.000000                1.000  \n",
       "26180                            NaN     1.195826            65770.430  \n",
       "26185                            NaN     1.000000            50000.000  \n",
       "26195                            NaN     1.195826           100449.384  \n",
       "26203                            NaN     1.000000           200000.000  \n",
       "26255                            NaN     1.195826            89686.950  \n",
       "26378                            NaN     1.000000            10000.000  \n",
       "\n",
       "[4229 rows x 230 columns]"
      ]
     },
     "execution_count": 159,
     "metadata": {},
     "output_type": "execute_result"
    }
   ],
   "source": [
    "df = df[~find_outliers_IQR(df['AdjustedCompensation'])]\n",
    "df"
   ]
  },
  {
   "cell_type": "code",
   "execution_count": 160,
   "metadata": {
    "ExecuteTime": {
     "end_time": "2020-01-29T00:46:05.778818Z",
     "start_time": "2020-01-29T00:46:05.305467Z"
    }
   },
   "outputs": [
    {
     "data": {
      "text/plain": [
       "<seaborn.axisgrid.FacetGrid at 0x1c32a00898>"
      ]
     },
     "execution_count": 160,
     "metadata": {},
     "output_type": "execute_result"
    },
    {
     "data": {
      "image/png": "[encoded data removed]",
      "text/plain": [
       "<Figure size 360x360 with 1 Axes>"
      ]
     },
     "metadata": {
      "needs_background": "light"
     },
     "output_type": "display_data"
    }
   ],
   "source": [
    "sns.catplot(data=df,x='FormalEducation',y='AdjustedCompensation')"
   ]
  },
  {
   "cell_type": "code",
   "execution_count": 161,
   "metadata": {
    "ExecuteTime": {
     "end_time": "2020-01-29T00:46:12.934859Z",
     "start_time": "2020-01-29T00:46:12.814085Z"
    }
   },
   "outputs": [
    {
     "data": {
      "text/html": [
       "<table class=\"simpletable\">\n",
       "<caption>Multiple Comparison of Means - Tukey HSD, FWER=0.05</caption>\n",
       "<tr>\n",
       "                           <th>group1</th>                                                       <th>group2</th>                                <th>meandiff</th>    <th>p-adj</th>    <th>lower</th>       <th>upper</th>    <th>reject</th>\n",
       "</tr>\n",
       "<tr>\n",
       "                      <td>Bachelor's degree</td>                                             <td>Doctoral degree</td>                          <td>27382.1757</td>   <td>0.001</td>  <td>20995.921</td>  <td>33768.4305</td>   <td>True</td> \n",
       "</tr>\n",
       "<tr>\n",
       "                      <td>Bachelor's degree</td>                        <td>I did not complete any formal education past high school</td>       <td>8905.2727</td>    <td>0.9</td>  <td>-17506.7297</td> <td>35317.2751</td>   <td>False</td>\n",
       "</tr>\n",
       "<tr>\n",
       "                      <td>Bachelor's degree</td>                                         <td>I prefer not to answer</td>                       <td>32939.9671</td>  <td>0.6216</td> <td>-25481.7193</td> <td>91361.6535</td>   <td>False</td>\n",
       "</tr>\n",
       "<tr>\n",
       "                      <td>Bachelor's degree</td>                                             <td>Master's degree</td>                           <td>9512.4887</td>   <td>0.001</td>  <td>4110.2045</td>  <td>14914.7728</td>   <td>True</td> \n",
       "</tr>\n",
       "<tr>\n",
       "                      <td>Bachelor's degree</td>                                           <td>Professional degree</td>                         <td>3205.1516</td>    <td>0.9</td>  <td>-10177.0428</td> <td>16587.3459</td>   <td>False</td>\n",
       "</tr>\n",
       "<tr>\n",
       "                      <td>Bachelor's degree</td>                    <td>Some college/university study without earning a bachelor's degree</td>  <td>9291.9359</td>  <td>0.4739</td> <td>-5045.6119</td>  <td>23629.4837</td>   <td>False</td>\n",
       "</tr>\n",
       "<tr>\n",
       "                       <td>Doctoral degree</td>                         <td>I did not complete any formal education past high school</td>      <td>-18476.903</td>  <td>0.3793</td> <td>-44952.1776</td>  <td>7998.3716</td>   <td>False</td>\n",
       "</tr>\n",
       "<tr>\n",
       "                       <td>Doctoral degree</td>                                          <td>I prefer not to answer</td>                        <td>5557.7914</td>    <td>0.9</td>  <td>-52892.5272</td> <td>64008.1099</td>   <td>False</td>\n",
       "</tr>\n",
       "<tr>\n",
       "                       <td>Doctoral degree</td>                                              <td>Master's degree</td>                          <td>-17869.687</td>   <td>0.001</td> <td>-23573.2798</td> <td>-12166.0943</td>  <td>True</td> \n",
       "</tr>\n",
       "<tr>\n",
       "                       <td>Doctoral degree</td>                                            <td>Professional degree</td>                        <td>-24177.0242</td>  <td>0.001</td> <td>-37683.6677</td> <td>-10670.3806</td>  <td>True</td> \n",
       "</tr>\n",
       "<tr>\n",
       "                       <td>Doctoral degree</td>                     <td>Some college/university study without earning a bachelor's degree</td> <td>-18090.2398</td> <td>0.0042</td> <td>-32544.0135</td> <td>-3636.4662</td>   <td>True</td> \n",
       "</tr>\n",
       "<tr>\n",
       "  <td>I did not complete any formal education past high school</td>                      <td>I prefer not to answer</td>                       <td>24034.6944</td>    <td>0.9</td>  <td>-39787.3187</td> <td>87856.7075</td>   <td>False</td>\n",
       "</tr>\n",
       "<tr>\n",
       "  <td>I did not complete any formal education past high school</td>                          <td>Master's degree</td>                            <td>607.216</td>     <td>0.9</td>  <td>-25648.0804</td> <td>26862.5124</td>   <td>False</td>\n",
       "</tr>\n",
       "<tr>\n",
       "  <td>I did not complete any formal education past high school</td>                        <td>Professional degree</td>                        <td>-5700.1211</td>    <td>0.9</td>  <td>-34669.7439</td> <td>23269.5016</td>   <td>False</td>\n",
       "</tr>\n",
       "<tr>\n",
       "  <td>I did not complete any formal education past high school</td> <td>Some college/university study without earning a bachelor's degree</td>  <td>386.6632</td>     <td>0.9</td>  <td>-29036.4773</td> <td>29809.8036</td>   <td>False</td>\n",
       "</tr>\n",
       "<tr>\n",
       "                   <td>I prefer not to answer</td>                                           <td>Master's degree</td>                          <td>-23427.4784</td>   <td>0.9</td>  <td>-81778.4867</td> <td>34923.5298</td>   <td>False</td>\n",
       "</tr>\n",
       "<tr>\n",
       "                   <td>I prefer not to answer</td>                                         <td>Professional degree</td>                        <td>-29734.8155</td> <td>0.7345</td> <td>-89356.4443</td> <td>29886.8132</td>   <td>False</td>\n",
       "</tr>\n",
       "<tr>\n",
       "                   <td>I prefer not to answer</td>                  <td>Some college/university study without earning a bachelor's degree</td> <td>-23648.0312</td>   <td>0.9</td>  <td>-83491.333</td>  <td>36195.2705</td>   <td>False</td>\n",
       "</tr>\n",
       "<tr>\n",
       "                       <td>Master's degree</td>                                            <td>Professional degree</td>                        <td>-6307.3371</td>  <td>0.7625</td> <td>-19377.5263</td>  <td>6762.8521</td>   <td>False</td>\n",
       "</tr>\n",
       "<tr>\n",
       "                       <td>Master's degree</td>                     <td>Some college/university study without earning a bachelor's degree</td>  <td>-220.5528</td>    <td>0.9</td>  <td>-14267.3317</td> <td>13826.2261</td>   <td>False</td>\n",
       "</tr>\n",
       "<tr>\n",
       "                     <td>Professional degree</td>                   <td>Some college/university study without earning a bachelor's degree</td>  <td>6086.7843</td>    <td>0.9</td>  <td>-12546.7996</td> <td>24720.3682</td>   <td>False</td>\n",
       "</tr>\n",
       "</table>"
      ],
      "text/plain": [
       "<class 'statsmodels.iolib.table.SimpleTable'>"
      ]
     },
     "execution_count": 161,
     "metadata": {},
     "output_type": "execute_result"
    }
   ],
   "source": [
    "import statsmodels.api as sms\n",
    "\n",
    "tukey = sms.stats.multicomp.pairwise_tukeyhsd(df['AdjustedCompensation'],df['FormalEducation'])\n",
    "tukey.summary()"
   ]
  },
  {
   "cell_type": "code",
   "execution_count": 163,
   "metadata": {
    "ExecuteTime": {
     "end_time": "2020-01-29T00:47:00.771696Z",
     "start_time": "2020-01-29T00:47:00.491022Z"
    }
   },
   "outputs": [
    {
     "data": {
      "image/png": "[encoded data removed]",
      "text/plain": [
       "<Figure size 720x432 with 1 Axes>"
      ]
     },
     "metadata": {
      "needs_background": "light"
     },
     "output_type": "display_data"
    }
   ],
   "source": [
    "tukey.plot_simultaneous();"
   ]
  },
  {
   "cell_type": "code",
   "execution_count": 153,
   "metadata": {
    "ExecuteTime": {
     "end_time": "2020-01-29T00:43:31.215731Z",
     "start_time": "2020-01-29T00:43:31.213683Z"
    }
   },
   "outputs": [],
   "source": [
    "# formula = 'AdjustedCompensation ~ C(FormalEducation) +'\n",
    "# lm = ols(formula, df).fit()\n",
    "# table = sm.stats.anova_lm(lm, typ=2)\n",
    "# print(table)"
   ]
  },
  {
   "cell_type": "markdown",
   "metadata": {},
   "source": [
    "## Additional Resources\n",
    "\n",
    "Here's the original source where the data was taken from:  \n",
    "    [Kaggle Machine Learning & Data Science Survey 2017](https://www.kaggle.com/kaggle/kaggle-survey-2017)"
   ]
  },
  {
   "cell_type": "markdown",
   "metadata": {},
   "source": [
    "## Summary\n",
    "\n",
    "In this lab, you practiced conducting actual hypothesis tests on actual data. From this, you saw how dependent results can be on the initial problem formulation, including preprocessing!"
   ]
  }
 ],
 "metadata": {
  "kernelspec": {
   "display_name": "learn-env",
   "language": "python",
   "name": "learn-env"
  },
  "language_info": {
   "codemirror_mode": {
    "name": "ipython",
    "version": 3
   },
   "file_extension": ".py",
   "mimetype": "text/x-python",
   "name": "python",
   "nbconvert_exporter": "python",
   "pygments_lexer": "ipython3",
   "version": "3.6.9"
  },
  "toc": {
   "base_numbering": 1,
   "nav_menu": {},
   "number_sections": true,
   "sideBar": true,
   "skip_h1_title": false,
   "title_cell": "Table of Contents",
   "title_sidebar": "Contents",
   "toc_cell": false,
   "toc_position": {},
   "toc_section_display": true,
   "toc_window_display": false
  }
 },
 "nbformat": 4,
 "nbformat_minor": 2
}
